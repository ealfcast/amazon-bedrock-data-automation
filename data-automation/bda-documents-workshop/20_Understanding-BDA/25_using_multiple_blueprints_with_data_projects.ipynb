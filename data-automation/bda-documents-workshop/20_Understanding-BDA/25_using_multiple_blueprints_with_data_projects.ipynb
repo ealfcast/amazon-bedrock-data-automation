{
 "cells": [
  {
   "cell_type": "markdown",
   "id": "f8c367b1-d454-4690-ad8b-661a2c48e130",
   "metadata": {},
   "source": [
    "# Using Multiple Blueprints with Projects"
   ]
  },
  {
   "cell_type": "markdown",
   "id": "413716ac-5427-4fc7-93a9-588904e315de",
   "metadata": {
    "jp-MarkdownHeadingCollapsed": true
   },
   "source": [
    "## Introduction\n",
    "\n",
    "Data projects in Amazon Bedrock data automation (BDA) provide a easy way of grouping your standard and customt output configuration for processing files. You can create a BDA project and use the ARN of the project to call the `InvokeDataAutomationAsync` API. BDA processes the input file automatically using the configuration settings defined in that project. Output is then generated based on the project's configuration. You can use a single project resource for multiple file types. \n",
    "\n",
    "You can also configure a project with Blueprints for documents (or images), to define custom output. In this notebook, we will explore the capability of using project with blueprints for processing documents. We will start with creating a project with a single blueprint and progress to add multiple blueprints (preexisting and custom) to process file with multiple documents."
   ]
  },
  {
   "cell_type": "markdown",
   "id": "18e6bcf7-9978-4ea9-89f5-370897a7a357",
   "metadata": {},
   "source": [
    "## Using projects with custom output"
   ]
  },
  {
   "cell_type": "markdown",
   "id": "f2d0d9d9-cf99-4c6e-9a25-4a6473e28cdc",
   "metadata": {},
   "source": [
    "You can configure custom output for documents by adding a new blueprint (or a preexisting blueprint from BDA global catalog) to the BDA project. If your use case has different kinds of documents then you can use  multiple blueprints for the different document kinds with the project.\n",
    "\n",
    "**Note: A project chan have up to 40 document blueprints attached.**\n",
    "\n",
    "When you attach multiple blueprints with a project, BDA would automatically find an appropriate blueprint matching using the input document. Once a matching blueprint is found, BDA generates custom output using that blueprint.\n",
    "\n",
    "Let's go through the steps to creating a project and attaching a set of blueprints to process different file types."
   ]
  },
  {
   "cell_type": "markdown",
   "id": "32087d8d-bdec-4f2d-a6be-3eac9b1b9f8c",
   "metadata": {},
   "source": [
    "## Prerequisites"
   ]
  },
  {
   "cell_type": "code",
   "execution_count": 2,
   "id": "b201923b-d528-4134-9008-8bb66fc0ee8f",
   "metadata": {
    "scrolled": true
   },
   "outputs": [
    {
     "name": "stdout",
     "output_type": "stream",
     "text": [
      "Note: you may need to restart the kernel to use updated packages.\n"
     ]
    }
   ],
   "source": [
    "pip install \"boto3>=1.35.76\" PyPDF2 --upgrade -qq"
   ]
  },
  {
   "cell_type": "markdown",
   "id": "0ecacbe4-bc6e-431b-b65d-cfdfc4fc3c46",
   "metadata": {},
   "source": [
    "## Setup"
   ]
  },
  {
   "cell_type": "markdown",
   "id": "4329ac90-4bd3-486b-ac34-1df59e4f1fd0",
   "metadata": {},
   "source": [
    "Before we get to the part where we invoke BDA with our sample artifacts, let's setup some parameters and configuration that will be used throughout this notebook"
   ]
  },
  {
   "cell_type": "code",
   "execution_count": 82,
   "id": "c1eb0e6d-6ead-4c15-ba16-d3bf9568d4bd",
   "metadata": {},
   "outputs": [
    {
     "name": "stdout",
     "output_type": "stream",
     "text": [
      "The autoreload extension is already loaded. To reload it, use:\n",
      "  %reload_ext autoreload\n"
     ]
    }
   ],
   "source": [
    "%load_ext autoreload\n",
    "%autoreload 1\n",
    "import boto3\n",
    "import json\n",
    "import pprint\n",
    "from IPython.display import JSON, display, HTML, Markdown, IFrame\n",
    "import sagemaker\n",
    "import pandas as pd\n",
    "from itables import show\n",
    "import time\n",
    "import pandas as pd\n",
    "import json\n",
    "\n",
    "import sys\n",
    "sys.path.append('..')\n",
    "\n",
    "%aimport utils.helper_functions\n",
    "%aimport utils.display_functions\n",
    "    \n",
    "from utils.helper_functions import read_s3_object, download_document, get_bucket_and_key, get_summaries, transform_custom_output,  wait_for_completion, display_html, create_or_update_blueprint\n",
    "from utils.display_functions import display_multiple, segment_view, get_view, display_collapsable\n",
    "\n",
    "\n",
    "session = sagemaker.Session()\n",
    "default_bucket = session.default_bucket()\n",
    "\n",
    "region_name = 'us-west-2'\n",
    "# Initialize Bedrock Data Automation client\n",
    "bda_client = boto3.client('bedrock-data-automation')\n",
    "bda_runtime_client = boto3.client('bedrock-data-automation-runtime')\n",
    "s3_client = boto3.client('s3')\n",
    "\n",
    "bda_s3_input_location = f's3://{default_bucket}/bda/input'\n",
    "bda_s3_output_location = f's3://{default_bucket}/bda/output'"
   ]
  },
  {
   "cell_type": "markdown",
   "id": "d4e75668-5ff7-44c7-9340-40eba7eeb653",
   "metadata": {},
   "source": [
    "## Configure IAM Permissions"
   ]
  },
  {
   "cell_type": "markdown",
   "id": "efd7ca9c-eb3f-4bf4-9b94-00484cfad709",
   "metadata": {
    "jp-MarkdownHeadingCollapsed": true
   },
   "source": [
    "\n",
    "The features being explored in the notebook require the following IAM Policies for the role being used. If you're running this notebook within SageMaker Studio in your own Account, update the default execution role for the SageMaker user profile to include the following IAM policies. \n",
    "\n",
    "```json\n",
    "[\n",
    "    {\n",
    "        \"Sid\": \"BDACreatePermissions\",\n",
    "        \"Effect\": \"Allow\",\n",
    "        \"Action\": [\n",
    "            \"bedrock:CreateDataAutomationProject\",\n",
    "            \"bedrock:CreateBlueprint\"\n",
    "        ],\n",
    "        \"Resource\": \"*\"\n",
    "    },\n",
    "    {\n",
    "        \"Sid\": \"BDAOProjectsPermissions\",\n",
    "        \"Effect\": \"Allow\",\n",
    "        \"Action\": [\n",
    "            \"bedrock:CreateDataAutomationProject\",\n",
    "            \"bedrock:UpdateDataAutomationProject\",\n",
    "            \"bedrock:GetDataAutomationProject\",\n",
    "            \"bedrock:GetDataAutomationStatus\",\n",
    "            \"bedrock:ListDataAutomationProjects\",\n",
    "            \"bedrock:InvokeDataAutomationAsync\"\n",
    "        ],\n",
    "        \"Resource\": \"arn:aws:bedrock:::data-automation-project/*\"\n",
    "    },\n",
    "    {\n",
    "        \"Sid\": \"BDABlueprintPermissions\",\n",
    "        \"Effect\": \"Allow\",\n",
    "        \"Action\": [\n",
    "            \"bedrock:GetBlueprint\",\n",
    "            \"bedrock:ListBlueprints\",\n",
    "            \"bedrock:UpdateBlueprint\",\n",
    "            \"bedrock:DeleteBlueprint\"\n",
    "        ],\n",
    "        \"Resource\": \"arn:aws:bedrock:::blueprint/*\"\n",
    "    }\n",
    "]"
   ]
  },
  {
   "cell_type": "markdown",
   "id": "74956165-60a7-4cff-862f-7c13e4f162bd",
   "metadata": {},
   "source": [
    "### View Sample Document"
   ]
  },
  {
   "cell_type": "code",
   "execution_count": 4,
   "id": "dad363d1-96d8-4a64-bfcc-abad334ab84d",
   "metadata": {},
   "outputs": [
    {
     "data": {
      "text/html": [
       "\n",
       "        <iframe\n",
       "            width=\"900\"\n",
       "            height=\"800\"\n",
       "            src=\"data/documents/claims-pack.pdf\"\n",
       "            frameborder=\"0\"\n",
       "            allowfullscreen\n",
       "            \n",
       "        ></iframe>\n",
       "        "
      ],
      "text/plain": [
       "<IPython.lib.display.IFrame at 0x7f6f3c8ebc10>"
      ]
     },
     "execution_count": 4,
     "metadata": {},
     "output_type": "execute_result"
    }
   ],
   "source": [
    "local_file_name = 'data/documents/claims-pack.pdf'\n",
    "IFrame(\"data/documents/claims-pack.pdf\", width=900, height=800)"
   ]
  },
  {
   "cell_type": "markdown",
   "id": "51596109-564c-40ee-953c-0e2d8068e514",
   "metadata": {},
   "source": [
    "### Upload sample document to S3\n",
    "For this lab, we use a CMS 1500 Medical claim for with dummy data to explore the blueprint feature of BDA. \n",
    "\n",
    "Note - We will configure BDA to use the sample input from this S3 location, so we need to ensure that BDA has `s3:GetObject` access to this S3 location. If you are running the notebook in your own AWS Account, ensure that the SageMaker Execution role configured for this JupyterLab app has the right IAM permissions."
   ]
  },
  {
   "cell_type": "code",
   "execution_count": 5,
   "id": "4f69fa37-68b7-45a0-8349-4f3066eb80d3",
   "metadata": {},
   "outputs": [],
   "source": [
    "input_bucket, input_prefix = get_bucket_and_key(bda_s3_input_location)\n",
    "s3_file_name = 'claims-pack.pdf'\n",
    "s3_response = s3_client.upload_file(local_file_name, input_bucket,\n",
    "                                    f'{input_prefix}/{s3_file_name}')"
   ]
  },
  {
   "cell_type": "markdown",
   "id": "8f537712-435c-461d-a137-ccafd70178c2",
   "metadata": {},
   "source": [
    "### Create custom blueprints for our documents (where needed)"
   ]
  },
  {
   "cell_type": "markdown",
   "id": "5707548c-1a2b-46a3-9752-9f875ddd3893",
   "metadata": {},
   "source": [
    "We will use the `create_blueprint` operation (or `update_blueprint` to update an existing blueprint) in the  `boto3` API to create/update the blueprint. You could also create/update blueprints using the AWS console. Each blueprint that you create is an AWS resource with its own blueprint ID and ARN. "
   ]
  },
  {
   "cell_type": "code",
   "execution_count": 6,
   "id": "1364d375-71b9-4ec9-b336-6c9770bf86bf",
   "metadata": {
    "editable": true,
    "slideshow": {
     "slide_type": ""
    },
    "tags": []
   },
   "outputs": [],
   "source": [
    "# create blueprint using Boto3\n",
    "blueprints = [\n",
    "    {\n",
    "        \"name\": 'claim-form',\n",
    "        \"description\": 'Blueprint for Medical Claim form CMS 1500',\n",
    "        \"type\": 'DOCUMENT',\n",
    "        \"stage\": 'LIVE',\n",
    "        \"schema_path\": 'data/blueprints/claims_form.json'\n",
    "    },\n",
    "    {\n",
    "        \"name\": 'hospital-discharge-report',\n",
    "        \"description\": 'Blueprint for Hospital discharge summary report',\n",
    "        \"type\": 'DOCUMENT',\n",
    "        \"stage\": 'LIVE',\n",
    "        \"schema_path\": 'data/blueprints/discharge_summary.json'\n",
    "    },\n",
    "    {\n",
    "        \"name\": 'medical-transcription',\n",
    "        \"description\": ' Medical Transcription',\n",
    "        \"type\": 'DOCUMENT',\n",
    "        \"stage\": 'LIVE',\n",
    "        \"schema_path\": 'data/blueprints/medical_transcription.json'\n",
    "    },\n",
    "    \n",
    "]\n",
    "\n",
    "\n"
   ]
  },
  {
   "cell_type": "code",
   "execution_count": 7,
   "id": "185c2db3-9274-49a1-9740-33ec77b1099c",
   "metadata": {
    "editable": true,
    "slideshow": {
     "slide_type": ""
    },
    "tags": []
   },
   "outputs": [
    {
     "name": "stdout",
     "output_type": "stream",
     "text": [
      "Found existing blueprint with name=claim-form, updating Stage and Schema\n",
      "Found existing blueprint with name=hospital-discharge-report, updating Stage and Schema\n",
      "Found existing blueprint with name=medical-transcription, updating Stage and Schema\n"
     ]
    }
   ],
   "source": [
    "blueprint_arns = []\n",
    "for blueprint in blueprints:\n",
    "    with open(blueprint['schema_path']) as f:\n",
    "        blueprint_schema = json.load(f)\n",
    "        blueprint_arn = create_or_update_blueprint(\n",
    "            bda_client, \n",
    "            blueprint['name'], \n",
    "            blueprint['description'], \n",
    "            blueprint['type'],\n",
    "            blueprint['stage'],\n",
    "            blueprint_schema\n",
    "        )\n",
    "        blueprint_arns += [blueprint_arn]"
   ]
  },
  {
   "cell_type": "markdown",
   "id": "dfcbe699-7d8e-4091-bd47-625f2b231214",
   "metadata": {
    "editable": true,
    "slideshow": {
     "slide_type": ""
    },
    "tags": []
   },
   "source": [
    "The `update_data_automation_project` API takes a project name, description, stage (LIVE / DEVELOPMENT), the standard output configuration and a custom output configuration as input. We are only focussing on the custom output in this notebook, so we leave the standard output configuration as empty so BDA will use the defaults. Additionally, we use a custom configuration with the arn for the recommended blueprint."
   ]
  },
  {
   "cell_type": "markdown",
   "id": "77ac2fa8-fee2-4617-a5e3-57c4e52bdd55",
   "metadata": {
    "editable": true,
    "slideshow": {
     "slide_type": ""
    },
    "tags": []
   },
   "source": [
    "### Create data project to process file with multiple document types\n",
    "With our sample S3, we can now go ahead an create our data project. Check if the project with the given name already exists, if no create a new project with given configuration otherwise update the data project with the given configuration and stage.\n",
    "\n",
    "A few points to note - \n",
    "* We have added a set of blueprints to our data project to match the document types we would expect to file in the claim pack\n",
    "* We pass the overrideConfiguration to the api call, with document splitter enabled."
   ]
  },
  {
   "cell_type": "code",
   "execution_count": 8,
   "id": "f91df435-80d2-4143-b82c-85d590da5f67",
   "metadata": {
    "editable": true,
    "slideshow": {
     "slide_type": ""
    },
    "tags": []
   },
   "outputs": [],
   "source": [
    "bda_project_name = 'document-custom-output-multiple'\n",
    "bda_project_stage = 'LIVE'\n",
    "standard_output_configuration = {\n",
    "    'document': {\n",
    "        'extraction': {\n",
    "            'granularity': {\n",
    "                'types': [\n",
    "                    'DOCUMENT', 'PAGE'\n",
    "                ]\n",
    "            },\n",
    "            'boundingBox': {\n",
    "                'state': 'ENABLED'\n",
    "            }\n",
    "        },\n",
    "        'generativeField': {\n",
    "            'state': 'ENABLED'\n",
    "        },\n",
    "        'outputFormat': {\n",
    "            'textFormat': {\n",
    "                'types': [\n",
    "                    'MARKDOWN'\n",
    "                ]\n",
    "            },\n",
    "            'additionalFileFormat': {\n",
    "                'state': 'ENABLED'\n",
    "            }\n",
    "        }\n",
    "    }\n",
    "}\n",
    "\n",
    "custom_output_configuration = {\n",
    "    \"blueprints\": [\n",
    "        {\n",
    "            'blueprintArn': 'arn:aws:bedrock:us-west-2:aws:blueprint/bedrock-data-automation-public-bank-statement',\n",
    "            'blueprintStage': 'LIVE'\n",
    "        },\n",
    "        {\n",
    "            'blueprintArn': 'arn:aws:bedrock:us-west-2:aws:blueprint/bedrock-data-automation-public-us-driver-license',\n",
    "            'blueprintStage': 'LIVE'\n",
    "        },\n",
    "        {\n",
    "            'blueprintArn': 'arn:aws:bedrock:us-west-2:aws:blueprint/bedrock-data-automation-public-invoice',\n",
    "            'blueprintStage': 'LIVE'\n",
    "        },\n",
    "        {\n",
    "            'blueprintArn': 'arn:aws:bedrock:us-west-2:aws:blueprint/bedrock-data-automation-public-prescription-label',\n",
    "            'blueprintStage': 'LIVE'\n",
    "        }\n",
    "    ]\n",
    "}\n",
    "custom_output_configuration['blueprints'] += [\n",
    "    {\n",
    "        'blueprintArn': blueprint_arn,\n",
    "        'blueprintStage': 'LIVE'\n",
    "    } for blueprint_arn in blueprint_arns\n",
    "]\n",
    "\n",
    "override_configuration={'document': {'splitter': {'state': 'ENABLED'}}}"
   ]
  },
  {
   "cell_type": "code",
   "execution_count": 9,
   "id": "c2184592-22f3-4ac4-8b3b-7c4b97a280cc",
   "metadata": {},
   "outputs": [],
   "source": [
    "list_project_response = bda_client.list_data_automation_projects(\n",
    "    projectStageFilter=bda_project_stage)\n",
    "\n",
    "project = next((project for project in list_project_response['projects']\n",
    "               if project['projectName'] == bda_project_name), None)\n",
    "\n",
    "if not project:\n",
    "    response = bda_client.create_data_automation_project(\n",
    "        projectName=bda_project_name,\n",
    "        projectDescription='A BDA Project for Standard Output from Document',\n",
    "        projectStage=bda_project_stage,\n",
    "        standardOutputConfiguration=standard_output_configuration,\n",
    "        customOutputConfiguration=custom_output_configuration,\n",
    "        overrideConfiguration=override_configuration\n",
    "    )\n",
    "else:\n",
    "    response = bda_client.update_data_automation_project(\n",
    "        projectArn=project['projectArn'],\n",
    "        standardOutputConfiguration=standard_output_configuration,\n",
    "        customOutputConfiguration=custom_output_configuration,\n",
    "        overrideConfiguration=override_configuration\n",
    "    )\n",
    "\n",
    "project_arn = response['projectArn']"
   ]
  },
  {
   "cell_type": "markdown",
   "id": "9c33cd0b-486e-4d53-ae1f-b3d094db7120",
   "metadata": {},
   "source": [
    "### Wait for create/update data project operation completion"
   ]
  },
  {
   "cell_type": "code",
   "execution_count": 10,
   "id": "b66b0ac9-27c2-4cf7-ae1c-7b1c1e90eb62",
   "metadata": {},
   "outputs": [
    {
     "name": "stdout",
     "output_type": "stream",
     "text": [
      "Operation completed successfully with status: COMPLETED\n"
     ]
    }
   ],
   "source": [
    "status_response = wait_for_completion(\n",
    "            client=bda_client,\n",
    "            get_status_function=bda_client.get_data_automation_project,\n",
    "            status_kwargs={'projectArn': project_arn},\n",
    "            completion_states=['COMPLETED'],\n",
    "            error_states=['FAILED'],\n",
    "            status_path_in_response='project.status',\n",
    "            max_iterations=15,\n",
    "            delay=30\n",
    ")"
   ]
  },
  {
   "cell_type": "markdown",
   "id": "e61d9c01-769d-4bf8-ba44-974f83860c14",
   "metadata": {},
   "source": [
    "### Invoke Data Automation Async\n",
    "With the data project configured, we can now invoke data automation for our sample document. When we submit the document for processing, BDA scans the file and splits it into individual documents based on contextand matches it against the list of blueprints provided."
   ]
  },
  {
   "cell_type": "code",
   "execution_count": 11,
   "id": "bbc098b6-7f54-4a11-ab49-55772e3c5a06",
   "metadata": {
    "editable": true,
    "slideshow": {
     "slide_type": ""
    },
    "tags": []
   },
   "outputs": [
    {
     "name": "stdout",
     "output_type": "stream",
     "text": [
      "Invoked data automation job with invocation arn arn:aws:bedrock:us-west-2:870569814485:data-automation-invocation/b2c9975b-2b87-40f8-b8c5-676127d488d3\n"
     ]
    }
   ],
   "source": [
    "response = bda_runtime_client.invoke_data_automation_async(\n",
    "    inputConfiguration={\n",
    "        's3Uri': f'{bda_s3_input_location}/{s3_file_name}'\n",
    "    },\n",
    "    outputConfiguration={\n",
    "        's3Uri': bda_s3_output_location\n",
    "    },\n",
    "    dataAutomationConfiguration={\n",
    "        'dataAutomationArn': project_arn,\n",
    "        'stage': 'LIVE'\n",
    "    }\n",
    ")\n",
    "\n",
    "invocationArn = response['invocationArn']\n",
    "print(f'Invoked data automation job with invocation arn {invocationArn}')"
   ]
  },
  {
   "cell_type": "markdown",
   "id": "fc31dda3-2cbc-49bc-ad40-876deb62ee17",
   "metadata": {},
   "source": [
    "### Get Data Automation Status\n",
    "\n",
    "We can check the status and monitor the progress of the Invocation job using the `GetDataAutomationStatus`. This API takes the invocation arn we retrieved from the response to the `InvokeDataAutomationAsync` operation above.\n",
    "\n",
    "The invocation job status moves from `Created` to `InProgress` and finally to `Success` when the job completes successfully, along with the S3 location of the results. If the job encounters and error the final status is either `ServiceError` or `ClientError` with error details"
   ]
  },
  {
   "cell_type": "code",
   "execution_count": 42,
   "id": "d2ced475-951a-4e30-9b87-c6e5e9eca474",
   "metadata": {
    "editable": true,
    "slideshow": {
     "slide_type": ""
    },
    "tags": []
   },
   "outputs": [
    {
     "name": "stdout",
     "output_type": "stream",
     "text": [
      "Operation completed successfully with status: Success\n"
     ]
    }
   ],
   "source": [
    "status_response = wait_for_completion(\n",
    "            client=bda_client,\n",
    "            get_status_function=bda_runtime_client.get_data_automation_status,\n",
    "            status_kwargs={'invocationArn': invocationArn},\n",
    "            completion_states=['Success'],\n",
    "            error_states=['ClientError', 'ServiceError'],\n",
    "            status_path_in_response='status',\n",
    "            max_iterations=15,\n",
    "            delay=30\n",
    ")\n",
    "if status_response['status'] == 'Success':\n",
    "    job_metadata_s3_location = status_response['outputConfiguration']['s3Uri']\n",
    "else:\n",
    "    raise Exception(f'Invocation Job Error, error_type={status_response[\"error_type\"]},error_message={status_response[\"error_message\"]}')"
   ]
  },
  {
   "cell_type": "markdown",
   "id": "7b8127dc-7bad-4852-a77c-3940f60d05aa",
   "metadata": {},
   "source": [
    "### Retrieve Job Metadata\n",
    "Let's retrieve the job metadata. As expected, the Job metadata contains the S3 uri's for the standard output, status of custom output \n",
    "\n",
    "The custom output status could be either of `MATCH` or `NO_MATCH`. `MATCH` indicates BDA was able to find a matching blueprint for the specific segment, 'NO_MATCH' if BDA was unable to match the segment to a blueprint associated with the project."
   ]
  },
  {
   "cell_type": "code",
   "execution_count": 103,
   "id": "21eaccd9-b44b-4b5a-bc01-ba5d13306344",
   "metadata": {
    "editable": true,
    "slideshow": {
     "slide_type": ""
    },
    "tags": []
   },
   "outputs": [
    {
     "data": {
      "application/vnd.jupyter.widget-view+json": {
       "model_id": "128eb90685274d84a4dfb4d47f34f1ea",
       "version_major": 2,
       "version_minor": 0
      },
      "text/plain": [
       "Tab(children=(Output(), Output()), selected_index=0, titles=('Raw JSON', 'Table View'))"
      ]
     },
     "metadata": {},
     "output_type": "display_data"
    }
   ],
   "source": [
    "job_metadata = json.loads(read_s3_object(job_metadata_s3_location))\n",
    "\n",
    "job_metadata_table = pd.DataFrame(job_metadata['output_metadata'][0]['segment_metadata'])\n",
    "job_metadata_json = JSON(job_metadata, root=\"job_metadata\", expanded=True)\n",
    "# Display the widget\n",
    "display_multiple([get_view(job_metadata_json), get_view(job_metadata_table)], [\"Raw JSON\", \"Table View\"])"
   ]
  },
  {
   "cell_type": "markdown",
   "id": "25a7bb59-47f5-4a26-830c-68081af25407",
   "metadata": {},
   "source": [
    "### View Segments and Matched Blueprints\n",
    "As we can see in the `job metadata`, BDA creates a segment section each for each individual document that it has identified in the file. Each segment section has details on the matched blueprint and the results of the extraction. For each segment, BDA also outputs the page indices (one or more) from the original file.\n",
    "\n",
    "We can now get the custom output corresponding to each segment and look at the insights that BDA custom output produces."
   ]
  },
  {
   "cell_type": "code",
   "execution_count": 142,
   "id": "84b6f351-a7ae-49ea-8237-ca05d02f0e16",
   "metadata": {
    "editable": true,
    "slideshow": {
     "slide_type": ""
    },
    "tags": []
   },
   "outputs": [],
   "source": [
    "asset_id = 0\n",
    "segments_metadata = next(item[\"segment_metadata\"]\n",
    "                                for item in job_metadata[\"output_metadata\"] \n",
    "                                if item['asset_id'] == asset_id)\n",
    "\n",
    "standard_outputs = [json.loads(read_s3_object(segment_metadata.get('standard_output_path')))for segment_metadata in segments_metadata]\n",
    "custom_outputs = [json.loads(read_s3_object(segment_metadata.get('custom_output_path'))) if segment_metadata.get('custom_output_status') == 'MATCH' else None for segment_metadata in segments_metadata]"
   ]
  },
  {
   "cell_type": "markdown",
   "id": "5202bc53-1180-42db-bb91-34a6b662d8c0",
   "metadata": {},
   "source": [
    "### View Custom output"
   ]
  },
  {
   "cell_type": "code",
   "execution_count": 146,
   "id": "042fc8dc-23a0-4ff9-85d0-4c2d1b65fd0f",
   "metadata": {},
   "outputs": [
    {
     "data": {
      "application/vnd.jupyter.widget-view+json": {
       "model_id": "648e29ec6e7247b9ba071579c7320939",
       "version_major": 2,
       "version_minor": 0
      },
      "text/plain": [
       "Tab(children=(Output(), Output()), selected_index=0, titles=('Raw JSON', 'Table View'))"
      ]
     },
     "metadata": {},
     "output_type": "display_data"
    }
   ],
   "source": [
    "custom_outputs_json = JSON(custom_outputs, root=\"custom_outputs\", expanded=False)\n",
    "custom_outputs_table = pd.DataFrame(get_summaries(custom_outputs))\n",
    "\n",
    "display_multiple([get_view(custom_outputs_json), get_view(custom_outputs_table.style.hide(axis='index'))], [\"Raw JSON\", \"Table View\"])"
   ]
  },
  {
   "cell_type": "code",
   "execution_count": 120,
   "id": "c4e0e13a-2dd0-4c93-bfda-2e3ec9c3c366",
   "metadata": {},
   "outputs": [
    {
     "name": "stdout",
     "output_type": "stream",
     "text": [
      "Collecting PyPDF\n",
      "  Downloading pypdf-5.2.0-py3-none-any.whl.metadata (7.2 kB)\n",
      "Downloading pypdf-5.2.0-py3-none-any.whl (298 kB)\n",
      "Installing collected packages: PyPDF\n",
      "Successfully installed PyPDF-5.2.0\n",
      "Note: you may need to restart the kernel to use updated packages.\n"
     ]
    }
   ],
   "source": [
    "pip install PyPDF"
   ]
  },
  {
   "cell_type": "code",
   "execution_count": 122,
   "id": "aff0fa1f-9f28-4fe3-bebf-1d38fccff44d",
   "metadata": {},
   "outputs": [],
   "source": [
    "from PIL import Image\n",
    "from pypdf import PdfWriter\n",
    "import os\n",
    "\n",
    "def images_to_pdf(image_paths, output_pdf):\n",
    "    # Initialize PDF writer\n",
    "    writer = PdfWriter()\n",
    "    \n",
    "    # Convert images to individual PDFs first\n",
    "    pdf_paths = []\n",
    "    \n",
    "    for i, image_path in enumerate(image_paths):\n",
    "        # Open image\n",
    "        image = Image.open(image_path)\n",
    "        # Convert to RGB if necessary\n",
    "        if image.mode != 'RGB':\n",
    "            image = image.convert('RGB')\n",
    "        # Create temporary PDF name\n",
    "        temp_pdf = f'temp_{i}.pdf'\n",
    "        # Save as PDF\n",
    "        image.save(temp_pdf, 'PDF')\n",
    "        # Append to writer\n",
    "        writer.append(temp_pdf)\n",
    "        pdf_paths.append(temp_pdf)\n",
    "    \n",
    "    # Save final PDF\n",
    "    with open(output_pdf, 'wb') as output:\n",
    "        writer.write(output)\n",
    "    \n",
    "    # Clean up temporary PDFs\n",
    "    for pdf in pdf_paths:\n",
    "        os.remove(pdf)\n",
    "        \n",
    "# Example usage\n",
    "image_list = ['data/documents/claim-form.png', 'data/documents/claim-form.png']\n",
    "images_to_pdf(image_list, 'combined_output.pdf')\n"
   ]
  },
  {
   "cell_type": "markdown",
   "id": "5c09ee6a-a1bc-45fe-9d7c-f09d28d1708c",
   "metadata": {},
   "source": [
    "### Explore Document Insights using Standard and Custom output"
   ]
  },
  {
   "cell_type": "code",
   "execution_count": 97,
   "id": "4de03732-36f1-4d78-99be-b35394a350f2",
   "metadata": {},
   "outputs": [
    {
     "data": {
      "text/html": [
       "\n",
       "    <style>\n",
       "        .scrollable-vbox {\n",
       "            max-height: 1000px;\n",
       "            overflow-y: auto;\n",
       "            overflow-x: hidden;\n",
       "        }\n",
       "        .main-container {\n",
       "            display: flex;\n",
       "            height: 1000px;  /* Match with max-height above */\n",
       "        }\n",
       "        .jupyter-widgets-output-area .p-TabBar-tab {\n",
       "            min-width: fit-content !important;\n",
       "            max-width: fit-content !important;\n",
       "            padding: 6px 10px !important;\n",
       "    </style>\n",
       "    "
      ],
      "text/plain": [
       "<IPython.core.display.HTML object>"
      ]
     },
     "metadata": {},
     "output_type": "display_data"
    },
    {
     "data": {
      "text/html": [
       "\n",
       "    <style>\n",
       "        .scrollable-vbox {\n",
       "            max-height: 1000px;\n",
       "            overflow-y: auto;\n",
       "            overflow-x: hidden;\n",
       "        }\n",
       "        .main-container {\n",
       "            display: flex;\n",
       "            height: 1000px;  /* Match with max-height above */\n",
       "        }\n",
       "        .jupyter-widgets-output-area .p-TabBar-tab {\n",
       "            min-width: fit-content !important;\n",
       "            max-width: fit-content !important;\n",
       "            padding: 6px 10px !important;\n",
       "    </style>\n",
       "    "
      ],
      "text/plain": [
       "<IPython.core.display.HTML object>"
      ]
     },
     "metadata": {},
     "output_type": "display_data"
    },
    {
     "data": {
      "text/html": [
       "\n",
       "    <style>\n",
       "        .scrollable-vbox {\n",
       "            max-height: 1000px;\n",
       "            overflow-y: auto;\n",
       "            overflow-x: hidden;\n",
       "        }\n",
       "        .main-container {\n",
       "            display: flex;\n",
       "            height: 1000px;  /* Match with max-height above */\n",
       "        }\n",
       "        .jupyter-widgets-output-area .p-TabBar-tab {\n",
       "            min-width: fit-content !important;\n",
       "            max-width: fit-content !important;\n",
       "            padding: 6px 10px !important;\n",
       "    </style>\n",
       "    "
      ],
      "text/plain": [
       "<IPython.core.display.HTML object>"
      ]
     },
     "metadata": {},
     "output_type": "display_data"
    },
    {
     "data": {
      "text/html": [
       "\n",
       "    <style>\n",
       "        .scrollable-vbox {\n",
       "            max-height: 1000px;\n",
       "            overflow-y: auto;\n",
       "            overflow-x: hidden;\n",
       "        }\n",
       "        .main-container {\n",
       "            display: flex;\n",
       "            height: 1000px;  /* Match with max-height above */\n",
       "        }\n",
       "        .jupyter-widgets-output-area .p-TabBar-tab {\n",
       "            min-width: fit-content !important;\n",
       "            max-width: fit-content !important;\n",
       "            padding: 6px 10px !important;\n",
       "    </style>\n",
       "    "
      ],
      "text/plain": [
       "<IPython.core.display.HTML object>"
      ]
     },
     "metadata": {},
     "output_type": "display_data"
    },
    {
     "data": {
      "text/html": [
       "\n",
       "    <style>\n",
       "        .scrollable-vbox {\n",
       "            max-height: 1000px;\n",
       "            overflow-y: auto;\n",
       "            overflow-x: hidden;\n",
       "        }\n",
       "        .main-container {\n",
       "            display: flex;\n",
       "            height: 1000px;  /* Match with max-height above */\n",
       "        }\n",
       "        .jupyter-widgets-output-area .p-TabBar-tab {\n",
       "            min-width: fit-content !important;\n",
       "            max-width: fit-content !important;\n",
       "            padding: 6px 10px !important;\n",
       "    </style>\n",
       "    "
      ],
      "text/plain": [
       "<IPython.core.display.HTML object>"
      ]
     },
     "metadata": {},
     "output_type": "display_data"
    },
    {
     "data": {
      "text/html": [
       "\n",
       "    <style>\n",
       "        .scrollable-vbox {\n",
       "            max-height: 1000px;\n",
       "            overflow-y: auto;\n",
       "            overflow-x: hidden;\n",
       "        }\n",
       "        .main-container {\n",
       "            display: flex;\n",
       "            height: 1000px;  /* Match with max-height above */\n",
       "        }\n",
       "        .jupyter-widgets-output-area .p-TabBar-tab {\n",
       "            min-width: fit-content !important;\n",
       "            max-width: fit-content !important;\n",
       "            padding: 6px 10px !important;\n",
       "    </style>\n",
       "    "
      ],
      "text/plain": [
       "<IPython.core.display.HTML object>"
      ]
     },
     "metadata": {},
     "output_type": "display_data"
    },
    {
     "data": {
      "text/html": [
       "\n",
       "    <style>\n",
       "        .scrollable-vbox {\n",
       "            max-height: 1000px;\n",
       "            overflow-y: auto;\n",
       "            overflow-x: hidden;\n",
       "        }\n",
       "        .main-container {\n",
       "            display: flex;\n",
       "            height: 1000px;  /* Match with max-height above */\n",
       "        }\n",
       "        .jupyter-widgets-output-area .p-TabBar-tab {\n",
       "            min-width: fit-content !important;\n",
       "            max-width: fit-content !important;\n",
       "            padding: 6px 10px !important;\n",
       "    </style>\n",
       "    "
      ],
      "text/plain": [
       "<IPython.core.display.HTML object>"
      ]
     },
     "metadata": {},
     "output_type": "display_data"
    },
    {
     "data": {
      "application/vnd.jupyter.widget-view+json": {
       "model_id": "d51a86d55199472aa3da2631be020e7c",
       "version_major": 2,
       "version_minor": 0
      },
      "text/plain": [
       "Tab(children=(HBox(children=(VBox(children=(Image(value=b'\\xff\\xd8\\xff\\xe0\\x00\\x10JFIF\\x00\\x01\\x01\\x00\\x00\\x01…"
      ]
     },
     "metadata": {},
     "output_type": "display_data"
    }
   ],
   "source": [
    "views=[]\n",
    "titles=[]\n",
    "# Use the function\n",
    "for custom_output, standard_output in zip(custom_outputs, standard_outputs):\n",
    "    result = transform_json_with_confidence(custom_output['inference_result'], custom_output['explainability_info'][0])\n",
    "    document_image_uris = [page.get('asset_metadata',{}).get('rectified_image') for page in standard_output.get('pages',[])\n",
    "    views += [segment_view(document_image_uris=document_image_uris,\n",
    "               inference_result=result)]\n",
    "    titles += [custom_output.get('matched_blueprint', {}).get('name', None)]\n",
    "display_multiple(views, titles)"
   ]
  },
  {
   "cell_type": "markdown",
   "id": "4a440677-4aba-4f0c-a5e4-138a76a27abc",
   "metadata": {},
   "source": [
    "We can now explore the custom output received from processing document."
   ]
  },
  {
   "cell_type": "markdown",
   "id": "ecc228da-0bb2-400a-ab94-6452ed2653ee",
   "metadata": {},
   "source": [
    "### Extract Standard output"
   ]
  },
  {
   "cell_type": "code",
   "execution_count": 100,
   "id": "62876339-cace-410d-bdcd-3a4a808b9c4d",
   "metadata": {},
   "outputs": [
    {
     "data": {
      "application/json": {
       "document": {
        "description": "This is a financial statement for Example Inc. Credit Union",
        "representation": {
         "markdown": "![Title: QR Code\nThe image appears to be a QR code, which is a type of two-dimensional barcode that can be scanned by a smartphone camera to access information or perform an action.](./c9020e7e-6a68-4497-bbe5-216fdc221e58.png)\n\n# Page 1 of 5 04/04/2022\n\n# DC 1090001004290\n\n# Example Inc. Credit Union\n\n# 999-99-99-99 16769 3 C 001 11 S 66 002 ALEJANDRO ROSALEZ 400 KOZEY LIGHT, WEBERBURGH, HI 29922\n\n# Your consolidated statement\n\nFor 04/04/2022\n\n![Title: Logo\nThe image appears to be a logo or icon with a geometric pattern in white against a pink background.](./06c77470-3abc-41b3-b74d-2aa64b524e4a.png)\n\nContact us\n\n![Title: example.com\nThe image appears to be an icon or logo for the website &quot;example.com&quot;.](./33c9cecc-57ac-46bc-b143-16c275de4b03.png)\n8\n\nexample.com\n\n![Title: Phone Number\nThe image shows an icon representing a telephone, along with two phone numbers: (858) LLL-0101 and (858) 555-0101.](./2c3a67bd-1e8c-4cdc-867a-e08d68030f76.png)\n(858) LLL-0101 or\n (858) 555-0101\n\nDo more with digital banking\n\nBank without having to leave home. Check your account balances, make transfers, pay bills and deposit checks with your mobile device. If you are not enrolled in digital banking, it only lakes a minute Gel started today at example.com/U.\n\nExample Bank, Member FDIC. To learn more, visit example.com/ABCXYZ ©2020 Example Inc. Credit Union.\n\nIf you are traveling outside of the USA and have concerns about accessing your account while you are traveling, please contact your Branch Banker or call us at 858-LLL-0101.\n\n## Summary of your accounts\n\n| ACCOUNT NAME                            | ACCOUNT NUMBER   | BALANCE ($)   | DETAILS ON   |\n|-----------------------------------------|------------------|---------------|--------------|\n| CHECKING                                | 003525801543     | 5,657.47      | page 1       |\n| Total checking and money market savings | accounts         | $5,657.47     |              |\n| SAVINGS                                 | 352580154336     | 53,578.24     | page 3       |\n| Total savings accounts                  |                  | $53,578.24    |              |\n\n![Title: Account Summary\nThe image appears to be an icon or symbol, possibly representing a financial account or transaction. The accompanying OCR text provides details on the user&#x27;s checking and savings accounts, including the account numbers and balances.](./58968dc5-c5b5-4628-996f-910a41fa5be3.png)\n\nChecking and money market savings accounts\n\n![Title: Checking and money market savings accounts\nThe image appears to be an icon or logo, likely representing a checking or savings account. The accompanying OCR text mentions a checking account number &quot;003525801543&quot;.](./b5926032-7cb7-4aaf-8ec7-175aa647c966.png)\n\nCHECKING 003525801543\n\nAccount summary\n\n|                                               |             |\n|-----------------------------------------------|-------------|\n| Your previous balance as of 04/04/2022        | $41,982.42  |\n| Checks                                        | 1,177.33    |\n| Other withdrawals, debits and service charges | 567.18      |\n| Deposits, credits and interest                | + 3,124.75  |\n| Your new balance as of 06/17/2020             | = $5,657.47 |\n\nAverage Posted Balance in Statement Cycle $65,360.07\n\nChecks\n\n* indicates a skip in sequential check numbers above this item\n\n| DATE         | CHECK #   | AMOUNT ($)   |\n|--------------|-----------|--------------|\n| 06/09        | 985026    | 150.00       |\n| Total checks |           | = $701.39    |\n\nDATE\tCHECK #\tAMOUNT ($)\tDATE\tCHECK #\tAMOUNT ($)\n05/26\t1401\t450.00\t06/05\t*965025\t101.39\n\nOther withdrawals, debits and service charges can be found in full statement\n\n0000667\n\nPage 1 of 1 "
        },
        "statistics": {},
        "summary": "This is a consolidated financial statement for Example Inc. Credit Union as of 04/04/2022. The document provides a summary of the customer's checking and savings accounts, including account numbers, balances, and transaction details. It also includes information about the credit union's digital banking services and contact information. The customer's name is ALEJANDRO ROSALEZ, and the document mentions Example Bank, Member FDIC."
       },
       "metadata": {
        "asset_id": "0",
        "end_page_index": 0,
        "logical_subdocument_id": "0",
        "number_of_pages": 1,
        "s3_bucket": "sagemaker-us-west-2-870569814485",
        "s3_key": "bda/input/claims-pack.pdf",
        "semantic_modality": "DOCUMENT",
        "start_page_index": 0
       },
       "pages": [
        {
         "asset_metadata": {
          "corners": [
           [
            1.45350729577101e-07,
            -0.00040023395343096894
           ],
           [
            1,
            -4.0519677212612145e-09
           ],
           [
            1.0001849304401993,
            1.0003818197998555
           ],
           [
            -0.000363164343113123,
            0.9999998433238408
           ]
          ],
          "rectified_image": "s3://sagemaker-us-west-2-870569814485/bda/output/b2c9975b-2b87-40f8-b8c5-676127d488d3/0/standard_output/0/assets/rectified_image_0.png",
          "rectified_image_height_pixels": 6235,
          "rectified_image_width_pixels": 4818
         },
         "id": "0a11e29e-cc33-40ae-8088-41ed5b1a9aa8",
         "page_index": 0,
         "representation": {
          "markdown": "![Title: QR Code\nThe image appears to be a QR code, which is a type of two-dimensional barcode that can be scanned by a smartphone camera to access information or perform an action.](./c9020e7e-6a68-4497-bbe5-216fdc221e58.png)\n\n# Page 1 of 5 04/04/2022\n\n# DC 1090001004290\n\n# Example Inc. Credit Union\n\n# 999-99-99-99 16769 3 C 001 11 S 66 002 ALEJANDRO ROSALEZ 400 KOZEY LIGHT, WEBERBURGH, HI 29922\n\n# Your consolidated statement\n\nFor 04/04/2022\n\n![Title: Logo\nThe image appears to be a logo or icon with a geometric pattern in white against a pink background.](./06c77470-3abc-41b3-b74d-2aa64b524e4a.png)\n\nContact us\n\n![Title: example.com\nThe image appears to be an icon or logo for the website &quot;example.com&quot;.](./33c9cecc-57ac-46bc-b143-16c275de4b03.png)\n8\n\nexample.com\n\n![Title: Phone Number\nThe image shows an icon representing a telephone, along with two phone numbers: (858) LLL-0101 and (858) 555-0101.](./2c3a67bd-1e8c-4cdc-867a-e08d68030f76.png)\n(858) LLL-0101 or\n (858) 555-0101\n\nDo more with digital banking\n\nBank without having to leave home. Check your account balances, make transfers, pay bills and deposit checks with your mobile device. If you are not enrolled in digital banking, it only lakes a minute Gel started today at example.com/U.\n\nExample Bank, Member FDIC. To learn more, visit example.com/ABCXYZ ©2020 Example Inc. Credit Union.\n\nIf you are traveling outside of the USA and have concerns about accessing your account while you are traveling, please contact your Branch Banker or call us at 858-LLL-0101.\n\n## Summary of your accounts\n\n| ACCOUNT NAME                            | ACCOUNT NUMBER   | BALANCE ($)   | DETAILS ON   |\n|-----------------------------------------|------------------|---------------|--------------|\n| CHECKING                                | 003525801543     | 5,657.47      | page 1       |\n| Total checking and money market savings | accounts         | $5,657.47     |              |\n| SAVINGS                                 | 352580154336     | 53,578.24     | page 3       |\n| Total savings accounts                  |                  | $53,578.24    |              |\n\n![Title: Account Summary\nThe image appears to be an icon or symbol, possibly representing a financial account or transaction. The accompanying OCR text provides details on the user&#x27;s checking and savings accounts, including the account numbers and balances.](./58968dc5-c5b5-4628-996f-910a41fa5be3.png)\n\nChecking and money market savings accounts\n\n![Title: Checking and money market savings accounts\nThe image appears to be an icon or logo, likely representing a checking or savings account. The accompanying OCR text mentions a checking account number &quot;003525801543&quot;.](./b5926032-7cb7-4aaf-8ec7-175aa647c966.png)\n\nCHECKING 003525801543\n\nAccount summary\n\n|                                               |             |\n|-----------------------------------------------|-------------|\n| Your previous balance as of 04/04/2022        | $41,982.42  |\n| Checks                                        | 1,177.33    |\n| Other withdrawals, debits and service charges | 567.18      |\n| Deposits, credits and interest                | + 3,124.75  |\n| Your new balance as of 06/17/2020             | = $5,657.47 |\n\nAverage Posted Balance in Statement Cycle $65,360.07\n\nChecks\n\n* indicates a skip in sequential check numbers above this item\n\n| DATE         | CHECK #   | AMOUNT ($)   |\n|--------------|-----------|--------------|\n| 06/09        | 985026    | 150.00       |\n| Total checks |           | = $701.39    |\n\nDATE\tCHECK #\tAMOUNT ($)\tDATE\tCHECK #\tAMOUNT ($)\n05/26\t1401\t450.00\t06/05\t*965025\t101.39\n\nOther withdrawals, debits and service charges can be found in full statement\n\n0000667\n\nPage 1 of 1"
         },
         "statistics": {}
        }
       ]
      },
      "text/plain": [
       "<IPython.core.display.JSON object>"
      ]
     },
     "execution_count": 100,
     "metadata": {
      "application/json": {
       "expanded": false,
       "root": "root"
      }
     },
     "output_type": "execute_result"
    }
   ],
   "source": [
    "JSON(standard_output)"
   ]
  },
  {
   "cell_type": "code",
   "execution_count": 102,
   "id": "3e296793-ae95-4684-aa8f-c63e9dc62dc8",
   "metadata": {},
   "outputs": [
    {
     "name": "stdout",
     "output_type": "stream",
     "text": [
      "download: s3://sagemaker-us-west-2-870569814485/bda/output/b2c9975b-2b87-40f8-b8c5-676127d488d3/0/standard_output/0/assets/rectified_image_0.png to examples/rectified_claim_form.jpeg\n"
     ]
    }
   ],
   "source": [
    "!aws s3 cp {standard_output.get('pages')[0]['asset_metadata']['rectified_image']} 'examples/rectified_claim_form.jpeg'"
   ]
  },
  {
   "cell_type": "markdown",
   "id": "c6b2ac15-9b87-4c51-9f10-d6258eef4159",
   "metadata": {},
   "source": [
    "## Clean up"
   ]
  },
  {
   "cell_type": "code",
   "execution_count": null,
   "id": "116ab1c3-94e7-4f9f-8351-e124d0231459",
   "metadata": {},
   "outputs": [],
   "source": [
    "!rm examples/rectified_claim_form.jpeg"
   ]
  },
  {
   "cell_type": "markdown",
   "id": "971734c1-8460-4700-8248-c67ee1704784",
   "metadata": {},
   "source": [
    "## Conclusion\n",
    "In this notebook, we configured a project with Blueprints for documents, to define custom output."
   ]
  },
  {
   "cell_type": "markdown",
   "id": "e6a85bdf-05f9-4814-a301-995869cb5045",
   "metadata": {},
   "source": [
    "## Next Steps"
   ]
  },
  {
   "cell_type": "markdown",
   "id": "842f9b01-d6fa-4831-b876-0af436a8513c",
   "metadata": {},
   "source": [
    "When processing documents, you might want to use multiple blueprints for different kinds of documents that are passed to your project. A project can have up to 40 document blueprints attached. BDA automatically matches your documents to the appropriate blueprint that's configured in your project, and generates custom output using that blueprint.\n",
    "\n",
    "As a next step, we will configure a project with multiple blueprints for different kinds of documents. A project can have up to 40 document blueprints attached. We will explore how BDA automatically matches your documents to the appropriate blueprint that's configured in your project, and generates custom output using that blueprint."
   ]
  },
  {
   "cell_type": "code",
   "execution_count": null,
   "id": "3a2542ea-d6c4-4c49-81e3-3822e87f12af",
   "metadata": {},
   "outputs": [],
   "source": [
    "IFrame(\"examples/sample1_cms-1500-P.pdf\", width=900, height=800)"
   ]
  }
 ],
 "metadata": {
  "kernelspec": {
   "display_name": "Python 3 (ipykernel)",
   "language": "python",
   "name": "python3"
  },
  "language_info": {
   "codemirror_mode": {
    "name": "ipython",
    "version": 3
   },
   "file_extension": ".py",
   "mimetype": "text/x-python",
   "name": "python",
   "nbconvert_exporter": "python",
   "pygments_lexer": "ipython3",
   "version": "3.11.11"
  }
 },
 "nbformat": 4,
 "nbformat_minor": 5
}
