{
 "cells": [
  {
   "cell_type": "markdown",
   "id": "f8c367b1-d454-4690-ad8b-661a2c48e130",
   "metadata": {},
   "source": [
    "# Custom output and blueprints\n"
   ]
  },
  {
   "cell_type": "markdown",
   "id": "413716ac-5427-4fc7-93a9-588904e315de",
   "metadata": {
    "jp-MarkdownHeadingCollapsed": true
   },
   "source": [
    "## Introduction\n",
    "\n",
    "In addition to the `Standard Output` Amazon Bedrock Data Automation (BDA) offers the `Custom Output` feature which lets you define the target structure for information which you want to extract or generate from documents or images. This capability is particularly useful when working with complex or specialized data. \n",
    "\n",
    "You can configure custom output in BDA by using `Blueprints`. `Blueprints` are essentially a lists of instructions and types that guide the extraction or generation of information based on your documents. This feature works in conjunction with BDA projects, enabling the processing of up to 40 document inputs and one image input. \n",
    "\n",
    "Custom outputs provide users with greater control and flexibility to derive structured information from their documents towards particular use cases or flows."
   ]
  },
  {
   "cell_type": "markdown",
   "id": "18e6bcf7-9978-4ea9-89f5-370897a7a357",
   "metadata": {},
   "source": [
    "## Blueprints"
   ]
  },
  {
   "cell_type": "markdown",
   "id": "f2d0d9d9-cf99-4c6e-9a25-4a6473e28cdc",
   "metadata": {},
   "source": [
    "You can use blueprints to configure file processing business logic in Amazon Bedrock Data Automation (BDA). Each blueprint consists of a list of field names to extract, the desired data format for each field (e.g., string, number, boolean), and natural language context for data normalization and validation rules. \n",
    "\n",
    "BDA has ready-to-use blueprints (`Catalog Blueprints`) for a number of commonly used document types such as W2, Paystub or a Receipt. Catalog blueprints are a great way to start if the document you want to extract from matches the blueprint. To extract from documents that are not matched by blueprints in the catalog you can create your own blueprints. When creating the blueprint using the AWS Console, you have the option to let BDA generate blueprint after providing a sample document and an optional prompt. You can also create the blueprint by adding individual fields or by using a JSON editor to define the JSON for the blueprint.\n",
    "\n",
    "In this notebook, we would use explore custom output using blueprints and data automation projects."
   ]
  },
  {
   "cell_type": "markdown",
   "id": "32087d8d-bdec-4f2d-a6be-3eac9b1b9f8c",
   "metadata": {},
   "source": [
    "## Prerequisites"
   ]
  },
  {
   "cell_type": "code",
   "execution_count": 25,
   "id": "b201923b-d528-4134-9008-8bb66fc0ee8f",
   "metadata": {
    "scrolled": true
   },
   "outputs": [
    {
     "name": "stdout",
     "output_type": "stream",
     "text": [
      "Note: you may need to restart the kernel to use updated packages.\n"
     ]
    }
   ],
   "source": [
    "pip install \"boto3>=1.35.76\" PyPDF2 itables --upgrade -qq"
   ]
  },
  {
   "cell_type": "markdown",
   "id": "0ecacbe4-bc6e-431b-b65d-cfdfc4fc3c46",
   "metadata": {},
   "source": [
    "## Setup"
   ]
  },
  {
   "cell_type": "markdown",
   "id": "4329ac90-4bd3-486b-ac34-1df59e4f1fd0",
   "metadata": {},
   "source": [
    "Before we get to the part where we invoke BDA with our sample artifacts, let's setup some parameters and configuration that will be used throughout this notebook"
   ]
  },
  {
   "cell_type": "code",
   "execution_count": 26,
   "id": "c1eb0e6d-6ead-4c15-ba16-d3bf9568d4bd",
   "metadata": {},
   "outputs": [
    {
     "name": "stdout",
     "output_type": "stream",
     "text": [
      "Using default execution role arn:aws:iam::762233765926:role/service-role/SageMaker-ExecutionRole-20240920T110576\n"
     ]
    }
   ],
   "source": [
    "import boto3\n",
    "import json\n",
    "import pprint\n",
    "from IPython.display import JSON, display, HTML, Markdown, IFrame\n",
    "import IPython.display as display\n",
    "import sagemaker\n",
    "from sagemaker import get_execution_role\n",
    "\n",
    "default_execution_role = get_execution_role()\n",
    "session = sagemaker.Session()\n",
    "default_bucket = session.default_bucket()\n",
    "\n",
    "region_name = 'us-west-2'\n",
    "# Initialize Bedrock Data Automation client\n",
    "bda_client = boto3.client('bedrock-data-automation')\n",
    "bda_runtime_client = boto3.client('bedrock-data-automation-runtime')\n",
    "s3_client = boto3.client('s3')\n",
    "\n",
    "bda_s3_input_location = f's3://{default_bucket}/bda/input'\n",
    "bda_s3_output_location = f's3://{default_bucket}/bda/output'\n",
    "print(f'Using default execution role {default_execution_role}')"
   ]
  },
  {
   "cell_type": "markdown",
   "id": "d4e75668-5ff7-44c7-9340-40eba7eeb653",
   "metadata": {},
   "source": [
    "## Configure IAM Permissions"
   ]
  },
  {
   "cell_type": "markdown",
   "id": "efd7ca9c-eb3f-4bf4-9b94-00484cfad709",
   "metadata": {
    "jp-MarkdownHeadingCollapsed": true
   },
   "source": [
    "\n",
    "The features being explored in the notebook require the following IAM Policies for the role being used. If you're running this notebook within SageMaker Studio in your own Account, update the default execution role for the SageMaker user profile to include the following IAM policies. \n",
    "\n",
    "```json\n",
    "[\n",
    "    {\n",
    "        \"Sid\": \"BDACreatePermissions\",\n",
    "        \"Effect\": \"Allow\",\n",
    "        \"Action\": [\n",
    "            \"bedrock:CreateDataAutomationProject\",\n",
    "            \"bedrock:CreateBlueprint\"\n",
    "        ],\n",
    "        \"Resource\": \"*\"\n",
    "    },\n",
    "    {\n",
    "        \"Sid\": \"BDAOProjectsPermissions\",\n",
    "        \"Effect\": \"Allow\",\n",
    "        \"Action\": [\n",
    "            \"bedrock:CreateDataAutomationProject\",\n",
    "            \"bedrock:UpdateDataAutomationProject\",\n",
    "            \"bedrock:GetDataAutomationProject\",\n",
    "            \"bedrock:GetDataAutomationStatus\",\n",
    "            \"bedrock:ListDataAutomationProjects\",\n",
    "            \"bedrock:InvokeDataAutomationAsync\"\n",
    "        ],\n",
    "        \"Resource\": \"arn:aws:bedrock:::data-automation-project/*\"\n",
    "    },\n",
    "    {\n",
    "        \"Sid\": \"BDABlueprintPermissions\",\n",
    "        \"Effect\": \"Allow\",\n",
    "        \"Action\": [\n",
    "            \"bedrock:GetBlueprint\",\n",
    "            \"bedrock:ListBlueprints\",\n",
    "            \"bedrock:UpdateBlueprint\",\n",
    "            \"bedrock:DeleteBlueprint\"\n",
    "        ],\n",
    "        \"Resource\": \"arn:aws:bedrock:::blueprint/*\"\n",
    "    }\n",
    "]"
   ]
  },
  {
   "cell_type": "markdown",
   "id": "db6d610b-1c8d-47cf-a787-a4cf97bf17f3",
   "metadata": {},
   "source": [
    "## Project using catalog blueprint"
   ]
  },
  {
   "cell_type": "markdown",
   "id": "69e6a8b3-097a-425f-848c-9f0ccebb29ea",
   "metadata": {},
   "source": [
    "Now that we have our sample document available in S3, let's start with using the blueprints. Bedrock offers sample blueprints for most common document types such as W2, pay stub or bank statement. To begin with, we'll use a sample bank statement "
   ]
  },
  {
   "cell_type": "markdown",
   "id": "3185afeb-73d6-48b8-afdf-6618e2b2373b",
   "metadata": {},
   "source": [
    "### View Sample Document"
   ]
  },
  {
   "cell_type": "code",
   "execution_count": 27,
   "id": "b2b1a876-189f-454b-a675-21b4ef56cc1c",
   "metadata": {},
   "outputs": [
    {
     "data": {
      "text/html": [
       "\n",
       "        <iframe\n",
       "            width=\"640\"\n",
       "            height=\"480\"\n",
       "            src=\"data/documents/BankStatement.pdf\"\n",
       "            frameborder=\"0\"\n",
       "            allowfullscreen\n",
       "            \n",
       "        ></iframe>\n",
       "        "
      ],
      "text/plain": [
       "<IPython.lib.display.IFrame at 0x7f71f11b8d90>"
      ]
     },
     "execution_count": 27,
     "metadata": {},
     "output_type": "execute_result"
    }
   ],
   "source": [
    "document_local = \"data/documents/BankStatement.pdf\"\n",
    "IFrame(document_local, width=640, height=480)"
   ]
  },
  {
   "cell_type": "markdown",
   "id": "c99abeb5-f0e8-4189-829e-7f4654e58e19",
   "metadata": {},
   "source": [
    "### Upload sample document to S3\n",
    "For this lab, we use a CMS 1500 Medical claim for with dummy data to explore the blueprint feature of BDA. \n",
    "\n",
    "Note - We will configure BDA to use the sample input from this S3 location, so we need to ensure that BDA has `s3:GetObject` access to this S3 location. If you are running the notebook in your own AWS Account, ensure that the SageMaker Execution role configured for this JupyterLab app has the right IAM permissions."
   ]
  },
  {
   "cell_type": "code",
   "execution_count": 28,
   "id": "7ea65c28-200e-4de0-8aa4-31b00c6cefcf",
   "metadata": {},
   "outputs": [
    {
     "name": "stdout",
     "output_type": "stream",
     "text": [
      "The autoreload extension is already loaded. To reload it, use:\n",
      "  %reload_ext autoreload\n"
     ]
    }
   ],
   "source": [
    "%load_ext autoreload\n",
    "%autoreload 1\n",
    "import sys\n",
    "sys.path.append('..')\n",
    "%aimport utils.helper_functions \n",
    "from utils.helper_functions import wait_for_job_to_complete, read_s3_object, download_document, get_bucket_and_key, wait_for_completion, display_html\n",
    "\n",
    "input_bucket, input_prefix = get_bucket_and_key(bda_s3_input_location)\n",
    "local_file_name = 'data/documents/BankStatement.pdf'\n",
    "s3_file_name = 'BankStatement.pdf'\n",
    "s3_response = s3_client.upload_file(local_file_name, input_bucket,\n",
    "                                    f'{input_prefix}/{s3_file_name}')"
   ]
  },
  {
   "cell_type": "markdown",
   "id": "50fa40f1-70e9-4edc-a97b-666ff24484d9",
   "metadata": {},
   "source": [
    "### List blueprints in the Catalog\n",
    "Let's view the blueprints that BDA offers in the catalog of sample blueprints"
   ]
  },
  {
   "cell_type": "code",
   "execution_count": 31,
   "id": "8ac15ad7-2c8d-41ed-904a-5e2a8018b63d",
   "metadata": {},
   "outputs": [
    {
     "data": {
      "text/html": [
       "<table id=\"itables_95166855_3643_4f4e_b280_52fff2eaffac\" class=\"display nowrap\" data-quarto-disable-processing=\"true\" style=\"table-layout:auto;width:auto;margin:auto;caption-side:bottom\">\n",
       "<thead>\n",
       "    <tr style=\"text-align: right;\">\n",
       "      \n",
       "      <th>blueprintName</th>\n",
       "      <th>blueprintArn</th>\n",
       "    </tr>\n",
       "  </thead><tbody><tr>\n",
       "<td style=\"vertical-align:middle; text-align:left\">\n",
       "<a href=https://mwouts.github.io/itables/><svg class=\"main-svg\" xmlns=\"http://www.w3.org/2000/svg\" xmlns:xlink=\"http://www.w3.org/1999/xlink\"\n",
       "width=\"64\" viewBox=\"0 0 500 400\" style=\"font-family: 'Droid Sans', sans-serif;\">\n",
       "    <g style=\"fill:#d9d7fc\">\n",
       "        <path d=\"M100,400H500V357H100Z\" />\n",
       "        <path d=\"M100,300H400V257H100Z\" />\n",
       "        <path d=\"M0,200H400V157H0Z\" />\n",
       "        <path d=\"M100,100H500V57H100Z\" />\n",
       "        <path d=\"M100,350H500V307H100Z\" />\n",
       "        <path d=\"M100,250H400V207H100Z\" />\n",
       "        <path d=\"M0,150H400V107H0Z\" />\n",
       "        <path d=\"M100,50H500V7H100Z\" />\n",
       "    </g>\n",
       "    <g style=\"fill:#1a1366;stroke:#1a1366;\">\n",
       "   <rect x=\"100\" y=\"7\" width=\"400\" height=\"43\">\n",
       "    <animate\n",
       "      attributeName=\"width\"\n",
       "      values=\"0;400;0\"\n",
       "      dur=\"5s\"\n",
       "      repeatCount=\"indefinite\" />\n",
       "      <animate\n",
       "      attributeName=\"x\"\n",
       "      values=\"100;100;500\"\n",
       "      dur=\"5s\"\n",
       "      repeatCount=\"indefinite\" />\n",
       "  </rect>\n",
       "        <rect x=\"0\" y=\"107\" width=\"400\" height=\"43\">\n",
       "    <animate\n",
       "      attributeName=\"width\"\n",
       "      values=\"0;400;0\"\n",
       "      dur=\"3.5s\"\n",
       "      repeatCount=\"indefinite\" />\n",
       "    <animate\n",
       "      attributeName=\"x\"\n",
       "      values=\"0;0;400\"\n",
       "      dur=\"3.5s\"\n",
       "      repeatCount=\"indefinite\" />\n",
       "  </rect>\n",
       "        <rect x=\"100\" y=\"207\" width=\"300\" height=\"43\">\n",
       "    <animate\n",
       "      attributeName=\"width\"\n",
       "      values=\"0;300;0\"\n",
       "      dur=\"3s\"\n",
       "      repeatCount=\"indefinite\" />\n",
       "    <animate\n",
       "      attributeName=\"x\"\n",
       "      values=\"100;100;400\"\n",
       "      dur=\"3s\"\n",
       "      repeatCount=\"indefinite\" />\n",
       "  </rect>\n",
       "        <rect x=\"100\" y=\"307\" width=\"400\" height=\"43\">\n",
       "    <animate\n",
       "      attributeName=\"width\"\n",
       "      values=\"0;400;0\"\n",
       "      dur=\"4s\"\n",
       "      repeatCount=\"indefinite\" />\n",
       "      <animate\n",
       "      attributeName=\"x\"\n",
       "      values=\"100;100;500\"\n",
       "      dur=\"4s\"\n",
       "      repeatCount=\"indefinite\" />\n",
       "  </rect>\n",
       "        <g style=\"fill:transparent;stroke-width:8; stroke-linejoin:round\" rx=\"5\">\n",
       "            <g transform=\"translate(45 50) rotate(-45)\">\n",
       "                <circle r=\"33\" cx=\"0\" cy=\"0\" />\n",
       "                <rect x=\"-8\" y=\"32\" width=\"16\" height=\"30\" />\n",
       "            </g>\n",
       "\n",
       "            <g transform=\"translate(450 152)\">\n",
       "                <polyline points=\"-15,-20 -35,-20 -35,40 25,40 25,20\" />\n",
       "                <rect x=\"-15\" y=\"-40\" width=\"60\" height=\"60\" />\n",
       "            </g>\n",
       "\n",
       "            <g transform=\"translate(50 352)\">\n",
       "                <polygon points=\"-35,-5 0,-40 35,-5\" />\n",
       "                <polygon points=\"-35,10 0,45 35,10\" />\n",
       "            </g>\n",
       "\n",
       "            <g transform=\"translate(75 250)\">\n",
       "                <polyline points=\"-30,30 -60,0 -30,-30\" />\n",
       "                <polyline points=\"0,30 -30,0 0,-30\" />\n",
       "            </g>\n",
       "\n",
       "            <g transform=\"translate(425 250) rotate(180)\">\n",
       "                <polyline points=\"-30,30 -60,0 -30,-30\" />\n",
       "                <polyline points=\"0,30 -30,0 0,-30\" />\n",
       "            </g>\n",
       "        </g>\n",
       "    </g>\n",
       "</svg>\n",
       "</a>\n",
       "Loading ITables v2.2.4 from the internet...\n",
       "(need <a href=https://mwouts.github.io/itables/troubleshooting.html>help</a>?)</td>\n",
       "</tr></tbody>\n",
       "</table>\n",
       "<link href=\"https://www.unpkg.com/dt_for_itables@2.0.13/dt_bundle.css\" rel=\"stylesheet\">\n",
       "<script type=\"module\">\n",
       "    import {DataTable, jQuery as $} from 'https://www.unpkg.com/dt_for_itables@2.0.13/dt_bundle.js';\n",
       "\n",
       "    document.querySelectorAll(\"#itables_95166855_3643_4f4e_b280_52fff2eaffac:not(.dataTable)\").forEach(table => {\n",
       "        if (!(table instanceof HTMLTableElement))\n",
       "            return;\n",
       "\n",
       "        // Define the table data\n",
       "        const data = [[\"Advertisement\", \"arn:aws:bedrock:us-west-2:aws:blueprint/bedrock-data-automation-public-advertisement\"], [\"General-Image\", \"arn:aws:bedrock:us-west-2:aws:blueprint/bedrock-data-automation-public-general-image\"], [\"Birth-Certificate\", \"arn:aws:bedrock:us-west-2:aws:blueprint/bedrock-data-automation-public-birth-certificate\"], [\"HOA-Statement\", \"arn:aws:bedrock:us-west-2:aws:blueprint/bedrock-data-automation-public-hoa-statement\"], [\"Payslip\", \"arn:aws:bedrock:us-west-2:aws:blueprint/bedrock-data-automation-public-payslip\"], [\"Form-W9\", \"arn:aws:bedrock:us-west-2:aws:blueprint/bedrock-data-automation-public-form-w9\"], [\"US-Passport\", \"arn:aws:bedrock:us-west-2:aws:blueprint/bedrock-data-automation-public-us-passport\"], [\"US-Medical-Insurance-Card\", \"arn:aws:bedrock:us-west-2:aws:blueprint/bedrock-data-automation-public-us-medical-insurance-card\"], [\"Canada-Driver-License\", \"arn:aws:bedrock:us-west-2:aws:blueprint/bedrock-data-automation-public-canada-driver-license\"], [\"Covid-Vaccination-Card\", \"arn:aws:bedrock:us-west-2:aws:blueprint/bedrock-data-automation-public-covid-vaccination-card\"], [\"Form-1098\", \"arn:aws:bedrock:us-west-2:aws:blueprint/bedrock-data-automation-public-form-1098\"], [\"Receipt\", \"arn:aws:bedrock:us-west-2:aws:blueprint/bedrock-data-automation-public-receipt\"], [\"Invoice\", \"arn:aws:bedrock:us-west-2:aws:blueprint/bedrock-data-automation-public-invoice\"], [\"Electricity-Bill\", \"arn:aws:bedrock:us-west-2:aws:blueprint/bedrock-data-automation-public-electricity-bill\"], [\"US-Driver-License\", \"arn:aws:bedrock:us-west-2:aws:blueprint/bedrock-data-automation-public-us-driver-license\"], [\"Form-940\", \"arn:aws:bedrock:us-west-2:aws:blueprint/bedrock-data-automation-public-form-940\"], [\"Form-1005\", \"arn:aws:bedrock:us-west-2:aws:blueprint/bedrock-data-automation-public-form-1005\"], [\"Form-1040\", \"arn:aws:bedrock:us-west-2:aws:blueprint/bedrock-data-automation-public-form-1040\"], [\"US-Marriage-Certificate\", \"arn:aws:bedrock:us-west-2:aws:blueprint/bedrock-data-automation-public-us-marriage-certificate\"], [\"Form-941\", \"arn:aws:bedrock:us-west-2:aws:blueprint/bedrock-data-automation-public-form-941\"], [\"Form-1099-INT\", \"arn:aws:bedrock:us-west-2:aws:blueprint/bedrock-data-automation-public-form-1099-int\"], [\"Form-1040-Schedule-C\", \"arn:aws:bedrock:us-west-2:aws:blueprint/bedrock-data-automation-public-form-1040-schedule-c\"], [\"US-Bank-Check\", \"arn:aws:bedrock:us-west-2:aws:blueprint/bedrock-data-automation-public-us-bank-check\"], [\"Water-And-Sewer-Bill\", \"arn:aws:bedrock:us-west-2:aws:blueprint/bedrock-data-automation-public-water-and-sewer-bill\"], [\"Dental-Insurance-Card\", \"arn:aws:bedrock:us-west-2:aws:blueprint/bedrock-data-automation-public-dental-insurance-card\"], [\"Property_Tax_Statement\", \"arn:aws:bedrock:us-west-2:aws:blueprint/bedrock-data-automation-public-property-tax-statement\"], [\"Bank-Statement\", \"arn:aws:bedrock:us-west-2:aws:blueprint/bedrock-data-automation-public-bank-statement\"], [\"US-College-ID\", \"arn:aws:bedrock:us-west-2:aws:blueprint/bedrock-data-automation-public-us-college-id\"], [\"US-Vehicle-Title-Document\", \"arn:aws:bedrock:us-west-2:aws:blueprint/bedrock-data-automation-public-us-vehicle-title-document\"], [\"Demographic-Addendum\", \"arn:aws:bedrock:us-west-2:aws:blueprint/bedrock-data-automation-public-demographic-addendum\"], [\"Form-1099-MISC\", \"arn:aws:bedrock:us-west-2:aws:blueprint/bedrock-data-automation-public-form-1099-misc\"], [\"Prescription-Label\", \"arn:aws:bedrock:us-west-2:aws:blueprint/bedrock-data-automation-public-prescription-label\"], [\"W2-Form\", \"arn:aws:bedrock:us-west-2:aws:blueprint/bedrock-data-automation-public-w2-form\"], [\"Cable-Bill\", \"arn:aws:bedrock:us-west-2:aws:blueprint/bedrock-data-automation-public-cable-bill\"], [\"Credit-Card-Statement\", \"arn:aws:bedrock:us-west-2:aws:blueprint/bedrock-data-automation-public-credit-card-statement\"], [\"Death-Certificate\", \"arn:aws:bedrock:us-west-2:aws:blueprint/bedrock-data-automation-public-death-certificate\"], [\"Workers-Compensation-Form\", \"arn:aws:bedrock:us-west-2:aws:blueprint/bedrock-data-automation-public-workers-compensation-form\"]];\n",
       "\n",
       "        // Define the dt_args\n",
       "        let dt_args = {\"layout\": {\"topStart\": \"pageLength\", \"topEnd\": \"search\", \"bottomStart\": \"info\", \"bottomEnd\": \"paging\"}, \"order\": [], \"warn_on_selected_rows_not_rendered\": true};\n",
       "        dt_args[\"data\"] = data;\n",
       "\n",
       "        \n",
       "        new DataTable(table, dt_args);\n",
       "    });\n",
       "</script>\n"
      ],
      "text/plain": [
       "<IPython.core.display.HTML object>"
      ]
     },
     "metadata": {},
     "output_type": "display_data"
    }
   ],
   "source": [
    "import pandas as pd\n",
    "from itables import show\n",
    "list_blueprints_response = bda_client.list_blueprints(resourceOwner='SERVICE')\n",
    "df = pd.DataFrame(list_blueprints_response['blueprints'])[['blueprintName','blueprintArn']]\n",
    "show(df)"
   ]
  },
  {
   "cell_type": "markdown",
   "id": "fb8ac1bc-b37a-48f4-8327-34eaeea1d9fd",
   "metadata": {},
   "source": [
    "### Invoke Blueprint Recommendation\n",
    "With our sample ready, we can have BDA recommend a blueprint for our sample document from the sample set."
   ]
  },
  {
   "cell_type": "code",
   "execution_count": 32,
   "id": "5b042b63-ed79-4ea2-8764-92fecd574f9a",
   "metadata": {},
   "outputs": [
    {
     "name": "stdout",
     "output_type": "stream",
     "text": [
      "Sending request to https://bedrock-data-automation.us-west-2.amazonaws.com/invokeBlueprintRecommendationAsync\n"
     ]
    }
   ],
   "source": [
    "from utils.helper_functions import invoke_blueprint_recommendation_async, get_blueprint_recommendation\n",
    "import json\n",
    "inputConfiguration = {\n",
    "    \"inputDataConfiguration\":{\n",
    "        \"s3Uri\":f'{bda_s3_input_location}/{s3_file_name}'\n",
    "    }\n",
    "}\n",
    "response = invoke_blueprint_recommendation_async(bda_client=bda_client,\n",
    "                                      region_name=region_name, \n",
    "                                      payload=json.dumps(inputConfiguration))\n",
    "\n",
    "job_id = response['jobId']"
   ]
  },
  {
   "cell_type": "markdown",
   "id": "7a51588f-1b3a-429a-841c-94a2d8e65742",
   "metadata": {},
   "source": [
    "### Wait for blueprint recommendation results"
   ]
  },
  {
   "cell_type": "code",
   "execution_count": 33,
   "id": "811dd9d0-2c91-4b0a-97e1-390ab3bf78f2",
   "metadata": {},
   "outputs": [
    {
     "name": "stdout",
     "output_type": "stream",
     "text": [
      "Operation completed successfully with status: Completed\n"
     ]
    }
   ],
   "source": [
    "status_response = wait_for_completion(\n",
    "            client=None,\n",
    "            get_status_function=get_blueprint_recommendation,\n",
    "            status_kwargs={\n",
    "                'bda_client': bda_client,\n",
    "                'job_id': job_id,\n",
    "                'region_name': region_name,\n",
    "                'credentials': boto3.Session().get_credentials().get_frozen_credentials(),\n",
    "            },\n",
    "            completion_states=['Completed'],\n",
    "            error_states=['ClientError', 'ServiceError'],\n",
    "            status_path_in_response='status',\n",
    "            max_iterations=15,\n",
    "            delay=30\n",
    ")"
   ]
  },
  {
   "cell_type": "markdown",
   "id": "9d8dc1dd-0842-4dd3-8678-2c25bc46817e",
   "metadata": {},
   "source": [
    "### Identify Blueprint\n",
    "BDA outputs a blueprint recommendation along with a prompt recommendation that is useful to create a custom blueprint, if needed.\n",
    "\n",
    "For this example, we will fetch the blueprint that was recommended by BDA."
   ]
  },
  {
   "cell_type": "code",
   "execution_count": 34,
   "id": "db4efd46-c440-45de-80e5-51e9ab3b2ebf",
   "metadata": {},
   "outputs": [],
   "source": [
    "blueprint_recommendation = next((result for result in status_response['results'] if result['type'] == 'BLUEPRINT_RECOMMENDATION'),None)"
   ]
  },
  {
   "cell_type": "code",
   "execution_count": 35,
   "id": "6a4606d2-0a57-4fb3-a059-42ad9811b51b",
   "metadata": {},
   "outputs": [
    {
     "data": {
      "application/json": {
       "documentClass": {
        "type": "Bank-Statement"
       },
       "matchedBlueprint": {
        "blueprintArn": "arn:aws:bedrock:us-west-2:aws:blueprint/bedrock-data-automation-public-bank-statement",
        "confidence": 0.9937200546264648,
        "name": "Bank-Statement"
       },
       "schema": "{\"documentClass\":\"Bank-Statement\",\"description\":\"A financial statement for a bank account listing transaction summaries for a specific duration\",\"definitions\":{\"SummaryItem\":{\"properties\":{\"summary_desc\":{\"type\":\"string\",\"inferenceType\":\"extractive\",\"description\":\"Description of the line item for the account summary table\"},\"summary_amount\":{\"type\":\"number\",\"inferenceType\":\"extractive\",\"description\":\"Dollar amount for the corresponding summary item\"}}},\"TransactionItem\":{\"properties\":{\"date\":{\"type\":\"string\",\"inferenceType\":\"generative\",\"description\":\"Date of the transaction in MM/DD/YYYY format\"},\"description\":{\"type\":\"string\",\"inferenceType\":\"extractive\",\"description\":\"Description of the transaction item\"},\"withdrawals\":{\"type\":\"number\",\"inferenceType\":\"extractive\",\"description\":\"dollar amount of withdrawal for this transaction\"},\"deposits\":{\"type\":\"number\",\"inferenceType\":\"extractive\",\"description\":\"Dollar amount of deposits for this transaction\"},\"balance\":{\"type\":\"number\",\"inferenceType\":\"extractive\",\"description\":\"Balance amount in the account including this transaction\"}}}},\"properties\":{\"account_number\":{\"type\":\"string\",\"inferenceType\":\"extractive\",\"description\":\"The account number for which the statement is prepared\"},\"branch_transit_number\":{\"type\":\"string\",\"inferenceType\":\"extractive\",\"description\":\"The branch transit number\"},\"account_summary\":{\"type\":\"array\",\"items\":{\"$ref\":\"#/definitions/SummaryItem\"}},\"account_holder_name\":{\"type\":\"string\",\"inferenceType\":\"extractive\",\"description\":\"Name of the bank account holder\"},\"account_holder_address\":{\"type\":\"string\",\"inferenceType\":\"extractive\",\"description\":\"Full address of the account holder including street, city, state and zip code\"},\"bank_name\":{\"type\":\"string\",\"inferenceType\":\"extractive\",\"description\":\"Name of the finanical institution \"},\"account_type\":{\"type\":\"string\",\"inferenceType\":\"extractive\",\"description\":\"Type of the bank account, such as \\u0027Checking\\u0027, \\u0027Savings\\u0027, etc.\"},\"transaction_details\":{\"type\":\"array\",\"items\":{\"$ref\":\"#/definitions/TransactionItem\"}},\"statement_start_date\":{\"type\":\"string\",\"inferenceType\":\"generative\",\"description\":\"Statement start date in MM/DD/YYYY format\"},\"statement_end_date\":{\"type\":\"string\",\"inferenceType\":\"generative\",\"description\":\"End date for the statement in MM/DD/YYYY format\"}}}",
       "type": "DOCUMENT"
      },
      "text/plain": [
       "<IPython.core.display.JSON object>"
      ]
     },
     "execution_count": 35,
     "metadata": {
      "application/json": {
       "expanded": true,
       "root": "blueprintRecommendation"
      }
     },
     "output_type": "execute_result"
    }
   ],
   "source": [
    "JSON(blueprint_recommendation['blueprintRecommendation'], root='blueprintRecommendation', expanded=True)"
   ]
  },
  {
   "cell_type": "markdown",
   "id": "ee716eab-c6a6-48d3-9b1e-596088421126",
   "metadata": {},
   "source": [
    "### Blueprint Schema\n",
    "\n",
    "Now that we have identified the matching Blueprint, we can view the blueprint schema. The blueprint schema describes the data structure that contains fields, which in turn contain the information extracted by BDA custom output. There are two types of fields—explicit and implicit—located in the extraction table. Explicit extractions are used for clearly stated information that can be seen in the document. Implicit extractions are used for information that need to be transformed from how they appear in the document"
   ]
  },
  {
   "cell_type": "code",
   "execution_count": 37,
   "id": "d80ce3ed-43d0-480b-82a7-60dc3b3a66dc",
   "metadata": {},
   "outputs": [
    {
     "data": {
      "application/json": {
       "definitions": {
        "SummaryItem": {
         "properties": {
          "summary_amount": {
           "description": "Dollar amount for the corresponding summary item",
           "inferenceType": "extractive",
           "type": "number"
          },
          "summary_desc": {
           "description": "Description of the line item for the account summary table",
           "inferenceType": "extractive",
           "type": "string"
          }
         }
        },
        "TransactionItem": {
         "properties": {
          "balance": {
           "description": "Balance amount in the account including this transaction",
           "inferenceType": "extractive",
           "type": "number"
          },
          "date": {
           "description": "Date of the transaction in MM/DD/YYYY format",
           "inferenceType": "generative",
           "type": "string"
          },
          "deposits": {
           "description": "Dollar amount of deposits for this transaction",
           "inferenceType": "extractive",
           "type": "number"
          },
          "description": {
           "description": "Description of the transaction item",
           "inferenceType": "extractive",
           "type": "string"
          },
          "withdrawals": {
           "description": "dollar amount of withdrawal for this transaction",
           "inferenceType": "extractive",
           "type": "number"
          }
         }
        }
       },
       "description": "A financial statement for a bank account listing transaction summaries for a specific duration",
       "documentClass": "Bank-Statement",
       "properties": {
        "account_holder_address": {
         "description": "Full address of the account holder including street, city, state and zip code",
         "inferenceType": "extractive",
         "type": "string"
        },
        "account_holder_name": {
         "description": "Name of the bank account holder",
         "inferenceType": "extractive",
         "type": "string"
        },
        "account_number": {
         "description": "The account number for which the statement is prepared",
         "inferenceType": "extractive",
         "type": "string"
        },
        "account_summary": {
         "items": {
          "$ref": "#/definitions/SummaryItem"
         },
         "type": "array"
        },
        "account_type": {
         "description": "Type of the bank account, such as 'Checking', 'Savings', etc.",
         "inferenceType": "extractive",
         "type": "string"
        },
        "bank_name": {
         "description": "Name of the finanical institution ",
         "inferenceType": "extractive",
         "type": "string"
        },
        "branch_transit_number": {
         "description": "The branch transit number",
         "inferenceType": "extractive",
         "type": "string"
        },
        "statement_end_date": {
         "description": "End date for the statement in MM/DD/YYYY format",
         "inferenceType": "generative",
         "type": "string"
        },
        "statement_start_date": {
         "description": "Statement start date in MM/DD/YYYY format",
         "inferenceType": "generative",
         "type": "string"
        },
        "transaction_details": {
         "items": {
          "$ref": "#/definitions/TransactionItem"
         },
         "type": "array"
        }
       }
      },
      "text/plain": [
       "<IPython.core.display.JSON object>"
      ]
     },
     "execution_count": 37,
     "metadata": {
      "application/json": {
       "expanded": false,
       "root": "Schema"
      }
     },
     "output_type": "execute_result"
    }
   ],
   "source": [
    "JSON(json.loads(blueprint_recommendation['blueprintRecommendation']['schema']), root='Schema', expanded=False)"
   ]
  },
  {
   "cell_type": "code",
   "execution_count": 38,
   "id": "c35d5c00-4f03-40c9-a801-489c3e2a0ddc",
   "metadata": {},
   "outputs": [],
   "source": [
    "blueprint_arn = blueprint_recommendation['blueprintRecommendation']['matchedBlueprint']['blueprintArn']"
   ]
  },
  {
   "cell_type": "markdown",
   "id": "5030a111-40d3-4bae-94cf-4e6af0703843",
   "metadata": {},
   "source": [
    "### Invoke Data Automation Async\n",
    "Now that we have identified a blueprint, we can proceed to invoke data automation. Note that in addition to the input and output configuration we also provide the blueprint id when calling the `invoke_data_automation_async` operation."
   ]
  },
  {
   "cell_type": "code",
   "execution_count": 39,
   "id": "ee8aecc6-ad76-4dbe-8e70-e49bc7acf3d0",
   "metadata": {},
   "outputs": [
    {
     "name": "stdout",
     "output_type": "stream",
     "text": [
      "Invoked data automation job with invocation arn arn:aws:bedrock:us-west-2:762233765926:data-automation-invocation/1f18fb18-fc0b-4a13-bec6-ecf7faaac9b2\n"
     ]
    }
   ],
   "source": [
    "response = bda_runtime_client.invoke_data_automation_async(\n",
    "    inputConfiguration={\n",
    "        's3Uri': f'{bda_s3_input_location}/{s3_file_name}'\n",
    "    },\n",
    "    outputConfiguration={\n",
    "        's3Uri': bda_s3_output_location\n",
    "    },\n",
    "    blueprints=[\n",
    "        {\n",
    "            'blueprintArn': blueprint_arn\n",
    "        }\n",
    "    ]\n",
    ")\n",
    "\n",
    "invocationArn = response['invocationArn']\n",
    "print(f'Invoked data automation job with invocation arn {invocationArn}')"
   ]
  },
  {
   "cell_type": "markdown",
   "id": "71f95361-153f-4b17-9aab-2a19ce0cf0a7",
   "metadata": {},
   "source": [
    "### Get Data Automation Status\n",
    "\n",
    "We can check the status and monitor the progress of the Invocation job using the `GetDataAutomationStatus`. This API takes the invocation arn we retrieved from the response to the `InvokeDataAutomationAsync` operation above.\n",
    "\n",
    "The invocation job status moves from `Created` to `InProgress` and finally to `Success` when the job completes successfully, along with the S3 location of the results. If the job encounters and error the final status is either `ServiceError` or `ClientError` with error details"
   ]
  },
  {
   "cell_type": "code",
   "execution_count": 40,
   "id": "011297d7-196a-4fb7-ba45-cb215940fdca",
   "metadata": {
    "editable": true,
    "slideshow": {
     "slide_type": ""
    },
    "tags": []
   },
   "outputs": [
    {
     "name": "stdout",
     "output_type": "stream",
     "text": [
      "Current status: InProgress. Waiting...\n",
      "Operation completed successfully with status: Success\n"
     ]
    }
   ],
   "source": [
    "status_response = wait_for_completion(\n",
    "            client=bda_client,\n",
    "            get_status_function=bda_runtime_client.get_data_automation_status,\n",
    "            status_kwargs={'invocationArn': invocationArn},\n",
    "            completion_states=['Success'],\n",
    "            error_states=['ClientError', 'ServiceError'],\n",
    "            status_path_in_response='status',\n",
    "            max_iterations=15,\n",
    "            delay=30\n",
    ")\n",
    "if status_response['status'] == 'Success':\n",
    "    job_metadata_s3_location = status_response['outputConfiguration']['s3Uri']\n",
    "else:\n",
    "    raise Exception(f'Invocation Job Error, error_type={status_response[\"error_type\"]},error_message={status_response[\"error_message\"]}')"
   ]
  },
  {
   "cell_type": "markdown",
   "id": "fcbc3c58-be7a-4839-8561-bea57cd2e6c5",
   "metadata": {},
   "source": [
    "### Extract Custom output"
   ]
  },
  {
   "cell_type": "code",
   "execution_count": 41,
   "id": "8e845bdd-039b-4310-a21f-b6d46b711d8c",
   "metadata": {},
   "outputs": [
    {
     "data": {
      "application/json": {
       "job_id": "1f18fb18-fc0b-4a13-bec6-ecf7faaac9b2",
       "job_status": "PROCESSED",
       "output_metadata": [
        {
         "asset_id": 0,
         "segment_metadata": [
          {
           "custom_output_path": "s3://sagemaker-us-west-2-762233765926/bda/output/1f18fb18-fc0b-4a13-bec6-ecf7faaac9b2/0/custom_output/0/result.json",
           "custom_output_status": "MATCH",
           "standard_output_path": "s3://sagemaker-us-west-2-762233765926/bda/output/1f18fb18-fc0b-4a13-bec6-ecf7faaac9b2/0/standard_output/0/result.json"
          }
         ]
        }
       ],
       "semantic_modality": "DOCUMENT"
      },
      "text/plain": [
       "<IPython.core.display.JSON object>"
      ]
     },
     "execution_count": 41,
     "metadata": {
      "application/json": {
       "expanded": true,
       "root": "job_metadata"
      }
     },
     "output_type": "execute_result"
    }
   ],
   "source": [
    "job_metadata = json.loads(read_s3_object(job_metadata_s3_location))\n",
    "JSON(job_metadata, root='job_metadata', expanded=True)"
   ]
  },
  {
   "cell_type": "markdown",
   "id": "1891c8b9-703c-4017-af8a-d95f25bce3b7",
   "metadata": {},
   "source": [
    "### Explore Custom output using Blueprint \n",
    "We can now explore the custom output received from processing documents using the blueprint we used for the Data Automation job.\n",
    "\n",
    "Note,that Standard output is always produced.\n",
    "\n",
    "Let's break down the main sections of this JSON output from Bedrock Data Automation:"
   ]
  },
  {
   "cell_type": "code",
   "execution_count": 42,
   "id": "1f4cfbf7-d7a7-4a29-aed1-317f6091b04c",
   "metadata": {},
   "outputs": [],
   "source": [
    "asset_id = 0\n",
    "custom_output_path = next(item[\"segment_metadata\"][0][\"custom_output_path\"] \n",
    "                                for item in job_metadata[\"output_metadata\"] \n",
    "                                if item['asset_id'] == asset_id)\n",
    "custom_output = json.loads(read_s3_object(custom_output_path))"
   ]
  },
  {
   "cell_type": "code",
   "execution_count": 43,
   "id": "1331ee2b-1ce2-4921-a2fd-0c391404cd0a",
   "metadata": {},
   "outputs": [
    {
     "data": {
      "application/json": {
       "document_class": {
        "type": "Bank-Statement"
       },
       "explainability_info": [
        {
         "account_holder_address": {
          "confidence": 0.8046875,
          "geometry": [
           {
            "boundingBox": {
             "height": 0.03287789724789569,
             "left": 0.17789834524846823,
             "top": 0.18184654041368892,
             "width": 0.35310573953322155
            },
            "page": 1,
            "vertices": [
             {
              "x": 0.17789834524846823,
              "y": 0.18188214917272666
             },
             {
              "x": 0.5309952568998998,
              "y": 0.18184654041368892
             },
             {
              "x": 0.5310040847816898,
              "y": 0.2146887241959477
             },
             {
              "x": 0.17790278585855554,
              "y": 0.2147244376615846
             }
            ]
           }
          ],
          "success": true,
          "type": "string",
          "value": "884 LUCRETIA SPRINGS, ROHANPORT, IL 71453-2806"
         },
         "account_holder_name": {
          "confidence": 0.890625,
          "geometry": [
           {
            "boundingBox": {
             "height": 0.009532788806038639,
             "left": 0.17875456174488122,
             "top": 0.19115107906256923,
             "width": 0.09673438773487594
            },
            "page": 1,
            "vertices": [
             {
              "x": 0.17875456174488122,
              "y": 0.19116084233850575
             },
             {
              "x": 0.2754873102800355,
              "y": 0.19115107906256923
             },
             {
              "x": 0.27548894947975716,
              "y": 0.20067409627516955
             },
             {
              "x": 0.17875585243467845,
              "y": 0.20068386786860787
             }
            ]
           }
          ],
          "success": true,
          "type": "string",
          "value": "MARY MAJOR"
         },
         "account_number": {
          "confidence": 0.73828125,
          "geometry": [
           {
            "boundingBox": {
             "height": 0.008557331794054712,
             "left": 0.32171367810248347,
             "top": 0.4998156072750529,
             "width": 0.08721790857474387
            },
            "page": 1,
            "vertices": [
             {
              "x": 0.32171367810248347,
              "y": 0.49982465207223814
             },
             {
              "x": 0.40892968392167733,
              "y": 0.4998156072750529
             },
             {
              "x": 0.40893158667722734,
              "y": 0.508363887539515
             },
             {
              "x": 0.3217152988310071,
              "y": 0.5083729390691076
             }
            ]
           }
          ],
          "success": true,
          "type": "string",
          "value": "007871893283"
         },
         "account_summary": [
          {
           "summary_amount": {
            "confidence": 0.8046875,
            "geometry": [
             {
              "boundingBox": {
               "height": 0.02590099094546916,
               "left": 0.3764689493273355,
               "top": 0.6495352359549232,
               "width": 0.08380670227176834
              },
              "page": 1,
              "vertices": [
               {
                "x": 0.3764689493273355,
                "y": 0.6495440393471175
               },
               {
                "x": 0.46026938578374477,
                "y": 0.6495352359549232
               },
               {
                "x": 0.46027565159910383,
                "y": 0.6754274039135459
               },
               {
                "x": 0.37647439440256547,
                "y": 0.6754362269003924
               }
              ]
             }
            ],
            "success": true,
            "type": "number",
            "value": 18893.02
           },
           "summary_desc": {
            "confidence": 0.8828125,
            "geometry": [
             {
              "boundingBox": {
               "height": 0.014198556961270481,
               "left": 0.07986813940651667,
               "top": 0.6495440393471175,
               "width": 0.29660378928839143
              },
              "page": 1,
              "vertices": [
               {
                "x": 0.07986813940651667,
                "y": 0.6495751978155614
               },
               {
                "x": 0.3764689493273355,
                "y": 0.6495440393471175
               },
               {
                "x": 0.3764719286949081,
                "y": 0.6637113998925548
               },
               {
                "x": 0.07986952930016399,
                "y": 0.6637425963083879
               }
              ]
             }
            ],
            "success": true,
            "type": "string",
            "value": "Your previous balance as of 03/02/2022"
           }
          },
          {
           "summary_amount": {
            "confidence": 0.84375,
            "geometry": [
             {
              "boundingBox": {
               "height": 0.011733641121539184,
               "left": 0.3764719286949081,
               "top": 0.6637025857788532,
               "width": 0.08380372290419574
              },
              "page": 1,
              "vertices": [
               {
                "x": 0.3764719286949081,
                "y": 0.6637113998925548
               },
               {
                "x": 0.46027281423354727,
                "y": 0.6637025857788532
               },
               {
                "x": 0.46027565159910383,
                "y": 0.6754274039135459
               },
               {
                "x": 0.37647439440256547,
                "y": 0.6754362269003924
               }
              ]
             }
            ],
            "success": true,
            "type": "number",
            "value": 1829.1
           },
           "summary_desc": {
            "confidence": 0.890625,
            "geometry": [
             {
              "boundingBox": {
               "height": 0.012244581208297078,
               "left": 0.07986943344495144,
               "top": 0.6627343356696608,
               "width": 0.2966048582193583
              },
              "page": 1,
              "vertices": [
               {
                "x": 0.07986943344495144,
                "y": 0.6627655294684064
               },
               {
                "x": 0.3764717232202572,
                "y": 0.6627343356696608
               },
               {
                "x": 0.37647429166430973,
                "y": 0.6749476903653424
               },
               {
                "x": 0.07987063164020099,
                "y": 0.6749789168779579
               }
              ]
             }
            ],
            "success": true,
            "type": "string",
            "value": "Checks"
           }
          },
          {
           "summary_amount": {
            "confidence": 0.828125,
            "geometry": [
             {
              "boundingBox": {
               "height": 0.011245208604254708,
               "left": 0.37647429166430973,
               "top": 0.6749388677482133,
               "width": 0.0838039608753301
              },
              "page": 1,
              "vertices": [
               {
                "x": 0.37647429166430973,
                "y": 0.6749476903653424
               },
               {
                "x": 0.46027553337503657,
                "y": 0.6749388677482133
               },
               {
                "x": 0.46027825253963983,
                "y": 0.6861752452317674
               },
               {
                "x": 0.37647665465379787,
                "y": 0.686184076352468
               }
              ]
             }
            ],
            "success": true,
            "type": "number",
            "value": 671.81
           },
           "summary_desc": {
            "confidence": 0.83203125,
            "geometry": [
             {
              "boundingBox": {
               "height": 0.012244715125465433,
               "left": 0.07987053578417362,
               "top": 0.6739706178369111,
               "width": 0.29660611886962424
              },
              "page": 1,
              "vertices": [
               {
                "x": 0.07987053578417362,
                "y": 0.6740018417323951
               },
               {
                "x": 0.3764740861879122,
                "y": 0.6739706178369111
               },
               {
                "x": 0.37647665465379787,
                "y": 0.686184076352468
               },
               {
                "x": 0.07987173398960846,
                "y": 0.6862153329623766
               }
              ]
             }
            ],
            "success": true,
            "type": "string",
            "value": "Other withdrawals, debits and service charges"
           }
          },
          {
           "summary_amount": {
            "confidence": 0.84375,
            "geometry": [
             {
              "boundingBox": {
               "height": 0.012222397601728496,
               "left": 0.3764765519147068,
               "top": 0.6856867050941745,
               "width": 0.08380453803872806
              },
              "page": 1,
              "vertices": [
               {
                "x": 0.3764765519147068,
                "y": 0.6856955358451517
               },
               {
                "x": 0.4602781343146113,
                "y": 0.6856867050941745
               },
               {
                "x": 0.46028108995343486,
                "y": 0.6979002627017562
               },
               {
                "x": 0.3764791204033751,
                "y": 0.697909102695903
               }
              ]
             }
            ],
            "success": true,
            "type": "number",
            "value": 5606.74
           },
           "summary_desc": {
            "confidence": 0.78515625,
            "geometry": [
             {
              "boundingBox": {
               "height": 0.01175630307566522,
               "left": 0.07987163813276628,
               "top": 0.685206995518394,
               "width": 0.296607276790642
              },
              "page": 1,
              "vertices": [
               {
                "x": 0.07987163813276628,
                "y": 0.6852382495111264
               },
               {
                "x": 0.37647644917565365,
                "y": 0.685206995518394
               },
               {
                "x": 0.3764789149234083,
                "y": 0.696932013194958
               },
               {
                "x": 0.0798727884195492,
                "y": 0.6969632985940593
               }
              ]
             }
            ],
            "success": true,
            "type": "string",
            "value": "Deposits, credits and interest"
           }
          },
          {
           "summary_amount": {
            "confidence": 0.8671875,
            "geometry": [
             {
              "boundingBox": {
               "height": 0.023947739945683777,
               "left": 0.3764789149234083,
               "top": 0.6969231739402711,
               "width": 0.08380773170494737
              },
              "page": 1,
              "vertices": [
               {
                "x": 0.3764789149234083,
                "y": 0.696932013194958
               },
               {
                "x": 0.46028085350132397,
                "y": 0.6969231739402711
               },
               {
                "x": 0.46028664662835567,
                "y": 0.7208620565141881
               },
               {
                "x": 0.37648394922631984,
                "y": 0.7208709138859549
               }
              ]
             }
            ],
            "success": true,
            "type": "number",
            "value": 18189.84
           },
           "summary_desc": {
            "confidence": 0.7734375,
            "geometry": [
             {
              "boundingBox": {
               "height": 0.012733527264375377,
               "left": 0.07987269256192758,
               "top": 0.6959549244162568,
               "width": 0.29660868813110697
              },
              "page": 1,
              "vertices": [
               {
                "x": 0.07987269256192758,
                "y": 0.6959862071981394
               },
               {
                "x": 0.37647870944359335,
                "y": 0.6959549244162568
               },
               {
                "x": 0.37648138069303455,
                "y": 0.708657134874606
               },
               {
                "x": 0.07987393871653542,
                "y": 0.7086884516806322
               }
              ]
             }
            ],
            "success": true,
            "type": "string",
            "value": "Your new balance as of 06/17/2020"
           }
          }
         ],
         "account_type": {
          "confidence": 0.6953125,
          "geometry": [
           {
            "boundingBox": {
             "height": 0.007333394799209636,
             "left": 0.08754874808497085,
             "top": 0.4971560430916651,
             "width": 0.060710297344135106
            },
            "page": 1,
            "vertices": [
             {
              "x": 0.08754874808497085,
              "y": 0.4971623375350863
             },
             {
              "x": 0.14825813700410773,
              "y": 0.4971560430916651
             },
             {
              "x": 0.14825904542910595,
              "y": 0.5044831394306412
             },
             {
              "x": 0.08754948824066572,
              "y": 0.5044894378908747
             }
            ]
           }
          ],
          "success": true,
          "type": "string",
          "value": "CHECKING"
         },
         "bank_name": {
          "confidence": 0.55078125,
          "geometry": [
           {
            "boundingBox": {
             "height": 0.01002187115279829,
             "left": 0.09010359812309719,
             "top": 0.3957990941568179,
             "width": 0.08684784600836863
            },
            "page": 1,
            "vertices": [
             {
              "x": 0.09010359812309719,
              "y": 0.39580801939606863
             },
             {
              "x": 0.17695009398223444,
              "y": 0.3957990941568179
             },
             {
              "x": 0.17695144413146582,
              "y": 0.4058120322181598
             },
             {
              "x": 0.09010461930891088,
              "y": 0.4058209653096162
             }
            ]
           }
          ],
          "success": true,
          "type": "string",
          "value": "Example Bank"
         },
         "branch_transit_number": {
          "confidence": 0.75390625,
          "success": true,
          "type": "string",
          "value": ""
         },
         "statement_end_date": {
          "confidence": 0.71875,
          "type": "string",
          "value": ""
         },
         "statement_start_date": {
          "confidence": 0.890625,
          "geometry": [
           {
            "boundingBox": {
             "height": 0.011978854680809947,
             "left": 0.09235367472594545,
             "top": 0.3020186813904711,
             "width": 0.12757974061785204
            },
            "page": 1,
            "vertices": [
             {
              "x": 0.09235367472594545,
              "y": 0.30203168504644706
             },
             {
              "x": 0.21993160723786873,
              "y": 0.3020186813904711
             },
             {
              "x": 0.2199334153437975,
              "y": 0.31398451863110083
             },
             {
              "x": 0.09235490531081487,
              "y": 0.31399753607128106
             }
            ]
           }
          ],
          "type": "string",
          "value": "03/02/2022"
         },
         "transaction_details": [
          {
           "balance": {
            "confidence": 0.85546875,
            "success": true,
            "type": "number",
            "value": ""
           },
           "date": {
            "confidence": 0.61328125,
            "geometry": [
             {
              "boundingBox": {
               "height": 0.01173162196673172,
               "left": 0.07902506607259265,
               "top": 0.7726843725423219,
               "width": 0.0546088956746829
              },
              "page": 1,
              "vertices": [
               {
                "x": 0.07902506607259265,
                "y": 0.7726901696084204
               },
               {
                "x": 0.13363257298091014,
                "y": 0.7726843725423219
               },
               {
                "x": 0.13363396174727554,
                "y": 0.7844101916601991
               },
               {
                "x": 0.07902621264269198,
                "y": 0.7844159945090536
               }
              ]
             }
            ],
            "success": true,
            "type": "string",
            "value": "05/26/2022"
           },
           "deposits": {
            "confidence": 0.859375,
            "success": true,
            "type": "number",
            "value": ""
           },
           "description": {
            "confidence": 0.8203125,
            "success": true,
            "type": "string",
            "value": ""
           },
           "withdrawals": {
            "confidence": 0.83203125,
            "success": true,
            "type": "number",
            "value": ""
           }
          },
          {
           "balance": {
            "confidence": 0,
            "success": true,
            "type": "number",
            "value": ""
           },
           "date": {
            "confidence": 0.79296875,
            "geometry": [
             {
              "boundingBox": {
               "height": 0.0068432460316351085,
               "left": 0.36159164812437766,
               "top": 0.7765655681628324,
               "width": 0.0300538294744373
              },
              "page": 1,
              "vertices": [
               {
                "x": 0.36159164812437766,
                "y": 0.7765687595398123
               },
               {
                "x": 0.3916439999574624,
                "y": 0.7765655681628324
               },
               {
                "x": 0.39164547759881496,
                "y": 0.7834056209610599
               },
               {
                "x": 0.3615930480143546,
                "y": 0.7834088141944675
               }
              ]
             }
            ],
            "success": true,
            "type": "string",
            "value": "06/05/2022"
           },
           "deposits": {
            "confidence": 0,
            "success": true,
            "type": "number",
            "value": ""
           },
           "description": {
            "confidence": 0,
            "success": true,
            "type": "string",
            "value": ""
           },
           "withdrawals": {
            "confidence": 0,
            "success": true,
            "type": "number",
            "value": ""
           }
          },
          {
           "balance": {
            "confidence": 0,
            "success": true,
            "type": "number",
            "value": ""
           },
           "date": {
            "confidence": 0.796875,
            "geometry": [
             {
              "boundingBox": {
               "height": 0.011243009392138292,
               "left": 0.6406145815998346,
               "top": 0.779464807919964,
               "width": 0.05424432266797474
              },
              "page": 1,
              "vertices": [
               {
                "x": 0.6406145815998346,
                "y": 0.7794705693720383
               },
               {
                "x": 0.6948551879400308,
                "y": 0.779464807919964
               },
               {
                "x": 0.6948589042678094,
                "y": 0.7907020503554145
               },
               {
                "x": 0.6406180673841128,
                "y": 0.7907078173121023
               }
              ]
             }
            ],
            "success": true,
            "type": "string",
            "value": "06/09/2022"
           },
           "deposits": {
            "confidence": 0,
            "success": true,
            "type": "number",
            "value": ""
           },
           "description": {
            "confidence": 0,
            "success": true,
            "type": "string",
            "value": ""
           },
           "withdrawals": {
            "confidence": 0,
            "success": true,
            "type": "number",
            "value": ""
           }
          }
         ]
        }
       ],
       "inference_result": {
        "account_holder_address": "884 LUCRETIA SPRINGS, ROHANPORT, IL 71453-2806",
        "account_holder_name": "MARY MAJOR",
        "account_number": "007871893283",
        "account_summary": [
         {
          "summary_amount": 18893.02,
          "summary_desc": "Your previous balance as of 03/02/2022"
         },
         {
          "summary_amount": 1829.1,
          "summary_desc": "Checks"
         },
         {
          "summary_amount": 671.81,
          "summary_desc": "Other withdrawals, debits and service charges"
         },
         {
          "summary_amount": 5606.74,
          "summary_desc": "Deposits, credits and interest"
         },
         {
          "summary_amount": 18189.84,
          "summary_desc": "Your new balance as of 06/17/2020"
         }
        ],
        "account_type": "CHECKING",
        "bank_name": "Example Bank",
        "branch_transit_number": "",
        "statement_end_date": "",
        "statement_start_date": "03/02/2022",
        "transaction_details": [
         {
          "balance": "",
          "date": "05/26/2022",
          "deposits": "",
          "description": "",
          "withdrawals": ""
         },
         {
          "balance": "",
          "date": "06/05/2022",
          "deposits": "",
          "description": "",
          "withdrawals": ""
         },
         {
          "balance": "",
          "date": "06/09/2022",
          "deposits": "",
          "description": "",
          "withdrawals": ""
         }
        ]
       },
       "matched_blueprint": {
        "arn": "arn:aws:bedrock:us-west-2:aws:blueprint/bedrock-data-automation-public-bank-statement",
        "confidence": 1,
        "name": "Bank-Statement"
       },
       "split_document": {
        "page_indices": [
         0
        ]
       }
      },
      "text/plain": [
       "<IPython.core.display.JSON object>"
      ]
     },
     "execution_count": 43,
     "metadata": {
      "application/json": {
       "expanded": false,
       "root": "root"
      }
     },
     "output_type": "execute_result"
    }
   ],
   "source": [
    "JSON(custom_output)"
   ]
  },
  {
   "cell_type": "markdown",
   "id": "74159020-57e7-448b-bbd3-8d5fe7b305e6",
   "metadata": {},
   "source": [
    "#### _matched_blueprint_\n",
    "\n",
    "- Contains information about the template used for analysis\n",
    "- Includes the ARN, name (\"Bank-Statement\"), and confidence score for the match.\n",
    "\n",
    "The confidence score is the degree of certainty with which BDA has matched the provided document to a blueprint.\n",
    "\n",
    "Note: Since we passed in the blueprint arn in the `invoke_data_automation_async` BDA uses the blueprint with that Arn and hence the confidence score is 1. Later in this notebook, when using projects, we will see an example where BDA determines a blueprint for a document from a configured set of blueprints."
   ]
  },
  {
   "cell_type": "code",
   "execution_count": 44,
   "id": "fa44c714-a039-4df9-a30a-4fb8128b5aa3",
   "metadata": {},
   "outputs": [
    {
     "data": {
      "application/json": {
       "arn": "arn:aws:bedrock:us-west-2:aws:blueprint/bedrock-data-automation-public-bank-statement",
       "confidence": 1,
       "name": "Bank-Statement"
      },
      "text/plain": [
       "<IPython.core.display.JSON object>"
      ]
     },
     "execution_count": 44,
     "metadata": {
      "application/json": {
       "expanded": false,
       "root": "matched_blueprint"
      }
     },
     "output_type": "execute_result"
    }
   ],
   "source": [
    "JSON(custom_output['matched_blueprint'], root='matched_blueprint')"
   ]
  },
  {
   "cell_type": "markdown",
   "id": "a2a02792-bbf1-407a-8320-3874469c4876",
   "metadata": {},
   "source": [
    "#### _document class_"
   ]
  },
  {
   "cell_type": "code",
   "execution_count": 45,
   "id": "08711afa-3226-4dbd-88c9-5ef056a1d68a",
   "metadata": {},
   "outputs": [
    {
     "data": {
      "application/json": {
       "type": "Bank-Statement"
      },
      "text/plain": [
       "<IPython.core.display.JSON object>"
      ]
     },
     "execution_count": 45,
     "metadata": {
      "application/json": {
       "expanded": false,
       "root": "document_class"
      }
     },
     "output_type": "execute_result"
    }
   ],
   "source": [
    "JSON(custom_output['document_class'], root='document_class')"
   ]
  },
  {
   "cell_type": "markdown",
   "id": "226628e3-6358-48ca-a434-937a0dcb0d99",
   "metadata": {},
   "source": [
    "#### _inference_results_\n",
    "\n",
    "Inference results section contain the data BDA extracted from the document using the blueprint provided."
   ]
  },
  {
   "cell_type": "code",
   "execution_count": 46,
   "id": "1eec0335-2c49-4f9d-ac78-7200bd6822a9",
   "metadata": {},
   "outputs": [
    {
     "data": {
      "application/json": {
       "account_holder_address": "884 LUCRETIA SPRINGS, ROHANPORT, IL 71453-2806",
       "account_holder_name": "MARY MAJOR",
       "account_number": "007871893283",
       "account_summary": [
        {
         "summary_amount": 18893.02,
         "summary_desc": "Your previous balance as of 03/02/2022"
        },
        {
         "summary_amount": 1829.1,
         "summary_desc": "Checks"
        },
        {
         "summary_amount": 671.81,
         "summary_desc": "Other withdrawals, debits and service charges"
        },
        {
         "summary_amount": 5606.74,
         "summary_desc": "Deposits, credits and interest"
        },
        {
         "summary_amount": 18189.84,
         "summary_desc": "Your new balance as of 06/17/2020"
        }
       ],
       "account_type": "CHECKING",
       "bank_name": "Example Bank",
       "branch_transit_number": "",
       "statement_end_date": "",
       "statement_start_date": "03/02/2022",
       "transaction_details": [
        {
         "balance": "",
         "date": "05/26/2022",
         "deposits": "",
         "description": "",
         "withdrawals": ""
        },
        {
         "balance": "",
         "date": "06/05/2022",
         "deposits": "",
         "description": "",
         "withdrawals": ""
        },
        {
         "balance": "",
         "date": "06/09/2022",
         "deposits": "",
         "description": "",
         "withdrawals": ""
        }
       ]
      },
      "text/plain": [
       "<IPython.core.display.JSON object>"
      ]
     },
     "execution_count": 46,
     "metadata": {
      "application/json": {
       "expanded": false,
       "root": "inference_result"
      }
     },
     "output_type": "execute_result"
    }
   ],
   "source": [
    "JSON(custom_output['inference_result'], root='inference_result')"
   ]
  },
  {
   "cell_type": "markdown",
   "id": "db8db55c-7073-4101-8f6e-a0956ca38843",
   "metadata": {},
   "source": [
    "#### _explainability_info"
   ]
  },
  {
   "cell_type": "markdown",
   "id": "dad691f3-aba5-4b81-a1e4-8969538983a0",
   "metadata": {},
   "source": [
    "---"
   ]
  },
  {
   "cell_type": "markdown",
   "id": "b4114bad-396d-40bd-ab63-87a521f656d0",
   "metadata": {},
   "source": [
    "## Custom output using custom blueprint"
   ]
  },
  {
   "cell_type": "markdown",
   "id": "2d03ba6b-80a7-43f2-b006-5076f206abef",
   "metadata": {},
   "source": [
    "For documents and images that aren't in the catalog, you can create custom blueprints. In the following example, we will extract data from a sample medical claim form along using a blueprint that we create."
   ]
  },
  {
   "cell_type": "markdown",
   "id": "a0f89ca4-0cb0-4a6f-82e0-bace894ee004",
   "metadata": {},
   "source": [
    "### View Sample Document"
   ]
  },
  {
   "cell_type": "code",
   "execution_count": 49,
   "id": "3a2542ea-d6c4-4c49-81e3-3822e87f12af",
   "metadata": {},
   "outputs": [
    {
     "data": {
      "text/html": [
       "\n",
       "        <iframe\n",
       "            width=\"900\"\n",
       "            height=\"800\"\n",
       "            src=\"data/documents/sample1_cms-1500-P.pdf\"\n",
       "            frameborder=\"0\"\n",
       "            allowfullscreen\n",
       "            \n",
       "        ></iframe>\n",
       "        "
      ],
      "text/plain": [
       "<IPython.lib.display.IFrame at 0x7f71ea929bd0>"
      ]
     },
     "execution_count": 49,
     "metadata": {},
     "output_type": "execute_result"
    }
   ],
   "source": [
    "IFrame(\"data/documents/sample1_cms-1500-P.pdf\", width=900, height=800)"
   ]
  },
  {
   "cell_type": "markdown",
   "id": "93af1fc3-8a17-4ee7-8c35-bc13fdcab5ba",
   "metadata": {},
   "source": [
    "### Upload sample document to S3\n",
    "For this lab, we use a CMS 1500 Medical claim for with dummy data to explore the blueprint feature of BDA. \n",
    "\n",
    "Note - We will configure BDA to use the sample input from this S3 location, so we need to ensure that BDA has `s3:GetObject` access to this S3 location. If you are running the notebook in your own AWS Account, ensure that the SageMaker Execution role configured for this JupyterLab app has the right IAM permissions."
   ]
  },
  {
   "cell_type": "code",
   "execution_count": 50,
   "id": "0d5e5ea1-3b87-4c09-9577-beb0a23f9906",
   "metadata": {},
   "outputs": [],
   "source": [
    "input_bucket, input_prefix = get_bucket_and_key(bda_s3_input_location)\n",
    "local_file_name = 'data/documents/sample1_cms-1500-P.pdf'\n",
    "s3_file_name = 'sample1_cms-1500.pdf'\n",
    "s3_response = s3_client.upload_file(local_file_name, input_bucket,\n",
    "                                    f'{input_prefix}/{s3_file_name}')"
   ]
  },
  {
   "cell_type": "markdown",
   "id": "6d66efdd-a312-4161-98b6-17d23c5221aa",
   "metadata": {},
   "source": [
    "### Invoke Blueprint Recommendation"
   ]
  },
  {
   "cell_type": "markdown",
   "id": "c4e11ce6-10da-4a23-979f-06d375322e24",
   "metadata": {},
   "source": [
    "Before we start creating our own blueprint, let's explore the Blueprint recommendation with our sample document"
   ]
  },
  {
   "cell_type": "code",
   "execution_count": 53,
   "id": "1fc341cc-4500-4ece-91ec-28805afbf33a",
   "metadata": {},
   "outputs": [
    {
     "name": "stdout",
     "output_type": "stream",
     "text": [
      "Sending request to https://bedrock-data-automation.us-west-2.amazonaws.com/invokeBlueprintRecommendationAsync\n"
     ]
    }
   ],
   "source": [
    "from utils.helper_functions import invoke_blueprint_recommendation_async, get_blueprint_recommendation\n",
    "import json\n",
    "inputConfiguration = {\n",
    "    \"inputDataConfiguration\":{\n",
    "        \"s3Uri\":f'{bda_s3_input_location}/{s3_file_name}'\n",
    "    }\n",
    "}\n",
    "response = invoke_blueprint_recommendation_async(bda_client=bda_client,\n",
    "                                      region_name=region_name,                                       \n",
    "                                      payload=json.dumps(inputConfiguration))\n",
    "\n",
    "job_id = response['jobId']"
   ]
  },
  {
   "cell_type": "markdown",
   "id": "e94db4ba-b906-4034-a27c-c8936ed33790",
   "metadata": {},
   "source": [
    "### Wait for blueprint recommendation results"
   ]
  },
  {
   "cell_type": "code",
   "execution_count": 54,
   "id": "9674e79b-5210-431a-9812-7873a9ee30b6",
   "metadata": {},
   "outputs": [
    {
     "name": "stdout",
     "output_type": "stream",
     "text": [
      "Current status: InProgress. Waiting...\n",
      "Current status: InProgress. Waiting...\n",
      "Operation completed successfully with status: Completed\n"
     ]
    }
   ],
   "source": [
    "status_response = wait_for_completion(\n",
    "            client=None,\n",
    "            get_status_function=get_blueprint_recommendation,\n",
    "            status_kwargs={\n",
    "                'bda_client': bda_client,\n",
    "                'job_id': job_id,\n",
    "                'region_name': region_name,\n",
    "                'credentials': boto3.Session().get_credentials().get_frozen_credentials(),\n",
    "            },\n",
    "            completion_states=['Completed'],\n",
    "            error_states=['ClientError', 'ServiceError'],\n",
    "            status_path_in_response='status',\n",
    "            max_iterations=15,\n",
    "            delay=30\n",
    ")"
   ]
  },
  {
   "cell_type": "code",
   "execution_count": 55,
   "id": "615e0ac7-73d9-497f-9a87-4206b23c8114",
   "metadata": {},
   "outputs": [
    {
     "data": {
      "application/json": {
       "documentClass": {
        "type": "Medical Claim Form"
       },
       "schema": "{\"documentClass\":\"Medical Claim Form\",\"description\":\"This form is used to submit medical claims to insurance providers\",\"definitions\":{\"PatientInfo\":{\"properties\":{\"first_name\":{\"type\":\"string\",\"description\":\"The patient\\u0027s first name\"},\"last_name\":{\"type\":\"string\",\"description\":\"The patient\\u0027s last name\"},\"middle_initial\":{\"type\":\"string\",\"description\":\"The patient\\u0027s middle initial\"},\"date_of_birth\":{\"type\":\"string\",\"description\":\"The patient\\u0027s date of birth in MM/DD/YYYY format\"}}},\"InsuranceInfo\":{\"properties\":{\"insurance_plan_name\":{\"type\":\"string\",\"description\":\"The name of the insurance plan\"},\"insurance_id\":{\"type\":\"string\",\"description\":\"The patient\\u0027s insurance ID number\"},\"insured_first_name\":{\"type\":\"string\",\"description\":\"The insured\\u0027s first name\"},\"insured_last_name\":{\"type\":\"string\",\"description\":\"The insured\\u0027s last name\"}}},\"Address\":{\"properties\":{\"address_line_1\":{\"type\":\"string\",\"description\":\"Address line 1\"},\"city\":{\"type\":\"string\",\"description\":\"City\"},\"state\":{\"type\":\"string\",\"description\":\"State\"},\"zip_code\":{\"type\":\"string\",\"description\":\"Zip code\"}}}},\"properties\":{\"patient_info\":{\"$ref\":\"#/definitions/PatientInfo\"},\"insurance_info\":{\"$ref\":\"#/definitions/InsuranceInfo\"},\"patient_address\":{\"$ref\":\"#/definitions/Address\"},\"insured_address\":{\"$ref\":\"#/definitions/Address\"},\"referring_physician\":{\"type\":\"string\",\"inferenceType\":\"extractive\",\"description\":\"Name of referring physician\"},\"diagnosis\":{\"type\":\"string\",\"inferenceType\":\"extractive\",\"description\":\"Patient diagnosis\"},\"total_charges\":{\"type\":\"number\",\"inferenceType\":\"extractive\",\"description\":\"Total charges amount\"},\"amount_paid\":{\"type\":\"number\",\"inferenceType\":\"extractive\",\"description\":\"Amount paid\"},\"balance_due\":{\"type\":\"number\",\"inferenceType\":\"extractive\",\"description\":\"Balance due amount\"},\"procedure_codes\":{\"type\":\"string\",\"inferenceType\":\"extractive\",\"description\":\"List of procedure codes\"}}}",
       "type": "DOCUMENT"
      },
      "text/plain": [
       "<IPython.core.display.JSON object>"
      ]
     },
     "execution_count": 55,
     "metadata": {
      "application/json": {
       "expanded": false,
       "root": "blueprintRecommendation"
      }
     },
     "output_type": "execute_result"
    }
   ],
   "source": [
    "blueprint_recommendation = next((result for result in status_response['results'] if result['type'] == 'BLUEPRINT_RECOMMENDATION'),None)\n",
    "JSON(blueprint_recommendation['blueprintRecommendation'],root='blueprintRecommendation',expanded=False)"
   ]
  },
  {
   "cell_type": "markdown",
   "id": "3a9c4038-315d-4553-9ba7-fc82f3f712ad",
   "metadata": {},
   "source": [
    "Note that BDA identified the type of the sample file provided as `DOCUMENT` and the document class as 'Health Insurance Claim Form'. However, the `matchedBlueprint` section is missing, indicating that BDA did not find an existing blueprint in the BDA catalog of premade blueprints.\n",
    "\n",
    "Now, Let's start by creating our first blueprint."
   ]
  },
  {
   "cell_type": "markdown",
   "id": "9cb0e85b-fce3-49a5-8d4b-a43b2b3c35e6",
   "metadata": {},
   "source": [
    "### Define Blueprint properties\n",
    "To create a blueprint you start with defining a blueprint name, description, the blueprint type (`DOCUMENT` or `IMAGE`), the blueprint stage (`LIVE` or `DEVELOPMENT`) along with blueprint schema in JSON schema format."
   ]
  },
  {
   "cell_type": "markdown",
   "id": "2bf59d07-9cec-44cd-9075-4169f66d0996",
   "metadata": {},
   "source": [
    " You can create a blueprint using an API providing a name, type, stage and a schema in JSON format."
   ]
  },
  {
   "cell_type": "code",
   "execution_count": 57,
   "id": "3af508ba-fdb7-46d9-b727-9876f2f5a4f4",
   "metadata": {},
   "outputs": [
    {
     "data": {
      "application/json": {
       "$schema": "http://json-schema.org/draft-07/schema#",
       "definitions": {
        "Procedure_Service_Supplies": {
         "properties": {
          "charge_amount": {
           "description": "The charge amount for the procedure",
           "type": "number"
          },
          "diagnosis_code": {
           "description": "The diagnosis code from item 24E",
           "inferenceType": "extractive",
           "type": "string"
          },
          "place_of_service": {
           "description": "The place the service was provided",
           "type": "string"
          },
          "procedure_code": {
           "description": "The procedure code",
           "type": "string"
          },
          "procedure_modifier": {
           "description": "The procedure modifier from item 24D",
           "inferenceType": "extractive",
           "type": "string"
          },
          "service_end_date": {
           "description": "The service end date from item 24A in YYYY-MM-DD format",
           "inferenceType": "extractive",
           "type": "string"
          },
          "service_start_date": {
           "description": "The service start date from item 24A in YYYY-MM-DD format",
           "inferenceType": "extractive",
           "type": "string"
          },
          "type_of_service": {
           "description": "The type of medical service",
           "type": "string"
          }
         }
        }
       },
       "description": "A standard medical claim form used by healthcare providers in the US to bill health insurance companies for medical services.",
       "documentClass": "CMS 1500 Claim Form",
       "properties": {
        "amount_paid": {
         "description": "The amount paid in dollars from item 29",
         "inferenceType": "extractive",
         "type": "number"
        },
        "another_health_benefit_plan_indicator": {
         "description": "d. IS THERE ANOTHER HEALTH BENEFIT PLAN? Yes or No from item 11d",
         "inferenceType": "extractive",
         "type": "boolean"
        },
        "diagnosis_1": {
         "description": "The diagnosis or nature of illness or injury from item 21.1",
         "inferenceType": "extractive",
         "type": "string"
        },
        "diagnosis_2": {
         "description": "The diagnosis or nature of illness or injury from item 21.2",
         "inferenceType": "extractive",
         "type": "string"
        },
        "diagnosis_3": {
         "description": "The diagnosis or nature of illness or injury from item 21.3",
         "inferenceType": "extractive",
         "type": "string"
        },
        "diagnosis_4": {
         "description": "The diagnosis or nature of illness or injury from item 21.4",
         "inferenceType": "extractive",
         "type": "string"
        },
        "hospitalization_end_date": {
         "description": "The hospitalization end date related to current services from item 18",
         "inferenceType": "extractive",
         "type": "string"
        },
        "hospitalization_start_date": {
         "description": "The hospitalization start date related to current services from item 18",
         "inferenceType": "extractive",
         "type": "string"
        },
        "illness_injury_date": {
         "description": "The date of current illness, injury, or pregnancy from item 14 in YYYY-MM-DD format",
         "inferenceType": "extractive",
         "type": "string"
        },
        "insurance_program": {
         "description": "The insurance program from item 1: Medicare, Medicaid, CHAMPUS, CHAMPVA, Group Health Plan",
         "inferenceType": "extractive",
         "type": "string"
        },
        "insured_address": {
         "description": "The insured's address from item 7 including No.,Street, City, State, Zip Code",
         "inferenceType": "extractive",
         "type": "string"
        },
        "insured_date_of_birth": {
         "description": "The insured's policy or group number from item 11a",
         "inferenceType": "extractive",
         "type": "string"
        },
        "insured_employer_or_school": {
         "description": "The insured's employer or school 11b",
         "inferenceType": "extractive",
         "type": "string"
        },
        "insured_id_number": {
         "description": "The insured's ID number from item 1a",
         "inferenceType": "extractive",
         "type": "string"
        },
        "insured_insurance_plan_name": {
         "description": "The insured's plan name or program name from item 11c",
         "inferenceType": "extractive",
         "type": "string"
        },
        "insured_name": {
         "description": "The insured's name from item 4 in Last Name, First Name, Middle Initial format",
         "inferenceType": "extractive",
         "type": "string"
        },
        "insured_phone_number": {
         "description": "The insured's phone number, including area code from item 7 ",
         "inferenceType": "extractive",
         "type": "string"
        },
        "insured_policy_feca_number": {
         "description": "The insured's policy group or FECA number from item 11",
         "inferenceType": "extractive",
         "type": "string"
        },
        "insured_signed_date": {
         "description": "The insured's or authorized person's signed date from item 13",
         "inferenceType": "extractive",
         "type": "string"
        },
        "is_outside_lab_indicator": {
         "description": "Are there outside lab charges? from item 20",
         "inferenceType": "extractive",
         "type": "boolean"
        },
        "medicaid_original_ref_number": {
         "description": "Medicaid - Original ref no. from item 22",
         "inferenceType": "extractive",
         "type": "string"
        },
        "medicaid_resubmission_number": {
         "description": "MEDICAID RESUBMISSION NUMBER from item 22",
         "inferenceType": "extractive",
         "type": "string"
        },
        "medical_procedures": {
         "description": "The list of medical procedures from the table in item 24",
         "items": {
          "$ref": "#/definitions/Procedure_Service_Supplies"
         },
         "type": "array"
        },
        "outside_lab_charges": {
         "description": "Whether outside lab was used and charges from item 20",
         "inferenceType": "extractive",
         "type": "string"
        },
        "patient_address": {
         "description": "The patient's address from item 5",
         "inferenceType": "extractive",
         "type": "string"
        },
        "patient_condition_related_to": {
         "description": "Whether the patient's condition is related to employment, auto accident, or other accident from item 10",
         "inferenceType": "extractive",
         "type": "string"
        },
        "patient_date_of_birth": {
         "description": "The patient's date of birth from item 3 in YYYY-MM-DD format",
         "inferenceType": "extractive",
         "type": "string"
        },
        "patient_marital_status": {
         "description": "The patient's address from item 8",
         "inferenceType": "extractive",
         "type": "string"
        },
        "patient_name": {
         "description": "The patient's name from item 2 in Last Name, First Name, Middle Initial format",
         "inferenceType": "extractive",
         "type": "string"
        },
        "patient_relationship_to_insured": {
         "description": "The patient's relationship to insured from item 6",
         "inferenceType": "extractive",
         "type": "string"
        },
        "patient_sex": {
         "description": "The patient's address from item 8",
         "inferenceType": "extractive",
         "type": "string"
        },
        "patient_signed_date": {
         "description": "patient's or authorized person's signature date from item 12",
         "inferenceType": "extractive",
         "type": "string"
        },
        "previous_illness_date": {
         "description": "The date of a previous similar illness from item 15 in YYYY-MM-DD format",
         "inferenceType": "extractive",
         "type": "string"
        },
        "prior_authorization_number": {
         "description": "The prior authorization number from item 23",
         "inferenceType": "extractive",
         "type": "string"
        },
        "referring_physician": {
         "description": "The name of the referring physician from item 17",
         "inferenceType": "extractive",
         "type": "string"
        },
        "referring_physician_id": {
         "description": "The ID number of the referring physician from item 17a",
         "inferenceType": "extractive",
         "type": "string"
        },
        "tax_id_number": {
         "description": "The federal tax ID number (SSN or EIN) from item 25",
         "inferenceType": "extractive",
         "type": "string"
        },
        "tax_id_type": {
         "description": "The tax ID type (SSN or EIN) from item 25",
         "inferenceType": "extractive",
         "type": "string"
        },
        "total_charges": {
         "description": "The total charges in dollars from item 28",
         "inferenceType": "extractive",
         "type": "number"
        },
        "unable_to_work_end_date": {
         "description": "The dates the patient was unable to work until item 16",
         "inferenceType": "extractive",
         "type": "string"
        },
        "unable_to_work_start_date": {
         "description": "The dates the patient was unable to work from item 16",
         "inferenceType": "extractive",
         "type": "string"
        }
       }
      },
      "text/plain": [
       "<IPython.core.display.JSON object>"
      ]
     },
     "execution_count": 57,
     "metadata": {
      "application/json": {
       "expanded": false,
       "root": "root"
      }
     },
     "output_type": "execute_result"
    }
   ],
   "source": [
    "# create blueprint using Boto3\n",
    "blueprint_name = 'medical-claim-form-cms1500'\n",
    "blueprint_description = 'Blueprint for CMS 1500 Claim Form'\t\n",
    "blueprint_type = 'DOCUMENT'\n",
    "blueprint_stage = 'LIVE'\n",
    "\n",
    "with open('data/blueprints/blueprint_schema.json') as f:\n",
    "    blueprint_schema = json.load(f)\n",
    "JSON(blueprint_schema)"
   ]
  },
  {
   "cell_type": "markdown",
   "id": "8e41b3e2-20cf-4046-bf40-503d570bf17c",
   "metadata": {},
   "source": [
    "### Create (or Update) Blueprint"
   ]
  },
  {
   "cell_type": "markdown",
   "id": "c78a930e-19fe-4b64-93e2-07f4e587ba2c",
   "metadata": {},
   "source": [
    "We will use the `create_blueprint` operation (or `update_blueprint` to update an existing blueprint) in the  `boto3` API to create/update the blueprint. You could also create/update blueprints using the AWS console. Each blueprint that you create is an AWS resource with its own blueprint ID and ARN. "
   ]
  },
  {
   "cell_type": "code",
   "execution_count": 58,
   "id": "6caa2628-3666-4205-acfc-48185e50a28f",
   "metadata": {},
   "outputs": [
    {
     "name": "stdout",
     "output_type": "stream",
     "text": [
      "Found existing blueprint with name=medical-claim-form-cms1500, updating Stage and Schema\n"
     ]
    }
   ],
   "source": [
    "list_blueprints_response = bda_client.list_blueprints(\n",
    "    blueprintStageFilter='ALL'\n",
    ")\n",
    "blueprint = next((blueprint for blueprint in\n",
    "                  list_blueprints_response['blueprints']\n",
    "                  if 'blueprintName' in blueprint and\n",
    "                  blueprint['blueprintName'] == blueprint_name), None)\n",
    "\n",
    "\n",
    "print(f'Found existing blueprint with name={blueprint_name}, updating Stage and Schema')\n",
    "\n",
    "if not blueprint:\n",
    "    response = bda_client.create_blueprint(\n",
    "        blueprintName=blueprint_name,\n",
    "        type=blueprint_type,\n",
    "        blueprintStage=blueprint_stage,\n",
    "        schema=json.dumps(blueprint_schema)\n",
    "    )\n",
    "else:\n",
    "    response = bda_client.update_blueprint(\n",
    "        blueprintArn=blueprint['blueprintArn'],\n",
    "        blueprintStage=blueprint_stage,\n",
    "        schema=json.dumps(blueprint_schema)\n",
    "    )\n",
    "\n",
    "blueprint_arn = response['blueprint']['blueprintArn']"
   ]
  },
  {
   "cell_type": "markdown",
   "id": "ccaae770-0aa8-4fc4-9416-40ff84735da8",
   "metadata": {},
   "source": [
    "### Invoke Data Automation Async\n",
    "Now that our blueprint has been setup, we can proceed to invoke data automation. Note that in addition to the input and output configuration we also provide the blueprint id when calling the `invoke_data_automation_async` operation."
   ]
  },
  {
   "cell_type": "code",
   "execution_count": 59,
   "id": "7bbe6c93-b2aa-4781-a6eb-0cd71e2cfa9e",
   "metadata": {},
   "outputs": [
    {
     "name": "stdout",
     "output_type": "stream",
     "text": [
      "Invoked data automation job with invocation arn arn:aws:bedrock:us-west-2:762233765926:data-automation-invocation/a4aa81b7-ebd2-44c5-96d2-926e7ad0a0cc\n"
     ]
    }
   ],
   "source": [
    "response = bda_runtime_client.invoke_data_automation_async(\n",
    "    inputConfiguration={\n",
    "        's3Uri': f'{bda_s3_input_location}/{s3_file_name}'\n",
    "    },\n",
    "    outputConfiguration={\n",
    "        's3Uri': bda_s3_output_location\n",
    "    },\n",
    "    blueprints=[\n",
    "        {\n",
    "            'blueprintArn': blueprint_arn\n",
    "        }\n",
    "    ]\n",
    ")\n",
    "\n",
    "invocationArn = response['invocationArn']\n",
    "print(f'Invoked data automation job with invocation arn {invocationArn}') "
   ]
  },
  {
   "cell_type": "markdown",
   "id": "11d8650a-f24d-490d-a0e4-5c01ac2ffdcb",
   "metadata": {},
   "source": [
    "### Get Data Automation Status\n",
    "\n",
    "We can check the status and monitor the progress of the Invocation job using the `GetDataAutomationStatus`. This API takes the invocation arn we retrieved from the response to the `InvokeDataAutomationAsync` operation above.\n",
    "\n",
    "The invocation job status moves from `Created` to `InProgress` and finally to `Success` when the job completes successfully, along with the S3 location of the results. If the job encounters and error the final status is either `ServiceError` or `ClientError` with error details"
   ]
  },
  {
   "cell_type": "code",
   "execution_count": 60,
   "id": "8fc21ba9-c5d1-429d-96b3-5b2563eee117",
   "metadata": {
    "editable": true,
    "slideshow": {
     "slide_type": ""
    },
    "tags": []
   },
   "outputs": [
    {
     "name": "stdout",
     "output_type": "stream",
     "text": [
      "Operation completed successfully with status: Success\n"
     ]
    }
   ],
   "source": [
    "status_response = wait_for_completion(\n",
    "            client=bda_client,\n",
    "            get_status_function=bda_runtime_client.get_data_automation_status,\n",
    "            status_kwargs={'invocationArn': invocationArn},\n",
    "            completion_states=['Success'],\n",
    "            error_states=['ClientError', 'ServiceError'],\n",
    "            status_path_in_response='status',\n",
    "            max_iterations=15,\n",
    "            delay=30\n",
    ")\n",
    "if status_response['status'] == 'Success':\n",
    "    job_metadata_s3_location = status_response['outputConfiguration']['s3Uri']\n",
    "else:\n",
    "    raise Exception(f'Invocation Job Error, error_type={status_response[\"error_type\"]},error_message={status_response[\"error_message\"]}')"
   ]
  },
  {
   "cell_type": "code",
   "execution_count": 61,
   "id": "ecd122e4-6ad9-4497-aacc-9ec34238bd51",
   "metadata": {},
   "outputs": [
    {
     "data": {
      "application/json": {
       "job_id": "a4aa81b7-ebd2-44c5-96d2-926e7ad0a0cc",
       "job_status": "PROCESSED",
       "output_metadata": [
        {
         "asset_id": 0,
         "segment_metadata": [
          {
           "custom_output_path": "s3://sagemaker-us-west-2-762233765926/bda/output/a4aa81b7-ebd2-44c5-96d2-926e7ad0a0cc/0/custom_output/0/result.json",
           "custom_output_status": "MATCH",
           "standard_output_path": "s3://sagemaker-us-west-2-762233765926/bda/output/a4aa81b7-ebd2-44c5-96d2-926e7ad0a0cc/0/standard_output/0/result.json"
          }
         ]
        }
       ],
       "semantic_modality": "DOCUMENT"
      },
      "text/plain": [
       "<IPython.core.display.JSON object>"
      ]
     },
     "execution_count": 61,
     "metadata": {
      "application/json": {
       "expanded": true,
       "root": "job_metadata"
      }
     },
     "output_type": "execute_result"
    }
   ],
   "source": [
    "job_metadata = json.loads(read_s3_object(job_metadata_s3_location))\n",
    "JSON(job_metadata, root='job_metadata', expanded=True)"
   ]
  },
  {
   "cell_type": "markdown",
   "id": "3e8a1a52-edee-426b-b55d-39decb3ef62c",
   "metadata": {},
   "source": [
    "### Explore the Custom output with custom blueprint"
   ]
  },
  {
   "cell_type": "code",
   "execution_count": 62,
   "id": "7db40097-1915-4117-8e25-de830210b17e",
   "metadata": {},
   "outputs": [],
   "source": [
    "asset_id=0\n",
    "custom_output_path = next(item[\"segment_metadata\"][0][\"custom_output_path\"] \n",
    "                                for item in job_metadata[\"output_metadata\"] \n",
    "                                if item['asset_id'] == asset_id)\n",
    "custom_output = json.loads(read_s3_object(custom_output_path))"
   ]
  },
  {
   "cell_type": "markdown",
   "id": "d998e931-0543-4647-915b-74ac361d3fc5",
   "metadata": {},
   "source": [
    "The structure of the custom output would be the same as that of the output produced when using a catalog blueprint. However, the `inference_result` now contain data that map to the blueprint schema we provided to BDA with the `InvokeDataAutomationAsync` operation."
   ]
  },
  {
   "cell_type": "code",
   "execution_count": null,
   "id": "887d12b7-e163-4229-8d72-c7c3a3e0e2fe",
   "metadata": {},
   "outputs": [],
   "source": []
  },
  {
   "cell_type": "code",
   "execution_count": 67,
   "id": "c82f2d21-cbcf-4dde-9c82-8a1f720efae3",
   "metadata": {},
   "outputs": [],
   "source": [
    "inference_result = custom_output['inference_result']\n",
    "medical_procedures = inference_result['medical_procedures']"
   ]
  },
  {
   "cell_type": "code",
   "execution_count": 68,
   "id": "e142bb5b-191c-4130-81a6-31797f85a459",
   "metadata": {},
   "outputs": [
    {
     "ename": "ValueError",
     "evalue": "Length of values (4) does not match length of index (1)",
     "output_type": "error",
     "traceback": [
      "\u001b[0;31m---------------------------------------------------------------------------\u001b[0m",
      "\u001b[0;31mValueError\u001b[0m                                Traceback (most recent call last)",
      "Cell \u001b[0;32mIn[68], line 2\u001b[0m\n\u001b[1;32m      1\u001b[0m \u001b[38;5;28;01mimport\u001b[39;00m\u001b[38;5;250m \u001b[39m\u001b[38;5;21;01mpandas\u001b[39;00m\u001b[38;5;250m \u001b[39m\u001b[38;5;28;01mas\u001b[39;00m\u001b[38;5;250m \u001b[39m\u001b[38;5;21;01mpd\u001b[39;00m\n\u001b[0;32m----> 2\u001b[0m df \u001b[38;5;241m=\u001b[39m \u001b[43mpd\u001b[49m\u001b[38;5;241;43m.\u001b[39;49m\u001b[43mDataFrame\u001b[49m\u001b[43m(\u001b[49m\u001b[43minference_result\u001b[49m\u001b[43m,\u001b[49m\u001b[43m \u001b[49m\u001b[43mindex\u001b[49m\u001b[38;5;241;43m=\u001b[39;49m\u001b[43m[\u001b[49m\u001b[38;5;241;43m0\u001b[39;49m\u001b[43m]\u001b[49m\u001b[43m)\u001b[49m\n\u001b[1;32m      3\u001b[0m df\u001b[38;5;241m.\u001b[39mT\u001b[38;5;241m.\u001b[39mstyle\u001b[38;5;241m.\u001b[39mhide(axis\u001b[38;5;241m=\u001b[39m\u001b[38;5;124m'\u001b[39m\u001b[38;5;124mcolumns\u001b[39m\u001b[38;5;124m'\u001b[39m)\n",
      "File \u001b[0;32m/opt/conda/lib/python3.11/site-packages/pandas/core/frame.py:778\u001b[0m, in \u001b[0;36mDataFrame.__init__\u001b[0;34m(self, data, index, columns, dtype, copy)\u001b[0m\n\u001b[1;32m    772\u001b[0m     mgr \u001b[38;5;241m=\u001b[39m \u001b[38;5;28mself\u001b[39m\u001b[38;5;241m.\u001b[39m_init_mgr(\n\u001b[1;32m    773\u001b[0m         data, axes\u001b[38;5;241m=\u001b[39m{\u001b[38;5;124m\"\u001b[39m\u001b[38;5;124mindex\u001b[39m\u001b[38;5;124m\"\u001b[39m: index, \u001b[38;5;124m\"\u001b[39m\u001b[38;5;124mcolumns\u001b[39m\u001b[38;5;124m\"\u001b[39m: columns}, dtype\u001b[38;5;241m=\u001b[39mdtype, copy\u001b[38;5;241m=\u001b[39mcopy\n\u001b[1;32m    774\u001b[0m     )\n\u001b[1;32m    776\u001b[0m \u001b[38;5;28;01melif\u001b[39;00m \u001b[38;5;28misinstance\u001b[39m(data, \u001b[38;5;28mdict\u001b[39m):\n\u001b[1;32m    777\u001b[0m     \u001b[38;5;66;03m# GH#38939 de facto copy defaults to False only in non-dict cases\u001b[39;00m\n\u001b[0;32m--> 778\u001b[0m     mgr \u001b[38;5;241m=\u001b[39m \u001b[43mdict_to_mgr\u001b[49m\u001b[43m(\u001b[49m\u001b[43mdata\u001b[49m\u001b[43m,\u001b[49m\u001b[43m \u001b[49m\u001b[43mindex\u001b[49m\u001b[43m,\u001b[49m\u001b[43m \u001b[49m\u001b[43mcolumns\u001b[49m\u001b[43m,\u001b[49m\u001b[43m \u001b[49m\u001b[43mdtype\u001b[49m\u001b[38;5;241;43m=\u001b[39;49m\u001b[43mdtype\u001b[49m\u001b[43m,\u001b[49m\u001b[43m \u001b[49m\u001b[43mcopy\u001b[49m\u001b[38;5;241;43m=\u001b[39;49m\u001b[43mcopy\u001b[49m\u001b[43m,\u001b[49m\u001b[43m \u001b[49m\u001b[43mtyp\u001b[49m\u001b[38;5;241;43m=\u001b[39;49m\u001b[43mmanager\u001b[49m\u001b[43m)\u001b[49m\n\u001b[1;32m    779\u001b[0m \u001b[38;5;28;01melif\u001b[39;00m \u001b[38;5;28misinstance\u001b[39m(data, ma\u001b[38;5;241m.\u001b[39mMaskedArray):\n\u001b[1;32m    780\u001b[0m     \u001b[38;5;28;01mfrom\u001b[39;00m\u001b[38;5;250m \u001b[39m\u001b[38;5;21;01mnumpy\u001b[39;00m\u001b[38;5;21;01m.\u001b[39;00m\u001b[38;5;21;01mma\u001b[39;00m\u001b[38;5;250m \u001b[39m\u001b[38;5;28;01mimport\u001b[39;00m mrecords\n",
      "File \u001b[0;32m/opt/conda/lib/python3.11/site-packages/pandas/core/internals/construction.py:503\u001b[0m, in \u001b[0;36mdict_to_mgr\u001b[0;34m(data, index, columns, dtype, typ, copy)\u001b[0m\n\u001b[1;32m    499\u001b[0m     \u001b[38;5;28;01melse\u001b[39;00m:\n\u001b[1;32m    500\u001b[0m         \u001b[38;5;66;03m# dtype check to exclude e.g. range objects, scalars\u001b[39;00m\n\u001b[1;32m    501\u001b[0m         arrays \u001b[38;5;241m=\u001b[39m [x\u001b[38;5;241m.\u001b[39mcopy() \u001b[38;5;28;01mif\u001b[39;00m \u001b[38;5;28mhasattr\u001b[39m(x, \u001b[38;5;124m\"\u001b[39m\u001b[38;5;124mdtype\u001b[39m\u001b[38;5;124m\"\u001b[39m) \u001b[38;5;28;01melse\u001b[39;00m x \u001b[38;5;28;01mfor\u001b[39;00m x \u001b[38;5;129;01min\u001b[39;00m arrays]\n\u001b[0;32m--> 503\u001b[0m \u001b[38;5;28;01mreturn\u001b[39;00m \u001b[43marrays_to_mgr\u001b[49m\u001b[43m(\u001b[49m\u001b[43marrays\u001b[49m\u001b[43m,\u001b[49m\u001b[43m \u001b[49m\u001b[43mcolumns\u001b[49m\u001b[43m,\u001b[49m\u001b[43m \u001b[49m\u001b[43mindex\u001b[49m\u001b[43m,\u001b[49m\u001b[43m \u001b[49m\u001b[43mdtype\u001b[49m\u001b[38;5;241;43m=\u001b[39;49m\u001b[43mdtype\u001b[49m\u001b[43m,\u001b[49m\u001b[43m \u001b[49m\u001b[43mtyp\u001b[49m\u001b[38;5;241;43m=\u001b[39;49m\u001b[43mtyp\u001b[49m\u001b[43m,\u001b[49m\u001b[43m \u001b[49m\u001b[43mconsolidate\u001b[49m\u001b[38;5;241;43m=\u001b[39;49m\u001b[43mcopy\u001b[49m\u001b[43m)\u001b[49m\n",
      "File \u001b[0;32m/opt/conda/lib/python3.11/site-packages/pandas/core/internals/construction.py:119\u001b[0m, in \u001b[0;36marrays_to_mgr\u001b[0;34m(arrays, columns, index, dtype, verify_integrity, typ, consolidate)\u001b[0m\n\u001b[1;32m    116\u001b[0m         index \u001b[38;5;241m=\u001b[39m ensure_index(index)\n\u001b[1;32m    118\u001b[0m     \u001b[38;5;66;03m# don't force copy because getting jammed in an ndarray anyway\u001b[39;00m\n\u001b[0;32m--> 119\u001b[0m     arrays, refs \u001b[38;5;241m=\u001b[39m \u001b[43m_homogenize\u001b[49m\u001b[43m(\u001b[49m\u001b[43marrays\u001b[49m\u001b[43m,\u001b[49m\u001b[43m \u001b[49m\u001b[43mindex\u001b[49m\u001b[43m,\u001b[49m\u001b[43m \u001b[49m\u001b[43mdtype\u001b[49m\u001b[43m)\u001b[49m\n\u001b[1;32m    120\u001b[0m     \u001b[38;5;66;03m# _homogenize ensures\u001b[39;00m\n\u001b[1;32m    121\u001b[0m     \u001b[38;5;66;03m#  - all(len(x) == len(index) for x in arrays)\u001b[39;00m\n\u001b[1;32m    122\u001b[0m     \u001b[38;5;66;03m#  - all(x.ndim == 1 for x in arrays)\u001b[39;00m\n\u001b[0;32m   (...)\u001b[0m\n\u001b[1;32m    125\u001b[0m \n\u001b[1;32m    126\u001b[0m \u001b[38;5;28;01melse\u001b[39;00m:\n\u001b[1;32m    127\u001b[0m     index \u001b[38;5;241m=\u001b[39m ensure_index(index)\n",
      "File \u001b[0;32m/opt/conda/lib/python3.11/site-packages/pandas/core/internals/construction.py:630\u001b[0m, in \u001b[0;36m_homogenize\u001b[0;34m(data, index, dtype)\u001b[0m\n\u001b[1;32m    627\u001b[0m         val \u001b[38;5;241m=\u001b[39m lib\u001b[38;5;241m.\u001b[39mfast_multiget(val, oindex\u001b[38;5;241m.\u001b[39m_values, default\u001b[38;5;241m=\u001b[39mnp\u001b[38;5;241m.\u001b[39mnan)\n\u001b[1;32m    629\u001b[0m     val \u001b[38;5;241m=\u001b[39m sanitize_array(val, index, dtype\u001b[38;5;241m=\u001b[39mdtype, copy\u001b[38;5;241m=\u001b[39m\u001b[38;5;28;01mFalse\u001b[39;00m)\n\u001b[0;32m--> 630\u001b[0m     \u001b[43mcom\u001b[49m\u001b[38;5;241;43m.\u001b[39;49m\u001b[43mrequire_length_match\u001b[49m\u001b[43m(\u001b[49m\u001b[43mval\u001b[49m\u001b[43m,\u001b[49m\u001b[43m \u001b[49m\u001b[43mindex\u001b[49m\u001b[43m)\u001b[49m\n\u001b[1;32m    631\u001b[0m     refs\u001b[38;5;241m.\u001b[39mappend(\u001b[38;5;28;01mNone\u001b[39;00m)\n\u001b[1;32m    633\u001b[0m homogenized\u001b[38;5;241m.\u001b[39mappend(val)\n",
      "File \u001b[0;32m/opt/conda/lib/python3.11/site-packages/pandas/core/common.py:573\u001b[0m, in \u001b[0;36mrequire_length_match\u001b[0;34m(data, index)\u001b[0m\n\u001b[1;32m    569\u001b[0m \u001b[38;5;250m\u001b[39m\u001b[38;5;124;03m\"\"\"\u001b[39;00m\n\u001b[1;32m    570\u001b[0m \u001b[38;5;124;03mCheck the length of data matches the length of the index.\u001b[39;00m\n\u001b[1;32m    571\u001b[0m \u001b[38;5;124;03m\"\"\"\u001b[39;00m\n\u001b[1;32m    572\u001b[0m \u001b[38;5;28;01mif\u001b[39;00m \u001b[38;5;28mlen\u001b[39m(data) \u001b[38;5;241m!=\u001b[39m \u001b[38;5;28mlen\u001b[39m(index):\n\u001b[0;32m--> 573\u001b[0m     \u001b[38;5;28;01mraise\u001b[39;00m \u001b[38;5;167;01mValueError\u001b[39;00m(\n\u001b[1;32m    574\u001b[0m         \u001b[38;5;124m\"\u001b[39m\u001b[38;5;124mLength of values \u001b[39m\u001b[38;5;124m\"\u001b[39m\n\u001b[1;32m    575\u001b[0m         \u001b[38;5;124mf\u001b[39m\u001b[38;5;124m\"\u001b[39m\u001b[38;5;124m(\u001b[39m\u001b[38;5;132;01m{\u001b[39;00m\u001b[38;5;28mlen\u001b[39m(data)\u001b[38;5;132;01m}\u001b[39;00m\u001b[38;5;124m) \u001b[39m\u001b[38;5;124m\"\u001b[39m\n\u001b[1;32m    576\u001b[0m         \u001b[38;5;124m\"\u001b[39m\u001b[38;5;124mdoes not match length of index \u001b[39m\u001b[38;5;124m\"\u001b[39m\n\u001b[1;32m    577\u001b[0m         \u001b[38;5;124mf\u001b[39m\u001b[38;5;124m\"\u001b[39m\u001b[38;5;124m(\u001b[39m\u001b[38;5;132;01m{\u001b[39;00m\u001b[38;5;28mlen\u001b[39m(index)\u001b[38;5;132;01m}\u001b[39;00m\u001b[38;5;124m)\u001b[39m\u001b[38;5;124m\"\u001b[39m\n\u001b[1;32m    578\u001b[0m     )\n",
      "\u001b[0;31mValueError\u001b[0m: Length of values (4) does not match length of index (1)"
     ]
    }
   ],
   "source": [
    "import pandas as pd\n",
    "df = pd.DataFrame(inference_result, index=[0])\n",
    "df.T.style.hide(axis='columns')"
   ]
  },
  {
   "cell_type": "code",
   "execution_count": 69,
   "id": "db671d14-d4f0-4d50-a25b-ba77278b2649",
   "metadata": {},
   "outputs": [
    {
     "ename": "ValueError",
     "evalue": "Length of values (4) does not match length of index (1)",
     "output_type": "error",
     "traceback": [
      "\u001b[0;31m---------------------------------------------------------------------------\u001b[0m",
      "\u001b[0;31mValueError\u001b[0m                                Traceback (most recent call last)",
      "Cell \u001b[0;32mIn[69], line 1\u001b[0m\n\u001b[0;32m----> 1\u001b[0m df2 \u001b[38;5;241m=\u001b[39m \u001b[43mpd\u001b[49m\u001b[38;5;241;43m.\u001b[39;49m\u001b[43mDataFrame\u001b[49m\u001b[43m(\u001b[49m\u001b[43minference_result\u001b[49m\u001b[43m[\u001b[49m\u001b[38;5;124;43m'\u001b[39;49m\u001b[38;5;124;43mmedical_procedures\u001b[39;49m\u001b[38;5;124;43m'\u001b[39;49m\u001b[43m]\u001b[49m\u001b[43m,\u001b[49m\u001b[43m \u001b[49m\u001b[43mindex\u001b[49m\u001b[38;5;241;43m=\u001b[39;49m\u001b[43m[\u001b[49m\u001b[38;5;241;43m0\u001b[39;49m\u001b[43m]\u001b[49m\u001b[43m)\u001b[49m\n",
      "File \u001b[0;32m/opt/conda/lib/python3.11/site-packages/pandas/core/frame.py:859\u001b[0m, in \u001b[0;36mDataFrame.__init__\u001b[0;34m(self, data, index, columns, dtype, copy)\u001b[0m\n\u001b[1;32m    850\u001b[0m         columns \u001b[38;5;241m=\u001b[39m ensure_index(columns)\n\u001b[1;32m    851\u001b[0m     arrays, columns, index \u001b[38;5;241m=\u001b[39m nested_data_to_arrays(\n\u001b[1;32m    852\u001b[0m         \u001b[38;5;66;03m# error: Argument 3 to \"nested_data_to_arrays\" has incompatible\u001b[39;00m\n\u001b[1;32m    853\u001b[0m         \u001b[38;5;66;03m# type \"Optional[Collection[Any]]\"; expected \"Optional[Index]\"\u001b[39;00m\n\u001b[0;32m   (...)\u001b[0m\n\u001b[1;32m    857\u001b[0m         dtype,\n\u001b[1;32m    858\u001b[0m     )\n\u001b[0;32m--> 859\u001b[0m     mgr \u001b[38;5;241m=\u001b[39m \u001b[43marrays_to_mgr\u001b[49m\u001b[43m(\u001b[49m\n\u001b[1;32m    860\u001b[0m \u001b[43m        \u001b[49m\u001b[43marrays\u001b[49m\u001b[43m,\u001b[49m\n\u001b[1;32m    861\u001b[0m \u001b[43m        \u001b[49m\u001b[43mcolumns\u001b[49m\u001b[43m,\u001b[49m\n\u001b[1;32m    862\u001b[0m \u001b[43m        \u001b[49m\u001b[43mindex\u001b[49m\u001b[43m,\u001b[49m\n\u001b[1;32m    863\u001b[0m \u001b[43m        \u001b[49m\u001b[43mdtype\u001b[49m\u001b[38;5;241;43m=\u001b[39;49m\u001b[43mdtype\u001b[49m\u001b[43m,\u001b[49m\n\u001b[1;32m    864\u001b[0m \u001b[43m        \u001b[49m\u001b[43mtyp\u001b[49m\u001b[38;5;241;43m=\u001b[39;49m\u001b[43mmanager\u001b[49m\u001b[43m,\u001b[49m\n\u001b[1;32m    865\u001b[0m \u001b[43m    \u001b[49m\u001b[43m)\u001b[49m\n\u001b[1;32m    866\u001b[0m \u001b[38;5;28;01melse\u001b[39;00m:\n\u001b[1;32m    867\u001b[0m     mgr \u001b[38;5;241m=\u001b[39m ndarray_to_mgr(\n\u001b[1;32m    868\u001b[0m         data,\n\u001b[1;32m    869\u001b[0m         index,\n\u001b[0;32m   (...)\u001b[0m\n\u001b[1;32m    873\u001b[0m         typ\u001b[38;5;241m=\u001b[39mmanager,\n\u001b[1;32m    874\u001b[0m     )\n",
      "File \u001b[0;32m/opt/conda/lib/python3.11/site-packages/pandas/core/internals/construction.py:119\u001b[0m, in \u001b[0;36marrays_to_mgr\u001b[0;34m(arrays, columns, index, dtype, verify_integrity, typ, consolidate)\u001b[0m\n\u001b[1;32m    116\u001b[0m         index \u001b[38;5;241m=\u001b[39m ensure_index(index)\n\u001b[1;32m    118\u001b[0m     \u001b[38;5;66;03m# don't force copy because getting jammed in an ndarray anyway\u001b[39;00m\n\u001b[0;32m--> 119\u001b[0m     arrays, refs \u001b[38;5;241m=\u001b[39m \u001b[43m_homogenize\u001b[49m\u001b[43m(\u001b[49m\u001b[43marrays\u001b[49m\u001b[43m,\u001b[49m\u001b[43m \u001b[49m\u001b[43mindex\u001b[49m\u001b[43m,\u001b[49m\u001b[43m \u001b[49m\u001b[43mdtype\u001b[49m\u001b[43m)\u001b[49m\n\u001b[1;32m    120\u001b[0m     \u001b[38;5;66;03m# _homogenize ensures\u001b[39;00m\n\u001b[1;32m    121\u001b[0m     \u001b[38;5;66;03m#  - all(len(x) == len(index) for x in arrays)\u001b[39;00m\n\u001b[1;32m    122\u001b[0m     \u001b[38;5;66;03m#  - all(x.ndim == 1 for x in arrays)\u001b[39;00m\n\u001b[0;32m   (...)\u001b[0m\n\u001b[1;32m    125\u001b[0m \n\u001b[1;32m    126\u001b[0m \u001b[38;5;28;01melse\u001b[39;00m:\n\u001b[1;32m    127\u001b[0m     index \u001b[38;5;241m=\u001b[39m ensure_index(index)\n",
      "File \u001b[0;32m/opt/conda/lib/python3.11/site-packages/pandas/core/internals/construction.py:630\u001b[0m, in \u001b[0;36m_homogenize\u001b[0;34m(data, index, dtype)\u001b[0m\n\u001b[1;32m    627\u001b[0m         val \u001b[38;5;241m=\u001b[39m lib\u001b[38;5;241m.\u001b[39mfast_multiget(val, oindex\u001b[38;5;241m.\u001b[39m_values, default\u001b[38;5;241m=\u001b[39mnp\u001b[38;5;241m.\u001b[39mnan)\n\u001b[1;32m    629\u001b[0m     val \u001b[38;5;241m=\u001b[39m sanitize_array(val, index, dtype\u001b[38;5;241m=\u001b[39mdtype, copy\u001b[38;5;241m=\u001b[39m\u001b[38;5;28;01mFalse\u001b[39;00m)\n\u001b[0;32m--> 630\u001b[0m     \u001b[43mcom\u001b[49m\u001b[38;5;241;43m.\u001b[39;49m\u001b[43mrequire_length_match\u001b[49m\u001b[43m(\u001b[49m\u001b[43mval\u001b[49m\u001b[43m,\u001b[49m\u001b[43m \u001b[49m\u001b[43mindex\u001b[49m\u001b[43m)\u001b[49m\n\u001b[1;32m    631\u001b[0m     refs\u001b[38;5;241m.\u001b[39mappend(\u001b[38;5;28;01mNone\u001b[39;00m)\n\u001b[1;32m    633\u001b[0m homogenized\u001b[38;5;241m.\u001b[39mappend(val)\n",
      "File \u001b[0;32m/opt/conda/lib/python3.11/site-packages/pandas/core/common.py:573\u001b[0m, in \u001b[0;36mrequire_length_match\u001b[0;34m(data, index)\u001b[0m\n\u001b[1;32m    569\u001b[0m \u001b[38;5;250m\u001b[39m\u001b[38;5;124;03m\"\"\"\u001b[39;00m\n\u001b[1;32m    570\u001b[0m \u001b[38;5;124;03mCheck the length of data matches the length of the index.\u001b[39;00m\n\u001b[1;32m    571\u001b[0m \u001b[38;5;124;03m\"\"\"\u001b[39;00m\n\u001b[1;32m    572\u001b[0m \u001b[38;5;28;01mif\u001b[39;00m \u001b[38;5;28mlen\u001b[39m(data) \u001b[38;5;241m!=\u001b[39m \u001b[38;5;28mlen\u001b[39m(index):\n\u001b[0;32m--> 573\u001b[0m     \u001b[38;5;28;01mraise\u001b[39;00m \u001b[38;5;167;01mValueError\u001b[39;00m(\n\u001b[1;32m    574\u001b[0m         \u001b[38;5;124m\"\u001b[39m\u001b[38;5;124mLength of values \u001b[39m\u001b[38;5;124m\"\u001b[39m\n\u001b[1;32m    575\u001b[0m         \u001b[38;5;124mf\u001b[39m\u001b[38;5;124m\"\u001b[39m\u001b[38;5;124m(\u001b[39m\u001b[38;5;132;01m{\u001b[39;00m\u001b[38;5;28mlen\u001b[39m(data)\u001b[38;5;132;01m}\u001b[39;00m\u001b[38;5;124m) \u001b[39m\u001b[38;5;124m\"\u001b[39m\n\u001b[1;32m    576\u001b[0m         \u001b[38;5;124m\"\u001b[39m\u001b[38;5;124mdoes not match length of index \u001b[39m\u001b[38;5;124m\"\u001b[39m\n\u001b[1;32m    577\u001b[0m         \u001b[38;5;124mf\u001b[39m\u001b[38;5;124m\"\u001b[39m\u001b[38;5;124m(\u001b[39m\u001b[38;5;132;01m{\u001b[39;00m\u001b[38;5;28mlen\u001b[39m(index)\u001b[38;5;132;01m}\u001b[39;00m\u001b[38;5;124m)\u001b[39m\u001b[38;5;124m\"\u001b[39m\n\u001b[1;32m    578\u001b[0m     )\n",
      "\u001b[0;31mValueError\u001b[0m: Length of values (4) does not match length of index (1)"
     ]
    }
   ],
   "source": [
    "df2 = pd.DataFrame(inference_result['medical_procedures'], index=[0])"
   ]
  },
  {
   "cell_type": "code",
   "execution_count": null,
   "id": "61f51ac1-fd22-435c-9287-55b8efecb7a7",
   "metadata": {},
   "outputs": [],
   "source": []
  }
 ],
 "metadata": {
  "kernelspec": {
   "display_name": "Python 3 (ipykernel)",
   "language": "python",
   "name": "python3"
  },
  "language_info": {
   "codemirror_mode": {
    "name": "ipython",
    "version": 3
   },
   "file_extension": ".py",
   "mimetype": "text/x-python",
   "name": "python",
   "nbconvert_exporter": "python",
   "pygments_lexer": "ipython3",
   "version": "3.11.11"
  }
 },
 "nbformat": 4,
 "nbformat_minor": 5
}
