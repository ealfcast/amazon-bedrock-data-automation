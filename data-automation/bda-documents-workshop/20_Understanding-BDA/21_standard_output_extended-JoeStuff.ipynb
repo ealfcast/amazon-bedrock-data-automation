{
 "cells": [
  {
   "cell_type": "markdown",
   "id": "28739f83-678f-4e76-bb40-af12caf8fac2",
   "metadata": {
    "editable": true,
    "slideshow": {
     "slide_type": ""
    },
    "tags": []
   },
   "source": [
    "# Getting document insights with standard output"
   ]
  },
  {
   "cell_type": "markdown",
   "id": "17a7159c-4b33-4c1a-af1d-710d85c921f4",
   "metadata": {
    "editable": true,
    "slideshow": {
     "slide_type": ""
    },
    "tags": []
   },
   "source": [
    "# Introduction\n",
    "\n",
    "Amazon Bedrock Data Automation (BDA) lets you configure output based on your processing needs for a specific data type: images, documents, audio or video. BDA can generate standard output or custom output.\n",
    "\n",
    "You can use standard outputs for all four modalities: images, documents, audio, and videos. BDA always provides a standard output response even if it's alongside a custom output response.\n",
    "\n",
    "Standard outputs are modality-specific default structured insights, such as video summaries that capture key moments, visual and audible toxic content, explanations of document charts, graph figure data, and more. \n",
    "\n",
    "In this notebook we will explore the standard output for documents."
   ]
  },
  {
   "cell_type": "markdown",
   "id": "ca16843e-0586-4c58-991f-ca6898e192e2",
   "metadata": {
    "editable": true,
    "slideshow": {
     "slide_type": ""
    },
    "tags": []
   },
   "source": [
    "### Prerequisites"
   ]
  },
  {
   "cell_type": "code",
   "execution_count": null,
   "id": "f75bfcb2-1f39-4288-a6b7-d3604cff85bc",
   "metadata": {
    "editable": true,
    "scrolled": true,
    "slideshow": {
     "slide_type": ""
    },
    "tags": []
   },
   "outputs": [],
   "source": [
    "%pip install \"boto3>=1.35.76\" itables==2.2.4 PyPDF2==3.0.1 --upgrade -q"
   ]
  },
  {
   "cell_type": "code",
   "execution_count": null,
   "id": "5348287f-33e2-41e9-9b7e-0c76bc401fe2",
   "metadata": {
    "editable": true,
    "slideshow": {
     "slide_type": ""
    },
    "tags": []
   },
   "outputs": [],
   "source": [
    "%load_ext autoreload\n",
    "%autoreload 2"
   ]
  },
  {
   "cell_type": "markdown",
   "id": "e5da4e11-dcff-4300-8d29-f4260abe2856",
   "metadata": {
    "editable": true,
    "slideshow": {
     "slide_type": ""
    },
    "tags": []
   },
   "source": [
    "### Setup\n",
    "\n",
    "Before we get to the part where we invoke BDA with our sample artifacts, let's setup some parameters and configuration that will be used throughout this notebook"
   ]
  },
  {
   "cell_type": "code",
   "execution_count": null,
   "id": "d60dc83e-e9a1-42d8-8de6-021c68f6ab45",
   "metadata": {
    "editable": true,
    "slideshow": {
     "slide_type": ""
    },
    "tags": []
   },
   "outputs": [],
   "source": [
    "import boto3\n",
    "import json\n",
    "import pprint\n",
    "from IPython.display import JSON, display, IFrame\n",
    "import sagemaker\n",
    "import pandas as pd\n",
    "from itables import show\n",
    "import time\n",
    "\n",
    "session = sagemaker.Session()\n",
    "default_bucket = session.default_bucket()\n",
    "\n",
    "region_name = 'us-west-2'\n",
    "# Initialize Bedrock Data Automation client\n",
    "bda_client = boto3.client('bedrock-data-automation')\n",
    "bda_runtime_client = boto3.client('bedrock-data-automation-runtime')\n",
    "s3_client = boto3.client('s3')\n",
    "\n",
    "bda_s3_input_location = f's3://{default_bucket}/bda/input'\n",
    "bda_s3_output_location = f's3://{default_bucket}/bda/output'"
   ]
  },
  {
   "cell_type": "markdown",
   "id": "eecb09e7-74f9-4d5a-a15f-8f9417698045",
   "metadata": {
    "editable": true,
    "slideshow": {
     "slide_type": ""
    },
    "tags": []
   },
   "source": [
    "# Prepare sample document\n",
    "For this lab, we use a `Monthly Treasury Statement for the United States Government` for Fiscal Year 2025 through November 30, 2024. The document is prepared by the Bureau of the Fiscal Service, Department of the Treasury and provides detailed information on the government's financial activities. We will extract a subset of pages from the `PDF` document and use BDA to extract and analyse the document content.\n",
    "\n",
    "### Download and store sample document\n",
    "we use the document url to download the document and store it a S3 location. \n",
    "\n",
    "Note - We will configure BDA to use the sample input from this S3 location, so we need to ensure that BDA has `s3:GetObject` access to this S3 location. If you are running the notebook in your own AWS Account, ensure that the SageMaker Execution role configured for this JupyterLab app has the right IAM permissions."
   ]
  },
  {
   "cell_type": "code",
   "execution_count": null,
   "id": "3eb1e55b-c165-4cfd-800f-8eac35cabf49",
   "metadata": {
    "editable": true,
    "slideshow": {
     "slide_type": ""
    },
    "tags": []
   },
   "outputs": [],
   "source": [
    "from pathlib import Path\n",
    "\n",
    "document_url = \"https://fiscaldata.treasury.gov/static-data/published-reports/mts/MonthlyTreasuryStatement_202411.pdf\"\n",
    "\n",
    "# Download the document\n",
    "local_file_name = \"./treasury1.pdf\"\n",
    "file_path_local = download_document(document_url, output_file_path=local_file_name)\n",
    "\n",
    "# Upload the document to S3\n",
    "file_name = Path(file_path_local).name\n",
    "document_s3_uri = f'{bda_s3_input_location}/{file_name}'\n",
    "\n",
    "target_s3_bucket, target_s3_key = get_bucket_and_key(document_s3_uri)\n",
    "s3_client.upload_file(local_file_name, target_s3_bucket, target_s3_key)\n",
    "\n",
    "print(f\"Downloaded file to: {file_path_local}\")\n",
    "print(f\"Uploaded file to S3: {target_s3_key}\")\n",
    "print(f\"document_s3_uri: {document_s3_uri}\")"
   ]
  },
  {
   "cell_type": "code",
   "execution_count": null,
   "id": "11703397-a2e7-44ec-9350-2dbe57951e9a",
   "metadata": {},
   "outputs": [],
   "source": [
    "import os\n",
    "import time\n",
    "import boto3\n",
    "from urllib.parse import urlparse\n",
    "import requests\n",
    "import io\n",
    "from PyPDF2 import PdfReader, PdfWriter\n",
    "from botocore.exceptions import ClientError\n",
    "from IPython.display import HTML\n",
    "from IPython.display import display\n",
    "from botocore.auth import SigV4Auth\n",
    "from botocore.awsrequest import AWSRequest\n",
    "import json\n",
    "\n",
    "\n",
    "bda_client = boto3.client('bedrock-data-automation')\n",
    "bda_runtime_client = boto3.client('bedrock-data-automation-runtime')\n",
    "\n",
    "def get_bucket_and_key(s3_uri):\n",
    "    parsed_uri = urlparse(s3_uri)\n",
    "    bucket_name = parsed_uri.netloc\n",
    "    object_key = parsed_uri.path.lstrip('/')\n",
    "    return (bucket_name, object_key)\n",
    "\n",
    "def wait_for_job_to_complete(invocationArn):\n",
    "    get_status_response = bda_runtime_client.get_data_automation_status(\n",
    "         invocationArn=invocationArn)\n",
    "    status = get_status_response['status']\n",
    "    job_id = invocationArn.split('/')[-1]\n",
    "    max_iterations = 60\n",
    "    iteration_count = 0\n",
    "    while status not in ['Success', 'ServiceError', 'ClientError']:\n",
    "        print(f'Waiting for Job to Complete. Current status is {status}')\n",
    "        time.sleep(10)\n",
    "        iteration_count += 1\n",
    "        if iteration_count >= max_iterations:\n",
    "            print(f\"Maximum number of iterations ({max_iterations}) reached. Breaking the loop.\")\n",
    "            break\n",
    "        get_status_response = bda_runtime_client.get_data_automation_status(\n",
    "         invocationArn=invocationArn)\n",
    "        status = get_status_response['status']\n",
    "    if iteration_count >= max_iterations:\n",
    "        raise Exception(\"Job did not complete within the expected time frame.\")\n",
    "    else:\n",
    "        print(f\"Invocation Job with id {job_id} completed. Status is {status}\")\n",
    "    return get_status_response\n",
    "\n",
    "\n",
    "def read_s3_object(s3_uri):\n",
    "    # Parse the S3 URI\n",
    "    parsed_uri = urlparse(s3_uri)\n",
    "    bucket_name = parsed_uri.netloc\n",
    "    object_key = parsed_uri.path.lstrip('/')\n",
    "    # Create an S3 client\n",
    "    s3_client = boto3.client('s3')\n",
    "    try:\n",
    "        # Get the object from S3\n",
    "        response = s3_client.get_object(Bucket=bucket_name, Key=object_key)\n",
    "        \n",
    "        # Read the content of the object\n",
    "        content = response['Body'].read().decode('utf-8')\n",
    "        return content\n",
    "    except Exception as e:\n",
    "        print(f\"Error reading S3 object: {e}\")\n",
    "        return None\n",
    "\n",
    "def download_document(url, start_page_index=None, end_page_index=None, output_file_path=None):\n",
    "\n",
    "    if not output_file_path:\n",
    "        filename = os.path.basename(url)\n",
    "        output_file_path = filename\n",
    "        \n",
    "    # Download the PDF\n",
    "    response = requests.get(url)\n",
    "    print(response)\n",
    "    pdf_content = io.BytesIO(response.content)\n",
    "    \n",
    "    # Create a PDF reader object\n",
    "    pdf_reader = PdfReader(pdf_content)\n",
    "    \n",
    "    # Create a PDF writer object\n",
    "    pdf_writer = PdfWriter()\n",
    "    \n",
    "    start_page_index = 0 if not start_page_index else max(start_page_index,0)\n",
    "    end_page_index = len(pdf_reader.pages)-1 if not end_page_index else min(end_page_index,len(pdf_reader.pages)-1)\n",
    "\n",
    "    # Specify the pages you want to extract (0-indexed)\n",
    "    pages_to_extract = list(range(start_page_index, end_page_index))\n",
    "    \n",
    "    # Add the specified pages to the writer\n",
    "    for page_num in pages_to_extract:\n",
    "        page = pdf_reader.pages[page_num]\n",
    "        pdf_writer.add_page(page)\n",
    "\n",
    "    print(output_file_path)\n",
    "    # Save the extracted pages to a new PDF\n",
    "    with open(output_file_path, \"wb\") as output_file:\n",
    "        pdf_writer.write(output_file)\n",
    "    return output_file_path\n",
    "\n",
    "\n",
    "import boto3\n",
    "from botocore.config import Config\n",
    "from urllib.parse import urlparse\n",
    "from typing import Optional\n",
    "import pandas as pd\n",
    "\n",
    "def generate_presigned_url(s3_uri: str, expiration: int = 3600) -> Optional[str]:\n",
    "    \"\"\"\n",
    "    Generate a presigned URL for an S3 object with retry logic.\n",
    "    \n",
    "    Args:\n",
    "        s3_uri (str): S3 URI in format 's3://bucket-name/key'\n",
    "        expiration (int): URL expiration time in seconds\n",
    "        \n",
    "    Returns:\n",
    "        Optional[str]: Presigned URL or None if generation fails\n",
    "    \"\"\"\n",
    "    try:\n",
    "        parsed = urlparse(s3_uri)\n",
    "        bucket = parsed.netloc\n",
    "        key = parsed.path.lstrip('/')\n",
    "        \n",
    "        config = Config(\n",
    "            signature_version='s3v4',\n",
    "            retries={'max_attempts': 3}\n",
    "        )\n",
    "        s3_client = boto3.client('s3', config=config)\n",
    "        \n",
    "        return s3_client.generate_presigned_url(\n",
    "            'get_object',\n",
    "            Params={'Bucket': bucket, 'Key': key},\n",
    "            ExpiresIn=expiration\n",
    "        )\n",
    "    except Exception as e:\n",
    "        print(f\"Error generating presigned URL for {s3_uri}: {e}\")\n",
    "        return None\n",
    "\n",
    "def create_image_html_column(row: pd.Series, image_col: str, width: str = '300px') -> str:\n",
    "    \"\"\"\n",
    "    Create HTML embedded image from S3 URI using presigned URL for a DataFrame row.\n",
    "    \n",
    "    Args:\n",
    "        row (pd.Series): DataFrame row\n",
    "        image_col (str): Name of column containing S3 URI\n",
    "        width (str): Fixed width for image\n",
    "        \n",
    "    Returns:\n",
    "        str: HTML string for embedded image\n",
    "    \"\"\"\n",
    "    s3_uri = row[image_col]\n",
    "    if type(s3_uri)==list:\n",
    "        s3_uri=s3_uri[0]    \n",
    "    if pd.isna(s3_uri):\n",
    "        return ''\n",
    "    \n",
    "    presigned_url = generate_presigned_url(s3_uri)\n",
    "    if presigned_url:\n",
    "        return f'<img src=\"{presigned_url}\" style=\"width: {width}; object-fit: contain;\">'\n",
    "    return ''\n",
    "\n",
    "\n",
    "# Example usage:\n",
    "\"\"\"\n",
    "# Add embedded images column\n",
    "df['embedded_images'] = add_embedded_images(df, 'crop_images', width='300px')\n",
    "\n",
    "# For Jupyter notebook display:\n",
    "from IPython.display import HTML\n",
    "HTML(df['embedded_images'].iloc[0])\n",
    "\"\"\"\n",
    "\n",
    "\n",
    "\n",
    "def wait_for_completion(\n",
    "    client,\n",
    "    get_status_function,\n",
    "    status_kwargs,\n",
    "    status_path_in_response,\n",
    "    completion_states,\n",
    "    error_states,\n",
    "    max_iterations=60,\n",
    "    delay=10\n",
    "):\n",
    "    for _ in range(max_iterations):\n",
    "        try:\n",
    "            response = get_status_function(**status_kwargs)\n",
    "            status = get_nested_value(response, status_path_in_response)\n",
    "\n",
    "            if status in completion_states:\n",
    "                print(f\"Operation completed successfully with status: {status}\")\n",
    "                return response\n",
    "\n",
    "            if status in error_states:\n",
    "                raise Exception(f\"Operation failed with status: {status}\")\n",
    "\n",
    "            print(f\"Current status: {status}. Waiting...\")\n",
    "            time.sleep(delay)\n",
    "\n",
    "        except ClientError as e:\n",
    "            raise Exception(f\"Error checking status: {str(e)}\")\n",
    "\n",
    "    raise Exception(f\"Operation timed out after {max_iterations} iterations\")\n",
    "\n",
    "\n",
    "def get_nested_value(data, path):\n",
    "    \"\"\"\n",
    "    Retrieve a value from a nested dictionary using a dot-separated path.\n",
    "\n",
    "    :param data: The dictionary to search\n",
    "    :param path: A string representing the path to the value, e.g., \"Job.Status\"\n",
    "    :return: The value at the specified path, or None if not found\n",
    "    \"\"\"\n",
    "    keys = path.split('.')\n",
    "    for key in keys:\n",
    "        if isinstance(data, dict) and key in data:\n",
    "            data = data[key]\n",
    "        else:\n",
    "            return None\n",
    "    return data\n",
    "\n",
    "\n",
    "def display_html(data, root='root', expanded=True, bg_color='#f0f0f0'):\n",
    "    html = f\"\"\"\n",
    "        <div class=\"custom-json-output\" style=\"background-color: {bg_color}; padding: 10px; border-radius: 5px;\">\n",
    "            <button class=\"toggle-btn\" style=\"margin-bottom: 10px;\">{'Collapse' if expanded else 'Expand'}</button>\n",
    "            <pre class=\"json-content\" style=\"display: {'block' if expanded else 'none'};\">{data}</pre>\n",
    "        </div>\n",
    "        <script>\n",
    "        (function() {{\n",
    "            var toggleBtn = document.currentScript.previousElementSibling.querySelector('.toggle-btn');\n",
    "            var jsonContent = document.currentScript.previousElementSibling.querySelector('.json-content');\n",
    "            toggleBtn.addEventListener('click', function() {{\n",
    "                if (jsonContent.style.display === 'none') {{\n",
    "                    jsonContent.style.display = 'block';\n",
    "                    toggleBtn.textContent = 'Collapse';\n",
    "                }} else {{\n",
    "                    jsonContent.style.display = 'none';\n",
    "                    toggleBtn.textContent = 'Expand';\n",
    "                }}\n",
    "            }});\n",
    "        }})();\n",
    "        </script>\n",
    "        \"\"\"\n",
    "    display(HTML(html))\n",
    "\n",
    "def send_request(region, url, method, credentials, payload=None, service='bedrock'):\n",
    "    host = url.split(\"/\")[2]\n",
    "    request = AWSRequest(\n",
    "            method,\n",
    "            url,\n",
    "            data=payload,\n",
    "            headers={'Host': host, 'Content-Type':'application/json'}\n",
    "    )    \n",
    "    SigV4Auth(credentials, service, region).add_auth(request)\n",
    "    response = requests.request(method, url, headers=dict(request.headers), data=payload, timeout=50)\n",
    "    response.raise_for_status()\n",
    "    content = response.content.decode(\"utf-8\")\n",
    "    data = json.loads(content)\n",
    "    return data\n",
    "\n",
    "def invoke_blueprint_recommendation_async(bda_client,region_name, payload):\n",
    "    credentials = boto3.Session().get_credentials().get_frozen_credentials()\n",
    "    url = f\"{bda_client.meta.endpoint_url}/invokeBlueprintRecommendationAsync\"\n",
    "    print(f'Sending request to {url}')\n",
    "    result = send_request(\n",
    "        region = region_name,\n",
    "        url = url,\n",
    "        method = \"POST\", \n",
    "        credentials = credentials,\n",
    "        payload=payload\n",
    "    )\n",
    "    return result\n",
    "\n",
    "\n",
    "def get_blueprint_recommendation(bda_client, region_name, credentials, job_id):\n",
    "    url = f\"{bda_client.meta.endpoint_url}/getBlueprintRecommendation/{job_id}/\"\n",
    "    result = send_request(\n",
    "        region = region_name,\n",
    "        url = url,\n",
    "        method = \"POST\",\n",
    "        credentials = credentials        \n",
    "    )\n",
    "    return result\n",
    "\n",
    "def create_or_update_blueprint(bda_client, blueprint_name, blueprint_description, blueprint_type, blueprint_stage, blueprint_schema):\n",
    "    list_blueprints_response = bda_client.list_blueprints(\n",
    "        blueprintStageFilter='ALL'\n",
    "    )\n",
    "    blueprint = next((blueprint for blueprint in\n",
    "                      list_blueprints_response['blueprints']\n",
    "                      if 'blueprintName' in blueprint and\n",
    "                      blueprint['blueprintName'] == blueprint_name), None)\n",
    "\n",
    "    if not blueprint:\n",
    "        print(f'No existing blueprint found with name={blueprint_name}, creating custom blueprint')\n",
    "        response = bda_client.create_blueprint(\n",
    "            blueprintName=blueprint_name,\n",
    "            type=blueprint_type,\n",
    "            blueprintStage=blueprint_stage,\n",
    "            schema=json.dumps(blueprint_schema)\n",
    "        )\n",
    "    else:\n",
    "        print(f'Found existing blueprint with name={blueprint_name}, updating Stage and Schema')\n",
    "        response = bda_client.update_blueprint(\n",
    "            blueprintArn=blueprint['blueprintArn'],\n",
    "            blueprintStage=blueprint_stage,\n",
    "            schema=json.dumps(blueprint_schema)\n",
    "        )\n",
    "\n",
    "    return response['blueprint']['blueprintArn']\n",
    "\n",
    "\n",
    "def transform_custom_output(input_json, explainability_info):\n",
    "    result = {\n",
    "        \"forms\": {},\n",
    "        \"tables\": {}\n",
    "    }\n",
    "    \n",
    "    def add_confidence(value, confidence_info):\n",
    "        # For simple key-value pairs\n",
    "        if isinstance(confidence_info, dict) and 'confidence' in confidence_info:\n",
    "            return {\n",
    "                \"value\": value,\n",
    "                \"confidence\": confidence_info['confidence']\n",
    "            }\n",
    "        return value\n",
    "    \n",
    "    def process_list_item(item, confidence_info):\n",
    "        # For handling nested dictionaries within lists\n",
    "        processed_item = {}\n",
    "        for key, value in item.items():\n",
    "            if isinstance(confidence_info, dict) and key in confidence_info:\n",
    "                processed_item[key] = add_confidence(value, confidence_info[key])\n",
    "        return processed_item\n",
    "\n",
    "    # Iterate through the input JSON\n",
    "    for key, value in input_json.items():\n",
    "        confidence_data = explainability_info.get(key, {})\n",
    "        \n",
    "        if isinstance(value, list):\n",
    "            # Handle lists (tables)\n",
    "            processed_list = []\n",
    "            for idx, item in enumerate(value):\n",
    "                if isinstance(item, dict):\n",
    "                    # Process each item in the list using its corresponding confidence info\n",
    "                    conf_info = confidence_data[idx] if isinstance(confidence_data, list) else confidence_data\n",
    "                    processed_list.append(process_list_item(item, conf_info))\n",
    "            result[\"tables\"][key] = processed_list\n",
    "        else:\n",
    "            # Handle simple key-value pairs (forms)\n",
    "            result[\"forms\"][key] = add_confidence(value, confidence_data)\n",
    "            \n",
    "    return result\n",
    "\n",
    "def get_summaries(custom_outputs):\n",
    "    custom_output_summaries = []\n",
    "    for custom_output in custom_outputs:\n",
    "        custom_output_summary = {}\n",
    "        if custom_output:\n",
    "            custom_output_summary = {\n",
    "                'page_indices': custom_output.get('split_document', {}).get('page_indices', None),\n",
    "                'matched_blueprint_name': custom_output.get('matched_blueprint', {}).get('name', None),\n",
    "                'confidence': custom_output.get('matched_blueprint', {}).get('confidence', None),\n",
    "                'document_class_type': custom_output.get('document_class', {}).get('type', None),\n",
    "                #'matched_blueprint_arn': custom_output.get('matched_blueprint', {}).get('arn', None)\n",
    "            }\n",
    "        else:\n",
    "            custom_output_summary = {}\n",
    "        custom_output_summaries += [custom_output_summary]\n",
    "    return custom_output_summaries\n"
   ]
  },
  {
   "cell_type": "code",
   "execution_count": null,
   "id": "d72f8d7d-d9fe-4058-90f2-d754dd273089",
   "metadata": {},
   "outputs": [],
   "source": [
    "import ipywidgets as widgets\n",
    "from IPython.display import display, HTML, JSON\n",
    "from PIL import Image\n",
    "import io\n",
    "import pandas as pd\n",
    "  \n",
    "\n",
    "\n",
    "def load_image(image_path):\n",
    "    # Open the image\n",
    "    img = Image.open(image_path)\n",
    "    \n",
    "    # Convert to JPEG if it's not already\n",
    "    if img.format != 'JPEG':\n",
    "        # Create a byte stream\n",
    "        buf = io.BytesIO() \n",
    "        # Save as JPEG to the byte stream\n",
    "        img.save(buf, format='JPEG')\n",
    "        # Get the byte value\n",
    "        image_bytes = buf.getvalue()\n",
    "    else:\n",
    "        # If already JPEG, read directly\n",
    "        with open(image_path, 'rb') as file:\n",
    "            image_bytes = file.read()\n",
    "    \n",
    "    return image_bytes\n",
    "\n",
    "def onclick_function():\n",
    "    return \"\"\"\n",
    "        <script>\n",
    "            function handleClick(event) {\n",
    "                var row = event.target;\n",
    "                if (!row) return;  // Click wasn't on a row\n",
    "\n",
    "                // Get the bbox data from the row\n",
    "                var bbox = row.getAttribute('data-bbox');\n",
    "                if (!bbox) return;  // No bbox data found\n",
    "                row.style.backgroundColor = '#ffe0e0';\n",
    "                \n",
    "                // Parse the bbox string back to array\n",
    "                //bbox = JSON.parse(bbox);\n",
    "                row.style.backgroundColor = '#fff0f0';\n",
    "\n",
    "                // Send custom event to Python\n",
    "                var event = new CustomEvent('bbox_click', { detail: bbox });\n",
    "                document.dispatchEvent(event);\n",
    "                row.style.backgroundColor = '#ffe0e0';\n",
    "                \n",
    "                \n",
    "                // First, reset all rows to default background\n",
    "                var rows = document.getElementsByClassName('kc-item');\n",
    "                for(var i = 0; i < rows.length; i++) {\n",
    "                    rows[i].style.backgroundColor = '#f8f8f8';\n",
    "                }\n",
    "                \n",
    "                // Then highlight only the clicked row\n",
    "                row.style.backgroundColor = '#e0e0e0';\n",
    "            }\n",
    "        </script>\n",
    "    \"\"\"\n",
    "\n",
    "def create_form_view(forms_data):\n",
    "    \"\"\"Create a formatted view for key-value pairs with nested dictionary support\"\"\"\n",
    "    html_content = \"\"\"\n",
    "    <style>\n",
    "        .kv-container {\n",
    "            display: flex;\n",
    "            flex-direction: column;\n",
    "            gap: 4px;\n",
    "            margin: 4px;\n",
    "            width: 100%;\n",
    "        }    \n",
    "        .kv-box {\n",
    "            border: 0px solid #e0e0e0;\n",
    "            border-radius: 4px;\n",
    "            padding: 4px;\n",
    "            margin: 0;\n",
    "            background-color: #f8f9fa;\n",
    "            width: auto;\n",
    "        }\n",
    "        .kv-item {\n",
    "            display: flex;\n",
    "            justify-content: space-between;\n",
    "            align-items: center;\n",
    "            margin-bottom: 2px;\n",
    "        }\n",
    "        .kc-item {\n",
    "            background-color: #fff;\n",
    "            display: flex;\n",
    "            justify-content: space-between;\n",
    "            align-items: center;\n",
    "            margin-bottom: 2px;\n",
    "        }\n",
    "        .key {\n",
    "            font-weight: 600; \n",
    "            padding: 1px 4px;\n",
    "            font-size: 0.85em; \n",
    "            color: #333;\n",
    "        }\n",
    "        .value {\n",
    "            background-color: #fff;\n",
    "            padding: 1px 4px;\n",
    "            border-radius: 4px;\n",
    "            font-size: 0.85em;\n",
    "            color: #666;\n",
    "            margin-top: 1px;\n",
    "        }\n",
    "        .confidence {\n",
    "            padding: 1px 4px;\n",
    "            border-radius: 4px;\n",
    "            font-size: 0.85em;\n",
    "            color: #2196F3;        \n",
    "        }\n",
    "        .nested-container {\n",
    "            margin-left: 8px;\n",
    "            margin-top: 4px;\n",
    "            border-left: 2px solid #e0e0e0;\n",
    "            padding-left: 4px;\n",
    "        }\n",
    "        .parent-key {\n",
    "            color: #6a1b9a;\n",
    "            font-size: 0.9em;\n",
    "            font-weight: 600;\n",
    "            margin-bottom: 2px;\n",
    "        }\n",
    "    </style>       \n",
    "    \"\"\"\n",
    "\n",
    "    html_content += onclick_function()\n",
    "    html_content += '<div class=\"kv-container\">'\n",
    "\n",
    "    def render_nested_dict(data, level=0):\n",
    "        nested_html = \"\"\n",
    "        if isinstance(data, dict):\n",
    "            for key, value in data.items():\n",
    "                if isinstance(value, dict):\n",
    "                    confidence = value.get('confidence', 0) * 100\n",
    "                    if 'value' in value:\n",
    "                        # Handle standard key-value pair with confidence\n",
    "                        nested_html += f\"\"\"\n",
    "                            <div class='kv-box'>\n",
    "                                <div class='kv-item'>\n",
    "                                    <div class='key'>{key}</div>\n",
    "                                </div>\n",
    "                                <div class='kc-item' onclick=handleClick(event) data-bbox='(10,40,110,200)'>\n",
    "                                    <div class=\"value\" >{value['value']}</div>\n",
    "                                    <div class='confidence'>{confidence:.1f}%</div>\n",
    "                                </div>\n",
    "                            </div>\n",
    "                        \"\"\"\n",
    "                    else:\n",
    "                        # Handle nested dictionary\n",
    "                        nested_html += f\"\"\"\n",
    "                            <div class='kv-box'>\n",
    "                                <div class='kv-item'>\n",
    "                                    <div class='key'>{key}</div>\n",
    "                                </div>\n",
    "                                <div class=\"nested-container\">\n",
    "                                    {render_nested_dict(value, level + 1)}\n",
    "                                </div>\n",
    "                            </div>\n",
    "                        \"\"\"\n",
    "                else:\n",
    "                    # Handle direct key-value pairs without confidence\n",
    "                    nested_html += f\"\"\"\n",
    "                        <div class='kv-box'>\n",
    "                            <div class='kv-item'>\n",
    "                                <div class='key'>{key}</div>\n",
    "                            </div>\n",
    "                            <div class=\"value\">{value}</div>\n",
    "                        </div>\n",
    "                    \"\"\"\n",
    "        return nested_html\n",
    "\n",
    "    html_content += render_nested_dict(forms_data)\n",
    "    html_content += \"</div>\"\n",
    "    \n",
    "    return HTML(html_content)\n",
    "\n",
    "\n",
    "def create_table_view(tables_data):\n",
    "    \"\"\"Create a formatted view for tables\"\"\"\n",
    "    html_content = \"\"\"\n",
    "    <style>\n",
    "        .table-container {\n",
    "            margin: 20px;\n",
    "        }\n",
    "        .table-view {\n",
    "            width: 100%;\n",
    "            border-collapse: collapse;\n",
    "            background-color: white;\n",
    "        }\n",
    "        .table-view th {\n",
    "            background-color: #f8f9fa;\n",
    "            padding: 12px;\n",
    "            text-align: left;\n",
    "            font-size: 0.85em;\n",
    "            border: 1px solid #dee2e6;\n",
    "        }\n",
    "        .table-view td {\n",
    "            padding: 12px;\n",
    "            border: 1px solid #dee2e6;\n",
    "            font-size: 0.8em;\n",
    "        }\n",
    "    </style>\n",
    "    \"\"\"\n",
    "    \n",
    "    for table_name, table_data in tables_data.items():\n",
    "        if table_data:\n",
    "            df = pd.DataFrame(table_data)\n",
    "            html_content += f\"\"\"\n",
    "            <div class=\"table-container\">\n",
    "                <h3>{table_name}</h3>\n",
    "                {df.to_html(classes='table-view', index=False)}\n",
    "            </div>\n",
    "            \"\"\"\n",
    "    \n",
    "    return HTML(html_content)\n",
    "\n",
    "\n",
    "def get_view(data, display_function=None):\n",
    "    out = widgets.Output()\n",
    "    with out:\n",
    "        if callable(display_function):\n",
    "            display_function(data)\n",
    "        else:\n",
    "            display(data)\n",
    "    return out\n",
    "\n",
    "\n",
    "def segment_view(document_image_uris, inference_result):\n",
    "    # Create the layout with top alignment\n",
    "    main_hbox_layout = widgets.Layout(\n",
    "        width='100%',\n",
    "        display='flex',\n",
    "        flex_flow='row nowrap',\n",
    "        align_items='stretch',\n",
    "        margin='0'\n",
    "    )\n",
    "    image_widget = widgets.Image(\n",
    "        value=b'',\n",
    "        format='png',\n",
    "        width='auto',\n",
    "        height='auto'\n",
    "    )\n",
    "    image_widget.value = load_image(image_path=document_image_uri)\n",
    "    image_container = widgets.VBox(\n",
    "        children=[image_widget],\n",
    "        layout=widgets.Layout(\n",
    "            border='1px solid #888',\n",
    "            padding='1px',\n",
    "            margin='2px',\n",
    "            width='60%',\n",
    "            flex='0 0 60%',\n",
    "            min_width='300px',\n",
    "            height='auto',\n",
    "            display='flex',\n",
    "            align_items='stretch',\n",
    "            justify_content='center'\n",
    "        )\n",
    "    )\n",
    "    \n",
    "    \n",
    "    # Create tabs for different views\n",
    "    tab = widgets.Tab(\n",
    "        layout=widgets.Layout(\n",
    "            width='40%',\n",
    "            flex='0 0 40%',\n",
    "            min_width='300px',\n",
    "            height='auto'\n",
    "        )\n",
    "    )\n",
    "    form_view = widgets.Output()\n",
    "    table_view = widgets.Output()\n",
    "    \n",
    "    with form_view:\n",
    "        display(create_form_view(inference_result['forms']))\n",
    "        \n",
    "    with table_view:\n",
    "        display(create_table_view(inference_result['tables']))\n",
    "    \n",
    "    tab.children = [form_view, table_view]\n",
    "    tab.set_title(0, 'Key Value Pairs')\n",
    "    tab.set_title(1, 'Tables')\n",
    "\n",
    "    \n",
    "    # Add custom CSS for scrollable container\n",
    "    custom_style = \"\"\"\n",
    "    <style>\n",
    "        .scrollable-vbox {\n",
    "            max-height: 1000px;\n",
    "            overflow-y: auto;\n",
    "            overflow-x: hidden;\n",
    "        }\n",
    "        .main-container {\n",
    "            display: flex;\n",
    "            height: 1000px;  /* Match with max-height above */\n",
    "        }\n",
    "        .jupyter-widgets-output-area .p-TabBar-tab {\n",
    "            min-width: fit-content !important;\n",
    "            max-width: fit-content !important;\n",
    "            padding: 6px 10px !important;\n",
    "    </style>\n",
    "    \"\"\"\n",
    "    display(HTML(custom_style))\n",
    "    \n",
    "    # Create the main layout\n",
    "    main_layout = widgets.HBox(\n",
    "        children=[image_container, tab],\n",
    "        layout=main_hbox_layout\n",
    "    )\n",
    "\n",
    "    \n",
    "    # Add the scrollable class to the right VBox\n",
    "    main_layout.add_class('main-container')\n",
    "    return main_layout\n",
    "\n",
    "\n",
    "def display_collapsable(data, title):\n",
    "    accordion = widgets.Accordion(children=[widgets.Output()])\n",
    "    accordion.set_title(0, title)\n",
    "    \n",
    "    with accordion.children[0]:\n",
    "        display(data)\n",
    "    \n",
    "    return accordion\n",
    "    \n",
    "\n",
    "def display_multiple(views, view_titles = None):\n",
    "    main_tab = widgets.Tab()\n",
    "    for i, view in enumerate(views):\n",
    "        main_tab.children = (*main_tab.children, view)\n",
    "        tab_title = view_titles[i] if view_titles and view_titles[i] else f'Document {i}'\n",
    "        main_tab.set_title(i, title=tab_title)\n",
    "    display(main_tab)"
   ]
  },
  {
   "cell_type": "code",
   "execution_count": null,
   "id": "4336143d-3a27-4b70-bd78-bd4a03777ac8",
   "metadata": {},
   "outputs": [],
   "source": []
  },
  {
   "cell_type": "code",
   "execution_count": null,
   "id": "8215c935-f502-433d-af93-e5846aa55983",
   "metadata": {},
   "outputs": [],
   "source": []
  },
  {
   "cell_type": "code",
   "execution_count": null,
   "id": "eae6943d-559b-4b7c-9a25-959945afd482",
   "metadata": {},
   "outputs": [],
   "source": []
  },
  {
   "cell_type": "code",
   "execution_count": null,
   "id": "793f44ea-8b8c-46ad-9f9c-9ce12ea429cd",
   "metadata": {},
   "outputs": [],
   "source": []
  },
  {
   "cell_type": "code",
   "execution_count": null,
   "id": "5f90cb3b-7ae4-4835-a2f9-50412220c179",
   "metadata": {},
   "outputs": [],
   "source": [
    "import utils"
   ]
  },
  {
   "cell_type": "code",
   "execution_count": null,
   "id": "f143f483-eb74-40ca-a6fa-9f5cb985292a",
   "metadata": {},
   "outputs": [],
   "source": []
  },
  {
   "cell_type": "code",
   "execution_count": null,
   "id": "b17c1022-9ebe-4685-bbe5-bb7af8600b98",
   "metadata": {},
   "outputs": [],
   "source": []
  },
  {
   "cell_type": "code",
   "execution_count": null,
   "id": "b30b4573-167d-450b-9cc7-c8670eb3cf38",
   "metadata": {},
   "outputs": [],
   "source": []
  },
  {
   "cell_type": "code",
   "execution_count": null,
   "id": "515eebd0-f9d8-4479-930e-8eb424ba2307",
   "metadata": {},
   "outputs": [],
   "source": []
  },
  {
   "cell_type": "code",
   "execution_count": null,
   "id": "2477e168-c586-4f12-9006-febce031a05c",
   "metadata": {},
   "outputs": [],
   "source": []
  },
  {
   "cell_type": "markdown",
   "id": "f739ab05-b9bb-428e-b44b-3352420e4b96",
   "metadata": {
    "editable": true,
    "slideshow": {
     "slide_type": ""
    },
    "tags": []
   },
   "source": [
    "### View Sample Document"
   ]
  },
  {
   "cell_type": "code",
   "execution_count": null,
   "id": "f56001da-07e6-4188-8c50-928f410fc477",
   "metadata": {
    "editable": true,
    "slideshow": {
     "slide_type": ""
    },
    "tags": []
   },
   "outputs": [],
   "source": [
    "IFrame(local_file_name, width=600, height=400)"
   ]
  },
  {
   "cell_type": "code",
   "execution_count": null,
   "id": "9ab4d365-ea9a-4106-b2a5-a9ffae002e6e",
   "metadata": {},
   "outputs": [],
   "source": []
  },
  {
   "cell_type": "markdown",
   "id": "ee0ab1d3-269a-4ba5-804a-7eadf1c9a05f",
   "metadata": {
    "editable": true,
    "slideshow": {
     "slide_type": ""
    },
    "tags": []
   },
   "source": [
    "# Define standard output types and granularity\n",
    "\n",
    "We can configure various type of insights and their granularity for the standard output using `standard_output_config`.\n",
    "Below is a summary of the options that you can set when using standard output with documents. \n",
    "\n",
    "For more details see the [bda-output-documents](https://docs.aws.amazon.com/bedrock/latest/userguide/bda-output-documents.html) documentation."
   ]
  },
  {
   "cell_type": "markdown",
   "id": "dca3a2e4-c400-4eb2-8938-92317cd99ee0",
   "metadata": {
    "editable": true,
    "slideshow": {
     "slide_type": ""
    },
    "tags": []
   },
   "source": [
    "- **[Response Granularity](https://docs.aws.amazon.com/bedrock/latest/userguide/bda-output-documents.html#document-granularity)**\n",
    "This setting indicates to BDA the kind of response you want to receive from document text extraction. Each level of granularity gives you more and more seperated responses, with page providing all of the text extracted together, and word providing each word as a seperate response. The available granularity levels are:\n",
    "  - Page\n",
    "  - Element    \n",
    "  - Word\n",
    "\n",
    "- **Output settings**\n",
    "Output settings determine the structure of the results produced by BDA. The options for output settings are:\n",
    "    - **JSON** - The result would be a JSON output file with the information from your configuration settings. This is the **default** for document analysis.    \n",
    "    - **JSON+files**  The result would include a JSON output along with files that correspond with different outputs. For example, this setting gives you a text file for the overall text extraction, a markdown file for the text with structural markdown, and CSV files for each table that's found in the text.\n",
    "- **Text Format**\n",
    "Text format determines the different kinds of texts that will be provided via various extraction operations. You can select any number of the following options for your text format.\n",
    "\n",
    "    - **Plaintext** – This setting provides a text-only output with no formatting or other markdown elements noted.\n",
    "    - **Text with markdown** – The **default** output setting for standard output. Provides text with markdown elements integrated.    \n",
    "    - **Text with HTML** – Provides text with HTML elements integrated in the response.    \n",
    "    - **CSV** – Provides a CSV structured output for tables within the document. This will only give a response for tables, and not other elements of the document\n",
    "\n",
    "- **Bounding Boxes**\n",
    "\n",
    "    - With the Bounding Boxes option enabled, BDA would output `Bounding Boxes` for elements in the document in form of coordinates of four corners of the box. This helps in creating a visual outline of the element in the document.\n",
    "\n",
    "\n",
    "- **Generative Fields**\n",
    "    \n",
    "    - When `Generative Fields` are enabled, BDA generates a 10-word summary and a 250 word description of the document in the output. Additionally with Response Granularity at element level enabled, BDA also generates a descriptive caption of each figure detected in the document. Figures include things like charts, graphs, and images.\n",
    "\n",
    "\n",
    "  Both these options are **disabled by default**.\n",
    "\n",
    "\n",
    "Now that we have looked at the default options, let's create a config which activates all the different types, so that we can see how the output looks like. We leave image, audio, and video types for illustrational purposes."
   ]
  },
  {
   "cell_type": "code",
   "execution_count": null,
   "id": "e8cd666c-c3f2-48ac-84a4-7a3dc1919c4b",
   "metadata": {
    "editable": true,
    "slideshow": {
     "slide_type": ""
    },
    "tags": []
   },
   "outputs": [],
   "source": [
    "standard_output_config =  {\n",
    "  \"document\": {\n",
    "    \"extraction\": {\n",
    "      \"granularity\": {\"types\": [\"DOCUMENT\",\"PAGE\", \"ELEMENT\",\"LINE\",\"WORD\"]},\n",
    "      \"boundingBox\": {\"state\": \"ENABLED\"}\n",
    "    },\n",
    "    \"generativeField\": {\"state\": \"ENABLED\"},\n",
    "    \"outputFormat\": {\n",
    "      \"textFormat\": {\"types\": [\"PLAIN_TEXT\", \"MARKDOWN\", \"HTML\", \"CSV\"]},\n",
    "      \"additionalFileFormat\": {\"state\": \"ENABLED\"}\n",
    "    }\n",
    "  },\n",
    "  \"image\": {\n",
    "    \"extraction\": {\n",
    "      \"category\": {\n",
    "        \"state\": \"ENABLED\",\n",
    "        \"types\": [\"CONTENT_MODERATION\",\"TEXT_DETECTION\"]\n",
    "      },\n",
    "      \"boundingBox\": {\"state\": \"ENABLED\"}\n",
    "    },\n",
    "    \"generativeField\": {\n",
    "      \"state\": \"ENABLED\",\n",
    "      \"types\": [\"IMAGE_SUMMARY\",\"IAB\"]\n",
    "    }\n",
    "  },\n",
    "  \"video\": {\n",
    "    \"extraction\": {\n",
    "      \"category\": {\n",
    "        \"state\": \"ENABLED\",\n",
    "        \"types\": [\"CONTENT_MODERATION\",\"TEXT_DETECTION\",\"TRANSCRIPT\"]\n",
    "      },\n",
    "      \"boundingBox\": {\"state\": \"ENABLED\"}\n",
    "    },\n",
    "    \"generativeField\": {\n",
    "      \"state\": \"ENABLED\",\n",
    "      \"types\": [\"VIDEO_SUMMARY\", \"SCENE_SUMMARY\",\"IAB\"]\n",
    "    }\n",
    "  },\n",
    "  \"audio\": {\n",
    "    \"extraction\": {\n",
    "      \"category\": {\n",
    "        \"state\": \"ENABLED\",\n",
    "        \"types\": ['AUDIO_CONTENT_MODERATION','CHAPTER_CONTENT_MODERATION','TRANSCRIPT']\n",
    "      }\n",
    "    },\n",
    "    \"generativeField\": {\n",
    "      \"state\": \"ENABLED\",\n",
    "      \"types\": ['AUDIO_SUMMARY','CHAPTER_SUMMARY','IAB']\n",
    "    }\n",
    "  }\n",
    "}\n",
    "\n",
    "# JSON(standard_output_config[\"document\"], expanded=True)\n",
    "JSON(standard_output_config, expanded=False)"
   ]
  },
  {
   "cell_type": "code",
   "execution_count": null,
   "id": "81158d79-4ffb-4328-9538-83b8061eeca2",
   "metadata": {},
   "outputs": [],
   "source": []
  },
  {
   "cell_type": "code",
   "execution_count": null,
   "id": "b42f1d32-8ecd-4ca4-95a4-692825207f5b",
   "metadata": {},
   "outputs": [],
   "source": []
  },
  {
   "cell_type": "markdown",
   "id": "09a9f7c7-f2e2-4e81-b5e6-776c20a743e8",
   "metadata": {
    "editable": true,
    "slideshow": {
     "slide_type": ""
    },
    "tags": []
   },
   "source": [
    "# Create project with standard output config"
   ]
  },
  {
   "cell_type": "markdown",
   "id": "3f55263c-4d5a-42c5-93cb-e7f4fd7b344e",
   "metadata": {
    "editable": true,
    "slideshow": {
     "slide_type": ""
    },
    "tags": []
   },
   "source": [
    "To utilize standard output configurations, we create a project and utilize the previously defined standard output config. To get an overview of all the available parameters for project creation, see the [create project documentation](https://boto3.amazonaws.com/v1/documentation/api/latest/reference/services/bedrock-data-automation/client/create_data_automation_project.html)."
   ]
  },
  {
   "cell_type": "code",
   "execution_count": null,
   "id": "d42d5ff4-fee2-486b-a91d-d15b394bb4ca",
   "metadata": {
    "editable": true,
    "slideshow": {
     "slide_type": ""
    },
    "tags": []
   },
   "outputs": [],
   "source": [
    "project_name= \"my_bda_project\"\n",
    "\n",
    "# delete project if it already exists\n",
    "projects_existing = [project for project in bda_client.list_data_automation_projects()[\"projects\"] if project[\"projectName\"] == project_name]\n",
    "if len(projects_existing) > 0:\n",
    "    print(f\"Deleting existing project: {projects_existing[0]}\")\n",
    "    bda_client.delete_data_automation_project(projectArn=projects_existing[0][\"projectArn\"])\n",
    "    time.sleep(1)"
   ]
  },
  {
   "cell_type": "code",
   "execution_count": null,
   "id": "d5f8c167-c51c-4cdb-b3c4-64dfa322b5cc",
   "metadata": {},
   "outputs": [],
   "source": []
  },
  {
   "cell_type": "code",
   "execution_count": null,
   "id": "f4f7e047-b872-4d2a-afaa-f2ce23c59137",
   "metadata": {},
   "outputs": [],
   "source": []
  },
  {
   "cell_type": "code",
   "execution_count": null,
   "id": "30d1f6d9-6a2b-4285-a2a2-057b35bf5944",
   "metadata": {
    "editable": true,
    "slideshow": {
     "slide_type": ""
    },
    "tags": []
   },
   "outputs": [],
   "source": [
    "\n",
    "response = bda_client.create_data_automation_project(\n",
    "    projectName=project_name,\n",
    "    projectDescription=\"project to get our extended standard output\",\n",
    "    projectStage='LIVE',\n",
    "    standardOutputConfiguration=standard_output_config    \n",
    ")\n",
    "project_arn = response[\"projectArn\"]\n",
    "time.sleep(1)\n",
    "JSON(response)"
   ]
  },
  {
   "cell_type": "code",
   "execution_count": null,
   "id": "15619e79-460c-4b05-989a-513bdb44a2af",
   "metadata": {},
   "outputs": [],
   "source": []
  },
  {
   "cell_type": "code",
   "execution_count": null,
   "id": "dea48e9a-cb9a-4e95-869d-4295308c99a1",
   "metadata": {},
   "outputs": [],
   "source": []
  },
  {
   "cell_type": "markdown",
   "id": "4fe34695-ce93-4c31-8ec6-89eadd79f59f",
   "metadata": {
    "editable": true,
    "slideshow": {
     "slide_type": ""
    },
    "tags": []
   },
   "source": [
    "# Invoke data automation async"
   ]
  },
  {
   "cell_type": "code",
   "execution_count": null,
   "id": "96e534fe-e15d-498f-b424-57c0be6010aa",
   "metadata": {
    "editable": true,
    "slideshow": {
     "slide_type": ""
    },
    "tags": []
   },
   "outputs": [],
   "source": [
    "\n",
    "response = bda_runtime_client.invoke_data_automation_async(\n",
    "    inputConfiguration={\n",
    "        's3Uri': 's3://testing-rhubarb-0411/bda/input/treasury.pdf'\n",
    "    },\n",
    "    outputConfiguration={\n",
    "        's3Uri': 's3://testing-rhubarb-0411/bda/output/'\n",
    "    },\n",
    " dataAutomationConfiguration={\n",
    "        'dataAutomationArn': project_arn,\n",
    "        'stage': 'LIVE'\n",
    "    }\n",
    ")\n",
    "\n",
    "invocationArn = response['invocationArn']"
   ]
  },
  {
   "cell_type": "code",
   "execution_count": null,
   "id": "e0e6e0fb-4c4d-4202-bf1e-d397ce5adde3",
   "metadata": {},
   "outputs": [],
   "source": []
  },
  {
   "cell_type": "code",
   "execution_count": null,
   "id": "fe6f7b03-2175-4aee-b056-d451cf7003c6",
   "metadata": {},
   "outputs": [],
   "source": []
  },
  {
   "cell_type": "code",
   "execution_count": null,
   "id": "94ef209c-398d-46b5-8e0c-9b8163f16b91",
   "metadata": {},
   "outputs": [],
   "source": []
  },
  {
   "cell_type": "markdown",
   "id": "44f118f9-9733-4235-a557-830739b42985",
   "metadata": {
    "editable": true,
    "slideshow": {
     "slide_type": ""
    },
    "tags": []
   },
   "source": [
    "### Get data automation job status\n",
    "\n",
    "We can check the status and monitor the progress of the Invocation job using the `GetDataAutomationStatus`. This API takes the invocation arn we retrieved from the response to the `InvokeDataAutomationAsync` operation above.\n",
    "\n",
    "The invocation job status moves from `Created` to `InProgress` and finally to `Success` when the job completes successfully, along with the S3 location of the results. If the job encounters and error the final status is either `ServiceError` or `ClientError` with error details"
   ]
  },
  {
   "cell_type": "code",
   "execution_count": null,
   "id": "384a70e2-c004-48c5-9f84-b54536d97e9f",
   "metadata": {
    "editable": true,
    "slideshow": {
     "slide_type": ""
    },
    "tags": []
   },
   "outputs": [],
   "source": [
    "status_response = wait_for_job_to_complete(invocationArn=invocationArn)\n",
    "if status_response['status'] == 'Success':\n",
    "    job_metadata_s3_location = status_response['outputConfiguration']['s3Uri']\n",
    "else:\n",
    "    raise Exception(f'Invocation Job Error, error_type={status_response[\"error_type\"]},error_message={status_response[\"error_message\"]}')"
   ]
  },
  {
   "cell_type": "code",
   "execution_count": null,
   "id": "5686c5f4-e5d0-4ac4-ae6b-17d0e10a4afe",
   "metadata": {},
   "outputs": [],
   "source": []
  },
  {
   "cell_type": "code",
   "execution_count": null,
   "id": "f475265d-c345-4483-bddc-e64fb9e3adc4",
   "metadata": {},
   "outputs": [],
   "source": []
  },
  {
   "cell_type": "markdown",
   "id": "201eab0e-1bd5-4784-a7f8-8c97120782ea",
   "metadata": {
    "editable": true,
    "slideshow": {
     "slide_type": ""
    },
    "tags": []
   },
   "source": [
    "### Retrieve job metadata\n",
    "\n",
    "Let's retrieve and explore the job metadata response.\n",
    "It will contain a field `standard_output_path` where the results have been saved."
   ]
  },
  {
   "cell_type": "code",
   "execution_count": null,
   "id": "56d2fe5a-2301-4d72-ac6a-5514316a3194",
   "metadata": {
    "editable": true,
    "slideshow": {
     "slide_type": ""
    },
    "tags": []
   },
   "outputs": [],
   "source": [
    "job_metadata = json.loads(read_s3_object(job_metadata_s3_location))\n",
    "JSON(job_metadata,root='job_metadata',expanded=True)"
   ]
  },
  {
   "cell_type": "code",
   "execution_count": null,
   "id": "ab31e2e7-17cf-4bf3-8e57-ee05b58630c0",
   "metadata": {},
   "outputs": [],
   "source": []
  },
  {
   "cell_type": "code",
   "execution_count": null,
   "id": "0349a05f-34d1-4875-8e81-3fec8b80ea5b",
   "metadata": {},
   "outputs": [],
   "source": []
  },
  {
   "cell_type": "markdown",
   "id": "6282162b-3d0e-43b0-a45d-4f77248e0ccb",
   "metadata": {
    "editable": true,
    "slideshow": {
     "slide_type": ""
    },
    "tags": []
   },
   "source": [
    "# Explore standard output results\n",
    "\n",
    "We can now explore the standard output received from processing documents using Data Automation. \n",
    "\n",
    "Based on the standard output configuration, we used above, we can have the following fields:\n",
    "* **metadata**\n",
    "* **document**\n",
    "* **pages**\n",
    "* **elements**\n",
    "* **text_lines**\n",
    "* **text_words**\n",
    "\n",
    "We will review each of these fields in the sections below."
   ]
  },
  {
   "cell_type": "markdown",
   "id": "550c02d8-48c8-49c2-84b6-b76539da7675",
   "metadata": {
    "editable": true,
    "slideshow": {
     "slide_type": ""
    },
    "tags": []
   },
   "source": [
    "First lets download and parse the standard_output json file, which we received from the job metadata."
   ]
  },
  {
   "cell_type": "code",
   "execution_count": null,
   "id": "6944582b-773a-4a09-ac95-56264def5ff9",
   "metadata": {
    "editable": true,
    "slideshow": {
     "slide_type": ""
    },
    "tags": []
   },
   "outputs": [],
   "source": [
    "asset_id=0\n",
    "standard_output_path = next(item[\"segment_metadata\"][0][\"standard_output_path\"] \n",
    "                                for item in job_metadata[\"output_metadata\"] \n",
    "                                if item['asset_id'] == asset_id)\n",
    "standard_output = json.loads(read_s3_object(standard_output_path))\n",
    "JSON(standard_output)"
   ]
  },
  {
   "cell_type": "code",
   "execution_count": null,
   "id": "7c548a9c-2ce8-46f5-9fb6-26582a05990a",
   "metadata": {},
   "outputs": [],
   "source": []
  },
  {
   "cell_type": "code",
   "execution_count": null,
   "id": "49f726ba-68d7-4f69-a5bd-924b74fe3ae7",
   "metadata": {},
   "outputs": [],
   "source": []
  },
  {
   "cell_type": "markdown",
   "id": "028fed44-1399-4f84-a557-b727e30a4b13",
   "metadata": {
    "editable": true,
    "slideshow": {
     "slide_type": ""
    },
    "tags": []
   },
   "source": [
    "### metadata\n",
    "The metadata section in the response provides an overview of the metadata associated with the document. This include the S3 bucket and key for the input document. The metadata also contains the modality that was selected for your response, the number of pages processed as well as the start and end page index."
   ]
  },
  {
   "cell_type": "code",
   "execution_count": null,
   "id": "016ee0b9-288c-44d4-bd45-f914d99bb3d8",
   "metadata": {
    "editable": true,
    "slideshow": {
     "slide_type": ""
    },
    "tags": []
   },
   "outputs": [],
   "source": [
    "JSON(standard_output['metadata'],root='metadata',expanded=True)"
   ]
  },
  {
   "cell_type": "code",
   "execution_count": null,
   "id": "594010df-0e1e-414b-b868-4fe2a83165b3",
   "metadata": {},
   "outputs": [],
   "source": []
  },
  {
   "cell_type": "markdown",
   "id": "95ac64f9-2e7b-4701-86d2-150eb6a674e5",
   "metadata": {
    "editable": true,
    "slideshow": {
     "slide_type": ""
    },
    "tags": []
   },
   "source": [
    "### document\n",
    "The document section of the standard output provides document level granularity information. Document level granularity would include an analysis of information from the document providing key pieces of info.\n",
    "\n",
    "By default the document level granularity includes statistics that contain information on the actual content of the document, such as how many semantic elements there are, how many figures, words, lines, etc. We will look at further information that would be presented in the document level granularity when we modify the standard output using projects."
   ]
  },
  {
   "cell_type": "code",
   "execution_count": null,
   "id": "8daa8c5a-fb12-4543-9390-d6455b38584f",
   "metadata": {
    "editable": true,
    "slideshow": {
     "slide_type": ""
    },
    "tags": []
   },
   "outputs": [],
   "source": [
    "df_document = pd.json_normalize(standard_output[\"document\"])\n",
    "\n",
    "df = df_document.T\n",
    "pd.set_option('display.max_colwidth', 200)\n",
    "df"
   ]
  },
  {
   "cell_type": "code",
   "execution_count": null,
   "id": "ca26e056-03c5-4f66-96f9-16d513a329d3",
   "metadata": {},
   "outputs": [],
   "source": []
  },
  {
   "cell_type": "markdown",
   "id": "c85be5e7-57fe-485d-a26c-cbbf38930fd7",
   "metadata": {
    "editable": true,
    "slideshow": {
     "slide_type": ""
    },
    "tags": []
   },
   "source": [
    "### pages\n",
    "With Page level granularity (enabled by default) text in a page are consolidated and are listed in the pages section with one item for each page. The page entity in the Standard output include the page index. The individual page entities also include the statistics that contain information on the actual content of the document, such as how many semantic elements there are, how many figures, words, lines, etc. The asset metadata represents the page bounds using coordinates of the four corners.\n",
    "\n",
    "Below, we look at a snippet of the output pertaining to a specific page."
   ]
  },
  {
   "cell_type": "code",
   "execution_count": null,
   "id": "47ba20c9-0284-49f6-8e1f-a49382f97a7a",
   "metadata": {
    "editable": true,
    "slideshow": {
     "slide_type": ""
    },
    "tags": []
   },
   "outputs": [],
   "source": [
    "df_pages = pd.json_normalize(standard_output[\"pages\"])\n",
    "pd.reset_option('display.max_colwidth')  \n",
    "df_pages.loc[3].T\n",
    "# show(df_pages.loc[3].T, classes=\"compact\")"
   ]
  },
  {
   "cell_type": "code",
   "execution_count": null,
   "id": "fd013692-1041-4e1a-9435-2bdfe9584917",
   "metadata": {},
   "outputs": [],
   "source": []
  },
  {
   "cell_type": "code",
   "execution_count": null,
   "id": "571e0289-c65c-411c-816f-6a949ccbc256",
   "metadata": {
    "editable": true,
    "slideshow": {
     "slide_type": ""
    },
    "tags": []
   },
   "outputs": [],
   "source": [
    "JSON(standard_output['pages'][8],root='pages[7]',expanded=False)"
   ]
  },
  {
   "cell_type": "code",
   "execution_count": null,
   "id": "fd3f0247-3c40-426b-9ee2-187bb3ee8c16",
   "metadata": {
    "editable": true,
    "slideshow": {
     "slide_type": ""
    },
    "tags": []
   },
   "outputs": [],
   "source": [
    "from IPython.display import Markdown, display\n",
    "\n",
    "pages_md = [page[\"representation\"][\"markdown\"] for page in standard_output['pages']]\n",
    "display(Markdown(pages_md[4]))"
   ]
  },
  {
   "cell_type": "markdown",
   "id": "26f32795-8436-44bd-9d71-8f8ad43143d4",
   "metadata": {
    "editable": true,
    "slideshow": {
     "slide_type": ""
    },
    "tags": []
   },
   "source": [
    "### elements\n",
    "The element section contains the various semantic elements extracted from the documents including Text content, Tables and figures. The text and figure entites are further sub-classified for example TITLE/SECTION_TITLE for Text or Chart for figures."
   ]
  },
  {
   "cell_type": "markdown",
   "id": "e0a4011e-a84c-4c50-bca4-917470d1590d",
   "metadata": {
    "editable": true,
    "slideshow": {
     "slide_type": ""
    },
    "tags": []
   },
   "source": [
    "#### TEXT elements"
   ]
  },
  {
   "cell_type": "code",
   "execution_count": null,
   "id": "72db3a72-849e-4446-a064-5a342ed491c2",
   "metadata": {
    "editable": true,
    "slideshow": {
     "slide_type": ""
    },
    "tags": []
   },
   "outputs": [],
   "source": [
    "# Filter dataframe for text elements\n",
    "df_elements = pd.json_normalize(standard_output[\"elements\"])\n",
    "df_text = df_elements[df_elements[\"type\"] == \"TEXT\"]\n",
    "\n",
    "# Display formatted dataframe\n",
    "show(\n",
    "    df_text.iloc[:50, 2:8],\n",
    "    columnDefs=[\n",
    "        {\"width\": \"280px\", \"targets\": [4, 5]},\n",
    "        {\"width\": \"150px\", \"targets\": [3]},\n",
    "        {\"className\": \"dt-left\", \"targets\": \"_all\"}\n",
    "    ],\n",
    "    style=\"width:1200px\",\n",
    "    autoWidth=False,\n",
    "    classes = \"compact\",\n",
    "    showIndex=False\n",
    ")"
   ]
  },
  {
   "cell_type": "code",
   "execution_count": null,
   "id": "4f4c3711-9b3d-43d5-9391-95da697d4d7a",
   "metadata": {},
   "outputs": [],
   "source": []
  },
  {
   "cell_type": "code",
   "execution_count": null,
   "id": "02ea30f0-907a-442f-9b47-6eb4cdb98516",
   "metadata": {
    "editable": true,
    "slideshow": {
     "slide_type": ""
    },
    "tags": []
   },
   "outputs": [],
   "source": [
    "JSON(standard_output['elements'][5],root='elements[5]')"
   ]
  },
  {
   "cell_type": "code",
   "execution_count": null,
   "id": "35d3e61a-ab3a-4989-a9f0-745e323c0283",
   "metadata": {},
   "outputs": [],
   "source": []
  },
  {
   "cell_type": "markdown",
   "id": "bae620f8-4d36-4dbc-ba02-0871dad2a990",
   "metadata": {
    "editable": true,
    "slideshow": {
     "slide_type": ""
    },
    "tags": []
   },
   "source": [
    "#### FIGURE elements"
   ]
  },
  {
   "cell_type": "code",
   "execution_count": null,
   "id": "2a19949a-160c-45d5-95de-1c827d813791",
   "metadata": {
    "editable": true,
    "scrolled": true,
    "slideshow": {
     "slide_type": ""
    },
    "tags": []
   },
   "outputs": [],
   "source": [
    "\n",
    "# Filter dataframe for text elements\n",
    "df_elements = pd.json_normalize(standard_output[\"elements\"])\n",
    "df_figure = df_elements[df_elements[\"type\"] == \"FIGURE\"]\n",
    "\n",
    "embedded_images=df_figure.apply( lambda row: create_image_html_column(row, \"crop_images\",\"200px\"), axis=1)\n",
    "df_figure.insert(6, 'image', embedded_images)\n",
    "\n",
    "# Display formatted dataframe\n",
    "show(\n",
    "    df_figure.iloc[:, 2:9],\n",
    "    columnDefs=[                \n",
    "        {\"width\": \"120px\", \"targets\": [0,1,3]},          \n",
    "        {\"width\": \"220px\", \"targets\": [2,4]},\n",
    "        {\"width\": \"280px\", \"targets\": [5]},        \n",
    "        {\"width\": \"480px\", \"targets\": [6]},        \n",
    "        {\"className\": \"dt-left\", \"targets\": \"_all\"}\n",
    "    ],\n",
    "    style=\"width:1200px\",\n",
    "    # autoWidth=False,\n",
    "    classes=\"compact\",\n",
    "    showIndex=False,\n",
    "    # column_filters=\"header\"\n",
    ")"
   ]
  },
  {
   "cell_type": "code",
   "execution_count": null,
   "id": "b7c6a8a0-5f1d-4662-882a-fe497d5e6142",
   "metadata": {},
   "outputs": [],
   "source": []
  },
  {
   "cell_type": "code",
   "execution_count": null,
   "id": "c542efe1-0b70-44b5-a3c8-4fff15912dec",
   "metadata": {},
   "outputs": [],
   "source": []
  },
  {
   "cell_type": "code",
   "execution_count": null,
   "id": "37413c83-e9b9-4f27-9217-eb64261259f2",
   "metadata": {
    "editable": true,
    "slideshow": {
     "slide_type": ""
    },
    "tags": []
   },
   "outputs": [],
   "source": [
    "JSON([el for el in standard_output[\"elements\"]if el[\"type\"]==\"FIGURE\"])"
   ]
  },
  {
   "cell_type": "code",
   "execution_count": null,
   "id": "c013fbc7-1bb9-4ac1-8229-c06e13192961",
   "metadata": {},
   "outputs": [],
   "source": []
  },
  {
   "cell_type": "markdown",
   "id": "43b2ff25-4253-46e7-a04a-c45d2fc33151",
   "metadata": {
    "editable": true,
    "slideshow": {
     "slide_type": ""
    },
    "tags": []
   },
   "source": [
    "#### TABLE elements"
   ]
  },
  {
   "cell_type": "code",
   "execution_count": null,
   "id": "98c6beb6-c314-42dc-9352-166e4e1580b5",
   "metadata": {
    "editable": true,
    "slideshow": {
     "slide_type": ""
    },
    "tags": []
   },
   "outputs": [],
   "source": [
    "\n",
    "# Filter dataframe for text elements\n",
    "df_elements = pd.json_normalize(standard_output[\"elements\"])\n",
    "df_table = df_elements[df_elements[\"type\"] == \"TABLE\"]\n",
    "\n",
    "embedded_images=df_table.apply( lambda row: create_image_html_column(row, \"crop_images\",\"500px\"), axis=1)\n",
    "df_table.insert(6, 'image', embedded_images)\n",
    "cols = [\"type\",\"locations\",\"image\", \n",
    "        #'representation.text', 'representation.markdown', \n",
    "        'representation.html','title', 'summary', 'footers', 'headers', 'csv_s3_uri',\n",
    "       'representation.csv']\n",
    "# Display formatted dataframe\n",
    "show(\n",
    "    df_table[cols],\n",
    "    columnDefs=[                \n",
    "        {\"width\": \"120px\", \"targets\": [0,1]},   \n",
    "        {\"width\": \"340px\", \"targets\": [2]},  \n",
    "        {\"width\": \"380px\", \"targets\": [3]},\n",
    "        {\"width\": \"150px\", \"targets\": [5,6,7,8]},        \n",
    "        {\"className\": \"dt-left\", \"targets\": \"_all\"}\n",
    "    ],\n",
    "    # style=\"width:1200px\",\n",
    "    # autoWidth=True,\n",
    "    classes=\"compact\",\n",
    "    showIndex=False,\n",
    "    scrollY=\"400\"    \n",
    ")"
   ]
  },
  {
   "cell_type": "code",
   "execution_count": null,
   "id": "4288a4d4-28bc-464b-aa1f-e96f0fd5aa6b",
   "metadata": {},
   "outputs": [],
   "source": []
  },
  {
   "cell_type": "code",
   "execution_count": null,
   "id": "a595fdfa-da74-4adc-a4a8-434f0bbfbbdc",
   "metadata": {
    "editable": true,
    "slideshow": {
     "slide_type": ""
    },
    "tags": []
   },
   "outputs": [],
   "source": [
    "JSON([el for el in standard_output[\"elements\"]if el[\"type\"]==\"TABLE\"][2], root=\"sample_table\")"
   ]
  },
  {
   "cell_type": "markdown",
   "id": "8ba9e4ac-cddc-4894-8367-ed2a9be00382",
   "metadata": {},
   "source": [
    "### text_lines elements"
   ]
  },
  {
   "cell_type": "code",
   "execution_count": null,
   "id": "9c5634d8-b1d0-4295-8e28-e33a6a604629",
   "metadata": {},
   "outputs": [],
   "source": [
    "JSON(standard_output[\"text_lines\"][:10], root=\"text_lines\")"
   ]
  },
  {
   "cell_type": "code",
   "execution_count": null,
   "id": "064eabbd-0245-4ab4-86a0-e972f6759749",
   "metadata": {},
   "outputs": [],
   "source": []
  },
  {
   "cell_type": "code",
   "execution_count": null,
   "id": "20b59c6e-6dfa-40a9-9309-66cd383af8d1",
   "metadata": {},
   "outputs": [],
   "source": [
    "df = pd.json_normalize(standard_output[\"text_lines\"])\n",
    "show(df, classes=\"compact\")"
   ]
  },
  {
   "cell_type": "code",
   "execution_count": null,
   "id": "59d575b9-41de-4def-8aab-d6dc233aae00",
   "metadata": {},
   "outputs": [],
   "source": []
  },
  {
   "cell_type": "code",
   "execution_count": null,
   "id": "548d5f52-2983-46ca-8334-f7a232cae003",
   "metadata": {},
   "outputs": [],
   "source": []
  },
  {
   "cell_type": "markdown",
   "id": "fcd633e5-277e-44bc-9de7-587e87fe9faa",
   "metadata": {},
   "source": [
    "### text_words elements"
   ]
  },
  {
   "cell_type": "code",
   "execution_count": null,
   "id": "ff5e14af-6027-428d-8b81-d018686adc14",
   "metadata": {},
   "outputs": [],
   "source": [
    "JSON(standard_output[\"text_words\"][3:4], root=\"text_words[3:4]\", expanded=True)"
   ]
  },
  {
   "cell_type": "code",
   "execution_count": null,
   "id": "1bc33b8f-750e-4dad-9395-5fa9eace7e54",
   "metadata": {},
   "outputs": [],
   "source": []
  },
  {
   "cell_type": "markdown",
   "id": "5e83cd8f-507f-4414-92eb-f92a25f894e4",
   "metadata": {},
   "source": [
    "## Conclusion\n",
    "\n",
    "We explored the standard output of BDA for documents which can be configured and allows us to detailled insights about a document and its structure,  like headers, sections, paragraphs, tables, figures, charts, etc.\n",
    "\n",
    "It does not only detect these elements but als interprets these elements, e.g. by giving a description of a figures, or by extracting the chart depicted values into a structured table. This structured output is very powerful \n",
    "\n",
    "This allows"
   ]
  },
  {
   "cell_type": "markdown",
   "id": "339176b4-0bee-4900-9f50-d3656f86b93e",
   "metadata": {
    "editable": true,
    "slideshow": {
     "slide_type": ""
    },
    "tags": []
   },
   "source": [
    "## Clean Up\n",
    "Let's delete uploaded sample file from s3 input directory and the generated job output files."
   ]
  },
  {
   "cell_type": "code",
   "execution_count": null,
   "id": "7ebefcf2-c020-41da-9770-35fe9cfdc9e4",
   "metadata": {},
   "outputs": [],
   "source": [
    "import os\n",
    "from pathlib import Path\n",
    "\n",
    "# Delete S3 File\n",
    "s3_client.delete_object(Bucket=target_s3_bucket, Key=target_s3_key)\n",
    "\n",
    "# Delete local file\n",
    "if os.path.exists(local_file_name):\n",
    "    os.remove(local_file_name)\t\n",
    "\n",
    "# Delete bda job output\n",
    "bda_s3_job_location = str(Path(job_metadata_s3_location).parent).replace(\"s3:/\",\"s3://\")\n",
    "!aws s3 rm {bda_s3_job_location} --recursive"
   ]
  },
  {
   "cell_type": "markdown",
   "id": "b9a0f968-b70b-479f-a16a-a62eb0a9cf48",
   "metadata": {},
   "source": [
    "## Next Steps\n"
   ]
  },
  {
   "cell_type": "code",
   "execution_count": null,
   "id": "5a6228ea-9b57-402d-8b20-88003e54da29",
   "metadata": {},
   "outputs": [],
   "source": [
    "import boto3\n",
    "import json\n",
    "import pprint\n",
    "from IPython.display import JSON, display, HTML, Markdown, IFrame\n",
    "import IPython.display as display\n",
    "from sagemaker import get_execution_role\n",
    "\n",
    "default_execution_role = get_execution_role()\n",
    "region_name = 'us-west-2'\n",
    "# Initialize Bedrock Data Automation client\n",
    "bda_client = boto3.client('bedrock-data-automation')\n",
    "bda_runtime_client = boto3.client('bedrock-data-automation-runtime')\n",
    "s3_client = boto3.client('s3')\n",
    "\n",
    "bda_s3_input_location = 's3://genai.octankmarkets.com/input'\n",
    "bda_s3_output_location = 's3://genai.octankmarkets.com/output'\n",
    "print(f'Using default execution role {default_execution_role}')\n",
    "\n"
   ]
  },
  {
   "cell_type": "code",
   "execution_count": null,
   "id": "af345aab-c575-4a24-9b40-a7a52eea0a71",
   "metadata": {},
   "outputs": [],
   "source": []
  },
  {
   "cell_type": "code",
   "execution_count": null,
   "id": "ca4a9b1b-ad61-4bca-a094-12a87ac0657a",
   "metadata": {},
   "outputs": [],
   "source": []
  }
 ],
 "metadata": {
  "kernelspec": {
   "display_name": "Python 3 (ipykernel)",
   "language": "python",
   "name": "python3"
  },
  "language_info": {
   "codemirror_mode": {
    "name": "ipython",
    "version": 3
   },
   "file_extension": ".py",
   "mimetype": "text/x-python",
   "name": "python",
   "nbconvert_exporter": "python",
   "pygments_lexer": "ipython3",
   "version": "3.11.11"
  }
 },
 "nbformat": 4,
 "nbformat_minor": 5
}
