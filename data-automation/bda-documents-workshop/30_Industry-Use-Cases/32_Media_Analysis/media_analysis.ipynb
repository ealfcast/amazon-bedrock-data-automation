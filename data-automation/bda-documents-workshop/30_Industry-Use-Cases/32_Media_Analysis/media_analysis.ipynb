{
 "cells": [
  {
   "cell_type": "markdown",
   "id": "e639bcad-74d0-409c-9803-4a3bd6af8ce1",
   "metadata": {},
   "source": [
    "## Media Analysis\n",
    "\n",
    "This notebook uses a media analysis example that demonstrates how to monetize long-form content, such as TV shows and movies, through contextual ad placement. To deliver the right ads at the right video moments, you need to derive meaningful insights from both the ads and the video content. Amazon Bedrock Data Automation enables your contextual ad placement application by generating these insights. For instance, you can extract valuable information such as video summaries, scene-level summaries, content moderation concepts, and scene classifications based on the Interactive Advertising Bureau (IAB) taxonomy.\n"
   ]
  },
  {
   "cell_type": "code",
   "execution_count": null,
   "id": "94d0f555-3510-4f66-bb0e-c8019b69d780",
   "metadata": {},
   "outputs": [],
   "source": []
  }
 ],
 "metadata": {
  "kernelspec": {
   "display_name": "Python 3 (ipykernel)",
   "language": "python",
   "name": "python3"
  },
  "language_info": {
   "codemirror_mode": {
    "name": "ipython",
    "version": 3
   },
   "file_extension": ".py",
   "mimetype": "text/x-python",
   "name": "python",
   "nbconvert_exporter": "python",
   "pygments_lexer": "ipython3",
   "version": "3.11.11"
  }
 },
 "nbformat": 4,
 "nbformat_minor": 5
}
