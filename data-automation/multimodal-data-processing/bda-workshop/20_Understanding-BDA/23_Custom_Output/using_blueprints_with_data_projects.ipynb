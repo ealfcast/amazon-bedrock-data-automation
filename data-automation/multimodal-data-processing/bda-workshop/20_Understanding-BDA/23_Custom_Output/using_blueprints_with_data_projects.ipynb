{
 "cells": [
  {
   "cell_type": "markdown",
   "id": "f8c367b1-d454-4690-ad8b-661a2c48e130",
   "metadata": {},
   "source": [
    "# Using Blueprints with Data Projects"
   ]
  },
  {
   "cell_type": "markdown",
   "id": "413716ac-5427-4fc7-93a9-588904e315de",
   "metadata": {
    "jp-MarkdownHeadingCollapsed": true
   },
   "source": [
    "## Introduction\n",
    "\n",
    "Data projects in Amazon Bedrock data automation (BDA) provide a easy way of grouping your standard and customt output configuration for processing files. You can create a BDA project and use the ARN of the project to call the `InvokeDataAutomationAsync` API. BDA processes the input file automatically using the configuration settings defined in that project. Output is then generated based on the project's configuration. You can use a single project resource for multiple file types. \n",
    "\n",
    "You can also configure a project with Blueprints for documents (or images), to define custom output. In this notebook, we will explore the capability of using project with blueprints for processing documents. We will start with creating a project with a single blueprint and progress to add multiple blueprints (preexisting and custom) to process file with multiple documents."
   ]
  },
  {
   "cell_type": "markdown",
   "id": "18e6bcf7-9978-4ea9-89f5-370897a7a357",
   "metadata": {},
   "source": [
    "## Using projects with custom output"
   ]
  },
  {
   "cell_type": "markdown",
   "id": "f2d0d9d9-cf99-4c6e-9a25-4a6473e28cdc",
   "metadata": {},
   "source": [
    "You can configure custom output for documents by adding a new blueprint (or a preexisting blueprint from BDA global catalog) to the BDA project. If your use case has different kinds of documents then you can use  multiple blueprints for the different document kinds with the project.\n",
    "\n",
    "**Note: A project chan have up to 40 document blueprints attached.**\n",
    "\n",
    "When you attach multiple blueprints with a project, BDA would automatically find an appropriate blueprint matching using the input document. Once a matching blueprint is found, BDA generates custom output using that blueprint.\n",
    "\n",
    "Let's go through the steps to creating a project and attaching a set of blueprints to process different file types."
   ]
  },
  {
   "cell_type": "markdown",
   "id": "32087d8d-bdec-4f2d-a6be-3eac9b1b9f8c",
   "metadata": {},
   "source": [
    "## Prerequisites"
   ]
  },
  {
   "cell_type": "code",
   "execution_count": null,
   "id": "b201923b-d528-4134-9008-8bb66fc0ee8f",
   "metadata": {
    "scrolled": true
   },
   "outputs": [],
   "source": [
    "pip install \"boto3>=1.35.76\" PyPDF2 --upgrade -qq"
   ]
  },
  {
   "cell_type": "markdown",
   "id": "0ecacbe4-bc6e-431b-b65d-cfdfc4fc3c46",
   "metadata": {},
   "source": [
    "## Setup"
   ]
  },
  {
   "cell_type": "markdown",
   "id": "4329ac90-4bd3-486b-ac34-1df59e4f1fd0",
   "metadata": {},
   "source": [
    "Before we get to the part where we invoke BDA with our sample artifacts, let's setup some parameters and configuration that will be used throughout this notebook"
   ]
  },
  {
   "cell_type": "code",
   "execution_count": null,
   "id": "c1eb0e6d-6ead-4c15-ba16-d3bf9568d4bd",
   "metadata": {},
   "outputs": [],
   "source": [
    "import boto3\n",
    "import json\n",
    "import pprint\n",
    "from IPython.display import JSON, display, HTML, Markdown, IFrame\n",
    "import IPython.display as display\n",
    "from sagemaker import get_execution_role\n",
    "\n",
    "\n",
    "%load_ext autoreload\n",
    "%autoreload 1\n",
    "import sys\n",
    "sys.path.append('..')\n",
    "%aimport utils.helper_functions\n",
    "\n",
    "from utils.helper_functions import read_s3_object, create_sample_file, get_bucket_and_key,wait_for_completion, display_html\n",
    "\n",
    "default_execution_role = get_execution_role()\n",
    "region_name = 'us-west-2'\n",
    "# Initialize Bedrock Data Automation client\n",
    "bda_client = boto3.client('bedrock-data-automation')\n",
    "bda_runtime_client = boto3.client('bedrock-data-automation-runtime')\n",
    "s3_client = boto3.client('s3')\n",
    "\n",
    "bda_s3_input_location = 's3://genai.octankmarkets.com/input'\n",
    "bda_s3_output_location = 's3://genai.octankmarkets.com/output'\n",
    "print(f'Using default execution role {default_execution_role}')"
   ]
  },
  {
   "cell_type": "markdown",
   "id": "d4e75668-5ff7-44c7-9340-40eba7eeb653",
   "metadata": {},
   "source": [
    "## Configure IAM Permissions"
   ]
  },
  {
   "cell_type": "markdown",
   "id": "efd7ca9c-eb3f-4bf4-9b94-00484cfad709",
   "metadata": {
    "jp-MarkdownHeadingCollapsed": true
   },
   "source": [
    "\n",
    "The features being explored in the notebook require the following IAM Policies for the role being used. If you're running this notebook within SageMaker Studio in your own Account, update the default execution role for the SageMaker user profile to include the following IAM policies. \n",
    "\n",
    "```json\n",
    "[\n",
    "    {\n",
    "        \"Sid\": \"BDACreatePermissions\",\n",
    "        \"Effect\": \"Allow\",\n",
    "        \"Action\": [\n",
    "            \"bedrock:CreateDataAutomationProject\",\n",
    "            \"bedrock:CreateBlueprint\"\n",
    "        ],\n",
    "        \"Resource\": \"*\"\n",
    "    },\n",
    "    {\n",
    "        \"Sid\": \"BDAOProjectsPermissions\",\n",
    "        \"Effect\": \"Allow\",\n",
    "        \"Action\": [\n",
    "            \"bedrock:CreateDataAutomationProject\",\n",
    "            \"bedrock:UpdateDataAutomationProject\",\n",
    "            \"bedrock:GetDataAutomationProject\",\n",
    "            \"bedrock:GetDataAutomationStatus\",\n",
    "            \"bedrock:ListDataAutomationProjects\",\n",
    "            \"bedrock:InvokeDataAutomationAsync\"\n",
    "        ],\n",
    "        \"Resource\": \"arn:aws:bedrock:::data-automation-project/*\"\n",
    "    },\n",
    "    {\n",
    "        \"Sid\": \"BDABlueprintPermissions\",\n",
    "        \"Effect\": \"Allow\",\n",
    "        \"Action\": [\n",
    "            \"bedrock:GetBlueprint\",\n",
    "            \"bedrock:ListBlueprints\",\n",
    "            \"bedrock:UpdateBlueprint\",\n",
    "            \"bedrock:DeleteBlueprint\"\n",
    "        ],\n",
    "        \"Resource\": \"arn:aws:bedrock:::blueprint/*\"\n",
    "    }\n",
    "]"
   ]
  },
  {
   "cell_type": "markdown",
   "id": "74956165-60a7-4cff-862f-7c13e4f162bd",
   "metadata": {},
   "source": [
    "### View Sample Document"
   ]
  },
  {
   "cell_type": "code",
   "execution_count": null,
   "id": "dad363d1-96d8-4a64-bfcc-abad334ab84d",
   "metadata": {},
   "outputs": [],
   "source": [
    "IFrame(\"examples/BankStatement.pdf\", width=900, height=800)"
   ]
  },
  {
   "cell_type": "markdown",
   "id": "51596109-564c-40ee-953c-0e2d8068e514",
   "metadata": {},
   "source": [
    "### Upload sample document to S3\n",
    "For this lab, we use a CMS 1500 Medical claim for with dummy data to explore the blueprint feature of BDA. \n",
    "\n",
    "Note - We will configure BDA to use the sample input from this S3 location, so we need to ensure that BDA has `s3:GetObject` access to this S3 location. If you are running the notebook in your own AWS Account, ensure that the SageMaker Execution role configured for this JupyterLab app has the right IAM permissions."
   ]
  },
  {
   "cell_type": "code",
   "execution_count": null,
   "id": "4f69fa37-68b7-45a0-8349-4f3066eb80d3",
   "metadata": {},
   "outputs": [],
   "source": [
    "%load_ext autoreload\n",
    "%autoreload 1\n",
    "import sys\n",
    "sys.path.append('..')\n",
    "%aimport utils.helper_functions \n",
    "from utils.helper_functions import wait_for_job_to_complete, read_s3_object, create_sample_file, get_bucket_and_key, wait_for_completion, display_html\n",
    "\n",
    "input_bucket, input_prefix = get_bucket_and_key(bda_s3_input_location)\n",
    "local_file_name = 'examples/BankStatement.pdf'\n",
    "s3_file_name = 'BankStatement.pdf'\n",
    "s3_response = s3_client.upload_file(local_file_name, input_bucket,\n",
    "                                    f'{input_prefix}/{s3_file_name}')"
   ]
  },
  {
   "cell_type": "markdown",
   "id": "7abb5e76-5aa7-4b88-ba05-05c141be9d43",
   "metadata": {},
   "source": [
    "### Invoke Blueprint Recommendation\n",
    "With our sample ready, we can have BDA recommend a blueprint for our sample document from the sample set."
   ]
  },
  {
   "cell_type": "code",
   "execution_count": null,
   "id": "b02aa59d-0110-466e-88d7-21147311913e",
   "metadata": {},
   "outputs": [],
   "source": [
    "from utils.helper_functions import invoke_blueprint_recommendation_async, get_blueprint_recommendation\n",
    "import json\n",
    "inputConfiguration = {\n",
    "    \"inputDataConfiguration\":{\n",
    "        \"s3Uri\":f'{bda_s3_input_location}/{s3_file_name}'\n",
    "    }\n",
    "}\n",
    "response = invoke_blueprint_recommendation_async(bda_client=bda_client,\n",
    "                                      region_name=region_name, \n",
    "                                      credentials = boto3.Session().get_credentials().get_frozen_credentials(),\n",
    "                                      payload=json.dumps(inputConfiguration))\n",
    "\n",
    "job_id = response['jobId']"
   ]
  },
  {
   "cell_type": "markdown",
   "id": "494bdc7c-71e6-44a6-91a0-22403b6e2a34",
   "metadata": {},
   "source": [
    "### Wait for blueprint recommendation results"
   ]
  },
  {
   "cell_type": "code",
   "execution_count": null,
   "id": "c30638e3-260f-4770-b35a-3546fc834a2c",
   "metadata": {},
   "outputs": [],
   "source": [
    "status_response = wait_for_completion(\n",
    "            client=None,\n",
    "            get_status_function=get_blueprint_recommendation,\n",
    "            status_kwargs={\n",
    "                'bda_client': bda_client,\n",
    "                'job_id': job_id,\n",
    "                'region_name': region_name,\n",
    "                'credentials': boto3.Session().get_credentials().get_frozen_credentials(),\n",
    "            },\n",
    "            completion_states=['Completed'],\n",
    "            error_states=['ClientError', 'ServiceError'],\n",
    "            status_path_in_response='status',\n",
    "            max_iterations=15,\n",
    "            delay=30\n",
    ")"
   ]
  },
  {
   "cell_type": "markdown",
   "id": "a6c5f008-249c-4d4a-aca6-ced33c08cd89",
   "metadata": {},
   "source": [
    "### Identify Blueprint\n",
    "BDA outputs a blueprint recommendation along with a prompt recommendation that is useful to create a custom blueprint, if needed.\n",
    "\n",
    "For this example, we will fetch the blueprint that was recommended by BDA."
   ]
  },
  {
   "cell_type": "code",
   "execution_count": null,
   "id": "7fea941b-f5fb-4e9d-9a47-bb14afc9c8eb",
   "metadata": {},
   "outputs": [],
   "source": [
    "blueprint_recommendation = next((result for result in status_response['results'] if result['type'] == 'BLUEPRINT_RECOMMENDATION'),None)"
   ]
  },
  {
   "cell_type": "code",
   "execution_count": null,
   "id": "1ff98d6d-9a6b-421b-b926-10c0d27eae46",
   "metadata": {},
   "outputs": [],
   "source": [
    "blueprint_arn = blueprint_recommendation['blueprintRecommendation']['matchedBlueprint']['blueprintArn']"
   ]
  },
  {
   "cell_type": "markdown",
   "id": "f8261739-6951-491e-916f-d3a71074f2d3",
   "metadata": {},
   "source": [
    "The `create_data_automation_project` API takes a project name, description, stage (LIVE / DEVELOPMENT), the standard output configuration and a custom output configuration as input. We are only focussing on the custom output in this notebook, so we leave the standard output configuration as empty so BDA will use the defaults. Additionally, we use a custom configuration with the arn for the recommended blueprint."
   ]
  },
  {
   "cell_type": "code",
   "execution_count": null,
   "id": "e08c509b-d2b6-4270-8b01-d48e2889b47e",
   "metadata": {},
   "outputs": [],
   "source": [
    "bda_project_name = 'document-custom-output'\n",
    "bda_project_stage = 'LIVE'\n",
    "standard_output_configuration = {\n",
    "    'document': {\n",
    "        'extraction': {\n",
    "            'granularity': {\n",
    "                'types': [\n",
    "                    'DOCUMENT', 'PAGE'\n",
    "                ]\n",
    "            },\n",
    "            'boundingBox': {\n",
    "                'state': 'ENABLED'\n",
    "            }\n",
    "        },\n",
    "        'generativeField': {\n",
    "            'state': 'ENABLED'\n",
    "        },\n",
    "        'outputFormat': {\n",
    "            'textFormat': {\n",
    "                'types': [\n",
    "                    'MARKDOWN'\n",
    "                ]\n",
    "            },\n",
    "            'additionalFileFormat': {\n",
    "                'state': 'ENABLED'\n",
    "            }\n",
    "        }\n",
    "    }\n",
    "}\n",
    "\n",
    "custom_output_configuration={\n",
    "    'blueprints': [\n",
    "            {\n",
    "                'blueprintArn': blueprint_arn\n",
    "            },\n",
    "        ]\n",
    "}"
   ]
  },
  {
   "cell_type": "markdown",
   "id": "f95ef777-e6f6-46e9-a860-718eb85492b0",
   "metadata": {},
   "source": [
    "### Create data automation project\n",
    "\n",
    "Check if the project with the given name already exists, if no create a new project with given configuration otherwise update the data project with the given configuration and stage"
   ]
  },
  {
   "cell_type": "code",
   "execution_count": null,
   "id": "74bd2841-135e-4797-af93-322ea1d80eb5",
   "metadata": {},
   "outputs": [],
   "source": [
    "list_project_response = bda_client.list_data_automation_projects(\n",
    "    projectStageFilter=bda_project_stage)\n",
    "\n",
    "project = next((project for project in list_project_response['projects']\n",
    "               if project['projectName'] == bda_project_name), None)\n",
    "\n",
    "if not project:\n",
    "    response = bda_client.create_data_automation_project(\n",
    "        projectName=bda_project_name,\n",
    "        projectDescription='A BDA Project for Standard Output from Document',\n",
    "        projectStage=bda_project_stage,\n",
    "        standardOutputConfiguration=standard_output_configuration,\n",
    "        customOutputConfiguration=custom_output_configuration)\n",
    "else:\n",
    "    response = bda_client.update_data_automation_project(\n",
    "        projectArn=project['projectArn'],\n",
    "        standardOutputConfiguration=standard_output_configuration,\n",
    "        customOutputConfiguration=custom_output_configuration)\n",
    "\n",
    "project_arn = response['projectArn']"
   ]
  },
  {
   "cell_type": "markdown",
   "id": "56f5e30c-c037-4d72-9ded-12f0621060d2",
   "metadata": {},
   "source": [
    "### Wait for create/update data project operation completion"
   ]
  },
  {
   "cell_type": "code",
   "execution_count": null,
   "id": "0c32f25f-6947-48ac-adca-8eb36fc48238",
   "metadata": {},
   "outputs": [],
   "source": [
    "status_response = wait_for_completion(\n",
    "            client=bda_client,\n",
    "            get_status_function=bda_client.get_data_automation_project,\n",
    "            status_kwargs={'projectArn': project_arn},\n",
    "            completion_states=['COMPLETED'],\n",
    "            error_states=['FAILED'],\n",
    "            status_path_in_response='project.status',\n",
    "            max_iterations=15,\n",
    "            delay=30\n",
    ")"
   ]
  },
  {
   "cell_type": "code",
   "execution_count": null,
   "id": "0de9a837-1687-48f5-af4e-21d7b801b374",
   "metadata": {},
   "outputs": [],
   "source": [
    "status_response = wait_for_completion(\n",
    "            client=None,\n",
    "            get_status_function=get_blueprint_recommendation,\n",
    "            status_kwargs={\n",
    "                'bda_client': bda_client,\n",
    "                'job_id': job_id,\n",
    "                'region_name': region_name,\n",
    "                'credentials': boto3.Session().get_credentials().get_frozen_credentials(),\n",
    "            },\n",
    "            completion_states=['Completed'],\n",
    "            error_states=['ClientError', 'ServiceError'],\n",
    "            status_path_in_response='status',\n",
    "            max_iterations=15,\n",
    "            delay=30\n",
    ")"
   ]
  },
  {
   "cell_type": "markdown",
   "id": "e61d9c01-769d-4bf8-ba44-974f83860c14",
   "metadata": {},
   "source": [
    "### Invoke Data Automation Async\n",
    "With the data project configured, we can now invoke data automation for our sample document."
   ]
  },
  {
   "cell_type": "code",
   "execution_count": null,
   "id": "bbc098b6-7f54-4a11-ab49-55772e3c5a06",
   "metadata": {},
   "outputs": [],
   "source": [
    "response = bda_runtime_client.invoke_data_automation_async(\n",
    "    inputConfiguration={\n",
    "        's3Uri': f'{bda_s3_input_location}/{s3_file_name}'\n",
    "    },\n",
    "    outputConfiguration={\n",
    "        's3Uri': bda_s3_output_location\n",
    "    },\n",
    "    dataAutomationConfiguration={\n",
    "        'dataAutomationArn': project_arn,\n",
    "        'stage': 'LIVE'\n",
    "    }\n",
    ")\n",
    "\n",
    "invocationArn = response['invocationArn']\n",
    "print(f'Invoked data automation job with invocation arn {invocationArn}') "
   ]
  },
  {
   "cell_type": "markdown",
   "id": "fc31dda3-2cbc-49bc-ad40-876deb62ee17",
   "metadata": {},
   "source": [
    "### Get Data Automation Status\n",
    "\n",
    "We can check the status and monitor the progress of the Invocation job using the `GetDataAutomationStatus`. This API takes the invocation arn we retrieved from the response to the `InvokeDataAutomationAsync` operation above.\n",
    "\n",
    "The invocation job status moves from `Created` to `InProgress` and finally to `Success` when the job completes successfully, along with the S3 location of the results. If the job encounters and error the final status is either `ServiceError` or `ClientError` with error details"
   ]
  },
  {
   "cell_type": "code",
   "execution_count": null,
   "id": "d2ced475-951a-4e30-9b87-c6e5e9eca474",
   "metadata": {
    "editable": true,
    "slideshow": {
     "slide_type": ""
    },
    "tags": []
   },
   "outputs": [],
   "source": [
    "status_response = wait_for_completion(\n",
    "            client=bda_client,\n",
    "            get_status_function=bda_runtime_client.get_data_automation_status,\n",
    "            status_kwargs={'invocationArn': invocationArn},\n",
    "            completion_states=['Success'],\n",
    "            error_states=['ClientError', 'ServiceError'],\n",
    "            status_path_in_response='status',\n",
    "            max_iterations=15,\n",
    "            delay=30\n",
    ")\n",
    "if status_response['status'] == 'Success':\n",
    "    job_metadata_s3_location = status_response['outputConfiguration']['s3Uri']\n",
    "else:\n",
    "    raise Exception(f'Invocation Job Error, error_type={status_response[\"error_type\"]},error_message={status_response[\"error_message\"]}')"
   ]
  },
  {
   "cell_type": "markdown",
   "id": "7b8127dc-7bad-4852-a77c-3940f60d05aa",
   "metadata": {},
   "source": [
    "### Retrieve Job Metadata"
   ]
  },
  {
   "cell_type": "code",
   "execution_count": null,
   "id": "21eaccd9-b44b-4b5a-bc01-ba5d13306344",
   "metadata": {},
   "outputs": [],
   "source": [
    "job_metadata = json.loads(read_s3_object(job_metadata_s3_location))\n",
    "JSON(job_metadata, root='job_metadata', expanded=True)"
   ]
  },
  {
   "cell_type": "markdown",
   "id": "25a7bb59-47f5-4a26-830c-68081af25407",
   "metadata": {},
   "source": [
    "### Extract Custom output"
   ]
  },
  {
   "cell_type": "markdown",
   "id": "4a440677-4aba-4f0c-a5e4-138a76a27abc",
   "metadata": {},
   "source": [
    "We can now explore the custom output received from processing document."
   ]
  },
  {
   "cell_type": "code",
   "execution_count": null,
   "id": "31183ca3-7287-4bc9-ad3c-b6a432ab555a",
   "metadata": {},
   "outputs": [],
   "source": [
    "asset_id = 0\n",
    "custom_output_path = next(item[\"segment_metadata\"][0][\"custom_output_path\"] \n",
    "                                for item in job_metadata[\"output_metadata\"] \n",
    "                                if item['asset_id'] == asset_id)\n",
    "custom_output = json.loads(read_s3_object(custom_output_path))\n",
    "inference_result = custom_output.get('inference_result')\n",
    "explainability_info = custom_output.get('explainability_info')[0]"
   ]
  },
  {
   "cell_type": "markdown",
   "id": "ecc228da-0bb2-400a-ab94-6452ed2653ee",
   "metadata": {},
   "source": [
    "### Extract Standard output"
   ]
  },
  {
   "cell_type": "code",
   "execution_count": null,
   "id": "7c0cd1ea-5e04-4a35-8618-94952f8f8cf6",
   "metadata": {},
   "outputs": [],
   "source": [
    "asset_id=0\n",
    "standard_output_path = next(item[\"segment_metadata\"][0][\"standard_output_path\"] \n",
    "                                for item in job_metadata[\"output_metadata\"] \n",
    "                                if item['asset_id'] == asset_id)\n",
    "standard_output = json.loads(read_s3_object(standard_output_path))"
   ]
  },
  {
   "cell_type": "code",
   "execution_count": null,
   "id": "62876339-cace-410d-bdcd-3a4a808b9c4d",
   "metadata": {},
   "outputs": [],
   "source": [
    "JSON(standard_output)"
   ]
  },
  {
   "cell_type": "code",
   "execution_count": null,
   "id": "b563cbda-554c-45fb-9c17-6820b00bce57",
   "metadata": {},
   "outputs": [],
   "source": [
    "custom_output"
   ]
  },
  {
   "cell_type": "code",
   "execution_count": null,
   "id": "efde6d8d-b0c5-4632-a37c-62975b6a9c81",
   "metadata": {},
   "outputs": [],
   "source": [
    "schema = json.loads(blueprint_recommendation.get('blueprintRecommendation').get('schema'))\n",
    "\n",
    "scalar_keys = [k for k, v in schema.get('properties').items()\n",
    "               if v.get('type') != 'array']\n",
    "table_keys = [k for k, v in schema.get('properties').items()\n",
    "              if v.get('type') == 'array']"
   ]
  },
  {
   "cell_type": "code",
   "execution_count": null,
   "id": "6c337dc7-a8fd-4da1-b90c-b0916d858a0f",
   "metadata": {},
   "outputs": [],
   "source": [
    "## copy s3 image to local directory\n",
    "image_body = "
   ]
  },
  {
   "cell_type": "code",
   "execution_count": null,
   "id": "3e296793-ae95-4684-aa8f-c63e9dc62dc8",
   "metadata": {},
   "outputs": [],
   "source": [
    "!aws s3 cp {standard_output.get('pages')[0]['asset_metadata']['rectified_image']} 'examples/rectified_claim_form.jpeg'"
   ]
  },
  {
   "cell_type": "markdown",
   "id": "e1f7be84-7618-4295-8d40-7a9b7e12ada8",
   "metadata": {},
   "source": [
    "### View Extracted Content"
   ]
  },
  {
   "cell_type": "code",
   "execution_count": null,
   "id": "e9b6cdc6-638f-4870-9a24-60a4ed071aa4",
   "metadata": {},
   "outputs": [],
   "source": [
    "%load_ext autoreload\n",
    "%autoreload 1\n",
    "import sys\n",
    "sys.path.append('..')\n",
    "%aimport utils.display_functions \n",
    "from utils.display_functions import display_result, create_key_value_box\n",
    "\n",
    "extraction_result={}\n",
    "for key in scalar_keys:\n",
    "    extraction_result[key] = (inference_result.get(key), int(explainability_info.get(key).get('confidence')*100))\n",
    "\n",
    "\n",
    "display_result(document_image_uri='examples/rectified_claim_form.jpeg',kvpairs=extraction_result)"
   ]
  },
  {
   "cell_type": "markdown",
   "id": "c6b2ac15-9b87-4c51-9f10-d6258eef4159",
   "metadata": {},
   "source": [
    "## Clean up"
   ]
  },
  {
   "cell_type": "code",
   "execution_count": null,
   "id": "116ab1c3-94e7-4f9f-8351-e124d0231459",
   "metadata": {},
   "outputs": [],
   "source": [
    "!rm examples/rectified_claim_form.jpeg"
   ]
  },
  {
   "cell_type": "markdown",
   "id": "971734c1-8460-4700-8248-c67ee1704784",
   "metadata": {},
   "source": [
    "## Conclusion\n",
    "In this notebook, we configured a project with Blueprints for documents, to define custom output."
   ]
  },
  {
   "cell_type": "markdown",
   "id": "e6a85bdf-05f9-4814-a301-995869cb5045",
   "metadata": {},
   "source": [
    "## Next Steps"
   ]
  },
  {
   "cell_type": "markdown",
   "id": "842f9b01-d6fa-4831-b876-0af436a8513c",
   "metadata": {},
   "source": [
    "When processing documents, you might want to use multiple blueprints for different kinds of documents that are passed to your project. A project can have up to 40 document blueprints attached. BDA automatically matches your documents to the appropriate blueprint that's configured in your project, and generates custom output using that blueprint.\n",
    "\n",
    "As a next step, we will configure a project with multiple blueprints for different kinds of documents. A project can have up to 40 document blueprints attached. We will explore how BDA automatically matches your documents to the appropriate blueprint that's configured in your project, and generates custom output using that blueprint."
   ]
  },
  {
   "cell_type": "code",
   "execution_count": null,
   "id": "3a2542ea-d6c4-4c49-81e3-3822e87f12af",
   "metadata": {},
   "outputs": [],
   "source": [
    "IFrame(\"examples/sample1_cms-1500-P.pdf\", width=900, height=800)"
   ]
  }
 ],
 "metadata": {
  "kernelspec": {
   "display_name": "Python 3 (ipykernel)",
   "language": "python",
   "name": "python3"
  },
  "language_info": {
   "codemirror_mode": {
    "name": "ipython",
    "version": 3
   },
   "file_extension": ".py",
   "mimetype": "text/x-python",
   "name": "python",
   "nbconvert_exporter": "python",
   "pygments_lexer": "ipython3",
   "version": "3.11.11"
  }
 },
 "nbformat": 4,
 "nbformat_minor": 5
}
