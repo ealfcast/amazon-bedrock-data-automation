{
 "cells": [
  {
   "cell_type": "markdown",
   "id": "f8c367b1-d454-4690-ad8b-661a2c48e130",
   "metadata": {},
   "source": [
    "# Custom output and blueprints"
   ]
  },
  {
   "cell_type": "markdown",
   "id": "413716ac-5427-4fc7-93a9-588904e315de",
   "metadata": {},
   "source": [
    "In addition to the `Standard Output` Amazon Bedrock Data Automation (BDA) offers the `Custom Output` feature that lets you to fine-tune your extractions from documents and images. This capability is particularly useful when working with complex or specialized data. \n",
    "\n",
    "You can configure Custom output in BDA using `Blueprints`. `Bblueprints` are essentially a lists of instructions that guide the extraction of information from your file, including allowing for transformation and adjustment of output. This feature works in conjunction with BDA projects, enabling the processing of up to 40 document inputs and one image input. \n",
    "\n",
    "Custom outputs provide users with greater control and flexibility in how they extract and structure information from their files, making it easier to tailor the results to their particular use cases."
   ]
  },
  {
   "cell_type": "markdown",
   "id": "18e6bcf7-9978-4ea9-89f5-370897a7a357",
   "metadata": {},
   "source": [
    "## Blueprints"
   ]
  },
  {
   "cell_type": "markdown",
   "id": "f2d0d9d9-cf99-4c6e-9a25-4a6473e28cdc",
   "metadata": {},
   "source": [
    "You can use blueprints to configure file processing business logic in Amazon Bedrock Data Automation (BDA). Each blueprint consists of a list of field names to extract, the desired data format for each field (e.g., string, number, boolean), and natural language context for data normalization and validation rules. \n",
    "\n",
    "BDA has ready-to-use blueprints for a number of commonly used document types such as W2, Paystub or a Receipt. You can either use one of the existing blueprints or create your own"
   ]
  },
  {
   "cell_type": "code",
   "execution_count": null,
   "id": "27574cb2-5b14-4f08-8283-2c2e2ee3e576",
   "metadata": {},
   "outputs": [],
   "source": []
  }
 ],
 "metadata": {
  "kernelspec": {
   "display_name": "Python 3 (ipykernel)",
   "language": "python",
   "name": "python3"
  },
  "language_info": {
   "codemirror_mode": {
    "name": "ipython",
    "version": 3
   },
   "file_extension": ".py",
   "mimetype": "text/x-python",
   "name": "python",
   "nbconvert_exporter": "python",
   "pygments_lexer": "ipython3",
   "version": "3.10.14"
  }
 },
 "nbformat": 4,
 "nbformat_minor": 5
}
