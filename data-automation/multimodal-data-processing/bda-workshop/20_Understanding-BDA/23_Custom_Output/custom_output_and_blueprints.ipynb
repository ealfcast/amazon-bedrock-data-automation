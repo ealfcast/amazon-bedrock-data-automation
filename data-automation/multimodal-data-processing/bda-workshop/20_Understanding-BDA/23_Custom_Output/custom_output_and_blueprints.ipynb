{
 "cells": [
  {
   "cell_type": "markdown",
   "id": "f8c367b1-d454-4690-ad8b-661a2c48e130",
   "metadata": {},
   "source": [
    "# Custom output and blueprints"
   ]
  },
  {
   "cell_type": "markdown",
   "id": "413716ac-5427-4fc7-93a9-588904e315de",
   "metadata": {},
   "source": [
    "## Introduction\n",
    "\n",
    "In addition to the `Standard Output` Amazon Bedrock Data Automation (BDA) offers the `Custom Output` feature that lets you to fine-tune your extractions from documents and images. This capability is particularly useful when working with complex or specialized data. \n",
    "\n",
    "You can configure Custom output in BDA using `Blueprints`. `Bblueprints` are essentially a lists of instructions that guide the extraction of information from your file, including allowing for transformation and adjustment of output. This feature works in conjunction with BDA projects, enabling the processing of up to 40 document inputs and one image input. \n",
    "\n",
    "Custom outputs provide users with greater control and flexibility in how they extract and structure information from their files, making it easier to tailor the results to their particular use cases."
   ]
  },
  {
   "cell_type": "markdown",
   "id": "18e6bcf7-9978-4ea9-89f5-370897a7a357",
   "metadata": {},
   "source": [
    "## Blueprints"
   ]
  },
  {
   "cell_type": "markdown",
   "id": "f2d0d9d9-cf99-4c6e-9a25-4a6473e28cdc",
   "metadata": {},
   "source": [
    "You can use blueprints to configure file processing business logic in Amazon Bedrock Data Automation (BDA). Each blueprint consists of a list of field names to extract, the desired data format for each field (e.g., string, number, boolean), and natural language context for data normalization and validation rules. \n",
    "\n",
    "BDA has ready-to-use blueprints (`Catalog Blueprints`) for a number of commonly used document types such as W2, Paystub or a Receipt. Catalog blueprints are a great way to start if the document you want to extract from matches the blueprint. To extract from documents that are not matched by blueprints in the catalog you can create your own blueprints. When creating the blueprint using the AWS Console, you have the option to let BDA generate blueprint after providing a sample document and an optional prompt. You can also create the blueprint by adding individual fields or by using a JSON editor to define the JSON for the blueprint.\n",
    "\n",
    "In this notebook, we would use explore custom output using blueprints and data automation projects."
   ]
  },
  {
   "cell_type": "markdown",
   "id": "32087d8d-bdec-4f2d-a6be-3eac9b1b9f8c",
   "metadata": {},
   "source": [
    "## Prerequisites"
   ]
  },
  {
   "cell_type": "code",
   "execution_count": 1,
   "id": "b201923b-d528-4134-9008-8bb66fc0ee8f",
   "metadata": {},
   "outputs": [
    {
     "name": "stdout",
     "output_type": "stream",
     "text": [
      "Requirement already satisfied: boto3>=1.35.76 in /opt/conda/lib/python3.11/site-packages (1.35.99)\n",
      "Requirement already satisfied: PyPDF2 in /opt/conda/lib/python3.11/site-packages (3.0.1)\n",
      "Requirement already satisfied: botocore<1.36.0,>=1.35.99 in /opt/conda/lib/python3.11/site-packages (from boto3>=1.35.76) (1.35.99)\n",
      "Requirement already satisfied: jmespath<2.0.0,>=0.7.1 in /opt/conda/lib/python3.11/site-packages (from boto3>=1.35.76) (1.0.1)\n",
      "Requirement already satisfied: s3transfer<0.11.0,>=0.10.0 in /opt/conda/lib/python3.11/site-packages (from boto3>=1.35.76) (0.10.4)\n",
      "Requirement already satisfied: python-dateutil<3.0.0,>=2.1 in /opt/conda/lib/python3.11/site-packages (from botocore<1.36.0,>=1.35.99->boto3>=1.35.76) (2.9.0.post0)\n",
      "Requirement already satisfied: urllib3!=2.2.0,<3,>=1.25.4 in /opt/conda/lib/python3.11/site-packages (from botocore<1.36.0,>=1.35.99->boto3>=1.35.76) (1.26.19)\n",
      "Requirement already satisfied: six>=1.5 in /opt/conda/lib/python3.11/site-packages (from python-dateutil<3.0.0,>=2.1->botocore<1.36.0,>=1.35.99->boto3>=1.35.76) (1.17.0)\n",
      "Note: you may need to restart the kernel to use updated packages.\n"
     ]
    }
   ],
   "source": [
    "pip install \"boto3>=1.35.76\" PyPDF2 --upgrade"
   ]
  },
  {
   "cell_type": "markdown",
   "id": "4329ac90-4bd3-486b-ac34-1df59e4f1fd0",
   "metadata": {},
   "source": [
    "## Setup\n",
    "\n",
    "Before we get to the part where we invoke BDA with our sample artifacts, let's setup some parameters and configuration that will be used throughout this notebook"
   ]
  },
  {
   "cell_type": "code",
   "execution_count": 2,
   "id": "c1eb0e6d-6ead-4c15-ba16-d3bf9568d4bd",
   "metadata": {},
   "outputs": [
    {
     "name": "stdout",
     "output_type": "stream",
     "text": [
      "sagemaker.config INFO - Not applying SDK defaults from location: /etc/xdg/sagemaker/config.yaml\n",
      "sagemaker.config INFO - Not applying SDK defaults from location: /home/sagemaker-user/.config/sagemaker/config.yaml\n",
      "Using default execution role arn:aws:iam::870569814485:role/service-role/AmazonSageMaker-ExecutionRole-20250102T175813\n"
     ]
    }
   ],
   "source": [
    "import boto3\n",
    "import json\n",
    "import pprint\n",
    "from IPython.display import JSON\n",
    "import IPython.display as display\n",
    "from utils.helper_functions import wait_for_job_to_complete, read_s3_object, create_sample_file, get_bucket_and_key,wait_for_completion, display_html\n",
    "from sagemaker import get_execution_role\n",
    "\n",
    "default_execution_role = get_execution_role()\n",
    "region_name = 'us-west-2'\n",
    "# Initialize Bedrock Data Automation client\n",
    "bda_client = boto3.client('bedrock-data-automation')\n",
    "bda_runtime_client = boto3.client('bedrock-data-automation-runtime')\n",
    "s3_client = boto3.client('s3')\n",
    "\n",
    "bda_s3_input_location = 's3://genai.octankmarkets.com/input'\n",
    "bda_s3_output_location = 's3://genai.octankmarkets.com/output'\n",
    "print(f'Using default execution role {default_execution_role}')"
   ]
  },
  {
   "cell_type": "markdown",
   "id": "f797065c-1738-4a5a-9516-f99887262620",
   "metadata": {},
   "source": [
    "### Configure IAM Permission"
   ]
  },
  {
   "cell_type": "markdown",
   "id": "28077ef5-ac87-4e3a-b674-2292c97412e2",
   "metadata": {},
   "source": [
    "## Prepare sample document\n",
    "For this lab, we use a CMS 1500 Medical claim for with dummy data to explore the blueprint feature of BDA. \n",
    "\n",
    "### Upload sample document to S3\n",
    "\n",
    "\n",
    "Note - We will configure BDA to use the sample input from this S3 location, so we need to ensure that BDA has `s3:GetObject` access to this S3 location. If you are running the notebook in your own AWS Account, ensure that the SageMaker Execution role configured for this JupyterLab app has the right IAM permissions."
   ]
  },
  {
   "cell_type": "code",
   "execution_count": 3,
   "id": "7ea65c28-200e-4de0-8aa4-31b00c6cefcf",
   "metadata": {},
   "outputs": [],
   "source": [
    "%load_ext autoreload\n",
    "%autoreload 2\n",
    "\n",
    "from utils.helper_functions import wait_for_job_to_complete, read_s3_object, create_sample_file, get_bucket_and_key,wait_for_completion, display_html\n",
    "\n",
    "# Download sample pdf file, extract pages and  \n",
    "input_bucket, input_prefix = get_bucket_and_key(bda_s3_input_location)\n",
    "local_file_name = 'examples/sample1_cms-1500-P.pdf'\n",
    "s3_file_name = 'MonthlyTreasuryStatement.pdf'\n",
    "s3_response = s3_client.upload_file(local_file_name, input_bucket,\n",
    "                                    f'{input_prefix}/{s3_file_name}')"
   ]
  },
  {
   "cell_type": "markdown",
   "id": "b4114bad-396d-40bd-ab63-87a521f656d0",
   "metadata": {},
   "source": [
    "## Using Blueprints"
   ]
  },
  {
   "cell_type": "markdown",
   "id": "efd7ca9c-eb3f-4bf4-9b94-00484cfad709",
   "metadata": {
    "jp-MarkdownHeadingCollapsed": true
   },
   "source": [
    "### Configure IAM Permissions\n",
    "\n",
    "The features being explored in the notebook require the following IAM Policies for the role being used. If you're running this notebook within SageMaker Studio in your own Account, update the default execution role for the SageMaker user profile to include the following IAM policies. \n",
    "\n",
    "```json\n",
    "[\n",
    "    {\n",
    "        \"Sid\": \"BDACreatePermissions\",\n",
    "        \"Effect\": \"Allow\",\n",
    "        \"Action\": [\n",
    "            \"bedrock:CreateDataAutomationProject\",\n",
    "            \"bedrock:CreateBlueprint\"\n",
    "        ],\n",
    "        \"Resource\": \"*\"\n",
    "    },\n",
    "    {\n",
    "        \"Sid\": \"BDAOProjectsPermissions\",\n",
    "        \"Effect\": \"Allow\",\n",
    "        \"Action\": [\n",
    "            \"bedrock:CreateDataAutomationProject\",\n",
    "            \"bedrock:UpdateDataAutomationProject\",\n",
    "            \"bedrock:GetDataAutomationProject\",\n",
    "            \"bedrock:GetDataAutomationStatus\",\n",
    "            \"bedrock:ListDataAutomationProjects\",\n",
    "            \"bedrock:InvokeDataAutomationAsync\"\n",
    "        ],\n",
    "        \"Resource\": \"arn:aws:bedrock:::data-automation-project/*\"\n",
    "    },\n",
    "    {\n",
    "        \"Sid\": \"BDABlueprintPermissions\",\n",
    "        \"Effect\": \"Allow\",\n",
    "        \"Action\": [\n",
    "            \"bedrock:GetBlueprint\",\n",
    "            \"bedrock:ListBlueprints\",\n",
    "            \"bedrock:UpdateBlueprint\",\n",
    "            \"bedrock:DeleteBlueprint\"\n",
    "        ],\n",
    "        \"Resource\": \"arn:aws:bedrock:::blueprint/*\"\n",
    "    }\n",
    "]"
   ]
  },
  {
   "cell_type": "markdown",
   "id": "8e41b3e2-20cf-4046-bf40-503d570bf17c",
   "metadata": {},
   "source": [
    "### Create Blueprint"
   ]
  },
  {
   "cell_type": "markdown",
   "id": "2bf59d07-9cec-44cd-9075-4169f66d0996",
   "metadata": {},
   "source": [
    "Now, Let's start by creating our first blueprint. You can create a blueprint using an API providing a name, type, stage and a schema in JSON format."
   ]
  },
  {
   "cell_type": "code",
   "execution_count": 4,
   "id": "3af508ba-fdb7-46d9-b727-9876f2f5a4f4",
   "metadata": {},
   "outputs": [],
   "source": [
    "# create blueprint using Boto3\n",
    "blueprint_name = 'medical-claim-form-cms1500'\n",
    "blueprint_description = 'Blueprint for CMS 1500 Claim Form'\t\n",
    "blueprint_type = 'DOCUMENT'\n",
    "blueprint_stage = 'LIVE'\n",
    "\n",
    "with open('assets/blueprint_schema.json') as f:\n",
    "    blueprint_schema = json.load(f)\t"
   ]
  },
  {
   "cell_type": "code",
   "execution_count": 5,
   "id": "6caa2628-3666-4205-acfc-48185e50a28f",
   "metadata": {},
   "outputs": [
    {
     "name": "stdout",
     "output_type": "stream",
     "text": [
      "Found existing blueprint with name=medical-claim-form-cms1500, updating Stage and Schema\n"
     ]
    }
   ],
   "source": [
    "list_blueprints_response = bda_client.list_blueprints(\n",
    "    blueprintStageFilter='ALL'\n",
    ")\n",
    "blueprint = next((blueprint for blueprint in\n",
    "                  list_blueprints_response['blueprints']\n",
    "                  if 'blueprintName' in blueprint and\n",
    "                  blueprint['blueprintName'] == blueprint_name), None)\n",
    "\n",
    "\n",
    "print(f'Found existing blueprint with name={blueprint_name}, updating Stage and Schema')\n",
    "\n",
    "if not blueprint:\n",
    "    response = bda_client.create_blueprint(\n",
    "        blueprintName=blueprint_name,\n",
    "        type=blueprint_type,\n",
    "        blueprintStage=blueprint_stage,\n",
    "        schema=json.dumps(blueprint_schema)\n",
    "    )\n",
    "else:\n",
    "    response = bda_client.update_blueprint(\n",
    "        blueprintArn=blueprint['blueprintArn'],\n",
    "        blueprintStage=blueprint_stage,\n",
    "        schema=json.dumps(blueprint_schema)\n",
    "    )\n",
    "\n",
    "blueprint_arn = response['blueprint']['blueprintArn']"
   ]
  },
  {
   "cell_type": "code",
   "execution_count": 7,
   "id": "09bf4969-4420-46fa-b99f-18fc7faccbce",
   "metadata": {},
   "outputs": [
    {
     "data": {
      "text/plain": [
       "{'ResponseMetadata': {'RequestId': 'df77f40e-e166-4e6a-b7a2-6cffb1cf6bf8',\n",
       "  'HTTPStatusCode': 200,\n",
       "  'HTTPHeaders': {'date': 'Wed, 15 Jan 2025 12:33:10 GMT',\n",
       "   'content-type': 'application/json',\n",
       "   'content-length': '8351',\n",
       "   'connection': 'keep-alive',\n",
       "   'x-amzn-requestid': 'df77f40e-e166-4e6a-b7a2-6cffb1cf6bf8'},\n",
       "  'RetryAttempts': 0},\n",
       " 'blueprint': {'blueprintArn': 'arn:aws:bedrock:us-west-2:870569814485:blueprint/f95942cc2085',\n",
       "  'schema': '{\"$schema\": \"http://json-schema.org/draft-07/schema#\", \"documentClass\": \"CMS 1500 Claim Form\", \"description\": \"A standard medical claim form used by healthcare providers in the US to bill health insurance companies for medical services.\", \"definitions\": {\"Procedure_Service_Supplies\": {\"properties\": {\"service_start_date\": {\"type\": \"string\", \"inferenceType\": \"extractive\", \"description\": \"The service start date from item 24A in YYYY-MM-DD format\"}, \"service_end_date\": {\"type\": \"string\", \"inferenceType\": \"extractive\", \"description\": \"The service end date from item 24A in YYYY-MM-DD format\"}, \"place_of_service\": {\"type\": \"string\", \"description\": \"The place the service was provided\"}, \"type_of_service\": {\"type\": \"string\", \"description\": \"The type of medical service\"}, \"procedure_modifier\": {\"type\": \"string\", \"inferenceType\": \"extractive\", \"description\": \"The procedure modifier from item 24D\"}, \"diagnosis_code\": {\"type\": \"string\", \"inferenceType\": \"extractive\", \"description\": \"The diagnosis code from item 24E\"}, \"procedure_code\": {\"type\": \"string\", \"description\": \"The procedure code\"}, \"charge_amount\": {\"type\": \"number\", \"description\": \"The charge amount for the procedure\"}}}}, \"properties\": {\"insurance_program\": {\"type\": \"string\", \"inferenceType\": \"extractive\", \"description\": \"The insurance program from item 1: Medicare, Medicaid, CHAMPUS, CHAMPVA, Group Health Plan\"}, \"insured_id_number\": {\"type\": \"string\", \"inferenceType\": \"extractive\", \"description\": \"The insured\\'s ID number from item 1a\"}, \"patient_name\": {\"type\": \"string\", \"inferenceType\": \"extractive\", \"description\": \"The patient\\'s name from item 2 in Last Name, First Name, Middle Initial format\"}, \"patient_date_of_birth\": {\"type\": \"string\", \"inferenceType\": \"extractive\", \"description\": \"The patient\\'s date of birth from item 3 in YYYY-MM-DD format\"}, \"insured_name\": {\"type\": \"string\", \"inferenceType\": \"extractive\", \"description\": \"The insured\\'s name from item 4 in Last Name, First Name, Middle Initial format\"}, \"patient_address\": {\"type\": \"string\", \"inferenceType\": \"extractive\", \"description\": \"The patient\\'s address from item 5\"}, \"patient_relationship_to_insured\": {\"type\": \"string\", \"inferenceType\": \"extractive\", \"description\": \"The patient\\'s relationship to insured from item 6\"}, \"insured_address\": {\"type\": \"string\", \"inferenceType\": \"extractive\", \"description\": \"The insured\\'s address from item 7 including No.,Street, City, State, Zip Code\"}, \"insured_phone_number\": {\"type\": \"string\", \"inferenceType\": \"extractive\", \"description\": \"The insured\\'s phone number, including area code from item 7 \"}, \"patient_sex\": {\"type\": \"string\", \"inferenceType\": \"extractive\", \"description\": \"The patient\\'s address from item 8\"}, \"patient_marital_status\": {\"type\": \"string\", \"inferenceType\": \"extractive\", \"description\": \"The patient\\'s address from item 8\"}, \"patient_condition_related_to\": {\"type\": \"string\", \"inferenceType\": \"extractive\", \"description\": \"Whether the patient\\'s condition is related to employment, auto accident, or other accident from item 10\"}, \"insured_policy_feca_number\": {\"type\": \"string\", \"inferenceType\": \"extractive\", \"description\": \"The insured\\'s policy group or FECA number from item 11\"}, \"insured_date_of_birth\": {\"type\": \"string\", \"inferenceType\": \"extractive\", \"description\": \"The insured\\'s policy or group number from item 11a\"}, \"insured_employer_or_school\": {\"type\": \"string\", \"inferenceType\": \"extractive\", \"description\": \"The insured\\'s employer or school 11b\"}, \"insured_insurance_plan_name\": {\"type\": \"string\", \"inferenceType\": \"extractive\", \"description\": \"The insured\\'s plan name or program name from item 11c\"}, \"another_health_benefit_plan_indicator\": {\"type\": \"boolean\", \"inferenceType\": \"extractive\", \"description\": \"d. IS THERE ANOTHER HEALTH BENEFIT PLAN? Yes or No from item 11d\"}, \"patient_signed_date\": {\"type\": \"string\", \"inferenceType\": \"extractive\", \"description\": \"patient\\'s or authorized person\\'s signature date from item 12\"}, \"insured_signed_date\": {\"type\": \"string\", \"inferenceType\": \"extractive\", \"description\": \"The insured\\'s or authorized person\\'s signed date from item 13\"}, \"illness_injury_date\": {\"type\": \"string\", \"inferenceType\": \"extractive\", \"description\": \"The date of current illness, injury, or pregnancy from item 14 in YYYY-MM-DD format\"}, \"previous_illness_date\": {\"type\": \"string\", \"inferenceType\": \"extractive\", \"description\": \"The date of a previous similar illness from item 15 in YYYY-MM-DD format\"}, \"unable_to_work_start_date\": {\"type\": \"string\", \"inferenceType\": \"extractive\", \"description\": \"The dates the patient was unable to work from item 16\"}, \"unable_to_work_end_date\": {\"type\": \"string\", \"inferenceType\": \"extractive\", \"description\": \"The dates the patient was unable to work until item 16\"}, \"referring_physician\": {\"type\": \"string\", \"inferenceType\": \"extractive\", \"description\": \"The name of the referring physician from item 17\"}, \"referring_physician_id\": {\"type\": \"string\", \"inferenceType\": \"extractive\", \"description\": \"The ID number of the referring physician from item 17a\"}, \"hospitalization_start_date\": {\"type\": \"string\", \"inferenceType\": \"extractive\", \"description\": \"The hospitalization start date related to current services from item 18\"}, \"hospitalization_end_date\": {\"type\": \"string\", \"inferenceType\": \"extractive\", \"description\": \"The hospitalization end date related to current services from item 18\"}, \"is_outside_lab_indicator\": {\"type\": \"boolean\", \"inferenceType\": \"extractive\", \"description\": \"Are there outside lab charges? from item 20\"}, \"outside_lab_charges\": {\"type\": \"string\", \"inferenceType\": \"extractive\", \"description\": \"Whether outside lab was used and charges from item 20\"}, \"diagnosis_1\": {\"type\": \"string\", \"inferenceType\": \"extractive\", \"description\": \"The diagnosis or nature of illness or injury from item 21.1\"}, \"diagnosis_2\": {\"type\": \"string\", \"inferenceType\": \"extractive\", \"description\": \"The diagnosis or nature of illness or injury from item 21.2\"}, \"diagnosis_3\": {\"type\": \"string\", \"inferenceType\": \"extractive\", \"description\": \"The diagnosis or nature of illness or injury from item 21.3\"}, \"diagnosis_4\": {\"type\": \"string\", \"inferenceType\": \"extractive\", \"description\": \"The diagnosis or nature of illness or injury from item 21.4\"}, \"medicaid_resubmission_number\": {\"type\": \"string\", \"inferenceType\": \"extractive\", \"description\": \"MEDICAID RESUBMISSION NUMBER from item 22\"}, \"medicaid_original_ref_number\": {\"type\": \"string\", \"inferenceType\": \"extractive\", \"description\": \"Medicaid - Original ref no. from item 22\"}, \"prior_authorization_number\": {\"type\": \"string\", \"inferenceType\": \"extractive\", \"description\": \"The prior authorization number from item 23\"}, \"medical_procedures\": {\"type\": \"array\", \"description\": \"The list of medical procedures from the table in item 24\", \"items\": {\"$ref\": \"#/definitions/Procedure_Service_Supplies\"}}, \"tax_id_type\": {\"type\": \"string\", \"inferenceType\": \"extractive\", \"description\": \"The tax ID type (SSN or EIN) from item 25\"}, \"tax_id_number\": {\"type\": \"string\", \"inferenceType\": \"extractive\", \"description\": \"The federal tax ID number (SSN or EIN) from item 25\"}, \"total_charges\": {\"type\": \"number\", \"inferenceType\": \"extractive\", \"description\": \"The total charges in dollars from item 28\"}, \"amount_paid\": {\"type\": \"number\", \"inferenceType\": \"extractive\", \"description\": \"The amount paid in dollars from item 29\"}}}',\n",
       "  'type': 'DOCUMENT',\n",
       "  'creationTime': datetime.datetime(2025, 1, 14, 15, 57, 20, 405000, tzinfo=tzlocal()),\n",
       "  'lastModifiedTime': datetime.datetime(2025, 1, 15, 12, 33, 9, 997000, tzinfo=tzlocal()),\n",
       "  'blueprintName': 'medical-claim-form-cms1500',\n",
       "  'blueprintStage': 'LIVE'}}"
      ]
     },
     "execution_count": 7,
     "metadata": {},
     "output_type": "execute_result"
    }
   ],
   "source": [
    "response"
   ]
  },
  {
   "cell_type": "code",
   "execution_count": null,
   "id": "bcc2eb20-68a0-4703-b2f0-bc142fb300d3",
   "metadata": {},
   "outputs": [],
   "source": []
  }
 ],
 "metadata": {
  "kernelspec": {
   "display_name": "Python 3 (ipykernel)",
   "language": "python",
   "name": "python3"
  },
  "language_info": {
   "codemirror_mode": {
    "name": "ipython",
    "version": 3
   },
   "file_extension": ".py",
   "mimetype": "text/x-python",
   "name": "python",
   "nbconvert_exporter": "python",
   "pygments_lexer": "ipython3",
   "version": "3.10.14"
  }
 },
 "nbformat": 4,
 "nbformat_minor": 5
}
