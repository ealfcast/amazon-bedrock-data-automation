{
 "cells": [
  {
   "cell_type": "markdown",
   "id": "f8c367b1-d454-4690-ad8b-661a2c48e130",
   "metadata": {},
   "source": [
    "# Custom output and blueprints"
   ]
  },
  {
   "cell_type": "markdown",
   "id": "413716ac-5427-4fc7-93a9-588904e315de",
   "metadata": {
    "jp-MarkdownHeadingCollapsed": true
   },
   "source": [
    "## Introduction\n",
    "\n",
    "In addition to the `Standard Output` Amazon Bedrock Data Automation (BDA) offers the `Custom Output` feature that lets you further fine-tune your extractions from documents and images. This capability is particularly useful when working with complex or specialized data. \n",
    "\n",
    "You can configure Custom output in BDA using `Blueprints`. `Blueprints` are essentially a lists of instructions that guide the extraction of information from your file, including allowing for transformation and adjustment of output. This feature works in conjunction with BDA projects, enabling the processing of up to 40 document inputs and one image input. \n",
    "\n",
    "Custom outputs provide users with greater control and flexibility in how they extract and structure information from their files, making it easier to tailor the results to their particular use cases."
   ]
  },
  {
   "cell_type": "markdown",
   "id": "18e6bcf7-9978-4ea9-89f5-370897a7a357",
   "metadata": {},
   "source": [
    "## Blueprints"
   ]
  },
  {
   "cell_type": "markdown",
   "id": "f2d0d9d9-cf99-4c6e-9a25-4a6473e28cdc",
   "metadata": {},
   "source": [
    "You can use blueprints to configure file processing business logic in Amazon Bedrock Data Automation (BDA). Each blueprint consists of a list of field names to extract, the desired data format for each field (e.g., string, number, boolean), and natural language context for data normalization and validation rules. \n",
    "\n",
    "BDA has ready-to-use blueprints (`Catalog Blueprints`) for a number of commonly used document types such as W2, Paystub or a Receipt. Catalog blueprints are a great way to start if the document you want to extract from matches the blueprint. To extract from documents that are not matched by blueprints in the catalog you can create your own blueprints. When creating the blueprint using the AWS Console, you have the option to let BDA generate blueprint after providing a sample document and an optional prompt. You can also create the blueprint by adding individual fields or by using a JSON editor to define the JSON for the blueprint.\n",
    "\n",
    "In this notebook, we would use explore custom output using blueprints and data automation projects."
   ]
  },
  {
   "cell_type": "markdown",
   "id": "32087d8d-bdec-4f2d-a6be-3eac9b1b9f8c",
   "metadata": {},
   "source": [
    "## Prerequisites"
   ]
  },
  {
   "cell_type": "code",
   "execution_count": null,
   "id": "b201923b-d528-4134-9008-8bb66fc0ee8f",
   "metadata": {
    "scrolled": true
   },
   "outputs": [],
   "source": [
    "pip install \"boto3>=1.35.76\" PyPDF2 --upgrade -qq"
   ]
  },
  {
   "cell_type": "markdown",
   "id": "0ecacbe4-bc6e-431b-b65d-cfdfc4fc3c46",
   "metadata": {},
   "source": [
    "## Setup"
   ]
  },
  {
   "cell_type": "markdown",
   "id": "4329ac90-4bd3-486b-ac34-1df59e4f1fd0",
   "metadata": {},
   "source": [
    "Before we get to the part where we invoke BDA with our sample artifacts, let's setup some parameters and configuration that will be used throughout this notebook"
   ]
  },
  {
   "cell_type": "code",
   "execution_count": null,
   "id": "c1eb0e6d-6ead-4c15-ba16-d3bf9568d4bd",
   "metadata": {},
   "outputs": [],
   "source": [
    "import boto3\n",
    "import json\n",
    "import pprint\n",
    "from IPython.display import JSON, display, HTML, Markdown, IFrame\n",
    "import IPython.display as display\n",
    "from sagemaker import get_execution_role\n",
    "\n",
    "default_execution_role = get_execution_role()\n",
    "region_name = 'us-west-2'\n",
    "# Initialize Bedrock Data Automation client\n",
    "bda_client = boto3.client('bedrock-data-automation')\n",
    "bda_runtime_client = boto3.client('bedrock-data-automation-runtime')\n",
    "s3_client = boto3.client('s3')\n",
    "\n",
    "bda_s3_input_location = 's3://genai.octankmarkets.com/input'\n",
    "bda_s3_output_location = 's3://genai.octankmarkets.com/output'\n",
    "print(f'Using default execution role {default_execution_role}')"
   ]
  },
  {
   "cell_type": "markdown",
   "id": "d4e75668-5ff7-44c7-9340-40eba7eeb653",
   "metadata": {},
   "source": [
    "## Configure IAM Permissions"
   ]
  },
  {
   "cell_type": "markdown",
   "id": "efd7ca9c-eb3f-4bf4-9b94-00484cfad709",
   "metadata": {
    "jp-MarkdownHeadingCollapsed": true
   },
   "source": [
    "\n",
    "The features being explored in the notebook require the following IAM Policies for the role being used. If you're running this notebook within SageMaker Studio in your own Account, update the default execution role for the SageMaker user profile to include the following IAM policies. \n",
    "\n",
    "```json\n",
    "[\n",
    "    {\n",
    "        \"Sid\": \"BDACreatePermissions\",\n",
    "        \"Effect\": \"Allow\",\n",
    "        \"Action\": [\n",
    "            \"bedrock:CreateDataAutomationProject\",\n",
    "            \"bedrock:CreateBlueprint\"\n",
    "        ],\n",
    "        \"Resource\": \"*\"\n",
    "    },\n",
    "    {\n",
    "        \"Sid\": \"BDAOProjectsPermissions\",\n",
    "        \"Effect\": \"Allow\",\n",
    "        \"Action\": [\n",
    "            \"bedrock:CreateDataAutomationProject\",\n",
    "            \"bedrock:UpdateDataAutomationProject\",\n",
    "            \"bedrock:GetDataAutomationProject\",\n",
    "            \"bedrock:GetDataAutomationStatus\",\n",
    "            \"bedrock:ListDataAutomationProjects\",\n",
    "            \"bedrock:InvokeDataAutomationAsync\"\n",
    "        ],\n",
    "        \"Resource\": \"arn:aws:bedrock:::data-automation-project/*\"\n",
    "    },\n",
    "    {\n",
    "        \"Sid\": \"BDABlueprintPermissions\",\n",
    "        \"Effect\": \"Allow\",\n",
    "        \"Action\": [\n",
    "            \"bedrock:GetBlueprint\",\n",
    "            \"bedrock:ListBlueprints\",\n",
    "            \"bedrock:UpdateBlueprint\",\n",
    "            \"bedrock:DeleteBlueprint\"\n",
    "        ],\n",
    "        \"Resource\": \"arn:aws:bedrock:::blueprint/*\"\n",
    "    }\n",
    "]"
   ]
  },
  {
   "cell_type": "markdown",
   "id": "db6d610b-1c8d-47cf-a787-a4cf97bf17f3",
   "metadata": {},
   "source": [
    "## Project using catalog blueprint"
   ]
  },
  {
   "cell_type": "markdown",
   "id": "69e6a8b3-097a-425f-848c-9f0ccebb29ea",
   "metadata": {},
   "source": [
    "Now that we have our sample document available in S3, let's start with using the blueprints. Bedrock offers sample blueprints for most common document types such as W2, pay stub or bank statement. To begin with, we'll use a sample bank statement "
   ]
  },
  {
   "cell_type": "markdown",
   "id": "3185afeb-73d6-48b8-afdf-6618e2b2373b",
   "metadata": {},
   "source": [
    "### View Sample Document"
   ]
  },
  {
   "cell_type": "code",
   "execution_count": null,
   "id": "b2b1a876-189f-454b-a675-21b4ef56cc1c",
   "metadata": {},
   "outputs": [],
   "source": [
    "IFrame(\"examples/BankStatement.pdf\", width=900, height=800)"
   ]
  },
  {
   "cell_type": "markdown",
   "id": "c99abeb5-f0e8-4189-829e-7f4654e58e19",
   "metadata": {},
   "source": [
    "### Upload sample document to S3\n",
    "For this lab, we use a CMS 1500 Medical claim for with dummy data to explore the blueprint feature of BDA. \n",
    "\n",
    "Note - We will configure BDA to use the sample input from this S3 location, so we need to ensure that BDA has `s3:GetObject` access to this S3 location. If you are running the notebook in your own AWS Account, ensure that the SageMaker Execution role configured for this JupyterLab app has the right IAM permissions."
   ]
  },
  {
   "cell_type": "code",
   "execution_count": null,
   "id": "7ea65c28-200e-4de0-8aa4-31b00c6cefcf",
   "metadata": {},
   "outputs": [],
   "source": [
    "%load_ext autoreload\n",
    "%autoreload 1\n",
    "import sys\n",
    "sys.path.append('..')\n",
    "%aimport utils.helper_functions \n",
    "from utils.helper_functions import wait_for_job_to_complete, read_s3_object, create_sample_file, get_bucket_and_key, wait_for_completion, display_html\n",
    "\n",
    "input_bucket, input_prefix = get_bucket_and_key(bda_s3_input_location)\n",
    "local_file_name = 'examples/BankStatement.pdf'\n",
    "s3_file_name = 'BankStatement.pdf'\n",
    "s3_response = s3_client.upload_file(local_file_name, input_bucket,\n",
    "                                    f'{input_prefix}/{s3_file_name}')"
   ]
  },
  {
   "cell_type": "markdown",
   "id": "50fa40f1-70e9-4edc-a97b-666ff24484d9",
   "metadata": {},
   "source": [
    "### List blueprints in the Catalog\n",
    "Let's view the blueprints that BDA offers in the catalog of sample blueprints"
   ]
  },
  {
   "cell_type": "code",
   "execution_count": null,
   "id": "8ac15ad7-2c8d-41ed-904a-5e2a8018b63d",
   "metadata": {},
   "outputs": [],
   "source": [
    "import pandas as pd\n",
    "list_blueprints_response = bda_client.list_blueprints(resourceOwner='SERVICE')\n",
    "df = pd.DataFrame(list_blueprints_response['blueprints'])[['blueprintName','blueprintArn']]\n",
    "HTML(f'''\n",
    "    <div style=\"height:300px; overflow:auto;\">\n",
    "        {df.to_html()}\n",
    "    </div>\n",
    "''')"
   ]
  },
  {
   "cell_type": "markdown",
   "id": "fb8ac1bc-b37a-48f4-8327-34eaeea1d9fd",
   "metadata": {},
   "source": [
    "### Invoke Blueprint Recommendation\n",
    "With our sample ready, we can have BDA recommend a blueprint for our sample document from the sample set."
   ]
  },
  {
   "cell_type": "code",
   "execution_count": null,
   "id": "5b042b63-ed79-4ea2-8764-92fecd574f9a",
   "metadata": {},
   "outputs": [],
   "source": [
    "from utils.helper_functions import invoke_blueprint_recommendation_async, get_blueprint_recommendation\n",
    "import json\n",
    "inputConfiguration = {\n",
    "    \"inputDataConfiguration\":{\n",
    "        \"s3Uri\":f'{bda_s3_input_location}/{s3_file_name}'\n",
    "    }\n",
    "}\n",
    "response = invoke_blueprint_recommendation_async(bda_client=bda_client,\n",
    "                                      region_name=region_name, \n",
    "                                      credentials = boto3.Session().get_credentials().get_frozen_credentials(),\n",
    "                                      payload=json.dumps(inputConfiguration))\n",
    "\n",
    "job_id = response['jobId']"
   ]
  },
  {
   "cell_type": "markdown",
   "id": "7a51588f-1b3a-429a-841c-94a2d8e65742",
   "metadata": {},
   "source": [
    "### Wait for blueprint recommendation results"
   ]
  },
  {
   "cell_type": "code",
   "execution_count": null,
   "id": "811dd9d0-2c91-4b0a-97e1-390ab3bf78f2",
   "metadata": {},
   "outputs": [],
   "source": [
    "status_response = wait_for_completion(\n",
    "            client=None,\n",
    "            get_status_function=get_blueprint_recommendation,\n",
    "            status_kwargs={\n",
    "                'bda_client': bda_client,\n",
    "                'job_id': job_id,\n",
    "                'region_name': region_name,\n",
    "                'credentials': boto3.Session().get_credentials().get_frozen_credentials(),\n",
    "            },\n",
    "            completion_states=['Completed'],\n",
    "            error_states=['ClientError', 'ServiceError'],\n",
    "            status_path_in_response='status',\n",
    "            max_iterations=15,\n",
    "            delay=30\n",
    ")"
   ]
  },
  {
   "cell_type": "markdown",
   "id": "9d8dc1dd-0842-4dd3-8678-2c25bc46817e",
   "metadata": {},
   "source": [
    "### Identify Blueprint\n",
    "BDA outputs a blueprint recommendation along with a prompt recommendation that is useful to create a custom blueprint, if needed.\n",
    "\n",
    "For this example, we will fetch the blueprint that was recommended by BDA."
   ]
  },
  {
   "cell_type": "code",
   "execution_count": null,
   "id": "db4efd46-c440-45de-80e5-51e9ab3b2ebf",
   "metadata": {},
   "outputs": [],
   "source": [
    "blueprint_recommendation = next((result for result in status_response['results'] if result['type'] == 'BLUEPRINT_RECOMMENDATION'),None)"
   ]
  },
  {
   "cell_type": "code",
   "execution_count": null,
   "id": "6a4606d2-0a57-4fb3-a059-42ad9811b51b",
   "metadata": {},
   "outputs": [],
   "source": [
    "JSON(blueprint_recommendation['blueprintRecommendation'], root='blueprintRecommendation', expanded=True)"
   ]
  },
  {
   "cell_type": "markdown",
   "id": "ee716eab-c6a6-48d3-9b1e-596088421126",
   "metadata": {},
   "source": [
    "### Blueprint Schema\n",
    "\n",
    "Now that we have identified the matching Blueprint, we can view the blueprint schema. The blueprint schema describes the data structure that contains fields, which in turn contain the information extracted by BDA custom output. There are two types of fields—explicit and implicit—located in the extraction table. Explicit extractions are used for clearly stated information that can be seen in the document. Implicit extractions are used for information that need to be transformed from how they appear in the document"
   ]
  },
  {
   "cell_type": "code",
   "execution_count": null,
   "id": "d80ce3ed-43d0-480b-82a7-60dc3b3a66dc",
   "metadata": {},
   "outputs": [],
   "source": [
    "JSON(json.loads(blueprint_recommendation['blueprintRecommendation']['schema']), root='Schema', expanded=False)"
   ]
  },
  {
   "cell_type": "code",
   "execution_count": null,
   "id": "c35d5c00-4f03-40c9-a801-489c3e2a0ddc",
   "metadata": {},
   "outputs": [],
   "source": [
    "blueprint_arn = blueprint_recommendation['blueprintRecommendation']['matchedBlueprint']['blueprintArn']"
   ]
  },
  {
   "cell_type": "markdown",
   "id": "5030a111-40d3-4bae-94cf-4e6af0703843",
   "metadata": {},
   "source": [
    "### Invoke Data Automation Async\n",
    "Now that we have identified a blueprint, we can proceed to invoke data automation. Note that in addition to the input and output configuration we also provide the blueprint id when calling the `invoke_data_automation_async` operation."
   ]
  },
  {
   "cell_type": "code",
   "execution_count": null,
   "id": "ee8aecc6-ad76-4dbe-8e70-e49bc7acf3d0",
   "metadata": {},
   "outputs": [],
   "source": [
    "response = bda_runtime_client.invoke_data_automation_async(\n",
    "    inputConfiguration={\n",
    "        's3Uri': f'{bda_s3_input_location}/{s3_file_name}'\n",
    "    },\n",
    "    outputConfiguration={\n",
    "        's3Uri': bda_s3_output_location\n",
    "    },\n",
    "    blueprints=[\n",
    "        {\n",
    "            'blueprintArn': blueprint_arn\n",
    "        }\n",
    "    ]\n",
    ")\n",
    "\n",
    "invocationArn = response['invocationArn']\n",
    "print(f'Invoked data automation job with invocation arn {invocationArn}')"
   ]
  },
  {
   "cell_type": "markdown",
   "id": "71f95361-153f-4b17-9aab-2a19ce0cf0a7",
   "metadata": {},
   "source": [
    "### Get Data Automation Status\n",
    "\n",
    "We can check the status and monitor the progress of the Invocation job using the `GetDataAutomationStatus`. This API takes the invocation arn we retrieved from the response to the `InvokeDataAutomationAsync` operation above.\n",
    "\n",
    "The invocation job status moves from `Created` to `InProgress` and finally to `Success` when the job completes successfully, along with the S3 location of the results. If the job encounters and error the final status is either `ServiceError` or `ClientError` with error details"
   ]
  },
  {
   "cell_type": "code",
   "execution_count": null,
   "id": "011297d7-196a-4fb7-ba45-cb215940fdca",
   "metadata": {
    "editable": true,
    "slideshow": {
     "slide_type": ""
    },
    "tags": []
   },
   "outputs": [],
   "source": [
    "status_response = wait_for_completion(\n",
    "            client=bda_client,\n",
    "            get_status_function=bda_runtime_client.get_data_automation_status,\n",
    "            status_kwargs={'invocationArn': invocationArn},\n",
    "            completion_states=['Success'],\n",
    "            error_states=['ClientError', 'ServiceError'],\n",
    "            status_path_in_response='status',\n",
    "            max_iterations=15,\n",
    "            delay=30\n",
    ")\n",
    "if status_response['status'] == 'Success':\n",
    "    job_metadata_s3_location = status_response['outputConfiguration']['s3Uri']\n",
    "else:\n",
    "    raise Exception(f'Invocation Job Error, error_type={status_response[\"error_type\"]},error_message={status_response[\"error_message\"]}')"
   ]
  },
  {
   "cell_type": "markdown",
   "id": "fcbc3c58-be7a-4839-8561-bea57cd2e6c5",
   "metadata": {},
   "source": [
    "### Extract Custom output"
   ]
  },
  {
   "cell_type": "code",
   "execution_count": null,
   "id": "8e845bdd-039b-4310-a21f-b6d46b711d8c",
   "metadata": {},
   "outputs": [],
   "source": [
    "job_metadata = json.loads(read_s3_object(job_metadata_s3_location))\n",
    "JSON(job_metadata, root='job_metadata', expanded=True)"
   ]
  },
  {
   "cell_type": "markdown",
   "id": "1891c8b9-703c-4017-af8a-d95f25bce3b7",
   "metadata": {},
   "source": [
    "### Explore Custom output using Blueprint \n",
    "We can now explore the custom output received from processing documents using the blueprint we used for the Data Automation job.\n",
    "\n",
    "Note,that Standard output is always produced.\n",
    "\n",
    "Let's break down the main sections of this JSON output from Bedrock Data Automation:"
   ]
  },
  {
   "cell_type": "code",
   "execution_count": null,
   "id": "1f4cfbf7-d7a7-4a29-aed1-317f6091b04c",
   "metadata": {},
   "outputs": [],
   "source": [
    "asset_id = 0\n",
    "custom_output_path = next(item[\"segment_metadata\"][0][\"custom_output_path\"] \n",
    "                                for item in job_metadata[\"output_metadata\"] \n",
    "                                if item['asset_id'] == asset_id)\n",
    "custom_output = json.loads(read_s3_object(custom_output_path))"
   ]
  },
  {
   "cell_type": "code",
   "execution_count": null,
   "id": "1331ee2b-1ce2-4921-a2fd-0c391404cd0a",
   "metadata": {},
   "outputs": [],
   "source": [
    "JSON(custom_output)"
   ]
  },
  {
   "cell_type": "markdown",
   "id": "74159020-57e7-448b-bbd3-8d5fe7b305e6",
   "metadata": {},
   "source": [
    "#### _matched_blueprint_\n",
    "\n",
    "- Contains information about the template used for analysis\n",
    "- Includes the ARN, name (\"Bank-Statement\"), and confidence score for the match.\n",
    "\n",
    "The confidence score is the degree of certainty with which BDA has matched the provided document to a blueprint.\n",
    "\n",
    "Note: Since we passed in the blueprint arn in the `invoke_data_automation_async` BDA uses the blueprint with that Arn and hence the confidence score is 1. Later in this notebook, when using projects, we will see an example where BDA determines a blueprint for a document from a configured set of blueprints."
   ]
  },
  {
   "cell_type": "code",
   "execution_count": null,
   "id": "fa44c714-a039-4df9-a30a-4fb8128b5aa3",
   "metadata": {},
   "outputs": [],
   "source": [
    "JSON(custom_output['matched_blueprint'], root='matched_blueprint')"
   ]
  },
  {
   "cell_type": "markdown",
   "id": "a2a02792-bbf1-407a-8320-3874469c4876",
   "metadata": {},
   "source": [
    "#### _document class_"
   ]
  },
  {
   "cell_type": "code",
   "execution_count": null,
   "id": "08711afa-3226-4dbd-88c9-5ef056a1d68a",
   "metadata": {},
   "outputs": [],
   "source": [
    "JSON(custom_output['document_class'], root='document_class')"
   ]
  },
  {
   "cell_type": "markdown",
   "id": "226628e3-6358-48ca-a434-937a0dcb0d99",
   "metadata": {},
   "source": [
    "#### _inference_results_\n",
    "\n",
    "Inference results section contain the data BDA extracted from the document using the blueprint provided."
   ]
  },
  {
   "cell_type": "code",
   "execution_count": null,
   "id": "1eec0335-2c49-4f9d-ac78-7200bd6822a9",
   "metadata": {},
   "outputs": [],
   "source": [
    "JSON(custom_output['inference_result'], root='inference_result')"
   ]
  },
  {
   "cell_type": "markdown",
   "id": "db8db55c-7073-4101-8f6e-a0956ca38843",
   "metadata": {},
   "source": [
    "#### _explainability_info"
   ]
  },
  {
   "cell_type": "markdown",
   "id": "dad691f3-aba5-4b81-a1e4-8969538983a0",
   "metadata": {},
   "source": [
    "---"
   ]
  },
  {
   "cell_type": "markdown",
   "id": "b4114bad-396d-40bd-ab63-87a521f656d0",
   "metadata": {},
   "source": [
    "## Custom output using custom blueprint"
   ]
  },
  {
   "cell_type": "code",
   "execution_count": null,
   "id": "79c53a1c-a95e-4ac9-b1df-05953e47ea46",
   "metadata": {},
   "outputs": [],
   "source": [
    "For documents and images that aren't in the catalog, you can create custom blueprints. In the following example, we will extract data from a sample medical claim form along using a blueprint that we create."
   ]
  },
  {
   "cell_type": "markdown",
   "id": "a0f89ca4-0cb0-4a6f-82e0-bace894ee004",
   "metadata": {
    "jp-MarkdownHeadingCollapsed": true
   },
   "source": [
    "### View Sample Document"
   ]
  },
  {
   "cell_type": "code",
   "execution_count": null,
   "id": "3a2542ea-d6c4-4c49-81e3-3822e87f12af",
   "metadata": {},
   "outputs": [],
   "source": [
    "IFrame(\"examples/sample1_cms-1500-P.pdf\", width=900, height=800)"
   ]
  },
  {
   "cell_type": "markdown",
   "id": "93af1fc3-8a17-4ee7-8c35-bc13fdcab5ba",
   "metadata": {},
   "source": [
    "### Upload sample document to S3\n",
    "For this lab, we use a CMS 1500 Medical claim for with dummy data to explore the blueprint feature of BDA. \n",
    "\n",
    "Note - We will configure BDA to use the sample input from this S3 location, so we need to ensure that BDA has `s3:GetObject` access to this S3 location. If you are running the notebook in your own AWS Account, ensure that the SageMaker Execution role configured for this JupyterLab app has the right IAM permissions."
   ]
  },
  {
   "cell_type": "code",
   "execution_count": null,
   "id": "0d5e5ea1-3b87-4c09-9577-beb0a23f9906",
   "metadata": {},
   "outputs": [],
   "source": [
    "input_bucket, input_prefix = get_bucket_and_key(bda_s3_input_location)\n",
    "local_file_name = 'examples/sample1_cms-1500-P.pdf'\n",
    "s3_file_name = 'sample1_cms-1500.pdf'\n",
    "s3_response = s3_client.upload_file(local_file_name, input_bucket,\n",
    "                                    f'{input_prefix}/{s3_file_name}')"
   ]
  },
  {
   "cell_type": "markdown",
   "id": "6d66efdd-a312-4161-98b6-17d23c5221aa",
   "metadata": {},
   "source": [
    "### Invoke Blueprint Recommendation"
   ]
  },
  {
   "cell_type": "markdown",
   "id": "c4e11ce6-10da-4a23-979f-06d375322e24",
   "metadata": {},
   "source": [
    "Before we start creating our own blueprint, let's explore the Blueprint recommendation with our sample document"
   ]
  },
  {
   "cell_type": "code",
   "execution_count": null,
   "id": "1fc341cc-4500-4ece-91ec-28805afbf33a",
   "metadata": {},
   "outputs": [],
   "source": [
    "from utils.helper_functions import invoke_blueprint_recommendation_async, get_blueprint_recommendation\n",
    "import json\n",
    "inputConfiguration = {\n",
    "    \"inputDataConfiguration\":{\n",
    "        \"s3Uri\":f'{bda_s3_input_location}/{s3_file_name}'\n",
    "    }\n",
    "}\n",
    "response = invoke_blueprint_recommendation_async(bda_client=bda_client,\n",
    "                                      region_name=region_name, \n",
    "                                      credentials = boto3.Session().get_credentials().get_frozen_credentials(),\n",
    "                                      payload=json.dumps(inputConfiguration))\n",
    "\n",
    "job_id = response['jobId']"
   ]
  },
  {
   "cell_type": "markdown",
   "id": "e94db4ba-b906-4034-a27c-c8936ed33790",
   "metadata": {},
   "source": [
    "### Wait for blueprint recommendation results"
   ]
  },
  {
   "cell_type": "code",
   "execution_count": null,
   "id": "9674e79b-5210-431a-9812-7873a9ee30b6",
   "metadata": {},
   "outputs": [],
   "source": [
    "status_response = wait_for_completion(\n",
    "            client=None,\n",
    "            get_status_function=get_blueprint_recommendation,\n",
    "            status_kwargs={\n",
    "                'bda_client': bda_client,\n",
    "                'job_id': job_id,\n",
    "                'region_name': region_name,\n",
    "                'credentials': boto3.Session().get_credentials().get_frozen_credentials(),\n",
    "            },\n",
    "            completion_states=['Completed'],\n",
    "            error_states=['ClientError', 'ServiceError'],\n",
    "            status_path_in_response='status',\n",
    "            max_iterations=15,\n",
    "            delay=30\n",
    ")"
   ]
  },
  {
   "cell_type": "code",
   "execution_count": null,
   "id": "615e0ac7-73d9-497f-9a87-4206b23c8114",
   "metadata": {},
   "outputs": [],
   "source": [
    "blueprint_recommendation = next((result for result in status_response['results'] if result['type'] == 'BLUEPRINT_RECOMMENDATION'),None)\n",
    "JSON(blueprint_recommendation['blueprintRecommendation'],root='blueprintRecommendation',expanded=False)"
   ]
  },
  {
   "cell_type": "markdown",
   "id": "3a9c4038-315d-4553-9ba7-fc82f3f712ad",
   "metadata": {},
   "source": [
    "Note that BDA identified the type of the sample file provided as `DOCUMENT` and the document class as 'Health Insurance Claim Form'. However, the `matchedBlueprint` section is missing, indicating that BDA did not find an existing blueprint in the BDA catalog of premade blueprints.\n",
    "\n",
    "Now, Let's start by creating our first blueprint."
   ]
  },
  {
   "cell_type": "markdown",
   "id": "9cb0e85b-fce3-49a5-8d4b-a43b2b3c35e6",
   "metadata": {},
   "source": [
    "### Define Blueprint properties\n",
    "To create a blueprint you start with defining a blueprint name, description, the blueprint type (`DOCUMENT` or `IMAGE`), the blueprint stage (`LIVE` or `DEVELOPMENT`) along with blueprint schema in JSON schema format."
   ]
  },
  {
   "cell_type": "markdown",
   "id": "2bf59d07-9cec-44cd-9075-4169f66d0996",
   "metadata": {},
   "source": [
    " You can create a blueprint using an API providing a name, type, stage and a schema in JSON format."
   ]
  },
  {
   "cell_type": "code",
   "execution_count": null,
   "id": "3af508ba-fdb7-46d9-b727-9876f2f5a4f4",
   "metadata": {},
   "outputs": [],
   "source": [
    "# create blueprint using Boto3\n",
    "blueprint_name = 'medical-claim-form-cms1500'\n",
    "blueprint_description = 'Blueprint for CMS 1500 Claim Form'\t\n",
    "blueprint_type = 'DOCUMENT'\n",
    "blueprint_stage = 'LIVE'\n",
    "\n",
    "with open('assets/blueprint_schema.json') as f:\n",
    "    blueprint_schema = json.load(f)\n",
    "JSON(blueprint_schema)"
   ]
  },
  {
   "cell_type": "markdown",
   "id": "8e41b3e2-20cf-4046-bf40-503d570bf17c",
   "metadata": {},
   "source": [
    "### Create (or Update) Blueprint"
   ]
  },
  {
   "cell_type": "markdown",
   "id": "c78a930e-19fe-4b64-93e2-07f4e587ba2c",
   "metadata": {},
   "source": [
    "We will use the `create_blueprint` operation (or `update_blueprint` to update an existing blueprint) in the  `boto3` API to create/update the blueprint. You could also create/update blueprints using the AWS console. Each blueprint that you create is an AWS resource with its own blueprint ID and ARN. "
   ]
  },
  {
   "cell_type": "code",
   "execution_count": null,
   "id": "6caa2628-3666-4205-acfc-48185e50a28f",
   "metadata": {},
   "outputs": [],
   "source": [
    "list_blueprints_response = bda_client.list_blueprints(\n",
    "    blueprintStageFilter='ALL'\n",
    ")\n",
    "blueprint = next((blueprint for blueprint in\n",
    "                  list_blueprints_response['blueprints']\n",
    "                  if 'blueprintName' in blueprint and\n",
    "                  blueprint['blueprintName'] == blueprint_name), None)\n",
    "\n",
    "\n",
    "print(f'Found existing blueprint with name={blueprint_name}, updating Stage and Schema')\n",
    "\n",
    "if not blueprint:\n",
    "    response = bda_client.create_blueprint(\n",
    "        blueprintName=blueprint_name,\n",
    "        type=blueprint_type,\n",
    "        blueprintStage=blueprint_stage,\n",
    "        schema=json.dumps(blueprint_schema)\n",
    "    )\n",
    "else:\n",
    "    response = bda_client.update_blueprint(\n",
    "        blueprintArn=blueprint['blueprintArn'],\n",
    "        blueprintStage=blueprint_stage,\n",
    "        schema=json.dumps(blueprint_schema)\n",
    "    )\n",
    "\n",
    "blueprint_arn = response['blueprint']['blueprintArn']"
   ]
  },
  {
   "cell_type": "markdown",
   "id": "ccaae770-0aa8-4fc4-9416-40ff84735da8",
   "metadata": {},
   "source": [
    "### Invoke Data Automation Async\n",
    "Now that our blueprint has been setup, we can proceed to invoke data automation. Note that in addition to the input and output configuration we also provide the blueprint id when calling the `invoke_data_automation_async` operation."
   ]
  },
  {
   "cell_type": "code",
   "execution_count": null,
   "id": "7bbe6c93-b2aa-4781-a6eb-0cd71e2cfa9e",
   "metadata": {},
   "outputs": [],
   "source": [
    "response = bda_runtime_client.invoke_data_automation_async(\n",
    "    inputConfiguration={\n",
    "        's3Uri': f'{bda_s3_input_location}/{s3_file_name}'\n",
    "    },\n",
    "    outputConfiguration={\n",
    "        's3Uri': bda_s3_output_location\n",
    "    },\n",
    "    blueprints=[\n",
    "        {\n",
    "            'blueprintArn': blueprint_arn\n",
    "        }\n",
    "    ]\n",
    ")\n",
    "\n",
    "invocationArn = response['invocationArn']\n",
    "print(f'Invoked data automation job with invocation arn {invocationArn}') "
   ]
  },
  {
   "cell_type": "markdown",
   "id": "11d8650a-f24d-490d-a0e4-5c01ac2ffdcb",
   "metadata": {},
   "source": [
    "### Get Data Automation Status\n",
    "\n",
    "We can check the status and monitor the progress of the Invocation job using the `GetDataAutomationStatus`. This API takes the invocation arn we retrieved from the response to the `InvokeDataAutomationAsync` operation above.\n",
    "\n",
    "The invocation job status moves from `Created` to `InProgress` and finally to `Success` when the job completes successfully, along with the S3 location of the results. If the job encounters and error the final status is either `ServiceError` or `ClientError` with error details"
   ]
  },
  {
   "cell_type": "code",
   "execution_count": null,
   "id": "8fc21ba9-c5d1-429d-96b3-5b2563eee117",
   "metadata": {
    "editable": true,
    "slideshow": {
     "slide_type": ""
    },
    "tags": []
   },
   "outputs": [],
   "source": [
    "status_response = wait_for_completion(\n",
    "            client=bda_client,\n",
    "            get_status_function=bda_runtime_client.get_data_automation_status,\n",
    "            status_kwargs={'invocationArn': invocationArn},\n",
    "            completion_states=['Success'],\n",
    "            error_states=['ClientError', 'ServiceError'],\n",
    "            status_path_in_response='status',\n",
    "            max_iterations=15,\n",
    "            delay=30\n",
    ")\n",
    "if status_response['status'] == 'Success':\n",
    "    job_metadata_s3_location = status_response['outputConfiguration']['s3Uri']\n",
    "else:\n",
    "    raise Exception(f'Invocation Job Error, error_type={status_response[\"error_type\"]},error_message={status_response[\"error_message\"]}')"
   ]
  },
  {
   "cell_type": "code",
   "execution_count": null,
   "id": "ecd122e4-6ad9-4497-aacc-9ec34238bd51",
   "metadata": {},
   "outputs": [],
   "source": [
    "job_metadata = json.loads(read_s3_object(job_metadata_s3_location))\n",
    "JSON(job_metadata, root='job_metadata', expanded=True)"
   ]
  },
  {
   "cell_type": "markdown",
   "id": "3e8a1a52-edee-426b-b55d-39decb3ef62c",
   "metadata": {},
   "source": [
    "### Explore the Custom output with custom blueprint"
   ]
  },
  {
   "cell_type": "code",
   "execution_count": null,
   "id": "7db40097-1915-4117-8e25-de830210b17e",
   "metadata": {},
   "outputs": [],
   "source": [
    "asset_id=0\n",
    "custom_output_path = next(item[\"segment_metadata\"][0][\"custom_output_path\"] \n",
    "                                for item in job_metadata[\"output_metadata\"] \n",
    "                                if item['asset_id'] == asset_id)\n",
    "custom_output = json.loads(read_s3_object(custom_output_path))"
   ]
  },
  {
   "cell_type": "markdown",
   "id": "d998e931-0543-4647-915b-74ac361d3fc5",
   "metadata": {},
   "source": [
    "The structure of the custom output would be the same as that of the output produced when using a catalog blueprint. However, the `inference_result` now contain data that map to the blueprint schema we provided to BDA with the `InvokeDataAutomationAsync` operation."
   ]
  },
  {
   "cell_type": "code",
   "execution_count": null,
   "id": "c82f2d21-cbcf-4dde-9c82-8a1f720efae3",
   "metadata": {},
   "outputs": [],
   "source": [
    "inference_result = custom_output['inference_result']\n",
    "medical_procedures = inference_result.pop['medical_procedures']"
   ]
  },
  {
   "cell_type": "code",
   "execution_count": null,
   "id": "e142bb5b-191c-4130-81a6-31797f85a459",
   "metadata": {},
   "outputs": [],
   "source": [
    "import pandas as pd\n",
    "df = pd.DataFrame(inference_result, index=[0])\n",
    "df.T.style.hide(axis='columns')"
   ]
  },
  {
   "cell_type": "code",
   "execution_count": null,
   "id": "db671d14-d4f0-4d50-a25b-ba77278b2649",
   "metadata": {},
   "outputs": [],
   "source": [
    "df2 = pd.DataFrame(inference_result['medical_procedures'], index=[0])"
   ]
  },
  {
   "cell_type": "code",
   "execution_count": null,
   "id": "61f51ac1-fd22-435c-9287-55b8efecb7a7",
   "metadata": {},
   "outputs": [],
   "source": []
  }
 ],
 "metadata": {
  "kernelspec": {
   "display_name": "Python 3 (ipykernel)",
   "language": "python",
   "name": "python3"
  },
  "language_info": {
   "codemirror_mode": {
    "name": "ipython",
    "version": 3
   },
   "file_extension": ".py",
   "mimetype": "text/x-python",
   "name": "python",
   "nbconvert_exporter": "python",
   "pygments_lexer": "ipython3",
   "version": "3.11.11"
  }
 },
 "nbformat": 4,
 "nbformat_minor": 5
}
