{
 "cells": [
  {
   "cell_type": "markdown",
   "id": "28739f83-678f-4e76-bb40-af12caf8fac2",
   "metadata": {},
   "source": [
    "# Processing document using default Standard output"
   ]
  },
  {
   "cell_type": "markdown",
   "id": "17a7159c-4b33-4c1a-af1d-710d85c921f4",
   "metadata": {},
   "source": [
    "## Introduction\n",
    "\n",
    "Amazon Bedrock Data Automation (BDA) lets you configure output based on your processing needs for a specific data type: documents, images, video or audio. BDA can generate standard output or custom output.\n",
    "\n",
    "You can use standard outputs for all four modalities: documents, images, videos, and audio. BDA always provides a standard output response even if it's alongside a custom output response.\n",
    "\n",
    "Standard outputs are modality-specific default insights, such as video summaries that capture key moments, visual and audible toxic content, explanations of document charts, graph figure data, and more. \n",
    "\n",
    "In this notebook we will explore the Standard output for the documents."
   ]
  },
  {
   "cell_type": "markdown",
   "id": "ca16843e-0586-4c58-991f-ca6898e192e2",
   "metadata": {},
   "source": [
    "## Prerequisites"
   ]
  },
  {
   "cell_type": "code",
   "execution_count": null,
   "id": "f75bfcb2-1f39-4288-a6b7-d3604cff85bc",
   "metadata": {},
   "outputs": [],
   "source": [
    "pip install \"boto3>=1.35.76\" PyPDF2 --upgrade"
   ]
  },
  {
   "cell_type": "markdown",
   "id": "e5da4e11-dcff-4300-8d29-f4260abe2856",
   "metadata": {},
   "source": [
    "## Setup\n",
    "\n",
    "Before we get to the part where we invoke BDA with our sample artifacts, let's setup some parameters and configuration that will be used throughout this notebook"
   ]
  },
  {
   "cell_type": "code",
   "execution_count": null,
   "id": "d60dc83e-e9a1-42d8-8de6-021c68f6ab45",
   "metadata": {},
   "outputs": [],
   "source": [
    "import boto3\n",
    "import json\n",
    "import pprint\n",
    "from IPython.display import JSON\n",
    "import IPython.display as display\n",
    "import sagemaker\n",
    "\n",
    "session = sagemaker.Session()\n",
    "default_bucket = session.default_bucket()\n",
    "\n",
    "region_name = 'us-west-2'\n",
    "# Initialize Bedrock Data Automation client\n",
    "bda_client = boto3.client('bedrock-data-automation')\n",
    "bda_runtime_client = boto3.client('bedrock-data-automation-runtime')\n",
    "s3_client = boto3.client('s3')\n",
    "\n",
    "\n",
    "bda_s3_input_location = f's3://{default_bucket}/bda/input'\n",
    "bda_s3_output_location = f's3://{default_bucket}/bda/output'"
   ]
  },
  {
   "cell_type": "markdown",
   "id": "eecb09e7-74f9-4d5a-a15f-8f9417698045",
   "metadata": {},
   "source": [
    "## Prepare Sample Document\n",
    "For this lab, we use a `Monthly Treasury Statement for the United States Government` for Fiscal Year 2025 through November 30, 2024. The document is prepared by the Bureau of the Fiscal Service, Department of the Treasury and provides detailed information on the government's financial activities. We will extract a subset of pages from the `PDF` document and use BDA to extract and analyse the document content.\n",
    "\n",
    "### Download and store sample document\n",
    "we use the document url to download the document and store it a S3 location. \n",
    "\n",
    "Note - We will configure BDA to use the sample input from this S3 location, so we need to ensure that BDA has `s3:GetObject` access to this S3 location. If you are running the notebook in your own AWS Account, ensure that the SageMaker Execution role configured for this JupyterLab app has the right IAM permissions."
   ]
  },
  {
   "cell_type": "code",
   "execution_count": null,
   "id": "3eb1e55b-c165-4cfd-800f-8eac35cabf49",
   "metadata": {},
   "outputs": [],
   "source": [
    "%load_ext autoreload\n",
    "%autoreload 2\n",
    "\n",
    "from utils.helper_functions import wait_for_job_to_complete, read_s3_object, create_sample_file, get_bucket_and_key\n",
    "\n",
    "# Download sample pdf file, extract pages and  \n",
    "input_bucket, input_prefix = get_bucket_and_key(bda_s3_input_location)\n",
    "sample_data_url = \"https://fiscaldata.treasury.gov/static-data/published-reports/mts/MonthlyTreasuryStatement_202411.pdf\"\n",
    "local_file_name = 'examples/MonthlyTreasuryStatement_202411.pdf'\n",
    "create_sample_file(sample_data_url, 0, 9, local_file_name)\n",
    "s3_file_name = 'MonthlyTreasuryStatement.pdf'\n",
    "s3_response = s3_client.upload_file(local_file_name, input_bucket,\n",
    "                                    f'{input_prefix}/{s3_file_name}')"
   ]
  },
  {
   "cell_type": "markdown",
   "id": "f739ab05-b9bb-428e-b44b-3352420e4b96",
   "metadata": {},
   "source": [
    "### View Sample Document"
   ]
  },
  {
   "cell_type": "code",
   "execution_count": null,
   "id": "f56001da-07e6-4188-8c50-928f410fc477",
   "metadata": {},
   "outputs": [],
   "source": [
    "display.IFrame(\"examples/MonthlyTreasuryStatement_202411.pdf\", width=900, height=800)"
   ]
  },
  {
   "cell_type": "markdown",
   "id": "ee0ab1d3-269a-4ba5-804a-7eadf1c9a05f",
   "metadata": {},
   "source": [
    "## Standard output in Bedrock Data Automation\n",
    "\n",
    "We start with document data type. Here we use a sample credit report which is of type `pdf`. Below is a summary of the response options that you can set when using standard output with documents. \n",
    "\n",
    "For more details see [Documents](https://docs.aws.amazon.com/bedrock/latest/userguide/bda-output-documents.html)."
   ]
  },
  {
   "cell_type": "markdown",
   "id": "dca3a2e4-c400-4eb2-8938-92317cd99ee0",
   "metadata": {},
   "source": [
    "- **Response granularity**\n",
    "This setting indicates to BDA the kind of response you want to receive from document text extraction. Each level of granularity gives you more and more seperated responses, with page providing all of the text extracted together, and word providing each word as a seperate response. The available granularity levels are:\n",
    "\n",
    "    - Page\n",
    "    \n",
    "    - Element\n",
    "    \n",
    "    - Word\n",
    "\n",
    "    More details [Response Granularity](https://docs.aws.amazon.com/bedrock/latest/userguide/bda-output-documents.html#document-granularity)\n",
    "\n",
    "- **Output settings**\n",
    "Output settings determine the structure of the results produced by BDA. The options for output settings are:\n",
    "\n",
    "    - **JSON** - The result would be a JSON output file with the information from your configuration settings. This is the **default** for document analysis.\n",
    "    \n",
    "    - **JSON+files**  The result would include a JSON output along with files that correspond with different outputs. For example, this setting gives you a text file for the overall text extraction, a markdown file for the text with structural markdown, and CSV files for each table that's found in the text.\n",
    "\n",
    "- **Text Format**\n",
    "Text format determines the different kinds of texts that will be provided via various extraction operations. You can select any number of the following options for your text format.\n",
    "\n",
    "    - **Plaintext** – This setting provides a text-only output with no formatting or other markdown elements noted.\n",
    "    \n",
    "    - **Text with markdown** – The **default** output setting for standard output. Provides text with markdown elements integrated.\n",
    "    \n",
    "    - **Text with HTML** – Provides text with HTML elements integrated in the response.\n",
    "    \n",
    "    - **CSV** – Provides a CSV structured output for tables within the document. This will only give a response for tables, and not other elements of the document\n",
    "\n",
    "- **Bounding Boxes**\n",
    "\n",
    "    - With the Bounding Boxes option enabled, BDA would output `Bounding Boxes` for elements in the document in form of coordinates of four corners of the box. This helps in creating a visual outline of the element in the document.\n",
    "\n",
    "\n",
    "- **Generative Fields**\n",
    "    \n",
    "    - When `Generative Fields` are enabled, BDA generates a 10-word summary and a 250 word description of the document in the output. Additionally with Response Granularity at element level enabled, BDA also generates a descriptive caption of each figure detected in the document. Figures include things like charts, graphs, and images.\n",
    "\n",
    "\n",
    "  Both these options are **disabled by default**.\n",
    "\n",
    "\n",
    "Now that we have looked at the default options, we can proceed to invoking document processing using the default Standard output configuration."
   ]
  },
  {
   "cell_type": "markdown",
   "id": "21ddbd41-ca0b-4c27-997f-673135f4aa74",
   "metadata": {},
   "source": [
    "<div class=\"alert alert-block alert-info\">\n",
    "<b>Note: TBC-Disclaimer</b> \n",
    "</div>"
   ]
  },
  {
   "cell_type": "markdown",
   "id": "4fe34695-ce93-4c31-8ec6-89eadd79f59f",
   "metadata": {},
   "source": [
    "### Invoke Data Automation Async"
   ]
  },
  {
   "cell_type": "code",
   "execution_count": null,
   "id": "96e534fe-e15d-498f-b424-57c0be6010aa",
   "metadata": {},
   "outputs": [],
   "source": [
    "response = bda_runtime_client.invoke_data_automation_async(\n",
    "    inputConfiguration={\n",
    "        's3Uri': f'{bda_s3_input_location}/{s3_file_name}'\n",
    "    },\n",
    "    outputConfiguration={\n",
    "        's3Uri': bda_s3_output_location\n",
    "    }\n",
    ")\n",
    "\n",
    "invocationArn = response['invocationArn']"
   ]
  },
  {
   "cell_type": "markdown",
   "id": "44f118f9-9733-4235-a557-830739b42985",
   "metadata": {},
   "source": [
    "### Get Data Automation Status\n",
    "\n",
    "We can check the status and monitor the progress of the Invocation job using the `GetDataAutomationStatus`. This API takes the invocation arn we retrieved from the response to the `InvokeDataAutomationAsync` operation above.\n",
    "\n",
    "The invocation job status moves from `Created` to `InProgress` and finally to `Success` when the job completes successfully, along with the S3 location of the results. If the job encounters and error the final status is either `ServiceError` or `ClientError` with error details"
   ]
  },
  {
   "cell_type": "code",
   "execution_count": null,
   "id": "384a70e2-c004-48c5-9f84-b54536d97e9f",
   "metadata": {},
   "outputs": [],
   "source": [
    "status_response = wait_for_job_to_complete(invocationArn=invocationArn)\n",
    "if status_response['status'] == 'Success':\n",
    "    job_metadata_s3_location = status_response['outputConfiguration']['s3Uri']\n",
    "else:\n",
    "    raise Exception(f'Invocation Job Error, error_type={status_response[\"error_type\"]},error_message={status_response[\"error_message\"]}')"
   ]
  },
  {
   "cell_type": "markdown",
   "id": "201eab0e-1bd5-4784-a7f8-8c97120782ea",
   "metadata": {},
   "source": [
    "### Retrieve Job Metadata"
   ]
  },
  {
   "cell_type": "code",
   "execution_count": null,
   "id": "56d2fe5a-2301-4d72-ac6a-5514316a3194",
   "metadata": {},
   "outputs": [],
   "source": [
    "job_metadata = json.loads(read_s3_object(job_metadata_s3_location))\n",
    "JSON(job_metadata,root='job_metadata',expanded=True)"
   ]
  },
  {
   "cell_type": "markdown",
   "id": "6282162b-3d0e-43b0-a45d-4f77248e0ccb",
   "metadata": {},
   "source": [
    "### Explore the default Standard output\n",
    "We can now explore the standard output received from processing documents using Data Automation. \n",
    "\n",
    "The default Output Format is Json so the standard output for our sample document is in Json format. \n",
    "\n",
    "The Standard output for `Document` modality always includes a `metadata` section and a `document` section in the json result. Because for Standard output with default values, the Response granularity of Page level and Element level are enabled by default, the results would include sections for `page` and `element` level information.\n",
    "\n",
    "We go through the different components in the response in the following sections. "
   ]
  },
  {
   "cell_type": "code",
   "execution_count": null,
   "id": "6944582b-773a-4a09-ac95-56264def5ff9",
   "metadata": {},
   "outputs": [],
   "source": [
    "asset_id=0\n",
    "standard_output_path = next(item[\"segment_metadata\"][0][\"standard_output_path\"] \n",
    "                                for item in job_metadata[\"output_metadata\"] \n",
    "                                if item['asset_id'] == asset_id)\n",
    "standard_output = json.loads(read_s3_object(standard_output_path))"
   ]
  },
  {
   "cell_type": "code",
   "execution_count": null,
   "id": "e07d66d4-2994-40d6-bcb1-8f506b7bc62b",
   "metadata": {},
   "outputs": [],
   "source": [
    "JSON(standard_output)"
   ]
  },
  {
   "cell_type": "markdown",
   "id": "028fed44-1399-4f84-a557-b727e30a4b13",
   "metadata": {},
   "source": [
    "### metadata\n",
    "The metadata section in the response provides an overview of the metadata associated with the document. This include the S3 bucket and key for the input document. The metadata also contains the modality that was selected for your response, the number of pages processed as well as the start and end page index."
   ]
  },
  {
   "cell_type": "code",
   "execution_count": null,
   "id": "016ee0b9-288c-44d4-bd45-f914d99bb3d8",
   "metadata": {},
   "outputs": [],
   "source": [
    "JSON(standard_output['metadata'],root='metadata',expanded=True)"
   ]
  },
  {
   "cell_type": "markdown",
   "id": "95ac64f9-2e7b-4701-86d2-150eb6a674e5",
   "metadata": {},
   "source": [
    "### document\n",
    "The document section of the standard output provides document level granularity information. Document level granularity would include an analysis of information from the document providing key pieces of info.\n",
    "\n",
    "By default the document level granularity includes statistics that contain information on the actual content of the document, such as how many semantic elements there are, how many figures, words, lines, etc. We will look at further information that would be presented in the document level granularity when we modify the standard output using projects."
   ]
  },
  {
   "cell_type": "code",
   "execution_count": null,
   "id": "8daa8c5a-fb12-4543-9390-d6455b38584f",
   "metadata": {},
   "outputs": [],
   "source": [
    "JSON(standard_output['document'],root='document', expanded=True)"
   ]
  },
  {
   "cell_type": "markdown",
   "id": "c85be5e7-57fe-485d-a26c-cbbf38930fd7",
   "metadata": {},
   "source": [
    "### pages\n",
    "With Page level granularity (enabled by default) text in a page are consolidated and are listed in the pages section with one item for each page. The page entity in the Standard output include the page index. The individual page entities also include the statistics that contain information on the actual content of the document, such as how many semantic elements there are, how many figures, words, lines, etc. The asset metadata represents the page bounds using coordinates of the four corners.\n",
    "\n",
    "Below, we look at a snippet of the output pertaining to a specific page."
   ]
  },
  {
   "cell_type": "code",
   "execution_count": null,
   "id": "571e0289-c65c-411c-816f-6a949ccbc256",
   "metadata": {},
   "outputs": [],
   "source": [
    "JSON(standard_output['pages'][8],root='pages[7]',expanded=False)"
   ]
  },
  {
   "cell_type": "code",
   "execution_count": null,
   "id": "fd3f0247-3c40-426b-9ee2-187bb3ee8c16",
   "metadata": {},
   "outputs": [],
   "source": [
    "from IPython.display import Markdown, display\n",
    "\n",
    "pages_md = [page[\"representation\"][\"markdown\"] for page in standard_output['pages']]\n",
    "display(Markdown(pages_md[4]))"
   ]
  },
  {
   "cell_type": "markdown",
   "id": "26f32795-8436-44bd-9d71-8f8ad43143d4",
   "metadata": {},
   "source": [
    "### element\n",
    "The element section contains the various semantic elements extracted from the documents including Text content, Tables and figures. The text and figure entites are further sub-classified for example TITLE/SECTION_TITLE for Text or Chart for figures."
   ]
  },
  {
   "cell_type": "markdown",
   "id": "e0a4011e-a84c-4c50-bca4-917470d1590d",
   "metadata": {},
   "source": [
    "#### TEXT element"
   ]
  },
  {
   "cell_type": "code",
   "execution_count": null,
   "id": "02ea30f0-907a-442f-9b47-6eb4cdb98516",
   "metadata": {},
   "outputs": [],
   "source": [
    "JSON(standard_output['elements'][5],root='elements[5]', expanded=True)"
   ]
  },
  {
   "cell_type": "markdown",
   "id": "bae620f8-4d36-4dbc-ba02-0871dad2a990",
   "metadata": {},
   "source": [
    "#### FIGURE element"
   ]
  },
  {
   "cell_type": "code",
   "execution_count": null,
   "id": "ada4e42a-153c-40f6-9634-7752bb356322",
   "metadata": {},
   "outputs": [],
   "source": [
    "JSON(standard_output, expanded=True)"
   ]
  },
  {
   "cell_type": "markdown",
   "id": "43b2ff25-4253-46e7-a04a-c45d2fc33151",
   "metadata": {},
   "source": [
    "#### TABLE element"
   ]
  },
  {
   "cell_type": "code",
   "execution_count": null,
   "id": "a595fdfa-da74-4adc-a4a8-434f0bbfbbdc",
   "metadata": {},
   "outputs": [],
   "source": [
    "JSON(standard_output['elements'][27],root='elements[27]', expanded=True)"
   ]
  },
  {
   "cell_type": "markdown",
   "id": "339176b4-0bee-4900-9f50-d3656f86b93e",
   "metadata": {},
   "source": [
    "## Clean Up\n",
    "Let's delete the sample files that were downloaded locally and that uploaded to S3"
   ]
  },
  {
   "cell_type": "code",
   "execution_count": null,
   "id": "7ebefcf2-c020-41da-9770-35fe9cfdc9e4",
   "metadata": {},
   "outputs": [],
   "source": [
    "## Delete S3 File\n",
    "\n",
    "s3_client.delete_object(Bucket=input_bucket, Key=f'{input_prefix}/{s3_file_name}')\n",
    "\n",
    "#Delete local file\n",
    "import os\n",
    "if os.path.exists(local_file_name):\n",
    "    os.remove(local_file_name)\t"
   ]
  },
  {
   "cell_type": "markdown",
   "id": "889e875d-5ac0-4d6e-b9aa-a802bbd6d041",
   "metadata": {},
   "source": [
    "## Conclusion\n",
    "\n",
    "In this notebook we started with the default way of interacting with Amazon Bedrock Automation (BDA) by passing a sample document to the BDA API with no established blueprint or project. We then explored the default default standard output for the sample document."
   ]
  },
  {
   "cell_type": "markdown",
   "id": "b9a0f968-b70b-479f-a16a-a62eb0a9cf48",
   "metadata": {},
   "source": [
    "## Next Steps\n",
    "Standard output can be modified using projects, which store configuration information for each data type. In the next part of the workshop we would explore Bedrock data automation projects."
   ]
  },
  {
   "cell_type": "code",
   "execution_count": null,
   "id": "5a6228ea-9b57-402d-8b20-88003e54da29",
   "metadata": {},
   "outputs": [],
   "source": []
  }
 ],
 "metadata": {
  "kernelspec": {
   "display_name": "Python 3 (ipykernel)",
   "language": "python",
   "name": "python3"
  },
  "language_info": {
   "codemirror_mode": {
    "name": "ipython",
    "version": 3
   },
   "file_extension": ".py",
   "mimetype": "text/x-python",
   "name": "python",
   "nbconvert_exporter": "python",
   "pygments_lexer": "ipython3",
   "version": "3.10.14"
  }
 },
 "nbformat": 4,
 "nbformat_minor": 5
}
