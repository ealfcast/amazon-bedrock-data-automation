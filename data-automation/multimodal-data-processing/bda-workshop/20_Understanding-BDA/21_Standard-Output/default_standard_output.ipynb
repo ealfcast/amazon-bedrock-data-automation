{
 "cells": [
  {
   "cell_type": "markdown",
   "id": "28739f83-678f-4e76-bb40-af12caf8fac2",
   "metadata": {},
   "source": [
    "# Processing document using default Standard output"
   ]
  },
  {
   "cell_type": "markdown",
   "id": "17a7159c-4b33-4c1a-af1d-710d85c921f4",
   "metadata": {},
   "source": [
    "# Introduction\n",
    "\n",
    "Amazon Bedrock Data Automation (BDA) lets you configure output based on your processing needs for a specific data type: documents, images, video or audio. BDA can generate standard output or custom output.\n",
    "\n",
    "You can use standard outputs for all four modalities: documents, images, videos, and audio. BDA always provides a standard output response even if it's alongside a custom output response.\n",
    "\n",
    "Standard outputs are modality-specific default insights, such as video summaries that capture key moments, visual and audible toxic content, explanations of document charts, graph figure data, and more. \n",
    "\n",
    "In this notebook we will explore the Standard output for the documents."
   ]
  },
  {
   "cell_type": "markdown",
   "id": "ca16843e-0586-4c58-991f-ca6898e192e2",
   "metadata": {},
   "source": [
    "## Prerequisites"
   ]
  },
  {
   "cell_type": "code",
   "execution_count": 1,
   "id": "f75bfcb2-1f39-4288-a6b7-d3604cff85bc",
   "metadata": {},
   "outputs": [
    {
     "name": "stdout",
     "output_type": "stream",
     "text": [
      "Requirement already satisfied: boto3>=1.35.76 in /opt/conda/lib/python3.11/site-packages (1.35.96)\n",
      "Requirement already satisfied: PyPDF2 in /opt/conda/lib/python3.11/site-packages (3.0.1)\n",
      "Requirement already satisfied: botocore<1.36.0,>=1.35.96 in /opt/conda/lib/python3.11/site-packages (from boto3>=1.35.76) (1.35.96)\n",
      "Requirement already satisfied: jmespath<2.0.0,>=0.7.1 in /opt/conda/lib/python3.11/site-packages (from boto3>=1.35.76) (1.0.1)\n",
      "Requirement already satisfied: s3transfer<0.11.0,>=0.10.0 in /opt/conda/lib/python3.11/site-packages (from boto3>=1.35.76) (0.10.4)\n",
      "Requirement already satisfied: python-dateutil<3.0.0,>=2.1 in /opt/conda/lib/python3.11/site-packages (from botocore<1.36.0,>=1.35.96->boto3>=1.35.76) (2.9.0.post0)\n",
      "Requirement already satisfied: urllib3!=2.2.0,<3,>=1.25.4 in /opt/conda/lib/python3.11/site-packages (from botocore<1.36.0,>=1.35.96->boto3>=1.35.76) (1.26.19)\n",
      "Requirement already satisfied: six>=1.5 in /opt/conda/lib/python3.11/site-packages (from python-dateutil<3.0.0,>=2.1->botocore<1.36.0,>=1.35.96->boto3>=1.35.76) (1.17.0)\n",
      "Note: you may need to restart the kernel to use updated packages.\n"
     ]
    }
   ],
   "source": [
    "pip install \"boto3>=1.35.76\" PyPDF2 --upgrade"
   ]
  },
  {
   "cell_type": "markdown",
   "id": "e5da4e11-dcff-4300-8d29-f4260abe2856",
   "metadata": {},
   "source": [
    "## Setup\n",
    "\n",
    "Before we get to the part where we invoke BDA with our sample artifacts, let's setup some parameters and configuration that will be used throughout this notebook"
   ]
  },
  {
   "cell_type": "code",
   "execution_count": 27,
   "id": "d60dc83e-e9a1-42d8-8de6-021c68f6ab45",
   "metadata": {},
   "outputs": [],
   "source": [
    "import boto3\n",
    "import json\n",
    "import pprint\n",
    "from IPython.display import JSON\n",
    "import IPython.display as display\n",
    "\n",
    "\n",
    "region_name = 'us-west-2'\n",
    "# Initialize Bedrock Data Automation client\n",
    "bda_client = boto3.client('bedrock-data-automation')\n",
    "bda_runtime_client = boto3.client('bedrock-data-automation-runtime')\n",
    "s3_client = boto3.client('s3')\n",
    "\n",
    "bda_s3_input_location = 's3://genai.octankmarkets.com/input'\n",
    "bda_s3_output_location = 's3://genai.octankmarkets.com/output'"
   ]
  },
  {
   "cell_type": "markdown",
   "id": "eecb09e7-74f9-4d5a-a15f-8f9417698045",
   "metadata": {},
   "source": [
    "## Prepare Sample Document\n",
    "For this lab, we use a `Monthly Treasury Statement for the United States Government` for Fiscal Year 2025 through November 30, 2024. The document is prepared by the Bureau of the Fiscal Service, Department of the Treasury and provides detailed information on the government's financial activities. We will extract a subset of pages from the `PDF` document and use BDA to extract and analyse the document content.\n",
    "\n",
    "### Download and store sample document\n",
    "we use the document url to download the document and store it a S3 location. \n",
    "\n",
    "Note - We will configure BDA to use the sample input from this S3 location, so we need to ensure that BDA has `s3:GetObject` access to this S3 location. If you are running the notebook in your own AWS Account, ensure that the SageMaker Execution role configured for this JupyterLab app has the right IAM permissions."
   ]
  },
  {
   "cell_type": "code",
   "execution_count": 30,
   "id": "3eb1e55b-c165-4cfd-800f-8eac35cabf49",
   "metadata": {},
   "outputs": [
    {
     "name": "stdout",
     "output_type": "stream",
     "text": [
      "The autoreload extension is already loaded. To reload it, use:\n",
      "  %reload_ext autoreload\n"
     ]
    }
   ],
   "source": [
    "%load_ext autoreload\n",
    "%autoreload 2\n",
    "\n",
    "from utils.helper_functions import wait_for_job_to_complete, read_s3_object, create_sample_file, get_bucket_and_key\n",
    "\n",
    "# Download sample pdf file, extract pages and  \n",
    "input_bucket, input_prefix = get_bucket_and_key(bda_s3_input_location)\n",
    "sample_data_url = \"https://fiscaldata.treasury.gov/static-data/published-reports/mts/MonthlyTreasuryStatement_202411.pdf\"\n",
    "local_file_name = 'examples/MonthlyTreasuryStatement_202411.pdf'\n",
    "create_sample_file(sample_data_url, 0, 9, local_file_name)\n",
    "s3_file_name = 'MonthlyTreasuryStatement.pdf'\n",
    "s3_response = s3_client.upload_file(local_file_name, input_bucket,\n",
    "                                    f'{input_prefix}/{s3_file_name}')"
   ]
  },
  {
   "cell_type": "markdown",
   "id": "f739ab05-b9bb-428e-b44b-3352420e4b96",
   "metadata": {},
   "source": [
    "### View Sample Document"
   ]
  },
  {
   "cell_type": "code",
   "execution_count": 36,
   "id": "f56001da-07e6-4188-8c50-928f410fc477",
   "metadata": {},
   "outputs": [
    {
     "data": {
      "text/html": [
       "\n",
       "        <iframe\n",
       "            width=\"900\"\n",
       "            height=\"800\"\n",
       "            src=\"examples/MonthlyTreasuryStatement_202411.pdf\"\n",
       "            frameborder=\"0\"\n",
       "            allowfullscreen\n",
       "            \n",
       "        ></iframe>\n",
       "        "
      ],
      "text/plain": [
       "<IPython.lib.display.IFrame at 0x7f23b4693d50>"
      ]
     },
     "execution_count": 36,
     "metadata": {},
     "output_type": "execute_result"
    }
   ],
   "source": [
    "display.IFrame(\"examples/MonthlyTreasuryStatement_202411.pdf\", width=900, height=800)"
   ]
  },
  {
   "cell_type": "markdown",
   "id": "ee0ab1d3-269a-4ba5-804a-7eadf1c9a05f",
   "metadata": {},
   "source": [
    "## Standard output in Bedrock Data Automation\n",
    "\n",
    "We start with document data type. Here we use a sample credit report which is of type `pdf`. Below is a summary of the response options that you can set when using standard output with documents. \n",
    "\n",
    "For more details see [Documents](https://docs.aws.amazon.com/bedrock/latest/userguide/bda-output-documents.html)."
   ]
  },
  {
   "cell_type": "markdown",
   "id": "dca3a2e4-c400-4eb2-8938-92317cd99ee0",
   "metadata": {},
   "source": [
    "- **Response granularity**\n",
    "This setting indicates to BDA the kind of response you want to receive from document text extraction. Each level of granularity gives you more and more seperated responses, with page providing all of the text extracted together, and word providing each word as a seperate response. The available granularity levels are:\n",
    "\n",
    "    - Page\n",
    "    \n",
    "    - Element\n",
    "    \n",
    "    - Word\n",
    "\n",
    "    More details [Response Granularity](https://docs.aws.amazon.com/bedrock/latest/userguide/bda-output-documents.html#document-granularity)\n",
    "\n",
    "- **Output settings**\n",
    "Output settings determine the structure of the results produced by BDA. The options for output settings are:\n",
    "\n",
    "    - **JSON** - The result would be a JSON output file with the information from your configuration settings. This is the **default** for document analysis.\n",
    "    \n",
    "    - **JSON+files**  The result would include a JSON output along with files that correspond with different outputs. For example, this setting gives you a text file for the overall text extraction, a markdown file for the text with structural markdown, and CSV files for each table that's found in the text.\n",
    "\n",
    "- **Text Format**\n",
    "Text format determines the different kinds of texts that will be provided via various extraction operations. You can select any number of the following options for your text format.\n",
    "\n",
    "    - **Plaintext** – This setting provides a text-only output with no formatting or other markdown elements noted.\n",
    "    \n",
    "    - **Text with markdown** – The **default** output setting for standard output. Provides text with markdown elements integrated.\n",
    "    \n",
    "    - **Text with HTML** – Provides text with HTML elements integrated in the response.\n",
    "    \n",
    "    - **CSV** – Provides a CSV structured output for tables within the document. This will only give a response for tables, and not other elements of the document\n",
    "\n",
    "- **Bounding Boxes**\n",
    "\n",
    "    - With the Bounding Boxes option enabled, BDA would output `Bounding Boxes` for elements in the document in form of coordinates of four corners of the box. This helps in creating a visual outline of the element in the document.\n",
    "\n",
    "\n",
    "- **Generative Fields**\n",
    "    \n",
    "    - When `Generative Fields` are enabled, BDA generates a 10-word summary and a 250 word description of the document in the output. Additionally with Response Granularity at element level enabled, BDA also generates a descriptive caption of each figure detected in the document. Figures include things like charts, graphs, and images.\n",
    "\n",
    "\n",
    "  Both these options are **disabled by default**.\n",
    "\n",
    "\n",
    "Now that we have looked at the default options, we can proceed to invoking document processing using the default Standard output configuration."
   ]
  },
  {
   "cell_type": "markdown",
   "id": "21ddbd41-ca0b-4c27-997f-673135f4aa74",
   "metadata": {},
   "source": [
    "<div class=\"alert alert-block alert-info\">\n",
    "<b>Note: TBC-Disclaimer</b> \n",
    "</div>"
   ]
  },
  {
   "cell_type": "markdown",
   "id": "4fe34695-ce93-4c31-8ec6-89eadd79f59f",
   "metadata": {},
   "source": [
    "### Invoke Data Automation Async"
   ]
  },
  {
   "cell_type": "code",
   "execution_count": 4,
   "id": "96e534fe-e15d-498f-b424-57c0be6010aa",
   "metadata": {},
   "outputs": [],
   "source": [
    "response = bda_runtime_client.invoke_data_automation_async(\n",
    "    inputConfiguration={\n",
    "        's3Uri': f'{bda_s3_input_location}/{s3_file_name}'\n",
    "    },\n",
    "    outputConfiguration={\n",
    "        's3Uri': bda_s3_output_location\n",
    "    }\n",
    ")\n",
    "\n",
    "invocationArn = response['invocationArn']"
   ]
  },
  {
   "cell_type": "markdown",
   "id": "44f118f9-9733-4235-a557-830739b42985",
   "metadata": {},
   "source": [
    "### Get Data Automation Status\n",
    "\n",
    "We can check the status and monitor the progress of the Invocation job using the `GetDataAutomationStatus`. This API takes the invocation arn we retrieved from the response to the `InvokeDataAutomationAsync` operation above.\n",
    "\n",
    "The invocation job status moves from `Created` to `InProgress` and finally to `Success` when the job completes successfully, along with the S3 location of the results. If the job encounters and error the final status is either `ServiceError` or `ClientError` with error details"
   ]
  },
  {
   "cell_type": "code",
   "execution_count": 8,
   "id": "384a70e2-c004-48c5-9f84-b54536d97e9f",
   "metadata": {},
   "outputs": [
    {
     "name": "stdout",
     "output_type": "stream",
     "text": [
      "Invocation Job with id 552f296d-8af8-4fcd-92dc-4b034fb7a9e4 completed. Status is Success\n"
     ]
    }
   ],
   "source": [
    "status_response = wait_for_job_to_complete(invocationArn=invocationArn)\n",
    "if status_response['status'] == 'Success':\n",
    "    job_metadata_s3_location = status_response['outputConfiguration']['s3Uri']\n",
    "else:\n",
    "    raise Exception(f'Invocation Job Error, error_type={status_response[\"error_type\"]},error_message={status_response[\"error_message\"]}')"
   ]
  },
  {
   "cell_type": "markdown",
   "id": "201eab0e-1bd5-4784-a7f8-8c97120782ea",
   "metadata": {},
   "source": [
    "### Retrieve Job Metadata"
   ]
  },
  {
   "cell_type": "code",
   "execution_count": 9,
   "id": "56d2fe5a-2301-4d72-ac6a-5514316a3194",
   "metadata": {},
   "outputs": [
    {
     "data": {
      "application/json": {
       "job_id": "552f296d-8af8-4fcd-92dc-4b034fb7a9e4",
       "job_status": "PROCESSED",
       "output_metadata": [
        {
         "asset_id": 0,
         "segment_metadata": [
          {
           "standard_output_path": "s3://genai.octankmarkets.com/output/552f296d-8af8-4fcd-92dc-4b034fb7a9e4/0/standard_output/0/result.json"
          }
         ]
        }
       ],
       "semantic_modality": "DOCUMENT"
      },
      "text/plain": [
       "<IPython.core.display.JSON object>"
      ]
     },
     "execution_count": 9,
     "metadata": {
      "application/json": {
       "expanded": true,
       "root": "job_metadata"
      }
     },
     "output_type": "execute_result"
    }
   ],
   "source": [
    "job_metadata = json.loads(read_s3_object(job_metadata_s3_location))\n",
    "JSON(job_metadata,root='job_metadata',expanded=True)"
   ]
  },
  {
   "cell_type": "markdown",
   "id": "6282162b-3d0e-43b0-a45d-4f77248e0ccb",
   "metadata": {},
   "source": [
    "### Explore the default Standard output\n",
    "We can now explore the standard output received from processing documents using Data Automation. \n",
    "\n",
    "The default Output Format is Json so the standard output for our sample document is in Json format. \n",
    "\n",
    "The Standard output for `Document` modality always includes a `metadata` section and a `document` section in the json result. Because for Standard output with default values, the Response granularity of Page level and Element level are enabled by default, the results would include sections for `page` and `element` level information.\n",
    "\n",
    "We go through the different components in the response in the following sections. "
   ]
  },
  {
   "cell_type": "code",
   "execution_count": 40,
   "id": "2cc38ccc-1007-4cf2-9eb3-4e42f163fc16",
   "metadata": {},
   "outputs": [
    {
     "data": {
      "application/json": {
       "document": {
        "statistics": {
         "element_count": 60,
         "figure_count": 6,
         "table_count": 8
        }
       },
       "elements": [
        {
         "id": "2d90dc59-ad2b-48d7-af35-895b2612eb70",
         "locations": [
          {
           "page_index": 0
          }
         ],
         "page_indices": [
          0
         ],
         "reading_order": 0,
         "representation": {
          "markdown": "# U.S. DEPARTMENT OF THE TREASURY"
         },
         "sub_type": "HEADER",
         "type": "TEXT"
        },
        {
         "id": "2b32d581-ec77-40c4-82aa-a846dbc6e012",
         "locations": [
          {
           "page_index": 0
          }
         ],
         "page_indices": [
          0
         ],
         "reading_order": 1,
         "representation": {
          "markdown": "# BUREAU OF THE FISCAL SERVICE"
         },
         "sub_type": "HEADER",
         "type": "TEXT"
        },
        {
         "id": "e8426732-d12f-426d-ad83-9e293bfb61af",
         "locations": [
          {
           "page_index": 0
          }
         ],
         "page_indices": [
          0
         ],
         "reading_order": 2,
         "representation": {
          "markdown": "|"
         },
         "sub_type": "PARAGRAPH",
         "type": "TEXT"
        },
        {
         "id": "04c52b95-7f90-4630-9346-a62af455defb",
         "locations": [
          {
           "page_index": 0
          }
         ],
         "page_indices": [
          0
         ],
         "reading_order": 3,
         "representation": {
          "markdown": "# Monthly Treasury Statement"
         },
         "sub_type": "TITLE",
         "type": "TEXT"
        },
        {
         "id": "e1460a9c-7d7c-4c8a-adf9-35e783b838d9",
         "locations": [
          {
           "page_index": 0
          }
         ],
         "page_indices": [
          0
         ],
         "reading_order": 4,
         "representation": {
          "markdown": "Receipts and Outlays of the United States Government"
         },
         "sub_type": "PARAGRAPH",
         "type": "TEXT"
        },
        {
         "id": "c01a3279-c06b-4a45-9522-8158262616f7",
         "locations": [
          {
           "page_index": 0
          }
         ],
         "page_indices": [
          0
         ],
         "reading_order": 5,
         "representation": {
          "markdown": "For Fiscal Year 2025 Through November 30, 2024, and Other Periods"
         },
         "sub_type": "PARAGRAPH",
         "type": "TEXT"
        },
        {
         "id": "b43a7e5f-2fd5-43b5-b956-117b8a9b25ae",
         "locations": [
          {
           "page_index": 0
          }
         ],
         "page_indices": [
          0
         ],
         "reading_order": 6,
         "representation": {
          "markdown": "![](./b43a7e5f-2fd5-43b5-b956-117b8a9b25ae.png)\n "
         },
         "sub_type": "IMAGE",
         "title": "",
         "type": "FIGURE"
        },
        {
         "id": "8fe5c78a-0c6e-4d11-8634-ac281ec51e38",
         "locations": [
          {
           "page_index": 0
          }
         ],
         "page_indices": [
          0
         ],
         "reading_order": 7,
         "representation": {
          "markdown": "![](./8fe5c78a-0c6e-4d11-8634-ac281ec51e38.png)\n TREASURY\n\nTHE"
         },
         "sub_type": "LOGO",
         "title": "",
         "type": "FIGURE"
        },
        {
         "id": "e9b568c3-63d3-4c82-b91e-cc6d29e6689c",
         "locations": [
          {
           "page_index": 2
          }
         ],
         "page_indices": [
          2
         ],
         "reading_order": 0,
         "representation": {
          "markdown": "## Highlight"
         },
         "sub_type": "SECTION_HEADER",
         "type": "TEXT"
        },
        {
         "id": "6f56fcab-f76e-4c61-9c37-848106bcbff0",
         "locations": [
          {
           "page_index": 2
          }
         ],
         "page_indices": [
          2
         ],
         "reading_order": 1,
         "representation": {
          "markdown": "The scheduled Monthly Treasury Statement release dates for 2025 are listed on the back of this publication."
         },
         "sub_type": "PARAGRAPH",
         "type": "TEXT"
        },
        {
         "id": "dff14afa-16d8-491b-a965-dcfdbb600050",
         "locations": [
          {
           "page_index": 2
          }
         ],
         "page_indices": [
          2
         ],
         "reading_order": 2,
         "representation": {
          "markdown": "November has been a deficit month 70 times out of 71 fiscal years since there are no major tax due dates in this month."
         },
         "sub_type": "PARAGRAPH",
         "type": "TEXT"
        },
        {
         "id": "36150e48-c771-48a5-a21d-092760695948",
         "locations": [
          {
           "page_index": 2
          }
         ],
         "page_indices": [
          2
         ],
         "reading_order": 3,
         "representation": {
          "markdown": "Outlays for military active duty and retirement, veterans benefits, Supplemental Security Income, and Medicare payments to health maintenance organizations and prescription drug plans accelerated into November, because December 1, 2024, the normal payment date, fell on a non-business day."
         },
         "sub_type": "PARAGRAPH",
         "type": "TEXT"
        },
        {
         "id": "ceb5059f-e466-4dd1-b1ca-a4a45c10280c",
         "locations": [
          {
           "page_index": 2
          }
         ],
         "page_indices": [
          2
         ],
         "reading_order": 4,
         "representation": {
          "markdown": "## Contents"
         },
         "sub_type": "SECTION_HEADER",
         "type": "TEXT"
        },
        {
         "footers": [],
         "headers": [
          "",
          ""
         ],
         "id": "8be42252-c8c4-45c1-8319-19455296a4c3",
         "locations": [
          {
           "page_index": 2
          }
         ],
         "reading_order": 5,
         "representation": {
          "markdown": "|                                        |         |\n|----------------------------------------|---------|\n| Summary                                | Page 5  |\n| Receipts                               | Page 10 |\n| Outlays                                | Page 11 |\n| Means of Financing                     | Page 25 |\n| Receipts/Outlays by Month              | Page 35 |\n| Federal Trust Funds/ Securities        | Page 37 |\n| Receipts by Source/Outlays by Function | Page 38 |\n| Explanatory Notes                      | Page 39 |"
         },
         "title": "Contents",
         "type": "TABLE"
        },
        {
         "id": "3940e911-28f0-4651-907b-fcb3435ebb22",
         "locations": [
          {
           "page_index": 2
          }
         ],
         "page_indices": [
          2
         ],
         "reading_order": 6,
         "representation": {
          "markdown": "## Introduction"
         },
         "sub_type": "SECTION_HEADER",
         "type": "TEXT"
        },
        {
         "id": "43a98dbb-93bf-4d10-8250-6e5088194c30",
         "locations": [
          {
           "page_index": 2
          }
         ],
         "page_indices": [
          2
         ],
         "reading_order": 7,
         "representation": {
          "markdown": "The Monthly Treasury Statement of Receipts and Outlays of the United States Government (MTS) is prepared by the Bureau of the Fiscal Service, Department of the Treasury and, after approval by the Fiscal Assistant Secretary of the Treasury, is normally released on the 8th workday of the month following the reporting month. The publication is based on data provided by Federal entities, disbursing officers, and Federal Reserve banks."
         },
         "sub_type": "PARAGRAPH",
         "type": "TEXT"
        },
        {
         "id": "ca0c4e6d-9e3b-4802-9580-b992d59bb6d7",
         "locations": [
          {
           "page_index": 2
          }
         ],
         "page_indices": [
          2
         ],
         "reading_order": 8,
         "representation": {
          "markdown": "## AUDIENCE"
         },
         "sub_type": "SECTION_HEADER",
         "type": "TEXT"
        },
        {
         "id": "81a8c9af-1dd2-4537-b1fe-bd459b10da90",
         "locations": [
          {
           "page_index": 2
          }
         ],
         "page_indices": [
          2
         ],
         "reading_order": 9,
         "representation": {
          "markdown": "The MTS is published to meet the needs of those responsible for or interested in the cash position of the Treasury, those who are responsible or interested in the Government's budget results; and individuals and businesses whose operations depend upon or are related to the Government's financial operations."
         },
         "sub_type": "PARAGRAPH",
         "type": "TEXT"
        },
        {
         "id": "1bd11079-ed84-49d2-8d65-afadccb3a400",
         "locations": [
          {
           "page_index": 2
          }
         ],
         "page_indices": [
          2
         ],
         "reading_order": 10,
         "representation": {
          "markdown": "## DISCLOSURE STATEMENT"
         },
         "sub_type": "SECTION_HEADER",
         "type": "TEXT"
        },
        {
         "id": "1d22ed8d-ff25-405f-8a86-e7492e2b4ca7",
         "locations": [
          {
           "page_index": 2
          }
         ],
         "page_indices": [
          2
         ],
         "reading_order": 11,
         "representation": {
          "markdown": "This statement summarizes the financial activities of the Federal Government and off-budget Federal entities conducted in accordance with the Budget of the U.S. Government, i.e., receipts and outlays of funds, the surplus or deficit, and the means of financing the deficit or disposing of the surplus. Information is presented on a modified cash basis; receipts are accounted for on the basis of collections; refunds of receipts are treated as deductions from gross receipts; revolving and management fund receipts, reimbursements and refunds of monies previously expended are treated as deductions from gross outlays; and interest on the public debt (public issues) is recognized on the accrual basis. Major information sources include accounting data reported by Federal entities, disbursing officers, and Federal Reserve banks."
         },
         "sub_type": "PARAGRAPH",
         "type": "TEXT"
        },
        {
         "id": "b52f94b6-ab34-44fc-b65e-166dcbd01b24",
         "locations": [
          {
           "page_index": 2
          }
         ],
         "page_indices": [
          2
         ],
         "reading_order": 12,
         "representation": {
          "markdown": "## TRIAD OF PUBLICATIONS"
         },
         "sub_type": "SECTION_HEADER",
         "type": "TEXT"
        },
        {
         "id": "bc909221-f68f-4194-9b40-a72178c906b2",
         "locations": [
          {
           "page_index": 2
          }
         ],
         "page_indices": [
          2
         ],
         "reading_order": 13,
         "representation": {
          "markdown": "The MTS is part of a triad of Treasury financial reports. The Daily Treasury Statement is published each working day of the Federal Government. It provides data on the cash and debt operations of the Treasury based upon reporting of the Treasury account balances by Federal Reserve banks. The MTS is a report of Government receipts and outlays, based on agency reporting. The Combined Statement of Receipts, Outlays, and Balances of the United States Government is the official publication of the detailed receipts and outlays of the Government. It is published annually in accordance with legislative mandates given to the Secretary of the Treasury."
         },
         "sub_type": "PARAGRAPH",
         "type": "TEXT"
        },
        {
         "id": "2496f05b-fe45-453a-a7b3-e2d57594ae8c",
         "locations": [
          {
           "page_index": 2
          }
         ],
         "page_indices": [
          2
         ],
         "reading_order": 14,
         "representation": {
          "markdown": "## DATA SOURCES AND INFORMATION"
         },
         "sub_type": "SECTION_HEADER",
         "type": "TEXT"
        },
        {
         "id": "4c54818d-5df8-493f-8ff1-dbbfaf1246dd",
         "locations": [
          {
           "page_index": 2
          }
         ],
         "page_indices": [
          2
         ],
         "reading_order": 15,
         "representation": {
          "markdown": "The Explanatory Notes section of this publication provides information concerning the flow of data into the MTS and sources of information relevant to the MTS."
         },
         "sub_type": "PARAGRAPH",
         "type": "TEXT"
        },
        {
         "id": "708e44c9-2101-44dd-9714-e00788609dc1",
         "locations": [
          {
           "page_index": 2
          }
         ],
         "page_indices": [
          2
         ],
         "reading_order": 16,
         "representation": {
          "markdown": "3"
         },
         "sub_type": "PAGE_NUMBER",
         "type": "TEXT"
        },
        {
         "id": "4644bdcc-192f-4408-b86b-24f853275613",
         "locations": [
          {
           "page_index": 3
          }
         ],
         "page_indices": [
          3
         ],
         "reading_order": 0,
         "representation": {
          "markdown": "Figure 1. Receipts, Outlays, and Surplus/Deficit for November 2024\n\nFigure 2. Cumulative Receipts, Outlays, and Surplus/Deficit through Fiscal Year 2025"
         },
         "sub_type": "PARAGRAPH",
         "type": "TEXT"
        },
        {
         "footers": [],
         "headers": [
          "Receipts by Source:",
          "Total Receipts $302 Billion",
          "Total Outlays $669 Billion",
          "Outlays by Function:",
          "Outlays by Function:"
         ],
         "id": "99405cad-1eee-4602-ace0-c12ca07fdb9d",
         "locations": [
          {
           "page_index": 3
          }
         ],
         "reading_order": 1,
         "representation": {
          "markdown": "| Receipts by Source:                 | Total Receipts $302 Billion     | Total Outlays $669 Billion   | Outlays by Function:    | Outlays by Function:                                          |\n|-------------------------------------|---------------------------------|------------------------------|-------------------------|---------------------------------------------------------------|\n| Individual Income Taxes             | $138 Billion                    |                              | $129 Billion            | Medicare                                                      |\n|                                     |                                 |                              | $125 Billion            | Social Security                                               |\n| Social Insurance & Retirement       | $131 Billion                    |                              | $80 Billion             | Health                                                        |\n| Excise Taxes                        | $10 Billion                     |                              | $79 Billion             | Net Interest                                                  |\n| Corporation Income Taxes            | $9 Billion                      |                              | $76 Billion             | National Defense                                              |\n| Customs Duties                      | Deficit $7 Billion $367 Billion |                              | $63 Billion             | Income Security                                               |\n|                                     | $4 Billion                      |                              | $44 Billion $22 Billion | Veterans' Benefits & Services Natural Resources & Environment |\n| Miscellaneous Estate and Gift Taxes | $2 Billion                      |                              | $12 Billion $38 Billion | Education Other                                               |"
         },
         "title": "Figure 1. Receipts, Outlays, and Surplus/Deficit for November 2024",
         "type": "TABLE"
        },
        {
         "footers": [],
         "headers": [
          "",
          "",
          "",
          "",
          ""
         ],
         "id": "93fbb776-0f61-44b2-949e-d062ab5374a7",
         "locations": [
          {
           "page_index": 3
          }
         ],
         "reading_order": 2,
         "representation": {
          "markdown": "|                               |                             |                              |                         |                                           |\n|-------------------------------|-----------------------------|------------------------------|-------------------------|-------------------------------------------|\n| Receipts by Source:           |                             |                              | Outlays by Function:    |                                           |\n|                               | Total Receipts $629 Billion | Total Outlays $1,253 Billion |                         |                                           |\n| Individual Income Taxes       | $306 Billion                |                              | $250 Billion            | Social Security                           |\n|                               |                             |                              | $206 Billion            | Medicare                                  |\n| Social Insurance & Retirement | $254 Billion                |                              | $179 Billion            | National Defense                          |\n| Corporation Income Taxes      | $22 Billion                 |                              | $165 Billion            | Health                                    |\n| Excise Taxes                  | $20 Billion Deficit         |                              | $160 Billion            | Net Interest                              |\n|                               | $14 Billion $624 Billion    |                              | $108 Billion            | Income Security                           |\n| Customs Duties                |                             |                              | $75 Billion             | Veterans' Benefits & Services             |\n| Miscellaneous                 | $7 Billion                  |                              | $38 Billion $28 Billion | Education Natural Resources & Environment |\n| Estate and Gift Taxes         | $5 Billion                  |                              | $43 Billion             | Other                                     |"
         },
         "title": "Figure 2. Cumulative Receipts, Outlays, and Surplus/Deficit through Fiscal Year 2025",
         "type": "TABLE"
        },
        {
         "id": "cc6ccb91-25fe-4277-8c23-de74f40e4c38",
         "locations": [
          {
           "page_index": 3
          }
         ],
         "page_indices": [
          3
         ],
         "reading_order": 3,
         "representation": {
          "markdown": "4"
         },
         "sub_type": "PAGE_NUMBER",
         "type": "TEXT"
        },
        {
         "id": "4e4e3756-ce24-4be0-a19c-86af198966c0",
         "locations": [
          {
           "page_index": 3
          }
         ],
         "page_indices": [
          3
         ],
         "reading_order": 4,
         "representation": {
          "markdown": "Source data: Table 9"
         },
         "sub_type": "FOOTER",
         "type": "TEXT"
        },
        {
         "id": "0db21502-28f2-49ab-89db-ca830f323530",
         "locations": [
          {
           "page_index": 4
          }
         ],
         "page_indices": [
          4
         ],
         "reading_order": 0,
         "representation": {
          "markdown": "Table 1. Summary of Receipts, Outlays, and the Deficit/Surplus of the U.S. Government, Fiscal Years 2024 and 2025, by Month [$ millions]"
         },
         "sub_type": "PARAGRAPH",
         "type": "TEXT"
        },
        {
         "footers": [
          "Note: Details may not add to totals due to rounding."
         ],
         "headers": [
          "Period",
          "Receipts",
          "Outlays",
          "Deficit/Surplus (-)"
         ],
         "id": "67c3df0a-fb2f-453d-830e-f167e79f0b31",
         "locations": [
          {
           "page_index": 4
          }
         ],
         "reading_order": 1,
         "representation": {
          "markdown": "| Period       | Receipts   | Outlays   | Deficit/Surplus (-)   |\n|--------------|------------|-----------|-----------------------|\n| FY 2024      |            |           |                       |\n| October      | 403,434    | 469,997   | 66,564                |\n| November     | 274,830    | 588,842   | 314,012               |\n| December     | 429,311    | 558,665   | 129,354               |\n| January      | 477,320    | 499,250   | 21,930                |\n| February     | 271,126    | 567,401   | 296,275               |\n| March        | 332,079    | 568,635   | 236,556               |\n| April        | 776,198    | 566,669   | -209,529              |\n| May          | 323,647    | 670,778   | 347,131               |\n| June         | 466,255    | 537,220   | 70,965                |\n| July         | 330,377    | 574,119   | 243,741               |\n| August       | 306,540    | 686,620   | 380,080               |\n| September    | 526,988    | 462,290   | -64,698               |\n| Year-to-Date | 4,918,104  | 6,750,485 | 1,832,381             |\n| FY 2025      |            |           |                       |\n| October      | 326,770    | 584,221   | 257,450               |\n| November     | 301,754    | 668,517   | 366,763               |\n| Year-to-Date | 628,525    | 1,252,738 | 624,213               |"
         },
         "title": "Table 1. Summary of Receipts, Outlays, and the Deficit/Surplus of the U.S. Government, Fiscal Years 2024 and 2025, by Month\n\n[$ millions]",
         "type": "TABLE"
        },
        {
         "id": "986455d5-57aa-421c-b36d-b93d6dc4510e",
         "locations": [
          {
           "page_index": 4
          }
         ],
         "page_indices": [
          4
         ],
         "reading_order": 2,
         "representation": {
          "markdown": "Note: Details may not add to totals due to rounding."
         },
         "sub_type": "PARAGRAPH",
         "type": "TEXT"
        },
        {
         "id": "974f5cf6-cf20-4130-9816-497fb35e7c91",
         "locations": [
          {
           "page_index": 4
          }
         ],
         "page_indices": [
          4
         ],
         "reading_order": 3,
         "representation": {
          "markdown": "Table 2. Summary of Budget and Off-Budget Results and Financing of the U.S. Government, November 2024 and Other Periods [$ millions]"
         },
         "sub_type": "PARAGRAPH",
         "type": "TEXT"
        },
        {
         "footers": [
          "1 These estimates are based on the FY 2025 Mid-Session Review, released by the Office of Management and Budget on July 19, 2024.",
          "Note: Details may not add to totals due to rounding.",
          "No Transactions"
         ],
         "headers": [
          "Classification",
          "This Month",
          "Current Fiscal Year to Date",
          "Budget Estimates Full Fiscal Year 1",
          "Comparable Prior Period Year to Date (2024)",
          "Budget Estimates Next Fiscal Year (2026) 1"
         ],
         "id": "42a2d53b-579d-478e-8da8-aeab4a5fbd73",
         "locations": [
          {
           "page_index": 4
          }
         ],
         "reading_order": 4,
         "representation": {
          "markdown": "| Classification                            | This Month   | Current Fiscal Year to Date   | Budget Estimates Full Fiscal Year 1   | Comparable Prior Period Year to Date (2024)   | Budget Estimates Next Fiscal Year (2026) 1   |\n|-------------------------------------------|--------------|-------------------------------|---------------------------------------|-----------------------------------------------|----------------------------------------------|\n| Total On-Budget and Off-Budget Results:   |              |                               |                                       |                                               |                                              |\n| Total Receipts                            | 301,754      | 628,525                       | 5,561,646                             | 678,264                                       | 6,011,381                                    |\n| On-Budget Receipts                        | 207,036      | 446,196                       | 4,255,251                             | 508,841                                       | 4,644,964                                    |\n| Off-Budget Receipts                       | 94,718       | 182,329                       | 1,306,395                             | 169,423                                       | 1,366,417                                    |\n| Total Outlays                             | 668,517      | 1,252,738                     | 7,439,295                             | 1,058,839                                     | 7,612,734                                    |\n| On-Budget Outlays                         | 546,637      | 1,021,999                     | 6,035,465                             | 842,116                                       | 6,124,968                                    |\n| Off-Budget Outlays                        | 121,880      | 230,739                       | 1,403,830                             | 216,723                                       | 1,487,766                                    |\n| Total Surplus (+) or Deficit (-)          | -366,763     | -624,213                      | -1,877,649                            | -380,576                                      | -1,601,353                                   |\n| On-Budget Surplus (+) or Deficit (-)      | -339,601     | -575,803                      | -1,780,214                            | -333,276                                      | -1,480,004                                   |\n| Off-Budget Surplus (+) or Deficit (-)     | -27,162      | -48,410                       | -97,435                               | -47,300                                       | -121,349                                     |\n| Total On-Budget and Off-Budget Financing  | 366,763      | 624,213                       | 1,877,649                             | 380,576                                       | 1,601,353                                    |\n| Means of Financing:                       |              |                               |                                       |                                               |                                              |\n| Borrowing from the Public                 | 221,295      | 483,466                       | 1,901,128                             | 487,108                                       | 1,695,149                                    |\n| Reduction of Operating Cash, Increase (-) | 164,163      | 128,847                       | ......                                | -101,962                                      | ......                                       |\n| By Other Means                            | -18,695      | 11,900                        | -23,479                               | -4,570                                        | -93,796                                      |"
         },
         "title": "Table 2. Summary of Budget and Off-Budget Results and Financing of the U.S. Government, November 2024 and Other Periods\n\n[$ millions]",
         "type": "TABLE"
        },
        {
         "id": "52863158-a4f0-4fca-8bda-1e7e92c975d9",
         "locations": [
          {
           "page_index": 4
          }
         ],
         "page_indices": [
          4
         ],
         "reading_order": 5,
         "representation": {
          "markdown": "1 These estimates are based on the FY 2025 Mid-Session Review, released by the Office of Management and Budget on July 19, 2024."
         },
         "sub_type": "PARAGRAPH",
         "type": "TEXT"
        },
        {
         "id": "fe791317-9291-4e9e-b025-eca5055b8ead",
         "locations": [
          {
           "page_index": 4
          }
         ],
         "page_indices": [
          4
         ],
         "reading_order": 6,
         "representation": {
          "markdown": "Note: Details may not add to totals due to rounding. No Transactions"
         },
         "sub_type": "PARAGRAPH",
         "type": "TEXT"
        },
        {
         "id": "3039a934-b247-4fff-8d91-88f69ebe7b46",
         "locations": [
          {
           "page_index": 4
          }
         ],
         "page_indices": [
          4
         ],
         "reading_order": 7,
         "representation": {
          "markdown": "5"
         },
         "sub_type": "PAGE_NUMBER",
         "type": "TEXT"
        },
        {
         "id": "990f4663-86a6-4b0d-b92a-ded0289accd3",
         "locations": [
          {
           "page_index": 5
          }
         ],
         "reading_order": 0,
         "representation": {
          "markdown": "Figure 3. Monthly Receipts, Outlays, and Budget Deficit/Surplus of the U.S. Government, Fiscal Years 2024 and 2025\n\n2025\n\nReceipts\nOutlays\nDeficit(-)/Surplus"
         },
         "sub_type": "CHART",
         "title": "Figure 3. Monthly Receipts, Outlays, and Budget Deficit/Surplus of the U.S. Government, Fiscal Years 2024 and 2025",
         "type": "FIGURE"
        },
        {
         "id": "096c798f-96d7-4944-af9c-2fdf38dd5fe6",
         "locations": [
          {
           "page_index": 5
          }
         ],
         "reading_order": 1,
         "representation": {
          "markdown": "Figure 4. Monthly Receipts, Outlays, and Budget Deficit/Surplus of the U.S. Government, Cumulative, Fiscal Years 2024 and 2025\n\nReceipts\nOutlays\nDeficit(-)/Surplus"
         },
         "sub_type": "CHART",
         "title": "Figure 4. Monthly Receipts, Outlays, and Budget Deficit/Surplus of the U.S. Government, Cumulative, Fiscal Years 2024 and 2025",
         "type": "FIGURE"
        },
        {
         "footers": [],
         "headers": [
          "",
          "",
          "",
          "",
          "",
          "",
          "",
          "",
          "",
          "",
          "",
          "",
          "",
          "",
          ""
         ],
         "id": "21f7cf08-0928-496b-bc2e-b93f104de696",
         "locations": [
          {
           "page_index": 5
          }
         ],
         "reading_order": 2,
         "representation": {
          "markdown": "|           |    |    |    |    |    |    |    |    |    |    |    |    |    |    |\n|-----------|----|----|----|----|----|----|----|----|----|----|----|----|----|----|\n|           |    |    |    |    |    |    |    |    |    |    |    |    |    |    |\n| $1,000B   |    |    |    |    |    |    |    |    |    |    |    |    |    |    |\n|           |    |    |    |    |    |    |    |    |    |    |    |    |    |    |\n| $600B     |    |    |    |    |    |    |    |    |    |    |    |    |    |    |\n|           |    |    |    |    |    |    |    |    |    |    |    |    |    |    |\n| $200B     |    |    |    |    |    |    |    |    |    |    |    |    |    |    |\n|           |    |    |    |    |    |    |    |    |    |    |    |    |    |    |\n| ($200B)   |    |    |    |    |    |    |    |    |    |    |    |    |    |    |\n|           |    |    |    |    |    |    |    |    |    |    |    |    |    |    |\n| ($600B)   |    |    |    |    |    |    |    |    |    |    |    |    |    |    |\n|           |    |    |    |    |    |    |    |    |    |    |    |    |    |    |\n| ($1,000B) |    |    |    |    |    |    |    |    |    |    |    |    |    |    |\n| $200B     |    |    |    |    |    |    |    |    |    |    |    |    |    |    |\n| $0B       |    |    |    |    |    |    |    |    |    |    |    |    |    |    |\n| ($200B)   |    |    |    |    |    |    |    |    |    |    |    |    |    |    |\n| ($400B)   |    |    |    |    |    |    |    |    |    |    |    |    |    |    |\n| ($600B)   |    |    |    |    |    |    |    |    |    |    |    |    |    |    |\n|           |    |    |    |    |    |    |    |    |    |    |    |    |    |    |\n|           |    |    |    |    |    |    |    |    |    |    |    |    |    |    |"
         },
         "title": "",
         "type": "TABLE"
        },
        {
         "footers": [],
         "headers": [
          "",
          "",
          "",
          "",
          "",
          "",
          "",
          "",
          "",
          "",
          "",
          "",
          "",
          "",
          "",
          "",
          "",
          ""
         ],
         "id": "201e1d96-fdbc-4323-83bf-b9691252375d",
         "locations": [
          {
           "page_index": 5
          }
         ],
         "reading_order": 3,
         "representation": {
          "markdown": "|               |    |      |    |    |    |    |    |    |    |    |      |    |    |    |    |    |    |\n|---------------|----|------|----|----|----|----|----|----|----|----|------|----|----|----|----|----|----|\n|               |    | 2024 |    |    |    |    |    |    |    |    | 2025 |    |    |    |    |    |    |\n| $5,000B       |    |      |    |    |    |    |    |    |    |    |      |    |    |    |    |    |    |\n| $4,000B       |    |      |    |    |    |    |    |    |    |    |      |    |    |    |    |    |    |\n| $3,000B       |    |      |    |    |    |    |    |    |    |    |      |    |    |    |    |    |    |\n| $2,000B       |    |      |    |    |    |    |    |    |    |    |      |    |    |    |    |    |    |\n| $1,000B $0B   |    |      |    |    |    |    |    |    |    |    |      |    |    |    |    |    |    |\n| ($1,000B)     |    |      |    |    |    |    |    |    |    |    |      |    |    |    |    |    |    |\n| ($3,000B)     |    |      |    |    |    |    |    |    |    |    |      |    |    |    |    |    |    |\n| ($5,000B)     |    |      |    |    |    |    |    |    |    |    |      |    |    |    |    |    |    |\n| ($7,000B)     |    |      |    |    |    |    |    |    |    |    |      |    |    |    |    |    |    |\n| $0B ($1,000B) |    |      |    |    |    |    |    |    |    |    |      |    |    |    |    |    |    |\n|               |    |      |    |    |    |    |    |    |    |    |      |    |    |    |    |    |    |\n|               |    |      |    |    |    |    |    |    |    |    |      |    |    |    |    |    |    |"
         },
         "title": "",
         "type": "TABLE"
        },
        {
         "id": "2f87d073-55e5-4b9d-8508-ebbea0e3bd17",
         "locations": [
          {
           "page_index": 5
          }
         ],
         "page_indices": [
          5
         ],
         "reading_order": 4,
         "representation": {
          "markdown": "6"
         },
         "sub_type": "PAGE_NUMBER",
         "type": "TEXT"
        },
        {
         "id": "97de60ba-04b8-4fae-a72a-b3884487e8e3",
         "locations": [
          {
           "page_index": 5
          }
         ],
         "page_indices": [
          5
         ],
         "reading_order": 5,
         "representation": {
          "markdown": "Source data: Table 1"
         },
         "sub_type": "FOOTER",
         "type": "TEXT"
        },
        {
         "id": "4ced168f-68ec-44ce-acab-ee95d52446d3",
         "locations": [
          {
           "page_index": 6
          }
         ],
         "reading_order": 0,
         "representation": {
          "markdown": "Figure 5. Receipts of the U.S. Government, by Source, Fiscal Year 2025\n\nMonth of November 2024: $302B\n\n$4B $9B\n\n$10B\n\n$9B\n\n$131B\n\n$138B"
         },
         "sub_type": "CHART",
         "title": "Figure 5. Receipts of the U.S. Government, by Source, Fiscal Year 2025",
         "type": "FIGURE"
        },
        {
         "id": "302e6937-e394-4c7b-86b6-a08548145984",
         "locations": [
          {
           "page_index": 6
          }
         ],
         "reading_order": 1,
         "representation": {
          "markdown": "Fiscal Year 2025 to Date: $629B\n\n$7B$19B\n\n$20B\n\n$22B\n\n$254B\n\n$306B"
         },
         "sub_type": "CHART",
         "title": "Fiscal Year 2025 to Date: $629B",
         "type": "FIGURE"
        },
        {
         "id": "ed893a61-9b06-45e0-94fd-fb0895aa0a9a",
         "locations": [
          {
           "page_index": 6
          }
         ],
         "reading_order": 2,
         "representation": {
          "markdown": "Figure 6. Monthly Receipts of the U.S. Government, by Source, Fiscal Years 2024 and 2025\n\n$750B\n $700B\n $650B\n $600B\n $550B\n $500B\n $450B\n $400B\n $350B\n $300B\n $250B\n $200B\n $150B\n $100B\n $50B\n\nMiscellaneous Receipts\nExcise Taxes\nIndividual Income Taxes\n Other\nCorporation Income Taxes\nSocial Insurance and Retirement Receipts\n\n\"Other\" Includes: Customs Duties and Estate and Gift Taxes *Disclaimer: Other category is subject to change due to negative balances held. Note: Details may not add to totals due to rounding"
         },
         "sub_type": "CHART",
         "title": "Figure 6. Monthly Receipts of the U.S. Government, by Source, Fiscal Years 2024 and 2025\n\"Other\" Includes: Customs Duties and Estate and Gift Taxes *Disclaimer: Other category is subject to change due to negative balances held. Note: Details may not add to totals due to rounding",
         "type": "FIGURE"
        },
        {
         "id": "d25e9bf1-7d17-4fe0-ab8f-bdd64bb791ed",
         "locations": [
          {
           "page_index": 6
          }
         ],
         "page_indices": [
          6
         ],
         "reading_order": 3,
         "representation": {
          "markdown": "7"
         },
         "sub_type": "PAGE_NUMBER",
         "type": "TEXT"
        },
        {
         "id": "a3b246d0-2d02-40a7-b140-f971fbd1f27c",
         "locations": [
          {
           "page_index": 6
          }
         ],
         "page_indices": [
          6
         ],
         "reading_order": 4,
         "representation": {
          "markdown": "Source data: Table 9"
         },
         "sub_type": "FOOTER",
         "type": "TEXT"
        },
        {
         "id": "96b771e8-c069-4f53-a415-d97f2ff68b00",
         "locations": [
          {
           "page_index": 7
          }
         ],
         "reading_order": 0,
         "representation": {
          "markdown": "Figure 7. Outlays of the U.S. Government, by Source, Fiscal Year 2025\n\nMonth of November 2024: $669B\n\n$117B\n\n$125B\n\n$79B\n\n$76B\n\n$63B\n\n$80B\n\n*Disclaimer: Other category is subject to change due to negative balances held."
         },
         "sub_type": "CHART",
         "title": "Month of November 2024: $669B\nFigure 7. Outlays of the U.S. Government, by Source, Fiscal Year 2025\n*Disclaimer: Other category is subject to change due to negative balances held.",
         "type": "FIGURE"
        },
        {
         "id": "6f39b465-6c44-442a-8bf2-c183896f73fb",
         "locations": [
          {
           "page_index": 7
          }
         ],
         "reading_order": 1,
         "representation": {
          "markdown": "Figure 7. Outlays of the U.S. Government, by Source, Fiscal Year 2025\n\nFiscal Year 2025 to Date: $1,253B\n\n$185B\n\n$250B\n\n$160B\n\n$206B\n\n$179B\n\n$108B\n\n$165B\n\n*Disclaimer: Other category is subject to change due to negative balances held."
         },
         "sub_type": "CHART",
         "title": "Fiscal Year 2025 to Date: $1,253B\nFigure 7. Outlays of the U.S. Government, by Source, Fiscal Year 2025\n*Disclaimer: Other category is subject to change due to negative balances held.",
         "type": "FIGURE"
        },
        {
         "id": "0de6212f-2fea-48ee-8ebe-67f454f9794c",
         "locations": [
          {
           "page_index": 7
          }
         ],
         "reading_order": 2,
         "representation": {
          "markdown": "Figure 8. Monthly Outlays of the U.S. Government, by Source, Fiscal Years 2024 and 2025\n\n$1,000B\n\n$900B\n\n$800B\n\n$700B\n\n$600B\n\n$500B\n\n$400B\n\n$300B\n\n$200B\n\n$100B\n\n$0B\n\nSocial Security\nIncome Security\nNational Defense\nOther\n Medicare\nHealth\nNet Interest\n\n\"Other\" Includes: Administration of Justice, Agriculture, Community and Regional Development, Education, Training, Employment, and Social Services, Energy, General Government, General Science, Space, and Technology, International Affairs, Natural Resources and Environment, Transportation, Undistributed Offsetting Receipts, Veterans' Benefits and Services. Note: Details may not add to totals due to rounding"
         },
         "sub_type": "CHART",
         "title": "Figure 8. Monthly Outlays of the U.S. Government, by Source, Fiscal Years 2024 and 2025\n\"Other\" Includes: Administration of Justice, Agriculture, Community and Regional Development, Education, Training, Employment, and Social Services, Energy, General Government, General Science, Space, and Technology, International Affairs, Natural Resources and Environment, Transportation, Undistributed Offsetting Receipts, Veterans' Benefits and Services. Note: Details may not add to totals due to rounding",
         "type": "FIGURE"
        },
        {
         "id": "e3cc143e-976e-492e-b4db-473573b775a6",
         "locations": [
          {
           "page_index": 7
          }
         ],
         "page_indices": [
          7
         ],
         "reading_order": 3,
         "representation": {
          "markdown": "8"
         },
         "sub_type": "PAGE_NUMBER",
         "type": "TEXT"
        },
        {
         "id": "de7d5ca9-9c03-47bd-b0fa-b9d9631f9c1c",
         "locations": [
          {
           "page_index": 7
          }
         ],
         "page_indices": [
          7
         ],
         "reading_order": 4,
         "representation": {
          "markdown": "Source data: Table 9"
         },
         "sub_type": "FOOTER",
         "type": "TEXT"
        },
        {
         "id": "b8097374-4f0a-45ac-bf93-934bfa86a50c",
         "locations": [
          {
           "page_index": 8
          }
         ],
         "page_indices": [
          8
         ],
         "reading_order": 0,
         "representation": {
          "markdown": "Table 3. Summary of Receipts and Outlays of the U.S. Government, November 2024 and Other Periods"
         },
         "sub_type": "PARAGRAPH",
         "type": "TEXT"
        },
        {
         "footers": [
          "1 These estimates are based on the FY 2025 Mid-Session Review, released by the Office of Management and Budget on July 19, 2024.",
          "Note: Details may not add to totals due to rounding.",
          "No Transactions"
         ],
         "headers": [
          "Classification",
          "This Month",
          "Current Fiscal Year to Date",
          "Comparable Prior Period Year to Date",
          "Budget Estimates Full Fiscal Year 1"
         ],
         "id": "f7f2589e-ae66-40b1-88f8-4fa13b66c002",
         "locations": [
          {
           "page_index": 8
          }
         ],
         "reading_order": 1,
         "representation": {
          "markdown": "| Classification                                 | This Month   | Current Fiscal Year to Date   | Comparable Prior Period Year to Date   | Budget Estimates Full Fiscal Year 1   |\n|------------------------------------------------|--------------|-------------------------------|----------------------------------------|---------------------------------------|\n| Budget Receipts                                |              |                               |                                        |                                       |\n| Individual Income Taxes                        | 138,455      | 306,489                       | 346,801                                | 2,686,312                             |\n| Corporation Income Taxes                       | 9,338        | 22,209                        | 56,009                                 | 702,522                               |\n| Social Insurance and Retirement Receipts:      |              |                               |                                        |                                       |\n| Employment and General Retirement (Off-Budget) | 94,718       | 182,329                       | 169,423                                | 1,306,395                             |\n| Employment and General Retirement (On-Budget)  | 33,493       | 64,313                        | 59,411                                 | 552,154                               |\n| Unemployment Insurance                         | 2,619        | 5,769                         | 6,172                                  | 52,876                                |\n| Other Retirement                               | 652          | 1,360                         | 1,251                                  | 8,182                                 |\n| Excise Taxes                                   | 9,578        | 20,036                        | 14,954                                 | 115,950                               |\n| Estate and Gift Taxes                          | 2,244        | 5,021                         | 6,781                                  | 37,018                                |\n| Customs Duties                                 | 6,712        | 14,009                        | 13,199                                 | 63,276                                |\n| Miscellaneous Receipts                         | 3,946        | 6,990                         | 4,262                                  | 36,961                                |\n| Total Receipts                                 | 301,754      | 628,525                       | 678,264                                | 5,561,646                             |\n| (On-Budget)                                    | 207,036      | 446,196                       | 508,841                                | 4,255,251                             |\n| (Off-Budget)                                   | 94,718       | 182,329                       | 169,423                                | 1,306,395                             |\n| Budget Outlays                                 |              |                               |                                        |                                       |\n| Legislative Branch                             | 625          | 1,258                         | 1,235                                  | 7,636                                 |\n| Judicial Branch                                | 754          | 1,555                         | 1,535                                  | 10,348                                |\n| Department of Agriculture                      | 22,222       | 47,026                        | 40,330                                 | 228,347                               |\n| Department of Commerce                         | 2,824        | 4,091                         | 1,874                                  | 33,523                                |\n| Department of Defense--Military Programs       | 72,329       | 171,480                       | 149,709                                | 879,758                               |\n| Department of Education                        | 9,370        | 31,933                        | 30,642                                 | 157,959                               |\n| Department of Energy                           | 4,116        | 9,078                         | 8,166                                  | 63,466                                |\n| Department of Health and Human Services        | 201,203      | 352,880                       | 241,511                                | 1,868,528                             |\n| Department of Homeland Security                | 9,552        | 19,259                        | 14,808                                 | 88,192                                |\n| Department of Housing and Urban Development    | 5,837        | 11,352                        | 11,266                                 | 77,742                                |\n| Department of the Interior                     | 2,430        | 3,960                         | 3,004                                  | 22,757                                |\n| Department of Justice                          | 3,332        | 6,200                         | 7,480                                  | 50,967                                |\n| Department of Labor                            | 5,416        | 5,215                         | 3,002                                  | 62,477                                |\n| Department of State                            | 2,927        | 5,992                         | 5,309                                  | 37,623                                |\n| Department of Transportation                   | 9,243        | 19,012                        | 18,650                                 | 130,604                               |\n| Department of the Treasury:                    |              |                               |                                        |                                       |\n| Interest on Treasury Debt Securities (Gross)   | 86,593       | 168,591                       | 168,849                                | 1,218,526                             |\n| Other                                          | 15,539       | 30,044                        | 21,077                                 | 417,012                               |\n| Department of Veterans Affairs                 | 44,348       | 74,952                        | 40,485                                 | 388,623                               |\n| Corps of Engineers                             | 981          | 2,778                         | 2,366                                  | 7,812                                 |\n| Other Defense Civil Programs                   | 12,647       | 19,677                        | 4,465                                  | 79,245                                |\n| Environmental Protection Agency                | 17,119       | 18,148                        | 1,926                                  | 39,669                                |\n| Executive Office of the President              | 32           | 73                            | 94                                     | 603                                   |\n| General Services Administration                | -204         | 108                           | 19                                     | 2,434                                 |\n| International Assistance Programs              | 2,233        | 4,984                         | 7,523                                  | 45,189                                |\n| National Aeronautics and Space Administration  | 2,066        | 4,243                         | 4,228                                  | 24,707                                |\n| National Science Foundation                    | 728          | 1,521                         | 1,376                                  | 10,658                                |\n| Office of Personnel Management                 | 11,334       | 23,236                        | 21,732                                 | 132,456                               |\n| Small Business Administration                  | -1           | 239                           | 325                                    | 1,610                                 |\n| Social Security Administration                 | 135,136      | 265,261                       | 239,138                                | 1,628,325                             |\n| Independent Agencies                           | 2,114        | 6,497                         | 73,142                                 | 3,437                                 |\n| Allowances                                     | ......       | ......                        | ......                                 | 38,752                                |\n| Undistributed Offsetting Receipts:             |              |                               |                                        |                                       |\n| Interest                                       | -5,542       | -5,982                        | -16,671                                | -169,803                              |\n| Other                                          | -8,786       | -51,920                       | -49,754                                | -149,887                              |\n| Total Outlays                                  | 668,517      | 1,252,738                     | 1,058,839                              | 7,439,295                             |\n| (On-Budget)                                    | 546,637      | 1,021,999                     | 842,116                                | 6,035,465                             |\n| (Off-Budget)                                   | 121,880      | 230,739                       | 216,723                                | 1,403,830                             |\n| Surplus (+) or Deficit (-)                     | -366,763     | -624,213                      | -380,576                               | -1,877,649                            |\n| (On-Budget)                                    | -339,601     | -575,803                      | -333,276                               | -1,780,214                            |\n| (Off-Budget)                                   | -27,162      | -48,410                       | -47,300                                | -97,435                               |"
         },
         "title": "Table 3. Summary of Receipts and Outlays of the U.S. Government, November 2024 and Other Periods\n\n[$ millions]",
         "type": "TABLE"
        },
        {
         "id": "74f9b2b6-0122-4b0b-a5d7-808c881e7c5b",
         "locations": [
          {
           "page_index": 8
          }
         ],
         "page_indices": [
          8
         ],
         "reading_order": 2,
         "representation": {
          "markdown": "[$ millions]"
         },
         "sub_type": "PARAGRAPH",
         "type": "TEXT"
        },
        {
         "id": "056fb8d7-6d7f-4505-b277-8de372585441",
         "locations": [
          {
           "page_index": 8
          }
         ],
         "page_indices": [
          8
         ],
         "reading_order": 3,
         "representation": {
          "markdown": "1 These estimates are based on the FY 2025 Mid-Session Review, released by the Office of Management and Budget on July 19, 2024."
         },
         "sub_type": "PARAGRAPH",
         "type": "TEXT"
        },
        {
         "id": "bd1deb64-6fb7-4145-b7ac-0472bef2cceb",
         "locations": [
          {
           "page_index": 8
          }
         ],
         "page_indices": [
          8
         ],
         "reading_order": 4,
         "representation": {
          "markdown": "Note: Details may not add to totals due to rounding. No Transactions"
         },
         "sub_type": "PARAGRAPH",
         "type": "TEXT"
        },
        {
         "id": "2d903e81-ed8b-4c58-9334-52b5ca75ecf2",
         "locations": [
          {
           "page_index": 8
          }
         ],
         "page_indices": [
          8
         ],
         "reading_order": 5,
         "representation": {
          "markdown": "9"
         },
         "sub_type": "PAGE_NUMBER",
         "type": "TEXT"
        }
       ],
       "metadata": {
        "asset_id": "0",
        "end_page_index": 8,
        "logical_subdocument_id": "0",
        "number_of_pages": 9,
        "s3_bucket": "genai.octankmarkets.com",
        "s3_key": "input/MonthlyTreasuryStatement.pdf",
        "semantic_modality": "DOCUMENT",
        "start_page_index": 0
       },
       "pages": [
        {
         "asset_metadata": {
          "corners": [
           [
            -0.015452651977539063,
            -0.02267850702459162
           ],
           [
            0.9999999042585784,
            -2.2772113549184393e-08
           ],
           [
            1.007862668504902,
            1.0048931699810606
           ],
           [
            2.6464486818797158e-08,
            0.9999998520359848
           ]
          ],
          "rectified_image_height_pixels": 3375,
          "rectified_image_width_pixels": 2590
         },
         "id": "370311ec-e147-4e96-bf07-c8ec46d883f1",
         "page_index": 0,
         "representation": {
          "markdown": "# U.S. DEPARTMENT OF THE TREASURY\n\n# BUREAU OF THE FISCAL SERVICE\n\n|\n\n# Monthly Treasury Statement\n\nReceipts and Outlays of the United States Government\n\nFor Fiscal Year 2025 Through November 30, 2024, and Other Periods\n\n![](./b43a7e5f-2fd5-43b5-b956-117b8a9b25ae.png)\n \n\n![](./8fe5c78a-0c6e-4d11-8634-ac281ec51e38.png)\n TREASURY\n\nTHE"
         },
         "statistics": {
          "element_count": 8,
          "figure_count": 2,
          "table_count": 0
         }
        },
        {
         "asset_metadata": {
          "corners": [
           [
            3.799802667059589e-08,
            -0.0010792303085327148
           ],
           [
            1.000000478707108,
            0.0007044799400098396
           ],
           [
            1.000424134497549,
            1.0015260268702653
           ],
           [
            -3.518205939554701e-05,
            0.9992504142992424
           ]
          ],
          "rectified_image_height_pixels": 3302,
          "rectified_image_width_pixels": 2551
         },
         "id": "790c54bb-38ba-4786-81bf-1958fb1bf3ff",
         "page_index": 1,
         "representation": {
          "markdown": ""
         },
         "statistics": {
          "element_count": 0,
          "figure_count": 0,
          "table_count": 0
         }
        },
        {
         "asset_metadata": {
          "corners": [
           [
            -0.0003637964818991867,
            2.9838056158923515e-08
           ],
           [
            0.9999999042585784,
            -8.201851989283706e-05
           ],
           [
            1.0007419960171569,
            1.000110233191288
           ],
           [
            5.1406700638871565e-08,
            1
           ]
          ],
          "rectified_image_height_pixels": 3300,
          "rectified_image_width_pixels": 2551
         },
         "id": "a0fbb0b7-4155-4d2b-966d-147bab549624",
         "page_index": 2,
         "representation": {
          "markdown": "## Highlight\n\nThe scheduled Monthly Treasury Statement release dates for 2025 are listed on the back of this publication.\n\nNovember has been a deficit month 70 times out of 71 fiscal years since there are no major tax due dates in this month.\n\nOutlays for military active duty and retirement, veterans benefits, Supplemental Security Income, and Medicare payments to health maintenance organizations and prescription drug plans accelerated into November, because December 1, 2024, the normal payment date, fell on a non-business day.\n\n## Contents\n\n|                                        |         |\n|----------------------------------------|---------|\n| Summary                                | Page 5  |\n| Receipts                               | Page 10 |\n| Outlays                                | Page 11 |\n| Means of Financing                     | Page 25 |\n| Receipts/Outlays by Month              | Page 35 |\n| Federal Trust Funds/ Securities        | Page 37 |\n| Receipts by Source/Outlays by Function | Page 38 |\n| Explanatory Notes                      | Page 39 |\n\n## Introduction\n\nThe Monthly Treasury Statement of Receipts and Outlays of the United States Government (MTS) is prepared by the Bureau of the Fiscal Service, Department of the Treasury and, after approval by the Fiscal Assistant Secretary of the Treasury, is normally released on the 8th workday of the month following the reporting month. The publication is based on data provided by Federal entities, disbursing officers, and Federal Reserve banks.\n\n## AUDIENCE\n\nThe MTS is published to meet the needs of those responsible for or interested in the cash position of the Treasury, those who are responsible or interested in the Government's budget results; and individuals and businesses whose operations depend upon or are related to the Government's financial operations.\n\n## DISCLOSURE STATEMENT\n\nThis statement summarizes the financial activities of the Federal Government and off-budget Federal entities conducted in accordance with the Budget of the U.S. Government, i.e., receipts and outlays of funds, the surplus or deficit, and the means of financing the deficit or disposing of the surplus. Information is presented on a modified cash basis; receipts are accounted for on the basis of collections; refunds of receipts are treated as deductions from gross receipts; revolving and management fund receipts, reimbursements and refunds of monies previously expended are treated as deductions from gross outlays; and interest on the public debt (public issues) is recognized on the accrual basis. Major information sources include accounting data reported by Federal entities, disbursing officers, and Federal Reserve banks.\n\n## TRIAD OF PUBLICATIONS\n\nThe MTS is part of a triad of Treasury financial reports. The Daily Treasury Statement is published each working day of the Federal Government. It provides data on the cash and debt operations of the Treasury based upon reporting of the Treasury account balances by Federal Reserve banks. The MTS is a report of Government receipts and outlays, based on agency reporting. The Combined Statement of Receipts, Outlays, and Balances of the United States Government is the official publication of the detailed receipts and outlays of the Government. It is published annually in accordance with legislative mandates given to the Secretary of the Treasury.\n\n## DATA SOURCES AND INFORMATION\n\nThe Explanatory Notes section of this publication provides information concerning the flow of data into the MTS and sources of information relevant to the MTS.\n\n3"
         },
         "statistics": {
          "element_count": 17,
          "figure_count": 0,
          "table_count": 1
         }
        },
        {
         "asset_metadata": {
          "corners": [
           [
            -0.0007418060770221785,
            -0.0010379446636546742
           ],
           [
            1,
            7.321708130114007e-05
           ],
           [
            1.0010420496323529,
            1.0012447472774622
           ],
           [
            -6.742727504495313e-08,
            1.0000001479640153
           ]
          ],
          "rectified_image_height_pixels": 3303,
          "rectified_image_width_pixels": 2552
         },
         "id": "affaedc1-1ee8-4271-a53c-7463849372a7",
         "page_index": 3,
         "representation": {
          "markdown": "Figure 1. Receipts, Outlays, and Surplus/Deficit for November 2024\n\nFigure 2. Cumulative Receipts, Outlays, and Surplus/Deficit through Fiscal Year 2025\n\n| Receipts by Source:                 | Total Receipts $302 Billion     | Total Outlays $669 Billion   | Outlays by Function:    | Outlays by Function:                                          |\n|-------------------------------------|---------------------------------|------------------------------|-------------------------|---------------------------------------------------------------|\n| Individual Income Taxes             | $138 Billion                    |                              | $129 Billion            | Medicare                                                      |\n|                                     |                                 |                              | $125 Billion            | Social Security                                               |\n| Social Insurance & Retirement       | $131 Billion                    |                              | $80 Billion             | Health                                                        |\n| Excise Taxes                        | $10 Billion                     |                              | $79 Billion             | Net Interest                                                  |\n| Corporation Income Taxes            | $9 Billion                      |                              | $76 Billion             | National Defense                                              |\n| Customs Duties                      | Deficit $7 Billion $367 Billion |                              | $63 Billion             | Income Security                                               |\n|                                     | $4 Billion                      |                              | $44 Billion $22 Billion | Veterans' Benefits & Services Natural Resources & Environment |\n| Miscellaneous Estate and Gift Taxes | $2 Billion                      |                              | $12 Billion $38 Billion | Education Other                                               |\n\n|                               |                             |                              |                         |                                           |\n|-------------------------------|-----------------------------|------------------------------|-------------------------|-------------------------------------------|\n| Receipts by Source:           |                             |                              | Outlays by Function:    |                                           |\n|                               | Total Receipts $629 Billion | Total Outlays $1,253 Billion |                         |                                           |\n| Individual Income Taxes       | $306 Billion                |                              | $250 Billion            | Social Security                           |\n|                               |                             |                              | $206 Billion            | Medicare                                  |\n| Social Insurance & Retirement | $254 Billion                |                              | $179 Billion            | National Defense                          |\n| Corporation Income Taxes      | $22 Billion                 |                              | $165 Billion            | Health                                    |\n| Excise Taxes                  | $20 Billion Deficit         |                              | $160 Billion            | Net Interest                              |\n|                               | $14 Billion $624 Billion    |                              | $108 Billion            | Income Security                           |\n| Customs Duties                |                             |                              | $75 Billion             | Veterans' Benefits & Services             |\n| Miscellaneous                 | $7 Billion                  |                              | $38 Billion $28 Billion | Education Natural Resources & Environment |\n| Estate and Gift Taxes         | $5 Billion                  |                              | $43 Billion             | Other                                     |\n\n4\n\nSource data: Table 9"
         },
         "statistics": {
          "element_count": 5,
          "figure_count": 1,
          "table_count": 2
         }
        },
        {
         "asset_metadata": {
          "corners": [
           [
            -0.0008890140757841223,
            6.738652926728581e-07
           ],
           [
            0.9999990425857843,
            -0.0007579908948956113
           ],
           [
            1.0012889667585785,
            0.9999994081439394
           ],
           [
            4.0281856176899927e-07,
            1.0005431019176136
           ]
          ],
          "rectified_image_height_pixels": 3302,
          "rectified_image_width_pixels": 2553
         },
         "id": "881662fc-7171-4408-8755-d25a5d8cf0ed",
         "page_index": 4,
         "representation": {
          "markdown": "Table 1. Summary of Receipts, Outlays, and the Deficit/Surplus of the U.S. Government, Fiscal Years 2024 and 2025, by Month [$ millions]\n\n| Period       | Receipts   | Outlays   | Deficit/Surplus (-)   |\n|--------------|------------|-----------|-----------------------|\n| FY 2024      |            |           |                       |\n| October      | 403,434    | 469,997   | 66,564                |\n| November     | 274,830    | 588,842   | 314,012               |\n| December     | 429,311    | 558,665   | 129,354               |\n| January      | 477,320    | 499,250   | 21,930                |\n| February     | 271,126    | 567,401   | 296,275               |\n| March        | 332,079    | 568,635   | 236,556               |\n| April        | 776,198    | 566,669   | -209,529              |\n| May          | 323,647    | 670,778   | 347,131               |\n| June         | 466,255    | 537,220   | 70,965                |\n| July         | 330,377    | 574,119   | 243,741               |\n| August       | 306,540    | 686,620   | 380,080               |\n| September    | 526,988    | 462,290   | -64,698               |\n| Year-to-Date | 4,918,104  | 6,750,485 | 1,832,381             |\n| FY 2025      |            |           |                       |\n| October      | 326,770    | 584,221   | 257,450               |\n| November     | 301,754    | 668,517   | 366,763               |\n| Year-to-Date | 628,525    | 1,252,738 | 624,213               |\n\nNote: Details may not add to totals due to rounding.\n\nTable 2. Summary of Budget and Off-Budget Results and Financing of the U.S. Government, November 2024 and Other Periods [$ millions]\n\n| Classification                            | This Month   | Current Fiscal Year to Date   | Budget Estimates Full Fiscal Year 1   | Comparable Prior Period Year to Date (2024)   | Budget Estimates Next Fiscal Year (2026) 1   |\n|-------------------------------------------|--------------|-------------------------------|---------------------------------------|-----------------------------------------------|----------------------------------------------|\n| Total On-Budget and Off-Budget Results:   |              |                               |                                       |                                               |                                              |\n| Total Receipts                            | 301,754      | 628,525                       | 5,561,646                             | 678,264                                       | 6,011,381                                    |\n| On-Budget Receipts                        | 207,036      | 446,196                       | 4,255,251                             | 508,841                                       | 4,644,964                                    |\n| Off-Budget Receipts                       | 94,718       | 182,329                       | 1,306,395                             | 169,423                                       | 1,366,417                                    |\n| Total Outlays                             | 668,517      | 1,252,738                     | 7,439,295                             | 1,058,839                                     | 7,612,734                                    |\n| On-Budget Outlays                         | 546,637      | 1,021,999                     | 6,035,465                             | 842,116                                       | 6,124,968                                    |\n| Off-Budget Outlays                        | 121,880      | 230,739                       | 1,403,830                             | 216,723                                       | 1,487,766                                    |\n| Total Surplus (+) or Deficit (-)          | -366,763     | -624,213                      | -1,877,649                            | -380,576                                      | -1,601,353                                   |\n| On-Budget Surplus (+) or Deficit (-)      | -339,601     | -575,803                      | -1,780,214                            | -333,276                                      | -1,480,004                                   |\n| Off-Budget Surplus (+) or Deficit (-)     | -27,162      | -48,410                       | -97,435                               | -47,300                                       | -121,349                                     |\n| Total On-Budget and Off-Budget Financing  | 366,763      | 624,213                       | 1,877,649                             | 380,576                                       | 1,601,353                                    |\n| Means of Financing:                       |              |                               |                                       |                                               |                                              |\n| Borrowing from the Public                 | 221,295      | 483,466                       | 1,901,128                             | 487,108                                       | 1,695,149                                    |\n| Reduction of Operating Cash, Increase (-) | 164,163      | 128,847                       | ......                                | -101,962                                      | ......                                       |\n| By Other Means                            | -18,695      | 11,900                        | -23,479                               | -4,570                                        | -93,796                                      |\n\n1 These estimates are based on the FY 2025 Mid-Session Review, released by the Office of Management and Budget on July 19, 2024.\n\nNote: Details may not add to totals due to rounding. No Transactions\n\n5"
         },
         "statistics": {
          "element_count": 8,
          "figure_count": 0,
          "table_count": 2
         }
        },
        {
         "asset_metadata": {
          "corners": [
           [
            -0.0038712142495548026,
            0.0025687047206994257
           ],
           [
            0.9983738319546569,
            0.0006890895149924539
           ],
           [
            1.0089509612438725,
            0.9999746981534091
           ],
           [
            0.004539032356411803,
            1.002816347064394
           ]
          ],
          "rectified_image_height_pixels": 3300,
          "rectified_image_width_pixels": 2561
         },
         "id": "4b077256-704b-4623-808e-5cc72bf20407",
         "page_index": 5,
         "representation": {
          "markdown": "Figure 3. Monthly Receipts, Outlays, and Budget Deficit/Surplus of the U.S. Government, Fiscal Years 2024 and 2025\n\n2025\n\nReceipts\nOutlays\nDeficit(-)/Surplus\n\nFigure 4. Monthly Receipts, Outlays, and Budget Deficit/Surplus of the U.S. Government, Cumulative, Fiscal Years 2024 and 2025\n\nReceipts\nOutlays\nDeficit(-)/Surplus\n\n|           |    |    |    |    |    |    |    |    |    |    |    |    |    |    |\n|-----------|----|----|----|----|----|----|----|----|----|----|----|----|----|----|\n|           |    |    |    |    |    |    |    |    |    |    |    |    |    |    |\n| $1,000B   |    |    |    |    |    |    |    |    |    |    |    |    |    |    |\n|           |    |    |    |    |    |    |    |    |    |    |    |    |    |    |\n| $600B     |    |    |    |    |    |    |    |    |    |    |    |    |    |    |\n|           |    |    |    |    |    |    |    |    |    |    |    |    |    |    |\n| $200B     |    |    |    |    |    |    |    |    |    |    |    |    |    |    |\n|           |    |    |    |    |    |    |    |    |    |    |    |    |    |    |\n| ($200B)   |    |    |    |    |    |    |    |    |    |    |    |    |    |    |\n|           |    |    |    |    |    |    |    |    |    |    |    |    |    |    |\n| ($600B)   |    |    |    |    |    |    |    |    |    |    |    |    |    |    |\n|           |    |    |    |    |    |    |    |    |    |    |    |    |    |    |\n| ($1,000B) |    |    |    |    |    |    |    |    |    |    |    |    |    |    |\n| $200B     |    |    |    |    |    |    |    |    |    |    |    |    |    |    |\n| $0B       |    |    |    |    |    |    |    |    |    |    |    |    |    |    |\n| ($200B)   |    |    |    |    |    |    |    |    |    |    |    |    |    |    |\n| ($400B)   |    |    |    |    |    |    |    |    |    |    |    |    |    |    |\n| ($600B)   |    |    |    |    |    |    |    |    |    |    |    |    |    |    |\n|           |    |    |    |    |    |    |    |    |    |    |    |    |    |    |\n|           |    |    |    |    |    |    |    |    |    |    |    |    |    |    |\n\n|               |    |      |    |    |    |    |    |    |    |    |      |    |    |    |    |    |    |\n|---------------|----|------|----|----|----|----|----|----|----|----|------|----|----|----|----|----|----|\n|               |    | 2024 |    |    |    |    |    |    |    |    | 2025 |    |    |    |    |    |    |\n| $5,000B       |    |      |    |    |    |    |    |    |    |    |      |    |    |    |    |    |    |\n| $4,000B       |    |      |    |    |    |    |    |    |    |    |      |    |    |    |    |    |    |\n| $3,000B       |    |      |    |    |    |    |    |    |    |    |      |    |    |    |    |    |    |\n| $2,000B       |    |      |    |    |    |    |    |    |    |    |      |    |    |    |    |    |    |\n| $1,000B $0B   |    |      |    |    |    |    |    |    |    |    |      |    |    |    |    |    |    |\n| ($1,000B)     |    |      |    |    |    |    |    |    |    |    |      |    |    |    |    |    |    |\n| ($3,000B)     |    |      |    |    |    |    |    |    |    |    |      |    |    |    |    |    |    |\n| ($5,000B)     |    |      |    |    |    |    |    |    |    |    |      |    |    |    |    |    |    |\n| ($7,000B)     |    |      |    |    |    |    |    |    |    |    |      |    |    |    |    |    |    |\n| $0B ($1,000B) |    |      |    |    |    |    |    |    |    |    |      |    |    |    |    |    |    |\n|               |    |      |    |    |    |    |    |    |    |    |      |    |    |    |    |    |    |\n|               |    |      |    |    |    |    |    |    |    |    |      |    |    |    |    |    |    |\n\n6\n\nSource data: Table 1"
         },
         "statistics": {
          "element_count": 6,
          "figure_count": 1,
          "table_count": 2
         }
        },
        {
         "asset_metadata": {
          "corners": [
           [
            -0.000702359769858566,
            4.152134131414421e-07
           ],
           [
            0.999999329810049,
            -0.0005911687648657597
           ],
           [
            1.0009532015931373,
            0.9999995561079545
           ],
           [
            3.211333772496266e-07,
            1.0004597981770833
           ]
          ],
          "rectified_image_height_pixels": 3301,
          "rectified_image_width_pixels": 2552
         },
         "id": "bf301611-7dd1-428d-a7b1-17ca12b08f9e",
         "page_index": 6,
         "representation": {
          "markdown": "Figure 5. Receipts of the U.S. Government, by Source, Fiscal Year 2025\n\nMonth of November 2024: $302B\n\n$4B $9B\n\n$10B\n\n$9B\n\n$131B\n\n$138B\n\nFiscal Year 2025 to Date: $629B\n\n$7B$19B\n\n$20B\n\n$22B\n\n$254B\n\n$306B\n\nFigure 6. Monthly Receipts of the U.S. Government, by Source, Fiscal Years 2024 and 2025\n\n$750B\n $700B\n $650B\n $600B\n $550B\n $500B\n $450B\n $400B\n $350B\n $300B\n $250B\n $200B\n $150B\n $100B\n $50B\n\nMiscellaneous Receipts\nExcise Taxes\nIndividual Income Taxes\n Other\nCorporation Income Taxes\nSocial Insurance and Retirement Receipts\n\n\"Other\" Includes: Customs Duties and Estate and Gift Taxes *Disclaimer: Other category is subject to change due to negative balances held. Note: Details may not add to totals due to rounding\n\n7\n\nSource data: Table 9"
         },
         "statistics": {
          "element_count": 5,
          "figure_count": 1,
          "table_count": 0
         }
        },
        {
         "asset_metadata": {
          "corners": [
           [
            -0.0005737702519285913,
            0.0005797972101153749
           ],
           [
            0.999998659620098,
            -0.0012470803116307115
           ],
           [
            1.0009629672181373,
            0.9999984463778409
           ],
           [
            9.754398728118222e-07,
            1.00188232421875
           ]
          ],
          "rectified_image_height_pixels": 3304,
          "rectified_image_width_pixels": 2552
         },
         "id": "644caf84-4ce7-40d6-9809-3c01f9bff689",
         "page_index": 7,
         "representation": {
          "markdown": "Figure 7. Outlays of the U.S. Government, by Source, Fiscal Year 2025\n\nMonth of November 2024: $669B\n\n$117B\n\n$125B\n\n$79B\n\n$76B\n\n$63B\n\n$80B\n\n*Disclaimer: Other category is subject to change due to negative balances held.\n\nFigure 7. Outlays of the U.S. Government, by Source, Fiscal Year 2025\n\nFiscal Year 2025 to Date: $1,253B\n\n$185B\n\n$250B\n\n$160B\n\n$206B\n\n$179B\n\n$108B\n\n$165B\n\n*Disclaimer: Other category is subject to change due to negative balances held.\n\nFigure 8. Monthly Outlays of the U.S. Government, by Source, Fiscal Years 2024 and 2025\n\n$1,000B\n\n$900B\n\n$800B\n\n$700B\n\n$600B\n\n$500B\n\n$400B\n\n$300B\n\n$200B\n\n$100B\n\n$0B\n\nSocial Security\nIncome Security\nNational Defense\nOther\n Medicare\nHealth\nNet Interest\n\n\"Other\" Includes: Administration of Justice, Agriculture, Community and Regional Development, Education, Training, Employment, and Social Services, Energy, General Government, General Science, Space, and Technology, International Affairs, Natural Resources and Environment, Transportation, Undistributed Offsetting Receipts, Veterans' Benefits and Services. Note: Details may not add to totals due to rounding\n\n8\n\nSource data: Table 9"
         },
         "statistics": {
          "element_count": 5,
          "figure_count": 1,
          "table_count": 0
         }
        },
        {
         "asset_metadata": {
          "corners": [
           [
            -0.00039238882999794155,
            1.109452833506194e-07
           ],
           [
            0.9999996170343137,
            -0.0003864985885042133
           ],
           [
            1.0006444355085784,
            0.9999998520359848
           ],
           [
            9.997766099724115e-08,
            1.0001807380445076
           ]
          ],
          "rectified_image_height_pixels": 3301,
          "rectified_image_width_pixels": 2551
         },
         "id": "3a9fa8aa-985c-4365-8319-7ad4ba9f0dda",
         "page_index": 8,
         "representation": {
          "markdown": "Table 3. Summary of Receipts and Outlays of the U.S. Government, November 2024 and Other Periods\n\n| Classification                                 | This Month   | Current Fiscal Year to Date   | Comparable Prior Period Year to Date   | Budget Estimates Full Fiscal Year 1   |\n|------------------------------------------------|--------------|-------------------------------|----------------------------------------|---------------------------------------|\n| Budget Receipts                                |              |                               |                                        |                                       |\n| Individual Income Taxes                        | 138,455      | 306,489                       | 346,801                                | 2,686,312                             |\n| Corporation Income Taxes                       | 9,338        | 22,209                        | 56,009                                 | 702,522                               |\n| Social Insurance and Retirement Receipts:      |              |                               |                                        |                                       |\n| Employment and General Retirement (Off-Budget) | 94,718       | 182,329                       | 169,423                                | 1,306,395                             |\n| Employment and General Retirement (On-Budget)  | 33,493       | 64,313                        | 59,411                                 | 552,154                               |\n| Unemployment Insurance                         | 2,619        | 5,769                         | 6,172                                  | 52,876                                |\n| Other Retirement                               | 652          | 1,360                         | 1,251                                  | 8,182                                 |\n| Excise Taxes                                   | 9,578        | 20,036                        | 14,954                                 | 115,950                               |\n| Estate and Gift Taxes                          | 2,244        | 5,021                         | 6,781                                  | 37,018                                |\n| Customs Duties                                 | 6,712        | 14,009                        | 13,199                                 | 63,276                                |\n| Miscellaneous Receipts                         | 3,946        | 6,990                         | 4,262                                  | 36,961                                |\n| Total Receipts                                 | 301,754      | 628,525                       | 678,264                                | 5,561,646                             |\n| (On-Budget)                                    | 207,036      | 446,196                       | 508,841                                | 4,255,251                             |\n| (Off-Budget)                                   | 94,718       | 182,329                       | 169,423                                | 1,306,395                             |\n| Budget Outlays                                 |              |                               |                                        |                                       |\n| Legislative Branch                             | 625          | 1,258                         | 1,235                                  | 7,636                                 |\n| Judicial Branch                                | 754          | 1,555                         | 1,535                                  | 10,348                                |\n| Department of Agriculture                      | 22,222       | 47,026                        | 40,330                                 | 228,347                               |\n| Department of Commerce                         | 2,824        | 4,091                         | 1,874                                  | 33,523                                |\n| Department of Defense--Military Programs       | 72,329       | 171,480                       | 149,709                                | 879,758                               |\n| Department of Education                        | 9,370        | 31,933                        | 30,642                                 | 157,959                               |\n| Department of Energy                           | 4,116        | 9,078                         | 8,166                                  | 63,466                                |\n| Department of Health and Human Services        | 201,203      | 352,880                       | 241,511                                | 1,868,528                             |\n| Department of Homeland Security                | 9,552        | 19,259                        | 14,808                                 | 88,192                                |\n| Department of Housing and Urban Development    | 5,837        | 11,352                        | 11,266                                 | 77,742                                |\n| Department of the Interior                     | 2,430        | 3,960                         | 3,004                                  | 22,757                                |\n| Department of Justice                          | 3,332        | 6,200                         | 7,480                                  | 50,967                                |\n| Department of Labor                            | 5,416        | 5,215                         | 3,002                                  | 62,477                                |\n| Department of State                            | 2,927        | 5,992                         | 5,309                                  | 37,623                                |\n| Department of Transportation                   | 9,243        | 19,012                        | 18,650                                 | 130,604                               |\n| Department of the Treasury:                    |              |                               |                                        |                                       |\n| Interest on Treasury Debt Securities (Gross)   | 86,593       | 168,591                       | 168,849                                | 1,218,526                             |\n| Other                                          | 15,539       | 30,044                        | 21,077                                 | 417,012                               |\n| Department of Veterans Affairs                 | 44,348       | 74,952                        | 40,485                                 | 388,623                               |\n| Corps of Engineers                             | 981          | 2,778                         | 2,366                                  | 7,812                                 |\n| Other Defense Civil Programs                   | 12,647       | 19,677                        | 4,465                                  | 79,245                                |\n| Environmental Protection Agency                | 17,119       | 18,148                        | 1,926                                  | 39,669                                |\n| Executive Office of the President              | 32           | 73                            | 94                                     | 603                                   |\n| General Services Administration                | -204         | 108                           | 19                                     | 2,434                                 |\n| International Assistance Programs              | 2,233        | 4,984                         | 7,523                                  | 45,189                                |\n| National Aeronautics and Space Administration  | 2,066        | 4,243                         | 4,228                                  | 24,707                                |\n| National Science Foundation                    | 728          | 1,521                         | 1,376                                  | 10,658                                |\n| Office of Personnel Management                 | 11,334       | 23,236                        | 21,732                                 | 132,456                               |\n| Small Business Administration                  | -1           | 239                           | 325                                    | 1,610                                 |\n| Social Security Administration                 | 135,136      | 265,261                       | 239,138                                | 1,628,325                             |\n| Independent Agencies                           | 2,114        | 6,497                         | 73,142                                 | 3,437                                 |\n| Allowances                                     | ......       | ......                        | ......                                 | 38,752                                |\n| Undistributed Offsetting Receipts:             |              |                               |                                        |                                       |\n| Interest                                       | -5,542       | -5,982                        | -16,671                                | -169,803                              |\n| Other                                          | -8,786       | -51,920                       | -49,754                                | -149,887                              |\n| Total Outlays                                  | 668,517      | 1,252,738                     | 1,058,839                              | 7,439,295                             |\n| (On-Budget)                                    | 546,637      | 1,021,999                     | 842,116                                | 6,035,465                             |\n| (Off-Budget)                                   | 121,880      | 230,739                       | 216,723                                | 1,403,830                             |\n| Surplus (+) or Deficit (-)                     | -366,763     | -624,213                      | -380,576                               | -1,877,649                            |\n| (On-Budget)                                    | -339,601     | -575,803                      | -333,276                               | -1,780,214                            |\n| (Off-Budget)                                   | -27,162      | -48,410                       | -47,300                                | -97,435                               |\n\n[$ millions]\n\n1 These estimates are based on the FY 2025 Mid-Session Review, released by the Office of Management and Budget on July 19, 2024.\n\nNote: Details may not add to totals due to rounding. No Transactions\n\n9"
         },
         "statistics": {
          "element_count": 6,
          "figure_count": 0,
          "table_count": 1
         }
        }
       ]
      },
      "text/plain": [
       "<IPython.core.display.JSON object>"
      ]
     },
     "execution_count": 40,
     "metadata": {
      "application/json": {
       "expanded": false,
       "root": "root"
      }
     },
     "output_type": "execute_result"
    }
   ],
   "source": [
    "JSON(standard_output)"
   ]
  },
  {
   "cell_type": "code",
   "execution_count": 10,
   "id": "6944582b-773a-4a09-ac95-56264def5ff9",
   "metadata": {},
   "outputs": [],
   "source": [
    "asset_id=0\n",
    "standard_output_path = next(item[\"segment_metadata\"][0][\"standard_output_path\"] \n",
    "                                for item in job_metadata[\"output_metadata\"] \n",
    "                                if item['asset_id'] == asset_id)\n",
    "standard_output = json.loads(read_s3_object(standard_output_path))"
   ]
  },
  {
   "cell_type": "markdown",
   "id": "028fed44-1399-4f84-a557-b727e30a4b13",
   "metadata": {},
   "source": [
    "### metadata\n",
    "The metadata section in the response provides an overview of the metadata associated with the document. This include the S3 bucket and key for the input document. The metadata also contains the modality that was selected for your response, the number of pages processed as well as the start and end page index."
   ]
  },
  {
   "cell_type": "code",
   "execution_count": 11,
   "id": "016ee0b9-288c-44d4-bd45-f914d99bb3d8",
   "metadata": {},
   "outputs": [
    {
     "data": {
      "application/json": {
       "asset_id": "0",
       "end_page_index": 8,
       "logical_subdocument_id": "0",
       "number_of_pages": 9,
       "s3_bucket": "genai.octankmarkets.com",
       "s3_key": "input/MonthlyTreasuryStatement.pdf",
       "semantic_modality": "DOCUMENT",
       "start_page_index": 0
      },
      "text/plain": [
       "<IPython.core.display.JSON object>"
      ]
     },
     "execution_count": 11,
     "metadata": {
      "application/json": {
       "expanded": true,
       "root": "metadata"
      }
     },
     "output_type": "execute_result"
    }
   ],
   "source": [
    "JSON(standard_output['metadata'],root='metadata',expanded=True)"
   ]
  },
  {
   "cell_type": "markdown",
   "id": "95ac64f9-2e7b-4701-86d2-150eb6a674e5",
   "metadata": {},
   "source": [
    "### document\n",
    "The document section of the standard output provides document level granularity information. Document level granularity would include an analysis of information from the document providing key pieces of info.\n",
    "\n",
    "By default the document level granularity includes statistics that contain information on the actual content of the document, such as how many semantic elements there are, how many figures, words, lines, etc. We will look at further information that would be presented in the document level granularity when we modify the standard output using projects."
   ]
  },
  {
   "cell_type": "code",
   "execution_count": 37,
   "id": "8daa8c5a-fb12-4543-9390-d6455b38584f",
   "metadata": {},
   "outputs": [
    {
     "data": {
      "application/json": {
       "statistics": {
        "element_count": 60,
        "figure_count": 6,
        "table_count": 8
       }
      },
      "text/plain": [
       "<IPython.core.display.JSON object>"
      ]
     },
     "execution_count": 37,
     "metadata": {
      "application/json": {
       "expanded": true,
       "root": "document"
      }
     },
     "output_type": "execute_result"
    }
   ],
   "source": [
    "JSON(standard_output['document'],root='document', expanded=True)"
   ]
  },
  {
   "cell_type": "markdown",
   "id": "c85be5e7-57fe-485d-a26c-cbbf38930fd7",
   "metadata": {},
   "source": [
    "### pages\n",
    "With Page level granularity (enabled by default) text in a page are consolidated and are listed in the pages section with one item for each page. The page entity in the Standard output include the page index. The individual page entities also include the statistics that contain information on the actual content of the document, such as how many semantic elements there are, how many figures, words, lines, etc. The asset metadata represents the page bounds using coordinates of the four corners.\n",
    "\n",
    "Below, we look at a snippet of the output pertaining to a specific page."
   ]
  },
  {
   "cell_type": "code",
   "execution_count": 39,
   "id": "571e0289-c65c-411c-816f-6a949ccbc256",
   "metadata": {},
   "outputs": [
    {
     "data": {
      "application/json": {
       "asset_metadata": {
        "corners": [
         [
          -0.015452651977539063,
          -0.02267850702459162
         ],
         [
          0.9999999042585784,
          -2.2772113549184393e-08
         ],
         [
          1.007862668504902,
          1.0048931699810606
         ],
         [
          2.6464486818797158e-08,
          0.9999998520359848
         ]
        ],
        "rectified_image_height_pixels": 3375,
        "rectified_image_width_pixels": 2590
       },
       "id": "370311ec-e147-4e96-bf07-c8ec46d883f1",
       "page_index": 0,
       "representation": {
        "markdown": "# U.S. DEPARTMENT OF THE TREASURY\n\n# BUREAU OF THE FISCAL SERVICE\n\n|\n\n# Monthly Treasury Statement\n\nReceipts and Outlays of the United States Government\n\nFor Fiscal Year 2025 Through November 30, 2024, and Other Periods\n\n![](./b43a7e5f-2fd5-43b5-b956-117b8a9b25ae.png)\n \n\n![](./8fe5c78a-0c6e-4d11-8634-ac281ec51e38.png)\n TREASURY\n\nTHE"
       },
       "statistics": {
        "element_count": 8,
        "figure_count": 2,
        "table_count": 0
       }
      },
      "text/plain": [
       "<IPython.core.display.JSON object>"
      ]
     },
     "execution_count": 39,
     "metadata": {
      "application/json": {
       "expanded": false,
       "root": "pages[0]"
      }
     },
     "output_type": "execute_result"
    }
   ],
   "source": [
    "JSON(standard_output['pages'][0],root='pages[0]',expanded=False)"
   ]
  },
  {
   "cell_type": "markdown",
   "id": "26f32795-8436-44bd-9d71-8f8ad43143d4",
   "metadata": {},
   "source": [
    "### element\n",
    "The element section contains the various semantic elements extracted from the documents including Text content, Tables and figures. The text and figure entites are further sub-classified for example TITLE/SECTION_TITLE for Text or Chart for figures."
   ]
  },
  {
   "cell_type": "markdown",
   "id": "e0a4011e-a84c-4c50-bca4-917470d1590d",
   "metadata": {},
   "source": [
    "#### TEXT element"
   ]
  },
  {
   "cell_type": "code",
   "execution_count": 16,
   "id": "02ea30f0-907a-442f-9b47-6eb4cdb98516",
   "metadata": {},
   "outputs": [
    {
     "data": {
      "application/json": {
       "id": "c01a3279-c06b-4a45-9522-8158262616f7",
       "locations": [
        {
         "page_index": 0
        }
       ],
       "page_indices": [
        0
       ],
       "reading_order": 5,
       "representation": {
        "markdown": "For Fiscal Year 2025 Through November 30, 2024, and Other Periods"
       },
       "sub_type": "PARAGRAPH",
       "type": "TEXT"
      },
      "text/plain": [
       "<IPython.core.display.JSON object>"
      ]
     },
     "execution_count": 16,
     "metadata": {
      "application/json": {
       "expanded": true,
       "root": "elements[5]"
      }
     },
     "output_type": "execute_result"
    }
   ],
   "source": [
    "JSON(standard_output['elements'][5],root='elements[5]', expanded=True)"
   ]
  },
  {
   "cell_type": "markdown",
   "id": "bae620f8-4d36-4dbc-ba02-0871dad2a990",
   "metadata": {},
   "source": [
    "#### FIGURE element"
   ]
  },
  {
   "cell_type": "code",
   "execution_count": 19,
   "id": "ada4e42a-153c-40f6-9634-7752bb356322",
   "metadata": {},
   "outputs": [
    {
     "data": {
      "application/json": {
       "document": {
        "statistics": {
         "element_count": 60,
         "figure_count": 6,
         "table_count": 8
        }
       },
       "elements": [
        {
         "id": "2d90dc59-ad2b-48d7-af35-895b2612eb70",
         "locations": [
          {
           "page_index": 0
          }
         ],
         "page_indices": [
          0
         ],
         "reading_order": 0,
         "representation": {
          "markdown": "# U.S. DEPARTMENT OF THE TREASURY"
         },
         "sub_type": "HEADER",
         "type": "TEXT"
        },
        {
         "id": "2b32d581-ec77-40c4-82aa-a846dbc6e012",
         "locations": [
          {
           "page_index": 0
          }
         ],
         "page_indices": [
          0
         ],
         "reading_order": 1,
         "representation": {
          "markdown": "# BUREAU OF THE FISCAL SERVICE"
         },
         "sub_type": "HEADER",
         "type": "TEXT"
        },
        {
         "id": "e8426732-d12f-426d-ad83-9e293bfb61af",
         "locations": [
          {
           "page_index": 0
          }
         ],
         "page_indices": [
          0
         ],
         "reading_order": 2,
         "representation": {
          "markdown": "|"
         },
         "sub_type": "PARAGRAPH",
         "type": "TEXT"
        },
        {
         "id": "04c52b95-7f90-4630-9346-a62af455defb",
         "locations": [
          {
           "page_index": 0
          }
         ],
         "page_indices": [
          0
         ],
         "reading_order": 3,
         "representation": {
          "markdown": "# Monthly Treasury Statement"
         },
         "sub_type": "TITLE",
         "type": "TEXT"
        },
        {
         "id": "e1460a9c-7d7c-4c8a-adf9-35e783b838d9",
         "locations": [
          {
           "page_index": 0
          }
         ],
         "page_indices": [
          0
         ],
         "reading_order": 4,
         "representation": {
          "markdown": "Receipts and Outlays of the United States Government"
         },
         "sub_type": "PARAGRAPH",
         "type": "TEXT"
        },
        {
         "id": "c01a3279-c06b-4a45-9522-8158262616f7",
         "locations": [
          {
           "page_index": 0
          }
         ],
         "page_indices": [
          0
         ],
         "reading_order": 5,
         "representation": {
          "markdown": "For Fiscal Year 2025 Through November 30, 2024, and Other Periods"
         },
         "sub_type": "PARAGRAPH",
         "type": "TEXT"
        },
        {
         "id": "b43a7e5f-2fd5-43b5-b956-117b8a9b25ae",
         "locations": [
          {
           "page_index": 0
          }
         ],
         "page_indices": [
          0
         ],
         "reading_order": 6,
         "representation": {
          "markdown": "![](./b43a7e5f-2fd5-43b5-b956-117b8a9b25ae.png)\n "
         },
         "sub_type": "IMAGE",
         "title": "",
         "type": "FIGURE"
        },
        {
         "id": "8fe5c78a-0c6e-4d11-8634-ac281ec51e38",
         "locations": [
          {
           "page_index": 0
          }
         ],
         "page_indices": [
          0
         ],
         "reading_order": 7,
         "representation": {
          "markdown": "![](./8fe5c78a-0c6e-4d11-8634-ac281ec51e38.png)\n TREASURY\n\nTHE"
         },
         "sub_type": "LOGO",
         "title": "",
         "type": "FIGURE"
        },
        {
         "id": "e9b568c3-63d3-4c82-b91e-cc6d29e6689c",
         "locations": [
          {
           "page_index": 2
          }
         ],
         "page_indices": [
          2
         ],
         "reading_order": 0,
         "representation": {
          "markdown": "## Highlight"
         },
         "sub_type": "SECTION_HEADER",
         "type": "TEXT"
        },
        {
         "id": "6f56fcab-f76e-4c61-9c37-848106bcbff0",
         "locations": [
          {
           "page_index": 2
          }
         ],
         "page_indices": [
          2
         ],
         "reading_order": 1,
         "representation": {
          "markdown": "The scheduled Monthly Treasury Statement release dates for 2025 are listed on the back of this publication."
         },
         "sub_type": "PARAGRAPH",
         "type": "TEXT"
        },
        {
         "id": "dff14afa-16d8-491b-a965-dcfdbb600050",
         "locations": [
          {
           "page_index": 2
          }
         ],
         "page_indices": [
          2
         ],
         "reading_order": 2,
         "representation": {
          "markdown": "November has been a deficit month 70 times out of 71 fiscal years since there are no major tax due dates in this month."
         },
         "sub_type": "PARAGRAPH",
         "type": "TEXT"
        },
        {
         "id": "36150e48-c771-48a5-a21d-092760695948",
         "locations": [
          {
           "page_index": 2
          }
         ],
         "page_indices": [
          2
         ],
         "reading_order": 3,
         "representation": {
          "markdown": "Outlays for military active duty and retirement, veterans benefits, Supplemental Security Income, and Medicare payments to health maintenance organizations and prescription drug plans accelerated into November, because December 1, 2024, the normal payment date, fell on a non-business day."
         },
         "sub_type": "PARAGRAPH",
         "type": "TEXT"
        },
        {
         "id": "ceb5059f-e466-4dd1-b1ca-a4a45c10280c",
         "locations": [
          {
           "page_index": 2
          }
         ],
         "page_indices": [
          2
         ],
         "reading_order": 4,
         "representation": {
          "markdown": "## Contents"
         },
         "sub_type": "SECTION_HEADER",
         "type": "TEXT"
        },
        {
         "footers": [],
         "headers": [
          "",
          ""
         ],
         "id": "8be42252-c8c4-45c1-8319-19455296a4c3",
         "locations": [
          {
           "page_index": 2
          }
         ],
         "reading_order": 5,
         "representation": {
          "markdown": "|                                        |         |\n|----------------------------------------|---------|\n| Summary                                | Page 5  |\n| Receipts                               | Page 10 |\n| Outlays                                | Page 11 |\n| Means of Financing                     | Page 25 |\n| Receipts/Outlays by Month              | Page 35 |\n| Federal Trust Funds/ Securities        | Page 37 |\n| Receipts by Source/Outlays by Function | Page 38 |\n| Explanatory Notes                      | Page 39 |"
         },
         "title": "Contents",
         "type": "TABLE"
        },
        {
         "id": "3940e911-28f0-4651-907b-fcb3435ebb22",
         "locations": [
          {
           "page_index": 2
          }
         ],
         "page_indices": [
          2
         ],
         "reading_order": 6,
         "representation": {
          "markdown": "## Introduction"
         },
         "sub_type": "SECTION_HEADER",
         "type": "TEXT"
        },
        {
         "id": "43a98dbb-93bf-4d10-8250-6e5088194c30",
         "locations": [
          {
           "page_index": 2
          }
         ],
         "page_indices": [
          2
         ],
         "reading_order": 7,
         "representation": {
          "markdown": "The Monthly Treasury Statement of Receipts and Outlays of the United States Government (MTS) is prepared by the Bureau of the Fiscal Service, Department of the Treasury and, after approval by the Fiscal Assistant Secretary of the Treasury, is normally released on the 8th workday of the month following the reporting month. The publication is based on data provided by Federal entities, disbursing officers, and Federal Reserve banks."
         },
         "sub_type": "PARAGRAPH",
         "type": "TEXT"
        },
        {
         "id": "ca0c4e6d-9e3b-4802-9580-b992d59bb6d7",
         "locations": [
          {
           "page_index": 2
          }
         ],
         "page_indices": [
          2
         ],
         "reading_order": 8,
         "representation": {
          "markdown": "## AUDIENCE"
         },
         "sub_type": "SECTION_HEADER",
         "type": "TEXT"
        },
        {
         "id": "81a8c9af-1dd2-4537-b1fe-bd459b10da90",
         "locations": [
          {
           "page_index": 2
          }
         ],
         "page_indices": [
          2
         ],
         "reading_order": 9,
         "representation": {
          "markdown": "The MTS is published to meet the needs of those responsible for or interested in the cash position of the Treasury, those who are responsible or interested in the Government's budget results; and individuals and businesses whose operations depend upon or are related to the Government's financial operations."
         },
         "sub_type": "PARAGRAPH",
         "type": "TEXT"
        },
        {
         "id": "1bd11079-ed84-49d2-8d65-afadccb3a400",
         "locations": [
          {
           "page_index": 2
          }
         ],
         "page_indices": [
          2
         ],
         "reading_order": 10,
         "representation": {
          "markdown": "## DISCLOSURE STATEMENT"
         },
         "sub_type": "SECTION_HEADER",
         "type": "TEXT"
        },
        {
         "id": "1d22ed8d-ff25-405f-8a86-e7492e2b4ca7",
         "locations": [
          {
           "page_index": 2
          }
         ],
         "page_indices": [
          2
         ],
         "reading_order": 11,
         "representation": {
          "markdown": "This statement summarizes the financial activities of the Federal Government and off-budget Federal entities conducted in accordance with the Budget of the U.S. Government, i.e., receipts and outlays of funds, the surplus or deficit, and the means of financing the deficit or disposing of the surplus. Information is presented on a modified cash basis; receipts are accounted for on the basis of collections; refunds of receipts are treated as deductions from gross receipts; revolving and management fund receipts, reimbursements and refunds of monies previously expended are treated as deductions from gross outlays; and interest on the public debt (public issues) is recognized on the accrual basis. Major information sources include accounting data reported by Federal entities, disbursing officers, and Federal Reserve banks."
         },
         "sub_type": "PARAGRAPH",
         "type": "TEXT"
        },
        {
         "id": "b52f94b6-ab34-44fc-b65e-166dcbd01b24",
         "locations": [
          {
           "page_index": 2
          }
         ],
         "page_indices": [
          2
         ],
         "reading_order": 12,
         "representation": {
          "markdown": "## TRIAD OF PUBLICATIONS"
         },
         "sub_type": "SECTION_HEADER",
         "type": "TEXT"
        },
        {
         "id": "bc909221-f68f-4194-9b40-a72178c906b2",
         "locations": [
          {
           "page_index": 2
          }
         ],
         "page_indices": [
          2
         ],
         "reading_order": 13,
         "representation": {
          "markdown": "The MTS is part of a triad of Treasury financial reports. The Daily Treasury Statement is published each working day of the Federal Government. It provides data on the cash and debt operations of the Treasury based upon reporting of the Treasury account balances by Federal Reserve banks. The MTS is a report of Government receipts and outlays, based on agency reporting. The Combined Statement of Receipts, Outlays, and Balances of the United States Government is the official publication of the detailed receipts and outlays of the Government. It is published annually in accordance with legislative mandates given to the Secretary of the Treasury."
         },
         "sub_type": "PARAGRAPH",
         "type": "TEXT"
        },
        {
         "id": "2496f05b-fe45-453a-a7b3-e2d57594ae8c",
         "locations": [
          {
           "page_index": 2
          }
         ],
         "page_indices": [
          2
         ],
         "reading_order": 14,
         "representation": {
          "markdown": "## DATA SOURCES AND INFORMATION"
         },
         "sub_type": "SECTION_HEADER",
         "type": "TEXT"
        },
        {
         "id": "4c54818d-5df8-493f-8ff1-dbbfaf1246dd",
         "locations": [
          {
           "page_index": 2
          }
         ],
         "page_indices": [
          2
         ],
         "reading_order": 15,
         "representation": {
          "markdown": "The Explanatory Notes section of this publication provides information concerning the flow of data into the MTS and sources of information relevant to the MTS."
         },
         "sub_type": "PARAGRAPH",
         "type": "TEXT"
        },
        {
         "id": "708e44c9-2101-44dd-9714-e00788609dc1",
         "locations": [
          {
           "page_index": 2
          }
         ],
         "page_indices": [
          2
         ],
         "reading_order": 16,
         "representation": {
          "markdown": "3"
         },
         "sub_type": "PAGE_NUMBER",
         "type": "TEXT"
        },
        {
         "id": "4644bdcc-192f-4408-b86b-24f853275613",
         "locations": [
          {
           "page_index": 3
          }
         ],
         "page_indices": [
          3
         ],
         "reading_order": 0,
         "representation": {
          "markdown": "Figure 1. Receipts, Outlays, and Surplus/Deficit for November 2024\n\nFigure 2. Cumulative Receipts, Outlays, and Surplus/Deficit through Fiscal Year 2025"
         },
         "sub_type": "PARAGRAPH",
         "type": "TEXT"
        },
        {
         "footers": [],
         "headers": [
          "Receipts by Source:",
          "Total Receipts $302 Billion",
          "Total Outlays $669 Billion",
          "Outlays by Function:",
          "Outlays by Function:"
         ],
         "id": "99405cad-1eee-4602-ace0-c12ca07fdb9d",
         "locations": [
          {
           "page_index": 3
          }
         ],
         "reading_order": 1,
         "representation": {
          "markdown": "| Receipts by Source:                 | Total Receipts $302 Billion     | Total Outlays $669 Billion   | Outlays by Function:    | Outlays by Function:                                          |\n|-------------------------------------|---------------------------------|------------------------------|-------------------------|---------------------------------------------------------------|\n| Individual Income Taxes             | $138 Billion                    |                              | $129 Billion            | Medicare                                                      |\n|                                     |                                 |                              | $125 Billion            | Social Security                                               |\n| Social Insurance & Retirement       | $131 Billion                    |                              | $80 Billion             | Health                                                        |\n| Excise Taxes                        | $10 Billion                     |                              | $79 Billion             | Net Interest                                                  |\n| Corporation Income Taxes            | $9 Billion                      |                              | $76 Billion             | National Defense                                              |\n| Customs Duties                      | Deficit $7 Billion $367 Billion |                              | $63 Billion             | Income Security                                               |\n|                                     | $4 Billion                      |                              | $44 Billion $22 Billion | Veterans' Benefits & Services Natural Resources & Environment |\n| Miscellaneous Estate and Gift Taxes | $2 Billion                      |                              | $12 Billion $38 Billion | Education Other                                               |"
         },
         "title": "Figure 1. Receipts, Outlays, and Surplus/Deficit for November 2024",
         "type": "TABLE"
        },
        {
         "footers": [],
         "headers": [
          "",
          "",
          "",
          "",
          ""
         ],
         "id": "93fbb776-0f61-44b2-949e-d062ab5374a7",
         "locations": [
          {
           "page_index": 3
          }
         ],
         "reading_order": 2,
         "representation": {
          "markdown": "|                               |                             |                              |                         |                                           |\n|-------------------------------|-----------------------------|------------------------------|-------------------------|-------------------------------------------|\n| Receipts by Source:           |                             |                              | Outlays by Function:    |                                           |\n|                               | Total Receipts $629 Billion | Total Outlays $1,253 Billion |                         |                                           |\n| Individual Income Taxes       | $306 Billion                |                              | $250 Billion            | Social Security                           |\n|                               |                             |                              | $206 Billion            | Medicare                                  |\n| Social Insurance & Retirement | $254 Billion                |                              | $179 Billion            | National Defense                          |\n| Corporation Income Taxes      | $22 Billion                 |                              | $165 Billion            | Health                                    |\n| Excise Taxes                  | $20 Billion Deficit         |                              | $160 Billion            | Net Interest                              |\n|                               | $14 Billion $624 Billion    |                              | $108 Billion            | Income Security                           |\n| Customs Duties                |                             |                              | $75 Billion             | Veterans' Benefits & Services             |\n| Miscellaneous                 | $7 Billion                  |                              | $38 Billion $28 Billion | Education Natural Resources & Environment |\n| Estate and Gift Taxes         | $5 Billion                  |                              | $43 Billion             | Other                                     |"
         },
         "title": "Figure 2. Cumulative Receipts, Outlays, and Surplus/Deficit through Fiscal Year 2025",
         "type": "TABLE"
        },
        {
         "id": "cc6ccb91-25fe-4277-8c23-de74f40e4c38",
         "locations": [
          {
           "page_index": 3
          }
         ],
         "page_indices": [
          3
         ],
         "reading_order": 3,
         "representation": {
          "markdown": "4"
         },
         "sub_type": "PAGE_NUMBER",
         "type": "TEXT"
        },
        {
         "id": "4e4e3756-ce24-4be0-a19c-86af198966c0",
         "locations": [
          {
           "page_index": 3
          }
         ],
         "page_indices": [
          3
         ],
         "reading_order": 4,
         "representation": {
          "markdown": "Source data: Table 9"
         },
         "sub_type": "FOOTER",
         "type": "TEXT"
        },
        {
         "id": "0db21502-28f2-49ab-89db-ca830f323530",
         "locations": [
          {
           "page_index": 4
          }
         ],
         "page_indices": [
          4
         ],
         "reading_order": 0,
         "representation": {
          "markdown": "Table 1. Summary of Receipts, Outlays, and the Deficit/Surplus of the U.S. Government, Fiscal Years 2024 and 2025, by Month [$ millions]"
         },
         "sub_type": "PARAGRAPH",
         "type": "TEXT"
        },
        {
         "footers": [
          "Note: Details may not add to totals due to rounding."
         ],
         "headers": [
          "Period",
          "Receipts",
          "Outlays",
          "Deficit/Surplus (-)"
         ],
         "id": "67c3df0a-fb2f-453d-830e-f167e79f0b31",
         "locations": [
          {
           "page_index": 4
          }
         ],
         "reading_order": 1,
         "representation": {
          "markdown": "| Period       | Receipts   | Outlays   | Deficit/Surplus (-)   |\n|--------------|------------|-----------|-----------------------|\n| FY 2024      |            |           |                       |\n| October      | 403,434    | 469,997   | 66,564                |\n| November     | 274,830    | 588,842   | 314,012               |\n| December     | 429,311    | 558,665   | 129,354               |\n| January      | 477,320    | 499,250   | 21,930                |\n| February     | 271,126    | 567,401   | 296,275               |\n| March        | 332,079    | 568,635   | 236,556               |\n| April        | 776,198    | 566,669   | -209,529              |\n| May          | 323,647    | 670,778   | 347,131               |\n| June         | 466,255    | 537,220   | 70,965                |\n| July         | 330,377    | 574,119   | 243,741               |\n| August       | 306,540    | 686,620   | 380,080               |\n| September    | 526,988    | 462,290   | -64,698               |\n| Year-to-Date | 4,918,104  | 6,750,485 | 1,832,381             |\n| FY 2025      |            |           |                       |\n| October      | 326,770    | 584,221   | 257,450               |\n| November     | 301,754    | 668,517   | 366,763               |\n| Year-to-Date | 628,525    | 1,252,738 | 624,213               |"
         },
         "title": "Table 1. Summary of Receipts, Outlays, and the Deficit/Surplus of the U.S. Government, Fiscal Years 2024 and 2025, by Month\n\n[$ millions]",
         "type": "TABLE"
        },
        {
         "id": "986455d5-57aa-421c-b36d-b93d6dc4510e",
         "locations": [
          {
           "page_index": 4
          }
         ],
         "page_indices": [
          4
         ],
         "reading_order": 2,
         "representation": {
          "markdown": "Note: Details may not add to totals due to rounding."
         },
         "sub_type": "PARAGRAPH",
         "type": "TEXT"
        },
        {
         "id": "974f5cf6-cf20-4130-9816-497fb35e7c91",
         "locations": [
          {
           "page_index": 4
          }
         ],
         "page_indices": [
          4
         ],
         "reading_order": 3,
         "representation": {
          "markdown": "Table 2. Summary of Budget and Off-Budget Results and Financing of the U.S. Government, November 2024 and Other Periods [$ millions]"
         },
         "sub_type": "PARAGRAPH",
         "type": "TEXT"
        },
        {
         "footers": [
          "1 These estimates are based on the FY 2025 Mid-Session Review, released by the Office of Management and Budget on July 19, 2024.",
          "Note: Details may not add to totals due to rounding.",
          "No Transactions"
         ],
         "headers": [
          "Classification",
          "This Month",
          "Current Fiscal Year to Date",
          "Budget Estimates Full Fiscal Year 1",
          "Comparable Prior Period Year to Date (2024)",
          "Budget Estimates Next Fiscal Year (2026) 1"
         ],
         "id": "42a2d53b-579d-478e-8da8-aeab4a5fbd73",
         "locations": [
          {
           "page_index": 4
          }
         ],
         "reading_order": 4,
         "representation": {
          "markdown": "| Classification                            | This Month   | Current Fiscal Year to Date   | Budget Estimates Full Fiscal Year 1   | Comparable Prior Period Year to Date (2024)   | Budget Estimates Next Fiscal Year (2026) 1   |\n|-------------------------------------------|--------------|-------------------------------|---------------------------------------|-----------------------------------------------|----------------------------------------------|\n| Total On-Budget and Off-Budget Results:   |              |                               |                                       |                                               |                                              |\n| Total Receipts                            | 301,754      | 628,525                       | 5,561,646                             | 678,264                                       | 6,011,381                                    |\n| On-Budget Receipts                        | 207,036      | 446,196                       | 4,255,251                             | 508,841                                       | 4,644,964                                    |\n| Off-Budget Receipts                       | 94,718       | 182,329                       | 1,306,395                             | 169,423                                       | 1,366,417                                    |\n| Total Outlays                             | 668,517      | 1,252,738                     | 7,439,295                             | 1,058,839                                     | 7,612,734                                    |\n| On-Budget Outlays                         | 546,637      | 1,021,999                     | 6,035,465                             | 842,116                                       | 6,124,968                                    |\n| Off-Budget Outlays                        | 121,880      | 230,739                       | 1,403,830                             | 216,723                                       | 1,487,766                                    |\n| Total Surplus (+) or Deficit (-)          | -366,763     | -624,213                      | -1,877,649                            | -380,576                                      | -1,601,353                                   |\n| On-Budget Surplus (+) or Deficit (-)      | -339,601     | -575,803                      | -1,780,214                            | -333,276                                      | -1,480,004                                   |\n| Off-Budget Surplus (+) or Deficit (-)     | -27,162      | -48,410                       | -97,435                               | -47,300                                       | -121,349                                     |\n| Total On-Budget and Off-Budget Financing  | 366,763      | 624,213                       | 1,877,649                             | 380,576                                       | 1,601,353                                    |\n| Means of Financing:                       |              |                               |                                       |                                               |                                              |\n| Borrowing from the Public                 | 221,295      | 483,466                       | 1,901,128                             | 487,108                                       | 1,695,149                                    |\n| Reduction of Operating Cash, Increase (-) | 164,163      | 128,847                       | ......                                | -101,962                                      | ......                                       |\n| By Other Means                            | -18,695      | 11,900                        | -23,479                               | -4,570                                        | -93,796                                      |"
         },
         "title": "Table 2. Summary of Budget and Off-Budget Results and Financing of the U.S. Government, November 2024 and Other Periods\n\n[$ millions]",
         "type": "TABLE"
        },
        {
         "id": "52863158-a4f0-4fca-8bda-1e7e92c975d9",
         "locations": [
          {
           "page_index": 4
          }
         ],
         "page_indices": [
          4
         ],
         "reading_order": 5,
         "representation": {
          "markdown": "1 These estimates are based on the FY 2025 Mid-Session Review, released by the Office of Management and Budget on July 19, 2024."
         },
         "sub_type": "PARAGRAPH",
         "type": "TEXT"
        },
        {
         "id": "fe791317-9291-4e9e-b025-eca5055b8ead",
         "locations": [
          {
           "page_index": 4
          }
         ],
         "page_indices": [
          4
         ],
         "reading_order": 6,
         "representation": {
          "markdown": "Note: Details may not add to totals due to rounding. No Transactions"
         },
         "sub_type": "PARAGRAPH",
         "type": "TEXT"
        },
        {
         "id": "3039a934-b247-4fff-8d91-88f69ebe7b46",
         "locations": [
          {
           "page_index": 4
          }
         ],
         "page_indices": [
          4
         ],
         "reading_order": 7,
         "representation": {
          "markdown": "5"
         },
         "sub_type": "PAGE_NUMBER",
         "type": "TEXT"
        },
        {
         "id": "990f4663-86a6-4b0d-b92a-ded0289accd3",
         "locations": [
          {
           "page_index": 5
          }
         ],
         "reading_order": 0,
         "representation": {
          "markdown": "Figure 3. Monthly Receipts, Outlays, and Budget Deficit/Surplus of the U.S. Government, Fiscal Years 2024 and 2025\n\n2025\n\nReceipts\nOutlays\nDeficit(-)/Surplus"
         },
         "sub_type": "CHART",
         "title": "Figure 3. Monthly Receipts, Outlays, and Budget Deficit/Surplus of the U.S. Government, Fiscal Years 2024 and 2025",
         "type": "FIGURE"
        },
        {
         "id": "096c798f-96d7-4944-af9c-2fdf38dd5fe6",
         "locations": [
          {
           "page_index": 5
          }
         ],
         "reading_order": 1,
         "representation": {
          "markdown": "Figure 4. Monthly Receipts, Outlays, and Budget Deficit/Surplus of the U.S. Government, Cumulative, Fiscal Years 2024 and 2025\n\nReceipts\nOutlays\nDeficit(-)/Surplus"
         },
         "sub_type": "CHART",
         "title": "Figure 4. Monthly Receipts, Outlays, and Budget Deficit/Surplus of the U.S. Government, Cumulative, Fiscal Years 2024 and 2025",
         "type": "FIGURE"
        },
        {
         "footers": [],
         "headers": [
          "",
          "",
          "",
          "",
          "",
          "",
          "",
          "",
          "",
          "",
          "",
          "",
          "",
          "",
          ""
         ],
         "id": "21f7cf08-0928-496b-bc2e-b93f104de696",
         "locations": [
          {
           "page_index": 5
          }
         ],
         "reading_order": 2,
         "representation": {
          "markdown": "|           |    |    |    |    |    |    |    |    |    |    |    |    |    |    |\n|-----------|----|----|----|----|----|----|----|----|----|----|----|----|----|----|\n|           |    |    |    |    |    |    |    |    |    |    |    |    |    |    |\n| $1,000B   |    |    |    |    |    |    |    |    |    |    |    |    |    |    |\n|           |    |    |    |    |    |    |    |    |    |    |    |    |    |    |\n| $600B     |    |    |    |    |    |    |    |    |    |    |    |    |    |    |\n|           |    |    |    |    |    |    |    |    |    |    |    |    |    |    |\n| $200B     |    |    |    |    |    |    |    |    |    |    |    |    |    |    |\n|           |    |    |    |    |    |    |    |    |    |    |    |    |    |    |\n| ($200B)   |    |    |    |    |    |    |    |    |    |    |    |    |    |    |\n|           |    |    |    |    |    |    |    |    |    |    |    |    |    |    |\n| ($600B)   |    |    |    |    |    |    |    |    |    |    |    |    |    |    |\n|           |    |    |    |    |    |    |    |    |    |    |    |    |    |    |\n| ($1,000B) |    |    |    |    |    |    |    |    |    |    |    |    |    |    |\n| $200B     |    |    |    |    |    |    |    |    |    |    |    |    |    |    |\n| $0B       |    |    |    |    |    |    |    |    |    |    |    |    |    |    |\n| ($200B)   |    |    |    |    |    |    |    |    |    |    |    |    |    |    |\n| ($400B)   |    |    |    |    |    |    |    |    |    |    |    |    |    |    |\n| ($600B)   |    |    |    |    |    |    |    |    |    |    |    |    |    |    |\n|           |    |    |    |    |    |    |    |    |    |    |    |    |    |    |\n|           |    |    |    |    |    |    |    |    |    |    |    |    |    |    |"
         },
         "title": "",
         "type": "TABLE"
        },
        {
         "footers": [],
         "headers": [
          "",
          "",
          "",
          "",
          "",
          "",
          "",
          "",
          "",
          "",
          "",
          "",
          "",
          "",
          "",
          "",
          "",
          ""
         ],
         "id": "201e1d96-fdbc-4323-83bf-b9691252375d",
         "locations": [
          {
           "page_index": 5
          }
         ],
         "reading_order": 3,
         "representation": {
          "markdown": "|               |    |      |    |    |    |    |    |    |    |    |      |    |    |    |    |    |    |\n|---------------|----|------|----|----|----|----|----|----|----|----|------|----|----|----|----|----|----|\n|               |    | 2024 |    |    |    |    |    |    |    |    | 2025 |    |    |    |    |    |    |\n| $5,000B       |    |      |    |    |    |    |    |    |    |    |      |    |    |    |    |    |    |\n| $4,000B       |    |      |    |    |    |    |    |    |    |    |      |    |    |    |    |    |    |\n| $3,000B       |    |      |    |    |    |    |    |    |    |    |      |    |    |    |    |    |    |\n| $2,000B       |    |      |    |    |    |    |    |    |    |    |      |    |    |    |    |    |    |\n| $1,000B $0B   |    |      |    |    |    |    |    |    |    |    |      |    |    |    |    |    |    |\n| ($1,000B)     |    |      |    |    |    |    |    |    |    |    |      |    |    |    |    |    |    |\n| ($3,000B)     |    |      |    |    |    |    |    |    |    |    |      |    |    |    |    |    |    |\n| ($5,000B)     |    |      |    |    |    |    |    |    |    |    |      |    |    |    |    |    |    |\n| ($7,000B)     |    |      |    |    |    |    |    |    |    |    |      |    |    |    |    |    |    |\n| $0B ($1,000B) |    |      |    |    |    |    |    |    |    |    |      |    |    |    |    |    |    |\n|               |    |      |    |    |    |    |    |    |    |    |      |    |    |    |    |    |    |\n|               |    |      |    |    |    |    |    |    |    |    |      |    |    |    |    |    |    |"
         },
         "title": "",
         "type": "TABLE"
        },
        {
         "id": "2f87d073-55e5-4b9d-8508-ebbea0e3bd17",
         "locations": [
          {
           "page_index": 5
          }
         ],
         "page_indices": [
          5
         ],
         "reading_order": 4,
         "representation": {
          "markdown": "6"
         },
         "sub_type": "PAGE_NUMBER",
         "type": "TEXT"
        },
        {
         "id": "97de60ba-04b8-4fae-a72a-b3884487e8e3",
         "locations": [
          {
           "page_index": 5
          }
         ],
         "page_indices": [
          5
         ],
         "reading_order": 5,
         "representation": {
          "markdown": "Source data: Table 1"
         },
         "sub_type": "FOOTER",
         "type": "TEXT"
        },
        {
         "id": "4ced168f-68ec-44ce-acab-ee95d52446d3",
         "locations": [
          {
           "page_index": 6
          }
         ],
         "reading_order": 0,
         "representation": {
          "markdown": "Figure 5. Receipts of the U.S. Government, by Source, Fiscal Year 2025\n\nMonth of November 2024: $302B\n\n$4B $9B\n\n$10B\n\n$9B\n\n$131B\n\n$138B"
         },
         "sub_type": "CHART",
         "title": "Figure 5. Receipts of the U.S. Government, by Source, Fiscal Year 2025",
         "type": "FIGURE"
        },
        {
         "id": "302e6937-e394-4c7b-86b6-a08548145984",
         "locations": [
          {
           "page_index": 6
          }
         ],
         "reading_order": 1,
         "representation": {
          "markdown": "Fiscal Year 2025 to Date: $629B\n\n$7B$19B\n\n$20B\n\n$22B\n\n$254B\n\n$306B"
         },
         "sub_type": "CHART",
         "title": "Fiscal Year 2025 to Date: $629B",
         "type": "FIGURE"
        },
        {
         "id": "ed893a61-9b06-45e0-94fd-fb0895aa0a9a",
         "locations": [
          {
           "page_index": 6
          }
         ],
         "reading_order": 2,
         "representation": {
          "markdown": "Figure 6. Monthly Receipts of the U.S. Government, by Source, Fiscal Years 2024 and 2025\n\n$750B\n $700B\n $650B\n $600B\n $550B\n $500B\n $450B\n $400B\n $350B\n $300B\n $250B\n $200B\n $150B\n $100B\n $50B\n\nMiscellaneous Receipts\nExcise Taxes\nIndividual Income Taxes\n Other\nCorporation Income Taxes\nSocial Insurance and Retirement Receipts\n\n\"Other\" Includes: Customs Duties and Estate and Gift Taxes *Disclaimer: Other category is subject to change due to negative balances held. Note: Details may not add to totals due to rounding"
         },
         "sub_type": "CHART",
         "title": "Figure 6. Monthly Receipts of the U.S. Government, by Source, Fiscal Years 2024 and 2025\n\"Other\" Includes: Customs Duties and Estate and Gift Taxes *Disclaimer: Other category is subject to change due to negative balances held. Note: Details may not add to totals due to rounding",
         "type": "FIGURE"
        },
        {
         "id": "d25e9bf1-7d17-4fe0-ab8f-bdd64bb791ed",
         "locations": [
          {
           "page_index": 6
          }
         ],
         "page_indices": [
          6
         ],
         "reading_order": 3,
         "representation": {
          "markdown": "7"
         },
         "sub_type": "PAGE_NUMBER",
         "type": "TEXT"
        },
        {
         "id": "a3b246d0-2d02-40a7-b140-f971fbd1f27c",
         "locations": [
          {
           "page_index": 6
          }
         ],
         "page_indices": [
          6
         ],
         "reading_order": 4,
         "representation": {
          "markdown": "Source data: Table 9"
         },
         "sub_type": "FOOTER",
         "type": "TEXT"
        },
        {
         "id": "96b771e8-c069-4f53-a415-d97f2ff68b00",
         "locations": [
          {
           "page_index": 7
          }
         ],
         "reading_order": 0,
         "representation": {
          "markdown": "Figure 7. Outlays of the U.S. Government, by Source, Fiscal Year 2025\n\nMonth of November 2024: $669B\n\n$117B\n\n$125B\n\n$79B\n\n$76B\n\n$63B\n\n$80B\n\n*Disclaimer: Other category is subject to change due to negative balances held."
         },
         "sub_type": "CHART",
         "title": "Month of November 2024: $669B\nFigure 7. Outlays of the U.S. Government, by Source, Fiscal Year 2025\n*Disclaimer: Other category is subject to change due to negative balances held.",
         "type": "FIGURE"
        },
        {
         "id": "6f39b465-6c44-442a-8bf2-c183896f73fb",
         "locations": [
          {
           "page_index": 7
          }
         ],
         "reading_order": 1,
         "representation": {
          "markdown": "Figure 7. Outlays of the U.S. Government, by Source, Fiscal Year 2025\n\nFiscal Year 2025 to Date: $1,253B\n\n$185B\n\n$250B\n\n$160B\n\n$206B\n\n$179B\n\n$108B\n\n$165B\n\n*Disclaimer: Other category is subject to change due to negative balances held."
         },
         "sub_type": "CHART",
         "title": "Fiscal Year 2025 to Date: $1,253B\nFigure 7. Outlays of the U.S. Government, by Source, Fiscal Year 2025\n*Disclaimer: Other category is subject to change due to negative balances held.",
         "type": "FIGURE"
        },
        {
         "id": "0de6212f-2fea-48ee-8ebe-67f454f9794c",
         "locations": [
          {
           "page_index": 7
          }
         ],
         "reading_order": 2,
         "representation": {
          "markdown": "Figure 8. Monthly Outlays of the U.S. Government, by Source, Fiscal Years 2024 and 2025\n\n$1,000B\n\n$900B\n\n$800B\n\n$700B\n\n$600B\n\n$500B\n\n$400B\n\n$300B\n\n$200B\n\n$100B\n\n$0B\n\nSocial Security\nIncome Security\nNational Defense\nOther\n Medicare\nHealth\nNet Interest\n\n\"Other\" Includes: Administration of Justice, Agriculture, Community and Regional Development, Education, Training, Employment, and Social Services, Energy, General Government, General Science, Space, and Technology, International Affairs, Natural Resources and Environment, Transportation, Undistributed Offsetting Receipts, Veterans' Benefits and Services. Note: Details may not add to totals due to rounding"
         },
         "sub_type": "CHART",
         "title": "Figure 8. Monthly Outlays of the U.S. Government, by Source, Fiscal Years 2024 and 2025\n\"Other\" Includes: Administration of Justice, Agriculture, Community and Regional Development, Education, Training, Employment, and Social Services, Energy, General Government, General Science, Space, and Technology, International Affairs, Natural Resources and Environment, Transportation, Undistributed Offsetting Receipts, Veterans' Benefits and Services. Note: Details may not add to totals due to rounding",
         "type": "FIGURE"
        },
        {
         "id": "e3cc143e-976e-492e-b4db-473573b775a6",
         "locations": [
          {
           "page_index": 7
          }
         ],
         "page_indices": [
          7
         ],
         "reading_order": 3,
         "representation": {
          "markdown": "8"
         },
         "sub_type": "PAGE_NUMBER",
         "type": "TEXT"
        },
        {
         "id": "de7d5ca9-9c03-47bd-b0fa-b9d9631f9c1c",
         "locations": [
          {
           "page_index": 7
          }
         ],
         "page_indices": [
          7
         ],
         "reading_order": 4,
         "representation": {
          "markdown": "Source data: Table 9"
         },
         "sub_type": "FOOTER",
         "type": "TEXT"
        },
        {
         "id": "b8097374-4f0a-45ac-bf93-934bfa86a50c",
         "locations": [
          {
           "page_index": 8
          }
         ],
         "page_indices": [
          8
         ],
         "reading_order": 0,
         "representation": {
          "markdown": "Table 3. Summary of Receipts and Outlays of the U.S. Government, November 2024 and Other Periods"
         },
         "sub_type": "PARAGRAPH",
         "type": "TEXT"
        },
        {
         "footers": [
          "1 These estimates are based on the FY 2025 Mid-Session Review, released by the Office of Management and Budget on July 19, 2024.",
          "Note: Details may not add to totals due to rounding.",
          "No Transactions"
         ],
         "headers": [
          "Classification",
          "This Month",
          "Current Fiscal Year to Date",
          "Comparable Prior Period Year to Date",
          "Budget Estimates Full Fiscal Year 1"
         ],
         "id": "f7f2589e-ae66-40b1-88f8-4fa13b66c002",
         "locations": [
          {
           "page_index": 8
          }
         ],
         "reading_order": 1,
         "representation": {
          "markdown": "| Classification                                 | This Month   | Current Fiscal Year to Date   | Comparable Prior Period Year to Date   | Budget Estimates Full Fiscal Year 1   |\n|------------------------------------------------|--------------|-------------------------------|----------------------------------------|---------------------------------------|\n| Budget Receipts                                |              |                               |                                        |                                       |\n| Individual Income Taxes                        | 138,455      | 306,489                       | 346,801                                | 2,686,312                             |\n| Corporation Income Taxes                       | 9,338        | 22,209                        | 56,009                                 | 702,522                               |\n| Social Insurance and Retirement Receipts:      |              |                               |                                        |                                       |\n| Employment and General Retirement (Off-Budget) | 94,718       | 182,329                       | 169,423                                | 1,306,395                             |\n| Employment and General Retirement (On-Budget)  | 33,493       | 64,313                        | 59,411                                 | 552,154                               |\n| Unemployment Insurance                         | 2,619        | 5,769                         | 6,172                                  | 52,876                                |\n| Other Retirement                               | 652          | 1,360                         | 1,251                                  | 8,182                                 |\n| Excise Taxes                                   | 9,578        | 20,036                        | 14,954                                 | 115,950                               |\n| Estate and Gift Taxes                          | 2,244        | 5,021                         | 6,781                                  | 37,018                                |\n| Customs Duties                                 | 6,712        | 14,009                        | 13,199                                 | 63,276                                |\n| Miscellaneous Receipts                         | 3,946        | 6,990                         | 4,262                                  | 36,961                                |\n| Total Receipts                                 | 301,754      | 628,525                       | 678,264                                | 5,561,646                             |\n| (On-Budget)                                    | 207,036      | 446,196                       | 508,841                                | 4,255,251                             |\n| (Off-Budget)                                   | 94,718       | 182,329                       | 169,423                                | 1,306,395                             |\n| Budget Outlays                                 |              |                               |                                        |                                       |\n| Legislative Branch                             | 625          | 1,258                         | 1,235                                  | 7,636                                 |\n| Judicial Branch                                | 754          | 1,555                         | 1,535                                  | 10,348                                |\n| Department of Agriculture                      | 22,222       | 47,026                        | 40,330                                 | 228,347                               |\n| Department of Commerce                         | 2,824        | 4,091                         | 1,874                                  | 33,523                                |\n| Department of Defense--Military Programs       | 72,329       | 171,480                       | 149,709                                | 879,758                               |\n| Department of Education                        | 9,370        | 31,933                        | 30,642                                 | 157,959                               |\n| Department of Energy                           | 4,116        | 9,078                         | 8,166                                  | 63,466                                |\n| Department of Health and Human Services        | 201,203      | 352,880                       | 241,511                                | 1,868,528                             |\n| Department of Homeland Security                | 9,552        | 19,259                        | 14,808                                 | 88,192                                |\n| Department of Housing and Urban Development    | 5,837        | 11,352                        | 11,266                                 | 77,742                                |\n| Department of the Interior                     | 2,430        | 3,960                         | 3,004                                  | 22,757                                |\n| Department of Justice                          | 3,332        | 6,200                         | 7,480                                  | 50,967                                |\n| Department of Labor                            | 5,416        | 5,215                         | 3,002                                  | 62,477                                |\n| Department of State                            | 2,927        | 5,992                         | 5,309                                  | 37,623                                |\n| Department of Transportation                   | 9,243        | 19,012                        | 18,650                                 | 130,604                               |\n| Department of the Treasury:                    |              |                               |                                        |                                       |\n| Interest on Treasury Debt Securities (Gross)   | 86,593       | 168,591                       | 168,849                                | 1,218,526                             |\n| Other                                          | 15,539       | 30,044                        | 21,077                                 | 417,012                               |\n| Department of Veterans Affairs                 | 44,348       | 74,952                        | 40,485                                 | 388,623                               |\n| Corps of Engineers                             | 981          | 2,778                         | 2,366                                  | 7,812                                 |\n| Other Defense Civil Programs                   | 12,647       | 19,677                        | 4,465                                  | 79,245                                |\n| Environmental Protection Agency                | 17,119       | 18,148                        | 1,926                                  | 39,669                                |\n| Executive Office of the President              | 32           | 73                            | 94                                     | 603                                   |\n| General Services Administration                | -204         | 108                           | 19                                     | 2,434                                 |\n| International Assistance Programs              | 2,233        | 4,984                         | 7,523                                  | 45,189                                |\n| National Aeronautics and Space Administration  | 2,066        | 4,243                         | 4,228                                  | 24,707                                |\n| National Science Foundation                    | 728          | 1,521                         | 1,376                                  | 10,658                                |\n| Office of Personnel Management                 | 11,334       | 23,236                        | 21,732                                 | 132,456                               |\n| Small Business Administration                  | -1           | 239                           | 325                                    | 1,610                                 |\n| Social Security Administration                 | 135,136      | 265,261                       | 239,138                                | 1,628,325                             |\n| Independent Agencies                           | 2,114        | 6,497                         | 73,142                                 | 3,437                                 |\n| Allowances                                     | ......       | ......                        | ......                                 | 38,752                                |\n| Undistributed Offsetting Receipts:             |              |                               |                                        |                                       |\n| Interest                                       | -5,542       | -5,982                        | -16,671                                | -169,803                              |\n| Other                                          | -8,786       | -51,920                       | -49,754                                | -149,887                              |\n| Total Outlays                                  | 668,517      | 1,252,738                     | 1,058,839                              | 7,439,295                             |\n| (On-Budget)                                    | 546,637      | 1,021,999                     | 842,116                                | 6,035,465                             |\n| (Off-Budget)                                   | 121,880      | 230,739                       | 216,723                                | 1,403,830                             |\n| Surplus (+) or Deficit (-)                     | -366,763     | -624,213                      | -380,576                               | -1,877,649                            |\n| (On-Budget)                                    | -339,601     | -575,803                      | -333,276                               | -1,780,214                            |\n| (Off-Budget)                                   | -27,162      | -48,410                       | -47,300                                | -97,435                               |"
         },
         "title": "Table 3. Summary of Receipts and Outlays of the U.S. Government, November 2024 and Other Periods\n\n[$ millions]",
         "type": "TABLE"
        },
        {
         "id": "74f9b2b6-0122-4b0b-a5d7-808c881e7c5b",
         "locations": [
          {
           "page_index": 8
          }
         ],
         "page_indices": [
          8
         ],
         "reading_order": 2,
         "representation": {
          "markdown": "[$ millions]"
         },
         "sub_type": "PARAGRAPH",
         "type": "TEXT"
        },
        {
         "id": "056fb8d7-6d7f-4505-b277-8de372585441",
         "locations": [
          {
           "page_index": 8
          }
         ],
         "page_indices": [
          8
         ],
         "reading_order": 3,
         "representation": {
          "markdown": "1 These estimates are based on the FY 2025 Mid-Session Review, released by the Office of Management and Budget on July 19, 2024."
         },
         "sub_type": "PARAGRAPH",
         "type": "TEXT"
        },
        {
         "id": "bd1deb64-6fb7-4145-b7ac-0472bef2cceb",
         "locations": [
          {
           "page_index": 8
          }
         ],
         "page_indices": [
          8
         ],
         "reading_order": 4,
         "representation": {
          "markdown": "Note: Details may not add to totals due to rounding. No Transactions"
         },
         "sub_type": "PARAGRAPH",
         "type": "TEXT"
        },
        {
         "id": "2d903e81-ed8b-4c58-9334-52b5ca75ecf2",
         "locations": [
          {
           "page_index": 8
          }
         ],
         "page_indices": [
          8
         ],
         "reading_order": 5,
         "representation": {
          "markdown": "9"
         },
         "sub_type": "PAGE_NUMBER",
         "type": "TEXT"
        }
       ],
       "metadata": {
        "asset_id": "0",
        "end_page_index": 8,
        "logical_subdocument_id": "0",
        "number_of_pages": 9,
        "s3_bucket": "genai.octankmarkets.com",
        "s3_key": "input/MonthlyTreasuryStatement.pdf",
        "semantic_modality": "DOCUMENT",
        "start_page_index": 0
       },
       "pages": [
        {
         "asset_metadata": {
          "corners": [
           [
            -0.015452651977539063,
            -0.02267850702459162
           ],
           [
            0.9999999042585784,
            -2.2772113549184393e-08
           ],
           [
            1.007862668504902,
            1.0048931699810606
           ],
           [
            2.6464486818797158e-08,
            0.9999998520359848
           ]
          ],
          "rectified_image_height_pixels": 3375,
          "rectified_image_width_pixels": 2590
         },
         "id": "370311ec-e147-4e96-bf07-c8ec46d883f1",
         "page_index": 0,
         "representation": {
          "markdown": "# U.S. DEPARTMENT OF THE TREASURY\n\n# BUREAU OF THE FISCAL SERVICE\n\n|\n\n# Monthly Treasury Statement\n\nReceipts and Outlays of the United States Government\n\nFor Fiscal Year 2025 Through November 30, 2024, and Other Periods\n\n![](./b43a7e5f-2fd5-43b5-b956-117b8a9b25ae.png)\n \n\n![](./8fe5c78a-0c6e-4d11-8634-ac281ec51e38.png)\n TREASURY\n\nTHE"
         },
         "statistics": {
          "element_count": 8,
          "figure_count": 2,
          "table_count": 0
         }
        },
        {
         "asset_metadata": {
          "corners": [
           [
            3.799802667059589e-08,
            -0.0010792303085327148
           ],
           [
            1.000000478707108,
            0.0007044799400098396
           ],
           [
            1.000424134497549,
            1.0015260268702653
           ],
           [
            -3.518205939554701e-05,
            0.9992504142992424
           ]
          ],
          "rectified_image_height_pixels": 3302,
          "rectified_image_width_pixels": 2551
         },
         "id": "790c54bb-38ba-4786-81bf-1958fb1bf3ff",
         "page_index": 1,
         "representation": {
          "markdown": ""
         },
         "statistics": {
          "element_count": 0,
          "figure_count": 0,
          "table_count": 0
         }
        },
        {
         "asset_metadata": {
          "corners": [
           [
            -0.0003637964818991867,
            2.9838056158923515e-08
           ],
           [
            0.9999999042585784,
            -8.201851989283706e-05
           ],
           [
            1.0007419960171569,
            1.000110233191288
           ],
           [
            5.1406700638871565e-08,
            1
           ]
          ],
          "rectified_image_height_pixels": 3300,
          "rectified_image_width_pixels": 2551
         },
         "id": "a0fbb0b7-4155-4d2b-966d-147bab549624",
         "page_index": 2,
         "representation": {
          "markdown": "## Highlight\n\nThe scheduled Monthly Treasury Statement release dates for 2025 are listed on the back of this publication.\n\nNovember has been a deficit month 70 times out of 71 fiscal years since there are no major tax due dates in this month.\n\nOutlays for military active duty and retirement, veterans benefits, Supplemental Security Income, and Medicare payments to health maintenance organizations and prescription drug plans accelerated into November, because December 1, 2024, the normal payment date, fell on a non-business day.\n\n## Contents\n\n|                                        |         |\n|----------------------------------------|---------|\n| Summary                                | Page 5  |\n| Receipts                               | Page 10 |\n| Outlays                                | Page 11 |\n| Means of Financing                     | Page 25 |\n| Receipts/Outlays by Month              | Page 35 |\n| Federal Trust Funds/ Securities        | Page 37 |\n| Receipts by Source/Outlays by Function | Page 38 |\n| Explanatory Notes                      | Page 39 |\n\n## Introduction\n\nThe Monthly Treasury Statement of Receipts and Outlays of the United States Government (MTS) is prepared by the Bureau of the Fiscal Service, Department of the Treasury and, after approval by the Fiscal Assistant Secretary of the Treasury, is normally released on the 8th workday of the month following the reporting month. The publication is based on data provided by Federal entities, disbursing officers, and Federal Reserve banks.\n\n## AUDIENCE\n\nThe MTS is published to meet the needs of those responsible for or interested in the cash position of the Treasury, those who are responsible or interested in the Government's budget results; and individuals and businesses whose operations depend upon or are related to the Government's financial operations.\n\n## DISCLOSURE STATEMENT\n\nThis statement summarizes the financial activities of the Federal Government and off-budget Federal entities conducted in accordance with the Budget of the U.S. Government, i.e., receipts and outlays of funds, the surplus or deficit, and the means of financing the deficit or disposing of the surplus. Information is presented on a modified cash basis; receipts are accounted for on the basis of collections; refunds of receipts are treated as deductions from gross receipts; revolving and management fund receipts, reimbursements and refunds of monies previously expended are treated as deductions from gross outlays; and interest on the public debt (public issues) is recognized on the accrual basis. Major information sources include accounting data reported by Federal entities, disbursing officers, and Federal Reserve banks.\n\n## TRIAD OF PUBLICATIONS\n\nThe MTS is part of a triad of Treasury financial reports. The Daily Treasury Statement is published each working day of the Federal Government. It provides data on the cash and debt operations of the Treasury based upon reporting of the Treasury account balances by Federal Reserve banks. The MTS is a report of Government receipts and outlays, based on agency reporting. The Combined Statement of Receipts, Outlays, and Balances of the United States Government is the official publication of the detailed receipts and outlays of the Government. It is published annually in accordance with legislative mandates given to the Secretary of the Treasury.\n\n## DATA SOURCES AND INFORMATION\n\nThe Explanatory Notes section of this publication provides information concerning the flow of data into the MTS and sources of information relevant to the MTS.\n\n3"
         },
         "statistics": {
          "element_count": 17,
          "figure_count": 0,
          "table_count": 1
         }
        },
        {
         "asset_metadata": {
          "corners": [
           [
            -0.0007418060770221785,
            -0.0010379446636546742
           ],
           [
            1,
            7.321708130114007e-05
           ],
           [
            1.0010420496323529,
            1.0012447472774622
           ],
           [
            -6.742727504495313e-08,
            1.0000001479640153
           ]
          ],
          "rectified_image_height_pixels": 3303,
          "rectified_image_width_pixels": 2552
         },
         "id": "affaedc1-1ee8-4271-a53c-7463849372a7",
         "page_index": 3,
         "representation": {
          "markdown": "Figure 1. Receipts, Outlays, and Surplus/Deficit for November 2024\n\nFigure 2. Cumulative Receipts, Outlays, and Surplus/Deficit through Fiscal Year 2025\n\n| Receipts by Source:                 | Total Receipts $302 Billion     | Total Outlays $669 Billion   | Outlays by Function:    | Outlays by Function:                                          |\n|-------------------------------------|---------------------------------|------------------------------|-------------------------|---------------------------------------------------------------|\n| Individual Income Taxes             | $138 Billion                    |                              | $129 Billion            | Medicare                                                      |\n|                                     |                                 |                              | $125 Billion            | Social Security                                               |\n| Social Insurance & Retirement       | $131 Billion                    |                              | $80 Billion             | Health                                                        |\n| Excise Taxes                        | $10 Billion                     |                              | $79 Billion             | Net Interest                                                  |\n| Corporation Income Taxes            | $9 Billion                      |                              | $76 Billion             | National Defense                                              |\n| Customs Duties                      | Deficit $7 Billion $367 Billion |                              | $63 Billion             | Income Security                                               |\n|                                     | $4 Billion                      |                              | $44 Billion $22 Billion | Veterans' Benefits & Services Natural Resources & Environment |\n| Miscellaneous Estate and Gift Taxes | $2 Billion                      |                              | $12 Billion $38 Billion | Education Other                                               |\n\n|                               |                             |                              |                         |                                           |\n|-------------------------------|-----------------------------|------------------------------|-------------------------|-------------------------------------------|\n| Receipts by Source:           |                             |                              | Outlays by Function:    |                                           |\n|                               | Total Receipts $629 Billion | Total Outlays $1,253 Billion |                         |                                           |\n| Individual Income Taxes       | $306 Billion                |                              | $250 Billion            | Social Security                           |\n|                               |                             |                              | $206 Billion            | Medicare                                  |\n| Social Insurance & Retirement | $254 Billion                |                              | $179 Billion            | National Defense                          |\n| Corporation Income Taxes      | $22 Billion                 |                              | $165 Billion            | Health                                    |\n| Excise Taxes                  | $20 Billion Deficit         |                              | $160 Billion            | Net Interest                              |\n|                               | $14 Billion $624 Billion    |                              | $108 Billion            | Income Security                           |\n| Customs Duties                |                             |                              | $75 Billion             | Veterans' Benefits & Services             |\n| Miscellaneous                 | $7 Billion                  |                              | $38 Billion $28 Billion | Education Natural Resources & Environment |\n| Estate and Gift Taxes         | $5 Billion                  |                              | $43 Billion             | Other                                     |\n\n4\n\nSource data: Table 9"
         },
         "statistics": {
          "element_count": 5,
          "figure_count": 1,
          "table_count": 2
         }
        },
        {
         "asset_metadata": {
          "corners": [
           [
            -0.0008890140757841223,
            6.738652926728581e-07
           ],
           [
            0.9999990425857843,
            -0.0007579908948956113
           ],
           [
            1.0012889667585785,
            0.9999994081439394
           ],
           [
            4.0281856176899927e-07,
            1.0005431019176136
           ]
          ],
          "rectified_image_height_pixels": 3302,
          "rectified_image_width_pixels": 2553
         },
         "id": "881662fc-7171-4408-8755-d25a5d8cf0ed",
         "page_index": 4,
         "representation": {
          "markdown": "Table 1. Summary of Receipts, Outlays, and the Deficit/Surplus of the U.S. Government, Fiscal Years 2024 and 2025, by Month [$ millions]\n\n| Period       | Receipts   | Outlays   | Deficit/Surplus (-)   |\n|--------------|------------|-----------|-----------------------|\n| FY 2024      |            |           |                       |\n| October      | 403,434    | 469,997   | 66,564                |\n| November     | 274,830    | 588,842   | 314,012               |\n| December     | 429,311    | 558,665   | 129,354               |\n| January      | 477,320    | 499,250   | 21,930                |\n| February     | 271,126    | 567,401   | 296,275               |\n| March        | 332,079    | 568,635   | 236,556               |\n| April        | 776,198    | 566,669   | -209,529              |\n| May          | 323,647    | 670,778   | 347,131               |\n| June         | 466,255    | 537,220   | 70,965                |\n| July         | 330,377    | 574,119   | 243,741               |\n| August       | 306,540    | 686,620   | 380,080               |\n| September    | 526,988    | 462,290   | -64,698               |\n| Year-to-Date | 4,918,104  | 6,750,485 | 1,832,381             |\n| FY 2025      |            |           |                       |\n| October      | 326,770    | 584,221   | 257,450               |\n| November     | 301,754    | 668,517   | 366,763               |\n| Year-to-Date | 628,525    | 1,252,738 | 624,213               |\n\nNote: Details may not add to totals due to rounding.\n\nTable 2. Summary of Budget and Off-Budget Results and Financing of the U.S. Government, November 2024 and Other Periods [$ millions]\n\n| Classification                            | This Month   | Current Fiscal Year to Date   | Budget Estimates Full Fiscal Year 1   | Comparable Prior Period Year to Date (2024)   | Budget Estimates Next Fiscal Year (2026) 1   |\n|-------------------------------------------|--------------|-------------------------------|---------------------------------------|-----------------------------------------------|----------------------------------------------|\n| Total On-Budget and Off-Budget Results:   |              |                               |                                       |                                               |                                              |\n| Total Receipts                            | 301,754      | 628,525                       | 5,561,646                             | 678,264                                       | 6,011,381                                    |\n| On-Budget Receipts                        | 207,036      | 446,196                       | 4,255,251                             | 508,841                                       | 4,644,964                                    |\n| Off-Budget Receipts                       | 94,718       | 182,329                       | 1,306,395                             | 169,423                                       | 1,366,417                                    |\n| Total Outlays                             | 668,517      | 1,252,738                     | 7,439,295                             | 1,058,839                                     | 7,612,734                                    |\n| On-Budget Outlays                         | 546,637      | 1,021,999                     | 6,035,465                             | 842,116                                       | 6,124,968                                    |\n| Off-Budget Outlays                        | 121,880      | 230,739                       | 1,403,830                             | 216,723                                       | 1,487,766                                    |\n| Total Surplus (+) or Deficit (-)          | -366,763     | -624,213                      | -1,877,649                            | -380,576                                      | -1,601,353                                   |\n| On-Budget Surplus (+) or Deficit (-)      | -339,601     | -575,803                      | -1,780,214                            | -333,276                                      | -1,480,004                                   |\n| Off-Budget Surplus (+) or Deficit (-)     | -27,162      | -48,410                       | -97,435                               | -47,300                                       | -121,349                                     |\n| Total On-Budget and Off-Budget Financing  | 366,763      | 624,213                       | 1,877,649                             | 380,576                                       | 1,601,353                                    |\n| Means of Financing:                       |              |                               |                                       |                                               |                                              |\n| Borrowing from the Public                 | 221,295      | 483,466                       | 1,901,128                             | 487,108                                       | 1,695,149                                    |\n| Reduction of Operating Cash, Increase (-) | 164,163      | 128,847                       | ......                                | -101,962                                      | ......                                       |\n| By Other Means                            | -18,695      | 11,900                        | -23,479                               | -4,570                                        | -93,796                                      |\n\n1 These estimates are based on the FY 2025 Mid-Session Review, released by the Office of Management and Budget on July 19, 2024.\n\nNote: Details may not add to totals due to rounding. No Transactions\n\n5"
         },
         "statistics": {
          "element_count": 8,
          "figure_count": 0,
          "table_count": 2
         }
        },
        {
         "asset_metadata": {
          "corners": [
           [
            -0.0038712142495548026,
            0.0025687047206994257
           ],
           [
            0.9983738319546569,
            0.0006890895149924539
           ],
           [
            1.0089509612438725,
            0.9999746981534091
           ],
           [
            0.004539032356411803,
            1.002816347064394
           ]
          ],
          "rectified_image_height_pixels": 3300,
          "rectified_image_width_pixels": 2561
         },
         "id": "4b077256-704b-4623-808e-5cc72bf20407",
         "page_index": 5,
         "representation": {
          "markdown": "Figure 3. Monthly Receipts, Outlays, and Budget Deficit/Surplus of the U.S. Government, Fiscal Years 2024 and 2025\n\n2025\n\nReceipts\nOutlays\nDeficit(-)/Surplus\n\nFigure 4. Monthly Receipts, Outlays, and Budget Deficit/Surplus of the U.S. Government, Cumulative, Fiscal Years 2024 and 2025\n\nReceipts\nOutlays\nDeficit(-)/Surplus\n\n|           |    |    |    |    |    |    |    |    |    |    |    |    |    |    |\n|-----------|----|----|----|----|----|----|----|----|----|----|----|----|----|----|\n|           |    |    |    |    |    |    |    |    |    |    |    |    |    |    |\n| $1,000B   |    |    |    |    |    |    |    |    |    |    |    |    |    |    |\n|           |    |    |    |    |    |    |    |    |    |    |    |    |    |    |\n| $600B     |    |    |    |    |    |    |    |    |    |    |    |    |    |    |\n|           |    |    |    |    |    |    |    |    |    |    |    |    |    |    |\n| $200B     |    |    |    |    |    |    |    |    |    |    |    |    |    |    |\n|           |    |    |    |    |    |    |    |    |    |    |    |    |    |    |\n| ($200B)   |    |    |    |    |    |    |    |    |    |    |    |    |    |    |\n|           |    |    |    |    |    |    |    |    |    |    |    |    |    |    |\n| ($600B)   |    |    |    |    |    |    |    |    |    |    |    |    |    |    |\n|           |    |    |    |    |    |    |    |    |    |    |    |    |    |    |\n| ($1,000B) |    |    |    |    |    |    |    |    |    |    |    |    |    |    |\n| $200B     |    |    |    |    |    |    |    |    |    |    |    |    |    |    |\n| $0B       |    |    |    |    |    |    |    |    |    |    |    |    |    |    |\n| ($200B)   |    |    |    |    |    |    |    |    |    |    |    |    |    |    |\n| ($400B)   |    |    |    |    |    |    |    |    |    |    |    |    |    |    |\n| ($600B)   |    |    |    |    |    |    |    |    |    |    |    |    |    |    |\n|           |    |    |    |    |    |    |    |    |    |    |    |    |    |    |\n|           |    |    |    |    |    |    |    |    |    |    |    |    |    |    |\n\n|               |    |      |    |    |    |    |    |    |    |    |      |    |    |    |    |    |    |\n|---------------|----|------|----|----|----|----|----|----|----|----|------|----|----|----|----|----|----|\n|               |    | 2024 |    |    |    |    |    |    |    |    | 2025 |    |    |    |    |    |    |\n| $5,000B       |    |      |    |    |    |    |    |    |    |    |      |    |    |    |    |    |    |\n| $4,000B       |    |      |    |    |    |    |    |    |    |    |      |    |    |    |    |    |    |\n| $3,000B       |    |      |    |    |    |    |    |    |    |    |      |    |    |    |    |    |    |\n| $2,000B       |    |      |    |    |    |    |    |    |    |    |      |    |    |    |    |    |    |\n| $1,000B $0B   |    |      |    |    |    |    |    |    |    |    |      |    |    |    |    |    |    |\n| ($1,000B)     |    |      |    |    |    |    |    |    |    |    |      |    |    |    |    |    |    |\n| ($3,000B)     |    |      |    |    |    |    |    |    |    |    |      |    |    |    |    |    |    |\n| ($5,000B)     |    |      |    |    |    |    |    |    |    |    |      |    |    |    |    |    |    |\n| ($7,000B)     |    |      |    |    |    |    |    |    |    |    |      |    |    |    |    |    |    |\n| $0B ($1,000B) |    |      |    |    |    |    |    |    |    |    |      |    |    |    |    |    |    |\n|               |    |      |    |    |    |    |    |    |    |    |      |    |    |    |    |    |    |\n|               |    |      |    |    |    |    |    |    |    |    |      |    |    |    |    |    |    |\n\n6\n\nSource data: Table 1"
         },
         "statistics": {
          "element_count": 6,
          "figure_count": 1,
          "table_count": 2
         }
        },
        {
         "asset_metadata": {
          "corners": [
           [
            -0.000702359769858566,
            4.152134131414421e-07
           ],
           [
            0.999999329810049,
            -0.0005911687648657597
           ],
           [
            1.0009532015931373,
            0.9999995561079545
           ],
           [
            3.211333772496266e-07,
            1.0004597981770833
           ]
          ],
          "rectified_image_height_pixels": 3301,
          "rectified_image_width_pixels": 2552
         },
         "id": "bf301611-7dd1-428d-a7b1-17ca12b08f9e",
         "page_index": 6,
         "representation": {
          "markdown": "Figure 5. Receipts of the U.S. Government, by Source, Fiscal Year 2025\n\nMonth of November 2024: $302B\n\n$4B $9B\n\n$10B\n\n$9B\n\n$131B\n\n$138B\n\nFiscal Year 2025 to Date: $629B\n\n$7B$19B\n\n$20B\n\n$22B\n\n$254B\n\n$306B\n\nFigure 6. Monthly Receipts of the U.S. Government, by Source, Fiscal Years 2024 and 2025\n\n$750B\n $700B\n $650B\n $600B\n $550B\n $500B\n $450B\n $400B\n $350B\n $300B\n $250B\n $200B\n $150B\n $100B\n $50B\n\nMiscellaneous Receipts\nExcise Taxes\nIndividual Income Taxes\n Other\nCorporation Income Taxes\nSocial Insurance and Retirement Receipts\n\n\"Other\" Includes: Customs Duties and Estate and Gift Taxes *Disclaimer: Other category is subject to change due to negative balances held. Note: Details may not add to totals due to rounding\n\n7\n\nSource data: Table 9"
         },
         "statistics": {
          "element_count": 5,
          "figure_count": 1,
          "table_count": 0
         }
        },
        {
         "asset_metadata": {
          "corners": [
           [
            -0.0005737702519285913,
            0.0005797972101153749
           ],
           [
            0.999998659620098,
            -0.0012470803116307115
           ],
           [
            1.0009629672181373,
            0.9999984463778409
           ],
           [
            9.754398728118222e-07,
            1.00188232421875
           ]
          ],
          "rectified_image_height_pixels": 3304,
          "rectified_image_width_pixels": 2552
         },
         "id": "644caf84-4ce7-40d6-9809-3c01f9bff689",
         "page_index": 7,
         "representation": {
          "markdown": "Figure 7. Outlays of the U.S. Government, by Source, Fiscal Year 2025\n\nMonth of November 2024: $669B\n\n$117B\n\n$125B\n\n$79B\n\n$76B\n\n$63B\n\n$80B\n\n*Disclaimer: Other category is subject to change due to negative balances held.\n\nFigure 7. Outlays of the U.S. Government, by Source, Fiscal Year 2025\n\nFiscal Year 2025 to Date: $1,253B\n\n$185B\n\n$250B\n\n$160B\n\n$206B\n\n$179B\n\n$108B\n\n$165B\n\n*Disclaimer: Other category is subject to change due to negative balances held.\n\nFigure 8. Monthly Outlays of the U.S. Government, by Source, Fiscal Years 2024 and 2025\n\n$1,000B\n\n$900B\n\n$800B\n\n$700B\n\n$600B\n\n$500B\n\n$400B\n\n$300B\n\n$200B\n\n$100B\n\n$0B\n\nSocial Security\nIncome Security\nNational Defense\nOther\n Medicare\nHealth\nNet Interest\n\n\"Other\" Includes: Administration of Justice, Agriculture, Community and Regional Development, Education, Training, Employment, and Social Services, Energy, General Government, General Science, Space, and Technology, International Affairs, Natural Resources and Environment, Transportation, Undistributed Offsetting Receipts, Veterans' Benefits and Services. Note: Details may not add to totals due to rounding\n\n8\n\nSource data: Table 9"
         },
         "statistics": {
          "element_count": 5,
          "figure_count": 1,
          "table_count": 0
         }
        },
        {
         "asset_metadata": {
          "corners": [
           [
            -0.00039238882999794155,
            1.109452833506194e-07
           ],
           [
            0.9999996170343137,
            -0.0003864985885042133
           ],
           [
            1.0006444355085784,
            0.9999998520359848
           ],
           [
            9.997766099724115e-08,
            1.0001807380445076
           ]
          ],
          "rectified_image_height_pixels": 3301,
          "rectified_image_width_pixels": 2551
         },
         "id": "3a9fa8aa-985c-4365-8319-7ad4ba9f0dda",
         "page_index": 8,
         "representation": {
          "markdown": "Table 3. Summary of Receipts and Outlays of the U.S. Government, November 2024 and Other Periods\n\n| Classification                                 | This Month   | Current Fiscal Year to Date   | Comparable Prior Period Year to Date   | Budget Estimates Full Fiscal Year 1   |\n|------------------------------------------------|--------------|-------------------------------|----------------------------------------|---------------------------------------|\n| Budget Receipts                                |              |                               |                                        |                                       |\n| Individual Income Taxes                        | 138,455      | 306,489                       | 346,801                                | 2,686,312                             |\n| Corporation Income Taxes                       | 9,338        | 22,209                        | 56,009                                 | 702,522                               |\n| Social Insurance and Retirement Receipts:      |              |                               |                                        |                                       |\n| Employment and General Retirement (Off-Budget) | 94,718       | 182,329                       | 169,423                                | 1,306,395                             |\n| Employment and General Retirement (On-Budget)  | 33,493       | 64,313                        | 59,411                                 | 552,154                               |\n| Unemployment Insurance                         | 2,619        | 5,769                         | 6,172                                  | 52,876                                |\n| Other Retirement                               | 652          | 1,360                         | 1,251                                  | 8,182                                 |\n| Excise Taxes                                   | 9,578        | 20,036                        | 14,954                                 | 115,950                               |\n| Estate and Gift Taxes                          | 2,244        | 5,021                         | 6,781                                  | 37,018                                |\n| Customs Duties                                 | 6,712        | 14,009                        | 13,199                                 | 63,276                                |\n| Miscellaneous Receipts                         | 3,946        | 6,990                         | 4,262                                  | 36,961                                |\n| Total Receipts                                 | 301,754      | 628,525                       | 678,264                                | 5,561,646                             |\n| (On-Budget)                                    | 207,036      | 446,196                       | 508,841                                | 4,255,251                             |\n| (Off-Budget)                                   | 94,718       | 182,329                       | 169,423                                | 1,306,395                             |\n| Budget Outlays                                 |              |                               |                                        |                                       |\n| Legislative Branch                             | 625          | 1,258                         | 1,235                                  | 7,636                                 |\n| Judicial Branch                                | 754          | 1,555                         | 1,535                                  | 10,348                                |\n| Department of Agriculture                      | 22,222       | 47,026                        | 40,330                                 | 228,347                               |\n| Department of Commerce                         | 2,824        | 4,091                         | 1,874                                  | 33,523                                |\n| Department of Defense--Military Programs       | 72,329       | 171,480                       | 149,709                                | 879,758                               |\n| Department of Education                        | 9,370        | 31,933                        | 30,642                                 | 157,959                               |\n| Department of Energy                           | 4,116        | 9,078                         | 8,166                                  | 63,466                                |\n| Department of Health and Human Services        | 201,203      | 352,880                       | 241,511                                | 1,868,528                             |\n| Department of Homeland Security                | 9,552        | 19,259                        | 14,808                                 | 88,192                                |\n| Department of Housing and Urban Development    | 5,837        | 11,352                        | 11,266                                 | 77,742                                |\n| Department of the Interior                     | 2,430        | 3,960                         | 3,004                                  | 22,757                                |\n| Department of Justice                          | 3,332        | 6,200                         | 7,480                                  | 50,967                                |\n| Department of Labor                            | 5,416        | 5,215                         | 3,002                                  | 62,477                                |\n| Department of State                            | 2,927        | 5,992                         | 5,309                                  | 37,623                                |\n| Department of Transportation                   | 9,243        | 19,012                        | 18,650                                 | 130,604                               |\n| Department of the Treasury:                    |              |                               |                                        |                                       |\n| Interest on Treasury Debt Securities (Gross)   | 86,593       | 168,591                       | 168,849                                | 1,218,526                             |\n| Other                                          | 15,539       | 30,044                        | 21,077                                 | 417,012                               |\n| Department of Veterans Affairs                 | 44,348       | 74,952                        | 40,485                                 | 388,623                               |\n| Corps of Engineers                             | 981          | 2,778                         | 2,366                                  | 7,812                                 |\n| Other Defense Civil Programs                   | 12,647       | 19,677                        | 4,465                                  | 79,245                                |\n| Environmental Protection Agency                | 17,119       | 18,148                        | 1,926                                  | 39,669                                |\n| Executive Office of the President              | 32           | 73                            | 94                                     | 603                                   |\n| General Services Administration                | -204         | 108                           | 19                                     | 2,434                                 |\n| International Assistance Programs              | 2,233        | 4,984                         | 7,523                                  | 45,189                                |\n| National Aeronautics and Space Administration  | 2,066        | 4,243                         | 4,228                                  | 24,707                                |\n| National Science Foundation                    | 728          | 1,521                         | 1,376                                  | 10,658                                |\n| Office of Personnel Management                 | 11,334       | 23,236                        | 21,732                                 | 132,456                               |\n| Small Business Administration                  | -1           | 239                           | 325                                    | 1,610                                 |\n| Social Security Administration                 | 135,136      | 265,261                       | 239,138                                | 1,628,325                             |\n| Independent Agencies                           | 2,114        | 6,497                         | 73,142                                 | 3,437                                 |\n| Allowances                                     | ......       | ......                        | ......                                 | 38,752                                |\n| Undistributed Offsetting Receipts:             |              |                               |                                        |                                       |\n| Interest                                       | -5,542       | -5,982                        | -16,671                                | -169,803                              |\n| Other                                          | -8,786       | -51,920                       | -49,754                                | -149,887                              |\n| Total Outlays                                  | 668,517      | 1,252,738                     | 1,058,839                              | 7,439,295                             |\n| (On-Budget)                                    | 546,637      | 1,021,999                     | 842,116                                | 6,035,465                             |\n| (Off-Budget)                                   | 121,880      | 230,739                       | 216,723                                | 1,403,830                             |\n| Surplus (+) or Deficit (-)                     | -366,763     | -624,213                      | -380,576                               | -1,877,649                            |\n| (On-Budget)                                    | -339,601     | -575,803                      | -333,276                               | -1,780,214                            |\n| (Off-Budget)                                   | -27,162      | -48,410                       | -47,300                                | -97,435                               |\n\n[$ millions]\n\n1 These estimates are based on the FY 2025 Mid-Session Review, released by the Office of Management and Budget on July 19, 2024.\n\nNote: Details may not add to totals due to rounding. No Transactions\n\n9"
         },
         "statistics": {
          "element_count": 6,
          "figure_count": 0,
          "table_count": 1
         }
        }
       ]
      },
      "text/plain": [
       "<IPython.core.display.JSON object>"
      ]
     },
     "execution_count": 19,
     "metadata": {
      "application/json": {
       "expanded": true,
       "root": "root"
      }
     },
     "output_type": "execute_result"
    }
   ],
   "source": [
    "JSON(standard_output, expanded=True)"
   ]
  },
  {
   "cell_type": "markdown",
   "id": "43b2ff25-4253-46e7-a04a-c45d2fc33151",
   "metadata": {},
   "source": [
    "#### TABLE element"
   ]
  },
  {
   "cell_type": "code",
   "execution_count": 17,
   "id": "a595fdfa-da74-4adc-a4a8-434f0bbfbbdc",
   "metadata": {},
   "outputs": [
    {
     "data": {
      "application/json": {
       "footers": [],
       "headers": [
        "",
        "",
        "",
        "",
        ""
       ],
       "id": "93fbb776-0f61-44b2-949e-d062ab5374a7",
       "locations": [
        {
         "page_index": 3
        }
       ],
       "reading_order": 2,
       "representation": {
        "markdown": "|                               |                             |                              |                         |                                           |\n|-------------------------------|-----------------------------|------------------------------|-------------------------|-------------------------------------------|\n| Receipts by Source:           |                             |                              | Outlays by Function:    |                                           |\n|                               | Total Receipts $629 Billion | Total Outlays $1,253 Billion |                         |                                           |\n| Individual Income Taxes       | $306 Billion                |                              | $250 Billion            | Social Security                           |\n|                               |                             |                              | $206 Billion            | Medicare                                  |\n| Social Insurance & Retirement | $254 Billion                |                              | $179 Billion            | National Defense                          |\n| Corporation Income Taxes      | $22 Billion                 |                              | $165 Billion            | Health                                    |\n| Excise Taxes                  | $20 Billion Deficit         |                              | $160 Billion            | Net Interest                              |\n|                               | $14 Billion $624 Billion    |                              | $108 Billion            | Income Security                           |\n| Customs Duties                |                             |                              | $75 Billion             | Veterans' Benefits & Services             |\n| Miscellaneous                 | $7 Billion                  |                              | $38 Billion $28 Billion | Education Natural Resources & Environment |\n| Estate and Gift Taxes         | $5 Billion                  |                              | $43 Billion             | Other                                     |"
       },
       "title": "Figure 2. Cumulative Receipts, Outlays, and Surplus/Deficit through Fiscal Year 2025",
       "type": "TABLE"
      },
      "text/plain": [
       "<IPython.core.display.JSON object>"
      ]
     },
     "execution_count": 17,
     "metadata": {
      "application/json": {
       "expanded": true,
       "root": "elements[27]"
      }
     },
     "output_type": "execute_result"
    }
   ],
   "source": [
    "JSON(standard_output['elements'][27],root='elements[27]', expanded=True)"
   ]
  },
  {
   "cell_type": "markdown",
   "id": "339176b4-0bee-4900-9f50-d3656f86b93e",
   "metadata": {},
   "source": [
    "## Clean Up\n",
    "Let's delete the sample files that were downloaded locally and that uploaded to S3"
   ]
  },
  {
   "cell_type": "code",
   "execution_count": 25,
   "id": "7ebefcf2-c020-41da-9770-35fe9cfdc9e4",
   "metadata": {},
   "outputs": [],
   "source": [
    "## Delete S3 File\n",
    "\n",
    "s3_client.delete_object(Bucket=input_bucket, Key=f'{input_prefix}/{s3_file_name}')\n",
    "\n",
    "#Delete local file\n",
    "import os\n",
    "if os.path.exists(local_file_name):\n",
    "    os.remove(local_file_name)\t"
   ]
  },
  {
   "cell_type": "markdown",
   "id": "889e875d-5ac0-4d6e-b9aa-a802bbd6d041",
   "metadata": {},
   "source": [
    "## Conclusion\n",
    "\n",
    "In this notebook we started with the default way of interacting with Amazon Bedrock Automation (BDA) by passing a sample document to the BDA API with no established blueprint or project. We then explored the default default standard output for the sample document."
   ]
  },
  {
   "cell_type": "markdown",
   "id": "b9a0f968-b70b-479f-a16a-a62eb0a9cf48",
   "metadata": {},
   "source": [
    "## Next Steps\n",
    "Standard output can be modified using projects, which store configuration information for each data type. In the next part of the workshop we would explore Bedrock data automation projects."
   ]
  },
  {
   "cell_type": "code",
   "execution_count": null,
   "id": "5a6228ea-9b57-402d-8b20-88003e54da29",
   "metadata": {},
   "outputs": [],
   "source": []
  }
 ],
 "metadata": {
  "kernelspec": {
   "display_name": "Python 3 (ipykernel)",
   "language": "python",
   "name": "python3"
  },
  "language_info": {
   "codemirror_mode": {
    "name": "ipython",
    "version": 3
   },
   "file_extension": ".py",
   "mimetype": "text/x-python",
   "name": "python",
   "nbconvert_exporter": "python",
   "pygments_lexer": "ipython3",
   "version": "3.11.11"
  }
 },
 "nbformat": 4,
 "nbformat_minor": 5
}
