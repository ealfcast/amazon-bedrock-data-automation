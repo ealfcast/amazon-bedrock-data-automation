{
 "cells": [
  {
   "cell_type": "markdown",
   "id": "28739f83-678f-4e76-bb40-af12caf8fac2",
   "metadata": {},
   "source": [
    "# Bedrock Data Automation Projects"
   ]
  },
  {
   "cell_type": "markdown",
   "id": "17a7159c-4b33-4c1a-af1d-710d85c921f4",
   "metadata": {},
   "source": [
    "## Introduction\n",
    "\n",
    "In the last section we explored the default way to invoke data automation with Standard output. A more flexible way of setting up standard outputs is using [Bedrock Automation Projects](https://docs.aws.amazon.com/bedrock/latest/userguide/bda-projects.html).\n",
    "\n",
    "A project encapsulates your standard output (mandatory) and custom output(optional) configurations. Projects grants you flexibility to define your standard output with its own set of configurable options specific to your use case.\n",
    "\n",
    "Once you create a project with standard output and (optionally) custom output configuration, you can call the `InvokeDataAutomationAsync` with the project ARN. BDA then uses the configuration defined in the project as the basis to generate the output.\n",
    "\n",
    "You can define configuration for more than one data type in a BDA project. BDA processes the input provided using the appropriate configuration associated with the type of the input. For example, an audio file sent to BDA using project name ABC will be processed using project ABC’s audio standard output configuration. A document sent to BDA using project name ABC will be processed using project ABC’s document standard output configuration.\n",
    "\n",
    "In this notebook, we will explore the various ways through which we can leverage projects to define our standard output configuration.\n"
   ]
  },
  {
   "cell_type": "markdown",
   "id": "ca16843e-0586-4c58-991f-ca6898e192e2",
   "metadata": {},
   "source": [
    "## Prerequisites"
   ]
  },
  {
   "cell_type": "code",
   "execution_count": null,
   "id": "f75bfcb2-1f39-4288-a6b7-d3604cff85bc",
   "metadata": {},
   "outputs": [],
   "source": [
    "pip install \"boto3>=1.35.76\" PyPDF2 --upgrade -qq"
   ]
  },
  {
   "cell_type": "markdown",
   "id": "e5da4e11-dcff-4300-8d29-f4260abe2856",
   "metadata": {},
   "source": [
    "## Setup\n",
    "\n",
    "Before we get to the part where we invoke BDA with our sample artifacts, let's setup some parameters and configuration that will be used throughout this notebook"
   ]
  },
  {
   "cell_type": "code",
   "execution_count": null,
   "id": "d60dc83e-e9a1-42d8-8de6-021c68f6ab45",
   "metadata": {},
   "outputs": [],
   "source": [
    "import boto3\n",
    "import json\n",
    "import pprint\n",
    "from IPython.display import JSON, display, HTML, Markdown, IFrame\n",
    "import random\n",
    "\n",
    "\n",
    "region_name = 'us-west-2'\n",
    "# Initialize Bedrock Data Automation client\n",
    "bda_client = boto3.client('bedrock-data-automation')\n",
    "bda_runtime_client = boto3.client('bedrock-data-automation-runtime')\n",
    "s3_client = boto3.client('s3')\n",
    "bda_s3_input_location = 's3://genai.octankmarkets.com/input'\n",
    "bda_s3_output_location = 's3://genai.octankmarkets.com/output'"
   ]
  },
  {
   "cell_type": "markdown",
   "id": "ba48edbb-e6d5-47e5-a88b-13b45c59a499",
   "metadata": {},
   "source": [
    "### Prepare Sample Document\n",
    "For this lab, we use a `Monthly Treasury Statement for the United States Government` for Fiscal Year 2025 through November 30, 2024. The document is prepared by the Bureau of the Fiscal Service, Department of the Treasury and provides detailed information on the government's financial activities. We will extract a subset of pages from the `PDF` document and use BDA to extract and analyse the document content.\n",
    "\n",
    "### Download and store sample document\n",
    "we use the document url to download the document and store it a S3 location. \n",
    "Note - We will configure BDA to use the sample input from this S3 location, so we need to ensure that BDA has `s3:GetObject` access to this S3 location. If you are running the notebook in your own AWS Account, ensure that the SageMaker Execution role configured for this JupyterLab app has the right IAM permissions."
   ]
  },
  {
   "cell_type": "code",
   "execution_count": null,
   "id": "b434a7bd-02de-4f48-8f01-62d313b64580",
   "metadata": {},
   "outputs": [],
   "source": [
    "%load_ext autoreload\n",
    "%autoreload 1\n",
    "import sys\n",
    "sys.path.append('..')\n",
    "%aimport utils.helper_functions\n",
    "\n",
    "from utils.helper_functions import read_s3_object, create_sample_file, get_bucket_and_key,wait_for_completion, display_html\n",
    "\n",
    "\n",
    "# Download sample pdf file, extract pages and  \n",
    "input_bucket, input_prefix = get_bucket_and_key(bda_s3_input_location)\n",
    "sample_data_url = \"https://fiscaldata.treasury.gov/static-data/published-reports/mts/MonthlyTreasuryStatement_202411.pdf\"\n",
    "local_file_name = 'examples/MonthlyTreasuryStatement_202411.pdf'\n",
    "create_sample_file(sample_data_url, 0, 9, local_file_name)\n",
    "s3_file_name = 'MonthlyTreasuryStatement.pdf'\n",
    "s3_response = s3_client.upload_file(local_file_name, input_bucket,\n",
    "                                    f'{input_prefix}/{s3_file_name}')"
   ]
  },
  {
   "cell_type": "markdown",
   "id": "b9ad88a1-2270-41ca-b232-328ac6d0acf5",
   "metadata": {},
   "source": [
    "### View Sample Document"
   ]
  },
  {
   "cell_type": "code",
   "execution_count": null,
   "id": "60982397-5d85-45b2-a65c-2ead73925cdc",
   "metadata": {},
   "outputs": [],
   "source": [
    "display(IFrame(\"examples/MonthlyTreasuryStatement_202411.pdf\", width=900, height=800))"
   ]
  },
  {
   "cell_type": "markdown",
   "id": "ee0ab1d3-269a-4ba5-804a-7eadf1c9a05f",
   "metadata": {},
   "source": [
    "## Using Data Project with Standard Output\n",
    "\n",
    "Let's start by creating our first project. You can create a project with a name, description and a standard output configuration (for one or more modalities). You can set standard output options specific to your use case. For our example, we will define standard output for Document modality with the following options to explore output - \n",
    "\n",
    "**Response Granularity** - DOCUMENT, PAGE, LINE, WORD, ELEMENT\n",
    "\n",
    "**Bounding Box**  - ENABLED\n",
    "\n",
    "**Generative Field** - ENABLED\n",
    "\n",
    "**Output Format** - Markdown, CSV, HTML\n",
    "\n",
    "**AdditionalFileFormation** - ENABLED\n",
    "\n",
    "All other options (including for other modalities) would take default values"
   ]
  },
  {
   "cell_type": "markdown",
   "id": "3c7b77ac-57d3-4180-becb-bd8008b0d1c7",
   "metadata": {
    "jp-MarkdownHeadingCollapsed": true
   },
   "source": [
    "### Configure IAM Permissions\n",
    "\n",
    "The features being explored in the notebook require the following IAM Policies for the role being used. If you're running this notebook within SageMaker Studio in your own Account, update the default execution role for the SageMaker user profile to include the following IAM policies. \n",
    "\n",
    "```json\n",
    "        {\n",
    "            \"Sid\": \"BDAPermissions\",\n",
    "            \"Effect\": \"Allow\",\n",
    "            \"Action\": [\n",
    "                \"bedrock:CreateDataAutomationProject\",\n",
    "                \"bedrock:CreateBlueprint\",\n",
    "                \"bedrock:ListDataAutomationProjects\",\n",
    "                \"bedrock:UpdateDataAutomationProject\",\n",
    "                \"bedrock:GetDataAutomationProject\",\n",
    "                \"bedrock:GetDataAutomationStatus\",\n",
    "                \"bedrock:InvokeDataAutomationAsync\",\n",
    "                \"bedrock:GetBlueprint\",\n",
    "                \"bedrock:ListBlueprints\",\n",
    "                \"bedrock:UpdateBlueprint\",\n",
    "                \"bedrock:DeleteBlueprint\"\n",
    "            ],\n",
    "            \"Resource\": \"*\"\n",
    "        }\n",
    "Note - The policy uses wildcard(s) for demo purposes. AWS recommends using least priviledges when defining IAM Policies in your own AWS Accounts"
   ]
  },
  {
   "cell_type": "markdown",
   "id": "778ecdc4-1e23-478f-aa72-abc1ffd2d0fa",
   "metadata": {},
   "source": [
    "### Define data project input"
   ]
  },
  {
   "cell_type": "markdown",
   "id": "9adbab59-54de-4b99-8698-ba5c54ec877c",
   "metadata": {},
   "source": [
    "The `create_data_automation_project` API takes a project name, description, stage (LIVE / DEVELOPMENT) and the standard output configuration as input"
   ]
  },
  {
   "cell_type": "code",
   "execution_count": null,
   "id": "233e3935-6166-4aec-9371-f972d2d3cc33",
   "metadata": {},
   "outputs": [],
   "source": [
    "bda_project_name = 'document-std-output'\n",
    "bda_project_stage = 'LIVE'\n",
    "standard_output_configuration = {\n",
    "        'document': {\n",
    "            'extraction': {\n",
    "                'granularity': {\n",
    "                    'types': [\n",
    "                        'DOCUMENT', 'PAGE', 'LINE', 'WORD', 'ELEMENT'\n",
    "                    ]\n",
    "                },\n",
    "                'boundingBox': {\n",
    "                    'state': 'ENABLED'\n",
    "                }\n",
    "            },\n",
    "            'generativeField': {\n",
    "                'state': 'ENABLED'\n",
    "            },\n",
    "            'outputFormat': {\n",
    "                'textFormat': {\n",
    "                    'types': [\n",
    "                        'MARKDOWN', 'CSV','HTML'\n",
    "                    ]\n",
    "                },\n",
    "                'additionalFileFormat': {\n",
    "                    'state': 'ENABLED'\n",
    "                }\n",
    "            }\n",
    "        }\n",
    "    }"
   ]
  },
  {
   "cell_type": "markdown",
   "id": "47348cf3-491e-46d2-afcb-7c617df611db",
   "metadata": {},
   "source": [
    "### Create data automation project\n",
    "\n",
    "Check if the project with the given name already exists, if no create a new project with given configuration otherwise update the data project with the given configuration and stage"
   ]
  },
  {
   "cell_type": "code",
   "execution_count": null,
   "id": "5f7f9355-886c-4cfe-9a2a-f805fafeb8eb",
   "metadata": {},
   "outputs": [],
   "source": [
    "list_project_response = bda_client.list_data_automation_projects(\n",
    "    projectStageFilter=bda_project_stage)\n",
    "\n",
    "project = next((project for project in list_project_response['projects']\n",
    "               if project['projectName'] == bda_project_name), None)\n",
    "\n",
    "if not project:\n",
    "    response = bda_client.create_data_automation_project(\n",
    "        projectName=bda_project_name,\n",
    "        projectDescription='A BDA Project for Standard Output from Document',\n",
    "        projectStage=bda_project_stage,\n",
    "        standardOutputConfiguration=standard_output_configuration)\n",
    "else:\n",
    "    response = bda_client.update_data_automation_project(\n",
    "        projectArn=project['projectArn'],\n",
    "        standardOutputConfiguration=standard_output_configuration)\n",
    "\n",
    "project_arn = response['projectArn']"
   ]
  },
  {
   "cell_type": "markdown",
   "id": "0d6f41ee-15ab-467a-8bd2-a383a42f4526",
   "metadata": {},
   "source": [
    "### Wait for create/update data project operation completion"
   ]
  },
  {
   "cell_type": "code",
   "execution_count": null,
   "id": "d8f1ef9d-c698-4107-96ce-45a4e55e5af1",
   "metadata": {},
   "outputs": [],
   "source": [
    "status_response = wait_for_completion(\n",
    "            client=bda_client,\n",
    "            get_status_function=bda_client.get_data_automation_project,\n",
    "            status_kwargs={'projectArn': project_arn},\n",
    "            completion_states=['COMPLETED'],\n",
    "            error_states=['FAILED'],\n",
    "            status_path_in_response='project.status',\n",
    "            max_iterations=15,\n",
    "            delay=30\n",
    ")"
   ]
  },
  {
   "cell_type": "markdown",
   "id": "4fe34695-ce93-4c31-8ec6-89eadd79f59f",
   "metadata": {},
   "source": [
    "### Invoke Data Automation Async\n",
    "Note that now we also provide the data automation configuration with our project arn "
   ]
  },
  {
   "cell_type": "code",
   "execution_count": null,
   "id": "96e534fe-e15d-498f-b424-57c0be6010aa",
   "metadata": {},
   "outputs": [],
   "source": [
    "response = bda_runtime_client.invoke_data_automation_async(\n",
    "    inputConfiguration={\n",
    "        's3Uri': f'{bda_s3_input_location}/{s3_file_name}'\n",
    "    },\n",
    "    outputConfiguration={\n",
    "        's3Uri': bda_s3_output_location\n",
    "    },\n",
    "    dataAutomationConfiguration={\n",
    "        'dataAutomationArn': project_arn,\n",
    "        'stage': 'LIVE'\n",
    "    }\n",
    ")\n",
    "\n",
    "invocationArn = response['invocationArn']\n",
    "print(f'Invoked data automation job with invocation arn {invocationArn}') "
   ]
  },
  {
   "cell_type": "markdown",
   "id": "44f118f9-9733-4235-a557-830739b42985",
   "metadata": {},
   "source": [
    "### Get Data Automation Status\n",
    "\n",
    "We can check the status and monitor the progress of the Invocation job using the `GetDataAutomationStatus`. This API takes the invocation arn we retrieved from the response to the `InvokeDataAutomationAsync` operation above.\n",
    "\n",
    "The invocation job status moves from `Created` to `InProgress` and finally to `Success` when the job completes successfully, along with the S3 location of the results. If the job encounters and error the final status is either `ServiceError` or `ClientError` with error details"
   ]
  },
  {
   "cell_type": "code",
   "execution_count": null,
   "id": "e32b31b7-d344-42b1-a610-6cde108c1bf7",
   "metadata": {
    "editable": true,
    "slideshow": {
     "slide_type": ""
    },
    "tags": []
   },
   "outputs": [],
   "source": [
    "status_response = wait_for_completion(\n",
    "            client=bda_client,\n",
    "            get_status_function=bda_runtime_client.get_data_automation_status,\n",
    "            status_kwargs={'invocationArn': invocationArn},\n",
    "            completion_states=['Success'],\n",
    "            error_states=['ClientError', 'ServiceError'],\n",
    "            status_path_in_response='status',\n",
    "            max_iterations=15,\n",
    "            delay=30\n",
    ")\n",
    "if status_response['status'] == 'Success':\n",
    "    job_metadata_s3_location = status_response['outputConfiguration']['s3Uri']\n",
    "else:\n",
    "    raise Exception(f'Invocation Job Error, error_type={status_response[\"error_type\"]},error_message={status_response[\"error_message\"]}')"
   ]
  },
  {
   "cell_type": "markdown",
   "id": "201eab0e-1bd5-4784-a7f8-8c97120782ea",
   "metadata": {},
   "source": [
    "### Retrieve Job Metadata"
   ]
  },
  {
   "cell_type": "code",
   "execution_count": null,
   "id": "56d2fe5a-2301-4d72-ac6a-5514316a3194",
   "metadata": {},
   "outputs": [],
   "source": [
    "job_metadata = json.loads(read_s3_object(job_metadata_s3_location))\n",
    "JSON(job_metadata, root='job_metadata', expanded=True)"
   ]
  },
  {
   "cell_type": "markdown",
   "id": "6282162b-3d0e-43b0-a45d-4f77248e0ccb",
   "metadata": {},
   "source": [
    "---\n",
    "\n",
    "## Explore the Data Project Standard output\n",
    "We can now explore the standard output received from processing documents using our own settings configured using our Data Automation project.\n",
    "\n",
    "\n",
    "The Standard output for `Document` modality always includes a `metadata` section and a `document` section in the json result. Because in our project configuration we specified the response granularity to additionally include only Page, Word and Line  the results would include section `pages`, `text_lines` and `text_words` information. Let's move on to exploring the content of these sections.\n",
    " \n",
    "Note that the result would not contain the `element` level granularity because we specifically left it out standard output configuration in the project."
   ]
  },
  {
   "cell_type": "code",
   "execution_count": null,
   "id": "6944582b-773a-4a09-ac95-56264def5ff9",
   "metadata": {},
   "outputs": [],
   "source": [
    "asset_id=0\n",
    "standard_output_path = next(item[\"segment_metadata\"][0][\"standard_output_path\"] \n",
    "                                for item in job_metadata[\"output_metadata\"] \n",
    "                                if item['asset_id'] == asset_id)\n",
    "standard_output = json.loads(read_s3_object(standard_output_path))"
   ]
  },
  {
   "cell_type": "code",
   "execution_count": null,
   "id": "00b291b2-3bf9-4ba1-9d3f-1f2057345c54",
   "metadata": {},
   "outputs": [],
   "source": [
    "JSON(standard_output)"
   ]
  },
  {
   "cell_type": "markdown",
   "id": "028fed44-1399-4f84-a557-b727e30a4b13",
   "metadata": {},
   "source": [
    "### metadata section\n",
    "The metadata section in the response provides an overview of the metadata associated with the document. This include the S3 bucket and key for the input document. The metadata also contains the modality that was selected for your response `DOCUMENT` for our sample input. Metadata also includes the number of pages processed as well as the start and end page index."
   ]
  },
  {
   "cell_type": "code",
   "execution_count": null,
   "id": "016ee0b9-288c-44d4-bd45-f914d99bb3d8",
   "metadata": {},
   "outputs": [],
   "source": [
    "JSON(standard_output['metadata'], root='metadata', expanded=True)"
   ]
  },
  {
   "cell_type": "markdown",
   "id": "95ac64f9-2e7b-4701-86d2-150eb6a674e5",
   "metadata": {},
   "source": [
    "### _document_ section\n",
    "The BDA standard output will always contain the document section.     \n",
    "The document section of the standard output provides document level granularity information. Document level granularity would include an analysis of information from the document providing key pieces of info.\n",
    "\n",
    "The detail present within the document section would depend on the level of granularity and other options enabled in the project standard output configuration\n",
    "- When `DOCUMENT` granularity is enabled, the document section would contain the representation in the various text output format (e.g. MARKDOWN, HTML etc.) configured in the project standard output configuration\n",
    "- With `ELEMENT` granularity the document section includes a statistics on the type and count of various elements found in the document\n",
    "- When you enable `Generative Fields`, then the document section would include a (about) 10-word description and (about) 250 word summary\n",
    "- When `WORD` or `LINE` granularity is enabled the document include a statistic on count of word and line in the document respectively.\n",
    "- \n",
    "Below is an example of the document section using our standard output configuration that we earlier defined in our data automation project."
   ]
  },
  {
   "cell_type": "code",
   "execution_count": null,
   "id": "8daa8c5a-fb12-4543-9390-d6455b38584f",
   "metadata": {},
   "outputs": [],
   "source": [
    "JSON(standard_output['document'], root='document', expanded=False)"
   ]
  },
  {
   "cell_type": "markdown",
   "id": "c85be5e7-57fe-485d-a26c-cbbf38930fd7",
   "metadata": {},
   "source": [
    "### _pages_ section\n",
    "With Page level granularity (enabled by default) text in a page are consolidated and are listed in the pages section with one item for each page. The page entity in the Standard output include the page index. The individual page entities also include the statistics that contain information on the actual content of the document, such as how many semantic elements there are, how many figures, words, lines, etc. The asset metadata represents the page bounds using coordinates of the four corners.\n",
    "\n",
    "Let look at the content in a selected page section in the result from our sample input."
   ]
  },
  {
   "cell_type": "code",
   "execution_count": null,
   "id": "571e0289-c65c-411c-816f-6a949ccbc256",
   "metadata": {},
   "outputs": [],
   "source": [
    "num_pages = standard_output['metadata']['number_of_pages']\n",
    "page = standard_output['pages'][2]\n",
    "#JSON(page, root='pages[2]', expanded=True)\n",
    "\n",
    "display_html(page['representation']['html'])"
   ]
  },
  {
   "cell_type": "markdown",
   "id": "26f32795-8436-44bd-9d71-8f8ad43143d4",
   "metadata": {},
   "source": [
    "### _elements_ section\n",
    "The elements section contains the various semantic elements extracted from the documents including - \n",
    "- TEXT\n",
    "- TABLE\n",
    "- FIGURE\n",
    "\n",
    "Let's explore a selective set of content in each of these element types extracted from the sample input document."
   ]
  },
  {
   "cell_type": "markdown",
   "id": "e0a4011e-a84c-4c50-bca4-917470d1590d",
   "metadata": {},
   "source": [
    "#### a sample _TEXT_ element \n",
    "This is the entity used for text within a document. The entity contains the `representation` field for the text found in various configured output format. The `sub_type` field provides more detailed information on what kind of text is being detected. The `TEXT` element could include the following sub types - \n",
    "\n",
    "- TITLE\n",
    "- HEADER\n",
    "- PAGE_NUMBER\n",
    "- SECTION_HEADER\n",
    "- FOOTER\n",
    "- PARAGRAPH"
   ]
  },
  {
   "cell_type": "code",
   "execution_count": null,
   "id": "02ea30f0-907a-442f-9b47-6eb4cdb98516",
   "metadata": {},
   "outputs": [],
   "source": [
    "text = JSON(standard_output['elements'][5], root='elements[5]', expanded=True)"
   ]
  },
  {
   "cell_type": "markdown",
   "id": "bae620f8-4d36-4dbc-ba02-0871dad2a990",
   "metadata": {},
   "source": [
    "#### a sample _FIGURE_ element\n",
    "\n",
    "\n",
    "- IMAGE\n",
    "- CHART\n",
    "- LOGO"
   ]
  },
  {
   "cell_type": "markdown",
   "id": "47963218-404d-4f10-8e79-ce37adb2ef94",
   "metadata": {},
   "source": [
    "**example output for an _IMAGE_ subtype**"
   ]
  },
  {
   "cell_type": "code",
   "execution_count": null,
   "id": "ada4e42a-153c-40f6-9634-7752bb356322",
   "metadata": {},
   "outputs": [],
   "source": [
    "JSON(standard_output['elements'][38],root='elements[38]', expanded=True)"
   ]
  },
  {
   "cell_type": "markdown",
   "id": "c7a89cd7-f8fc-4900-8845-e1172927b40e",
   "metadata": {},
   "source": [
    "**example output for an _CHART_ subtype**"
   ]
  },
  {
   "cell_type": "code",
   "execution_count": null,
   "id": "7ae7114b-61c2-464f-a682-39bbea6ce077",
   "metadata": {},
   "outputs": [],
   "source": [
    "JSON(standard_output['elements'][6],root='elements[6]', expanded=True)"
   ]
  },
  {
   "cell_type": "markdown",
   "id": "43b2ff25-4253-46e7-a04a-c45d2fc33151",
   "metadata": {},
   "source": [
    "#### a sample _TABLE_ element"
   ]
  },
  {
   "cell_type": "code",
   "execution_count": null,
   "id": "a595fdfa-da74-4adc-a4a8-434f0bbfbbdc",
   "metadata": {},
   "outputs": [],
   "source": [
    "table_element = standard_output['elements'][34]\n",
    "JSON(table_element, root='table_element', expanded=False)"
   ]
  },
  {
   "cell_type": "markdown",
   "id": "6787dcbe-995a-4945-a8de-7f2ad1e5912e",
   "metadata": {},
   "source": [
    "##### Representation of the table using Markdown"
   ]
  },
  {
   "cell_type": "code",
   "execution_count": null,
   "id": "15e4575a-7f59-4d2d-a398-56ac30ba3f60",
   "metadata": {},
   "outputs": [],
   "source": [
    "display_html(table_element['representation']['html'] + '\\n'.join(table_element['footers']))"
   ]
  },
  {
   "cell_type": "markdown",
   "id": "05caa2cd-9eeb-49ee-be55-51dbc7220718",
   "metadata": {},
   "source": [
    "#### Extracted Table contents in S3 assets"
   ]
  },
  {
   "cell_type": "code",
   "execution_count": null,
   "id": "9a8a6fbe-4205-49b1-bae6-3829eb9dc9d5",
   "metadata": {
    "editable": true,
    "slideshow": {
     "slide_type": ""
    },
    "tags": []
   },
   "outputs": [],
   "source": [
    "import pandas as pd\n",
    "import io\n",
    "extracted_csv = read_s3_object(s3_uri=table_element['csv_s3_uri'])\n",
    "df = pd.read_csv(io.StringIO(extracted_csv)).fillna('')\n",
    "df = df.iloc[:, 1:]\n",
    "display(df.style.hide(axis='index'))"
   ]
  },
  {
   "cell_type": "markdown",
   "id": "1eb8e6c5-cdfa-4996-b590-e94a8a1045e2",
   "metadata": {},
   "source": [
    "---"
   ]
  },
  {
   "cell_type": "markdown",
   "id": "84392807-9bd4-47db-8468-196b82169364",
   "metadata": {},
   "source": [
    "## Explore Standard output for a single page\n",
    "\n",
    "Let's start with exploring Page 2 that is mostly text."
   ]
  },
  {
   "cell_type": "code",
   "execution_count": null,
   "id": "29a39cf9-e392-4514-8968-007883b25637",
   "metadata": {},
   "outputs": [],
   "source": [
    "page = standard_output['pages'][2]\n",
    "\n",
    "display(Markdown(page['representation']['markdown']))"
   ]
  },
  {
   "cell_type": "markdown",
   "id": "f3235442-1a10-4d92-8780-4b200dc68f3e",
   "metadata": {},
   "source": [
    "### Consolidating content for a single page\n"
   ]
  },
  {
   "cell_type": "code",
   "execution_count": null,
   "id": "28c33b02-f9a7-4d73-a3ba-3be9eeebf630",
   "metadata": {},
   "outputs": [],
   "source": [
    "elements = [element for element in standard_output['elements'] if ('page_indices' in element and 2 in element['page_indices'])]\t\n",
    "display(JSON(elements, expanded=True))"
   ]
  },
  {
   "cell_type": "code",
   "execution_count": null,
   "id": "6d141007-3b75-4408-8ff8-cd80dbc8d046",
   "metadata": {},
   "outputs": [],
   "source": [
    "# get all such element in standard_output['elements'] list if the element has 0 anywhere in page_indices list\n",
    "elements = [element['representation']['markdown'] for element in standard_output['elements'] if (element['type']=='TEXT' and 'page_indices' in element and 2 in element['page_indices'])]\t\n",
    "\n",
    "for element in elements:\n",
    "    display(Markdown(element))"
   ]
  },
  {
   "cell_type": "markdown",
   "id": "339176b4-0bee-4900-9f50-d3656f86b93e",
   "metadata": {
    "jp-MarkdownHeadingCollapsed": true
   },
   "source": [
    "## Clean Up\n",
    "Let's delete the sample files that were downloaded locally and that uploaded to S3"
   ]
  },
  {
   "cell_type": "code",
   "execution_count": null,
   "id": "7ebefcf2-c020-41da-9770-35fe9cfdc9e4",
   "metadata": {},
   "outputs": [],
   "source": [
    "## Delete S3 File\n",
    "\n",
    "s3_client.delete_object(Bucket=input_bucket, Key=f'{input_prefix}/{s3_file_name}')\n",
    "\n",
    "#Delete local file\n",
    "import os\n",
    "if os.path.exists(local_file_name):\n",
    "    os.remove(local_file_name)\t"
   ]
  },
  {
   "cell_type": "markdown",
   "id": "889e875d-5ac0-4d6e-b9aa-a802bbd6d041",
   "metadata": {
    "jp-MarkdownHeadingCollapsed": true
   },
   "source": [
    "## Conclusion\n",
    "\n",
    "In this notebook we started with the default way of interacting with Amazon Bedrock Automation (BDA) by passing a sample document to the BDA API with no established blueprint or project. We then explored the default default standard output for the sample document."
   ]
  },
  {
   "cell_type": "markdown",
   "id": "b9a0f968-b70b-479f-a16a-a62eb0a9cf48",
   "metadata": {
    "jp-MarkdownHeadingCollapsed": true
   },
   "source": [
    "## Next Steps\n",
    "Standard output can be modified using projects, which store configuration information for each data type. In the next part of the workshop we would explore Bedrock data automation projects."
   ]
  }
 ],
 "metadata": {
  "kernelspec": {
   "display_name": "Python 3 (ipykernel)",
   "language": "python",
   "name": "python3"
  },
  "language_info": {
   "codemirror_mode": {
    "name": "ipython",
    "version": 3
   },
   "file_extension": ".py",
   "mimetype": "text/x-python",
   "name": "python",
   "nbconvert_exporter": "python",
   "pygments_lexer": "ipython3",
   "version": "3.11.11"
  }
 },
 "nbformat": 4,
 "nbformat_minor": 5
}
