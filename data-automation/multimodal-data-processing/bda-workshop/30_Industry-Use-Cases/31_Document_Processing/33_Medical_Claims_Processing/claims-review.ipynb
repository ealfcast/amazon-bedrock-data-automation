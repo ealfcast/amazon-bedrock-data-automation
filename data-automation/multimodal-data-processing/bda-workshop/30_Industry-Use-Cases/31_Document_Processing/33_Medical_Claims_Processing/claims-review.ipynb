{
 "cells": [
  {
   "cell_type": "markdown",
   "id": "57822f24-f213-4efa-980d-da399ee03a4a",
   "metadata": {},
   "source": [
    "# Overview\n",
    "\n",
    "This notebook demonstrates how to use Amazon Bedrock's data automation, agents, and knowledge bases to automate the insurance claim lifecycle. We'll show how to use Bedrock data automation to create a custom blueprint and process medical claims form (CMS 1500). We also demonstrate the end-to-end-flow of processing the claims data using a Bedrock Knowledge Base and Agents"
   ]
  },
  {
   "cell_type": "markdown",
   "id": "c9cd584d-c03f-4a1b-b9cc-e673db043425",
   "metadata": {},
   "source": [
    "# Context\n",
    "\n",
    "Insurance companies deal with a high volume of claims, which can be time-consuming and prone to errors when processed manually. By leveraging capabilities provided by Amazon Bedrock including Bedrock Data Automation and Bedrock Agents, We can create an AI-powered system that streamlines the claim process, improves efficiency, and enhances customer experience."
   ]
  },
  {
   "cell_type": "markdown",
   "id": "3bd55a09-150b-49b8-bd67-62beb6bbe99a",
   "metadata": {},
   "source": [
    "# Prerequisites\n",
    "Before starting this notebook, ensure you have:\n",
    "\n",
    "1. An AWS account with access to Amazon Bedrock\n",
    "2. Necessary IAM permissions to create and manage Bedrock resources\n",
    "3. AWS SDK for Python (Boto3) installed\n",
    "4. A sample dataset of insurance claims (we'll use a synthetic dataset for this demo)"
   ]
  },
  {
   "cell_type": "markdown",
   "id": "7a260a0b-91f4-4473-b3e6-64d8b0c2a094",
   "metadata": {},
   "source": [
    "# Setup\n",
    "In the following sections we would run through the process to setup the AWS resources required to run the end-to-end flow for claim processing"
   ]
  },
  {
   "cell_type": "markdown",
   "id": "ad8eab38-b939-4a2d-bc23-0a9a3de6afca",
   "metadata": {},
   "source": [
    "## Import Remote Libraries\n",
    "First, let's import the necessary libraries.\n",
    "\n",
    "We'll use the `us-west-2` region and create the boto3 clients for the required AWS services"
   ]
  },
  {
   "cell_type": "code",
   "execution_count": 13,
   "id": "4edcd0cb-b160-45b0-b818-25ec9e66d585",
   "metadata": {},
   "outputs": [],
   "source": [
    "import boto3\n",
    "import json\n",
    "import os\n",
    "from datetime import datetime\n",
    "\n",
    "REGION_NAME = 'us-west-2'\n",
    "\n",
    "# Set up AWS credentials (make sure you have the appropriate permissions)\n",
    "session = boto3.Session(region_name=REGION_NAME)  # Replace with your preferred region\n",
    "bedrock = session.client('bedrock')\n",
    "bedrock_agent = session.client('bedrock-agent')\n",
    "s3 = session.client('s3')\n",
    "bedrock_agent_runtime = session.client('bedrock-agent-runtime')"
   ]
  },
  {
   "cell_type": "markdown",
   "id": "77156e38-1c27-4149-800a-b1e5593c6896",
   "metadata": {},
   "source": [
    "## Create S3 Buckets"
   ]
  },
  {
   "cell_type": "code",
   "execution_count": 17,
   "id": "b1d28b5c-3202-4753-a78b-c1b1fa88fc8f",
   "metadata": {},
   "outputs": [
    {
     "name": "stdout",
     "output_type": "stream",
     "text": [
      "Bucket 'claims-eoc-2025-01-03-16-49-34' created successfully.\n"
     ]
    }
   ],
   "source": [
    "#Create S3 Bucket to store Claims Evidence of Coverage Documents\n",
    "\n",
    "bucket_name = 'claims-eoc-' + str(datetime.now().strftime(\"%Y-%m-%d-%H-%M-%S\"))\n",
    "s3.create_bucket(Bucket=bucket_name, CreateBucketConfiguration={'LocationConstraint': REGION_NAME})\n",
    "print(f\"Bucket '{bucket_name}' created successfully.\")\n"
   ]
  },
  {
   "cell_type": "code",
   "execution_count": null,
   "id": "faef6220-194b-4189-bc1b-c677f0d9b207",
   "metadata": {},
   "outputs": [],
   "source": []
  },
  {
   "cell_type": "markdown",
   "id": "cdc0183e-cfc4-4869-ad29-20e0e30a6980",
   "metadata": {},
   "source": [
    "# Next Steps"
   ]
  },
  {
   "cell_type": "markdown",
   "id": "70b19b31-b499-4db7-a5d2-2572d7ba8997",
   "metadata": {},
   "source": [
    "# Clean Up"
   ]
  },
  {
   "cell_type": "code",
   "execution_count": null,
   "id": "a3316d7d-0cc3-45a4-88d0-8aa4033ded9e",
   "metadata": {},
   "outputs": [],
   "source": []
  },
  {
   "cell_type": "code",
   "execution_count": null,
   "id": "7ff0c849-cafc-4f9b-b944-799d57cf126a",
   "metadata": {},
   "outputs": [],
   "source": []
  }
 ],
 "metadata": {
  "kernelspec": {
   "display_name": "Python 3 (ipykernel)",
   "language": "python",
   "name": "python3"
  },
  "language_info": {
   "codemirror_mode": {
    "name": "ipython",
    "version": 3
   },
   "file_extension": ".py",
   "mimetype": "text/x-python",
   "name": "python",
   "nbconvert_exporter": "python",
   "pygments_lexer": "ipython3",
   "version": "3.11.11"
  }
 },
 "nbformat": 4,
 "nbformat_minor": 5
}
