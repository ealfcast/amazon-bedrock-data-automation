{
 "cells": [
  {
   "cell_type": "markdown",
   "id": "f5a68792-000a-4f61-a532-7d153ecc6aa7",
   "metadata": {},
   "source": [
    "# Guidance for Document Processing Using Amazon Bedrock Data Automation\n",
    "\n",
    "Amazon Bedrock Data Automation (BDA) is a fully managed capability of Amazon Bedrock that streamlines the generation of valuable insights from unstructured, multimodal content such as documents, images, audio, and videos. With Amazon Bedrock Data Automation, you can build automated intelligent document processing (IDP), media analysis, and Retrieval-Augmented Generation (RAG) workflows quickly and cost-effectively.\n",
    "\n",
    "This workbook focuses on using BDA to process insights from unstructured documents. The use case we will focus on is for processing a loan applcation. We will process a packet of documents relavent to loans: ID Cards, Bank Statements, W2 Tax forms, Pay Stubs and checks.  \n",
    "\n",
    "\n",
    "The diagram below shows an architecture for an Intelligent document processing workflow. This diagram is from solution 'Guidance for Multimodal Data Processing Using Amazon Bedrock Data Automation', published [here](https://aws.amazon.com/solutions/guidance/multimodal-data-processing-using-amazon-bedrock-data-automation/).\n",
    "\n",
    "\n",
    "![Arch](./images/a_lending_flow_architecture.png)\n",
    "\n",
    "\n",
    "1. Document Upload: The data science team uploads sample documents to an Amazon S3 bucket.\n",
    "\n",
    "2. Blueprint Configuration: The data science team uses provided blueprints, and creates new custom blueprints for each document class: W2, Pay Slip, Drivers License, 1099 and Bank Statement.  Each sample is processed and the fields extracted with Generative AI prompts (e.g. First Name, Last Name, Gross Pay, SS Number, License Number, Capital Gains, Closing Balance).  The blueprints are managed and stored in Amazon Bedrock Data Automation feature. \n",
    "\n",
    "3. Test and Refine Blueprints: The blueprints are tested and refined. Key normalizations, key transformations, and key validations are added. \n",
    "\n",
    "4. Blueprint Published: The blueprints are managed and stored in the  Amazon Bedrock Data Automation feature. \n",
    "\n",
    "5. Amazon EventBridge triggers an AWS Lambda function when documents are uploaded to Amazon S3, using an \"Object Created\" event. This Lambda function then utilizes Amazon Bedrock's Data Automation feature to process the uploaded documents. \n",
    "\n",
    "6. The processing workflow in Amazon Bedrock Data Automation feature includes document splitting based on logical boundaries, with each split containing up to 20 pages. Each page is classified into a specific document type and matched to appropriate blueprints. The corresponding blueprint is then invoked for each page, executing key normalizations, transformations, and validations. This entire process operates asynchronously, allowing for efficient handling of multiple documents and large data volumes.\n",
    "\n",
    "7. BDA stores the results in a Amazon S3 bucket for later processing and triggers Amazon EventBridge\n",
    "\n",
    "8. AWS Lambda function is triggered by the Amazon EventBridge to process the JSON results of Amazon Bedrock Data Automation. The processing results send to downstream processing systems. \n",
    "\n",
    "In this workbook, we will explore the various aspects of this workflow such as the creating blueprints, processing sample documents, page classification.  We will process these documents:\n",
    "\n",
    "1. ID Card\n",
    "2. Bank Statements\n",
    "3. W2 Tax forms\n",
    "4. Pay Stubs\n",
    "5. Check\n",
    "6. Homeowner Insurance Application\n",
    "\n",
    "We will then process a single PDF document with a 'loan application package', i.e. all 6 documents in one. \n",
    "\n",
    "This workbook follows these steps:\n",
    "\n",
    "1. Step 1: Setup notebook and instantiate boto3 clients\n",
    "2. Step 2: Process a simple PDF file using the standard output\n",
    "3. Step 3: Create a Project, and blueprint for processing a Homeowner Insurance Form\n",
    "4. Step 4: Add blueprints to the Automaton Project\n",
    "5. Step 5: Use our custom Blueprint to process a Homeowner Insurance Form\n",
    "6. Step 6: Document Splitting - Process a Multi-Page Document Package\n",
    "7. Step 7: Display the results\n",
    "8. Step 8: Cleanup\n",
    "\n",
    "## Prerequisite\n",
    "\n",
    "Before starting the workshop you will need to create an Amazon SageMaker Studio notebook instance. https://docs.aws.amazon.com/sagemaker/latest/dg/howitworks-create-ws.html For IAM role, choose either an existing IAM role in your account or create a new role. The role must the necessary permissions to invoke the BDA, SageMaker and S3 APIs. \n",
    "\n",
    "These IAM policies can be assigned to the role: AmazonBedrockFullAccess, AmazonS3FullAccess, AmazonSageMakerFullAccess, IAMReadOnlyAccess\n",
    "\n",
    "Note: The AdministratorAccess IAM policy can be used, if allowed by security policies at your organization. \n",
    "\n",
    "## Note\n",
    "\n",
    "It is important to run the cells below in order. If you need to re-start the workbook, and have not sucessfully run step 8 to cleanup resources, you will need to login to the AWS Console and delete the project and blueprints created in this workbook. \n",
    "\n",
    "If you get out of order, and unexpected results, you can 'Restart Kernel' from the SageMaker studio Kernel menu. "
   ]
  },
  {
   "cell_type": "markdown",
   "id": "df749697-dc71-4147-99b9-e3fcfec00286",
   "metadata": {},
   "source": [
    "# Step 1: Setup notebook and boto3 clients\n",
    "\n",
    "In this step, we will import some necessary libraries that will be used throughout this notebook. \n",
    "To use Amazon Bedrock Data Automation (BDA) with boto3, you'll need to ensure you have the latest version of the AWS SDK for Python (boto3) installed. Version Boto3 1.35.96 of later is required. \n",
    "\n",
    "Note: At time of Public Preview launch, BDA is available in us-west-2 only. "
   ]
  },
  {
   "cell_type": "code",
   "execution_count": 1,
   "id": "30a9e7cb-33d4-4795-9941-3c0d4f6e711e",
   "metadata": {},
   "outputs": [
    {
     "name": "stdout",
     "output_type": "stream",
     "text": [
      "Requirement already satisfied: boto3 in /opt/conda/lib/python3.10/site-packages (1.35.99)\n",
      "Requirement already satisfied: pypdfium2 in /opt/conda/lib/python3.10/site-packages (4.30.1)\n",
      "Requirement already satisfied: botocore<1.36.0,>=1.35.99 in /opt/conda/lib/python3.10/site-packages (from boto3) (1.35.99)\n",
      "Requirement already satisfied: jmespath<2.0.0,>=0.7.1 in /opt/conda/lib/python3.10/site-packages (from boto3) (1.0.1)\n",
      "Requirement already satisfied: s3transfer<0.11.0,>=0.10.0 in /opt/conda/lib/python3.10/site-packages (from boto3) (0.10.2)\n",
      "Requirement already satisfied: python-dateutil<3.0.0,>=2.1 in /opt/conda/lib/python3.10/site-packages (from botocore<1.36.0,>=1.35.99->boto3) (2.9.0)\n",
      "Requirement already satisfied: urllib3!=2.2.0,<3,>=1.25.4 in /opt/conda/lib/python3.10/site-packages (from botocore<1.36.0,>=1.35.99->boto3) (1.26.19)\n",
      "Requirement already satisfied: six>=1.5 in /opt/conda/lib/python3.10/site-packages (from python-dateutil<3.0.0,>=2.1->botocore<1.36.0,>=1.35.99->boto3) (1.16.0)\n"
     ]
    }
   ],
   "source": [
    "!pip install --upgrade boto3 pypdfium2"
   ]
  },
  {
   "cell_type": "code",
   "execution_count": 2,
   "id": "2c863400-1edc-419a-a74d-ab89f8cc4952",
   "metadata": {
    "tags": []
   },
   "outputs": [
    {
     "name": "stdout",
     "output_type": "stream",
     "text": [
      "sagemaker.config INFO - Not applying SDK defaults from location: /etc/xdg/sagemaker/config.yaml\n",
      "sagemaker.config INFO - Not applying SDK defaults from location: /home/sagemaker-user/.config/sagemaker/config.yaml\n",
      "1.35.99\n"
     ]
    }
   ],
   "source": [
    "import boto3, json\n",
    "from time import sleep\n",
    "from IPython.display import JSON, IFrame, display\n",
    "import sagemaker\n",
    "\n",
    "print(boto3.__version__)\n",
    "\n",
    "region_name = \"us-west-2\" # can be removed ones BDA is GA and available in other regions.\n",
    "\n",
    "s3 = boto3.client('s3', region_name=region_name)\n",
    "client = boto3.client('bedrock-data-automation', region_name=region_name)\n",
    "run_client = boto3.client('bedrock-data-automation-runtime', region_name=region_name)"
   ]
  },
  {
   "cell_type": "markdown",
   "id": "e7f4fa81-a31a-43fe-a871-4ffcf4cdb285",
   "metadata": {
    "tags": []
   },
   "source": [
    "We will give a unique name to our project and blueprint"
   ]
  },
  {
   "cell_type": "code",
   "execution_count": 3,
   "id": "f93f1a73-681a-41de-a047-d5efd87ae606",
   "metadata": {
    "tags": []
   },
   "outputs": [
    {
     "name": "stdout",
     "output_type": "stream",
     "text": [
      "Bucket_name: sagemaker-us-west-2-762233765926\n"
     ]
    }
   ],
   "source": [
    "project_name = 'my-bda-lending-workbook-v1'\n",
    "blueprint_name = 'my-insurance-blueprint-v1'\n",
    "bucket_name = sagemaker.Session().default_bucket()\n",
    "print(f\"Bucket_name: {bucket_name}\")\n"
   ]
  },
  {
   "cell_type": "markdown",
   "id": "4435a64e-3544-4bab-b8e3-eb68de737b8d",
   "metadata": {},
   "source": [
    "# Step 2: Process a simple PDF file using the standard output"
   ]
  },
  {
   "cell_type": "markdown",
   "id": "eb03bd3c-63e8-43c9-a85e-7ce0a286559f",
   "metadata": {
    "tags": []
   },
   "source": [
    "\n",
    "\n",
    "In this step, we will process a W2 Tax form using BDA Standard Output. Standard output is the default way of interacting with Amazon Bedrock Data Automation (BDA). If you pass a document to the BDA API with no established blueprint or project it returns the default standard output for that file type. \n",
    "\n",
    "https://docs.aws.amazon.com/bedrock/latest/userguide/bda-standard-output.html\n",
    "\n",
    "Standard Output has three levels of granularity. We will use the default. \n",
    "\n",
    "1. Element level granularity (default) – This provides the text of the document in the output format of your choice, separated into different elements. These elements, such as figures, tables, or paragraphs. These are returned in logical reading order based off the structure of the document.\n",
    "\n",
    "2. Page level granularity – This is enabled by default. Page level granularity provides each page of the document in the text output format of your choice.\n",
    "\n",
    "3. Word level granularity – Provides information about individual words without using broader context analysis. Provides you with each word and its location on the page.\n",
    "\n"
   ]
  },
  {
   "cell_type": "code",
   "execution_count": 4,
   "id": "19247c05-ea0f-4417-bc2a-103a14ae968f",
   "metadata": {
    "tags": []
   },
   "outputs": [
    {
     "data": {
      "text/html": [
       "\n",
       "        <iframe\n",
       "            width=\"1000\"\n",
       "            height=\"500\"\n",
       "            src=\"documents/homeowner_insurance_application_sample.pdf\"\n",
       "            frameborder=\"0\"\n",
       "            allowfullscreen\n",
       "            \n",
       "        ></iframe>\n",
       "        "
      ],
      "text/plain": [
       "<IPython.lib.display.IFrame at 0x7f5e3d3affa0>"
      ]
     },
     "execution_count": 4,
     "metadata": {},
     "output_type": "execute_result"
    }
   ],
   "source": [
    "# Upload a W2 Form\n",
    "\n",
    "file_name = 'documents/homeowner_insurance_application_sample.pdf'\n",
    "object_name = f'data_automation/input/{file_name}'\n",
    "output_name = 'data_automation/output'\n",
    "s3.upload_file(file_name, bucket_name, object_name)\n",
    "\n",
    "IFrame(file_name, width=1000, height=500)"
   ]
  },
  {
   "cell_type": "markdown",
   "id": "99c97422-b382-41b0-a551-b2fe180b7e39",
   "metadata": {},
   "source": [
    "We will now nvoke the BDA API to process the document image. "
   ]
  },
  {
   "cell_type": "code",
   "execution_count": 5,
   "id": "5da199ce-f132-468b-8b73-120f48730c59",
   "metadata": {
    "tags": []
   },
   "outputs": [],
   "source": [
    "response = run_client.invoke_data_automation_async(\n",
    "    inputConfiguration={'s3Uri':  f\"s3://{bucket_name}/{object_name}\"},\n",
    "    outputConfiguration={'s3Uri': f\"s3://{bucket_name}/{output_name}\"},)\n",
    "response\n",
    "\n",
    "invoke_arn = response['invocationArn']"
   ]
  },
  {
   "cell_type": "markdown",
   "id": "3521a515-dacb-4295-ac51-237dca6b1522",
   "metadata": {},
   "source": [
    "The BDA call is asynchronous. We will poll until the operation is complete."
   ]
  },
  {
   "cell_type": "code",
   "execution_count": 6,
   "id": "76dceb69-1b17-4f61-9733-b3db9ed3f340",
   "metadata": {
    "tags": []
   },
   "outputs": [
    {
     "name": "stdout",
     "output_type": "stream",
     "text": [
      "InProgress\n",
      "InProgress\n",
      "Success\n"
     ]
    }
   ],
   "source": [
    "in_progress = True\n",
    "while in_progress:\n",
    "    progress = run_client.get_data_automation_status(invocationArn=invoke_arn)\n",
    "    if progress['status'] == 'InProgress':\n",
    "        print(progress['status'])\n",
    "        sleep(10)\n",
    "    else:\n",
    "        break\n",
    "        \n",
    "print(progress['status'])"
   ]
  },
  {
   "cell_type": "markdown",
   "id": "c7c00a7a-7809-4be7-b895-fa65c854260d",
   "metadata": {},
   "source": [
    "Once the status is 'Success', we will now retrieve the results"
   ]
  },
  {
   "cell_type": "code",
   "execution_count": 7,
   "id": "2bd423ca-8604-4539-8790-51af5ce43060",
   "metadata": {
    "tags": []
   },
   "outputs": [],
   "source": [
    "out_loc = progress['outputConfiguration']['s3Uri'].split(\"/job_metadata.json\", 1)[0].split(bucket_name+\"/\")[1]\n",
    "out_loc += \"/0/standard_output/0/result.json\"\n",
    "s3.download_file(bucket_name, out_loc, 'result.json')"
   ]
  },
  {
   "cell_type": "markdown",
   "id": "376eec78-481e-4a96-a96e-af14530b2e85",
   "metadata": {
    "tags": []
   },
   "source": [
    "We will display the JSON of the Standard Output. \\\n",
    "Note the document layout elements: pages and text, along with the sub-types: paragraphs and fooder. "
   ]
  },
  {
   "cell_type": "code",
   "execution_count": 8,
   "id": "72af68eb-7dfb-446a-b8fb-6264c63f4b75",
   "metadata": {
    "tags": []
   },
   "outputs": [
    {
     "data": {
      "application/json": {
       "document": {
        "statistics": {
         "element_count": 38,
         "figure_count": 0,
         "table_count": 5
        }
       },
       "elements": [
        {
         "id": "4a1c56ed-f734-4b7f-a639-ecd27636b115",
         "locations": [
          {
           "page_index": 0
          }
         ],
         "page_indices": [
          0
         ],
         "reading_order": 0,
         "representation": {
          "markdown": "# Homeowners Insurance Application"
         },
         "sub_type": "TITLE",
         "type": "TEXT"
        },
        {
         "id": "2e4542cf-3250-40b8-afad-022edba78901",
         "locations": [
          {
           "page_index": 0
          }
         ],
         "page_indices": [
          0
         ],
         "reading_order": 1,
         "representation": {
          "markdown": "Named Insured(s) and Mailing Address Ziggy Starpixel, 42 Rainbow Sparkle Boulevard Unicornville, NV 12345"
         },
         "sub_type": "PARAGRAPH",
         "type": "TEXT"
        },
        {
         "id": "3dfa8053-56f5-4732-ba3c-a900278d4dea",
         "locations": [
          {
           "page_index": 0
          }
         ],
         "page_indices": [
          0
         ],
         "reading_order": 2,
         "representation": {
          "markdown": "Insurance Company Fake Insurance Co 650 Davis Street San Francisco, CA 94111"
         },
         "sub_type": "PARAGRAPH",
         "type": "TEXT"
        },
        {
         "id": "eaae64cc-c09f-4904-bbc6-58b4e9d7d1af",
         "locations": [
          {
           "page_index": 0
          }
         ],
         "page_indices": [
          0
         ],
         "reading_order": 3,
         "representation": {
          "markdown": "Primary Email: rainbow.unicorn.987654@fakeemail.nowhere Primary Phone #: 555 555 1212 Alternate Phone #: 555 555 1213"
         },
         "sub_type": "PARAGRAPH",
         "type": "TEXT"
        },
        {
         "id": "2df283f1-d212-49a0-ba15-7fd2f9f03956",
         "locations": [
          {
           "page_index": 0
          }
         ],
         "page_indices": [
          0
         ],
         "reading_order": 4,
         "representation": {
          "markdown": "Insured Property 42 Rainbow Sparkle Boulevard Unicornville, NV 12345"
         },
         "sub_type": "PARAGRAPH",
         "type": "TEXT"
        },
        {
         "id": "d0fa69cd-d5e4-4087-837c-7e06228b15e9",
         "locations": [
          {
           "page_index": 0
          }
         ],
         "page_indices": [
          0
         ],
         "reading_order": 5,
         "representation": {
          "markdown": "NOTICE OF INSURANCE INFORMATION PRACTICES"
         },
         "sub_type": "PARAGRAPH",
         "type": "TEXT"
        },
        {
         "id": "5defbcab-0e97-4500-91e2-87e8d6fa3cef",
         "locations": [
          {
           "page_index": 0
          }
         ],
         "page_indices": [
          0
         ],
         "reading_order": 6,
         "representation": {
          "markdown": "In some insurance transactions, we may not be able to get all the information we need directly from you. In that case, we may obtain information from outside sources at our own expense. We would also like to inform you that without prior authorization, we may as permitted by law, provide information about you contained in our records and files to certain persons or organizations."
         },
         "sub_type": "PARAGRAPH",
         "type": "TEXT"
        },
        {
         "id": "d904862e-1439-4258-b51b-22ca1de7dbe4",
         "locations": [
          {
           "page_index": 0
          }
         ],
         "page_indices": [
          0
         ],
         "reading_order": 7,
         "representation": {
          "markdown": "NOTICE: As part of Esurance's underwriting/qualification procedure and subject to applicable laws and regulations, we may obtain information regarding you and other individuals who may be covered by the insurance you are applying for, including: (i) driving record, based on state motor vehicle reports and loss information reports; (ii) your prior insurance record, if any, which will be obtained from your current or prior carrier(s); (iii) credit reports; and (iv) claim history, based on loss information reports."
         },
         "sub_type": "PARAGRAPH",
         "type": "TEXT"
        },
        {
         "id": "2b565963-fd16-4963-b3fe-f6c5e53b41b7",
         "locations": [
          {
           "page_index": 0
          }
         ],
         "reading_order": 8,
         "representation": {
          "markdown": "Primary Applicant Information"
         },
         "sub_type": "PARAGRAPH",
         "type": "TEXT"
        },
        {
         "id": "d1533d45-aac4-432f-b641-f122e64397f8",
         "locations": [
          {
           "page_index": 0
          }
         ],
         "reading_order": 9,
         "representation": {
          "markdown": "Name"
         },
         "sub_type": "PARAGRAPH",
         "type": "TEXT"
        },
        {
         "id": "f8b12e25-8b13-4301-9cbd-0f20c42b7984",
         "locations": [
          {
           "page_index": 0
          }
         ],
         "reading_order": 10,
         "representation": {
          "markdown": "Ziggy Starpixel"
         },
         "sub_type": "PARAGRAPH",
         "type": "TEXT"
        },
        {
         "id": "590978a7-c040-4a4a-97bc-af931d540e94",
         "locations": [
          {
           "page_index": 0
          }
         ],
         "reading_order": 11,
         "representation": {
          "markdown": "Date of Birth"
         },
         "sub_type": "PARAGRAPH",
         "type": "TEXT"
        },
        {
         "id": "d48f9c53-40c7-4b0c-b0ab-c5d33bb436c3",
         "locations": [
          {
           "page_index": 0
          }
         ],
         "reading_order": 12,
         "representation": {
          "markdown": "Gender"
         },
         "sub_type": "PARAGRAPH",
         "type": "TEXT"
        },
        {
         "id": "698db448-91de-462c-be0e-9d5e7d7d160d",
         "locations": [
          {
           "page_index": 0
          }
         ],
         "reading_order": 13,
         "representation": {
          "markdown": "Marital Status"
         },
         "sub_type": "PARAGRAPH",
         "type": "TEXT"
        },
        {
         "id": "894c9d9e-df1f-40ed-b661-52dbf706c6ab",
         "locations": [
          {
           "page_index": 0
          }
         ],
         "reading_order": 14,
         "representation": {
          "markdown": "Education Level"
         },
         "sub_type": "PARAGRAPH",
         "type": "TEXT"
        },
        {
         "id": "f2486190-2106-4233-bfba-dafaad3f5eb0",
         "locations": [
          {
           "page_index": 0
          }
         ],
         "reading_order": 15,
         "representation": {
          "markdown": "2/20/2000"
         },
         "sub_type": "PARAGRAPH",
         "type": "TEXT"
        },
        {
         "id": "98733351-d63b-4c34-8d93-01f2181d1e10",
         "locations": [
          {
           "page_index": 0
          }
         ],
         "reading_order": 16,
         "representation": {
          "markdown": "M"
         },
         "sub_type": "PARAGRAPH",
         "type": "TEXT"
        },
        {
         "id": "533d51fc-a08f-4b38-8e07-2991926ee8a8",
         "locations": [
          {
           "page_index": 0
          }
         ],
         "reading_order": 17,
         "representation": {
          "markdown": "S"
         },
         "sub_type": "PARAGRAPH",
         "type": "TEXT"
        },
        {
         "id": "a037c311-b193-404d-9319-691035139d30",
         "locations": [
          {
           "page_index": 0
          }
         ],
         "reading_order": 18,
         "representation": {
          "markdown": "Length of Time with Current Auto Carrier"
         },
         "sub_type": "PARAGRAPH",
         "type": "TEXT"
        },
        {
         "id": "e3d3ccd2-9bc4-41a9-af37-8c901c2a7fb2",
         "locations": [
          {
           "page_index": 0
          }
         ],
         "reading_order": 19,
         "representation": {
          "markdown": "Length of Time with Prior Auto Carrier"
         },
         "sub_type": "PARAGRAPH",
         "type": "TEXT"
        },
        {
         "id": "2c947d49-5207-4272-97fd-9eea7525e751",
         "locations": [
          {
           "page_index": 0
          }
         ],
         "reading_order": 20,
         "representation": {
          "markdown": "1 Year"
         },
         "sub_type": "PARAGRAPH",
         "type": "TEXT"
        },
        {
         "id": "a9daf6fb-2149-4d74-a917-e20a690341d4",
         "locations": [
          {
           "page_index": 0
          }
         ],
         "reading_order": 21,
         "representation": {
          "markdown": "2 years"
         },
         "sub_type": "PARAGRAPH",
         "type": "TEXT"
        },
        {
         "id": "1ad506bc-646f-4690-8972-ff8f93836305",
         "locations": [
          {
           "page_index": 0
          }
         ],
         "reading_order": 22,
         "representation": {
          "markdown": "Years with Prior Property Company"
         },
         "sub_type": "PARAGRAPH",
         "type": "TEXT"
        },
        {
         "id": "46e1b8e7-b8b3-4de7-9b13-c44e22267b07",
         "locations": [
          {
           "page_index": 0
          }
         ],
         "reading_order": 23,
         "representation": {
          "markdown": "Type of Current Property Policy"
         },
         "sub_type": "PARAGRAPH",
         "type": "TEXT"
        },
        {
         "id": "207eb926-b654-4a60-8102-a61a09e4cbd8",
         "locations": [
          {
           "page_index": 0
          }
         ],
         "reading_order": 24,
         "representation": {
          "markdown": "1 Year"
         },
         "sub_type": "PARAGRAPH",
         "type": "TEXT"
        },
        {
         "id": "79a9d5cf-134a-4c18-9dd1-cd2dcc27f062",
         "locations": [
          {
           "page_index": 0
          }
         ],
         "reading_order": 25,
         "representation": {
          "markdown": "Home"
         },
         "sub_type": "PARAGRAPH",
         "type": "TEXT"
        },
        {
         "id": "dc621b72-21b4-40fe-b4d3-cc4ab4556df2",
         "locations": [
          {
           "page_index": 0
          }
         ],
         "reading_order": 26,
         "representation": {
          "markdown": "Co-Applicant Information"
         },
         "sub_type": "PARAGRAPH",
         "type": "TEXT"
        },
        {
         "id": "d2d9b327-4e70-417f-9bec-2c6d8a86a251",
         "locations": [
          {
           "page_index": 0
          }
         ],
         "reading_order": 27,
         "representation": {
          "markdown": "Name"
         },
         "sub_type": "PARAGRAPH",
         "type": "TEXT"
        },
        {
         "id": "5b06d805-c1bb-4062-b2a0-e747b1185544",
         "locations": [
          {
           "page_index": 0
          }
         ],
         "reading_order": 28,
         "representation": {
          "markdown": "Luna Starlight-Glitterdust"
         },
         "sub_type": "PARAGRAPH",
         "type": "TEXT"
        },
        {
         "id": "993bc485-015a-4c0b-a465-74187b74744d",
         "locations": [
          {
           "page_index": 0
          }
         ],
         "reading_order": 29,
         "representation": {
          "markdown": "Length of Time with Current Auto Carrier"
         },
         "sub_type": "PARAGRAPH",
         "type": "TEXT"
        },
        {
         "id": "292f8a2f-d362-48d2-9388-e73bfc16abd8",
         "locations": [
          {
           "page_index": 0
          }
         ],
         "reading_order": 30,
         "representation": {
          "markdown": "Length of Time with Prior Auto Carrier"
         },
         "sub_type": "PARAGRAPH",
         "type": "TEXT"
        },
        {
         "id": "a3dc1198-182b-4fa3-9f65-9132dcbde192",
         "locations": [
          {
           "page_index": 0
          }
         ],
         "reading_order": 31,
         "representation": {
          "markdown": "1 year"
         },
         "sub_type": "PARAGRAPH",
         "type": "TEXT"
        },
        {
         "id": "0cbbe74b-0893-44b4-b662-b684c70d607c",
         "locations": [
          {
           "page_index": 0
          }
         ],
         "reading_order": 32,
         "representation": {
          "markdown": "6 months"
         },
         "sub_type": "PARAGRAPH",
         "type": "TEXT"
        },
        {
         "id": "f02b4ac4-e3d3-447d-95e6-27ceec009f08",
         "locations": [
          {
           "page_index": 0
          }
         ],
         "reading_order": 33,
         "representation": {
          "markdown": "Existing Esurance Policy\tDrivers License Number\tDL State\tCurrently Insured - Auto\n123456\t1234567A\tNV\tFake Auto Ins Co\n"
         },
         "sub_type": "PARAGRAPH",
         "type": "TEXT"
        },
        {
         "id": "aa269c8d-79ea-41fa-918a-676557032e6b",
         "locations": [
          {
           "page_index": 0
          }
         ],
         "reading_order": 34,
         "representation": {
          "markdown": "Date of Birth\tGender\tMarital Status\tEducation Level\n2/29/2000\tF\tS\tGraduate\n"
         },
         "sub_type": "PARAGRAPH",
         "type": "TEXT"
        },
        {
         "id": "7417222e-84ff-4fca-ac26-c7cfba61801d",
         "locations": [
          {
           "page_index": 0
          }
         ],
         "reading_order": 35,
         "representation": {
          "markdown": "Relationship to Primary Applicant\tDrivers License Number\tDL State\tCurrently Insured- Auto\nDomestic Partner\t987654A\tNV\tFake Auto Ins Co.\n"
         },
         "sub_type": "PARAGRAPH",
         "type": "TEXT"
        },
        {
         "id": "da67beff-a4b8-4d4e-a886-3443d4cba11d",
         "locations": [
          {
           "page_index": 0
          }
         ],
         "reading_order": 36,
         "representation": {
          "markdown": "Policy Number\tPurchase Date and Time\tEffective Date\tExpiration Date\n() *\tUi%da\t\t\n"
         },
         "sub_type": "PARAGRAPH",
         "type": "TEXT"
        },
        {
         "id": "2babce62-baac-418f-8412-17550dcdae79",
         "locations": [
          {
           "page_index": 0
          }
         ],
         "reading_order": 37,
         "representation": {
          "markdown": "\tTotal Auto Claims, Accidents, and Violations for all Applicants\t\t\t\nNumber of Auto Accidents\t\tNumber of Violations\t\tNumber of Comp Claims Page 1\nAt-Fault H150100 NV 02 16\tNot-at-Fault\tMajor\tMinor\t\n"
         },
         "sub_type": "PARAGRAPH",
         "type": "TEXT"
        }
       ],
       "metadata": {
        "asset_id": "0",
        "end_page_index": 0,
        "logical_subdocument_id": "0",
        "number_of_pages": 1,
        "s3_bucket": "sagemaker-us-west-2-762233765926",
        "s3_key": "data_automation/input/documents/homeowner_insurance_application_sample.pdf",
        "semantic_modality": "DOCUMENT",
        "start_page_index": 0
       },
       "pages": [
        {
         "asset_metadata": {
          "corners": [
           [
            0,
            0
           ],
           [
            1,
            -1.6190266293106658e-05
           ],
           [
            1.0000259459252452,
            1.0002521306818182
           ],
           [
            -0.00015709075273252,
            0.9999998520359848
           ]
          ],
          "rectified_image_height_pixels": 3300,
          "rectified_image_width_pixels": 2550
         },
         "id": "b238f392-3ca6-41e5-aa8b-7b172b6cc370",
         "page_index": 0,
         "representation": {
          "markdown": "# Homeowners Insurance Application\n\nNamed Insured(s) and Mailing Address Ziggy Starpixel, 42 Rainbow Sparkle Boulevard Unicornville, NV 12345\n\nInsurance Company Fake Insurance Co 650 Davis Street San Francisco, CA 94111\n\nPrimary Email: rainbow.unicorn.987654@fakeemail.nowhere Primary Phone #: 555 555 1212 Alternate Phone #: 555 555 1213\n\nInsured Property 42 Rainbow Sparkle Boulevard Unicornville, NV 12345\n\nNOTICE OF INSURANCE INFORMATION PRACTICES\n\nIn some insurance transactions, we may not be able to get all the information we need directly from you. In that case, we may obtain information from outside sources at our own expense. We would also like to inform you that without prior authorization, we may as permitted by law, provide information about you contained in our records and files to certain persons or organizations.\n\nNOTICE: As part of Esurance's underwriting/qualification procedure and subject to applicable laws and regulations, we may obtain information regarding you and other individuals who may be covered by the insurance you are applying for, including: (i) driving record, based on state motor vehicle reports and loss information reports; (ii) your prior insurance record, if any, which will be obtained from your current or prior carrier(s); (iii) credit reports; and (iv) claim history, based on loss information reports.\n\nPrimary Applicant Information\n\nName\n\nZiggy Starpixel\n\nDate of Birth\n\nGender\n\nMarital Status\n\nEducation Level\n\n2/20/2000\n\nM\n\nS\n\nLength of Time with Current Auto Carrier\n\nLength of Time with Prior Auto Carrier\n\n1 Year\n\n2 years\n\nYears with Prior Property Company\n\nType of Current Property Policy\n\n1 Year\n\nHome\n\nCo-Applicant Information\n\nName\n\nLuna Starlight-Glitterdust\n\nLength of Time with Current Auto Carrier\n\nLength of Time with Prior Auto Carrier\n\n1 year\n\n6 months\n\nExisting Esurance Policy\tDrivers License Number\tDL State\tCurrently Insured - Auto\n123456\t1234567A\tNV\tFake Auto Ins Co\n\nDate of Birth\tGender\tMarital Status\tEducation Level\n2/29/2000\tF\tS\tGraduate\n\nRelationship to Primary Applicant\tDrivers License Number\tDL State\tCurrently Insured- Auto\nDomestic Partner\t987654A\tNV\tFake Auto Ins Co.\n\nPolicy Number\tPurchase Date and Time\tEffective Date\tExpiration Date\n() *\tUi%da\t\t\n\n\tTotal Auto Claims, Accidents, and Violations for all Applicants\t\t\t\nNumber of Auto Accidents\t\tNumber of Violations\t\tNumber of Comp Claims Page 1\nAt-Fault H150100 NV 02 16\tNot-at-Fault\tMajor\tMinor\t\n"
         },
         "statistics": {
          "element_count": 38,
          "figure_count": 0,
          "table_count": 5
         }
        }
       ]
      },
      "text/plain": [
       "<IPython.core.display.JSON object>"
      ]
     },
     "execution_count": 8,
     "metadata": {
      "application/json": {
       "expand": true,
       "expanded": false,
       "root": "root"
      }
     },
     "output_type": "execute_result"
    }
   ],
   "source": [
    "data = json.load(open('result.json'))\n",
    "JSON(data, expand=True)"
   ]
  },
  {
   "cell_type": "markdown",
   "id": "f9610c6b-eee7-45f3-8a8d-9fb34472775f",
   "metadata": {},
   "source": [
    "Lets view the markdown representation."
   ]
  },
  {
   "cell_type": "code",
   "execution_count": 9,
   "id": "55d48fd4-a859-46a6-bee7-0849b12af50d",
   "metadata": {
    "scrolled": true
   },
   "outputs": [
    {
     "data": {
      "text/markdown": [
       "# Homeowners Insurance Application\n",
       "\n",
       "Named Insured(s) and Mailing Address Ziggy Starpixel, 42 Rainbow Sparkle Boulevard Unicornville, NV 12345\n",
       "\n",
       "Insurance Company Fake Insurance Co 650 Davis Street San Francisco, CA 94111\n",
       "\n",
       "Primary Email: rainbow.unicorn.987654@fakeemail.nowhere Primary Phone #: 555 555 1212 Alternate Phone #: 555 555 1213\n",
       "\n",
       "Insured Property 42 Rainbow Sparkle Boulevard Unicornville, NV 12345\n",
       "\n",
       "NOTICE OF INSURANCE INFORMATION PRACTICES\n",
       "\n",
       "In some insurance transactions, we may not be able to get all the information we need directly from you. In that case, we may obtain information from outside sources at our own expense. We would also like to inform you that without prior authorization, we may as permitted by law, provide information about you contained in our records and files to certain persons or organizations.\n",
       "\n",
       "NOTICE: As part of Esurance's underwriting/qualification procedure and subject to applicable laws and regulations, we may obtain information regarding you and other individuals who may be covered by the insurance you are applying for, including: (i) driving record, based on state motor vehicle reports and loss information reports; (ii) your prior insurance record, if any, which will be obtained from your current or prior carrier(s); (iii) credit reports; and (iv) claim history, based on loss information reports.\n",
       "\n",
       "Primary Applicant Information\n",
       "\n",
       "Name\n",
       "\n",
       "Ziggy Starpixel\n",
       "\n",
       "Date of Birth\n",
       "\n",
       "Gender\n",
       "\n",
       "Marital Status\n",
       "\n",
       "Education Level\n",
       "\n",
       "2/20/2000\n",
       "\n",
       "M\n",
       "\n",
       "S\n",
       "\n",
       "Length of Time with Current Auto Carrier\n",
       "\n",
       "Length of Time with Prior Auto Carrier\n",
       "\n",
       "1 Year\n",
       "\n",
       "2 years\n",
       "\n",
       "Years with Prior Property Company\n",
       "\n",
       "Type of Current Property Policy\n",
       "\n",
       "1 Year\n",
       "\n",
       "Home\n",
       "\n",
       "Co-Applicant Information\n",
       "\n",
       "Name\n",
       "\n",
       "Luna Starlight-Glitterdust\n",
       "\n",
       "Length of Time with Current Auto Carrier\n",
       "\n",
       "Length of Time with Prior Auto Carrier\n",
       "\n",
       "1 year\n",
       "\n",
       "6 months\n",
       "\n",
       "Existing Esurance Policy\tDrivers License Number\tDL State\tCurrently Insured - Auto\n",
       "123456\t1234567A\tNV\tFake Auto Ins Co\n",
       "\n",
       "Date of Birth\tGender\tMarital Status\tEducation Level\n",
       "2/29/2000\tF\tS\tGraduate\n",
       "\n",
       "Relationship to Primary Applicant\tDrivers License Number\tDL State\tCurrently Insured- Auto\n",
       "Domestic Partner\t987654A\tNV\tFake Auto Ins Co.\n",
       "\n",
       "Policy Number\tPurchase Date and Time\tEffective Date\tExpiration Date\n",
       "() *\tUi%da\t\t\n",
       "\n",
       "\tTotal Auto Claims, Accidents, and Violations for all Applicants\t\t\t\n",
       "Number of Auto Accidents\t\tNumber of Violations\t\tNumber of Comp Claims Page 1\n",
       "At-Fault H150100 NV 02 16\tNot-at-Fault\tMajor\tMinor\t\n"
      ],
      "text/plain": [
       "<IPython.core.display.Markdown object>"
      ]
     },
     "metadata": {},
     "output_type": "display_data"
    }
   ],
   "source": [
    "from IPython.display import Markdown, display\n",
    "\n",
    "pages_md = [page[\"representation\"][\"markdown\"] for page in data['pages']]\n",
    "display(Markdown(pages_md[0]))"
   ]
  },
  {
   "cell_type": "markdown",
   "id": "3aed2fe1-6515-4083-bf35-c6320ccfbf06",
   "metadata": {},
   "source": [
    "# Step 3: Create custom blueprint for Homeowner Insurance Form\n",
    "\n",
    "Amazon Bedrock Data Automation (BDA) includes several sample blueprints to help you get started with custom output for documents and images. \n",
    "\n",
    "We will next create out own Blueprint for the Homeowners Insurance document. This is a common document seen in a residential loan application. We need just 4 fields from this documment to proceses the loan application. \n",
    "\n",
    "1. The insured's name\n",
    "2. The insurance company name\n",
    "3. The address of the insured property\n",
    "4. The primary email address"
   ]
  },
  {
   "cell_type": "code",
   "execution_count": 10,
   "id": "9fd36116-1ab3-4f5e-a8e6-fb9d4e17f025",
   "metadata": {
    "tags": []
   },
   "outputs": [
    {
     "data": {
      "text/html": [
       "\n",
       "        <iframe\n",
       "            width=\"1000\"\n",
       "            height=\"500\"\n",
       "            src=\"documents/homeowner_insurance_application_sample.pdf\"\n",
       "            frameborder=\"0\"\n",
       "            allowfullscreen\n",
       "            \n",
       "        ></iframe>\n",
       "        "
      ],
      "text/plain": [
       "<IPython.lib.display.IFrame at 0x7f5e9409e290>"
      ]
     },
     "execution_count": 10,
     "metadata": {},
     "output_type": "execute_result"
    }
   ],
   "source": [
    "# Display the Form\n",
    "\n",
    "file_name = 'documents/homeowner_insurance_application_sample.pdf'\n",
    "object_name = f'data_automation/input/{file_name}'\n",
    "output_name = 'data_automation/output'\n",
    "s3.upload_file(file_name, bucket_name, object_name)\n",
    "\n",
    "IFrame(\"documents/homeowner_insurance_application_sample.pdf\", width=1000, height=500)"
   ]
  },
  {
   "cell_type": "code",
   "execution_count": 11,
   "id": "f9871bb6-f162-4e26-93cb-6d60146cd8d9",
   "metadata": {},
   "outputs": [
    {
     "name": "stdout",
     "output_type": "stream",
     "text": [
      "Deleting existing project: {'projectArn': 'arn:aws:bedrock:us-west-2:762233765926:data-automation-project/5f46f812e5a7', 'projectStage': 'LIVE', 'projectName': 'my-bda-lending-workbook-v1', 'creationTime': datetime.datetime(2025, 1, 15, 13, 49, 13, 944000, tzinfo=tzlocal())}\n",
      "Deleting existing blueprint: {'blueprintArn': 'arn:aws:bedrock:us-west-2:762233765926:blueprint/253d40da7415', 'blueprintStage': 'LIVE', 'blueprintName': 'my-insurance-blueprint-v1', 'creationTime': datetime.datetime(2025, 1, 15, 13, 48, 47, 183000, tzinfo=tzlocal()), 'lastModifiedTime': datetime.datetime(2025, 1, 15, 13, 48, 47, 183000, tzinfo=tzlocal())}\n"
     ]
    }
   ],
   "source": [
    "# delete project if it already exists\n",
    "projects_existing = [project for project in client.list_data_automation_projects()[\"projects\"] if project[\"projectName\"] == project_name]\n",
    "if len(projects_existing) >0:\n",
    "    print(f\"Deleting existing project: {projects_existing[0]}\")\n",
    "    client.delete_data_automation_project(projectArn=projects_existing[0][\"projectArn\"])\n",
    "\n",
    "# delete blueprint if it already exists\n",
    "blueprints_existing = [blueprint for blueprint in client.list_blueprints()[\"blueprints\"] if blueprint[\"blueprintName\"] == blueprint_name]\n",
    "if len(blueprints_existing) >0:\n",
    "    print(f\"Deleting existing blueprint: {blueprints_existing[0]}\")\n",
    "    client.delete_blueprint(blueprintArn=blueprints_existing[0][\"blueprintArn\"])"
   ]
  },
  {
   "cell_type": "code",
   "execution_count": 12,
   "id": "3a9c132e-492f-42d8-82aa-6cac6e8e3d0c",
   "metadata": {
    "tags": []
   },
   "outputs": [
    {
     "data": {
      "application/json": {
       "ResponseMetadata": {
        "HTTPHeaders": {
         "connection": "keep-alive",
         "content-length": "1007",
         "content-type": "application/json",
         "date": "Wed, 15 Jan 2025 14:28:12 GMT",
         "x-amzn-requestid": "53868a7b-b0e8-4d28-bc77-3f9dbefdd558"
        },
        "HTTPStatusCode": 201,
        "RequestId": "53868a7b-b0e8-4d28-bc77-3f9dbefdd558",
        "RetryAttempts": 0
       },
       "blueprint": {
        "blueprintArn": "arn:aws:bedrock:us-west-2:762233765926:blueprint/ccf05918ff0a",
        "blueprintName": "my-insurance-blueprint-v1",
        "blueprintStage": "LIVE",
        "creationTime": "2025-01-15T14:28:12.761000Z",
        "lastModifiedTime": "2025-01-15T14:28:12.761000Z",
        "schema": "{\"$schema\": \"http://json-schema.org/draft-07/schema#\", \"description\": \"This blueprint will process a homeowners insurance applicatation form\", \"documentClass\": \"default\", \"type\": \"object\", \"properties\": {\"Insured Name\": {\"type\": \"string\", \"inferenceType\": \"extractive\", \"description\": \"Insured's Name\"}, \"Insurance Company\": {\"type\": \"string\", \"inferenceType\": \"extractive\", \"description\": \"insurance company name\"}, \"Insured Address\": {\"type\": \"string\", \"inferenceType\": \"extractive\", \"description\": \"the address of the insured property\"}, \"Email Address\": {\"type\": \"string\", \"inferenceType\": \"extractive\", \"description\": \"the primary email address\"}}}",
        "type": "DOCUMENT"
       }
      },
      "text/plain": [
       "<IPython.core.display.JSON object>"
      ]
     },
     "execution_count": 12,
     "metadata": {
      "application/json": {
       "expanded": true,
       "root": "root"
      }
     },
     "output_type": "execute_result"
    }
   ],
   "source": [
    "response = client.create_blueprint(\n",
    "    blueprintName=blueprint_name,\n",
    "    type='DOCUMENT',\n",
    "    blueprintStage='LIVE',\n",
    "    schema=json.dumps({\n",
    "    \"$schema\": \"http://json-schema.org/draft-07/schema#\",\n",
    "    \"description\": \"This blueprint will process a homeowners insurance applicatation form\",\n",
    "    \"documentClass\": \"default\",\n",
    "    \"type\": \"object\",\n",
    "    \"properties\": {\n",
    "        \"Insured Name\":{\n",
    "           \"type\":\"string\",\n",
    "           \"inferenceType\":\"extractive\",\n",
    "           \"description\":\"Insured's Name\",\n",
    "        },\n",
    "           \"Insurance Company\":{\n",
    "           \"type\":\"string\",\n",
    "           \"inferenceType\":\"extractive\",\n",
    "           \"description\":\"insurance company name\",\n",
    "        },  \n",
    "           \"Insured Address\":{\n",
    "           \"type\":\"string\",\n",
    "           \"inferenceType\":\"extractive\",\n",
    "           \"description\":\"the address of the insured property\",\n",
    "        },\n",
    "           \"Email Address\":{\n",
    "           \"type\":\"string\",\n",
    "           \"inferenceType\":\"extractive\",\n",
    "           \"description\":\"the primary email address\",\n",
    "        }\n",
    "        }\n",
    "    })\n",
    ")\n",
    "JSON(response, expanded=True)"
   ]
  },
  {
   "cell_type": "code",
   "execution_count": 13,
   "id": "9cbac6d7",
   "metadata": {
    "scrolled": true,
    "tags": []
   },
   "outputs": [
    {
     "data": {
      "text/plain": [
       "'arn:aws:bedrock:us-west-2:762233765926:blueprint/ccf05918ff0a'"
      ]
     },
     "execution_count": 13,
     "metadata": {},
     "output_type": "execute_result"
    }
   ],
   "source": [
    "blueprint_arn = response['blueprint']['blueprintArn']\n",
    "blueprint_arn"
   ]
  },
  {
   "cell_type": "markdown",
   "id": "0db1516f-d721-4338-9c43-3ea56e65c37a",
   "metadata": {},
   "source": [
    "# Step 4 - Use our custom blueprint to process a Homeowner Insurance Form"
   ]
  },
  {
   "cell_type": "code",
   "execution_count": 14,
   "id": "db323787-1fc8-40e3-ac28-eb564631c441",
   "metadata": {
    "tags": []
   },
   "outputs": [
    {
     "data": {
      "text/html": [
       "\n",
       "        <iframe\n",
       "            width=\"1000\"\n",
       "            height=\"500\"\n",
       "            src=\"documents/homeowner_insurance_application_sample.pdf\"\n",
       "            frameborder=\"0\"\n",
       "            allowfullscreen\n",
       "            \n",
       "        ></iframe>\n",
       "        "
      ],
      "text/plain": [
       "<IPython.lib.display.IFrame at 0x7f5e3d337040>"
      ]
     },
     "execution_count": 14,
     "metadata": {},
     "output_type": "execute_result"
    }
   ],
   "source": [
    "# Upload the Form\n",
    "\n",
    "file_name = 'documents/homeowner_insurance_application_sample.pdf'\n",
    "object_name = f'data_automation/input/{file_name}'\n",
    "output_name = 'data_automation/output'\n",
    "s3.upload_file(file_name, bucket_name, object_name)\n",
    "\n",
    "IFrame(\"documents/homeowner_insurance_application_sample.pdf\", width=1000, height=500)"
   ]
  },
  {
   "cell_type": "code",
   "execution_count": 15,
   "id": "9e51bb89-6208-47e1-9052-791016d978ec",
   "metadata": {
    "tags": []
   },
   "outputs": [
    {
     "data": {
      "text/plain": [
       "'arn:aws:bedrock:us-west-2:762233765926:data-automation-invocation/31e43131-ca63-4040-af89-41cab91d64d3'"
      ]
     },
     "execution_count": 15,
     "metadata": {},
     "output_type": "execute_result"
    }
   ],
   "source": [
    "response = run_client.invoke_data_automation_async(\n",
    "    inputConfiguration={'s3Uri':  f\"s3://{bucket_name}/{object_name}\"},\n",
    "    outputConfiguration={'s3Uri': f\"s3://{bucket_name}/{output_name}\"},\n",
    "    blueprints=[{'blueprintArn': blueprint_arn, 'stage': 'LIVE'}])\n",
    "response\n",
    "\n",
    "invoke_arn = response['invocationArn']\n",
    "invoke_arn"
   ]
  },
  {
   "cell_type": "code",
   "execution_count": 16,
   "id": "7743fc99-124e-4e25-a6a4-1eb74dc7d7b3",
   "metadata": {
    "tags": []
   },
   "outputs": [
    {
     "name": "stdout",
     "output_type": "stream",
     "text": [
      "InProgress\n",
      "InProgress\n",
      "InProgress\n",
      "InProgress\n",
      "InProgress\n",
      "Success\n"
     ]
    }
   ],
   "source": [
    "in_progress = True\n",
    "while in_progress:\n",
    "    progress = run_client.get_data_automation_status(invocationArn=invoke_arn)\n",
    "    if progress['status'] == 'InProgress':\n",
    "        print(progress['status'])\n",
    "        sleep(5)\n",
    "    else:\n",
    "        break\n",
    "        \n",
    "print(progress['status'])"
   ]
  },
  {
   "cell_type": "markdown",
   "id": "14db4b59-b8f4-4779-aafa-e597594d964a",
   "metadata": {},
   "source": [
    "### Get Results\n",
    "\n",
    "Note the four fields we requested in the blueprint have been returned"
   ]
  },
  {
   "cell_type": "code",
   "execution_count": 17,
   "id": "33b1c274-9393-409a-8ca5-277bdee1f4fd",
   "metadata": {
    "tags": []
   },
   "outputs": [
    {
     "data": {
      "text/plain": [
       "'data_automation/output/31e43131-ca63-4040-af89-41cab91d64d3/0/custom_output/0/result.json'"
      ]
     },
     "execution_count": 17,
     "metadata": {},
     "output_type": "execute_result"
    }
   ],
   "source": [
    "out_loc = progress['outputConfiguration']['s3Uri'].split(\"/job_metadata.json\", 1)[0].split(bucket_name+\"/\")[1]\n",
    "out_loc += \"/0/custom_output/0/result.json\"\n",
    "out_loc"
   ]
  },
  {
   "cell_type": "code",
   "execution_count": 18,
   "id": "1175444c-9a30-4f0f-8b0b-825c6ca66a07",
   "metadata": {
    "tags": []
   },
   "outputs": [],
   "source": [
    "s3.download_file(bucket_name, out_loc, 'result.json')"
   ]
  },
  {
   "cell_type": "code",
   "execution_count": 19,
   "id": "af845d3e-4dd9-4683-b2f8-7b5eec8c96c5",
   "metadata": {
    "tags": []
   },
   "outputs": [
    {
     "name": "stdout",
     "output_type": "stream",
     "text": [
      "{\n",
      "  \"Insured Address\": \"42 Rainbow Sparkle Boulevard Unicornville, NV 12345\",\n",
      "  \"Insurance Company\": \"Fake Insurance Co\",\n",
      "  \"Insured Name\": \"Ziggy Starpixel\",\n",
      "  \"Email Address\": \"rainbow.unicorn.987654@fakeemail.nowhere\"\n",
      "}\n"
     ]
    }
   ],
   "source": [
    "data = json.load(open('result.json'))\n",
    "print(json.dumps(data['inference_result'], indent=2))\n",
    "\n",
    "#print(json.dumps(data, indent=2))"
   ]
  },
  {
   "cell_type": "markdown",
   "id": "055a14c3",
   "metadata": {},
   "source": [
    "# Step 5: Create automation project and add blueprints\n",
    "\n",
    "### Create automation project\n",
    "\n",
    "To process a lending package we need to be able to support processing of multiple document types.\n",
    "We add our custom blueprints and multiple existing standard blueprints.\n",
    "\n",
    "1. Homeowner Insurance Application (custom)\n",
    "2. Drivers License ID Card\n",
    "3. Bank Statements\n",
    "4. W2 Tax form\n",
    "5. Pay Stubs\n",
    "6. A Check\n"
   ]
  },
  {
   "cell_type": "markdown",
   "id": "e0048923-9756-4f50-9a27-f2808928722f",
   "metadata": {},
   "source": [
    "Lets define the output format of the standard output using standard output configuration for BDA.\n",
    "\n",
    "Document Reference: https://docs.aws.amazon.com/bedrock/latest/userguide/bda-how-it-works.html"
   ]
  },
  {
   "cell_type": "code",
   "execution_count": 20,
   "id": "dbdcc545-3e38-4992-a76c-4f173f9a52bd",
   "metadata": {
    "tags": []
   },
   "outputs": [
    {
     "data": {
      "application/json": {
       "audio": {
        "extraction": {
         "category": {
          "state": "ENABLED",
          "types": [
           "TRANSCRIPT"
          ]
         }
        },
        "generativeField": {
         "state": "ENABLED",
         "types": [
          "IAB"
         ]
        }
       },
       "document": {
        "extraction": {
         "boundingBox": {
          "state": "ENABLED"
         },
         "granularity": {
          "types": [
           "PAGE",
           "ELEMENT"
          ]
         }
        },
        "generativeField": {
         "state": "ENABLED"
        },
        "outputFormat": {
         "additionalFileFormat": {
          "state": "DISABLED"
         },
         "textFormat": {
          "types": [
           "PLAIN_TEXT",
           "MARKDOWN",
           "HTML",
           "CSV"
          ]
         }
        }
       },
       "image": {
        "extraction": {
         "boundingBox": {
          "state": "ENABLED"
         },
         "category": {
          "state": "ENABLED",
          "types": [
           "TEXT_DETECTION"
          ]
         }
        },
        "generativeField": {
         "state": "ENABLED",
         "types": [
          "IMAGE_SUMMARY"
         ]
        }
       },
       "video": {
        "extraction": {
         "boundingBox": {
          "state": "ENABLED"
         },
         "category": {
          "state": "ENABLED",
          "types": [
           "TEXT_DETECTION"
          ]
         }
        },
        "generativeField": {
         "state": "ENABLED",
         "types": [
          "VIDEO_SUMMARY",
          "SCENE_SUMMARY"
         ]
        }
       }
      },
      "text/plain": [
       "<IPython.core.display.JSON object>"
      ]
     },
     "execution_count": 20,
     "metadata": {
      "application/json": {
       "expanded": false,
       "root": "root"
      }
     },
     "output_type": "execute_result"
    }
   ],
   "source": [
    "output_config =  {\n",
    "  \"document\": {\n",
    "    \"extraction\": {\n",
    "      \"granularity\": {\n",
    "        \"types\": [\n",
    "          \"PAGE\",\n",
    "          \"ELEMENT\"\n",
    "        ]\n",
    "      },\n",
    "      \"boundingBox\": {\n",
    "        \"state\": \"ENABLED\"\n",
    "      }\n",
    "    },\n",
    "    \"generativeField\": {\n",
    "      \"state\": \"ENABLED\"               \n",
    "    },\n",
    "    \"outputFormat\": {\n",
    "      \"textFormat\": {\n",
    "        \"types\": ['PLAIN_TEXT','MARKDOWN','HTML','CSV']\n",
    "      },\n",
    "      \"additionalFileFormat\": {\n",
    "        \"state\": \"DISABLED\"\n",
    "      }\n",
    "    }\n",
    "  },\n",
    "  \"image\": {\n",
    "    \"extraction\": {\n",
    "      \"category\": {\n",
    "        \"state\": \"ENABLED\",\n",
    "        \"types\": [\n",
    "          \"TEXT_DETECTION\"\n",
    "        ]\n",
    "      },\n",
    "      \"boundingBox\": {\n",
    "        \"state\": \"ENABLED\"\n",
    "      }\n",
    "    },\n",
    "    \"generativeField\": {\n",
    "      \"state\": \"ENABLED\",\n",
    "      \"types\": [\n",
    "        \"IMAGE_SUMMARY\"\n",
    "      ]\n",
    "    }\n",
    "  },\n",
    "  \"video\": {\n",
    "    \"extraction\": {\n",
    "      \"category\": {\n",
    "        \"state\": \"ENABLED\",\n",
    "        \"types\": [\n",
    "          \"TEXT_DETECTION\"\n",
    "        ]\n",
    "      },\n",
    "      \"boundingBox\": {\n",
    "        \"state\": \"ENABLED\"\n",
    "      }\n",
    "    },\n",
    "    \"generativeField\": {\n",
    "      \"state\": \"ENABLED\",\n",
    "      \"types\": [\n",
    "        \"VIDEO_SUMMARY\",\n",
    "        \"SCENE_SUMMARY\"\n",
    "      ]\n",
    "    }\n",
    "  },\n",
    "  \"audio\": {\n",
    "    \"extraction\": {\n",
    "      \"category\": {\n",
    "        \"state\": \"ENABLED\",\n",
    "        \"types\": [\n",
    "          \"TRANSCRIPT\"\n",
    "        ]\n",
    "      }\n",
    "    },\n",
    "    \"generativeField\": {\n",
    "      \"state\": \"ENABLED\",\n",
    "      \"types\": [\"IAB\"]\n",
    "    }\n",
    "  }\n",
    "}\n",
    "\n",
    "JSON(output_config)"
   ]
  },
  {
   "cell_type": "code",
   "execution_count": 21,
   "id": "02ae46ee-505c-4b30-b1c1-f9d15e273e1e",
   "metadata": {
    "tags": []
   },
   "outputs": [
    {
     "name": "stdout",
     "output_type": "stream",
     "text": [
      "{'ResponseMetadata': {'RequestId': 'b99436ec-21a9-4680-81f2-e90ac81ae5f6', 'HTTPStatusCode': 201, 'HTTPHeaders': {'date': 'Wed, 15 Jan 2025 14:28:39 GMT', 'content-type': 'application/json', 'content-length': '137', 'connection': 'keep-alive', 'x-amzn-requestid': 'b99436ec-21a9-4680-81f2-e90ac81ae5f6'}, 'RetryAttempts': 0}, 'projectArn': 'arn:aws:bedrock:us-west-2:762233765926:data-automation-project/cb7d1d57400b', 'projectStage': 'LIVE', 'status': 'IN_PROGRESS'}\n"
     ]
    },
    {
     "data": {
      "application/json": {
       "ResponseMetadata": {
        "HTTPHeaders": {
         "connection": "keep-alive",
         "content-length": "137",
         "content-type": "application/json",
         "date": "Wed, 15 Jan 2025 14:28:39 GMT",
         "x-amzn-requestid": "b99436ec-21a9-4680-81f2-e90ac81ae5f6"
        },
        "HTTPStatusCode": 201,
        "RequestId": "b99436ec-21a9-4680-81f2-e90ac81ae5f6",
        "RetryAttempts": 0
       },
       "projectArn": "arn:aws:bedrock:us-west-2:762233765926:data-automation-project/cb7d1d57400b",
       "projectStage": "LIVE",
       "status": "IN_PROGRESS"
      },
      "text/plain": [
       "<IPython.core.display.JSON object>"
      ]
     },
     "execution_count": 21,
     "metadata": {
      "application/json": {
       "expanded": true,
       "root": "root"
      }
     },
     "output_type": "execute_result"
    }
   ],
   "source": [
    "response = client.create_data_automation_project(\n",
    "    projectName=project_name,\n",
    "    projectDescription=\"Workbook to process Lending Applictions\",\n",
    "    projectStage='LIVE',\n",
    "    standardOutputConfiguration=output_config,\n",
    ")\n",
    "\n",
    "print(response)\n",
    "\n",
    "project_arn = response['projectArn']\n",
    "JSON(response, expanded=True)"
   ]
  },
  {
   "cell_type": "markdown",
   "id": "a3700527-a701-476a-9ea8-67eac762f4a7",
   "metadata": {},
   "source": [
    "### Add blueprints to automaton project\n",
    "\n",
    "Our project will need blueprints needed to processess a loan applicaiton. We will add the W2 Tax Form blueprint we just created, as well as standard blueprints for these documents:\n",
    "\n",
    "1. Drivers License ID Card \n",
    "2. Bank Statements \n",
    "3. Pay Stubs \n",
    "4. A Check \n",
    "\n",
    "We will also add the Homeowner Insurance Appliction we created in step 3\n"
   ]
  },
  {
   "cell_type": "code",
   "execution_count": 22,
   "id": "68877c16-f5b3-45f6-b629-6ce87d70a731",
   "metadata": {},
   "outputs": [
    {
     "name": "stdout",
     "output_type": "stream",
     "text": [
      "arn:aws:bedrock:us-west-2:762233765926:blueprint/ccf05918ff0a\n"
     ]
    }
   ],
   "source": [
    "print(blueprint_arn)"
   ]
  },
  {
   "cell_type": "code",
   "execution_count": 23,
   "id": "b450c137-d707-4c42-91fd-ba718ab3dd55",
   "metadata": {
    "tags": []
   },
   "outputs": [],
   "source": [
    "update_response = client.update_data_automation_project(\n",
    "    projectArn=project_arn,\n",
    "    standardOutputConfiguration=output_config,\n",
    "    customOutputConfiguration={\n",
    "        'blueprints': [\n",
    "            {\n",
    "                'blueprintArn': blueprint_arn, # our custom blueprint\n",
    "                'blueprintStage': 'LIVE'\n",
    "            },\n",
    "             {\n",
    "                 'blueprintArn': 'arn:aws:bedrock:us-west-2:aws:blueprint/bedrock-data-automation-public-us-driver-license',\n",
    "                  'blueprintStage': 'LIVE'\n",
    "             },\n",
    "             {\n",
    "                 'blueprintArn': 'arn:aws:bedrock:us-west-2:aws:blueprint/bedrock-data-automation-public-us-bank-check',\n",
    "                  'blueprintStage': 'LIVE'\n",
    "             },\n",
    "             {\n",
    "                 'blueprintArn': 'arn:aws:bedrock:us-west-2:aws:blueprint/bedrock-data-automation-public-payslip',\n",
    "                 'blueprintStage': 'LIVE'\n",
    "             },\n",
    "             {\n",
    "                 'blueprintArn': 'arn:aws:bedrock:us-west-2:aws:blueprint/bedrock-data-automation-public-bank-statement',\n",
    "                  'blueprintStage': 'LIVE'\n",
    "             },\n",
    "        ]\n",
    "    },\n",
    "  )\n",
    "\n",
    "project_arn = response['projectArn']\n"
   ]
  },
  {
   "cell_type": "markdown",
   "id": "5e72201e",
   "metadata": {},
   "source": [
    "### List the blueprints for the automation project"
   ]
  },
  {
   "cell_type": "code",
   "execution_count": 24,
   "id": "1c3b6e3f",
   "metadata": {
    "tags": []
   },
   "outputs": [
    {
     "data": {
      "application/json": {
       "ResponseMetadata": {
        "HTTPHeaders": {
         "connection": "keep-alive",
         "content-length": "632",
         "content-type": "application/json",
         "date": "Wed, 15 Jan 2025 14:28:40 GMT",
         "x-amzn-requestid": "4705ebeb-8118-47fb-b83d-917dc2aff8f7"
        },
        "HTTPStatusCode": 200,
        "RequestId": "4705ebeb-8118-47fb-b83d-917dc2aff8f7",
        "RetryAttempts": 0
       },
       "blueprints": [
        {
         "blueprintArn": "arn:aws:bedrock:us-west-2:aws:blueprint/bedrock-data-automation-public-us-driver-license",
         "blueprintStage": "LIVE"
        },
        {
         "blueprintArn": "arn:aws:bedrock:us-west-2:aws:blueprint/bedrock-data-automation-public-us-bank-check",
         "blueprintStage": "LIVE"
        },
        {
         "blueprintArn": "arn:aws:bedrock:us-west-2:aws:blueprint/bedrock-data-automation-public-payslip",
         "blueprintStage": "LIVE"
        },
        {
         "blueprintArn": "arn:aws:bedrock:us-west-2:aws:blueprint/bedrock-data-automation-public-bank-statement",
         "blueprintStage": "LIVE"
        },
        {
         "blueprintArn": "arn:aws:bedrock:us-west-2:762233765926:blueprint/ccf05918ff0a",
         "blueprintStage": "LIVE"
        }
       ]
      },
      "text/plain": [
       "<IPython.core.display.JSON object>"
      ]
     },
     "execution_count": 24,
     "metadata": {
      "application/json": {
       "expanded": true,
       "root": "root"
      }
     },
     "output_type": "execute_result"
    }
   ],
   "source": [
    "JSON(client.list_blueprints(projectFilter={'projectArn': project_arn}), expanded=True)"
   ]
  },
  {
   "cell_type": "code",
   "execution_count": 25,
   "id": "d0145145",
   "metadata": {
    "tags": []
   },
   "outputs": [
    {
     "data": {
      "application/json": {
       "ResponseMetadata": {
        "HTTPHeaders": {
         "connection": "keep-alive",
         "content-length": "1118",
         "content-type": "application/json",
         "date": "Wed, 15 Jan 2025 14:28:40 GMT",
         "x-amzn-requestid": "9ee1605e-8a8c-4cc1-afc1-0a65b908f9ae"
        },
        "HTTPStatusCode": 200,
        "RequestId": "9ee1605e-8a8c-4cc1-afc1-0a65b908f9ae",
        "RetryAttempts": 0
       },
       "project": {
        "creationTime": "2025-01-15T14:28:39.625000Z",
        "customOutputConfiguration": {},
        "lastModifiedTime": "2025-01-15T14:28:40.166000Z",
        "projectArn": "arn:aws:bedrock:us-west-2:762233765926:data-automation-project/cb7d1d57400b",
        "projectName": "my-bda-lending-workbook-v1",
        "projectStage": "LIVE",
        "standardOutputConfiguration": {
         "audio": {
          "extraction": {
           "category": {
            "state": "ENABLED",
            "types": [
             "TRANSCRIPT"
            ]
           }
          },
          "generativeField": {
           "state": "ENABLED",
           "types": [
            "IAB"
           ]
          }
         },
         "document": {
          "extraction": {
           "boundingBox": {
            "state": "ENABLED"
           },
           "granularity": {
            "types": [
             "PAGE",
             "ELEMENT"
            ]
           }
          },
          "generativeField": {
           "state": "ENABLED"
          },
          "outputFormat": {
           "additionalFileFormat": {
            "state": "DISABLED"
           },
           "textFormat": {
            "types": [
             "PLAIN_TEXT",
             "MARKDOWN",
             "HTML",
             "CSV"
            ]
           }
          }
         },
         "image": {
          "extraction": {
           "boundingBox": {
            "state": "ENABLED"
           },
           "category": {
            "state": "ENABLED",
            "types": [
             "TEXT_DETECTION"
            ]
           }
          },
          "generativeField": {
           "state": "ENABLED",
           "types": [
            "IMAGE_SUMMARY"
           ]
          }
         },
         "video": {
          "extraction": {
           "boundingBox": {
            "state": "ENABLED"
           },
           "category": {
            "state": "ENABLED",
            "types": [
             "TEXT_DETECTION"
            ]
           }
          },
          "generativeField": {
           "state": "ENABLED",
           "types": [
            "VIDEO_SUMMARY",
            "SCENE_SUMMARY"
           ]
          }
         }
        },
        "status": "COMPLETED"
       }
      },
      "text/plain": [
       "<IPython.core.display.JSON object>"
      ]
     },
     "execution_count": 25,
     "metadata": {
      "application/json": {
       "expanded": false,
       "root": "root"
      }
     },
     "output_type": "execute_result"
    }
   ],
   "source": [
    "JSON(client.get_data_automation_project(projectArn=project_arn), expanded=False)"
   ]
  },
  {
   "cell_type": "markdown",
   "id": "fa75e784-849b-491f-b01e-e9a0723c3733",
   "metadata": {},
   "source": [
    "# Step 6 - Document Splitting - Process a Multi-Page Document Package"
   ]
  },
  {
   "cell_type": "code",
   "execution_count": 26,
   "id": "fa6ae989-f155-4378-a42b-165459f3abde",
   "metadata": {
    "tags": []
   },
   "outputs": [
    {
     "name": "stdout",
     "output_type": "stream",
     "text": [
      "Activating document splitting for project: my-bda-lending-workbook-v1, arn:aws:bedrock:us-west-2:762233765926:data-automation-project/cb7d1d57400b\n",
      "\n",
      "Updated override configuration of project:\n"
     ]
    },
    {
     "data": {
      "application/json": {
       "ResponseMetadata": {
        "HTTPHeaders": {
         "connection": "keep-alive",
         "content-length": "1188",
         "content-type": "application/json",
         "date": "Wed, 15 Jan 2025 14:28:41 GMT",
         "x-amzn-requestid": "c06cdfa2-91e3-43b9-a1ae-2a955134438c"
        },
        "HTTPStatusCode": 200,
        "RequestId": "c06cdfa2-91e3-43b9-a1ae-2a955134438c",
        "RetryAttempts": 0
       },
       "project": {
        "creationTime": "2025-01-15T14:28:39.625000Z",
        "customOutputConfiguration": {},
        "lastModifiedTime": "2025-01-15T14:28:41.067000Z",
        "overrideConfiguration": {
         "document": {
          "splitter": {
           "state": "ENABLED"
          }
         }
        },
        "projectArn": "arn:aws:bedrock:us-west-2:762233765926:data-automation-project/cb7d1d57400b",
        "projectName": "my-bda-lending-workbook-v1",
        "projectStage": "LIVE",
        "standardOutputConfiguration": {
         "audio": {
          "extraction": {
           "category": {
            "state": "ENABLED",
            "types": [
             "TRANSCRIPT"
            ]
           }
          },
          "generativeField": {
           "state": "ENABLED",
           "types": [
            "IAB"
           ]
          }
         },
         "document": {
          "extraction": {
           "boundingBox": {
            "state": "ENABLED"
           },
           "granularity": {
            "types": [
             "PAGE",
             "ELEMENT"
            ]
           }
          },
          "generativeField": {
           "state": "ENABLED"
          },
          "outputFormat": {
           "additionalFileFormat": {
            "state": "DISABLED"
           },
           "textFormat": {
            "types": [
             "PLAIN_TEXT",
             "MARKDOWN",
             "HTML",
             "CSV"
            ]
           }
          }
         },
         "image": {
          "extraction": {
           "boundingBox": {
            "state": "ENABLED"
           },
           "category": {
            "state": "ENABLED",
            "types": [
             "TEXT_DETECTION"
            ]
           }
          },
          "generativeField": {
           "state": "ENABLED",
           "types": [
            "IMAGE_SUMMARY"
           ]
          }
         },
         "video": {
          "extraction": {
           "boundingBox": {
            "state": "ENABLED"
           },
           "category": {
            "state": "ENABLED",
            "types": [
             "TEXT_DETECTION"
            ]
           }
          },
          "generativeField": {
           "state": "ENABLED",
           "types": [
            "VIDEO_SUMMARY",
            "SCENE_SUMMARY"
           ]
          }
         }
        },
        "status": "COMPLETED"
       }
      },
      "text/plain": [
       "<IPython.core.display.JSON object>"
      ]
     },
     "execution_count": 26,
     "metadata": {
      "application/json": {
       "expanded": false,
       "root": "root"
      }
     },
     "output_type": "execute_result"
    }
   ],
   "source": [
    "\n",
    "\n",
    "print(f\"Activating document splitting for project: {project_name}, {project_arn}\")\n",
    "\n",
    "\n",
    "project = client.get_data_automation_project(projectArn=project_arn)[\"project\"]\n",
    "\n",
    "# Update project configuration\n",
    "update_response = client.update_data_automation_project(\n",
    "    projectArn=project_arn,\n",
    "    standardOutputConfiguration=project[\"standardOutputConfiguration\"],\n",
    "    customOutputConfiguration={\n",
    "        'blueprints': [\n",
    "            {\n",
    "                'blueprintArn': blueprint_arn,\n",
    "                'blueprintStage': 'LIVE'\n",
    "            },\n",
    "            {\n",
    "                'blueprintArn': 'arn:aws:bedrock:us-west-2:aws:blueprint/bedrock-data-automation-public-w2-form',\n",
    "                'blueprintStage': 'LIVE'\n",
    "            },\n",
    "             {\n",
    "                 'blueprintArn': 'arn:aws:bedrock:us-west-2:aws:blueprint/bedrock-data-automation-public-us-driver-license',\n",
    "                  'blueprintStage': 'LIVE'\n",
    "             },\n",
    "             {\n",
    "                 'blueprintArn': 'arn:aws:bedrock:us-west-2:aws:blueprint/bedrock-data-automation-public-us-bank-check',\n",
    "                  'blueprintStage': 'LIVE'\n",
    "             },\n",
    "             {\n",
    "                 'blueprintArn': 'arn:aws:bedrock:us-west-2:aws:blueprint/bedrock-data-automation-public-payslip',\n",
    "                 'blueprintStage': 'LIVE'\n",
    "             },\n",
    "             {\n",
    "                 'blueprintArn': 'arn:aws:bedrock:us-west-2:aws:blueprint/bedrock-data-automation-public-bank-statement',\n",
    "                  'blueprintStage': 'LIVE'\n",
    "             },\n",
    "        ]\n",
    "    },\n",
    "    overrideConfiguration={'document': {'splitter': {'state': 'ENABLED'}}})\n",
    "\n",
    "# Get updated project configuration\n",
    "updated_project = client.get_data_automation_project(projectArn=project_arn)\n",
    "\n",
    "print(\"\\nUpdated override configuration of project:\")\n",
    "JSON(updated_project)\n"
   ]
  },
  {
   "cell_type": "code",
   "execution_count": 27,
   "id": "a7241060-d6ad-428f-a03a-95c871df7d43",
   "metadata": {},
   "outputs": [
    {
     "data": {
      "text/html": [
       "\n",
       "        <iframe\n",
       "            width=\"1000\"\n",
       "            height=\"500\"\n",
       "            src=\"documents/lending_package.pdf\"\n",
       "            frameborder=\"0\"\n",
       "            allowfullscreen\n",
       "            \n",
       "        ></iframe>\n",
       "        "
      ],
      "text/plain": [
       "<IPython.lib.display.IFrame at 0x7f5e3d337f40>"
      ]
     },
     "execution_count": 27,
     "metadata": {},
     "output_type": "execute_result"
    }
   ],
   "source": [
    "##\n",
    "## Upload a package of documents to an S3\n",
    "##\n",
    "file_name = 'documents/lending_package.pdf'\n",
    "object_name = f'data_automation/input/{file_name}'\n",
    "output_name = 'data_automation/output'\n",
    "s3.upload_file(file_name, bucket_name, object_name)\n",
    "\n",
    "IFrame(\"documents/lending_package.pdf\", width=1000, height=500)"
   ]
  },
  {
   "cell_type": "code",
   "execution_count": 28,
   "id": "9bb19b94-a858-4907-aee6-3594e019d85f",
   "metadata": {},
   "outputs": [
    {
     "data": {
      "text/plain": [
       "'arn:aws:bedrock:us-west-2:762233765926:data-automation-invocation/46c101e9-d867-4946-82fe-4eaf347734fc'"
      ]
     },
     "execution_count": 28,
     "metadata": {},
     "output_type": "execute_result"
    }
   ],
   "source": [
    "# Process the document package\n",
    "response = run_client.invoke_data_automation_async(\n",
    "    dataAutomationConfiguration = { \"dataAutomationArn\" : project_arn,\"stage\" : 'LIVE'},\n",
    "    inputConfiguration={'s3Uri':  f\"s3://{bucket_name}/{object_name}\"},\n",
    "    outputConfiguration={'s3Uri': f\"s3://{bucket_name}/{output_name}\"},\n",
    ")\n",
    "\n",
    "response\n",
    "\n",
    "\n",
    "invoke_arn = response['invocationArn']\n",
    "invoke_arn\n"
   ]
  },
  {
   "cell_type": "code",
   "execution_count": 29,
   "id": "6daea4c3-cd4c-49d1-b6dd-e13af550a5f0",
   "metadata": {},
   "outputs": [
    {
     "name": "stdout",
     "output_type": "stream",
     "text": [
      "InProgress\n",
      "InProgress\n",
      "InProgress\n",
      "InProgress\n",
      "InProgress\n",
      "InProgress\n",
      "InProgress\n",
      "InProgress\n",
      "Success\n"
     ]
    }
   ],
   "source": [
    "in_progress = True\n",
    "\n",
    "while in_progress:\n",
    "    progress = run_client.get_data_automation_status(invocationArn=invoke_arn)\n",
    "    if progress['status'] == 'InProgress':\n",
    "        print(progress['status'])\n",
    "        sleep(10)\n",
    "    else:\n",
    "        break\n",
    "        \n",
    "print(progress['status'])"
   ]
  },
  {
   "cell_type": "markdown",
   "id": "cf2c333b-52dc-454d-94a0-80d9a8bbb669",
   "metadata": {
    "tags": []
   },
   "source": [
    "# Step 7 - Display the results"
   ]
  },
  {
   "cell_type": "markdown",
   "id": "8d5e4587-3fe2-4be4-a809-4a0adb0d2cfc",
   "metadata": {},
   "source": [
    "BDA will automatically split the documents based and return the detected blueprints as well as the requested structured output for each blueprint.\n",
    "Lets visualize these results by showing the first page of each detected blueprint and the inference results."
   ]
  },
  {
   "cell_type": "code",
   "execution_count": null,
   "id": "b2b2f43d-099a-469c-9cb8-bebc0f11f9ac",
   "metadata": {},
   "outputs": [],
   "source": []
  },
  {
   "cell_type": "code",
   "execution_count": 31,
   "id": "bf3f31a9-f34d-4574-897f-cde82b71a774",
   "metadata": {
    "tags": []
   },
   "outputs": [
    {
     "data": {
      "application/vnd.jupyter.widget-view+json": {
       "model_id": "98bd3b7edd2a4ea09a82d2c1c4b847f9",
       "version_major": 2,
       "version_minor": 0
      },
      "text/plain": [
       "VBox(children=(HBox(children=(Image(value=b'\\x89PNG\\r\\n\\x1a\\n\\x00\\x00\\x00\\rIHDR\\x00\\x00\\x01\\xc8\\x00\\x00\\x02\\x8…"
      ]
     },
     "execution_count": 31,
     "metadata": {},
     "output_type": "execute_result"
    }
   ],
   "source": [
    "#import os\n",
    "#import sys\n",
    "#sys.path.append(os.path.abspath('..'))\n",
    "import pypdfium2 as pdfium\n",
    "import ipywidgets as widgets\n",
    "from utils.helpers import get_s3_to_dict, display_image_jsons\n",
    "\n",
    "doc = pdfium.PdfDocument(file_name)\n",
    "pages_pil = [page.render(scale=1.53).to_pil() for page in doc]\n",
    "\n",
    "# get the job_metadata\n",
    "job_json_obj = get_s3_to_dict(s3,progress['outputConfiguration']['s3Uri'])\n",
    "results_meta = job_json_obj[\"output_metadata\"][0][\"segment_metadata\"]\n",
    "\n",
    "# put the results together and show with first page side by side\n",
    "results_all = []\n",
    "for result in results_meta:\n",
    "    standard_output_obj = get_s3_to_dict(s3,result[\"standard_output_path\"])\n",
    "    custom_output_obj = get_s3_to_dict(s3,result[\"custom_output_path\"])\n",
    "    pages = custom_output_obj[\"split_document\"][\"page_indices\"]\n",
    "    w = display_image_jsons(pages_pil[pages[0]], [custom_output_obj['matched_blueprint'],custom_output_obj['inference_result']],[\"Matched Blueprint\", \"Inference Result\"])\n",
    "    results_all.append(w)    \n",
    "\n",
    "widgets.VBox(results_all)\n"
   ]
  },
  {
   "cell_type": "markdown",
   "id": "1750e3d0-f7c5-4eba-981e-f9b545093159",
   "metadata": {},
   "source": [
    "## Conclusion\n",
    "\n",
    "We learned how to use BDA to extract structured outputs from complex documents by\n",
    "* creating a custom blueprint with JSON schema and matched it against a specific document.\n",
    "* creating a project with multiple blueprints and automatically split, classify and match the requested information from blueprints\n"
   ]
  },
  {
   "cell_type": "markdown",
   "id": "9e59aeea-4042-44bb-a33d-efb4bd4bee7b",
   "metadata": {},
   "source": [
    "# Step 8 - Cleanup\n",
    "\n",
    "This step is needed before we run through the workbook a second time. "
   ]
  },
  {
   "cell_type": "code",
   "execution_count": null,
   "id": "68959be4-05dc-4c0b-8132-8f92cbb34737",
   "metadata": {},
   "outputs": [],
   "source": [
    "# Delete the project\n",
    "response = client.delete_data_automation_project(projectArn=project_arn)\n",
    "\n",
    "# Delete the blueprint\n",
    "response = client.delete_blueprint(blueprintArn=blueprint_arn)"
   ]
  },
  {
   "cell_type": "code",
   "execution_count": null,
   "id": "cee52576-1e6a-4ec7-a90b-eae73b947bd3",
   "metadata": {},
   "outputs": [],
   "source": []
  }
 ],
 "metadata": {
  "availableInstances": [
   {
    "_defaultOrder": 0,
    "_isFastLaunch": true,
    "category": "General purpose",
    "gpuNum": 0,
    "hideHardwareSpecs": false,
    "memoryGiB": 4,
    "name": "ml.t3.medium",
    "vcpuNum": 2
   },
   {
    "_defaultOrder": 1,
    "_isFastLaunch": false,
    "category": "General purpose",
    "gpuNum": 0,
    "hideHardwareSpecs": false,
    "memoryGiB": 8,
    "name": "ml.t3.large",
    "vcpuNum": 2
   },
   {
    "_defaultOrder": 2,
    "_isFastLaunch": false,
    "category": "General purpose",
    "gpuNum": 0,
    "hideHardwareSpecs": false,
    "memoryGiB": 16,
    "name": "ml.t3.xlarge",
    "vcpuNum": 4
   },
   {
    "_defaultOrder": 3,
    "_isFastLaunch": false,
    "category": "General purpose",
    "gpuNum": 0,
    "hideHardwareSpecs": false,
    "memoryGiB": 32,
    "name": "ml.t3.2xlarge",
    "vcpuNum": 8
   },
   {
    "_defaultOrder": 4,
    "_isFastLaunch": true,
    "category": "General purpose",
    "gpuNum": 0,
    "hideHardwareSpecs": false,
    "memoryGiB": 8,
    "name": "ml.m5.large",
    "vcpuNum": 2
   },
   {
    "_defaultOrder": 5,
    "_isFastLaunch": false,
    "category": "General purpose",
    "gpuNum": 0,
    "hideHardwareSpecs": false,
    "memoryGiB": 16,
    "name": "ml.m5.xlarge",
    "vcpuNum": 4
   },
   {
    "_defaultOrder": 6,
    "_isFastLaunch": false,
    "category": "General purpose",
    "gpuNum": 0,
    "hideHardwareSpecs": false,
    "memoryGiB": 32,
    "name": "ml.m5.2xlarge",
    "vcpuNum": 8
   },
   {
    "_defaultOrder": 7,
    "_isFastLaunch": false,
    "category": "General purpose",
    "gpuNum": 0,
    "hideHardwareSpecs": false,
    "memoryGiB": 64,
    "name": "ml.m5.4xlarge",
    "vcpuNum": 16
   },
   {
    "_defaultOrder": 8,
    "_isFastLaunch": false,
    "category": "General purpose",
    "gpuNum": 0,
    "hideHardwareSpecs": false,
    "memoryGiB": 128,
    "name": "ml.m5.8xlarge",
    "vcpuNum": 32
   },
   {
    "_defaultOrder": 9,
    "_isFastLaunch": false,
    "category": "General purpose",
    "gpuNum": 0,
    "hideHardwareSpecs": false,
    "memoryGiB": 192,
    "name": "ml.m5.12xlarge",
    "vcpuNum": 48
   },
   {
    "_defaultOrder": 10,
    "_isFastLaunch": false,
    "category": "General purpose",
    "gpuNum": 0,
    "hideHardwareSpecs": false,
    "memoryGiB": 256,
    "name": "ml.m5.16xlarge",
    "vcpuNum": 64
   },
   {
    "_defaultOrder": 11,
    "_isFastLaunch": false,
    "category": "General purpose",
    "gpuNum": 0,
    "hideHardwareSpecs": false,
    "memoryGiB": 384,
    "name": "ml.m5.24xlarge",
    "vcpuNum": 96
   },
   {
    "_defaultOrder": 12,
    "_isFastLaunch": false,
    "category": "General purpose",
    "gpuNum": 0,
    "hideHardwareSpecs": false,
    "memoryGiB": 8,
    "name": "ml.m5d.large",
    "vcpuNum": 2
   },
   {
    "_defaultOrder": 13,
    "_isFastLaunch": false,
    "category": "General purpose",
    "gpuNum": 0,
    "hideHardwareSpecs": false,
    "memoryGiB": 16,
    "name": "ml.m5d.xlarge",
    "vcpuNum": 4
   },
   {
    "_defaultOrder": 14,
    "_isFastLaunch": false,
    "category": "General purpose",
    "gpuNum": 0,
    "hideHardwareSpecs": false,
    "memoryGiB": 32,
    "name": "ml.m5d.2xlarge",
    "vcpuNum": 8
   },
   {
    "_defaultOrder": 15,
    "_isFastLaunch": false,
    "category": "General purpose",
    "gpuNum": 0,
    "hideHardwareSpecs": false,
    "memoryGiB": 64,
    "name": "ml.m5d.4xlarge",
    "vcpuNum": 16
   },
   {
    "_defaultOrder": 16,
    "_isFastLaunch": false,
    "category": "General purpose",
    "gpuNum": 0,
    "hideHardwareSpecs": false,
    "memoryGiB": 128,
    "name": "ml.m5d.8xlarge",
    "vcpuNum": 32
   },
   {
    "_defaultOrder": 17,
    "_isFastLaunch": false,
    "category": "General purpose",
    "gpuNum": 0,
    "hideHardwareSpecs": false,
    "memoryGiB": 192,
    "name": "ml.m5d.12xlarge",
    "vcpuNum": 48
   },
   {
    "_defaultOrder": 18,
    "_isFastLaunch": false,
    "category": "General purpose",
    "gpuNum": 0,
    "hideHardwareSpecs": false,
    "memoryGiB": 256,
    "name": "ml.m5d.16xlarge",
    "vcpuNum": 64
   },
   {
    "_defaultOrder": 19,
    "_isFastLaunch": false,
    "category": "General purpose",
    "gpuNum": 0,
    "hideHardwareSpecs": false,
    "memoryGiB": 384,
    "name": "ml.m5d.24xlarge",
    "vcpuNum": 96
   },
   {
    "_defaultOrder": 20,
    "_isFastLaunch": false,
    "category": "General purpose",
    "gpuNum": 0,
    "hideHardwareSpecs": true,
    "memoryGiB": 0,
    "name": "ml.geospatial.interactive",
    "supportedImageNames": [
     "sagemaker-geospatial-v1-0"
    ],
    "vcpuNum": 0
   },
   {
    "_defaultOrder": 21,
    "_isFastLaunch": true,
    "category": "Compute optimized",
    "gpuNum": 0,
    "hideHardwareSpecs": false,
    "memoryGiB": 4,
    "name": "ml.c5.large",
    "vcpuNum": 2
   },
   {
    "_defaultOrder": 22,
    "_isFastLaunch": false,
    "category": "Compute optimized",
    "gpuNum": 0,
    "hideHardwareSpecs": false,
    "memoryGiB": 8,
    "name": "ml.c5.xlarge",
    "vcpuNum": 4
   },
   {
    "_defaultOrder": 23,
    "_isFastLaunch": false,
    "category": "Compute optimized",
    "gpuNum": 0,
    "hideHardwareSpecs": false,
    "memoryGiB": 16,
    "name": "ml.c5.2xlarge",
    "vcpuNum": 8
   },
   {
    "_defaultOrder": 24,
    "_isFastLaunch": false,
    "category": "Compute optimized",
    "gpuNum": 0,
    "hideHardwareSpecs": false,
    "memoryGiB": 32,
    "name": "ml.c5.4xlarge",
    "vcpuNum": 16
   },
   {
    "_defaultOrder": 25,
    "_isFastLaunch": false,
    "category": "Compute optimized",
    "gpuNum": 0,
    "hideHardwareSpecs": false,
    "memoryGiB": 72,
    "name": "ml.c5.9xlarge",
    "vcpuNum": 36
   },
   {
    "_defaultOrder": 26,
    "_isFastLaunch": false,
    "category": "Compute optimized",
    "gpuNum": 0,
    "hideHardwareSpecs": false,
    "memoryGiB": 96,
    "name": "ml.c5.12xlarge",
    "vcpuNum": 48
   },
   {
    "_defaultOrder": 27,
    "_isFastLaunch": false,
    "category": "Compute optimized",
    "gpuNum": 0,
    "hideHardwareSpecs": false,
    "memoryGiB": 144,
    "name": "ml.c5.18xlarge",
    "vcpuNum": 72
   },
   {
    "_defaultOrder": 28,
    "_isFastLaunch": false,
    "category": "Compute optimized",
    "gpuNum": 0,
    "hideHardwareSpecs": false,
    "memoryGiB": 192,
    "name": "ml.c5.24xlarge",
    "vcpuNum": 96
   },
   {
    "_defaultOrder": 29,
    "_isFastLaunch": true,
    "category": "Accelerated computing",
    "gpuNum": 1,
    "hideHardwareSpecs": false,
    "memoryGiB": 16,
    "name": "ml.g4dn.xlarge",
    "vcpuNum": 4
   },
   {
    "_defaultOrder": 30,
    "_isFastLaunch": false,
    "category": "Accelerated computing",
    "gpuNum": 1,
    "hideHardwareSpecs": false,
    "memoryGiB": 32,
    "name": "ml.g4dn.2xlarge",
    "vcpuNum": 8
   },
   {
    "_defaultOrder": 31,
    "_isFastLaunch": false,
    "category": "Accelerated computing",
    "gpuNum": 1,
    "hideHardwareSpecs": false,
    "memoryGiB": 64,
    "name": "ml.g4dn.4xlarge",
    "vcpuNum": 16
   },
   {
    "_defaultOrder": 32,
    "_isFastLaunch": false,
    "category": "Accelerated computing",
    "gpuNum": 1,
    "hideHardwareSpecs": false,
    "memoryGiB": 128,
    "name": "ml.g4dn.8xlarge",
    "vcpuNum": 32
   },
   {
    "_defaultOrder": 33,
    "_isFastLaunch": false,
    "category": "Accelerated computing",
    "gpuNum": 4,
    "hideHardwareSpecs": false,
    "memoryGiB": 192,
    "name": "ml.g4dn.12xlarge",
    "vcpuNum": 48
   },
   {
    "_defaultOrder": 34,
    "_isFastLaunch": false,
    "category": "Accelerated computing",
    "gpuNum": 1,
    "hideHardwareSpecs": false,
    "memoryGiB": 256,
    "name": "ml.g4dn.16xlarge",
    "vcpuNum": 64
   },
   {
    "_defaultOrder": 35,
    "_isFastLaunch": false,
    "category": "Accelerated computing",
    "gpuNum": 1,
    "hideHardwareSpecs": false,
    "memoryGiB": 61,
    "name": "ml.p3.2xlarge",
    "vcpuNum": 8
   },
   {
    "_defaultOrder": 36,
    "_isFastLaunch": false,
    "category": "Accelerated computing",
    "gpuNum": 4,
    "hideHardwareSpecs": false,
    "memoryGiB": 244,
    "name": "ml.p3.8xlarge",
    "vcpuNum": 32
   },
   {
    "_defaultOrder": 37,
    "_isFastLaunch": false,
    "category": "Accelerated computing",
    "gpuNum": 8,
    "hideHardwareSpecs": false,
    "memoryGiB": 488,
    "name": "ml.p3.16xlarge",
    "vcpuNum": 64
   },
   {
    "_defaultOrder": 38,
    "_isFastLaunch": false,
    "category": "Accelerated computing",
    "gpuNum": 8,
    "hideHardwareSpecs": false,
    "memoryGiB": 768,
    "name": "ml.p3dn.24xlarge",
    "vcpuNum": 96
   },
   {
    "_defaultOrder": 39,
    "_isFastLaunch": false,
    "category": "Memory Optimized",
    "gpuNum": 0,
    "hideHardwareSpecs": false,
    "memoryGiB": 16,
    "name": "ml.r5.large",
    "vcpuNum": 2
   },
   {
    "_defaultOrder": 40,
    "_isFastLaunch": false,
    "category": "Memory Optimized",
    "gpuNum": 0,
    "hideHardwareSpecs": false,
    "memoryGiB": 32,
    "name": "ml.r5.xlarge",
    "vcpuNum": 4
   },
   {
    "_defaultOrder": 41,
    "_isFastLaunch": false,
    "category": "Memory Optimized",
    "gpuNum": 0,
    "hideHardwareSpecs": false,
    "memoryGiB": 64,
    "name": "ml.r5.2xlarge",
    "vcpuNum": 8
   },
   {
    "_defaultOrder": 42,
    "_isFastLaunch": false,
    "category": "Memory Optimized",
    "gpuNum": 0,
    "hideHardwareSpecs": false,
    "memoryGiB": 128,
    "name": "ml.r5.4xlarge",
    "vcpuNum": 16
   },
   {
    "_defaultOrder": 43,
    "_isFastLaunch": false,
    "category": "Memory Optimized",
    "gpuNum": 0,
    "hideHardwareSpecs": false,
    "memoryGiB": 256,
    "name": "ml.r5.8xlarge",
    "vcpuNum": 32
   },
   {
    "_defaultOrder": 44,
    "_isFastLaunch": false,
    "category": "Memory Optimized",
    "gpuNum": 0,
    "hideHardwareSpecs": false,
    "memoryGiB": 384,
    "name": "ml.r5.12xlarge",
    "vcpuNum": 48
   },
   {
    "_defaultOrder": 45,
    "_isFastLaunch": false,
    "category": "Memory Optimized",
    "gpuNum": 0,
    "hideHardwareSpecs": false,
    "memoryGiB": 512,
    "name": "ml.r5.16xlarge",
    "vcpuNum": 64
   },
   {
    "_defaultOrder": 46,
    "_isFastLaunch": false,
    "category": "Memory Optimized",
    "gpuNum": 0,
    "hideHardwareSpecs": false,
    "memoryGiB": 768,
    "name": "ml.r5.24xlarge",
    "vcpuNum": 96
   },
   {
    "_defaultOrder": 47,
    "_isFastLaunch": false,
    "category": "Accelerated computing",
    "gpuNum": 1,
    "hideHardwareSpecs": false,
    "memoryGiB": 16,
    "name": "ml.g5.xlarge",
    "vcpuNum": 4
   },
   {
    "_defaultOrder": 48,
    "_isFastLaunch": false,
    "category": "Accelerated computing",
    "gpuNum": 1,
    "hideHardwareSpecs": false,
    "memoryGiB": 32,
    "name": "ml.g5.2xlarge",
    "vcpuNum": 8
   },
   {
    "_defaultOrder": 49,
    "_isFastLaunch": false,
    "category": "Accelerated computing",
    "gpuNum": 1,
    "hideHardwareSpecs": false,
    "memoryGiB": 64,
    "name": "ml.g5.4xlarge",
    "vcpuNum": 16
   },
   {
    "_defaultOrder": 50,
    "_isFastLaunch": false,
    "category": "Accelerated computing",
    "gpuNum": 1,
    "hideHardwareSpecs": false,
    "memoryGiB": 128,
    "name": "ml.g5.8xlarge",
    "vcpuNum": 32
   },
   {
    "_defaultOrder": 51,
    "_isFastLaunch": false,
    "category": "Accelerated computing",
    "gpuNum": 1,
    "hideHardwareSpecs": false,
    "memoryGiB": 256,
    "name": "ml.g5.16xlarge",
    "vcpuNum": 64
   },
   {
    "_defaultOrder": 52,
    "_isFastLaunch": false,
    "category": "Accelerated computing",
    "gpuNum": 4,
    "hideHardwareSpecs": false,
    "memoryGiB": 192,
    "name": "ml.g5.12xlarge",
    "vcpuNum": 48
   },
   {
    "_defaultOrder": 53,
    "_isFastLaunch": false,
    "category": "Accelerated computing",
    "gpuNum": 4,
    "hideHardwareSpecs": false,
    "memoryGiB": 384,
    "name": "ml.g5.24xlarge",
    "vcpuNum": 96
   },
   {
    "_defaultOrder": 54,
    "_isFastLaunch": false,
    "category": "Accelerated computing",
    "gpuNum": 8,
    "hideHardwareSpecs": false,
    "memoryGiB": 768,
    "name": "ml.g5.48xlarge",
    "vcpuNum": 192
   },
   {
    "_defaultOrder": 55,
    "_isFastLaunch": false,
    "category": "Accelerated computing",
    "gpuNum": 8,
    "hideHardwareSpecs": false,
    "memoryGiB": 1152,
    "name": "ml.p4d.24xlarge",
    "vcpuNum": 96
   },
   {
    "_defaultOrder": 56,
    "_isFastLaunch": false,
    "category": "Accelerated computing",
    "gpuNum": 8,
    "hideHardwareSpecs": false,
    "memoryGiB": 1152,
    "name": "ml.p4de.24xlarge",
    "vcpuNum": 96
   },
   {
    "_defaultOrder": 57,
    "_isFastLaunch": false,
    "category": "Accelerated computing",
    "gpuNum": 0,
    "hideHardwareSpecs": false,
    "memoryGiB": 32,
    "name": "ml.trn1.2xlarge",
    "vcpuNum": 8
   },
   {
    "_defaultOrder": 58,
    "_isFastLaunch": false,
    "category": "Accelerated computing",
    "gpuNum": 0,
    "hideHardwareSpecs": false,
    "memoryGiB": 512,
    "name": "ml.trn1.32xlarge",
    "vcpuNum": 128
   },
   {
    "_defaultOrder": 59,
    "_isFastLaunch": false,
    "category": "Accelerated computing",
    "gpuNum": 0,
    "hideHardwareSpecs": false,
    "memoryGiB": 512,
    "name": "ml.trn1n.32xlarge",
    "vcpuNum": 128
   }
  ],
  "instance_type": "ml.t3.medium",
  "kernelspec": {
   "display_name": "Python 3 (ipykernel)",
   "language": "python",
   "name": "python3"
  },
  "language_info": {
   "codemirror_mode": {
    "name": "ipython",
    "version": 3
   },
   "file_extension": ".py",
   "mimetype": "text/x-python",
   "name": "python",
   "nbconvert_exporter": "python",
   "pygments_lexer": "ipython3",
   "version": "3.10.14"
  }
 },
 "nbformat": 4,
 "nbformat_minor": 5
}
