{
 "cells": [
  {
   "cell_type": "markdown",
   "id": "f5a68792-000a-4f61-a532-7d153ecc6aa7",
   "metadata": {},
   "source": [
    "# Guidance for Document Processing Using Amazon Bedrock Data Automation\n",
    "\n",
    "Amazon Bedrock Data Automation (BDA) is a fully managed capability of Amazon Bedrock that streamlines the generation of valuable insights from unstructured, multimodal content such as documents, images, audio, and videos. With Amazon Bedrock Data Automation, you can build automated intelligent document processing (IDP), media analysis, and Retrieval-Augmented Generation (RAG) workflows quickly and cost-effectively.\n",
    "\n",
    "This workbook focuses on using BDA to process insights from unstructured documents. The use case we will focus on is for processing a loan applcation. We will process a packet of documents relavent to loans: ID Cards, Bank Statements, W2 Tax forms, Pay Stubs and checks.  \n",
    "\n",
    "\n",
    "The diagram below shows an architecture for an Intelligent document processing workflow. This diagram is from solution 'Guidance for Multimodal Data Processing Using Amazon Bedrock Data Automation', published [here](https://aws.amazon.com/solutions/guidance/multimodal-data-processing-using-amazon-bedrock-data-automation/).\n",
    "\n",
    "\n",
    "![Arch](./images/a_lending_flow_architecture.png)\n",
    "\n",
    "\n",
    "1. Document Upload: The data science team uploads sample documents to an Amazon S3 bucket.\n",
    "\n",
    "2. Blueprint Configuration: The data science team uses provided blueprints, and creates new custom blueprints for each document class: W2, Pay Slip, Drivers License, 1099 and Bank Statement.  Each sample is processed and the fields extracted with Generative AI prompts (e.g. First Name, Last Name, Gross Pay, SS Number, License Number, Capital Gains, Closing Balance).  The blueprints are managed and stored in Amazon Bedrock Data Automation feature. \n",
    "\n",
    "3. Test and Refine Blueprints: The blueprints are tested and refined. Key normalizations, key transformations, and key validations are added. \n",
    "\n",
    "4. Blueprint Published: The blueprints are managed and stored in the  Amazon Bedrock Data Automation feature. \n",
    "\n",
    "5. Amazon EventBridge triggers an AWS Lambda function when documents are uploaded to Amazon S3, using an \"Object Created\" event. This Lambda function then utilizes Amazon Bedrock's Data Automation feature to process the uploaded documents. \n",
    "\n",
    "6. The processing workflow in Amazon Bedrock Data Automation feature includes document splitting based on logical boundaries, with each split containing up to 20 pages. Each page is classified into a specific document type and matched to appropriate blueprints. The corresponding blueprint is then invoked for each page, executing key normalizations, transformations, and validations. This entire process operates asynchronously, allowing for efficient handling of multiple documents and large data volumes.\n",
    "\n",
    "7. BDA stores the results in a Amazon S3 bucket for later processing and triggers Amazon EventBridge\n",
    "\n",
    "8. AWS Lambda function is triggered by the Amazon EventBridge to process the JSON results of Amazon Bedrock Data Automation. The processing results send to downstream processing systems. \n",
    "\n",
    "\n",
    "In this workshop, we will explore the various aspects of this workflow such as the creating blueprints, processing sample documents, page classification.  We will process these documents:\n",
    "\n",
    "1. ID Card\n",
    "2. Bank Statements\n",
    "3. W2 Tax forms\n",
    "4. Pay Stubs\n",
    "5. Check\n",
    "6. Homeowner Insurance Application\n",
    "\n",
    "We will then process a single PDF document with a 'loan application package', i.e. all 6 documents in one. \n",
    "\n",
    "This workbook follows these steps:\n",
    "\n",
    "1. Step 1: Setup notebook and instantiate boto3 clients\n",
    "2. Step 2: Process a simple PDF file using the standard output\n",
    "3. Step 3: Create a Project, and blueprint for processing a Homeowner Insurance Form\n",
    "4. Step 4: Add blueprints to the Automaton Project\n",
    "5. Step 5: Use our custom Blueprint to process a Homeowner Insurance Form\n",
    "6. Step 6: Document Splitting - Process a Multi-Page Document Package\n",
    "7. Step 7: Display the results\n",
    "8. Step 8: Cleanup\n",
    "\n",
    "## Prerequisites:\n",
    "\n",
    "Before starting the workshop you will need to create an Amazon SageMaker Studio notebook instance. https://docs.aws.amazon.com/sagemaker/latest/dg/howitworks-create-ws.html For IAM role, choose either an existing IAM role in your account or create a new role. The role must the necessary permissions to invoke the BDA, SageMaker and S3 APIs. \n",
    "\n",
    "These IAM policies can be assigned to the role: AmazonBedrockFullAccess, AmazonS3FullAccess, AmazonSageMakerFullAccess, IAMReadOnlyAccess\n",
    "\n",
    "Note: The AdministratorAccess IAM policy can be used, if allowed by security policies at your organization. \n",
    "\n",
    "\n"
   ]
  },
  {
   "cell_type": "markdown",
   "id": "df749697-dc71-4147-99b9-e3fcfec00286",
   "metadata": {},
   "source": [
    "# Step 1: Setup notebook and instantiate boto3 clients\n",
    "\n",
    "In this step, we will import some necessary libraries that will be used throughout this notebook. \n",
    "To use Amazon Bedrock Data Automation (BDA) with boto3, you'll need to ensure you have the latest version of the AWS SDK for Python (boto3) installed.\n",
    "\n",
    "Note: At time of Public Preview launch, BDA is available in us-west-2 only. "
   ]
  },
  {
   "cell_type": "code",
   "execution_count": 1,
   "id": "30a9e7cb-33d4-4795-9941-3c0d4f6e711e",
   "metadata": {},
   "outputs": [
    {
     "name": "stdout",
     "output_type": "stream",
     "text": [
      "Requirement already satisfied: boto3 in /opt/conda/lib/python3.10/site-packages (1.35.96)\n",
      "Requirement already satisfied: botocore<1.36.0,>=1.35.96 in /opt/conda/lib/python3.10/site-packages (from boto3) (1.35.96)\n",
      "Requirement already satisfied: jmespath<2.0.0,>=0.7.1 in /opt/conda/lib/python3.10/site-packages (from boto3) (1.0.1)\n",
      "Requirement already satisfied: s3transfer<0.11.0,>=0.10.0 in /opt/conda/lib/python3.10/site-packages (from boto3) (0.10.4)\n",
      "Requirement already satisfied: python-dateutil<3.0.0,>=2.1 in /opt/conda/lib/python3.10/site-packages (from botocore<1.36.0,>=1.35.96->boto3) (2.9.0.post0)\n",
      "Requirement already satisfied: urllib3!=2.2.0,<3,>=1.25.4 in /opt/conda/lib/python3.10/site-packages (from botocore<1.36.0,>=1.35.96->boto3) (2.3.0)\n",
      "Requirement already satisfied: six>=1.5 in /opt/conda/lib/python3.10/site-packages (from python-dateutil<3.0.0,>=2.1->botocore<1.36.0,>=1.35.96->boto3) (1.17.0)\n"
     ]
    }
   ],
   "source": [
    "!pip install --upgrade boto3"
   ]
  },
  {
   "cell_type": "code",
   "execution_count": 2,
   "id": "2c863400-1edc-419a-a74d-ab89f8cc4952",
   "metadata": {
    "tags": []
   },
   "outputs": [
    {
     "name": "stdout",
     "output_type": "stream",
     "text": [
      "sagemaker.config INFO - Not applying SDK defaults from location: /etc/xdg/sagemaker/config.yaml\n",
      "sagemaker.config INFO - Not applying SDK defaults from location: /home/sagemaker-user/.config/sagemaker/config.yaml\n",
      "1.35.96\n"
     ]
    }
   ],
   "source": [
    "import boto3, json\n",
    "from time import sleep\n",
    "import IPython.display as display\n",
    "import sagemaker\n",
    "\n",
    "print(boto3.__version__)\n",
    "\n",
    "s3 = boto3.client('s3', region_name='us-west-2')\n",
    "client = boto3.client('bedrock-data-automation', region_name='us-west-2')\n",
    "run_client = boto3.client('bedrock-data-automation-runtime', region_name='us-west-2')"
   ]
  },
  {
   "cell_type": "markdown",
   "id": "e7f4fa81-a31a-43fe-a871-4ffcf4cdb285",
   "metadata": {
    "tags": []
   },
   "source": [
    "We will give a unique name to our project and blueprint"
   ]
  },
  {
   "cell_type": "code",
   "execution_count": 3,
   "id": "f93f1a73-681a-41de-a047-d5efd87ae606",
   "metadata": {
    "tags": []
   },
   "outputs": [
    {
     "name": "stdout",
     "output_type": "stream",
     "text": [
      "sagemaker-us-west-2-824467037051\n"
     ]
    }
   ],
   "source": [
    "project_name = 'my-bda-lending-workbook-v1'\n",
    "blueprint_name = 'my-insurance-blueprint-v1'\n",
    "bucket_name = sagemaker.Session().default_bucket()\n",
    "print (bucket_name)\n"
   ]
  },
  {
   "cell_type": "markdown",
   "id": "4435a64e-3544-4bab-b8e3-eb68de737b8d",
   "metadata": {},
   "source": [
    "# Step 2: Process a simple PDF file using the standard output"
   ]
  },
  {
   "cell_type": "markdown",
   "id": "eb03bd3c-63e8-43c9-a85e-7ce0a286559f",
   "metadata": {
    "tags": []
   },
   "source": [
    "\n",
    "\n",
    "In this step, we will process a W2 Tax form using BDA Standard Output. Standard output is the default way of interacting with Amazon Bedrock Data Automation (BDA). If you pass a document to the BDA API with no established blueprint or project it returns the default standard output for that file type. \n",
    "\n",
    "https://docs.aws.amazon.com/bedrock/latest/userguide/bda-standard-output.html\n",
    "\n",
    "Standard Output has three levels of granularity. We will use the default. \n",
    "\n",
    "1. Element level granularity (default) – This provides the text of the document in the output format of your choice, separated into different elements. These elements, such as figures, tables, or paragraphs. These are returned in logical reading order based off the structure of the document.\n",
    "\n",
    "2. Page level granularity – This is enabled by default. Page level granularity provides each page of the document in the text output format of your choice.\n",
    "\n",
    "3. Word level granularity – Provides information about individual words without using broader context analysis. Provides you with each word and its location on the page.\n",
    "\n"
   ]
  },
  {
   "cell_type": "code",
   "execution_count": 4,
   "id": "19247c05-ea0f-4417-bc2a-103a14ae968f",
   "metadata": {
    "tags": []
   },
   "outputs": [
    {
     "data": {
      "text/html": [
       "\n",
       "        <iframe\n",
       "            width=\"1000\"\n",
       "            height=\"500\"\n",
       "            src=\"documents/lending_package_w2.pdf\"\n",
       "            frameborder=\"0\"\n",
       "            allowfullscreen\n",
       "            \n",
       "        ></iframe>\n",
       "        "
      ],
      "text/plain": [
       "<IPython.lib.display.IFrame at 0x7f80b880c160>"
      ]
     },
     "execution_count": 4,
     "metadata": {},
     "output_type": "execute_result"
    }
   ],
   "source": [
    "# Upload a W2 Form\n",
    "\n",
    "file_name = 'documents/lending_package_w2.pdf'\n",
    "object_name = f'data_automation/input/{file_name}'\n",
    "output_name = 'data_automation/output/'\n",
    "s3.upload_file(file_name, bucket_name, object_name)\n",
    "\n",
    "display.IFrame(\"documents/lending_package_w2.pdf\", width=1000, height=500)"
   ]
  },
  {
   "cell_type": "markdown",
   "id": "99c97422-b382-41b0-a551-b2fe180b7e39",
   "metadata": {},
   "source": [
    "We will now nvoke the BDA API to process the document image. "
   ]
  },
  {
   "cell_type": "code",
   "execution_count": 5,
   "id": "5da199ce-f132-468b-8b73-120f48730c59",
   "metadata": {
    "tags": []
   },
   "outputs": [],
   "source": [
    "response = run_client.invoke_data_automation_async(\n",
    "    inputConfiguration={'s3Uri':  f\"s3://{bucket_name}/{object_name}\"},\n",
    "    outputConfiguration={'s3Uri': f\"s3://{bucket_name}/{output_name}\"},)\n",
    "response\n",
    "\n",
    "invoke_arn = response['invocationArn']"
   ]
  },
  {
   "cell_type": "markdown",
   "id": "3521a515-dacb-4295-ac51-237dca6b1522",
   "metadata": {},
   "source": [
    "The BDA call is asynchronous. We will poll until the operation is complete. "
   ]
  },
  {
   "cell_type": "code",
   "execution_count": 6,
   "id": "76dceb69-1b17-4f61-9733-b3db9ed3f340",
   "metadata": {
    "tags": []
   },
   "outputs": [
    {
     "name": "stdout",
     "output_type": "stream",
     "text": [
      "InProgress\n",
      "InProgress\n",
      "Success\n"
     ]
    }
   ],
   "source": [
    "in_progress = True\n",
    "while in_progress:\n",
    "    progress = run_client.get_data_automation_status(invocationArn=invoke_arn)\n",
    "    if progress['status'] == 'InProgress':\n",
    "        print(progress['status'])\n",
    "        sleep(10)\n",
    "    else:\n",
    "        break\n",
    "        \n",
    "print(progress['status'])"
   ]
  },
  {
   "cell_type": "markdown",
   "id": "c7c00a7a-7809-4be7-b895-fa65c854260d",
   "metadata": {},
   "source": [
    "Once the status is 'Success', we will now retrieve the results"
   ]
  },
  {
   "cell_type": "code",
   "execution_count": 7,
   "id": "2bd423ca-8604-4539-8790-51af5ce43060",
   "metadata": {
    "tags": []
   },
   "outputs": [],
   "source": [
    "out_loc = progress['outputConfiguration']['s3Uri'].split(\"/job_metadata.json\", 1)[0].split(bucket_name+\"/\")[1]\n",
    "out_loc += \"/0/standard_output/0/result.json\"\n",
    "s3.download_file(bucket_name, out_loc, 'result.json')"
   ]
  },
  {
   "cell_type": "markdown",
   "id": "376eec78-481e-4a96-a96e-af14530b2e85",
   "metadata": {
    "tags": []
   },
   "source": [
    "We will display the JSON of the Standard Output. \\\n",
    "Note the document layout elements: pages and text, along with the sub-types: paragraphs and fooder. "
   ]
  },
  {
   "cell_type": "code",
   "execution_count": 8,
   "id": "72af68eb-7dfb-446a-b8fb-6264c63f4b75",
   "metadata": {
    "tags": []
   },
   "outputs": [
    {
     "name": "stdout",
     "output_type": "stream",
     "text": [
      "{\n",
      "  \"metadata\": {\n",
      "    \"asset_id\": \"0\",\n",
      "    \"logical_subdocument_id\": \"0\",\n",
      "    \"semantic_modality\": \"DOCUMENT\",\n",
      "    \"s3_bucket\": \"sagemaker-us-west-2-824467037051\",\n",
      "    \"s3_key\": \"data_automation/input/documents/lending_package_w2.pdf\",\n",
      "    \"number_of_pages\": 1,\n",
      "    \"start_page_index\": 0,\n",
      "    \"end_page_index\": 0\n",
      "  },\n",
      "  \"document\": {\n",
      "    \"statistics\": {\n",
      "      \"element_count\": 6,\n",
      "      \"table_count\": 2,\n",
      "      \"figure_count\": 0\n",
      "    }\n",
      "  },\n",
      "  \"pages\": [\n",
      "    {\n",
      "      \"id\": \"b6561ddf-46fd-4a65-8a6f-3fc9779d88ef\",\n",
      "      \"page_index\": 0,\n",
      "      \"representation\": {\n",
      "        \"markdown\": \"a Employee's social security number\\n\\n22222\\n\\n75395184613\\nOMB No. 1545-0008\\n\\nb Employer identification number (EIN)\\n\\n4963147952\\n\\nc Employer's name, address, and ZIP code\\n\\nJohn Stiles\\n 100 Main Street, Anytown, USA\\n\\nd Control number\\n\\n753951852\\n\\ne Employee's first name and initial\\nLast name\\nSuff.\\n\\nArnav\\nDesai\\nM\\n\\n123 Any Street, Any Town, USA\\n\\nf Employee's address and ZIP code\\n\\n1 Wages, tips, other compensation\\t\\t\\t\\t2 Federal income tax withheld\\t\\n$100.00\\t\\t\\t\\t$500.00\\t\\n3 Social security wages\\t\\t\\t\\t4 Social security tax withheld\\t\\n$1000.00\\t\\t\\t\\t$100.00\\t\\n5 Medicare wages and tips\\t\\t\\t\\t6 Medicare tax withheld\\t\\n$500.00\\t\\t\\t\\t$5000.00\\t\\n7 Social security tips\\t\\t\\t\\t8 Allocated tips\\t\\n$500.00\\t\\t\\t\\t$150.00\\t\\n9\\t\\t\\t\\t10 Dependent care benefits\\t\\n\\t\\t\\t\\t$5000.00\\t\\n11 Nonqualified plans\\t\\t\\t\\t12a\\t$500.00\\n$500.00\\t\\t\\t\\tC : A 0\\t\\n13 Statutory employee\\tRetirement plan\\tThird-party sick pay\\t\\t12b C : C .\\t$1500.00\\n[X]\\t[ ]\\t[ ]\\t\\t\\t\\n14 Other\\t\\t\\t\\t12c c : A e\\t$500.00\\nNA\\t\\t\\t\\t\\t\\n\\t\\t\\t\\t12d C of B e\\t$1000.00\\n\\t\\t\\t\\t\\t\\n\\n15 State\\tEmployer's state ID number\\t16 State wages, tips, etc.\\t17 State income tax\\t18 Local wages, tips, etc.\\t19 Local income tax\\t20 Locality name\\n\\t\\t\\t\\t\\t\\t\\nAny Town\\t7414568313\\t$50.00\\t$500.00\\t$100.00\\t$550.00\\tAny Town\\n\\nW-2\\nWage and Tax Statement\\nForm Copy 1-For State, City, or Local Tax Department\\n\\n2022\\n\\nDepartment of XYZ Organaization\"\n",
      "      },\n",
      "      \"statistics\": {\n",
      "        \"element_count\": 6,\n",
      "        \"table_count\": 2,\n",
      "        \"figure_count\": 0\n",
      "      },\n",
      "      \"asset_metadata\": {\n",
      "        \"rectified_image_width_pixels\": 1180,\n",
      "        \"rectified_image_height_pixels\": 1530,\n",
      "        \"corners\": [\n",
      "          [\n",
      "            -0.0002567703188475916,\n",
      "            -0.001407971472699578\n",
      "          ],\n",
      "          [\n",
      "            1.0003929008871821,\n",
      "            5.321499123710703e-07\n",
      "          ],\n",
      "          [\n",
      "            1.0000001034494175,\n",
      "            1.0000000799412656\n",
      "          ],\n",
      "          [\n",
      "            1.5368081591786595e-07,\n",
      "            1.0008484166513179\n",
      "          ]\n",
      "        ]\n",
      "      }\n",
      "    }\n",
      "  ],\n",
      "  \"elements\": [\n",
      "    {\n",
      "      \"type\": \"TEXT\",\n",
      "      \"id\": \"0915f320-a988-4aa7-bfd5-f47d413e6486\",\n",
      "      \"reading_order\": 0,\n",
      "      \"page_indices\": [\n",
      "        0\n",
      "      ],\n",
      "      \"representation\": {\n",
      "        \"markdown\": \"a Employee's social security number\\n\\n22222\\n\\n75395184613\\nOMB No. 1545-0008\\n\\nb Employer identification number (EIN)\\n\\n4963147952\\n\\nc Employer's name, address, and ZIP code\\n\\nJohn Stiles\\n 100 Main Street, Anytown, USA\\n\\nd Control number\\n\\n753951852\\n\\ne Employee's first name and initial\\nLast name\\nSuff.\\n\\nArnav\\nDesai\\nM\\n\\n123 Any Street, Any Town, USA\\n\\nf Employee's address and ZIP code\"\n",
      "      },\n",
      "      \"locations\": [\n",
      "        {\n",
      "          \"page_index\": 0\n",
      "        }\n",
      "      ],\n",
      "      \"sub_type\": \"PARAGRAPH\"\n",
      "    },\n",
      "    {\n",
      "      \"id\": \"a01f03fc-e467-43a8-a19c-8b07e78dacc7\",\n",
      "      \"reading_order\": 1,\n",
      "      \"locations\": [\n",
      "        {\n",
      "          \"page_index\": 0\n",
      "        }\n",
      "      ],\n",
      "      \"type\": \"TEXT\",\n",
      "      \"sub_type\": \"PARAGRAPH\",\n",
      "      \"representation\": {\n",
      "        \"markdown\": \"1 Wages, tips, other compensation\\t\\t\\t\\t2 Federal income tax withheld\\t\\n$100.00\\t\\t\\t\\t$500.00\\t\\n3 Social security wages\\t\\t\\t\\t4 Social security tax withheld\\t\\n$1000.00\\t\\t\\t\\t$100.00\\t\\n5 Medicare wages and tips\\t\\t\\t\\t6 Medicare tax withheld\\t\\n$500.00\\t\\t\\t\\t$5000.00\\t\\n7 Social security tips\\t\\t\\t\\t8 Allocated tips\\t\\n$500.00\\t\\t\\t\\t$150.00\\t\\n9\\t\\t\\t\\t10 Dependent care benefits\\t\\n\\t\\t\\t\\t$5000.00\\t\\n11 Nonqualified plans\\t\\t\\t\\t12a\\t$500.00\\n$500.00\\t\\t\\t\\tC : A 0\\t\\n13 Statutory employee\\tRetirement plan\\tThird-party sick pay\\t\\t12b C : C .\\t$1500.00\\n[X]\\t[ ]\\t[ ]\\t\\t\\t\\n14 Other\\t\\t\\t\\t12c c : A e\\t$500.00\\nNA\\t\\t\\t\\t\\t\\n\\t\\t\\t\\t12d C of B e\\t$1000.00\\n\\t\\t\\t\\t\\t\\n\"\n",
      "      }\n",
      "    },\n",
      "    {\n",
      "      \"id\": \"00f7bcbe-28f4-4836-9574-70440c010511\",\n",
      "      \"reading_order\": 2,\n",
      "      \"locations\": [\n",
      "        {\n",
      "          \"page_index\": 0\n",
      "        }\n",
      "      ],\n",
      "      \"type\": \"TEXT\",\n",
      "      \"sub_type\": \"PARAGRAPH\",\n",
      "      \"representation\": {\n",
      "        \"markdown\": \"15 State\\tEmployer's state ID number\\t16 State wages, tips, etc.\\t17 State income tax\\t18 Local wages, tips, etc.\\t19 Local income tax\\t20 Locality name\\n\\t\\t\\t\\t\\t\\t\\nAny Town\\t7414568313\\t$50.00\\t$500.00\\t$100.00\\t$550.00\\tAny Town\\n\"\n",
      "      }\n",
      "    },\n",
      "    {\n",
      "      \"type\": \"TEXT\",\n",
      "      \"id\": \"96281bb1-90a9-44a1-a08f-5f5fd074162e\",\n",
      "      \"reading_order\": 3,\n",
      "      \"page_indices\": [\n",
      "        0\n",
      "      ],\n",
      "      \"representation\": {\n",
      "        \"markdown\": \"W-2\\nWage and Tax Statement\\nForm Copy 1-For State, City, or Local Tax Department\"\n",
      "      },\n",
      "      \"locations\": [\n",
      "        {\n",
      "          \"page_index\": 0\n",
      "        }\n",
      "      ],\n",
      "      \"sub_type\": \"FOOTER\"\n",
      "    },\n",
      "    {\n",
      "      \"type\": \"TEXT\",\n",
      "      \"id\": \"518dfc2a-0959-4043-ac5c-f61201ca959f\",\n",
      "      \"reading_order\": 4,\n",
      "      \"page_indices\": [\n",
      "        0\n",
      "      ],\n",
      "      \"representation\": {\n",
      "        \"markdown\": \"2022\"\n",
      "      },\n",
      "      \"locations\": [\n",
      "        {\n",
      "          \"page_index\": 0\n",
      "        }\n",
      "      ],\n",
      "      \"sub_type\": \"FOOTER\"\n",
      "    },\n",
      "    {\n",
      "      \"type\": \"TEXT\",\n",
      "      \"id\": \"02abe570-16bf-44c8-9498-936e200fb87e\",\n",
      "      \"reading_order\": 5,\n",
      "      \"page_indices\": [\n",
      "        0\n",
      "      ],\n",
      "      \"representation\": {\n",
      "        \"markdown\": \"Department of XYZ Organaization\"\n",
      "      },\n",
      "      \"locations\": [\n",
      "        {\n",
      "          \"page_index\": 0\n",
      "        }\n",
      "      ],\n",
      "      \"sub_type\": \"FOOTER\"\n",
      "    }\n",
      "  ]\n",
      "}\n"
     ]
    }
   ],
   "source": [
    "data = json.load(open('result.json'))\n",
    "print(json.dumps(data, indent=2))"
   ]
  },
  {
   "cell_type": "markdown",
   "id": "3aed2fe1-6515-4083-bf35-c6320ccfbf06",
   "metadata": {},
   "source": [
    "# Step 3: Create a Project, and blueprint for processing a Homeowner Insurance Form\n",
    "\n",
    "Amazon Bedrock Data Automation (BDA) includes several sample blueprints to help you get started with custom output for documents and images. \n",
    "\n",
    "We will next create out own Blueprint for the Homeowners Insurance document. This is a common document seen in a residential loan application. We need just 4 fields from this documment to proceses the loan application. \n",
    "\n",
    "1. The insured's name\n",
    "2. The insurance company name\n",
    "3. The address of the insured property\n",
    "4. The primary email address"
   ]
  },
  {
   "cell_type": "code",
   "execution_count": 9,
   "id": "9fd36116-1ab3-4f5e-a8e6-fb9d4e17f025",
   "metadata": {
    "tags": []
   },
   "outputs": [
    {
     "data": {
      "text/html": [
       "\n",
       "        <iframe\n",
       "            width=\"1000\"\n",
       "            height=\"500\"\n",
       "            src=\"documents/homeowner_insurance_application_sample.pdf\"\n",
       "            frameborder=\"0\"\n",
       "            allowfullscreen\n",
       "            \n",
       "        ></iframe>\n",
       "        "
      ],
      "text/plain": [
       "<IPython.lib.display.IFrame at 0x7f80b8817010>"
      ]
     },
     "execution_count": 9,
     "metadata": {},
     "output_type": "execute_result"
    }
   ],
   "source": [
    "# Display the Form\n",
    "\n",
    "file_name = 'documents/homeowner_insurance_application_sample.pdf'\n",
    "object_name = f'data_automation/input/{file_name}'\n",
    "output_name = 'data_automation/output/'\n",
    "s3.upload_file(file_name, bucket_name, object_name)\n",
    "\n",
    "display.IFrame(\"documents/homeowner_insurance_application_sample.pdf\", width=1000, height=500)"
   ]
  },
  {
   "cell_type": "code",
   "execution_count": 10,
   "id": "3a9c132e-492f-42d8-82aa-6cac6e8e3d0c",
   "metadata": {
    "tags": []
   },
   "outputs": [
    {
     "data": {
      "text/plain": [
       "{'ResponseMetadata': {'RequestId': '835635aa-7c38-4c0c-819e-215b8fe1796e',\n",
       "  'HTTPStatusCode': 201,\n",
       "  'HTTPHeaders': {'date': 'Fri, 10 Jan 2025 00:26:47 GMT',\n",
       "   'content-type': 'application/json',\n",
       "   'content-length': '1075',\n",
       "   'connection': 'keep-alive',\n",
       "   'x-amzn-requestid': '835635aa-7c38-4c0c-819e-215b8fe1796e'},\n",
       "  'RetryAttempts': 0},\n",
       " 'blueprint': {'blueprintArn': 'arn:aws:bedrock:us-west-2:824467037051:blueprint/350ea7969b3d',\n",
       "  'schema': '{\"$schema\": \"http://json-schema.org/draft-07/schema#\", \"description\": \"This blueprint will process a homeowners insurance applicatation form\", \"documentClass\": \"default\", \"type\": \"object\", \"properties\": {\"Insured Name\": {\"type\": \"string\", \"inferenceType\": \"extractive\", \"description\": \"Please extract the Insured\\'s Name\"}, \"Insurance Company\": {\"type\": \"string\", \"inferenceType\": \"extractive\", \"description\": \"Please extract the insurance company name\"}, \"Insured Address\": {\"type\": \"string\", \"inferenceType\": \"extractive\", \"description\": \"Please extract the address of the insured property\"}, \"Email Address\": {\"type\": \"string\", \"inferenceType\": \"extractive\", \"description\": \"Please extract the primary email address\"}}}',\n",
       "  'type': 'DOCUMENT',\n",
       "  'creationTime': datetime.datetime(2025, 1, 10, 0, 26, 47, 337000, tzinfo=tzlocal()),\n",
       "  'lastModifiedTime': datetime.datetime(2025, 1, 10, 0, 26, 47, 337000, tzinfo=tzlocal()),\n",
       "  'blueprintName': 'my-insurance-blueprint-v1',\n",
       "  'blueprintStage': 'LIVE'}}"
      ]
     },
     "execution_count": 10,
     "metadata": {},
     "output_type": "execute_result"
    }
   ],
   "source": [
    "\n",
    "response = client.create_blueprint(\n",
    "    blueprintName=blueprint_name,\n",
    "    type='DOCUMENT',\n",
    "    blueprintStage='LIVE',\n",
    "    schema=json.dumps({\n",
    "    \"$schema\": \"http://json-schema.org/draft-07/schema#\",\n",
    "    \"description\": \"This blueprint will process a homeowners insurance applicatation form\",\n",
    "    \"documentClass\": \"default\",\n",
    "    \"type\": \"object\",\n",
    "    \"properties\": {\n",
    "        \"Insured Name\":{\n",
    "           \"type\":\"string\",\n",
    "           \"inferenceType\":\"extractive\",\n",
    "           \"description\":\"Please extract the Insured's Name\",\n",
    "        },\n",
    "           \"Insurance Company\":{\n",
    "           \"type\":\"string\",\n",
    "           \"inferenceType\":\"extractive\",\n",
    "           \"description\":\"Please extract the insurance company name\",\n",
    "        },  \n",
    "           \"Insured Address\":{\n",
    "           \"type\":\"string\",\n",
    "           \"inferenceType\":\"extractive\",\n",
    "           \"description\":\"Please extract the address of the insured property\",\n",
    "        },\n",
    "           \"Email Address\":{\n",
    "           \"type\":\"string\",\n",
    "           \"inferenceType\":\"extractive\",\n",
    "           \"description\":\"Please extract the primary email address\",\n",
    "        }\n",
    "        }\n",
    "    })\n",
    ")\n",
    "response"
   ]
  },
  {
   "cell_type": "code",
   "execution_count": 11,
   "id": "9cbac6d7",
   "metadata": {
    "tags": []
   },
   "outputs": [
    {
     "data": {
      "text/plain": [
       "'arn:aws:bedrock:us-west-2:824467037051:blueprint/350ea7969b3d'"
      ]
     },
     "execution_count": 11,
     "metadata": {},
     "output_type": "execute_result"
    }
   ],
   "source": [
    "blueprint_arn = response['blueprint']['blueprintArn']\n",
    "blueprint_arn"
   ]
  },
  {
   "cell_type": "markdown",
   "id": "055a14c3",
   "metadata": {},
   "source": [
    "### Create Automation Project\n",
    "\n",
    "Our project will need blueprints needed to process a loan application. We will add the W2 Tax Form blueprint we just created, as well as standard blueprints for these documents:\n",
    "1. Drivers License ID Card\n",
    "2. Bank Statements\n",
    "3. W2 Tax forms  (Needed??)\n",
    "4. Pay Stubs\n",
    "5. A Check\n",
    "6. A Homeowner Insurance Application"
   ]
  },
  {
   "cell_type": "markdown",
   "id": "e0048923-9756-4f50-9a27-f2808928722f",
   "metadata": {},
   "source": [
    "We will define the standard output configuration for Bedrock Data Automation\n",
    "\n",
    "Document Reference: https://docs.aws.amazon.com/bedrock/latest/userguide/bda-how-it-works.html"
   ]
  },
  {
   "cell_type": "code",
   "execution_count": 12,
   "id": "dbdcc545-3e38-4992-a76c-4f173f9a52bd",
   "metadata": {
    "tags": []
   },
   "outputs": [],
   "source": [
    "output_config =  {\n",
    "  \"document\": {\n",
    "    \"extraction\": {\n",
    "      \"granularity\": {\n",
    "        \"types\": [\n",
    "          \"PAGE\",\n",
    "          \"ELEMENT\"\n",
    "        ]\n",
    "      },\n",
    "      \"boundingBox\": {\n",
    "        \"state\": \"ENABLED\"\n",
    "      }\n",
    "    },\n",
    "    \"generativeField\": {\n",
    "      \"state\": \"ENABLED\"               \n",
    "    },\n",
    "    \"outputFormat\": {\n",
    "      \"textFormat\": {\n",
    "        \"types\": ['PLAIN_TEXT','MARKDOWN','HTML','CSV']\n",
    "      },\n",
    "      \"additionalFileFormat\": {\n",
    "        \"state\": \"DISABLED\"\n",
    "      }\n",
    "    }\n",
    "  },\n",
    "  \"image\": {\n",
    "    \"extraction\": {\n",
    "      \"category\": {\n",
    "        \"state\": \"ENABLED\",\n",
    "        \"types\": [\n",
    "          \"TEXT_DETECTION\"\n",
    "        ]\n",
    "      },\n",
    "      \"boundingBox\": {\n",
    "        \"state\": \"ENABLED\"\n",
    "      }\n",
    "    },\n",
    "    \"generativeField\": {\n",
    "      \"state\": \"ENABLED\",\n",
    "      \"types\": [\n",
    "        \"IMAGE_SUMMARY\"\n",
    "      ]\n",
    "    }\n",
    "  },\n",
    "  \"video\": {\n",
    "    \"extraction\": {\n",
    "      \"category\": {\n",
    "        \"state\": \"ENABLED\",\n",
    "        \"types\": [\n",
    "          \"TEXT_DETECTION\"\n",
    "        ]\n",
    "      },\n",
    "      \"boundingBox\": {\n",
    "        \"state\": \"ENABLED\"\n",
    "      }\n",
    "    },\n",
    "    \"generativeField\": {\n",
    "      \"state\": \"ENABLED\",\n",
    "      \"types\": [\n",
    "        \"VIDEO_SUMMARY\",\n",
    "        \"SCENE_SUMMARY\"\n",
    "      ]\n",
    "    }\n",
    "  },\n",
    "  \"audio\": {\n",
    "    \"extraction\": {\n",
    "      \"category\": {\n",
    "        \"state\": \"ENABLED\",\n",
    "        \"types\": [\n",
    "          \"TRANSCRIPT\"\n",
    "        ]\n",
    "      }\n",
    "    },\n",
    "    \"generativeField\": {\n",
    "      \"state\": \"ENABLED\",\n",
    "      \"types\": [\"IAB\"]\n",
    "    }\n",
    "  }\n",
    "}"
   ]
  },
  {
   "cell_type": "code",
   "execution_count": 13,
   "id": "02ae46ee-505c-4b30-b1c1-f9d15e273e1e",
   "metadata": {
    "tags": []
   },
   "outputs": [
    {
     "name": "stdout",
     "output_type": "stream",
     "text": [
      "{'ResponseMetadata': {'RequestId': 'c8017a63-0dbf-480a-ab53-1c2499297cda', 'HTTPStatusCode': 201, 'HTTPHeaders': {'date': 'Fri, 10 Jan 2025 00:26:47 GMT', 'content-type': 'application/json', 'content-length': '137', 'connection': 'keep-alive', 'x-amzn-requestid': 'c8017a63-0dbf-480a-ab53-1c2499297cda'}, 'RetryAttempts': 0}, 'projectArn': 'arn:aws:bedrock:us-west-2:824467037051:data-automation-project/87411ead6264', 'projectStage': 'LIVE', 'status': 'IN_PROGRESS'}\n",
      "arn:aws:bedrock:us-west-2:824467037051:data-automation-project/87411ead6264\n"
     ]
    }
   ],
   "source": [
    "\n",
    "\n",
    "response = client.create_data_automation_project(\n",
    "    projectName=project_name,\n",
    "    projectDescription=\"Workbook to process Lending Applictions\",\n",
    "    projectStage='LIVE',\n",
    "    standardOutputConfiguration=output_config,\n",
    ")\n",
    "\n",
    "print(response)\n",
    "\n",
    "project_arn = response['projectArn']\n",
    "print(project_arn)"
   ]
  },
  {
   "cell_type": "markdown",
   "id": "60988116-72de-4744-91c1-e6f6c0a3bb08",
   "metadata": {},
   "source": [
    "# Step 4: Add blueprints to the Automaton Project\n",
    "\n",
    "Our project will need blueprints needed to processess a loan applicaiton. We will add the W2 Tax Form blueprint we just created, as well as standard blueprints for these documents:\n",
    "\n",
    "1. Drivers License ID Card \n",
    "2. Bank Statements \n",
    "3. Pay Stubs \n",
    "4. A Check \n",
    "\n",
    "We will also add the Homeowner Insurance Appliction we created in step 3\n"
   ]
  },
  {
   "cell_type": "code",
   "execution_count": 14,
   "id": "68877c16-f5b3-45f6-b629-6ce87d70a731",
   "metadata": {},
   "outputs": [
    {
     "name": "stdout",
     "output_type": "stream",
     "text": [
      "arn:aws:bedrock:us-west-2:824467037051:blueprint/350ea7969b3d\n"
     ]
    }
   ],
   "source": [
    "print(blueprint_arn)"
   ]
  },
  {
   "cell_type": "code",
   "execution_count": 15,
   "id": "b450c137-d707-4c42-91fd-ba718ab3dd55",
   "metadata": {
    "tags": []
   },
   "outputs": [],
   "source": [
    "update_response = client.update_data_automation_project(\n",
    "    projectArn=project_arn,\n",
    "    standardOutputConfiguration=output_config,\n",
    "    customOutputConfiguration={\n",
    "        'blueprints': [\n",
    "            {\n",
    "                'blueprintArn': blueprint_arn,\n",
    "                'blueprintStage': 'LIVE'\n",
    "            },\n",
    "             {\n",
    "                 'blueprintArn': 'arn:aws:bedrock:us-west-2:aws:blueprint/bedrock-data-automation-public-us-driver-license',\n",
    "                  'blueprintStage': 'LIVE'\n",
    "             },\n",
    "             {\n",
    "                 'blueprintArn': 'arn:aws:bedrock:us-west-2:aws:blueprint/bedrock-data-automation-public-us-bank-check',\n",
    "                  'blueprintStage': 'LIVE'\n",
    "             },\n",
    "             {\n",
    "                 'blueprintArn': 'arn:aws:bedrock:us-west-2:aws:blueprint/bedrock-data-automation-public-payslip',\n",
    "                 'blueprintStage': 'LIVE'\n",
    "             },\n",
    "             {\n",
    "                 'blueprintArn': 'arn:aws:bedrock:us-west-2:aws:blueprint/bedrock-data-automation-public-bank-statement',\n",
    "                  'blueprintStage': 'LIVE'\n",
    "             },\n",
    "        ]\n",
    "    },\n",
    "  )\n",
    "\n",
    "project_arn = response['projectArn']\n"
   ]
  },
  {
   "cell_type": "markdown",
   "id": "5e72201e",
   "metadata": {},
   "source": [
    "### List the Blueprints for our Automation Project"
   ]
  },
  {
   "cell_type": "code",
   "execution_count": 16,
   "id": "1c3b6e3f",
   "metadata": {
    "tags": []
   },
   "outputs": [
    {
     "data": {
      "text/plain": [
       "{'ResponseMetadata': {'RequestId': '41c66aa1-c07a-4ad3-aea9-bee2b617411f',\n",
       "  'HTTPStatusCode': 200,\n",
       "  'HTTPHeaders': {'date': 'Fri, 10 Jan 2025 00:26:48 GMT',\n",
       "   'content-type': 'application/json',\n",
       "   'content-length': '632',\n",
       "   'connection': 'keep-alive',\n",
       "   'x-amzn-requestid': '41c66aa1-c07a-4ad3-aea9-bee2b617411f'},\n",
       "  'RetryAttempts': 0},\n",
       " 'blueprints': [{'blueprintArn': 'arn:aws:bedrock:us-west-2:aws:blueprint/bedrock-data-automation-public-us-driver-license',\n",
       "   'blueprintStage': 'LIVE'},\n",
       "  {'blueprintArn': 'arn:aws:bedrock:us-west-2:aws:blueprint/bedrock-data-automation-public-us-bank-check',\n",
       "   'blueprintStage': 'LIVE'},\n",
       "  {'blueprintArn': 'arn:aws:bedrock:us-west-2:aws:blueprint/bedrock-data-automation-public-payslip',\n",
       "   'blueprintStage': 'LIVE'},\n",
       "  {'blueprintArn': 'arn:aws:bedrock:us-west-2:aws:blueprint/bedrock-data-automation-public-bank-statement',\n",
       "   'blueprintStage': 'LIVE'},\n",
       "  {'blueprintArn': 'arn:aws:bedrock:us-west-2:824467037051:blueprint/350ea7969b3d',\n",
       "   'blueprintStage': 'LIVE'}]}"
      ]
     },
     "execution_count": 16,
     "metadata": {},
     "output_type": "execute_result"
    }
   ],
   "source": [
    "client.list_blueprints(projectFilter={'projectArn': project_arn})"
   ]
  },
  {
   "cell_type": "code",
   "execution_count": 17,
   "id": "d0145145",
   "metadata": {
    "tags": []
   },
   "outputs": [
    {
     "data": {
      "text/plain": [
       "{'ResponseMetadata': {'RequestId': '94646961-945a-4203-9cda-6599cb3125de',\n",
       "  'HTTPStatusCode': 200,\n",
       "  'HTTPHeaders': {'date': 'Fri, 10 Jan 2025 00:26:48 GMT',\n",
       "   'content-type': 'application/json',\n",
       "   'content-length': '1118',\n",
       "   'connection': 'keep-alive',\n",
       "   'x-amzn-requestid': '94646961-945a-4203-9cda-6599cb3125de'},\n",
       "  'RetryAttempts': 0},\n",
       " 'project': {'projectArn': 'arn:aws:bedrock:us-west-2:824467037051:data-automation-project/87411ead6264',\n",
       "  'creationTime': datetime.datetime(2025, 1, 10, 0, 26, 47, 698000, tzinfo=tzlocal()),\n",
       "  'lastModifiedTime': datetime.datetime(2025, 1, 10, 0, 26, 48, 212000, tzinfo=tzlocal()),\n",
       "  'projectName': 'my-bda-lending-workbook-v1',\n",
       "  'projectStage': 'LIVE',\n",
       "  'standardOutputConfiguration': {'document': {'extraction': {'granularity': {'types': ['PAGE',\n",
       "       'ELEMENT']},\n",
       "     'boundingBox': {'state': 'ENABLED'}},\n",
       "    'generativeField': {'state': 'ENABLED'},\n",
       "    'outputFormat': {'textFormat': {'types': ['PLAIN_TEXT',\n",
       "       'MARKDOWN',\n",
       "       'HTML',\n",
       "       'CSV']},\n",
       "     'additionalFileFormat': {'state': 'DISABLED'}}},\n",
       "   'image': {'extraction': {'category': {'state': 'ENABLED',\n",
       "      'types': ['TEXT_DETECTION']},\n",
       "     'boundingBox': {'state': 'ENABLED'}},\n",
       "    'generativeField': {'state': 'ENABLED', 'types': ['IMAGE_SUMMARY']}},\n",
       "   'video': {'extraction': {'category': {'state': 'ENABLED',\n",
       "      'types': ['TEXT_DETECTION']},\n",
       "     'boundingBox': {'state': 'ENABLED'}},\n",
       "    'generativeField': {'state': 'ENABLED',\n",
       "     'types': ['VIDEO_SUMMARY', 'SCENE_SUMMARY']}},\n",
       "   'audio': {'extraction': {'category': {'state': 'ENABLED',\n",
       "      'types': ['TRANSCRIPT']}},\n",
       "    'generativeField': {'state': 'ENABLED', 'types': ['IAB']}}},\n",
       "  'customOutputConfiguration': {},\n",
       "  'status': 'COMPLETED'}}"
      ]
     },
     "execution_count": 17,
     "metadata": {},
     "output_type": "execute_result"
    }
   ],
   "source": [
    "client.get_data_automation_project(projectArn=project_arn)"
   ]
  },
  {
   "cell_type": "markdown",
   "id": "c4281c36-ff7b-4cff-bc45-6205547b1748",
   "metadata": {},
   "source": [
    "# Step 5 - Use our custom Blueprint to process a Homeowner Insurance Form"
   ]
  },
  {
   "cell_type": "code",
   "execution_count": 18,
   "id": "db323787-1fc8-40e3-ac28-eb564631c441",
   "metadata": {
    "tags": []
   },
   "outputs": [
    {
     "data": {
      "text/html": [
       "\n",
       "        <iframe\n",
       "            width=\"1000\"\n",
       "            height=\"500\"\n",
       "            src=\"documents/homeowner_insurance_application_sample.pdf\"\n",
       "            frameborder=\"0\"\n",
       "            allowfullscreen\n",
       "            \n",
       "        ></iframe>\n",
       "        "
      ],
      "text/plain": [
       "<IPython.lib.display.IFrame at 0x7f80b8970430>"
      ]
     },
     "execution_count": 18,
     "metadata": {},
     "output_type": "execute_result"
    }
   ],
   "source": [
    "# Upload the Form\n",
    "\n",
    "file_name = 'documents/homeowner_insurance_application_sample.pdf'\n",
    "object_name = f'data_automation/input/{file_name}'\n",
    "output_name = 'data_automation/output/'\n",
    "s3.upload_file(file_name, bucket_name, object_name)\n",
    "\n",
    "display.IFrame(\"documents/homeowner_insurance_application_sample.pdf\", width=1000, height=500)"
   ]
  },
  {
   "cell_type": "code",
   "execution_count": 19,
   "id": "9e51bb89-6208-47e1-9052-791016d978ec",
   "metadata": {
    "tags": []
   },
   "outputs": [
    {
     "data": {
      "text/plain": [
       "'arn:aws:bedrock:us-west-2:824467037051:data-automation-invocation/cdbb7bcd-ba8c-4077-86aa-d82714a7fc45'"
      ]
     },
     "execution_count": 19,
     "metadata": {},
     "output_type": "execute_result"
    }
   ],
   "source": [
    "response = run_client.invoke_data_automation_async(\n",
    "    inputConfiguration={'s3Uri':  f\"s3://{bucket_name}/{object_name}\"},\n",
    "    outputConfiguration={'s3Uri': f\"s3://{bucket_name}/{output_name}\"},\n",
    "    blueprints=[{'blueprintArn': blueprint_arn, 'stage': 'LIVE'}])\n",
    "response\n",
    "\n",
    "invoke_arn = response['invocationArn']\n",
    "invoke_arn"
   ]
  },
  {
   "cell_type": "code",
   "execution_count": 20,
   "id": "7743fc99-124e-4e25-a6a4-1eb74dc7d7b3",
   "metadata": {
    "tags": []
   },
   "outputs": [
    {
     "name": "stdout",
     "output_type": "stream",
     "text": [
      "InProgress\n",
      "InProgress\n",
      "InProgress\n",
      "InProgress\n",
      "InProgress\n",
      "Success\n"
     ]
    }
   ],
   "source": [
    "in_progress = True\n",
    "while in_progress:\n",
    "    progress = run_client.get_data_automation_status(invocationArn=invoke_arn)\n",
    "    if progress['status'] == 'InProgress':\n",
    "        print(progress['status'])\n",
    "        sleep(5)\n",
    "    else:\n",
    "        break\n",
    "        \n",
    "print(progress['status'])"
   ]
  },
  {
   "cell_type": "markdown",
   "id": "6f3ddec0-4c11-474b-9c0c-202fa2a1456a",
   "metadata": {},
   "source": [
    "### Get Results\n",
    "\n",
    "Note the four fields we requested in the blueprint have been returned"
   ]
  },
  {
   "cell_type": "code",
   "execution_count": 21,
   "id": "33b1c274-9393-409a-8ca5-277bdee1f4fd",
   "metadata": {
    "tags": []
   },
   "outputs": [
    {
     "data": {
      "text/plain": [
       "'data_automation/output//cdbb7bcd-ba8c-4077-86aa-d82714a7fc45/0/custom_output/0/result.json'"
      ]
     },
     "execution_count": 21,
     "metadata": {},
     "output_type": "execute_result"
    }
   ],
   "source": [
    "out_loc = progress['outputConfiguration']['s3Uri'].split(\"/job_metadata.json\", 1)[0].split(bucket_name+\"/\")[1]\n",
    "out_loc += \"/0/custom_output/0/result.json\"\n",
    "out_loc"
   ]
  },
  {
   "cell_type": "code",
   "execution_count": 22,
   "id": "1175444c-9a30-4f0f-8b0b-825c6ca66a07",
   "metadata": {
    "tags": []
   },
   "outputs": [],
   "source": [
    "s3.download_file(bucket_name, out_loc, 'result.json')"
   ]
  },
  {
   "cell_type": "code",
   "execution_count": 23,
   "id": "af845d3e-4dd9-4683-b2f8-7b5eec8c96c5",
   "metadata": {
    "tags": []
   },
   "outputs": [
    {
     "name": "stdout",
     "output_type": "stream",
     "text": [
      "{\n",
      "  \"Insured Address\": \"42 Rainbow Sparkle Boulevard Unicornville, NV 12345\",\n",
      "  \"Insurance Company\": \"Fake Insurance Co\",\n",
      "  \"Insured Name\": \"Ziggy Starpixel\",\n",
      "  \"Email Address\": \"rainbow.unicorn.987654@fakeemail.nowhere\"\n",
      "}\n"
     ]
    }
   ],
   "source": [
    "data = json.load(open('result.json'))\n",
    "print(json.dumps(data['inference_result'], indent=2))\n",
    "\n",
    "#print(json.dumps(data, indent=2))"
   ]
  },
  {
   "cell_type": "markdown",
   "id": "fa75e784-849b-491f-b01e-e9a0723c3733",
   "metadata": {},
   "source": [
    "# Step 6 - Document Splitting - Process a Multi-Page Document Package"
   ]
  },
  {
   "cell_type": "code",
   "execution_count": 24,
   "id": "fa6ae989-f155-4378-a42b-165459f3abde",
   "metadata": {
    "tags": []
   },
   "outputs": [
    {
     "name": "stdout",
     "output_type": "stream",
     "text": [
      "Activating document splitting for project: my-bda-lending-workbook-v1, arn:aws:bedrock:us-west-2:824467037051:data-automation-project/87411ead6264\n",
      "\n",
      "Updated override configuration of project:\n",
      "{'ResponseMetadata': {'RequestId': 'c3250850-c542-4ddb-935c-e5f951377f7b', 'HTTPStatusCode': 200, 'HTTPHeaders': {'date': 'Fri, 10 Jan 2025 00:27:15 GMT', 'content-type': 'application/json', 'content-length': '1188', 'connection': 'keep-alive', 'x-amzn-requestid': 'c3250850-c542-4ddb-935c-e5f951377f7b'}, 'RetryAttempts': 0}, 'project': {'projectArn': 'arn:aws:bedrock:us-west-2:824467037051:data-automation-project/87411ead6264', 'creationTime': datetime.datetime(2025, 1, 10, 0, 26, 47, 698000, tzinfo=tzlocal()), 'lastModifiedTime': datetime.datetime(2025, 1, 10, 0, 27, 15, 535000, tzinfo=tzlocal()), 'projectName': 'my-bda-lending-workbook-v1', 'projectStage': 'LIVE', 'standardOutputConfiguration': {'document': {'extraction': {'granularity': {'types': ['PAGE', 'ELEMENT']}, 'boundingBox': {'state': 'ENABLED'}}, 'generativeField': {'state': 'ENABLED'}, 'outputFormat': {'textFormat': {'types': ['PLAIN_TEXT', 'MARKDOWN', 'HTML', 'CSV']}, 'additionalFileFormat': {'state': 'DISABLED'}}}, 'image': {'extraction': {'category': {'state': 'ENABLED', 'types': ['TEXT_DETECTION']}, 'boundingBox': {'state': 'ENABLED'}}, 'generativeField': {'state': 'ENABLED', 'types': ['IMAGE_SUMMARY']}}, 'video': {'extraction': {'category': {'state': 'ENABLED', 'types': ['TEXT_DETECTION']}, 'boundingBox': {'state': 'ENABLED'}}, 'generativeField': {'state': 'ENABLED', 'types': ['VIDEO_SUMMARY', 'SCENE_SUMMARY']}}, 'audio': {'extraction': {'category': {'state': 'ENABLED', 'types': ['TRANSCRIPT']}}, 'generativeField': {'state': 'ENABLED', 'types': ['IAB']}}}, 'customOutputConfiguration': {}, 'overrideConfiguration': {'document': {'splitter': {'state': 'ENABLED'}}}, 'status': 'COMPLETED'}}\n"
     ]
    }
   ],
   "source": [
    "\n",
    "\n",
    "print(f\"Activating document splitting for project: {project_name}, {project_arn}\")\n",
    "\n",
    "\n",
    "project = client.get_data_automation_project(projectArn=project_arn)[\"project\"]\n",
    "\n",
    "# Update project configuration\n",
    "update_response = client.update_data_automation_project(\n",
    "    projectArn=project_arn,\n",
    "    standardOutputConfiguration=project[\"standardOutputConfiguration\"],\n",
    "    customOutputConfiguration={\n",
    "        'blueprints': [\n",
    "            {\n",
    "                'blueprintArn': blueprint_arn,\n",
    "                'blueprintStage': 'LIVE'\n",
    "            },\n",
    "            {\n",
    "                'blueprintArn': 'arn:aws:bedrock:us-west-2:aws:blueprint/bedrock-data-automation-public-w2-form',\n",
    "                'blueprintStage': 'LIVE'\n",
    "            },\n",
    "             {\n",
    "                 'blueprintArn': 'arn:aws:bedrock:us-west-2:aws:blueprint/bedrock-data-automation-public-us-driver-license',\n",
    "                  'blueprintStage': 'LIVE'\n",
    "             },\n",
    "             {\n",
    "                 'blueprintArn': 'arn:aws:bedrock:us-west-2:aws:blueprint/bedrock-data-automation-public-us-bank-check',\n",
    "                  'blueprintStage': 'LIVE'\n",
    "             },\n",
    "             {\n",
    "                 'blueprintArn': 'arn:aws:bedrock:us-west-2:aws:blueprint/bedrock-data-automation-public-payslip',\n",
    "                 'blueprintStage': 'LIVE'\n",
    "             },\n",
    "             {\n",
    "                 'blueprintArn': 'arn:aws:bedrock:us-west-2:aws:blueprint/bedrock-data-automation-public-bank-statement',\n",
    "                  'blueprintStage': 'LIVE'\n",
    "             },\n",
    "        ]\n",
    "    },\n",
    "    overrideConfiguration={'document': {'splitter': {'state': 'ENABLED'}}})\n",
    "\n",
    "# Get updated project configuration\n",
    "updated_project = client.get_data_automation_project(projectArn=project_arn)\n",
    "\n",
    "print(\"\\nUpdated override configuration of project:\")\n",
    "print(updated_project)\n"
   ]
  },
  {
   "cell_type": "code",
   "execution_count": 25,
   "id": "a7241060-d6ad-428f-a03a-95c871df7d43",
   "metadata": {},
   "outputs": [
    {
     "data": {
      "text/html": [
       "\n",
       "        <iframe\n",
       "            width=\"1000\"\n",
       "            height=\"500\"\n",
       "            src=\"documents/lending_package.pdf\"\n",
       "            frameborder=\"0\"\n",
       "            allowfullscreen\n",
       "            \n",
       "        ></iframe>\n",
       "        "
      ],
      "text/plain": [
       "<IPython.lib.display.IFrame at 0x7f80b88cd810>"
      ]
     },
     "execution_count": 25,
     "metadata": {},
     "output_type": "execute_result"
    }
   ],
   "source": [
    "##\n",
    "## Upload a package of documents to an S3\n",
    "##\n",
    "file_name = 'documents/lending_package.pdf'\n",
    "object_name = f'data_automation/input/{file_name}'\n",
    "output_name = 'data_automation/output/'\n",
    "s3.upload_file(file_name, bucket_name, object_name)\n",
    "\n",
    "display.IFrame(\"documents/lending_package.pdf\", width=1000, height=500)"
   ]
  },
  {
   "cell_type": "code",
   "execution_count": 26,
   "id": "9bb19b94-a858-4907-aee6-3594e019d85f",
   "metadata": {},
   "outputs": [
    {
     "data": {
      "text/plain": [
       "'arn:aws:bedrock:us-west-2:824467037051:data-automation-invocation/b5f8b62c-e803-4178-9d17-0018498fd538'"
      ]
     },
     "execution_count": 26,
     "metadata": {},
     "output_type": "execute_result"
    }
   ],
   "source": [
    "# Process the document package\n",
    "\n",
    "\n",
    "response = run_client.invoke_data_automation_async(\n",
    "    dataAutomationConfiguration = { \"dataAutomationArn\" : project_arn,\"stage\" : 'LIVE'},\n",
    "    inputConfiguration={'s3Uri':  f\"s3://{bucket_name}/{object_name}\"},\n",
    "    outputConfiguration={'s3Uri': f\"s3://{bucket_name}/{output_name}\"},\n",
    ")\n",
    "\n",
    "response\n",
    "\n",
    "\n",
    "invoke_arn = response['invocationArn']\n",
    "invoke_arn\n"
   ]
  },
  {
   "cell_type": "code",
   "execution_count": 27,
   "id": "6daea4c3-cd4c-49d1-b6dd-e13af550a5f0",
   "metadata": {},
   "outputs": [
    {
     "name": "stdout",
     "output_type": "stream",
     "text": [
      "InProgress\n",
      "InProgress\n",
      "InProgress\n",
      "InProgress\n",
      "InProgress\n",
      "InProgress\n",
      "InProgress\n",
      "InProgress\n",
      "Success\n"
     ]
    }
   ],
   "source": [
    "in_progress = True\n",
    "\n",
    "while in_progress:\n",
    "    progress = run_client.get_data_automation_status(invocationArn=invoke_arn)\n",
    "    if progress['status'] == 'InProgress':\n",
    "        print(progress['status'])\n",
    "        sleep(10)\n",
    "    else:\n",
    "        break\n",
    "        \n",
    "print(progress['status'])"
   ]
  },
  {
   "cell_type": "markdown",
   "id": "cf2c333b-52dc-454d-94a0-80d9a8bbb669",
   "metadata": {
    "tags": []
   },
   "source": [
    "# Step 7 - Display the results"
   ]
  },
  {
   "cell_type": "markdown",
   "id": "8d5e4587-3fe2-4be4-a809-4a0adb0d2cfc",
   "metadata": {},
   "source": [
    "The first page of the lending package has a pay stub"
   ]
  },
  {
   "cell_type": "code",
   "execution_count": 28,
   "id": "bf3f31a9-f34d-4574-897f-cde82b71a774",
   "metadata": {
    "tags": []
   },
   "outputs": [
    {
     "data": {
      "text/html": [
       "\n",
       "        <iframe\n",
       "            width=\"1000\"\n",
       "            height=\"500\"\n",
       "            src=\"documents/lending_package_pay_stub.pdf\"\n",
       "            frameborder=\"0\"\n",
       "            allowfullscreen\n",
       "            \n",
       "        ></iframe>\n",
       "        "
      ],
      "text/plain": [
       "<IPython.lib.display.IFrame at 0x7f80f5779bd0>"
      ]
     },
     "execution_count": 28,
     "metadata": {},
     "output_type": "execute_result"
    }
   ],
   "source": [
    "display.IFrame(\"documents/lending_package_pay_stub.pdf\", width=1000, height=500)"
   ]
  },
  {
   "cell_type": "markdown",
   "id": "4f4baef9-e541-4375-8b95-d944b5087cd6",
   "metadata": {},
   "source": [
    "Display Page 1 Results: Pay Stub \\\n",
    "Note that BDA has selected this blueprint:  bedrock-data-automation-public-payslip"
   ]
  },
  {
   "cell_type": "code",
   "execution_count": 29,
   "id": "82a184ac-b31f-4273-89d0-582b58e6b7bb",
   "metadata": {},
   "outputs": [
    {
     "name": "stdout",
     "output_type": "stream",
     "text": [
      "{\n",
      "  \"arn\": \"arn:aws:bedrock:us-west-2:aws:blueprint/bedrock-data-automation-public-payslip\",\n",
      "  \"name\": \"Payslip\",\n",
      "  \"confidence\": 0.9992805\n",
      "}\n",
      "{\n",
      "  \"YTDNetPay\": \"\",\n",
      "  \"PayPeriodStartDate\": \"\",\n",
      "  \"FederalTaxes\": [\n",
      "    {\n",
      "      \"YTD\": 2111.2,\n",
      "      \"Period\": 40.6,\n",
      "      \"ItemDescription\": \"Federal Income Tax\"\n",
      "    }\n",
      "  ],\n",
      "  \"CurrentGrossPay\": 452.43,\n",
      "  \"HolidayHourlyRate\": 10,\n",
      "  \"CompanyAddress\": {\n",
      "    \"State\": \"\",\n",
      "    \"ZipCode\": \"10101\",\n",
      "    \"City\": \"ANYTOWN\",\n",
      "    \"Line1\": \"475 ANY AVENUE\",\n",
      "    \"Line2\": \"\"\n",
      "  },\n",
      "  \"CityTaxes\": [\n",
      "    {\n",
      "      \"YTD\": 308.88,\n",
      "      \"Period\": 5.94,\n",
      "      \"ItemDescription\": \"NYC Income Tax\"\n",
      "    }\n",
      "  ],\n",
      "  \"PayPeriodEndDate\": \"2008-07-18\",\n",
      "  \"PayDate\": \"2008-07-25\",\n",
      "  \"currency\": \"USD\",\n",
      "  \"EmployeeAddress\": {\n",
      "    \"State\": \"\",\n",
      "    \"ZipCode\": \"12345\",\n",
      "    \"City\": \"ANYTOWN\",\n",
      "    \"Line1\": \"101 MAIN STREET\",\n",
      "    \"Line2\": \"\"\n",
      "  },\n",
      "  \"YTDGrossPay\": 23526.8,\n",
      "  \"is_gross_pay_valid\": \"\",\n",
      "  \"StateFilingStatus\": \"\",\n",
      "  \"YTDCityTax\": 308.88,\n",
      "  \"EmployeeNumber\": \"\",\n",
      "  \"RegularHourlyRate\": 10,\n",
      "  \"are_field_names_sufficient\": false,\n",
      "  \"YTDTotalDeductions\": \"\",\n",
      "  \"is_ytd_gross_pay_highest\": true,\n",
      "  \"StateTaxes\": [\n",
      "    {\n",
      "      \"YTD\": 438.36,\n",
      "      \"Period\": 8.43,\n",
      "      \"ItemDescription\": \"NY State Income Tax\"\n",
      "    }\n",
      "  ],\n",
      "  \"YTDStateTax\": 438.36,\n",
      "  \"PayrollNumber\": \"\",\n",
      "  \"EmployeeName\": {\n",
      "    \"FirstName\": \"JOHN\",\n",
      "    \"SuffixName\": \"\",\n",
      "    \"LastName\": \"STILES\",\n",
      "    \"MiddleName\": \"\"\n",
      "  },\n",
      "  \"FederalFilingStatus\": \"\",\n",
      "  \"CurrentTotalDeductions\": \"\",\n",
      "  \"CurrentNetPay\": 291.9,\n",
      "  \"YTDFederalTax\": 2111.2\n",
      "}\n"
     ]
    }
   ],
   "source": [
    "##\n",
    "## Display Page 1 Results: Pay Stub\n",
    "##\n",
    "\n",
    "out_loc = progress['outputConfiguration']['s3Uri'].split(\"/job_metadata.json\", 1)[0].split(bucket_name+\"/\")[1]\n",
    "out_loc += \"/0/custom_output/0/result.json\"\n",
    "\n",
    "s3.download_file(bucket_name, out_loc, 'result.json')\n",
    "\n",
    "data = json.load(open('result.json'))\n",
    "print(json.dumps(data['matched_blueprint'], indent=2))\n",
    "print(json.dumps(data['inference_result'], indent=2))\n",
    "\n"
   ]
  },
  {
   "cell_type": "markdown",
   "id": "3caf18dc-4075-4e5a-be30-6468e2fd4b53",
   "metadata": {},
   "source": [
    "The second page of the lending package has a pay check"
   ]
  },
  {
   "cell_type": "code",
   "execution_count": 30,
   "id": "5af63178-e729-4dbe-aacc-60da5a9d8ba0",
   "metadata": {
    "tags": []
   },
   "outputs": [
    {
     "data": {
      "text/html": [
       "\n",
       "        <iframe\n",
       "            width=\"1000\"\n",
       "            height=\"500\"\n",
       "            src=\"documents/lending_package_check.pdf\"\n",
       "            frameborder=\"0\"\n",
       "            allowfullscreen\n",
       "            \n",
       "        ></iframe>\n",
       "        "
      ],
      "text/plain": [
       "<IPython.lib.display.IFrame at 0x7f80b88ce0e0>"
      ]
     },
     "execution_count": 30,
     "metadata": {},
     "output_type": "execute_result"
    }
   ],
   "source": [
    "display.IFrame(\"documents/lending_package_check.pdf\", width=1000, height=500)"
   ]
  },
  {
   "cell_type": "markdown",
   "id": "566f6335-9090-4e86-8a40-dfc119a5c1a7",
   "metadata": {},
   "source": [
    "Display Page 2 Results: Pay Check \\\n",
    "Note that BDA has selected this blueprint:  bedrock-data-automation-public-us-bank-check"
   ]
  },
  {
   "cell_type": "code",
   "execution_count": 31,
   "id": "a11c1aee-c0c0-4699-b3bd-1bdd88e73f07",
   "metadata": {
    "tags": []
   },
   "outputs": [
    {
     "name": "stdout",
     "output_type": "stream",
     "text": [
      "{\n",
      "  \"arn\": \"arn:aws:bedrock:us-west-2:aws:blueprint/bedrock-data-automation-public-us-bank-check\",\n",
      "  \"name\": \"US-Bank-Check\",\n",
      "  \"confidence\": 0.99888223\n",
      "}\n",
      "{\n",
      "  \"date\": \"\",\n",
      "  \"dollar_amount\": 291.9,\n",
      "  \"check_number\": 1379,\n",
      "  \"account_holder_name\": \"ANY COMPANY CORP\",\n",
      "  \"payee_name\": \"JOHN STILES\",\n",
      "  \"bank_name\": \"\",\n",
      "  \"memo\": \"\",\n",
      "  \"routing_number_valid\": true,\n",
      "  \"bank_routing_number\": \"122000496\",\n",
      "  \"amount_in_words\": \"TWO HUNDRED NINETY-ONE AND 90/100 DOLLARS\",\n",
      "  \"is_signed\": true\n",
      "}\n"
     ]
    }
   ],
   "source": [
    "##\n",
    "## Display Page 2 Results: Pay Check\n",
    "##\n",
    "\n",
    "out_loc = progress['outputConfiguration']['s3Uri'].split(\"/job_metadata.json\", 1)[0].split(bucket_name+\"/\")[1]\n",
    "out_loc += \"/0/custom_output/1/result.json\"\n",
    "out_loc\n",
    "\n",
    "s3.download_file(bucket_name, out_loc, 'result.json')\n",
    "\n",
    "data = json.load(open('result.json'))\n",
    "print(json.dumps(data['matched_blueprint'], indent=2))\n",
    "print(json.dumps(data['inference_result'], indent=2))\n"
   ]
  },
  {
   "cell_type": "markdown",
   "id": "fead3390-51e5-4b4b-99cd-9715f5c88122",
   "metadata": {},
   "source": [
    "The third page of the lending package has a drivers license\n"
   ]
  },
  {
   "cell_type": "code",
   "execution_count": 32,
   "id": "87f6bbdb-3d68-424e-b4f3-f8df327800dc",
   "metadata": {
    "tags": []
   },
   "outputs": [
    {
     "data": {
      "text/html": [
       "\n",
       "        <iframe\n",
       "            width=\"1000\"\n",
       "            height=\"500\"\n",
       "            src=\"documents/lending_package_ID_Card.pdf\"\n",
       "            frameborder=\"0\"\n",
       "            allowfullscreen\n",
       "            \n",
       "        ></iframe>\n",
       "        "
      ],
      "text/plain": [
       "<IPython.lib.display.IFrame at 0x7f80b88cc550>"
      ]
     },
     "execution_count": 32,
     "metadata": {},
     "output_type": "execute_result"
    }
   ],
   "source": [
    "display.IFrame(\"documents/lending_package_ID_Card.pdf\", width=1000, height=500)"
   ]
  },
  {
   "cell_type": "markdown",
   "id": "d688f571-9a7b-4437-84a5-2941d3d5c525",
   "metadata": {
    "tags": []
   },
   "source": [
    "Display PPage 3 Results: Drivers License \\\n",
    "Note that BDA has selected this blueprint:  bedrock-data-automation-public-us-driver-license"
   ]
  },
  {
   "cell_type": "code",
   "execution_count": 33,
   "id": "3efc3538-a3dc-47f8-b541-8d3f7eb9dff2",
   "metadata": {
    "tags": []
   },
   "outputs": [
    {
     "name": "stdout",
     "output_type": "stream",
     "text": [
      "{\n",
      "  \"arn\": \"arn:aws:bedrock:us-west-2:aws:blueprint/bedrock-data-automation-public-us-driver-license\",\n",
      "  \"name\": \"US-Driver-License\",\n",
      "  \"confidence\": 0.9998486\n",
      "}\n",
      "{\n",
      "  \"NAME_DETAILS\": {\n",
      "    \"SUFFIX\": \"\",\n",
      "    \"MIDDLE_NAME\": \"\",\n",
      "    \"LAST_NAME\": \"GARCIA\",\n",
      "    \"FIRST_NAME\": \"Mar\\u00e1a\"\n",
      "  },\n",
      "  \"STATE_NAME\": \"MASSACHUSETTS\",\n",
      "  \"ID_NUMBER\": \"736HDV7874JSB\",\n",
      "  \"EXPIRATION_DATE\": \"2028-01-20\",\n",
      "  \"ENDORSEMENTS\": [\n",
      "    \"NONE\"\n",
      "  ],\n",
      "  \"PERSONAL_DETAILS\": {\n",
      "    \"SEX\": \"F\",\n",
      "    \"HAIR_COLOR\": \"\",\n",
      "    \"HEIGHT\": \"4-6\\\"\",\n",
      "    \"WEIGHT\": \"\",\n",
      "    \"EYE_COLOR\": \"BLK\"\n",
      "  },\n",
      "  \"RESTRICTIONS\": [\n",
      "    \"NONE\"\n",
      "  ],\n",
      "  \"ADDRESS_DETAILS\": {\n",
      "    \"CITY\": \"BIGTOWN\",\n",
      "    \"ZIP_CODE\": \"02801\",\n",
      "    \"STATE\": \"MA\",\n",
      "    \"STREET_ADDRESS\": \"100 MARKET STREET\"\n",
      "  },\n",
      "  \"CLASS\": \"D\",\n",
      "  \"DATE_OF_BIRTH\": \"2001-03-18\",\n",
      "  \"COUNTY\": \"\",\n",
      "  \"DATE_OF_ISSUE\": \"2018-03-18\"\n",
      "}\n"
     ]
    }
   ],
   "source": [
    "##\n",
    "## Display Page 3 Results: Drivers License\n",
    "##\n",
    "\n",
    "out_loc = progress['outputConfiguration']['s3Uri'].split(\"/job_metadata.json\", 1)[0].split(bucket_name+\"/\")[1]\n",
    "out_loc += \"/0/custom_output/2/result.json\"\n",
    "out_loc\n",
    "\n",
    "s3.download_file(bucket_name, out_loc, 'result.json')\n",
    "\n",
    "data = json.load(open('result.json'))\n",
    "print(json.dumps(data['matched_blueprint'], indent=2))\n",
    "print(json.dumps(data['inference_result'], indent=2))\n"
   ]
  },
  {
   "cell_type": "markdown",
   "id": "4b8d9a66-959f-4a48-90af-2cce900f3b66",
   "metadata": {},
   "source": [
    "The fourth page of the lending package has a bank statement\n"
   ]
  },
  {
   "cell_type": "code",
   "execution_count": 34,
   "id": "7ff338bb-160c-4813-98da-1a6fb22f58a6",
   "metadata": {
    "tags": []
   },
   "outputs": [
    {
     "data": {
      "text/html": [
       "\n",
       "        <iframe\n",
       "            width=\"1000\"\n",
       "            height=\"500\"\n",
       "            src=\"documents/lending_package_account_statement.pdf\"\n",
       "            frameborder=\"0\"\n",
       "            allowfullscreen\n",
       "            \n",
       "        ></iframe>\n",
       "        "
      ],
      "text/plain": [
       "<IPython.lib.display.IFrame at 0x7f80b88b23b0>"
      ]
     },
     "execution_count": 34,
     "metadata": {},
     "output_type": "execute_result"
    }
   ],
   "source": [
    "display.IFrame(\"documents/lending_package_account_statement.pdf\", width=1000, height=500)"
   ]
  },
  {
   "cell_type": "markdown",
   "id": "6c264c86-13cd-4b06-9186-6cd80d3d1384",
   "metadata": {},
   "source": [
    "Display Page 4 Results: Bank Statement \\\n",
    "Note that BDA has selected this blueprint:  blueprint/bedrock-data-automation-public-bank-statement"
   ]
  },
  {
   "cell_type": "code",
   "execution_count": 35,
   "id": "647f1ccb-1a3a-470b-8053-03ba1fd08720",
   "metadata": {
    "tags": []
   },
   "outputs": [
    {
     "name": "stdout",
     "output_type": "stream",
     "text": [
      "{\n",
      "  \"arn\": \"arn:aws:bedrock:us-west-2:aws:blueprint/bedrock-data-automation-public-bank-statement\",\n",
      "  \"name\": \"Bank-Statement\",\n",
      "  \"confidence\": 0.99911547\n",
      "}\n",
      "{\n",
      "  \"account_holder_address\": \"100 Main Street, Anytown, USA\",\n",
      "  \"account_number\": \"333 008755555\",\n",
      "  \"account_type\": \"\",\n",
      "  \"account_summary\": [\n",
      "    {\n",
      "      \"summary_desc\": \"Your opening account balance as at 1 MAY 2021\",\n",
      "      \"summary_amount\": 50000\n",
      "    },\n",
      "    {\n",
      "      \"summary_desc\": \"Your closing account balance as at 31 MAY 2021\",\n",
      "      \"summary_amount\": 123084.85\n",
      "    }\n",
      "  ],\n",
      "  \"statement_end_date\": \"05/31/2021\",\n",
      "  \"statement_start_date\": \"05/01/2021\",\n",
      "  \"account_holder_name\": \"Jane Doe\",\n",
      "  \"branch_transit_number\": \"\",\n",
      "  \"bank_name\": \"\",\n",
      "  \"transaction_details\": [\n",
      "    {\n",
      "      \"date\": \"\",\n",
      "      \"balance\": \"\",\n",
      "      \"description\": \"\",\n",
      "      \"deposits\": \"\",\n",
      "      \"withdrawals\": \"\"\n",
      "    }\n",
      "  ]\n",
      "}\n"
     ]
    }
   ],
   "source": [
    "##\n",
    "## Display Page 4 Results: Bank Statement\n",
    "##\n",
    "\n",
    "out_loc = progress['outputConfiguration']['s3Uri'].split(\"/job_metadata.json\", 1)[0].split(bucket_name+\"/\")[1]\n",
    "out_loc += \"/0/custom_output/3/result.json\"\n",
    "out_loc\n",
    "\n",
    "s3.download_file(bucket_name, out_loc, 'result.json')\n",
    "\n",
    "data = json.load(open('result.json'))\n",
    "print(json.dumps(data['matched_blueprint'], indent=2))\n",
    "print(json.dumps(data['inference_result'], indent=2))"
   ]
  },
  {
   "cell_type": "markdown",
   "id": "15ddb9b1-0cb6-4fea-a2d2-727244b5b6a7",
   "metadata": {},
   "source": [
    "The fifth page of the lending package has a W2 tax form\n"
   ]
  },
  {
   "cell_type": "code",
   "execution_count": 36,
   "id": "53c8897f-4abe-4357-b11d-12b9ee506529",
   "metadata": {
    "tags": []
   },
   "outputs": [
    {
     "data": {
      "text/html": [
       "\n",
       "        <iframe\n",
       "            width=\"1000\"\n",
       "            height=\"500\"\n",
       "            src=\"documents/lending_package_w2.pdf\"\n",
       "            frameborder=\"0\"\n",
       "            allowfullscreen\n",
       "            \n",
       "        ></iframe>\n",
       "        "
      ],
      "text/plain": [
       "<IPython.lib.display.IFrame at 0x7f80b88b3250>"
      ]
     },
     "execution_count": 36,
     "metadata": {},
     "output_type": "execute_result"
    }
   ],
   "source": [
    "display.IFrame(\"documents/lending_package_w2.pdf\", width=1000, height=500)"
   ]
  },
  {
   "cell_type": "markdown",
   "id": "c520c07e-22af-498d-aa33-8a0bc6210d8b",
   "metadata": {},
   "source": [
    "Display Page 5 Results: W2 Form \\\n",
    "Note that BDA has selected this blueprint:  bedrock-data-automation-public-w2-form"
   ]
  },
  {
   "cell_type": "code",
   "execution_count": 37,
   "id": "4c8279b0-30ce-42ed-ba16-481133f02bc3",
   "metadata": {
    "tags": []
   },
   "outputs": [
    {
     "name": "stdout",
     "output_type": "stream",
     "text": [
      "{\n",
      "  \"arn\": \"arn:aws:bedrock:us-west-2:aws:blueprint/bedrock-data-automation-public-w2-form\",\n",
      "  \"name\": \"W2-Form\",\n",
      "  \"confidence\": 0.9997762\n",
      "}\n",
      "{\n",
      "  \"employer_info\": {\n",
      "    \"employer_address\": \"100 Main Street, Anytown, USA\",\n",
      "    \"control_number\": \"753951852\",\n",
      "    \"employer_name\": \"John Stiles\",\n",
      "    \"ein\": \"4963147952\",\n",
      "    \"employer_zip_code\": \"\"\n",
      "  },\n",
      "  \"filing_info\": {\n",
      "    \"omb_number\": \"1545-0008\",\n",
      "    \"verification_code\": \"\"\n",
      "  },\n",
      "  \"codes\": [\n",
      "    {\n",
      "      \"amount\": 500,\n",
      "      \"code\": \"A\"\n",
      "    },\n",
      "    {\n",
      "      \"amount\": 1500,\n",
      "      \"code\": \"C\"\n",
      "    },\n",
      "    {\n",
      "      \"amount\": 500,\n",
      "      \"code\": \"A\"\n",
      "    },\n",
      "    {\n",
      "      \"amount\": 1000,\n",
      "      \"code\": \"B\"\n",
      "    }\n",
      "  ],\n",
      "  \"other\": \"NA\",\n",
      "  \"federal_tax_info\": {\n",
      "    \"federal_income_tax\": 500,\n",
      "    \"allocated_tips\": 150,\n",
      "    \"social_security_tax\": 100,\n",
      "    \"medicare_tax\": 5000\n",
      "  },\n",
      "  \"state_taxes_table\": [\n",
      "    {\n",
      "      \"state_name\": \"Any Town\",\n",
      "      \"local_wages_tips\": 100,\n",
      "      \"employer_state_id_number\": 7414568313,\n",
      "      \"state_wages_and_tips\": 50,\n",
      "      \"state_income_tax\": 500,\n",
      "      \"local_income_tax\": 550,\n",
      "      \"locality_name\": \"Any Town\"\n",
      "    }\n",
      "  ],\n",
      "  \"employee_general_info\": {\n",
      "    \"employee_name_suffix\": \"M\",\n",
      "    \"employee_address\": \"123 Any Street, Any Town, USA\",\n",
      "    \"employee_last_name\": \"Desai\",\n",
      "    \"employee_zip_code\": \"\",\n",
      "    \"first_name\": \"Arnav\",\n",
      "    \"ssn\": \"75395184613\"\n",
      "  },\n",
      "  \"federal_wage_info\": {\n",
      "    \"social_security_tips\": 500,\n",
      "    \"wages_tips_other_compensation\": 100,\n",
      "    \"medicare_wages_tips\": 500,\n",
      "    \"social_security_wages\": 1000\n",
      "  },\n",
      "  \"nonqualified_plans_incom\": 500\n",
      "}\n"
     ]
    }
   ],
   "source": [
    "##\n",
    "## Display Page 5 Results: W2 Form\n",
    "##\n",
    "\n",
    "out_loc = progress['outputConfiguration']['s3Uri'].split(\"/job_metadata.json\", 1)[0].split(bucket_name+\"/\")[1]\n",
    "out_loc += \"/0/custom_output/4/result.json\"\n",
    "out_loc\n",
    "\n",
    "s3.download_file(bucket_name, out_loc, 'result.json')\n",
    "\n",
    "data = json.load(open('result.json'))\n",
    "print(json.dumps(data['matched_blueprint'], indent=2))\n",
    "print(json.dumps(data['inference_result'], indent=2))"
   ]
  },
  {
   "cell_type": "markdown",
   "id": "95325912-c4e7-4db3-aeb4-78ca006e5dbe",
   "metadata": {},
   "source": [
    "The sixth page of the lending package has a Home Insurance form\n"
   ]
  },
  {
   "cell_type": "code",
   "execution_count": 38,
   "id": "da4a8479-b8d9-4532-a553-6dbad2d24d09",
   "metadata": {
    "tags": []
   },
   "outputs": [
    {
     "data": {
      "text/html": [
       "\n",
       "        <iframe\n",
       "            width=\"1000\"\n",
       "            height=\"500\"\n",
       "            src=\"documents/homeowner_insurance_application_sample.pdf\"\n",
       "            frameborder=\"0\"\n",
       "            allowfullscreen\n",
       "            \n",
       "        ></iframe>\n",
       "        "
      ],
      "text/plain": [
       "<IPython.lib.display.IFrame at 0x7f80b88b3d90>"
      ]
     },
     "execution_count": 38,
     "metadata": {},
     "output_type": "execute_result"
    }
   ],
   "source": [
    "display.IFrame(\"documents/homeowner_insurance_application_sample.pdf\", width=1000, height=500)"
   ]
  },
  {
   "cell_type": "markdown",
   "id": "8a7024e0-c944-4e0e-bf53-e542a8b25a2f",
   "metadata": {},
   "source": [
    "Display Page 6 Results: Home Insurance Application \\\n",
    "Note that BDA has selected our custom blueprint"
   ]
  },
  {
   "cell_type": "code",
   "execution_count": 39,
   "id": "50b1085c-f1de-4275-8f5b-9b109f378bdc",
   "metadata": {
    "tags": []
   },
   "outputs": [
    {
     "name": "stdout",
     "output_type": "stream",
     "text": [
      "{\n",
      "  \"arn\": \"arn:aws:bedrock:us-west-2:824467037051:blueprint/350ea7969b3d\",\n",
      "  \"name\": \"my-insurance-blueprint-v1\",\n",
      "  \"confidence\": 0.99264\n",
      "}\n",
      "{\n",
      "  \"Insured Address\": \"\",\n",
      "  \"Insurance Company\": \"XYZ Insurance\",\n",
      "  \"Insured Name\": \"Alejandro Rosalez\",\n",
      "  \"Email Address\": \"alejandrorosalez@example.com\"\n",
      "}\n"
     ]
    }
   ],
   "source": [
    "##\n",
    "## Display Page 6 Results: Home Insurance\n",
    "##\n",
    "\n",
    "out_loc = progress['outputConfiguration']['s3Uri'].split(\"/job_metadata.json\", 1)[0].split(bucket_name+\"/\")[1]\n",
    "out_loc += \"/0/custom_output/5/result.json\"\n",
    "out_loc\n",
    "\n",
    "s3.download_file(bucket_name, out_loc, 'result.json')\n",
    "\n",
    "data = json.load(open('result.json'))\n",
    "print(json.dumps(data['matched_blueprint'], indent=2))\n",
    "print(json.dumps(data['inference_result'], indent=2))"
   ]
  },
  {
   "cell_type": "markdown",
   "id": "9e59aeea-4042-44bb-a33d-efb4bd4bee7b",
   "metadata": {},
   "source": [
    "# Step 8 - Cleanup\n",
    "\n",
    "This step is needed before we run through the workbook a second time. "
   ]
  },
  {
   "cell_type": "code",
   "execution_count": 40,
   "id": "68959be4-05dc-4c0b-8132-8f92cbb34737",
   "metadata": {},
   "outputs": [],
   "source": [
    "# Delete the project\n",
    "response = client.delete_data_automation_project(projectArn=project_arn)\n",
    "\n",
    "# Delete the blueprint\n",
    "response = client.delete_blueprint(blueprintArn=blueprint_arn)"
   ]
  },
  {
   "cell_type": "code",
   "execution_count": null,
   "id": "cee52576-1e6a-4ec7-a90b-eae73b947bd3",
   "metadata": {},
   "outputs": [],
   "source": []
  }
 ],
 "metadata": {
  "availableInstances": [
   {
    "_defaultOrder": 0,
    "_isFastLaunch": true,
    "category": "General purpose",
    "gpuNum": 0,
    "hideHardwareSpecs": false,
    "memoryGiB": 4,
    "name": "ml.t3.medium",
    "vcpuNum": 2
   },
   {
    "_defaultOrder": 1,
    "_isFastLaunch": false,
    "category": "General purpose",
    "gpuNum": 0,
    "hideHardwareSpecs": false,
    "memoryGiB": 8,
    "name": "ml.t3.large",
    "vcpuNum": 2
   },
   {
    "_defaultOrder": 2,
    "_isFastLaunch": false,
    "category": "General purpose",
    "gpuNum": 0,
    "hideHardwareSpecs": false,
    "memoryGiB": 16,
    "name": "ml.t3.xlarge",
    "vcpuNum": 4
   },
   {
    "_defaultOrder": 3,
    "_isFastLaunch": false,
    "category": "General purpose",
    "gpuNum": 0,
    "hideHardwareSpecs": false,
    "memoryGiB": 32,
    "name": "ml.t3.2xlarge",
    "vcpuNum": 8
   },
   {
    "_defaultOrder": 4,
    "_isFastLaunch": true,
    "category": "General purpose",
    "gpuNum": 0,
    "hideHardwareSpecs": false,
    "memoryGiB": 8,
    "name": "ml.m5.large",
    "vcpuNum": 2
   },
   {
    "_defaultOrder": 5,
    "_isFastLaunch": false,
    "category": "General purpose",
    "gpuNum": 0,
    "hideHardwareSpecs": false,
    "memoryGiB": 16,
    "name": "ml.m5.xlarge",
    "vcpuNum": 4
   },
   {
    "_defaultOrder": 6,
    "_isFastLaunch": false,
    "category": "General purpose",
    "gpuNum": 0,
    "hideHardwareSpecs": false,
    "memoryGiB": 32,
    "name": "ml.m5.2xlarge",
    "vcpuNum": 8
   },
   {
    "_defaultOrder": 7,
    "_isFastLaunch": false,
    "category": "General purpose",
    "gpuNum": 0,
    "hideHardwareSpecs": false,
    "memoryGiB": 64,
    "name": "ml.m5.4xlarge",
    "vcpuNum": 16
   },
   {
    "_defaultOrder": 8,
    "_isFastLaunch": false,
    "category": "General purpose",
    "gpuNum": 0,
    "hideHardwareSpecs": false,
    "memoryGiB": 128,
    "name": "ml.m5.8xlarge",
    "vcpuNum": 32
   },
   {
    "_defaultOrder": 9,
    "_isFastLaunch": false,
    "category": "General purpose",
    "gpuNum": 0,
    "hideHardwareSpecs": false,
    "memoryGiB": 192,
    "name": "ml.m5.12xlarge",
    "vcpuNum": 48
   },
   {
    "_defaultOrder": 10,
    "_isFastLaunch": false,
    "category": "General purpose",
    "gpuNum": 0,
    "hideHardwareSpecs": false,
    "memoryGiB": 256,
    "name": "ml.m5.16xlarge",
    "vcpuNum": 64
   },
   {
    "_defaultOrder": 11,
    "_isFastLaunch": false,
    "category": "General purpose",
    "gpuNum": 0,
    "hideHardwareSpecs": false,
    "memoryGiB": 384,
    "name": "ml.m5.24xlarge",
    "vcpuNum": 96
   },
   {
    "_defaultOrder": 12,
    "_isFastLaunch": false,
    "category": "General purpose",
    "gpuNum": 0,
    "hideHardwareSpecs": false,
    "memoryGiB": 8,
    "name": "ml.m5d.large",
    "vcpuNum": 2
   },
   {
    "_defaultOrder": 13,
    "_isFastLaunch": false,
    "category": "General purpose",
    "gpuNum": 0,
    "hideHardwareSpecs": false,
    "memoryGiB": 16,
    "name": "ml.m5d.xlarge",
    "vcpuNum": 4
   },
   {
    "_defaultOrder": 14,
    "_isFastLaunch": false,
    "category": "General purpose",
    "gpuNum": 0,
    "hideHardwareSpecs": false,
    "memoryGiB": 32,
    "name": "ml.m5d.2xlarge",
    "vcpuNum": 8
   },
   {
    "_defaultOrder": 15,
    "_isFastLaunch": false,
    "category": "General purpose",
    "gpuNum": 0,
    "hideHardwareSpecs": false,
    "memoryGiB": 64,
    "name": "ml.m5d.4xlarge",
    "vcpuNum": 16
   },
   {
    "_defaultOrder": 16,
    "_isFastLaunch": false,
    "category": "General purpose",
    "gpuNum": 0,
    "hideHardwareSpecs": false,
    "memoryGiB": 128,
    "name": "ml.m5d.8xlarge",
    "vcpuNum": 32
   },
   {
    "_defaultOrder": 17,
    "_isFastLaunch": false,
    "category": "General purpose",
    "gpuNum": 0,
    "hideHardwareSpecs": false,
    "memoryGiB": 192,
    "name": "ml.m5d.12xlarge",
    "vcpuNum": 48
   },
   {
    "_defaultOrder": 18,
    "_isFastLaunch": false,
    "category": "General purpose",
    "gpuNum": 0,
    "hideHardwareSpecs": false,
    "memoryGiB": 256,
    "name": "ml.m5d.16xlarge",
    "vcpuNum": 64
   },
   {
    "_defaultOrder": 19,
    "_isFastLaunch": false,
    "category": "General purpose",
    "gpuNum": 0,
    "hideHardwareSpecs": false,
    "memoryGiB": 384,
    "name": "ml.m5d.24xlarge",
    "vcpuNum": 96
   },
   {
    "_defaultOrder": 20,
    "_isFastLaunch": false,
    "category": "General purpose",
    "gpuNum": 0,
    "hideHardwareSpecs": true,
    "memoryGiB": 0,
    "name": "ml.geospatial.interactive",
    "supportedImageNames": [
     "sagemaker-geospatial-v1-0"
    ],
    "vcpuNum": 0
   },
   {
    "_defaultOrder": 21,
    "_isFastLaunch": true,
    "category": "Compute optimized",
    "gpuNum": 0,
    "hideHardwareSpecs": false,
    "memoryGiB": 4,
    "name": "ml.c5.large",
    "vcpuNum": 2
   },
   {
    "_defaultOrder": 22,
    "_isFastLaunch": false,
    "category": "Compute optimized",
    "gpuNum": 0,
    "hideHardwareSpecs": false,
    "memoryGiB": 8,
    "name": "ml.c5.xlarge",
    "vcpuNum": 4
   },
   {
    "_defaultOrder": 23,
    "_isFastLaunch": false,
    "category": "Compute optimized",
    "gpuNum": 0,
    "hideHardwareSpecs": false,
    "memoryGiB": 16,
    "name": "ml.c5.2xlarge",
    "vcpuNum": 8
   },
   {
    "_defaultOrder": 24,
    "_isFastLaunch": false,
    "category": "Compute optimized",
    "gpuNum": 0,
    "hideHardwareSpecs": false,
    "memoryGiB": 32,
    "name": "ml.c5.4xlarge",
    "vcpuNum": 16
   },
   {
    "_defaultOrder": 25,
    "_isFastLaunch": false,
    "category": "Compute optimized",
    "gpuNum": 0,
    "hideHardwareSpecs": false,
    "memoryGiB": 72,
    "name": "ml.c5.9xlarge",
    "vcpuNum": 36
   },
   {
    "_defaultOrder": 26,
    "_isFastLaunch": false,
    "category": "Compute optimized",
    "gpuNum": 0,
    "hideHardwareSpecs": false,
    "memoryGiB": 96,
    "name": "ml.c5.12xlarge",
    "vcpuNum": 48
   },
   {
    "_defaultOrder": 27,
    "_isFastLaunch": false,
    "category": "Compute optimized",
    "gpuNum": 0,
    "hideHardwareSpecs": false,
    "memoryGiB": 144,
    "name": "ml.c5.18xlarge",
    "vcpuNum": 72
   },
   {
    "_defaultOrder": 28,
    "_isFastLaunch": false,
    "category": "Compute optimized",
    "gpuNum": 0,
    "hideHardwareSpecs": false,
    "memoryGiB": 192,
    "name": "ml.c5.24xlarge",
    "vcpuNum": 96
   },
   {
    "_defaultOrder": 29,
    "_isFastLaunch": true,
    "category": "Accelerated computing",
    "gpuNum": 1,
    "hideHardwareSpecs": false,
    "memoryGiB": 16,
    "name": "ml.g4dn.xlarge",
    "vcpuNum": 4
   },
   {
    "_defaultOrder": 30,
    "_isFastLaunch": false,
    "category": "Accelerated computing",
    "gpuNum": 1,
    "hideHardwareSpecs": false,
    "memoryGiB": 32,
    "name": "ml.g4dn.2xlarge",
    "vcpuNum": 8
   },
   {
    "_defaultOrder": 31,
    "_isFastLaunch": false,
    "category": "Accelerated computing",
    "gpuNum": 1,
    "hideHardwareSpecs": false,
    "memoryGiB": 64,
    "name": "ml.g4dn.4xlarge",
    "vcpuNum": 16
   },
   {
    "_defaultOrder": 32,
    "_isFastLaunch": false,
    "category": "Accelerated computing",
    "gpuNum": 1,
    "hideHardwareSpecs": false,
    "memoryGiB": 128,
    "name": "ml.g4dn.8xlarge",
    "vcpuNum": 32
   },
   {
    "_defaultOrder": 33,
    "_isFastLaunch": false,
    "category": "Accelerated computing",
    "gpuNum": 4,
    "hideHardwareSpecs": false,
    "memoryGiB": 192,
    "name": "ml.g4dn.12xlarge",
    "vcpuNum": 48
   },
   {
    "_defaultOrder": 34,
    "_isFastLaunch": false,
    "category": "Accelerated computing",
    "gpuNum": 1,
    "hideHardwareSpecs": false,
    "memoryGiB": 256,
    "name": "ml.g4dn.16xlarge",
    "vcpuNum": 64
   },
   {
    "_defaultOrder": 35,
    "_isFastLaunch": false,
    "category": "Accelerated computing",
    "gpuNum": 1,
    "hideHardwareSpecs": false,
    "memoryGiB": 61,
    "name": "ml.p3.2xlarge",
    "vcpuNum": 8
   },
   {
    "_defaultOrder": 36,
    "_isFastLaunch": false,
    "category": "Accelerated computing",
    "gpuNum": 4,
    "hideHardwareSpecs": false,
    "memoryGiB": 244,
    "name": "ml.p3.8xlarge",
    "vcpuNum": 32
   },
   {
    "_defaultOrder": 37,
    "_isFastLaunch": false,
    "category": "Accelerated computing",
    "gpuNum": 8,
    "hideHardwareSpecs": false,
    "memoryGiB": 488,
    "name": "ml.p3.16xlarge",
    "vcpuNum": 64
   },
   {
    "_defaultOrder": 38,
    "_isFastLaunch": false,
    "category": "Accelerated computing",
    "gpuNum": 8,
    "hideHardwareSpecs": false,
    "memoryGiB": 768,
    "name": "ml.p3dn.24xlarge",
    "vcpuNum": 96
   },
   {
    "_defaultOrder": 39,
    "_isFastLaunch": false,
    "category": "Memory Optimized",
    "gpuNum": 0,
    "hideHardwareSpecs": false,
    "memoryGiB": 16,
    "name": "ml.r5.large",
    "vcpuNum": 2
   },
   {
    "_defaultOrder": 40,
    "_isFastLaunch": false,
    "category": "Memory Optimized",
    "gpuNum": 0,
    "hideHardwareSpecs": false,
    "memoryGiB": 32,
    "name": "ml.r5.xlarge",
    "vcpuNum": 4
   },
   {
    "_defaultOrder": 41,
    "_isFastLaunch": false,
    "category": "Memory Optimized",
    "gpuNum": 0,
    "hideHardwareSpecs": false,
    "memoryGiB": 64,
    "name": "ml.r5.2xlarge",
    "vcpuNum": 8
   },
   {
    "_defaultOrder": 42,
    "_isFastLaunch": false,
    "category": "Memory Optimized",
    "gpuNum": 0,
    "hideHardwareSpecs": false,
    "memoryGiB": 128,
    "name": "ml.r5.4xlarge",
    "vcpuNum": 16
   },
   {
    "_defaultOrder": 43,
    "_isFastLaunch": false,
    "category": "Memory Optimized",
    "gpuNum": 0,
    "hideHardwareSpecs": false,
    "memoryGiB": 256,
    "name": "ml.r5.8xlarge",
    "vcpuNum": 32
   },
   {
    "_defaultOrder": 44,
    "_isFastLaunch": false,
    "category": "Memory Optimized",
    "gpuNum": 0,
    "hideHardwareSpecs": false,
    "memoryGiB": 384,
    "name": "ml.r5.12xlarge",
    "vcpuNum": 48
   },
   {
    "_defaultOrder": 45,
    "_isFastLaunch": false,
    "category": "Memory Optimized",
    "gpuNum": 0,
    "hideHardwareSpecs": false,
    "memoryGiB": 512,
    "name": "ml.r5.16xlarge",
    "vcpuNum": 64
   },
   {
    "_defaultOrder": 46,
    "_isFastLaunch": false,
    "category": "Memory Optimized",
    "gpuNum": 0,
    "hideHardwareSpecs": false,
    "memoryGiB": 768,
    "name": "ml.r5.24xlarge",
    "vcpuNum": 96
   },
   {
    "_defaultOrder": 47,
    "_isFastLaunch": false,
    "category": "Accelerated computing",
    "gpuNum": 1,
    "hideHardwareSpecs": false,
    "memoryGiB": 16,
    "name": "ml.g5.xlarge",
    "vcpuNum": 4
   },
   {
    "_defaultOrder": 48,
    "_isFastLaunch": false,
    "category": "Accelerated computing",
    "gpuNum": 1,
    "hideHardwareSpecs": false,
    "memoryGiB": 32,
    "name": "ml.g5.2xlarge",
    "vcpuNum": 8
   },
   {
    "_defaultOrder": 49,
    "_isFastLaunch": false,
    "category": "Accelerated computing",
    "gpuNum": 1,
    "hideHardwareSpecs": false,
    "memoryGiB": 64,
    "name": "ml.g5.4xlarge",
    "vcpuNum": 16
   },
   {
    "_defaultOrder": 50,
    "_isFastLaunch": false,
    "category": "Accelerated computing",
    "gpuNum": 1,
    "hideHardwareSpecs": false,
    "memoryGiB": 128,
    "name": "ml.g5.8xlarge",
    "vcpuNum": 32
   },
   {
    "_defaultOrder": 51,
    "_isFastLaunch": false,
    "category": "Accelerated computing",
    "gpuNum": 1,
    "hideHardwareSpecs": false,
    "memoryGiB": 256,
    "name": "ml.g5.16xlarge",
    "vcpuNum": 64
   },
   {
    "_defaultOrder": 52,
    "_isFastLaunch": false,
    "category": "Accelerated computing",
    "gpuNum": 4,
    "hideHardwareSpecs": false,
    "memoryGiB": 192,
    "name": "ml.g5.12xlarge",
    "vcpuNum": 48
   },
   {
    "_defaultOrder": 53,
    "_isFastLaunch": false,
    "category": "Accelerated computing",
    "gpuNum": 4,
    "hideHardwareSpecs": false,
    "memoryGiB": 384,
    "name": "ml.g5.24xlarge",
    "vcpuNum": 96
   },
   {
    "_defaultOrder": 54,
    "_isFastLaunch": false,
    "category": "Accelerated computing",
    "gpuNum": 8,
    "hideHardwareSpecs": false,
    "memoryGiB": 768,
    "name": "ml.g5.48xlarge",
    "vcpuNum": 192
   },
   {
    "_defaultOrder": 55,
    "_isFastLaunch": false,
    "category": "Accelerated computing",
    "gpuNum": 8,
    "hideHardwareSpecs": false,
    "memoryGiB": 1152,
    "name": "ml.p4d.24xlarge",
    "vcpuNum": 96
   },
   {
    "_defaultOrder": 56,
    "_isFastLaunch": false,
    "category": "Accelerated computing",
    "gpuNum": 8,
    "hideHardwareSpecs": false,
    "memoryGiB": 1152,
    "name": "ml.p4de.24xlarge",
    "vcpuNum": 96
   },
   {
    "_defaultOrder": 57,
    "_isFastLaunch": false,
    "category": "Accelerated computing",
    "gpuNum": 0,
    "hideHardwareSpecs": false,
    "memoryGiB": 32,
    "name": "ml.trn1.2xlarge",
    "vcpuNum": 8
   },
   {
    "_defaultOrder": 58,
    "_isFastLaunch": false,
    "category": "Accelerated computing",
    "gpuNum": 0,
    "hideHardwareSpecs": false,
    "memoryGiB": 512,
    "name": "ml.trn1.32xlarge",
    "vcpuNum": 128
   },
   {
    "_defaultOrder": 59,
    "_isFastLaunch": false,
    "category": "Accelerated computing",
    "gpuNum": 0,
    "hideHardwareSpecs": false,
    "memoryGiB": 512,
    "name": "ml.trn1n.32xlarge",
    "vcpuNum": 128
   }
  ],
  "instance_type": "ml.t3.medium",
  "kernelspec": {
   "display_name": "Python 3 (ipykernel)",
   "language": "python",
   "name": "python3"
  },
  "language_info": {
   "codemirror_mode": {
    "name": "ipython",
    "version": 3
   },
   "file_extension": ".py",
   "mimetype": "text/x-python",
   "name": "python",
   "nbconvert_exporter": "python",
   "pygments_lexer": "ipython3",
   "version": "3.10.14"
  }
 },
 "nbformat": 4,
 "nbformat_minor": 5
}
