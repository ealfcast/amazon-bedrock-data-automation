{
 "cells": [
  {
   "cell_type": "markdown",
   "id": "f5a68792-000a-4f61-a532-7d153ecc6aa7",
   "metadata": {},
   "source": [
    "# Mortgage & Lending Use case\n",
    "\n",
    "Amazon Bedrock Data Automation (BDA) is a fully managed capability of Amazon Bedrock that streamlines the generation of valuable insights from unstructured, multimodal content such as documents, images, audio, and videos. With Amazon Bedrock Data Automation, you can build automated intelligent document processing (IDP), media analysis, and Retrieval-Augmented Generation (RAG) workflows quickly and cost-effectively.\n",
    "\n",
    "This workbook focuses on using BDA to process insights from unstructured documents. The use case we will focus on is for processing a loan applcation. We will process a packet of documents relavent to loans: ID Cards, Bank Statements, W2 Tax forms, Pay Stubs and checks.  \n",
    "\n",
    "\n",
    "The diagram below shows an architecture for an Intelligent document processing workflow. This diagram is from solution 'Guidance for Multimodal Data Processing Using Amazon Bedrock Data Automation', published [here](https://aws.amazon.com/solutions/guidance/multimodal-data-processing-using-amazon-bedrock-data-automation/).\n",
    "\n",
    "\n",
    "![Arch](./images/a_lending_flow_architecture.png)\n",
    "\n",
    "\n",
    "1. Document Upload: The data science team uploads sample documents to an Amazon S3 bucket.\n",
    "\n",
    "2. Blueprint Configuration: The data science team uses provided blueprints, and creates new custom blueprints for each document class: W2, Pay Slip, Drivers License, 1099 and Bank Statement.  Each sample is processed and the fields extracted with Generative AI prompts (e.g. First Name, Last Name, Gross Pay, SS Number, License Number, Capital Gains, Closing Balance).  The blueprints are managed and stored in Amazon Bedrock Data Automation feature. \n",
    "\n",
    "3. Test and Refine Blueprints: The blueprints are tested and refined. Key normalizations, key transformations, and key validations are added. \n",
    "\n",
    "4. Blueprint Published: The blueprints are managed and stored in the  Amazon Bedrock Data Automation feature. \n",
    "\n",
    "5. Amazon EventBridge triggers an AWS Lambda function when documents are uploaded to Amazon S3, using an \"Object Created\" event. This Lambda function then utilizes Amazon Bedrock's Data Automation feature to process the uploaded documents. \n",
    "\n",
    "6. The processing workflow in Amazon Bedrock Data Automation feature includes document splitting based on logical boundaries, with each split containing up to 20 pages. Each page is classified into a specific document type and matched to appropriate blueprints. The corresponding blueprint is then invoked for each page, executing key normalizations, transformations, and validations. This entire process operates asynchronously, allowing for efficient handling of multiple documents and large data volumes.\n",
    "\n",
    "7. BDA stores the results in a Amazon S3 bucket for later processing and triggers Amazon EventBridge\n",
    "\n",
    "8. AWS Lambda function is triggered by the Amazon EventBridge to process the JSON results of Amazon Bedrock Data Automation. The processing results send to downstream processing systems. \n",
    "\n",
    "In this workbook, we will explore the various aspects of this workflow such as the creating blueprints, processing sample documents, page classification.  We will process these documents:\n",
    "\n",
    "1. ID Card\n",
    "2. Bank Statements\n",
    "3. W2 Tax forms\n",
    "4. Pay Stubs\n",
    "5. Check\n",
    "6. Homeowner Insurance Application\n",
    "\n",
    "We will then process a single PDF document with a 'loan application package', i.e. all 6 documents in one. \n",
    "\n",
    "This workbook follows these steps:\n",
    "\n",
    "1. Step 1: Setup notebook and instantiate boto3 clients\n",
    "2. Step 2: Process a simple PDF file using the standard output\n",
    "3. Step 3: Create a Project, and blueprint for processing a Homeowner Insurance Form\n",
    "4. Step 4: Add blueprints to the Automaton Project\n",
    "5. Step 5: Use our custom Blueprint to process a Homeowner Insurance Form\n",
    "6. Step 6: Document Splitting - Process a Multi-Page Document Package\n",
    "7. Step 7: Display the results\n",
    "8. Step 8: Cleanup\n",
    "\n",
    "## Prerequisite\n",
    "\n",
    "Before starting the workshop you will need to create an Amazon SageMaker Studio notebook instance. https://docs.aws.amazon.com/sagemaker/latest/dg/howitworks-create-ws.html For IAM role, choose either an existing IAM role in your account or create a new role. The role must the necessary permissions to invoke the BDA, SageMaker and S3 APIs. \n",
    "\n",
    "These IAM policies can be assigned to the role: AmazonBedrockFullAccess, AmazonS3FullAccess, AmazonSageMakerFullAccess, IAMReadOnlyAccess\n",
    "\n",
    "Note: The AdministratorAccess IAM policy can be used, if allowed by security policies at your organization. \n",
    "\n",
    "## Note\n",
    "\n",
    "It is important to run the cells below in order. If you need to re-start the workbook, and have not sucessfully run step 8 to cleanup resources, you will need to login to the AWS Console and delete the project and blueprints created in this workbook. \n",
    "\n",
    "If you get out of order, and unexpected results, you can 'Restart Kernel' from the SageMaker studio Kernel menu. "
   ]
  },
  {
   "cell_type": "markdown",
   "id": "df749697-dc71-4147-99b9-e3fcfec00286",
   "metadata": {},
   "source": [
    "## Setup notebook and boto3 clients\n",
    "\n",
    "In this step, we will import some necessary libraries that will be used throughout this notebook. \n",
    "To use Amazon Bedrock Data Automation (BDA) with boto3, you'll need to ensure you have the latest version of the AWS SDK for Python (boto3) installed. Version Boto3 1.35.96 of later is required. \n",
    "\n",
    "Note: At time of Public Preview launch, BDA is available in us-west-2 only. "
   ]
  },
  {
   "cell_type": "code",
   "execution_count": null,
   "id": "30a9e7cb-33d4-4795-9941-3c0d4f6e711e",
   "metadata": {},
   "outputs": [],
   "source": [
    "!pip install --upgrade boto3 pypdfium2"
   ]
  },
  {
   "cell_type": "code",
   "execution_count": null,
   "id": "2c863400-1edc-419a-a74d-ab89f8cc4952",
   "metadata": {
    "tags": []
   },
   "outputs": [],
   "source": [
    "import boto3, json\n",
    "from time import sleep\n",
    "from IPython.display import JSON, IFrame, display\n",
    "import sagemaker\n",
    "\n",
    "print(boto3.__version__)\n",
    "\n",
    "region_name = \"us-west-2\" # can be removed ones BDA is GA and available in other regions.\n",
    "\n",
    "s3 = boto3.client('s3', region_name=region_name)\n",
    "client = boto3.client('bedrock-data-automation', region_name=region_name)\n",
    "run_client = boto3.client('bedrock-data-automation-runtime', region_name=region_name)"
   ]
  },
  {
   "cell_type": "markdown",
   "id": "e7f4fa81-a31a-43fe-a871-4ffcf4cdb285",
   "metadata": {
    "tags": []
   },
   "source": [
    "We will give a unique name to our project and blueprint"
   ]
  },
  {
   "cell_type": "code",
   "execution_count": null,
   "id": "f93f1a73-681a-41de-a047-d5efd87ae606",
   "metadata": {
    "tags": []
   },
   "outputs": [],
   "source": [
    "project_name = 'my-bda-lending-workbook-v1'\n",
    "blueprint_name = 'my-insurance-blueprint-v1'\n",
    "bucket_name = sagemaker.Session().default_bucket()\n",
    "print(f\"Bucket_name: {bucket_name}\")\n"
   ]
  },
  {
   "cell_type": "markdown",
   "id": "4435a64e-3544-4bab-b8e3-eb68de737b8d",
   "metadata": {},
   "source": [
    "# Step 1: Process a simple PDF file using the standard output"
   ]
  },
  {
   "cell_type": "markdown",
   "id": "eb03bd3c-63e8-43c9-a85e-7ce0a286559f",
   "metadata": {
    "tags": []
   },
   "source": [
    "\n",
    "\n",
    "In this step, we will process a W2 Tax form using BDA Standard Output. Standard output is the default way of interacting with Amazon Bedrock Data Automation (BDA). If you pass a document to the BDA API with no established blueprint or project it returns the default standard output for that file type. \n",
    "\n",
    "https://docs.aws.amazon.com/bedrock/latest/userguide/bda-standard-output.html\n",
    "\n",
    "Standard Output has three levels of granularity. We will use the default. \n",
    "\n",
    "1. Element level granularity (default) – This provides the text of the document in the output format of your choice, separated into different elements. These elements, such as figures, tables, or paragraphs. These are returned in logical reading order based off the structure of the document.\n",
    "\n",
    "2. Page level granularity – This is enabled by default. Page level granularity provides each page of the document in the text output format of your choice.\n",
    "\n",
    "3. Word level granularity – Provides information about individual words without using broader context analysis. Provides you with each word and its location on the page.\n",
    "\n"
   ]
  },
  {
   "cell_type": "code",
   "execution_count": null,
   "id": "19247c05-ea0f-4417-bc2a-103a14ae968f",
   "metadata": {
    "tags": []
   },
   "outputs": [],
   "source": [
    "# Upload a W2 Form\n",
    "\n",
    "file_name = 'documents/homeowner_insurance_application_sample.pdf'\n",
    "object_name = f'data_automation/input/{file_name}'\n",
    "output_name = 'data_automation/output'\n",
    "s3.upload_file(file_name, bucket_name, object_name)\n",
    "\n",
    "IFrame(file_name, width=1000, height=500)"
   ]
  },
  {
   "cell_type": "markdown",
   "id": "99c97422-b382-41b0-a551-b2fe180b7e39",
   "metadata": {},
   "source": [
    "We will now nvoke the BDA API to process the document image. "
   ]
  },
  {
   "cell_type": "code",
   "execution_count": null,
   "id": "5da199ce-f132-468b-8b73-120f48730c59",
   "metadata": {
    "tags": []
   },
   "outputs": [],
   "source": [
    "response = run_client.invoke_data_automation_async(\n",
    "    inputConfiguration={'s3Uri':  f\"s3://{bucket_name}/{object_name}\"},\n",
    "    outputConfiguration={'s3Uri': f\"s3://{bucket_name}/{output_name}\"},)\n",
    "response\n",
    "\n",
    "invoke_arn = response['invocationArn']"
   ]
  },
  {
   "cell_type": "markdown",
   "id": "3521a515-dacb-4295-ac51-237dca6b1522",
   "metadata": {},
   "source": [
    "The BDA call is asynchronous. We will poll until the operation is complete."
   ]
  },
  {
   "cell_type": "code",
   "execution_count": null,
   "id": "76dceb69-1b17-4f61-9733-b3db9ed3f340",
   "metadata": {
    "tags": []
   },
   "outputs": [],
   "source": [
    "in_progress = True\n",
    "while in_progress:\n",
    "    progress = run_client.get_data_automation_status(invocationArn=invoke_arn)\n",
    "    if progress['status'] == 'InProgress':\n",
    "        print(progress['status'])\n",
    "        sleep(10)\n",
    "    else:\n",
    "        break\n",
    "        \n",
    "print(progress['status'])"
   ]
  },
  {
   "cell_type": "markdown",
   "id": "c7c00a7a-7809-4be7-b895-fa65c854260d",
   "metadata": {},
   "source": [
    "Once the status is 'Success', we will now retrieve the results"
   ]
  },
  {
   "cell_type": "code",
   "execution_count": null,
   "id": "2bd423ca-8604-4539-8790-51af5ce43060",
   "metadata": {
    "tags": []
   },
   "outputs": [],
   "source": [
    "out_loc = progress['outputConfiguration']['s3Uri'].split(\"/job_metadata.json\", 1)[0].split(bucket_name+\"/\")[1]\n",
    "out_loc += \"/0/standard_output/0/result.json\"\n",
    "s3.download_file(bucket_name, out_loc, 'result.json')"
   ]
  },
  {
   "cell_type": "markdown",
   "id": "376eec78-481e-4a96-a96e-af14530b2e85",
   "metadata": {
    "tags": []
   },
   "source": [
    "We will display the JSON of the Standard Output. \\\n",
    "Note the document layout elements: pages and text, along with the sub-types: paragraphs and fooder. "
   ]
  },
  {
   "cell_type": "code",
   "execution_count": null,
   "id": "72af68eb-7dfb-446a-b8fb-6264c63f4b75",
   "metadata": {
    "tags": []
   },
   "outputs": [],
   "source": [
    "data = json.load(open('result.json'))\n",
    "JSON(data, expand=True)"
   ]
  },
  {
   "cell_type": "markdown",
   "id": "f9610c6b-eee7-45f3-8a8d-9fb34472775f",
   "metadata": {},
   "source": [
    "Lets view the markdown representation."
   ]
  },
  {
   "cell_type": "code",
   "execution_count": null,
   "id": "55d48fd4-a859-46a6-bee7-0849b12af50d",
   "metadata": {
    "scrolled": true
   },
   "outputs": [],
   "source": [
    "from IPython.display import Markdown, display\n",
    "\n",
    "pages_md = [page[\"representation\"][\"markdown\"] for page in data['pages']]\n",
    "display(Markdown(pages_md[0]))"
   ]
  },
  {
   "cell_type": "markdown",
   "id": "3aed2fe1-6515-4083-bf35-c6320ccfbf06",
   "metadata": {},
   "source": [
    "# Step 2: Create blueprint and process single document (single document to structured output with blueprint)\n",
    "## Create a custom blueprint for Homeowner Insurance Form\n",
    "\n",
    "Amazon Bedrock Data Automation (BDA) includes several sample blueprints to help you get started with custom output for documents and images. \n",
    "\n",
    "We will next create out own Blueprint for the Homeowners Insurance document. This is a common document seen in a residential loan application. We need just 4 fields from this documment to proceses the loan application. \n",
    "\n",
    "1. The insured's name\n",
    "2. The insurance company name\n",
    "3. The address of the insured property\n",
    "4. The primary email address"
   ]
  },
  {
   "cell_type": "code",
   "execution_count": null,
   "id": "9fd36116-1ab3-4f5e-a8e6-fb9d4e17f025",
   "metadata": {
    "tags": []
   },
   "outputs": [],
   "source": [
    "# Display the Form\n",
    "\n",
    "file_name = 'documents/homeowner_insurance_application_sample.pdf'\n",
    "object_name = f'data_automation/input/{file_name}'\n",
    "output_name = 'data_automation/output'\n",
    "s3.upload_file(file_name, bucket_name, object_name)\n",
    "\n",
    "IFrame(\"documents/homeowner_insurance_application_sample.pdf\", width=1000, height=500)"
   ]
  },
  {
   "cell_type": "code",
   "execution_count": null,
   "id": "f9871bb6-f162-4e26-93cb-6d60146cd8d9",
   "metadata": {},
   "outputs": [],
   "source": [
    "# delete project if it already exists\n",
    "projects_existing = [project for project in client.list_data_automation_projects()[\"projects\"] if project[\"projectName\"] == project_name]\n",
    "if len(projects_existing) >0:\n",
    "    print(f\"Deleting existing project: {projects_existing[0]}\")\n",
    "    client.delete_data_automation_project(projectArn=projects_existing[0][\"projectArn\"])\n",
    "\n",
    "# delete blueprint if it already exists\n",
    "blueprints_existing = [blueprint for blueprint in client.list_blueprints()[\"blueprints\"] if blueprint[\"blueprintName\"] == blueprint_name]\n",
    "if len(blueprints_existing) >0:\n",
    "    print(f\"Deleting existing blueprint: {blueprints_existing[0]}\")\n",
    "    client.delete_blueprint(blueprintArn=blueprints_existing[0][\"blueprintArn\"])"
   ]
  },
  {
   "cell_type": "code",
   "execution_count": null,
   "id": "3a9c132e-492f-42d8-82aa-6cac6e8e3d0c",
   "metadata": {
    "tags": []
   },
   "outputs": [],
   "source": [
    "response = client.create_blueprint(\n",
    "    blueprintName=blueprint_name,\n",
    "    type='DOCUMENT',\n",
    "    blueprintStage='LIVE',\n",
    "    schema=json.dumps({\n",
    "    \"$schema\": \"http://json-schema.org/draft-07/schema#\",\n",
    "    \"description\": \"This blueprint will process a homeowners insurance applicatation form\",\n",
    "    \"documentClass\": \"default\",\n",
    "    \"type\": \"object\",\n",
    "    \"properties\": {\n",
    "        \"Insured Name\":{\n",
    "           \"type\":\"string\",\n",
    "           \"inferenceType\":\"extractive\",\n",
    "           \"description\":\"Insured's Name\",\n",
    "        },\n",
    "           \"Insurance Company\":{\n",
    "           \"type\":\"string\",\n",
    "           \"inferenceType\":\"extractive\",\n",
    "           \"description\":\"insurance company name\",\n",
    "        },  \n",
    "           \"Insured Address\":{\n",
    "           \"type\":\"string\",\n",
    "           \"inferenceType\":\"extractive\",\n",
    "           \"description\":\"the address of the insured property\",\n",
    "        },\n",
    "           \"Email Address\":{\n",
    "           \"type\":\"string\",\n",
    "           \"inferenceType\":\"extractive\",\n",
    "           \"description\":\"the primary email address\",\n",
    "        }\n",
    "        }\n",
    "    })\n",
    ")\n",
    "JSON(response, expanded=True)"
   ]
  },
  {
   "cell_type": "code",
   "execution_count": null,
   "id": "9cbac6d7",
   "metadata": {
    "scrolled": true,
    "tags": []
   },
   "outputs": [],
   "source": [
    "blueprint_arn = response['blueprint']['blueprintArn']\n",
    "blueprint_arn"
   ]
  },
  {
   "cell_type": "markdown",
   "id": "0db1516f-d721-4338-9c43-3ea56e65c37a",
   "metadata": {},
   "source": [
    "## Use custom blueprint to process a Homeowner Insurance Form"
   ]
  },
  {
   "cell_type": "code",
   "execution_count": null,
   "id": "db323787-1fc8-40e3-ac28-eb564631c441",
   "metadata": {
    "tags": []
   },
   "outputs": [],
   "source": [
    "# Upload the Form\n",
    "\n",
    "file_name = 'documents/homeowner_insurance_application_sample.pdf'\n",
    "object_name = f'data_automation/input/{file_name}'\n",
    "output_name = 'data_automation/output'\n",
    "s3.upload_file(file_name, bucket_name, object_name)\n",
    "\n",
    "IFrame(\"documents/homeowner_insurance_application_sample.pdf\", width=1000, height=500)"
   ]
  },
  {
   "cell_type": "code",
   "execution_count": null,
   "id": "9e51bb89-6208-47e1-9052-791016d978ec",
   "metadata": {
    "tags": []
   },
   "outputs": [],
   "source": [
    "response = run_client.invoke_data_automation_async(\n",
    "    inputConfiguration={'s3Uri':  f\"s3://{bucket_name}/{object_name}\"},\n",
    "    outputConfiguration={'s3Uri': f\"s3://{bucket_name}/{output_name}\"},\n",
    "    blueprints=[{'blueprintArn': blueprint_arn, 'stage': 'LIVE'}])\n",
    "response\n",
    "\n",
    "invoke_arn = response['invocationArn']\n",
    "invoke_arn"
   ]
  },
  {
   "cell_type": "code",
   "execution_count": null,
   "id": "7743fc99-124e-4e25-a6a4-1eb74dc7d7b3",
   "metadata": {
    "tags": []
   },
   "outputs": [],
   "source": [
    "in_progress = True\n",
    "while in_progress:\n",
    "    progress = run_client.get_data_automation_status(invocationArn=invoke_arn)\n",
    "    if progress['status'] == 'InProgress':\n",
    "        print(progress['status'])\n",
    "        sleep(5)\n",
    "    else:\n",
    "        break\n",
    "        \n",
    "print(progress['status'])"
   ]
  },
  {
   "cell_type": "markdown",
   "id": "14db4b59-b8f4-4779-aafa-e597594d964a",
   "metadata": {},
   "source": [
    "## Custom blueprint Results\n",
    "\n",
    "Note the four fields we requested in the blueprint have been returned"
   ]
  },
  {
   "cell_type": "code",
   "execution_count": null,
   "id": "33b1c274-9393-409a-8ca5-277bdee1f4fd",
   "metadata": {
    "tags": []
   },
   "outputs": [],
   "source": [
    "out_loc = progress['outputConfiguration']['s3Uri'].split(\"/job_metadata.json\", 1)[0].split(bucket_name+\"/\")[1]\n",
    "out_loc += \"/0/custom_output/0/result.json\"\n",
    "out_loc"
   ]
  },
  {
   "cell_type": "code",
   "execution_count": null,
   "id": "1175444c-9a30-4f0f-8b0b-825c6ca66a07",
   "metadata": {
    "tags": []
   },
   "outputs": [],
   "source": [
    "s3.download_file(bucket_name, out_loc, 'result.json')"
   ]
  },
  {
   "cell_type": "code",
   "execution_count": null,
   "id": "af845d3e-4dd9-4683-b2f8-7b5eec8c96c5",
   "metadata": {
    "tags": []
   },
   "outputs": [],
   "source": [
    "data = json.load(open('result.json'))\n",
    "print(json.dumps(data['inference_result'], indent=2))\n",
    "\n",
    "#print(json.dumps(data, indent=2))"
   ]
  },
  {
   "cell_type": "markdown",
   "id": "055a14c3",
   "metadata": {},
   "source": [
    "# Step 3: Create automation project and add blueprints\n",
    "\n",
    "### Create automation project for the lending flow\n",
    "\n",
    "To process a lending package we need to be able to support processing of multiple document types.\n",
    "We add our custom blueprints and multiple existing standard blueprints.\n",
    "\n",
    "1. Homeowner Insurance Application (custom)\n",
    "2. Drivers License ID Card\n",
    "3. Bank Statements\n",
    "4. W2 Tax form\n",
    "5. Pay Stubs\n",
    "6. A Check\n"
   ]
  },
  {
   "cell_type": "markdown",
   "id": "e0048923-9756-4f50-9a27-f2808928722f",
   "metadata": {},
   "source": [
    "Lets define the output format of the standard output using standard output configuration for BDA.\n",
    "\n",
    "Document Reference: https://docs.aws.amazon.com/bedrock/latest/userguide/bda-how-it-works.html"
   ]
  },
  {
   "cell_type": "code",
   "execution_count": null,
   "id": "dbdcc545-3e38-4992-a76c-4f173f9a52bd",
   "metadata": {
    "tags": []
   },
   "outputs": [],
   "source": [
    "output_config =  {\n",
    "  \"document\": {\n",
    "    \"extraction\": {\n",
    "      \"granularity\": {\n",
    "        \"types\": [\n",
    "          \"PAGE\",\n",
    "          \"ELEMENT\"\n",
    "        ]\n",
    "      },\n",
    "      \"boundingBox\": {\n",
    "        \"state\": \"ENABLED\"\n",
    "      }\n",
    "    },\n",
    "    \"generativeField\": {\n",
    "      \"state\": \"ENABLED\"               \n",
    "    },\n",
    "    \"outputFormat\": {\n",
    "      \"textFormat\": {\n",
    "        \"types\": ['PLAIN_TEXT','MARKDOWN','HTML','CSV']\n",
    "      },\n",
    "      \"additionalFileFormat\": {\n",
    "        \"state\": \"DISABLED\"\n",
    "      }\n",
    "    }\n",
    "  },\n",
    "  \"image\": {\n",
    "    \"extraction\": {\n",
    "      \"category\": {\n",
    "        \"state\": \"ENABLED\",\n",
    "        \"types\": [\n",
    "          \"TEXT_DETECTION\"\n",
    "        ]\n",
    "      },\n",
    "      \"boundingBox\": {\n",
    "        \"state\": \"ENABLED\"\n",
    "      }\n",
    "    },\n",
    "    \"generativeField\": {\n",
    "      \"state\": \"ENABLED\",\n",
    "      \"types\": [\n",
    "        \"IMAGE_SUMMARY\"\n",
    "      ]\n",
    "    }\n",
    "  },\n",
    "  \"video\": {\n",
    "    \"extraction\": {\n",
    "      \"category\": {\n",
    "        \"state\": \"ENABLED\",\n",
    "        \"types\": [\n",
    "          \"TEXT_DETECTION\"\n",
    "        ]\n",
    "      },\n",
    "      \"boundingBox\": {\n",
    "        \"state\": \"ENABLED\"\n",
    "      }\n",
    "    },\n",
    "    \"generativeField\": {\n",
    "      \"state\": \"ENABLED\",\n",
    "      \"types\": [\n",
    "        \"VIDEO_SUMMARY\",\n",
    "        \"SCENE_SUMMARY\"\n",
    "      ]\n",
    "    }\n",
    "  },\n",
    "  \"audio\": {\n",
    "    \"extraction\": {\n",
    "      \"category\": {\n",
    "        \"state\": \"ENABLED\",\n",
    "        \"types\": [\n",
    "          \"TRANSCRIPT\"\n",
    "        ]\n",
    "      }\n",
    "    },\n",
    "    \"generativeField\": {\n",
    "      \"state\": \"ENABLED\",\n",
    "      \"types\": [\"IAB\"]\n",
    "    }\n",
    "  }\n",
    "}\n",
    "\n",
    "JSON(output_config)"
   ]
  },
  {
   "cell_type": "code",
   "execution_count": null,
   "id": "02ae46ee-505c-4b30-b1c1-f9d15e273e1e",
   "metadata": {
    "tags": []
   },
   "outputs": [],
   "source": [
    "response = client.create_data_automation_project(\n",
    "    projectName=project_name,\n",
    "    projectDescription=\"Workbook to process Lending Applictions\",\n",
    "    projectStage='LIVE',\n",
    "    standardOutputConfiguration=output_config,\n",
    ")\n",
    "\n",
    "print(response)\n",
    "\n",
    "project_arn = response['projectArn']\n",
    "JSON(response, expanded=True)"
   ]
  },
  {
   "cell_type": "markdown",
   "id": "a3700527-a701-476a-9ea8-67eac762f4a7",
   "metadata": {},
   "source": [
    "### Add lending blueprints to automaton project\n",
    "\n",
    "Our project will need blueprints needed to processess a loan applicaiton. We will add the W2 Tax Form blueprint we just created, as well as standard blueprints for these documents:\n",
    "\n",
    "1. Drivers License ID Card \n",
    "2. Bank Statements \n",
    "3. Pay Stubs \n",
    "4. A Check \n",
    "\n",
    "We will also add the Homeowner Insurance Appliction we created in step 3\n"
   ]
  },
  {
   "cell_type": "code",
   "execution_count": null,
   "id": "68877c16-f5b3-45f6-b629-6ce87d70a731",
   "metadata": {},
   "outputs": [],
   "source": [
    "print(blueprint_arn)"
   ]
  },
  {
   "cell_type": "code",
   "execution_count": null,
   "id": "b450c137-d707-4c42-91fd-ba718ab3dd55",
   "metadata": {
    "tags": []
   },
   "outputs": [],
   "source": [
    "update_response = client.update_data_automation_project(\n",
    "    projectArn=project_arn,\n",
    "    standardOutputConfiguration=output_config,\n",
    "    customOutputConfiguration={\n",
    "        'blueprints': [\n",
    "            {\n",
    "                'blueprintArn': blueprint_arn, # our custom blueprint\n",
    "                'blueprintStage': 'LIVE'\n",
    "            },\n",
    "             {\n",
    "                 'blueprintArn': 'arn:aws:bedrock:us-west-2:aws:blueprint/bedrock-data-automation-public-us-driver-license',\n",
    "                  'blueprintStage': 'LIVE'\n",
    "             },\n",
    "             {\n",
    "                 'blueprintArn': 'arn:aws:bedrock:us-west-2:aws:blueprint/bedrock-data-automation-public-us-bank-check',\n",
    "                  'blueprintStage': 'LIVE'\n",
    "             },\n",
    "             {\n",
    "                 'blueprintArn': 'arn:aws:bedrock:us-west-2:aws:blueprint/bedrock-data-automation-public-payslip',\n",
    "                 'blueprintStage': 'LIVE'\n",
    "             },\n",
    "             {\n",
    "                 'blueprintArn': 'arn:aws:bedrock:us-west-2:aws:blueprint/bedrock-data-automation-public-bank-statement',\n",
    "                  'blueprintStage': 'LIVE'\n",
    "             },\n",
    "        ]\n",
    "    },\n",
    "  )\n",
    "\n",
    "project_arn = response['projectArn']\n"
   ]
  },
  {
   "cell_type": "markdown",
   "id": "5e72201e",
   "metadata": {},
   "source": [
    "### List the blueprints for the automation project"
   ]
  },
  {
   "cell_type": "code",
   "execution_count": null,
   "id": "1c3b6e3f",
   "metadata": {
    "tags": []
   },
   "outputs": [],
   "source": [
    "JSON(client.list_blueprints(projectFilter={'projectArn': project_arn}), expanded=True)"
   ]
  },
  {
   "cell_type": "code",
   "execution_count": null,
   "id": "d0145145",
   "metadata": {
    "tags": []
   },
   "outputs": [],
   "source": [
    "JSON(client.get_data_automation_project(projectArn=project_arn), expanded=False)"
   ]
  },
  {
   "cell_type": "markdown",
   "id": "fa75e784-849b-491f-b01e-e9a0723c3733",
   "metadata": {},
   "source": [
    "## Activate document splitting for multi page documents"
   ]
  },
  {
   "cell_type": "code",
   "execution_count": null,
   "id": "fa6ae989-f155-4378-a42b-165459f3abde",
   "metadata": {
    "tags": []
   },
   "outputs": [],
   "source": [
    "\n",
    "\n",
    "print(f\"Activating document splitting for project: {project_name}, {project_arn}\")\n",
    "\n",
    "\n",
    "project = client.get_data_automation_project(projectArn=project_arn)[\"project\"]\n",
    "\n",
    "# Update project configuration\n",
    "update_response = client.update_data_automation_project(\n",
    "    projectArn=project_arn,\n",
    "    standardOutputConfiguration=project[\"standardOutputConfiguration\"],\n",
    "    customOutputConfiguration={\n",
    "        'blueprints': [\n",
    "            {\n",
    "                'blueprintArn': blueprint_arn,\n",
    "                'blueprintStage': 'LIVE'\n",
    "            },\n",
    "            {\n",
    "                'blueprintArn': 'arn:aws:bedrock:us-west-2:aws:blueprint/bedrock-data-automation-public-w2-form',\n",
    "                'blueprintStage': 'LIVE'\n",
    "            },\n",
    "             {\n",
    "                 'blueprintArn': 'arn:aws:bedrock:us-west-2:aws:blueprint/bedrock-data-automation-public-us-driver-license',\n",
    "                  'blueprintStage': 'LIVE'\n",
    "             },\n",
    "             {\n",
    "                 'blueprintArn': 'arn:aws:bedrock:us-west-2:aws:blueprint/bedrock-data-automation-public-us-bank-check',\n",
    "                  'blueprintStage': 'LIVE'\n",
    "             },\n",
    "             {\n",
    "                 'blueprintArn': 'arn:aws:bedrock:us-west-2:aws:blueprint/bedrock-data-automation-public-payslip',\n",
    "                 'blueprintStage': 'LIVE'\n",
    "             },\n",
    "             {\n",
    "                 'blueprintArn': 'arn:aws:bedrock:us-west-2:aws:blueprint/bedrock-data-automation-public-bank-statement',\n",
    "                  'blueprintStage': 'LIVE'\n",
    "             },\n",
    "        ]\n",
    "    },\n",
    "    overrideConfiguration={'document': {'splitter': {'state': 'ENABLED'}}})\n",
    "\n",
    "# Get updated project configuration\n",
    "updated_project = client.get_data_automation_project(projectArn=project_arn)\n",
    "\n",
    "print(\"\\nUpdated override configuration of project:\")\n",
    "JSON(updated_project)\n"
   ]
  },
  {
   "cell_type": "code",
   "execution_count": null,
   "id": "a7241060-d6ad-428f-a03a-95c871df7d43",
   "metadata": {},
   "outputs": [],
   "source": [
    "##\n",
    "## Upload a package of documents to an S3\n",
    "##\n",
    "file_name = 'documents/lending_package.pdf'\n",
    "object_name = f'data_automation/input/{file_name}'\n",
    "output_name = 'data_automation/output'\n",
    "s3.upload_file(file_name, bucket_name, object_name)\n",
    "\n",
    "IFrame(\"documents/lending_package.pdf\", width=1000, height=500)"
   ]
  },
  {
   "cell_type": "code",
   "execution_count": null,
   "id": "9bb19b94-a858-4907-aee6-3594e019d85f",
   "metadata": {},
   "outputs": [],
   "source": [
    "# Process the document package\n",
    "response = run_client.invoke_data_automation_async(\n",
    "    dataAutomationConfiguration = { \"dataAutomationArn\" : project_arn,\"stage\" : 'LIVE'},\n",
    "    inputConfiguration={'s3Uri':  f\"s3://{bucket_name}/{object_name}\"},\n",
    "    outputConfiguration={'s3Uri': f\"s3://{bucket_name}/{output_name}\"},\n",
    ")\n",
    "\n",
    "response\n",
    "\n",
    "\n",
    "invoke_arn = response['invocationArn']\n",
    "invoke_arn\n"
   ]
  },
  {
   "cell_type": "code",
   "execution_count": null,
   "id": "6daea4c3-cd4c-49d1-b6dd-e13af550a5f0",
   "metadata": {},
   "outputs": [],
   "source": [
    "in_progress = True\n",
    "\n",
    "while in_progress:\n",
    "    progress = run_client.get_data_automation_status(invocationArn=invoke_arn)\n",
    "    if progress['status'] == 'InProgress':\n",
    "        print(progress['status'])\n",
    "        sleep(10)\n",
    "    else:\n",
    "        break\n",
    "        \n",
    "print(progress['status'])"
   ]
  },
  {
   "cell_type": "markdown",
   "id": "cf2c333b-52dc-454d-94a0-80d9a8bbb669",
   "metadata": {
    "tags": []
   },
   "source": [
    "## Show multi blueprints and multi page results"
   ]
  },
  {
   "cell_type": "markdown",
   "id": "8d5e4587-3fe2-4be4-a809-4a0adb0d2cfc",
   "metadata": {},
   "source": [
    "BDA will automatically split the documents based and return the detected blueprints as well as the requested structured output for each blueprint.\n",
    "Lets visualize these results by showing the first page of each detected blueprint and the inference results."
   ]
  },
  {
   "cell_type": "code",
   "execution_count": null,
   "id": "b2b2f43d-099a-469c-9cb8-bebc0f11f9ac",
   "metadata": {},
   "outputs": [],
   "source": []
  },
  {
   "cell_type": "code",
   "execution_count": null,
   "id": "bf3f31a9-f34d-4574-897f-cde82b71a774",
   "metadata": {
    "tags": []
   },
   "outputs": [],
   "source": [
    "#import os\n",
    "#import sys\n",
    "#sys.path.append(os.path.abspath('..'))\n",
    "import pypdfium2 as pdfium\n",
    "import ipywidgets as widgets\n",
    "from utils.helpers import get_s3_to_dict, display_image_jsons\n",
    "\n",
    "doc = pdfium.PdfDocument(file_name)\n",
    "pages_pil = [page.render(scale=1.53).to_pil() for page in doc]\n",
    "\n",
    "# get the job_metadata\n",
    "job_json_obj = get_s3_to_dict(s3,progress['outputConfiguration']['s3Uri'])\n",
    "results_meta = job_json_obj[\"output_metadata\"][0][\"segment_metadata\"]\n",
    "\n",
    "# put the results together and show with first page side by side\n",
    "results_all = []\n",
    "for result in results_meta:\n",
    "    standard_output_obj = get_s3_to_dict(s3,result[\"standard_output_path\"])\n",
    "    custom_output_obj = get_s3_to_dict(s3,result[\"custom_output_path\"])\n",
    "    pages = custom_output_obj[\"split_document\"][\"page_indices\"]\n",
    "    w = display_image_jsons(pages_pil[pages[0]], [custom_output_obj['matched_blueprint'],custom_output_obj['inference_result']],[\"Matched Blueprint\", \"Inference Result\"])\n",
    "    results_all.append(w)    \n",
    "\n",
    "widgets.VBox(results_all)\n"
   ]
  },
  {
   "cell_type": "markdown",
   "id": "1750e3d0-f7c5-4eba-981e-f9b545093159",
   "metadata": {},
   "source": [
    "# Conclusion\n",
    "\n",
    "We learned how to use BDA to extract structured outputs from complex documents by\n",
    "* creating a custom blueprint with JSON schema and matched it against a specific document.\n",
    "* creating a project with multiple blueprints and automatically split, classify and match the requested information from blueprints\n"
   ]
  },
  {
   "cell_type": "markdown",
   "id": "9e59aeea-4042-44bb-a33d-efb4bd4bee7b",
   "metadata": {},
   "source": [
    "# Cleanup\n",
    "\n",
    "This step is needed before we run through the workbook a second time. "
   ]
  },
  {
   "cell_type": "code",
   "execution_count": null,
   "id": "68959be4-05dc-4c0b-8132-8f92cbb34737",
   "metadata": {},
   "outputs": [],
   "source": [
    "# Delete the project\n",
    "response = client.delete_data_automation_project(projectArn=project_arn)\n",
    "\n",
    "# Delete the blueprint\n",
    "response = client.delete_blueprint(blueprintArn=blueprint_arn)"
   ]
  },
  {
   "cell_type": "code",
   "execution_count": null,
   "id": "cee52576-1e6a-4ec7-a90b-eae73b947bd3",
   "metadata": {},
   "outputs": [],
   "source": []
  }
 ],
 "metadata": {
  "availableInstances": [
   {
    "_defaultOrder": 0,
    "_isFastLaunch": true,
    "category": "General purpose",
    "gpuNum": 0,
    "hideHardwareSpecs": false,
    "memoryGiB": 4,
    "name": "ml.t3.medium",
    "vcpuNum": 2
   },
   {
    "_defaultOrder": 1,
    "_isFastLaunch": false,
    "category": "General purpose",
    "gpuNum": 0,
    "hideHardwareSpecs": false,
    "memoryGiB": 8,
    "name": "ml.t3.large",
    "vcpuNum": 2
   },
   {
    "_defaultOrder": 2,
    "_isFastLaunch": false,
    "category": "General purpose",
    "gpuNum": 0,
    "hideHardwareSpecs": false,
    "memoryGiB": 16,
    "name": "ml.t3.xlarge",
    "vcpuNum": 4
   },
   {
    "_defaultOrder": 3,
    "_isFastLaunch": false,
    "category": "General purpose",
    "gpuNum": 0,
    "hideHardwareSpecs": false,
    "memoryGiB": 32,
    "name": "ml.t3.2xlarge",
    "vcpuNum": 8
   },
   {
    "_defaultOrder": 4,
    "_isFastLaunch": true,
    "category": "General purpose",
    "gpuNum": 0,
    "hideHardwareSpecs": false,
    "memoryGiB": 8,
    "name": "ml.m5.large",
    "vcpuNum": 2
   },
   {
    "_defaultOrder": 5,
    "_isFastLaunch": false,
    "category": "General purpose",
    "gpuNum": 0,
    "hideHardwareSpecs": false,
    "memoryGiB": 16,
    "name": "ml.m5.xlarge",
    "vcpuNum": 4
   },
   {
    "_defaultOrder": 6,
    "_isFastLaunch": false,
    "category": "General purpose",
    "gpuNum": 0,
    "hideHardwareSpecs": false,
    "memoryGiB": 32,
    "name": "ml.m5.2xlarge",
    "vcpuNum": 8
   },
   {
    "_defaultOrder": 7,
    "_isFastLaunch": false,
    "category": "General purpose",
    "gpuNum": 0,
    "hideHardwareSpecs": false,
    "memoryGiB": 64,
    "name": "ml.m5.4xlarge",
    "vcpuNum": 16
   },
   {
    "_defaultOrder": 8,
    "_isFastLaunch": false,
    "category": "General purpose",
    "gpuNum": 0,
    "hideHardwareSpecs": false,
    "memoryGiB": 128,
    "name": "ml.m5.8xlarge",
    "vcpuNum": 32
   },
   {
    "_defaultOrder": 9,
    "_isFastLaunch": false,
    "category": "General purpose",
    "gpuNum": 0,
    "hideHardwareSpecs": false,
    "memoryGiB": 192,
    "name": "ml.m5.12xlarge",
    "vcpuNum": 48
   },
   {
    "_defaultOrder": 10,
    "_isFastLaunch": false,
    "category": "General purpose",
    "gpuNum": 0,
    "hideHardwareSpecs": false,
    "memoryGiB": 256,
    "name": "ml.m5.16xlarge",
    "vcpuNum": 64
   },
   {
    "_defaultOrder": 11,
    "_isFastLaunch": false,
    "category": "General purpose",
    "gpuNum": 0,
    "hideHardwareSpecs": false,
    "memoryGiB": 384,
    "name": "ml.m5.24xlarge",
    "vcpuNum": 96
   },
   {
    "_defaultOrder": 12,
    "_isFastLaunch": false,
    "category": "General purpose",
    "gpuNum": 0,
    "hideHardwareSpecs": false,
    "memoryGiB": 8,
    "name": "ml.m5d.large",
    "vcpuNum": 2
   },
   {
    "_defaultOrder": 13,
    "_isFastLaunch": false,
    "category": "General purpose",
    "gpuNum": 0,
    "hideHardwareSpecs": false,
    "memoryGiB": 16,
    "name": "ml.m5d.xlarge",
    "vcpuNum": 4
   },
   {
    "_defaultOrder": 14,
    "_isFastLaunch": false,
    "category": "General purpose",
    "gpuNum": 0,
    "hideHardwareSpecs": false,
    "memoryGiB": 32,
    "name": "ml.m5d.2xlarge",
    "vcpuNum": 8
   },
   {
    "_defaultOrder": 15,
    "_isFastLaunch": false,
    "category": "General purpose",
    "gpuNum": 0,
    "hideHardwareSpecs": false,
    "memoryGiB": 64,
    "name": "ml.m5d.4xlarge",
    "vcpuNum": 16
   },
   {
    "_defaultOrder": 16,
    "_isFastLaunch": false,
    "category": "General purpose",
    "gpuNum": 0,
    "hideHardwareSpecs": false,
    "memoryGiB": 128,
    "name": "ml.m5d.8xlarge",
    "vcpuNum": 32
   },
   {
    "_defaultOrder": 17,
    "_isFastLaunch": false,
    "category": "General purpose",
    "gpuNum": 0,
    "hideHardwareSpecs": false,
    "memoryGiB": 192,
    "name": "ml.m5d.12xlarge",
    "vcpuNum": 48
   },
   {
    "_defaultOrder": 18,
    "_isFastLaunch": false,
    "category": "General purpose",
    "gpuNum": 0,
    "hideHardwareSpecs": false,
    "memoryGiB": 256,
    "name": "ml.m5d.16xlarge",
    "vcpuNum": 64
   },
   {
    "_defaultOrder": 19,
    "_isFastLaunch": false,
    "category": "General purpose",
    "gpuNum": 0,
    "hideHardwareSpecs": false,
    "memoryGiB": 384,
    "name": "ml.m5d.24xlarge",
    "vcpuNum": 96
   },
   {
    "_defaultOrder": 20,
    "_isFastLaunch": false,
    "category": "General purpose",
    "gpuNum": 0,
    "hideHardwareSpecs": true,
    "memoryGiB": 0,
    "name": "ml.geospatial.interactive",
    "supportedImageNames": [
     "sagemaker-geospatial-v1-0"
    ],
    "vcpuNum": 0
   },
   {
    "_defaultOrder": 21,
    "_isFastLaunch": true,
    "category": "Compute optimized",
    "gpuNum": 0,
    "hideHardwareSpecs": false,
    "memoryGiB": 4,
    "name": "ml.c5.large",
    "vcpuNum": 2
   },
   {
    "_defaultOrder": 22,
    "_isFastLaunch": false,
    "category": "Compute optimized",
    "gpuNum": 0,
    "hideHardwareSpecs": false,
    "memoryGiB": 8,
    "name": "ml.c5.xlarge",
    "vcpuNum": 4
   },
   {
    "_defaultOrder": 23,
    "_isFastLaunch": false,
    "category": "Compute optimized",
    "gpuNum": 0,
    "hideHardwareSpecs": false,
    "memoryGiB": 16,
    "name": "ml.c5.2xlarge",
    "vcpuNum": 8
   },
   {
    "_defaultOrder": 24,
    "_isFastLaunch": false,
    "category": "Compute optimized",
    "gpuNum": 0,
    "hideHardwareSpecs": false,
    "memoryGiB": 32,
    "name": "ml.c5.4xlarge",
    "vcpuNum": 16
   },
   {
    "_defaultOrder": 25,
    "_isFastLaunch": false,
    "category": "Compute optimized",
    "gpuNum": 0,
    "hideHardwareSpecs": false,
    "memoryGiB": 72,
    "name": "ml.c5.9xlarge",
    "vcpuNum": 36
   },
   {
    "_defaultOrder": 26,
    "_isFastLaunch": false,
    "category": "Compute optimized",
    "gpuNum": 0,
    "hideHardwareSpecs": false,
    "memoryGiB": 96,
    "name": "ml.c5.12xlarge",
    "vcpuNum": 48
   },
   {
    "_defaultOrder": 27,
    "_isFastLaunch": false,
    "category": "Compute optimized",
    "gpuNum": 0,
    "hideHardwareSpecs": false,
    "memoryGiB": 144,
    "name": "ml.c5.18xlarge",
    "vcpuNum": 72
   },
   {
    "_defaultOrder": 28,
    "_isFastLaunch": false,
    "category": "Compute optimized",
    "gpuNum": 0,
    "hideHardwareSpecs": false,
    "memoryGiB": 192,
    "name": "ml.c5.24xlarge",
    "vcpuNum": 96
   },
   {
    "_defaultOrder": 29,
    "_isFastLaunch": true,
    "category": "Accelerated computing",
    "gpuNum": 1,
    "hideHardwareSpecs": false,
    "memoryGiB": 16,
    "name": "ml.g4dn.xlarge",
    "vcpuNum": 4
   },
   {
    "_defaultOrder": 30,
    "_isFastLaunch": false,
    "category": "Accelerated computing",
    "gpuNum": 1,
    "hideHardwareSpecs": false,
    "memoryGiB": 32,
    "name": "ml.g4dn.2xlarge",
    "vcpuNum": 8
   },
   {
    "_defaultOrder": 31,
    "_isFastLaunch": false,
    "category": "Accelerated computing",
    "gpuNum": 1,
    "hideHardwareSpecs": false,
    "memoryGiB": 64,
    "name": "ml.g4dn.4xlarge",
    "vcpuNum": 16
   },
   {
    "_defaultOrder": 32,
    "_isFastLaunch": false,
    "category": "Accelerated computing",
    "gpuNum": 1,
    "hideHardwareSpecs": false,
    "memoryGiB": 128,
    "name": "ml.g4dn.8xlarge",
    "vcpuNum": 32
   },
   {
    "_defaultOrder": 33,
    "_isFastLaunch": false,
    "category": "Accelerated computing",
    "gpuNum": 4,
    "hideHardwareSpecs": false,
    "memoryGiB": 192,
    "name": "ml.g4dn.12xlarge",
    "vcpuNum": 48
   },
   {
    "_defaultOrder": 34,
    "_isFastLaunch": false,
    "category": "Accelerated computing",
    "gpuNum": 1,
    "hideHardwareSpecs": false,
    "memoryGiB": 256,
    "name": "ml.g4dn.16xlarge",
    "vcpuNum": 64
   },
   {
    "_defaultOrder": 35,
    "_isFastLaunch": false,
    "category": "Accelerated computing",
    "gpuNum": 1,
    "hideHardwareSpecs": false,
    "memoryGiB": 61,
    "name": "ml.p3.2xlarge",
    "vcpuNum": 8
   },
   {
    "_defaultOrder": 36,
    "_isFastLaunch": false,
    "category": "Accelerated computing",
    "gpuNum": 4,
    "hideHardwareSpecs": false,
    "memoryGiB": 244,
    "name": "ml.p3.8xlarge",
    "vcpuNum": 32
   },
   {
    "_defaultOrder": 37,
    "_isFastLaunch": false,
    "category": "Accelerated computing",
    "gpuNum": 8,
    "hideHardwareSpecs": false,
    "memoryGiB": 488,
    "name": "ml.p3.16xlarge",
    "vcpuNum": 64
   },
   {
    "_defaultOrder": 38,
    "_isFastLaunch": false,
    "category": "Accelerated computing",
    "gpuNum": 8,
    "hideHardwareSpecs": false,
    "memoryGiB": 768,
    "name": "ml.p3dn.24xlarge",
    "vcpuNum": 96
   },
   {
    "_defaultOrder": 39,
    "_isFastLaunch": false,
    "category": "Memory Optimized",
    "gpuNum": 0,
    "hideHardwareSpecs": false,
    "memoryGiB": 16,
    "name": "ml.r5.large",
    "vcpuNum": 2
   },
   {
    "_defaultOrder": 40,
    "_isFastLaunch": false,
    "category": "Memory Optimized",
    "gpuNum": 0,
    "hideHardwareSpecs": false,
    "memoryGiB": 32,
    "name": "ml.r5.xlarge",
    "vcpuNum": 4
   },
   {
    "_defaultOrder": 41,
    "_isFastLaunch": false,
    "category": "Memory Optimized",
    "gpuNum": 0,
    "hideHardwareSpecs": false,
    "memoryGiB": 64,
    "name": "ml.r5.2xlarge",
    "vcpuNum": 8
   },
   {
    "_defaultOrder": 42,
    "_isFastLaunch": false,
    "category": "Memory Optimized",
    "gpuNum": 0,
    "hideHardwareSpecs": false,
    "memoryGiB": 128,
    "name": "ml.r5.4xlarge",
    "vcpuNum": 16
   },
   {
    "_defaultOrder": 43,
    "_isFastLaunch": false,
    "category": "Memory Optimized",
    "gpuNum": 0,
    "hideHardwareSpecs": false,
    "memoryGiB": 256,
    "name": "ml.r5.8xlarge",
    "vcpuNum": 32
   },
   {
    "_defaultOrder": 44,
    "_isFastLaunch": false,
    "category": "Memory Optimized",
    "gpuNum": 0,
    "hideHardwareSpecs": false,
    "memoryGiB": 384,
    "name": "ml.r5.12xlarge",
    "vcpuNum": 48
   },
   {
    "_defaultOrder": 45,
    "_isFastLaunch": false,
    "category": "Memory Optimized",
    "gpuNum": 0,
    "hideHardwareSpecs": false,
    "memoryGiB": 512,
    "name": "ml.r5.16xlarge",
    "vcpuNum": 64
   },
   {
    "_defaultOrder": 46,
    "_isFastLaunch": false,
    "category": "Memory Optimized",
    "gpuNum": 0,
    "hideHardwareSpecs": false,
    "memoryGiB": 768,
    "name": "ml.r5.24xlarge",
    "vcpuNum": 96
   },
   {
    "_defaultOrder": 47,
    "_isFastLaunch": false,
    "category": "Accelerated computing",
    "gpuNum": 1,
    "hideHardwareSpecs": false,
    "memoryGiB": 16,
    "name": "ml.g5.xlarge",
    "vcpuNum": 4
   },
   {
    "_defaultOrder": 48,
    "_isFastLaunch": false,
    "category": "Accelerated computing",
    "gpuNum": 1,
    "hideHardwareSpecs": false,
    "memoryGiB": 32,
    "name": "ml.g5.2xlarge",
    "vcpuNum": 8
   },
   {
    "_defaultOrder": 49,
    "_isFastLaunch": false,
    "category": "Accelerated computing",
    "gpuNum": 1,
    "hideHardwareSpecs": false,
    "memoryGiB": 64,
    "name": "ml.g5.4xlarge",
    "vcpuNum": 16
   },
   {
    "_defaultOrder": 50,
    "_isFastLaunch": false,
    "category": "Accelerated computing",
    "gpuNum": 1,
    "hideHardwareSpecs": false,
    "memoryGiB": 128,
    "name": "ml.g5.8xlarge",
    "vcpuNum": 32
   },
   {
    "_defaultOrder": 51,
    "_isFastLaunch": false,
    "category": "Accelerated computing",
    "gpuNum": 1,
    "hideHardwareSpecs": false,
    "memoryGiB": 256,
    "name": "ml.g5.16xlarge",
    "vcpuNum": 64
   },
   {
    "_defaultOrder": 52,
    "_isFastLaunch": false,
    "category": "Accelerated computing",
    "gpuNum": 4,
    "hideHardwareSpecs": false,
    "memoryGiB": 192,
    "name": "ml.g5.12xlarge",
    "vcpuNum": 48
   },
   {
    "_defaultOrder": 53,
    "_isFastLaunch": false,
    "category": "Accelerated computing",
    "gpuNum": 4,
    "hideHardwareSpecs": false,
    "memoryGiB": 384,
    "name": "ml.g5.24xlarge",
    "vcpuNum": 96
   },
   {
    "_defaultOrder": 54,
    "_isFastLaunch": false,
    "category": "Accelerated computing",
    "gpuNum": 8,
    "hideHardwareSpecs": false,
    "memoryGiB": 768,
    "name": "ml.g5.48xlarge",
    "vcpuNum": 192
   },
   {
    "_defaultOrder": 55,
    "_isFastLaunch": false,
    "category": "Accelerated computing",
    "gpuNum": 8,
    "hideHardwareSpecs": false,
    "memoryGiB": 1152,
    "name": "ml.p4d.24xlarge",
    "vcpuNum": 96
   },
   {
    "_defaultOrder": 56,
    "_isFastLaunch": false,
    "category": "Accelerated computing",
    "gpuNum": 8,
    "hideHardwareSpecs": false,
    "memoryGiB": 1152,
    "name": "ml.p4de.24xlarge",
    "vcpuNum": 96
   },
   {
    "_defaultOrder": 57,
    "_isFastLaunch": false,
    "category": "Accelerated computing",
    "gpuNum": 0,
    "hideHardwareSpecs": false,
    "memoryGiB": 32,
    "name": "ml.trn1.2xlarge",
    "vcpuNum": 8
   },
   {
    "_defaultOrder": 58,
    "_isFastLaunch": false,
    "category": "Accelerated computing",
    "gpuNum": 0,
    "hideHardwareSpecs": false,
    "memoryGiB": 512,
    "name": "ml.trn1.32xlarge",
    "vcpuNum": 128
   },
   {
    "_defaultOrder": 59,
    "_isFastLaunch": false,
    "category": "Accelerated computing",
    "gpuNum": 0,
    "hideHardwareSpecs": false,
    "memoryGiB": 512,
    "name": "ml.trn1n.32xlarge",
    "vcpuNum": 128
   }
  ],
  "instance_type": "ml.t3.medium",
  "kernelspec": {
   "display_name": "Python 3 (ipykernel)",
   "language": "python",
   "name": "python3"
  },
  "language_info": {
   "codemirror_mode": {
    "name": "ipython",
    "version": 3
   },
   "file_extension": ".py",
   "mimetype": "text/x-python",
   "name": "python",
   "nbconvert_exporter": "python",
   "pygments_lexer": "ipython3",
   "version": "3.10.14"
  }
 },
 "nbformat": 4,
 "nbformat_minor": 5
}
